{
 "cells": [
  {
   "cell_type": "code",
   "execution_count": 1,
   "metadata": {
    "scrolled": true
   },
   "outputs": [
    {
     "name": "stdout",
     "output_type": "stream",
     "text": [
      "shape train --> (13730, 167) \t shape test --> (4570, 43)\n"
     ]
    }
   ],
   "source": [
    "import pandas as pd\n",
    "\n",
    "from importlib.machinery import SourceFileLoader\n",
    "from sklearn.pipeline import Pipeline\n",
    "import seaborn as sns\n",
    "import matplotlib.pyplot as plt\n",
    "import numpy as np\n",
    "\n",
    "DI = SourceFileLoader(\"DI\", \"src/DI.py\").load_module()\n",
    "\n",
    "Handler = DI.Handler.Handler()\n",
    "Graph = DI.Graph.Graph()\n",
    "AlgoML = DI.AlgoML.AlgoML()\n",
    "Refine = DI.Refine.Refine()\n",
    "\n",
    "_data_train = pd.read_csv(\"/home/agl/codenation/20200606_DS_codenationModule9/1.Original/train.csv\")\n",
    "_data_test = pd.read_csv(\"/home/agl/codenation/20200606_DS_codenationModule9/1.Original/test.csv\")\n",
    "\n",
    "print(f\"shape train --> {_data_train.shape} \\t shape test --> {_data_test.shape}\")"
   ]
  },
  {
   "cell_type": "code",
   "execution_count": 70,
   "metadata": {
    "scrolled": true
   },
   "outputs": [
    {
     "data": {
      "text/plain": [
       "NU_INSCRICAO                   object\n",
       "NO_MUNICIPIO_RESIDENCIA        object\n",
       "SG_UF_RESIDENCIA               object\n",
       "TP_SEXO                        object\n",
       "NO_MUNICIPIO_NASCIMENTO        object\n",
       "SG_UF_NASCIMENTO               object\n",
       "NO_MUNICIPIO_ESC               object\n",
       "SG_UF_ESC                      object\n",
       "NO_ENTIDADE_CERTIFICACAO       object\n",
       "SG_UF_ENTIDADE_CERTIFICACAO    object\n",
       "NO_MUNICIPIO_PROVA             object\n",
       "SG_UF_PROVA                    object\n",
       "CO_PROVA_CN                    object\n",
       "CO_PROVA_CH                    object\n",
       "CO_PROVA_LC                    object\n",
       "CO_PROVA_MT                    object\n",
       "TX_RESPOSTAS_CN                object\n",
       "TX_RESPOSTAS_CH                object\n",
       "TX_RESPOSTAS_LC                object\n",
       "TX_RESPOSTAS_MT                object\n",
       "TX_GABARITO_CN                 object\n",
       "TX_GABARITO_CH                 object\n",
       "TX_GABARITO_LC                 object\n",
       "TX_GABARITO_MT                 object\n",
       "Q001                           object\n",
       "Q002                           object\n",
       "Q003                           object\n",
       "Q004                           object\n",
       "Q006                           object\n",
       "Q007                           object\n",
       "Q008                           object\n",
       "Q009                           object\n",
       "Q010                           object\n",
       "Q011                           object\n",
       "Q012                           object\n",
       "Q013                           object\n",
       "Q014                           object\n",
       "Q015                           object\n",
       "Q016                           object\n",
       "Q017                           object\n",
       "Q018                           object\n",
       "Q019                           object\n",
       "Q020                           object\n",
       "Q021                           object\n",
       "Q022                           object\n",
       "Q023                           object\n",
       "Q024                           object\n",
       "Q025                           object\n",
       "Q026                           object\n",
       "Q027                           object\n",
       "Q028                           object\n",
       "Q042                           object\n",
       "Q043                           object\n",
       "Q044                           object\n",
       "Q045                           object\n",
       "Q046                           object\n",
       "Q047                           object\n",
       "Q048                           object\n",
       "Q049                           object\n",
       "Q050                           object\n",
       "dtype: object"
      ]
     },
     "execution_count": 70,
     "metadata": {},
     "output_type": "execute_result"
    }
   ],
   "source": [
    "#who are our object into dataframe? should us care about them?\n",
    "_data_train.dtypes[_data_train.dtypes == \"object\"]"
   ]
  },
  {
   "cell_type": "code",
   "execution_count": 2,
   "metadata": {},
   "outputs": [
    {
     "data": {
      "text/plain": [
       "NU_IDADE          -0.295091\n",
       "TP_ST_CONCLUSAO    0.533983\n",
       "TP_ANO_CONCLUIU   -0.257710\n",
       "TP_ESCOLA         -0.244562\n",
       "IN_TREINEIRO       1.000000\n",
       "Name: IN_TREINEIRO, dtype: float64"
      ]
     },
     "execution_count": 2,
     "metadata": {},
     "output_type": "execute_result"
    }
   ],
   "source": [
    "corr_mat = _data_train.corr()[\"IN_TREINEIRO\"]\n",
    "columns_corr_mat = corr_mat[(corr_mat > 0.4) | (corr_mat < -0.2)]\n",
    "columns_corr_mat"
   ]
  },
  {
   "cell_type": "code",
   "execution_count": 3,
   "metadata": {},
   "outputs": [
    {
     "data": {
      "text/plain": [
       "{'NU_IDADE', 'TP_ANO_CONCLUIU', 'TP_ESCOLA', 'TP_ST_CONCLUSAO'}"
      ]
     },
     "execution_count": 3,
     "metadata": {},
     "output_type": "execute_result"
    }
   ],
   "source": [
    "#see which of columns above also are on dataset of test\n",
    "names_columns_corr_mat = columns_corr_mat.index\n",
    "\n",
    "set(names_columns_corr_mat).intersection(set(_data_test.columns))"
   ]
  },
  {
   "cell_type": "code",
   "execution_count": 4,
   "metadata": {
    "scrolled": true
   },
   "outputs": [
    {
     "data": {
      "text/plain": [
       "NU_IDADE           0\n",
       "TP_ST_CONCLUSAO    0\n",
       "TP_ANO_CONCLUIU    0\n",
       "TP_ESCOLA          0\n",
       "IN_TREINEIRO       0\n",
       "dtype: int64"
      ]
     },
     "execution_count": 4,
     "metadata": {},
     "output_type": "execute_result"
    }
   ],
   "source": [
    "_data_train[names_columns_corr_mat].isna().sum()"
   ]
  },
  {
   "cell_type": "code",
   "execution_count": 13,
   "metadata": {},
   "outputs": [
    {
     "data": {
      "text/plain": [
       "NU_IDADE           int64\n",
       "TP_ST_CONCLUSAO    int64\n",
       "TP_ANO_CONCLUIU    int64\n",
       "TP_ESCOLA          int64\n",
       "IN_TREINEIRO       int64\n",
       "dtype: object"
      ]
     },
     "execution_count": 13,
     "metadata": {},
     "output_type": "execute_result"
    }
   ],
   "source": [
    "_data_train[names_columns_corr_mat].dtypes"
   ]
  },
  {
   "cell_type": "code",
   "execution_count": 20,
   "metadata": {
    "scrolled": true
   },
   "outputs": [
    {
     "name": "stdout",
     "output_type": "stream",
     "text": [
      "The useful variable are: \n",
      "\n",
      "['TP_ANO_CONCLUIU', 'TP_ST_CONCLUSAO', 'TP_ESCOLA', 'NU_IDADE']\n"
     ]
    }
   ],
   "source": [
    "set_train = set(_data_train[names_columns_corr_mat])\n",
    "#4 is the index of IN_TREINEIRO, which we can assume that not should is on data test\n",
    "set_test = set(_data_test[names_columns_corr_mat.delete(4)])\n",
    "\n",
    "features = list(set_train.intersection(set_test))\n",
    "\n",
    "print(f\"The useful variable are: \\n\\n{features}\")"
   ]
  },
  {
   "cell_type": "code",
   "execution_count": 21,
   "metadata": {
    "scrolled": true
   },
   "outputs": [
    {
     "data": {
      "text/plain": [
       "<matplotlib.axes._subplots.AxesSubplot at 0x7fe8cd988b90>"
      ]
     },
     "execution_count": 21,
     "metadata": {},
     "output_type": "execute_result"
    },
    {
     "data": {
      "image/png": "[encoded data removed]",
      "text/plain": [
       "<Figure size 864x576 with 2 Axes>"
      ]
     },
     "metadata": {},
     "output_type": "display_data"
    }
   ],
   "source": [
    "heatmap_features = [\"IN_TREINEIRO\"] + features\n",
    "plt.subplots(figsize=(12, 8))\n",
    "sns.heatmap(_data_train[heatmap_features].corr(), annot=True, cmap=\"Dark2_r\", linewidths=0.5, linecolor=\"Black\")"
   ]
  },
  {
   "cell_type": "code",
   "execution_count": 22,
   "metadata": {},
   "outputs": [
    {
     "data": {
      "text/html": [
       "<div>\n",
       "<style scoped>\n",
       "    .dataframe tbody tr th:only-of-type {\n",
       "        vertical-align: middle;\n",
       "    }\n",
       "\n",
       "    .dataframe tbody tr th {\n",
       "        vertical-align: top;\n",
       "    }\n",
       "\n",
       "    .dataframe thead th {\n",
       "        text-align: right;\n",
       "    }\n",
       "</style>\n",
       "<table border=\"1\" class=\"dataframe\">\n",
       "  <thead>\n",
       "    <tr style=\"text-align: right;\">\n",
       "      <th></th>\n",
       "      <th>IN_TREINEIRO</th>\n",
       "      <th>TP_ANO_CONCLUIU</th>\n",
       "      <th>TP_ST_CONCLUSAO</th>\n",
       "      <th>TP_ESCOLA</th>\n",
       "      <th>NU_IDADE</th>\n",
       "    </tr>\n",
       "  </thead>\n",
       "  <tbody>\n",
       "    <tr>\n",
       "      <th>count</th>\n",
       "      <td>13730.000000</td>\n",
       "      <td>13730.000000</td>\n",
       "      <td>13730.000000</td>\n",
       "      <td>13730.000000</td>\n",
       "      <td>13730.000000</td>\n",
       "    </tr>\n",
       "    <tr>\n",
       "      <th>mean</th>\n",
       "      <td>0.129862</td>\n",
       "      <td>2.146176</td>\n",
       "      <td>1.782666</td>\n",
       "      <td>1.353532</td>\n",
       "      <td>21.593809</td>\n",
       "    </tr>\n",
       "    <tr>\n",
       "      <th>std</th>\n",
       "      <td>0.336163</td>\n",
       "      <td>3.217328</td>\n",
       "      <td>0.880734</td>\n",
       "      <td>0.558472</td>\n",
       "      <td>7.043654</td>\n",
       "    </tr>\n",
       "    <tr>\n",
       "      <th>min</th>\n",
       "      <td>0.000000</td>\n",
       "      <td>0.000000</td>\n",
       "      <td>1.000000</td>\n",
       "      <td>1.000000</td>\n",
       "      <td>13.000000</td>\n",
       "    </tr>\n",
       "    <tr>\n",
       "      <th>25%</th>\n",
       "      <td>0.000000</td>\n",
       "      <td>0.000000</td>\n",
       "      <td>1.000000</td>\n",
       "      <td>1.000000</td>\n",
       "      <td>17.000000</td>\n",
       "    </tr>\n",
       "    <tr>\n",
       "      <th>50%</th>\n",
       "      <td>0.000000</td>\n",
       "      <td>0.000000</td>\n",
       "      <td>2.000000</td>\n",
       "      <td>1.000000</td>\n",
       "      <td>19.000000</td>\n",
       "    </tr>\n",
       "    <tr>\n",
       "      <th>75%</th>\n",
       "      <td>0.000000</td>\n",
       "      <td>3.000000</td>\n",
       "      <td>2.000000</td>\n",
       "      <td>2.000000</td>\n",
       "      <td>23.000000</td>\n",
       "    </tr>\n",
       "    <tr>\n",
       "      <th>max</th>\n",
       "      <td>1.000000</td>\n",
       "      <td>10.000000</td>\n",
       "      <td>4.000000</td>\n",
       "      <td>4.000000</td>\n",
       "      <td>67.000000</td>\n",
       "    </tr>\n",
       "  </tbody>\n",
       "</table>\n",
       "</div>"
      ],
      "text/plain": [
       "       IN_TREINEIRO  TP_ANO_CONCLUIU  TP_ST_CONCLUSAO     TP_ESCOLA  \\\n",
       "count  13730.000000     13730.000000     13730.000000  13730.000000   \n",
       "mean       0.129862         2.146176         1.782666      1.353532   \n",
       "std        0.336163         3.217328         0.880734      0.558472   \n",
       "min        0.000000         0.000000         1.000000      1.000000   \n",
       "25%        0.000000         0.000000         1.000000      1.000000   \n",
       "50%        0.000000         0.000000         2.000000      1.000000   \n",
       "75%        0.000000         3.000000         2.000000      2.000000   \n",
       "max        1.000000        10.000000         4.000000      4.000000   \n",
       "\n",
       "           NU_IDADE  \n",
       "count  13730.000000  \n",
       "mean      21.593809  \n",
       "std        7.043654  \n",
       "min       13.000000  \n",
       "25%       17.000000  \n",
       "50%       19.000000  \n",
       "75%       23.000000  \n",
       "max       67.000000  "
      ]
     },
     "execution_count": 22,
     "metadata": {},
     "output_type": "execute_result"
    }
   ],
   "source": [
    "_data_train[heatmap_features].describe()\n",
    "#std of NU_NOTA_REDACAO is the biggest, maybe could be a good option discretize it in quantile?"
   ]
  },
  {
   "cell_type": "code",
   "execution_count": 26,
   "metadata": {},
   "outputs": [
    {
     "data": {
      "text/html": [
       "<div>\n",
       "<style scoped>\n",
       "    .dataframe tbody tr th:only-of-type {\n",
       "        vertical-align: middle;\n",
       "    }\n",
       "\n",
       "    .dataframe tbody tr th {\n",
       "        vertical-align: top;\n",
       "    }\n",
       "\n",
       "    .dataframe thead th {\n",
       "        text-align: right;\n",
       "    }\n",
       "</style>\n",
       "<table border=\"1\" class=\"dataframe\">\n",
       "  <thead>\n",
       "    <tr style=\"text-align: right;\">\n",
       "      <th></th>\n",
       "      <th>IN_TREINEIRO</th>\n",
       "      <th>TP_ANO_CONCLUIU</th>\n",
       "      <th>TP_ST_CONCLUSAO</th>\n",
       "      <th>TP_ESCOLA</th>\n",
       "      <th>NU_IDADE</th>\n",
       "    </tr>\n",
       "  </thead>\n",
       "  <tbody>\n",
       "    <tr>\n",
       "      <th>0</th>\n",
       "      <td>0</td>\n",
       "      <td>4</td>\n",
       "      <td>1</td>\n",
       "      <td>1</td>\n",
       "      <td>24</td>\n",
       "    </tr>\n",
       "    <tr>\n",
       "      <th>1</th>\n",
       "      <td>0</td>\n",
       "      <td>0</td>\n",
       "      <td>2</td>\n",
       "      <td>2</td>\n",
       "      <td>17</td>\n",
       "    </tr>\n",
       "    <tr>\n",
       "      <th>2</th>\n",
       "      <td>0</td>\n",
       "      <td>0</td>\n",
       "      <td>3</td>\n",
       "      <td>1</td>\n",
       "      <td>21</td>\n",
       "    </tr>\n",
       "    <tr>\n",
       "      <th>3</th>\n",
       "      <td>0</td>\n",
       "      <td>9</td>\n",
       "      <td>1</td>\n",
       "      <td>1</td>\n",
       "      <td>25</td>\n",
       "    </tr>\n",
       "    <tr>\n",
       "      <th>4</th>\n",
       "      <td>0</td>\n",
       "      <td>4</td>\n",
       "      <td>1</td>\n",
       "      <td>1</td>\n",
       "      <td>28</td>\n",
       "    </tr>\n",
       "    <tr>\n",
       "      <th>5</th>\n",
       "      <td>0</td>\n",
       "      <td>1</td>\n",
       "      <td>1</td>\n",
       "      <td>1</td>\n",
       "      <td>18</td>\n",
       "    </tr>\n",
       "  </tbody>\n",
       "</table>\n",
       "</div>"
      ],
      "text/plain": [
       "   IN_TREINEIRO  TP_ANO_CONCLUIU  TP_ST_CONCLUSAO  TP_ESCOLA  NU_IDADE\n",
       "0             0                4                1          1        24\n",
       "1             0                0                2          2        17\n",
       "2             0                0                3          1        21\n",
       "3             0                9                1          1        25\n",
       "4             0                4                1          1        28\n",
       "5             0                1                1          1        18"
      ]
     },
     "execution_count": 26,
     "metadata": {},
     "output_type": "execute_result"
    }
   ],
   "source": [
    "dth = _data_train[heatmap_features]\n",
    "dth.head(6)"
   ]
  },
  {
   "cell_type": "markdown",
   "metadata": {},
   "source": [
    "# DICT\n",
    "\n",
    "### TP_ST_CONCLUSAO\n",
    "\n",
    "1\tJá concluí o Ensino Médio\n",
    "\n",
    "2\tEstou cursando e concluirei o Ensino Médio em 2016\n",
    "\n",
    "3\tEstou cursando e concluirei o Ensino Médio após 2016\n",
    "\n",
    "4\tNão concluí e não estou cursando o Ensino Médio\n",
    "\n",
    "### TP_ANO_CONCLUIU\n",
    "\n",
    "0\tNão informado\n",
    "\n",
    "1\t2015\n",
    "\n",
    "2\t2014\n",
    "\n",
    "3\t2013\n",
    "\n",
    "4\t2012\n",
    "\n",
    "5\t2011\n",
    "\n",
    "6\t2010\n",
    "\n",
    "7\t2009\n",
    "\n",
    "8\t2008\n",
    "\n",
    "9\t2007\n",
    "\n",
    "10\tAnterior a 2007\n",
    "\n",
    "### TP_ESCOLA\n",
    "\n",
    "1\tNão Respondeu\n",
    "\n",
    "2\tPública\n",
    "\n",
    "3\tPrivada\n",
    "\n",
    "4\tExterior"
   ]
  },
  {
   "cell_type": "code",
   "execution_count": 31,
   "metadata": {},
   "outputs": [
    {
     "data": {
      "text/plain": [
       "array([1, 2, 3, 4])"
      ]
     },
     "execution_count": 31,
     "metadata": {},
     "output_type": "execute_result"
    }
   ],
   "source": [
    "dth[\"TP_ESCOLA\"].unique()"
   ]
  },
  {
   "cell_type": "code",
   "execution_count": 25,
   "metadata": {
    "scrolled": false
   },
   "outputs": [
    {
     "name": "stdout",
     "output_type": "stream",
     "text": [
      "PCA 90% obtido features_imputed: \n",
      " 1\n",
      " RFE de 7 features:\n",
      "['TP_ANO_CONCLUIU', 'TP_ST_CONCLUSAO', 'TP_ESCOLA', 'NU_IDADE']\n",
      "\n",
      "PCA 90% features_standard: \n",
      " 4\n",
      " RFE de 10 features:\n",
      "['TP_ANO_CONCLUIU', 'TP_ST_CONCLUSAO', 'TP_ESCOLA', 'NU_IDADE']\n",
      "\n",
      "PCA 90% features_normalized: \n",
      " 3\n",
      " RFE de 10 features:\n",
      "['TP_ANO_CONCLUIU', 'TP_ST_CONCLUSAO', 'TP_ESCOLA', 'NU_IDADE']\n"
     ]
    }
   ],
   "source": [
    "train_imputed = _data_train[heatmap_features]\n",
    "train_imputed = pd.DataFrame(Refine.imputer_na(train_imputed, \"median\"), columns=train_imputed.columns)\n",
    "\n",
    "train_imputed_standard = Refine.standardize(train_imputed).transform(train_imputed)\n",
    "train_imputed_standard = pd.DataFrame(train_imputed_standard, columns=train_imputed.columns)\n",
    "\n",
    "train_imputed_normalized = Refine.normalize(train_imputed).transform(train_imputed)\n",
    "train_imputed_normalized = pd.DataFrame(train_imputed_normalized, columns=train_imputed.columns)\n",
    "\n",
    "features_rfe = Handler.RFE(train_imputed, \"IN_TREINEIRO\", 7)\n",
    "print(f\"PCA 90% obtido features_imputed: \\n {Handler.PCA(train_imputed, 0.90)}\\n RFE de 7 features:\\n{features_rfe[0][0:]}\")\n",
    "\n",
    "features_standard_rfe = Handler.RFE(train_imputed_standard, \"IN_TREINEIRO\", 10)\n",
    "print(f\"\\nPCA 90% features_standard: \\n {Handler.PCA(train_imputed_standard, 0.90)}\\n RFE de 10 features:\\n{features_standard_rfe[0][0:]}\")\n",
    "\n",
    "features_normalized_rfe = Handler.RFE(train_imputed_normalized, \"IN_TREINEIRO\", 10)\n",
    "print(f\"\\nPCA 90% features_normalized: \\n {Handler.PCA(train_imputed_normalized, 0.90)}\\n RFE de 10 features:\\n{features_normalized_rfe[0][0:]}\")"
   ]
  }
 ],
 "metadata": {
  "kernelspec": {
   "display_name": "Python 3",
   "language": "python",
   "name": "python3"
  },
  "language_info": {
   "codemirror_mode": {
    "name": "ipython",
    "version": 3
   },
   "file_extension": ".py",
   "mimetype": "text/x-python",
   "name": "python",
   "nbconvert_exporter": "python",
   "pygments_lexer": "ipython3",
   "version": "3.7.5"
  }
 },
 "nbformat": 4,
 "nbformat_minor": 2
}
