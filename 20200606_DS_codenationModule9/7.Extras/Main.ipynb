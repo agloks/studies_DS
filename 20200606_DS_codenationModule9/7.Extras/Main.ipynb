{
 "cells": [
  {
   "cell_type": "code",
   "execution_count": 23,
   "metadata": {},
   "outputs": [],
   "source": [
    "import pandas as pd\n",
    "import numpy as np\n",
    "\n",
    "from importlib.machinery import SourceFileLoader\n",
    "from sklearn.pipeline import Pipeline\n",
    "from sklearn.model_selection import GridSearchCV\n",
    "\n",
    "DI = SourceFileLoader(\"DI\", \"src/DI.py\").load_module()\n",
    "\n",
    "Handler = DI.Handler.Handler()\n",
    "Graph = DI.Graph.Graph()\n",
    "AlgoML = DI.AlgoML.AlgoML()\n",
    "Refine = DI.Refine.Refine()\n",
    "Metrics = DI.Metrics.Metrics()\n",
    "\n",
    "_data_train = pd.read_csv(\"/home/agl/codenation/20200606_DS_codenationModule9/1.Original/train.csv\")\n",
    "_data_test = pd.read_csv(\"/home/agl/codenation/20200606_DS_codenationModule9/1.Original/test.csv\")"
   ]
  },
  {
   "cell_type": "code",
   "execution_count": 18,
   "metadata": {},
   "outputs": [],
   "source": [
    "features = [\n",
    "    'NU_IDADE',\n",
    "    'TP_ST_CONCLUSAO',\n",
    "    'TP_ANO_CONCLUIU',\n",
    "    'TP_ESCOLA',\n",
    "]\n",
    "\n",
    "target = \"IN_TREINEIRO\""
   ]
  },
  {
   "cell_type": "code",
   "execution_count": 19,
   "metadata": {},
   "outputs": [],
   "source": [
    "#get colums of inscribeds of data test and save\n",
    "inscribeds_column_all = _data_test[\"NU_INSCRICAO\"]\n",
    "\n",
    "#data test cleaned\n",
    "test = _data_test[features + [\"NU_INSCRICAO\"]].dropna()\n",
    "\n",
    "#get colums of inscribeds of data test without null and save\n",
    "inscribeds_column_cleaned = test[\"NU_INSCRICAO\"]\n",
    "\n",
    "#Remove NU_INSCRICAO of data test because not is more necessary and must to have only the features for our model\n",
    "test = test.drop(columns=\"NU_INSCRICAO\")"
   ]
  },
  {
   "cell_type": "code",
   "execution_count": 20,
   "metadata": {},
   "outputs": [],
   "source": [
    "#get our data train and separate it\n",
    "train = _data_train[features + [target]].dropna()\n",
    "train_target = train[target]\n",
    "train.drop(columns=target, inplace=True)\n",
    "\n",
    "#obj with x_train, y_train, x_test, y_test randomized\n",
    "obj_train = Handler.create_test_from_train(train, train_target, 0.517, 80)"
   ]
  },
  {
   "cell_type": "code",
   "execution_count": 21,
   "metadata": {},
   "outputs": [],
   "source": [
    "#Standard data for train of obj_train\n",
    "scaler = Refine.standardize(obj_train[\"x_train\"])\n",
    "\n",
    "#Transform the indepedents variable into obj_train\n",
    "obj_train[\"x_train\"] = scaler.transform(obj_train[\"x_train\"])\n",
    "obj_train[\"x_test\"] = scaler.transform(obj_train[\"x_test\"])\n",
    "\n",
    "#Transform also our official test data\n",
    "test = scaler.transform(test)"
   ]
  },
  {
   "cell_type": "code",
   "execution_count": 24,
   "metadata": {},
   "outputs": [
    {
     "name": "stdout",
     "output_type": "stream",
     "text": [
      "              precision    recall  f1-score   support\n",
      "\n",
      "           0       1.00      1.00      1.00      6147\n",
      "           1       1.00      0.98      0.99       952\n",
      "\n",
      "    accuracy                           1.00      7099\n",
      "   macro avg       1.00      0.99      0.99      7099\n",
      "weighted avg       1.00      1.00      1.00      7099\n",
      "\n",
      "\n",
      "        ----------------------------------------------------------------------\n",
      "          True Negatives = 6147             |    False Positives = 0\n",
      "          False Negatives = 23            |    True Positives = 929\n",
      "        ----------------------------------------------------------------------\n",
      "            \n",
      "roc_auc_score = 0.9879201680672269\n"
     ]
    }
   ],
   "source": [
    "#Result metrics\n",
    "ml = AlgoML.neighborsClassifier(obj_data=obj_train)\n",
    "\n",
    "Metrics.calculate_classification(obj_train[\"y_test\"], ml.predict(obj_train[\"x_test\"]))"
   ]
  },
  {
   "cell_type": "code",
   "execution_count": 15,
   "metadata": {},
   "outputs": [],
   "source": [
    "#Now predict\n",
    "y_test_pred = ml.predict(test)"
   ]
  },
  {
   "cell_type": "code",
   "execution_count": 16,
   "metadata": {},
   "outputs": [
    {
     "data": {
      "text/html": [
       "<div>\n",
       "<style scoped>\n",
       "    .dataframe tbody tr th:only-of-type {\n",
       "        vertical-align: middle;\n",
       "    }\n",
       "\n",
       "    .dataframe tbody tr th {\n",
       "        vertical-align: top;\n",
       "    }\n",
       "\n",
       "    .dataframe thead th {\n",
       "        text-align: right;\n",
       "    }\n",
       "</style>\n",
       "<table border=\"1\" class=\"dataframe\">\n",
       "  <thead>\n",
       "    <tr style=\"text-align: right;\">\n",
       "      <th></th>\n",
       "      <th>NU_INSCRICAO</th>\n",
       "      <th>IN_TREINEIRO</th>\n",
       "    </tr>\n",
       "  </thead>\n",
       "  <tbody>\n",
       "    <tr>\n",
       "      <th>0</th>\n",
       "      <td>ba0cc30ba34e7a46764c09dfc38ed83d15828897</td>\n",
       "      <td>0</td>\n",
       "    </tr>\n",
       "    <tr>\n",
       "      <th>1</th>\n",
       "      <td>177f281c68fa032aedbd842a745da68490926cd2</td>\n",
       "      <td>0</td>\n",
       "    </tr>\n",
       "    <tr>\n",
       "      <th>2</th>\n",
       "      <td>6cf0d8b97597d7625cdedc7bdb6c0f052286c334</td>\n",
       "      <td>1</td>\n",
       "    </tr>\n",
       "    <tr>\n",
       "      <th>3</th>\n",
       "      <td>5c356d810fa57671402502cd0933e5601a2ebf1e</td>\n",
       "      <td>0</td>\n",
       "    </tr>\n",
       "    <tr>\n",
       "      <th>4</th>\n",
       "      <td>df47c07bd881c2db3f38c6048bf77c132ad0ceb3</td>\n",
       "      <td>0</td>\n",
       "    </tr>\n",
       "    <tr>\n",
       "      <th>5</th>\n",
       "      <td>3f28749fb79fb059caf5aed79625a5addfd7a91a</td>\n",
       "      <td>0</td>\n",
       "    </tr>\n",
       "  </tbody>\n",
       "</table>\n",
       "</div>"
      ],
      "text/plain": [
       "                               NU_INSCRICAO  IN_TREINEIRO\n",
       "0  ba0cc30ba34e7a46764c09dfc38ed83d15828897             0\n",
       "1  177f281c68fa032aedbd842a745da68490926cd2             0\n",
       "2  6cf0d8b97597d7625cdedc7bdb6c0f052286c334             1\n",
       "3  5c356d810fa57671402502cd0933e5601a2ebf1e             0\n",
       "4  df47c07bd881c2db3f38c6048bf77c132ad0ceb3             0\n",
       "5  3f28749fb79fb059caf5aed79625a5addfd7a91a             0"
      ]
     },
     "execution_count": 16,
     "metadata": {},
     "output_type": "execute_result"
    }
   ],
   "source": [
    "#And merge with the others null\n",
    "column_predicted = pd.DataFrame(inscribeds_column_cleaned.copy())\n",
    "column_predicted[target] = np.around(y_test_pred, 1)\n",
    "\n",
    "answer = pd.merge(pd.DataFrame(inscribeds_column_all), column_predicted,\n",
    "             on=\"NU_INSCRICAO\", how=\"outer\", right_index=True)\n",
    "\n",
    "answer.head(6)"
   ]
  },
  {
   "cell_type": "code",
   "execution_count": 17,
   "metadata": {},
   "outputs": [
    {
     "data": {
      "text/plain": [
       "True"
      ]
     },
     "execution_count": 17,
     "metadata": {},
     "output_type": "execute_result"
    }
   ],
   "source": [
    "#To confirm if have tha same number null between answer and our columns cleaned\n",
    "_s031k = (inscribeds_column_all.shape)[0] - (inscribeds_column_cleaned.shape)[0]\n",
    "\n",
    "answer.isna().sum()[target] == _s031k"
   ]
  },
  {
   "cell_type": "code",
   "execution_count": 20,
   "metadata": {},
   "outputs": [],
   "source": [
    "#Finally save it :)\n",
    "answer.to_csv(\"/home/agl/codenation/20200606_DS_codenationModule9/3.Deploy/codenationModule9.csv\", index=False)"
   ]
  }
 ],
 "metadata": {
  "kernelspec": {
   "display_name": "Python 3",
   "language": "python",
   "name": "python3"
  },
  "language_info": {
   "codemirror_mode": {
    "name": "ipython",
    "version": 3
   },
   "file_extension": ".py",
   "mimetype": "text/x-python",
   "name": "python",
   "nbconvert_exporter": "python",
   "pygments_lexer": "ipython3",
   "version": "3.7.5"
  }
 },
 "nbformat": 4,
 "nbformat_minor": 2
}
