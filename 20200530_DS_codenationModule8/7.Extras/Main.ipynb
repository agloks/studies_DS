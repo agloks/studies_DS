{
 "cells": [
  {
   "cell_type": "code",
   "execution_count": 80,
   "metadata": {},
   "outputs": [],
   "source": [
    "import pandas as pd\n",
    "import numpy as np\n",
    "\n",
    "from importlib.machinery import SourceFileLoader\n",
    "from sklearn.pipeline import Pipeline\n",
    "from sklearn.model_selection import GridSearchCV\n",
    "\n",
    "DI = SourceFileLoader(\"DI\", \"src/DI.py\").load_module()\n",
    "\n",
    "Handler = DI.Handler.Handler()\n",
    "Graph = DI.Graph.Graph()\n",
    "AlgoML = DI.AlgoML.AlgoML()\n",
    "Refine = DI.Refine.Refine()\n",
    "Metrics = DI.Metrics.Metrics()\n",
    "\n",
    "_data_train = pd.read_csv(\"/home/agl/codenation/20200530_DS_codenationModule8/1.Original/train.csv\")\n",
    "_data_test = pd.read_csv(\"/home/agl/codenation/20200530_DS_codenationModule8/1.Original/test.csv\")"
   ]
  },
  {
   "cell_type": "code",
   "execution_count": 81,
   "metadata": {},
   "outputs": [],
   "source": [
    "features = [\n",
    "    'NU_NOTA_REDACAO',\n",
    "    'NU_NOTA_CN',\n",
    "    'NU_NOTA_LC',\n",
    "    'NU_NOTA_CH',\n",
    "    'NU_NOTA_COMP3',\n",
    "    'NU_NOTA_COMP1',\n",
    "    'NU_NOTA_COMP5',\n",
    "    'TP_STATUS_REDACAO',\n",
    "    'NU_NOTA_COMP4',\n",
    "    'NU_NOTA_COMP2',\n",
    "    'TP_LINGUA' #This feature selected by bias on our analyze give a little better on metrics result\n",
    "]\n",
    "\n",
    "target = \"NU_NOTA_MT\""
   ]
  },
  {
   "cell_type": "code",
   "execution_count": 82,
   "metadata": {},
   "outputs": [],
   "source": [
    "#get colums of inscribeds of data test and save\n",
    "inscribeds_column_all = _data_test[\"NU_INSCRICAO\"]\n",
    "\n",
    "#data test cleaned\n",
    "test = _data_test[features + [\"NU_INSCRICAO\"]].dropna()\n",
    "\n",
    "#get colums of inscribeds of data test without null and save\n",
    "inscribeds_column_cleaned = test[\"NU_INSCRICAO\"]\n",
    "\n",
    "#Remove NU_INSCRICAO of data test because not is more necessary and must to have only the features for our model\n",
    "test = test.drop(columns=\"NU_INSCRICAO\")"
   ]
  },
  {
   "cell_type": "code",
   "execution_count": 83,
   "metadata": {},
   "outputs": [],
   "source": [
    "#get our data train and separate it\n",
    "train = _data_train[features + [target]].dropna()\n",
    "train_target = train[target]\n",
    "train.drop(columns=target, inplace=True)\n",
    "\n",
    "#obj with x_train, y_train, x_test, y_test randomized\n",
    "obj_train = Handler.create_test_from_train(train, train_target, 0.517)"
   ]
  },
  {
   "cell_type": "code",
   "execution_count": 84,
   "metadata": {},
   "outputs": [],
   "source": [
    "#Standard data for train of obj_train\n",
    "scaler = Refine.standardize(obj_train[\"x_train\"])\n",
    "\n",
    "#Transform the indepedents variable into obj_train\n",
    "obj_train[\"x_train\"] = scaler.transform(obj_train[\"x_train\"])\n",
    "obj_train[\"x_test\"] = scaler.transform(obj_train[\"x_test\"])\n",
    "\n",
    "#Transform also our official test data\n",
    "test = scaler.transform(test)"
   ]
  },
  {
   "cell_type": "code",
   "execution_count": 85,
   "metadata": {
    "scrolled": false
   },
   "outputs": [
    {
     "data": {
      "text/plain": [
       "{'criterion': 'mse',\n",
       " 'max_depth': 8,\n",
       " 'max_leaf_nodes': None,\n",
       " 'min_impurity_split': None,\n",
       " 'min_samples_leaf': 1,\n",
       " 'min_samples_split': 2,\n",
       " 'min_weight_fraction_leaf': 0.0,\n",
       " 'n_estimators': 2000,\n",
       " 'n_jobs': -1,\n",
       " 'random_state': 0,\n",
       " 'verbose': 0,\n",
       " 'warm_start': False,\n",
       " 'max_features': 'sqrt',\n",
       " 'bootstrap': True}"
      ]
     },
     "execution_count": 85,
     "metadata": {},
     "output_type": "execute_result"
    }
   ],
   "source": [
    "#Now the moment more cool, AlgoML\n",
    "#First set some configurations that had found in experiments\n",
    "\n",
    "AlgoML.hp_randomForestRegressor[\"max_depth\"] = 8\n",
    "AlgoML.hp_randomForestRegressor[\"max_features\"] = \"sqrt\"\n",
    "# AlgoML.hp_randomForestRegressor[\"min_samples_leaf\"] = 2\n",
    "AlgoML.hp_randomForestRegressor[\"n_estimators\"] = 2000\n",
    "AlgoML.hp_randomForestRegressor[\"bootstrap\"] = True\n",
    "AlgoML.hp_randomForestRegressor"
   ]
  },
  {
   "cell_type": "code",
   "execution_count": 86,
   "metadata": {},
   "outputs": [
    {
     "data": {
      "text/plain": [
       "{'mean_abs_err': 58.939470960780454,\n",
       " 'mean_sqr_err': 5611.779419368704,\n",
       " 'r_mean_sqr_err': 74.91181094706431}"
      ]
     },
     "execution_count": 86,
     "metadata": {},
     "output_type": "execute_result"
    }
   ],
   "source": [
    "#Result metrics\n",
    "ml = AlgoML.randomForestRegressor(obj_data=obj_train)\n",
    "\n",
    "Metrics.calculate_regression(obj_train[\"y_test\"], ml.predict(obj_train[\"x_test\"]))"
   ]
  },
  {
   "cell_type": "code",
   "execution_count": 87,
   "metadata": {},
   "outputs": [],
   "source": [
    "#Now predict\n",
    "y_test_pred = ml.predict(test)"
   ]
  },
  {
   "cell_type": "code",
   "execution_count": 88,
   "metadata": {},
   "outputs": [
    {
     "data": {
      "text/html": [
       "<div>\n",
       "<style scoped>\n",
       "    .dataframe tbody tr th:only-of-type {\n",
       "        vertical-align: middle;\n",
       "    }\n",
       "\n",
       "    .dataframe tbody tr th {\n",
       "        vertical-align: top;\n",
       "    }\n",
       "\n",
       "    .dataframe thead th {\n",
       "        text-align: right;\n",
       "    }\n",
       "</style>\n",
       "<table border=\"1\" class=\"dataframe\">\n",
       "  <thead>\n",
       "    <tr style=\"text-align: right;\">\n",
       "      <th></th>\n",
       "      <th>NU_INSCRICAO</th>\n",
       "      <th>NU_NOTA_MT</th>\n",
       "    </tr>\n",
       "  </thead>\n",
       "  <tbody>\n",
       "    <tr>\n",
       "      <th>0</th>\n",
       "      <td>73ff9fcc02f0a99919906c942c2e1a1042cdcf98</td>\n",
       "      <td>432.7</td>\n",
       "    </tr>\n",
       "    <tr>\n",
       "      <th>1</th>\n",
       "      <td>71a95f9f1b91a82c65ad94abbdf9f54e6066f968</td>\n",
       "      <td>452.1</td>\n",
       "    </tr>\n",
       "    <tr>\n",
       "      <th>2</th>\n",
       "      <td>b38a03232f43b11c9d0788abaf060f7366053b6d</td>\n",
       "      <td>579.1</td>\n",
       "    </tr>\n",
       "    <tr>\n",
       "      <th>3</th>\n",
       "      <td>70b682d9a3636be23f6120fa9d6b164eb3c6002d</td>\n",
       "      <td>NaN</td>\n",
       "    </tr>\n",
       "    <tr>\n",
       "      <th>4</th>\n",
       "      <td>715494628a50142ce8cb17191cfe6d0f3cae0934</td>\n",
       "      <td>509.6</td>\n",
       "    </tr>\n",
       "    <tr>\n",
       "      <th>5</th>\n",
       "      <td>e656d6bad65c93fb2880f1eba5037008c8e75774</td>\n",
       "      <td>465.4</td>\n",
       "    </tr>\n",
       "  </tbody>\n",
       "</table>\n",
       "</div>"
      ],
      "text/plain": [
       "                               NU_INSCRICAO  NU_NOTA_MT\n",
       "0  73ff9fcc02f0a99919906c942c2e1a1042cdcf98       432.7\n",
       "1  71a95f9f1b91a82c65ad94abbdf9f54e6066f968       452.1\n",
       "2  b38a03232f43b11c9d0788abaf060f7366053b6d       579.1\n",
       "3  70b682d9a3636be23f6120fa9d6b164eb3c6002d         NaN\n",
       "4  715494628a50142ce8cb17191cfe6d0f3cae0934       509.6\n",
       "5  e656d6bad65c93fb2880f1eba5037008c8e75774       465.4"
      ]
     },
     "execution_count": 88,
     "metadata": {},
     "output_type": "execute_result"
    }
   ],
   "source": [
    "#And merge with the others null\n",
    "column_predicted = pd.DataFrame(inscribeds_column_cleaned.copy())\n",
    "column_predicted[\"NU_NOTA_MT\"] = np.around(y_test_pred, 1)\n",
    "\n",
    "answer = pd.merge(pd.DataFrame(inscribeds_column_all), column_predicted,\n",
    "             on=\"NU_INSCRICAO\", how=\"outer\", right_index=True)\n",
    "\n",
    "answer.head(6)"
   ]
  },
  {
   "cell_type": "code",
   "execution_count": 89,
   "metadata": {},
   "outputs": [
    {
     "data": {
      "text/plain": [
       "True"
      ]
     },
     "execution_count": 89,
     "metadata": {},
     "output_type": "execute_result"
    }
   ],
   "source": [
    "#To confirm if have tha same number null between answer and our columns cleaned\n",
    "_s031k = (inscribeds_column_all.shape)[0] - (inscribeds_column_cleaned.shape)[0]\n",
    "\n",
    "answer.isna().sum()[\"NU_NOTA_MT\"] == _s031k"
   ]
  },
  {
   "cell_type": "code",
   "execution_count": 90,
   "metadata": {},
   "outputs": [],
   "source": [
    "#Finally save it :)\n",
    "answer.to_csv(\"~/codenation/20200530_DS_codenationModule8/3.Deployed/codenationModule8.csv\", index=False)"
   ]
  }
 ],
 "metadata": {
  "kernelspec": {
   "display_name": "Python 3",
   "language": "python",
   "name": "python3"
  },
  "language_info": {
   "codemirror_mode": {
    "name": "ipython",
    "version": 3
   },
   "file_extension": ".py",
   "mimetype": "text/x-python",
   "name": "python",
   "nbconvert_exporter": "python",
   "pygments_lexer": "ipython3",
   "version": "3.7.5"
  }
 },
 "nbformat": 4,
 "nbformat_minor": 2
}
