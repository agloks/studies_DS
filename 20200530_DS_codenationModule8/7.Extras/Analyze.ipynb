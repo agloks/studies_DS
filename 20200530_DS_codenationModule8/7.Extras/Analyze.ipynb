{
 "cells": [
  {
   "cell_type": "code",
   "execution_count": 6,
   "metadata": {
    "scrolled": true
   },
   "outputs": [
    {
     "name": "stdout",
     "output_type": "stream",
     "text": [
      "shape train --> (13730, 167) \t shape test --> (4576, 47)\n"
     ]
    }
   ],
   "source": [
    "import pandas as pd\n",
    "\n",
    "from importlib.machinery import SourceFileLoader\n",
    "from sklearn.pipeline import Pipeline\n",
    "import seaborn as sns\n",
    "import matplotlib.pyplot as plt\n",
    "import numpy as np\n",
    "\n",
    "DI = SourceFileLoader(\"DI\", \"src/DI.py\").load_module()\n",
    "\n",
    "Handler = DI.Handler.Handler()\n",
    "Graph = DI.Graph.Graph()\n",
    "AlgoML = DI.AlgoML.AlgoML()\n",
    "Refine = DI.Refine.Refine()\n",
    "\n",
    "_data_train = pd.read_csv(\"/home/agl/codenation/20200530_DS_codenationModule8/1.Original/train.csv\")\n",
    "_data_test = pd.read_csv(\"/home/agl/codenation/20200530_DS_codenationModule8/1.Original/test.csv\")\n",
    "\n",
    "print(f\"shape train --> {_data_train.shape} \\t shape test --> {_data_test.shape}\")"
   ]
  },
  {
   "cell_type": "code",
   "execution_count": 92,
   "metadata": {},
   "outputs": [
    {
     "data": {
      "text/html": [
       "<div>\n",
       "<style scoped>\n",
       "    .dataframe tbody tr th:only-of-type {\n",
       "        vertical-align: middle;\n",
       "    }\n",
       "\n",
       "    .dataframe tbody tr th {\n",
       "        vertical-align: top;\n",
       "    }\n",
       "\n",
       "    .dataframe thead th {\n",
       "        text-align: right;\n",
       "    }\n",
       "</style>\n",
       "<table border=\"1\" class=\"dataframe\">\n",
       "  <thead>\n",
       "    <tr style=\"text-align: right;\">\n",
       "      <th></th>\n",
       "      <th>NU_NOTA_MT</th>\n",
       "      <th>NU_NOTA_LC</th>\n",
       "    </tr>\n",
       "  </thead>\n",
       "  <tbody>\n",
       "    <tr>\n",
       "      <th>0</th>\n",
       "      <td>399.4</td>\n",
       "      <td>581.2</td>\n",
       "    </tr>\n",
       "    <tr>\n",
       "      <th>1</th>\n",
       "      <td>459.8</td>\n",
       "      <td>599.0</td>\n",
       "    </tr>\n",
       "    <tr>\n",
       "      <th>2</th>\n",
       "      <td>NaN</td>\n",
       "      <td>NaN</td>\n",
       "    </tr>\n",
       "    <tr>\n",
       "      <th>3</th>\n",
       "      <td>NaN</td>\n",
       "      <td>NaN</td>\n",
       "    </tr>\n",
       "    <tr>\n",
       "      <th>4</th>\n",
       "      <td>NaN</td>\n",
       "      <td>NaN</td>\n",
       "    </tr>\n",
       "    <tr>\n",
       "      <th>5</th>\n",
       "      <td>364.5</td>\n",
       "      <td>410.9</td>\n",
       "    </tr>\n",
       "    <tr>\n",
       "      <th>6</th>\n",
       "      <td>529.2</td>\n",
       "      <td>484.5</td>\n",
       "    </tr>\n",
       "    <tr>\n",
       "      <th>7</th>\n",
       "      <td>566.7</td>\n",
       "      <td>611.2</td>\n",
       "    </tr>\n",
       "    <tr>\n",
       "      <th>8</th>\n",
       "      <td>372.4</td>\n",
       "      <td>521.8</td>\n",
       "    </tr>\n",
       "    <tr>\n",
       "      <th>9</th>\n",
       "      <td>NaN</td>\n",
       "      <td>NaN</td>\n",
       "    </tr>\n",
       "  </tbody>\n",
       "</table>\n",
       "</div>"
      ],
      "text/plain": [
       "   NU_NOTA_MT  NU_NOTA_LC\n",
       "0       399.4       581.2\n",
       "1       459.8       599.0\n",
       "2         NaN         NaN\n",
       "3         NaN         NaN\n",
       "4         NaN         NaN\n",
       "5       364.5       410.9\n",
       "6       529.2       484.5\n",
       "7       566.7       611.2\n",
       "8       372.4       521.8\n",
       "9         NaN         NaN"
      ]
     },
     "execution_count": 92,
     "metadata": {},
     "output_type": "execute_result"
    }
   ],
   "source": [
    "_data_train[[\"NU_NOTA_MT\", \"NU_NOTA_LC\"]].head(10)"
   ]
  },
  {
   "cell_type": "code",
   "execution_count": 70,
   "metadata": {},
   "outputs": [
    {
     "data": {
      "text/plain": [
       "NU_INSCRICAO                   object\n",
       "NO_MUNICIPIO_RESIDENCIA        object\n",
       "SG_UF_RESIDENCIA               object\n",
       "TP_SEXO                        object\n",
       "NO_MUNICIPIO_NASCIMENTO        object\n",
       "SG_UF_NASCIMENTO               object\n",
       "NO_MUNICIPIO_ESC               object\n",
       "SG_UF_ESC                      object\n",
       "NO_ENTIDADE_CERTIFICACAO       object\n",
       "SG_UF_ENTIDADE_CERTIFICACAO    object\n",
       "NO_MUNICIPIO_PROVA             object\n",
       "SG_UF_PROVA                    object\n",
       "CO_PROVA_CN                    object\n",
       "CO_PROVA_CH                    object\n",
       "CO_PROVA_LC                    object\n",
       "CO_PROVA_MT                    object\n",
       "TX_RESPOSTAS_CN                object\n",
       "TX_RESPOSTAS_CH                object\n",
       "TX_RESPOSTAS_LC                object\n",
       "TX_RESPOSTAS_MT                object\n",
       "TX_GABARITO_CN                 object\n",
       "TX_GABARITO_CH                 object\n",
       "TX_GABARITO_LC                 object\n",
       "TX_GABARITO_MT                 object\n",
       "Q001                           object\n",
       "Q002                           object\n",
       "Q003                           object\n",
       "Q004                           object\n",
       "Q006                           object\n",
       "Q007                           object\n",
       "Q008                           object\n",
       "Q009                           object\n",
       "Q010                           object\n",
       "Q011                           object\n",
       "Q012                           object\n",
       "Q013                           object\n",
       "Q014                           object\n",
       "Q015                           object\n",
       "Q016                           object\n",
       "Q017                           object\n",
       "Q018                           object\n",
       "Q019                           object\n",
       "Q020                           object\n",
       "Q021                           object\n",
       "Q022                           object\n",
       "Q023                           object\n",
       "Q024                           object\n",
       "Q025                           object\n",
       "Q026                           object\n",
       "Q027                           object\n",
       "Q028                           object\n",
       "Q042                           object\n",
       "Q043                           object\n",
       "Q044                           object\n",
       "Q045                           object\n",
       "Q046                           object\n",
       "Q047                           object\n",
       "Q048                           object\n",
       "Q049                           object\n",
       "Q050                           object\n",
       "dtype: object"
      ]
     },
     "execution_count": 70,
     "metadata": {},
     "output_type": "execute_result"
    }
   ],
   "source": [
    "#who are our object into dataframe? should us care about them?\n",
    "_data_train.dtypes[_data_train.dtypes == \"object\"]"
   ]
  },
  {
   "cell_type": "code",
   "execution_count": 67,
   "metadata": {},
   "outputs": [
    {
     "data": {
      "text/plain": [
       "NU_NOTA_CN    0.584941\n",
       "NU_NOTA_CH    0.529594\n",
       "NU_NOTA_LC    0.494695\n",
       "NU_NOTA_MT    1.000000\n",
       "TP_LINGUA    -0.201726\n",
       "Q037         -0.265249\n",
       "Q038         -0.202259\n",
       "Name: NU_NOTA_MT, dtype: float64"
      ]
     },
     "execution_count": 67,
     "metadata": {},
     "output_type": "execute_result"
    }
   ],
   "source": [
    "corr_mat = _data_train.corr()[\"NU_NOTA_MT\"]\n",
    "columns_corr_mat = corr_mat[(corr_mat > 0.4) | (corr_mat < -0.2)]\n",
    "columns_corr_mat"
   ]
  },
  {
   "cell_type": "code",
   "execution_count": 64,
   "metadata": {},
   "outputs": [
    {
     "data": {
      "text/plain": [
       "{'NU_NOTA_CH', 'NU_NOTA_CN', 'NU_NOTA_LC', 'TP_LINGUA'}"
      ]
     },
     "execution_count": 64,
     "metadata": {},
     "output_type": "execute_result"
    }
   ],
   "source": [
    "#see which of columns above also are on dataset of test\n",
    "names_columns_corr_mat = columns_corr_mat.index\n",
    "\n",
    "set(names_columns_corr_mat).intersection(set(_data_test.columns))"
   ]
  },
  {
   "cell_type": "code",
   "execution_count": 74,
   "metadata": {},
   "outputs": [
    {
     "data": {
      "text/plain": [
       "0"
      ]
     },
     "execution_count": 74,
     "metadata": {},
     "output_type": "execute_result"
    }
   ],
   "source": [
    "#by bias i gonna add it\n",
    "_data_train[\"TP_LINGUA\"].isna().sum()"
   ]
  },
  {
   "cell_type": "code",
   "execution_count": 76,
   "metadata": {
    "scrolled": true
   },
   "outputs": [
    {
     "name": "stdout",
     "output_type": "stream",
     "text": [
      "The useful variable are: \n",
      "\n",
      "['TP_STATUS_REDACAO', 'NU_NOTA_CH', 'NU_NOTA_COMP2', 'NU_NOTA_COMP4', 'NU_NOTA_CN', 'NU_NOTA_COMP1', 'NU_NOTA_LC', 'NU_NOTA_REDACAO', 'NU_NOTA_COMP3', 'NU_NOTA_COMP5']\n"
     ]
    }
   ],
   "source": [
    "set_train = set(Refine.filter_columns_percent_null(_data_train, 0.3))\n",
    "set_test = set(Refine.filter_columns_percent_null(_data_test, 0.3))\n",
    "\n",
    "features = list(set_train.intersection(set_test))\n",
    "\n",
    "print(f\"The useful variable are: \\n\\n{features}\")"
   ]
  },
  {
   "cell_type": "code",
   "execution_count": 77,
   "metadata": {
    "scrolled": true
   },
   "outputs": [
    {
     "data": {
      "text/plain": [
       "<matplotlib.axes._subplots.AxesSubplot at 0x7fdf8614bb50>"
      ]
     },
     "execution_count": 77,
     "metadata": {},
     "output_type": "execute_result"
    },
    {
     "data": {
      "image/png": "[encoded data removed]",
      "text/plain": [
       "<Figure size 864x576 with 2 Axes>"
      ]
     },
     "metadata": {},
     "output_type": "display_data"
    }
   ],
   "source": [
    "heatmap_features = [\"NU_NOTA_MT\", \"TP_LINGUA\"] + features\n",
    "plt.subplots(figsize=(12, 8))\n",
    "sns.heatmap(_data_train[heatmap_features].corr(), annot=True, cmap=\"Dark2_r\", linewidths=0.5, linecolor=\"Black\")"
   ]
  },
  {
   "cell_type": "code",
   "execution_count": 87,
   "metadata": {},
   "outputs": [
    {
     "data": {
      "text/html": [
       "<div>\n",
       "<style scoped>\n",
       "    .dataframe tbody tr th:only-of-type {\n",
       "        vertical-align: middle;\n",
       "    }\n",
       "\n",
       "    .dataframe tbody tr th {\n",
       "        vertical-align: top;\n",
       "    }\n",
       "\n",
       "    .dataframe thead th {\n",
       "        text-align: right;\n",
       "    }\n",
       "</style>\n",
       "<table border=\"1\" class=\"dataframe\">\n",
       "  <thead>\n",
       "    <tr style=\"text-align: right;\">\n",
       "      <th></th>\n",
       "      <th>NU_NOTA_MT</th>\n",
       "      <th>TP_LINGUA</th>\n",
       "      <th>TP_STATUS_REDACAO</th>\n",
       "      <th>NU_NOTA_CH</th>\n",
       "      <th>NU_NOTA_COMP2</th>\n",
       "      <th>NU_NOTA_COMP4</th>\n",
       "      <th>NU_NOTA_CN</th>\n",
       "      <th>NU_NOTA_COMP1</th>\n",
       "      <th>NU_NOTA_LC</th>\n",
       "      <th>NU_NOTA_REDACAO</th>\n",
       "      <th>NU_NOTA_COMP3</th>\n",
       "      <th>NU_NOTA_COMP5</th>\n",
       "    </tr>\n",
       "  </thead>\n",
       "  <tbody>\n",
       "    <tr>\n",
       "      <th>count</th>\n",
       "      <td>10133.000000</td>\n",
       "      <td>13730.000000</td>\n",
       "      <td>10133.000000</td>\n",
       "      <td>10341.000000</td>\n",
       "      <td>10133.000000</td>\n",
       "      <td>10133.000000</td>\n",
       "      <td>10341.000000</td>\n",
       "      <td>10133.000000</td>\n",
       "      <td>10133.000000</td>\n",
       "      <td>10133.000000</td>\n",
       "      <td>10133.000000</td>\n",
       "      <td>10133.000000</td>\n",
       "    </tr>\n",
       "    <tr>\n",
       "      <th>mean</th>\n",
       "      <td>482.497928</td>\n",
       "      <td>0.593664</td>\n",
       "      <td>1.101747</td>\n",
       "      <td>529.661087</td>\n",
       "      <td>111.915918</td>\n",
       "      <td>113.123951</td>\n",
       "      <td>473.495155</td>\n",
       "      <td>119.811704</td>\n",
       "      <td>516.472841</td>\n",
       "      <td>529.048258</td>\n",
       "      <td>106.824238</td>\n",
       "      <td>77.372446</td>\n",
       "    </tr>\n",
       "    <tr>\n",
       "      <th>std</th>\n",
       "      <td>99.826323</td>\n",
       "      <td>0.491167</td>\n",
       "      <td>0.700100</td>\n",
       "      <td>73.726344</td>\n",
       "      <td>33.737588</td>\n",
       "      <td>33.480033</td>\n",
       "      <td>71.093674</td>\n",
       "      <td>29.846017</td>\n",
       "      <td>68.688190</td>\n",
       "      <td>154.294758</td>\n",
       "      <td>34.341349</td>\n",
       "      <td>43.067140</td>\n",
       "    </tr>\n",
       "    <tr>\n",
       "      <th>min</th>\n",
       "      <td>0.000000</td>\n",
       "      <td>0.000000</td>\n",
       "      <td>1.000000</td>\n",
       "      <td>0.000000</td>\n",
       "      <td>0.000000</td>\n",
       "      <td>0.000000</td>\n",
       "      <td>0.000000</td>\n",
       "      <td>0.000000</td>\n",
       "      <td>0.000000</td>\n",
       "      <td>0.000000</td>\n",
       "      <td>0.000000</td>\n",
       "      <td>0.000000</td>\n",
       "    </tr>\n",
       "    <tr>\n",
       "      <th>25%</th>\n",
       "      <td>408.900000</td>\n",
       "      <td>0.000000</td>\n",
       "      <td>1.000000</td>\n",
       "      <td>480.400000</td>\n",
       "      <td>100.000000</td>\n",
       "      <td>100.000000</td>\n",
       "      <td>419.900000</td>\n",
       "      <td>120.000000</td>\n",
       "      <td>468.100000</td>\n",
       "      <td>440.000000</td>\n",
       "      <td>80.000000</td>\n",
       "      <td>40.000000</td>\n",
       "    </tr>\n",
       "    <tr>\n",
       "      <th>50%</th>\n",
       "      <td>461.200000</td>\n",
       "      <td>1.000000</td>\n",
       "      <td>1.000000</td>\n",
       "      <td>532.000000</td>\n",
       "      <td>120.000000</td>\n",
       "      <td>120.000000</td>\n",
       "      <td>459.800000</td>\n",
       "      <td>120.000000</td>\n",
       "      <td>520.900000</td>\n",
       "      <td>540.000000</td>\n",
       "      <td>120.000000</td>\n",
       "      <td>80.000000</td>\n",
       "    </tr>\n",
       "    <tr>\n",
       "      <th>75%</th>\n",
       "      <td>537.600000</td>\n",
       "      <td>1.000000</td>\n",
       "      <td>1.000000</td>\n",
       "      <td>581.200000</td>\n",
       "      <td>120.000000</td>\n",
       "      <td>120.000000</td>\n",
       "      <td>514.500000</td>\n",
       "      <td>140.000000</td>\n",
       "      <td>564.900000</td>\n",
       "      <td>600.000000</td>\n",
       "      <td>120.000000</td>\n",
       "      <td>100.000000</td>\n",
       "    </tr>\n",
       "    <tr>\n",
       "      <th>max</th>\n",
       "      <td>952.000000</td>\n",
       "      <td>1.000000</td>\n",
       "      <td>9.000000</td>\n",
       "      <td>807.000000</td>\n",
       "      <td>200.000000</td>\n",
       "      <td>200.000000</td>\n",
       "      <td>806.400000</td>\n",
       "      <td>200.000000</td>\n",
       "      <td>763.600000</td>\n",
       "      <td>1000.000000</td>\n",
       "      <td>200.000000</td>\n",
       "      <td>200.000000</td>\n",
       "    </tr>\n",
       "  </tbody>\n",
       "</table>\n",
       "</div>"
      ],
      "text/plain": [
       "         NU_NOTA_MT     TP_LINGUA  TP_STATUS_REDACAO    NU_NOTA_CH  \\\n",
       "count  10133.000000  13730.000000       10133.000000  10341.000000   \n",
       "mean     482.497928      0.593664           1.101747    529.661087   \n",
       "std       99.826323      0.491167           0.700100     73.726344   \n",
       "min        0.000000      0.000000           1.000000      0.000000   \n",
       "25%      408.900000      0.000000           1.000000    480.400000   \n",
       "50%      461.200000      1.000000           1.000000    532.000000   \n",
       "75%      537.600000      1.000000           1.000000    581.200000   \n",
       "max      952.000000      1.000000           9.000000    807.000000   \n",
       "\n",
       "       NU_NOTA_COMP2  NU_NOTA_COMP4    NU_NOTA_CN  NU_NOTA_COMP1  \\\n",
       "count   10133.000000   10133.000000  10341.000000   10133.000000   \n",
       "mean      111.915918     113.123951    473.495155     119.811704   \n",
       "std        33.737588      33.480033     71.093674      29.846017   \n",
       "min         0.000000       0.000000      0.000000       0.000000   \n",
       "25%       100.000000     100.000000    419.900000     120.000000   \n",
       "50%       120.000000     120.000000    459.800000     120.000000   \n",
       "75%       120.000000     120.000000    514.500000     140.000000   \n",
       "max       200.000000     200.000000    806.400000     200.000000   \n",
       "\n",
       "         NU_NOTA_LC  NU_NOTA_REDACAO  NU_NOTA_COMP3  NU_NOTA_COMP5  \n",
       "count  10133.000000     10133.000000   10133.000000   10133.000000  \n",
       "mean     516.472841       529.048258     106.824238      77.372446  \n",
       "std       68.688190       154.294758      34.341349      43.067140  \n",
       "min        0.000000         0.000000       0.000000       0.000000  \n",
       "25%      468.100000       440.000000      80.000000      40.000000  \n",
       "50%      520.900000       540.000000     120.000000      80.000000  \n",
       "75%      564.900000       600.000000     120.000000     100.000000  \n",
       "max      763.600000      1000.000000     200.000000     200.000000  "
      ]
     },
     "execution_count": 87,
     "metadata": {},
     "output_type": "execute_result"
    }
   ],
   "source": [
    "_data_train[heatmap_features].describe()\n",
    "#std of NU_NOTA_REDACAO is the biggest, maybe could be a good option discretize it in quantile?"
   ]
  },
  {
   "cell_type": "code",
   "execution_count": 78,
   "metadata": {
    "scrolled": false
   },
   "outputs": [
    {
     "name": "stdout",
     "output_type": "stream",
     "text": [
      "PCA 90% obtido features_imputed: \n",
      " 3\n",
      " RFE de 7 features:\n",
      "['TP_LINGUA', 'TP_STATUS_REDACAO', 'NU_NOTA_COMP2', 'NU_NOTA_CN', 'NU_NOTA_COMP1', 'NU_NOTA_REDACAO', 'NU_NOTA_COMP3']\n",
      "\n",
      "PCA 90% features_standard: \n",
      " 7\n",
      " RFE de 10 features:\n",
      "['TP_STATUS_REDACAO', 'NU_NOTA_CH', 'NU_NOTA_COMP2', 'NU_NOTA_COMP4', 'NU_NOTA_CN', 'NU_NOTA_COMP1', 'NU_NOTA_LC', 'NU_NOTA_REDACAO', 'NU_NOTA_COMP3', 'NU_NOTA_COMP5']\n",
      "\n",
      "PCA 90% features_normalized: \n",
      " 3\n",
      " RFE de 10 features:\n",
      "['TP_STATUS_REDACAO', 'NU_NOTA_CH', 'NU_NOTA_COMP2', 'NU_NOTA_COMP4', 'NU_NOTA_CN', 'NU_NOTA_COMP1', 'NU_NOTA_LC', 'NU_NOTA_REDACAO', 'NU_NOTA_COMP3', 'NU_NOTA_COMP5']\n"
     ]
    }
   ],
   "source": [
    "train_imputed = _data_train[heatmap_features]\n",
    "train_imputed = pd.DataFrame(Refine.imputer_na(train_imputed, \"median\"), columns=train_imputed.columns)\n",
    "\n",
    "train_imputed_standard = Refine.standardize(train_imputed).transform(train_imputed)\n",
    "train_imputed_standard = pd.DataFrame(train_imputed_standard, columns=train_imputed.columns)\n",
    "\n",
    "train_imputed_normalized = Refine.normalize(train_imputed).transform(train_imputed)\n",
    "train_imputed_normalized = pd.DataFrame(train_imputed_normalized, columns=train_imputed.columns)\n",
    "\n",
    "features_rfe = Handler.RFE(train_imputed, \"NU_NOTA_MT\", 7)\n",
    "print(f\"PCA 90% obtido features_imputed: \\n {Handler.PCA(train_imputed, 0.90)}\\n RFE de 7 features:\\n{features_rfe[0][0:]}\")\n",
    "\n",
    "features_standard_rfe = Handler.RFE(train_imputed_standard, \"NU_NOTA_MT\", 10)\n",
    "print(f\"\\nPCA 90% features_standard: \\n {Handler.PCA(train_imputed_standard, 0.90)}\\n RFE de 10 features:\\n{features_standard_rfe[0][0:]}\")\n",
    "\n",
    "features_normalized_rfe = Handler.RFE(train_imputed_normalized, \"NU_NOTA_MT\", 10)\n",
    "print(f\"\\nPCA 90% features_normalized: \\n {Handler.PCA(train_imputed_normalized, 0.90)}\\n RFE de 10 features:\\n{features_normalized_rfe[0][0:]}\")"
   ]
  }
 ],
 "metadata": {
  "kernelspec": {
   "display_name": "Python 3",
   "language": "python",
   "name": "python3"
  },
  "language_info": {
   "codemirror_mode": {
    "name": "ipython",
    "version": 3
   },
   "file_extension": ".py",
   "mimetype": "text/x-python",
   "name": "python",
   "nbconvert_exporter": "python",
   "pygments_lexer": "ipython3",
   "version": "3.7.5"
  }
 },
 "nbformat": 4,
 "nbformat_minor": 2
}
