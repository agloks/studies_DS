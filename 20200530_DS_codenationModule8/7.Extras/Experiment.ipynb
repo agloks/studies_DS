{
 "cells": [
  {
   "cell_type": "code",
   "execution_count": 87,
   "metadata": {},
   "outputs": [
    {
     "name": "stdout",
     "output_type": "stream",
     "text": [
      "{'objective': 'regression', 'metric': 'rmse', 'n_estimators': 1000, 'num_leaves': 30, 'min_child_samples': 30, 'learning_rate': 0.005, 'verbosity': -1}\n"
     ]
    }
   ],
   "source": [
    "import pandas as pd\n",
    "import numpy as np\n",
    "\n",
    "from importlib.machinery import SourceFileLoader\n",
    "from sklearn.pipeline import Pipeline\n",
    "from sklearn.model_selection import GridSearchCV\n",
    "\n",
    "DI = SourceFileLoader(\"DI\", \"src/DI.py\").load_module()\n",
    "\n",
    "Handler = DI.Handler.Handler()\n",
    "Graph = DI.Graph.Graph()\n",
    "AlgoML = DI.AlgoML.AlgoML()\n",
    "Refine = DI.Refine.Refine()\n",
    "Metrics = DI.Metrics.Metrics()\n",
    "\n",
    "_data_train = pd.read_csv(\"/home/agl/codenation/20200530_DS_codenationModule8/1.Original/train.csv\")\n",
    "_data_test = pd.read_csv(\"/home/agl/codenation/20200530_DS_codenationModule8/1.Original/test.csv\")"
   ]
  },
  {
   "cell_type": "code",
   "execution_count": 3,
   "metadata": {},
   "outputs": [],
   "source": [
    "# All analyzes made on file analyze.ipynb\n",
    "\n",
    "#1 - Drop the necessaries columns, but remimber storage them in a variable because will need to concat at end\n",
    "#2 - Remove the columns that have 60% null if they had low coeffience\n",
    "#3 - Create differents dataset with differentes strategy to use in model and see which will give better result"
   ]
  },
  {
   "cell_type": "code",
   "execution_count": 22,
   "metadata": {},
   "outputs": [],
   "source": [
    "features = [\n",
    "    'NU_NOTA_REDACAO',\n",
    "    'NU_NOTA_CN',\n",
    "    'NU_NOTA_LC',\n",
    "    'NU_NOTA_CH',\n",
    "    'NU_NOTA_COMP3',\n",
    "    'NU_NOTA_COMP1',\n",
    "    'NU_NOTA_COMP5',\n",
    "    'TP_STATUS_REDACAO',\n",
    "    'NU_NOTA_COMP4',\n",
    "    'NU_NOTA_COMP2',\n",
    "    'TP_LINGUA' #This feature selected by bias on our analyze give a little better on metrics result\n",
    "]\n",
    "\n",
    "target = \"NU_NOTA_MT\""
   ]
  },
  {
   "cell_type": "code",
   "execution_count": 23,
   "metadata": {},
   "outputs": [],
   "source": [
    "features_train = features + [\"NU_NOTA_MT\"]\n",
    "train = _data_train[features_train]"
   ]
  },
  {
   "cell_type": "code",
   "execution_count": 6,
   "metadata": {},
   "outputs": [
    {
     "data": {
      "text/plain": [
       "(10097, 12)"
      ]
     },
     "execution_count": 6,
     "metadata": {},
     "output_type": "execute_result"
    }
   ],
   "source": [
    "#XP1 = Get Numeric- Drop Null - Normalize\n",
    "\n",
    "XP1_1 = Handler.get_onlyNumeric(train)\n",
    "XP1_2 = Refine.clear_null(XP1_1)\n",
    "XP1_3 = Refine.normalize(XP1_2)\n",
    "\n",
    "XP1_4 = XP1_3.transform(XP1_2)\n",
    "\n",
    "XP1 = pd.DataFrame(XP1_4, columns=XP1_1.columns)\n",
    "XP1.head(3)\n",
    "XP1.shape"
   ]
  },
  {
   "cell_type": "code",
   "execution_count": 7,
   "metadata": {
    "scrolled": true
   },
   "outputs": [
    {
     "data": {
      "text/plain": [
       "(10097, 12)"
      ]
     },
     "execution_count": 7,
     "metadata": {},
     "output_type": "execute_result"
    }
   ],
   "source": [
    "#XP2 = Get Numeric- Drop Null - Standard\n",
    "\n",
    "XP2_1 = Handler.get_onlyNumeric(train)\n",
    "XP2_2 = Refine.clear_null(XP2_1)\n",
    "XP2_3 = Refine.standardize(XP2_2)\n",
    "\n",
    "XP2_4 = XP2_3.transform(XP2_2)\n",
    "\n",
    "XP2 = pd.DataFrame(XP2_4, columns=XP2_1.columns)\n",
    "XP2.shape"
   ]
  },
  {
   "cell_type": "code",
   "execution_count": 8,
   "metadata": {},
   "outputs": [
    {
     "data": {
      "text/plain": [
       "(13730, 12)"
      ]
     },
     "execution_count": 8,
     "metadata": {},
     "output_type": "execute_result"
    }
   ],
   "source": [
    "#XP3 = Get Numeric- Imputer Mean - Standard\n",
    "\n",
    "XP3_1 = Handler.get_onlyNumeric(train)\n",
    "XP3_2 = Refine.imputer_na(XP3_1, \"mean\")\n",
    "XP3_3 = Refine.standardize(XP3_2)\n",
    "\n",
    "XP3_4 = XP3_3.transform(XP3_2)\n",
    "\n",
    "XP3 = pd.DataFrame(XP3_4, columns=XP3_1.columns)\n",
    "XP3.shape"
   ]
  },
  {
   "cell_type": "code",
   "execution_count": 9,
   "metadata": {},
   "outputs": [
    {
     "data": {
      "text/plain": [
       "(13730, 12)"
      ]
     },
     "execution_count": 9,
     "metadata": {},
     "output_type": "execute_result"
    }
   ],
   "source": [
    "#XP4 = Get Numeric- Imputer Mean - Normalize\n",
    "\n",
    "XP4_1 = Handler.get_onlyNumeric(train)\n",
    "XP4_2 = Refine.imputer_na(XP4_1, \"mean\")\n",
    "XP4_3 = Refine.normalize(XP4_2)\n",
    "\n",
    "XP4_4 = XP4_3.transform(XP4_2)\n",
    "\n",
    "XP4 = pd.DataFrame(XP4_4, columns=XP4_1.columns)\n",
    "XP4.shape"
   ]
  },
  {
   "cell_type": "code",
   "execution_count": 11,
   "metadata": {},
   "outputs": [
    {
     "data": {
      "text/plain": [
       "(13730, 12)"
      ]
     },
     "execution_count": 11,
     "metadata": {},
     "output_type": "execute_result"
    }
   ],
   "source": [
    "#XP5 = Get Numeric- Imputer Median - Normalize\n",
    "\n",
    "XP5_1 = Handler.get_onlyNumeric(train)\n",
    "XP5_2 = Refine.imputer_na(XP5_1, \"median\")\n",
    "XP5_3 = Refine.normalize(XP5_2)\n",
    "\n",
    "XP5_4 = XP5_3.transform(XP5_2)\n",
    "\n",
    "XP5 = pd.DataFrame(XP5_4, columns=XP5_1.columns)\n",
    "XP5.shape"
   ]
  },
  {
   "cell_type": "code",
   "execution_count": 12,
   "metadata": {},
   "outputs": [
    {
     "data": {
      "text/plain": [
       "(13730, 12)"
      ]
     },
     "execution_count": 12,
     "metadata": {},
     "output_type": "execute_result"
    }
   ],
   "source": [
    "#XP5 = Get Numeric- Imputer Median - Normalize\n",
    "\n",
    "XP6_1 = Handler.get_onlyNumeric(train)\n",
    "XP6_2 = Refine.imputer_na(XP6_1, \"median\")\n",
    "XP6_3 = Refine.standardize(XP6_2)\n",
    "\n",
    "XP6_4 = XP6_3.transform(XP6_2)\n",
    "\n",
    "XP6 = pd.DataFrame(XP6_4, columns=XP6_1.columns)\n",
    "XP6.shape"
   ]
  },
  {
   "cell_type": "code",
   "execution_count": 13,
   "metadata": {},
   "outputs": [],
   "source": [
    "XP1_objData = Handler.create_test_from_train(XP1[features], XP1[target], 42)\n",
    "XP2_objData = Handler.create_test_from_train(XP2[features], XP2[target], 42)\n",
    "XP3_objData = Handler.create_test_from_train(XP3[features], XP3[target], 42)\n",
    "XP4_objData = Handler.create_test_from_train(XP4[features], XP4[target], 42)\n",
    "XP5_objData = Handler.create_test_from_train(XP5[features], XP5[target], 42)\n",
    "XP6_objData = Handler.create_test_from_train(XP6[features], XP6[target], 42)\n",
    "\n",
    "list_xp = [XP1_objData, XP2_objData, XP3_objData, XP4_objData, XP5_objData, XP6_objData]"
   ]
  },
  {
   "cell_type": "code",
   "execution_count": 114,
   "metadata": {
    "scrolled": false
   },
   "outputs": [
    {
     "name": "stderr",
     "output_type": "stream",
     "text": [
      "/home/agl/.pyenv/versions/3.7.5/envs/codenationModule8/lib/python3.7/site-packages/lightgbm/engine.py:148: UserWarning: Found `n_estimators` in params. Will use it instead of argument\n",
      "  warnings.warn(\"Found `{}` in params. Will use it instead of argument\".format(alias))\n"
     ]
    },
    {
     "name": "stdout",
     "output_type": "stream",
     "text": [
      "Training until validation scores don't improve for 100 rounds\n",
      "[100]\tvalid_0's rmse: 0.0799406\n",
      "[200]\tvalid_0's rmse: 0.0756467\n",
      "[300]\tvalid_0's rmse: 0.0743147\n",
      "[400]\tvalid_0's rmse: 0.0739261\n",
      "[500]\tvalid_0's rmse: 0.0744139\n",
      "Early stopping, best iteration is:\n",
      "[406]\tvalid_0's rmse: 0.0739121\n",
      "Going for next....\n",
      "\n",
      "Training until validation scores don't improve for 100 rounds\n",
      "[100]\tvalid_0's rmse: 0.771318\n",
      "[200]\tvalid_0's rmse: 0.73062\n",
      "[300]\tvalid_0's rmse: 0.716785\n",
      "[400]\tvalid_0's rmse: 0.712684\n",
      "[500]\tvalid_0's rmse: 0.713981\n",
      "Early stopping, best iteration is:\n",
      "[444]\tvalid_0's rmse: 0.711235\n",
      "Going for next....\n",
      "\n",
      "Training until validation scores don't improve for 100 rounds\n",
      "[100]\tvalid_0's rmse: 0.778724\n",
      "[200]\tvalid_0's rmse: 0.69277\n",
      "[300]\tvalid_0's rmse: 0.663382\n",
      "[400]\tvalid_0's rmse: 0.65556\n",
      "[500]\tvalid_0's rmse: 0.657984\n",
      "Early stopping, best iteration is:\n",
      "[450]\tvalid_0's rmse: 0.654656\n",
      "Going for next....\n",
      "\n",
      "Training until validation scores don't improve for 100 rounds\n",
      "[100]\tvalid_0's rmse: 0.0700132\n",
      "[200]\tvalid_0's rmse: 0.0621282\n",
      "[300]\tvalid_0's rmse: 0.0594271\n",
      "[400]\tvalid_0's rmse: 0.0583919\n",
      "[500]\tvalid_0's rmse: 0.058428\n",
      "Early stopping, best iteration is:\n",
      "[450]\tvalid_0's rmse: 0.0582569\n",
      "Going for next....\n",
      "\n",
      "Training until validation scores don't improve for 100 rounds\n",
      "[100]\tvalid_0's rmse: 0.0703903\n",
      "[200]\tvalid_0's rmse: 0.0625706\n",
      "[300]\tvalid_0's rmse: 0.0597752\n",
      "[400]\tvalid_0's rmse: 0.0589512\n",
      "[500]\tvalid_0's rmse: 0.0593014\n",
      "Early stopping, best iteration is:\n",
      "[415]\tvalid_0's rmse: 0.058868\n",
      "Going for next....\n",
      "\n",
      "Training until validation scores don't improve for 100 rounds\n",
      "[100]\tvalid_0's rmse: 0.774936\n",
      "[200]\tvalid_0's rmse: 0.693771\n",
      "[300]\tvalid_0's rmse: 0.669651\n",
      "[400]\tvalid_0's rmse: 0.668217\n",
      "Early stopping, best iteration is:\n",
      "[397]\tvalid_0's rmse: 0.668094\n",
      "Going for next....\n",
      "\n"
     ]
    }
   ],
   "source": [
    "#LightGBM\n",
    "import time\n",
    "\n",
    "for xp in list_xp:\n",
    "    AlgoML.lightGBM(xp)\n",
    "    print(\"Going for next....\\n\")\n",
    "    time.sleep(4)"
   ]
  },
  {
   "cell_type": "code",
   "execution_count": 115,
   "metadata": {},
   "outputs": [
    {
     "name": "stdout",
     "output_type": "stream",
     "text": [
      "{'mean_abs_err': 0.057208634121332626, 'mean_sqr_err': 0.0057746137166949695, 'r_mean_sqr_err': 0.07599087916779862}\n",
      "Going for next....\n",
      "\n",
      "{'mean_abs_err': 0.5473586189900574, 'mean_sqr_err': 0.5275951800751548, 'r_mean_sqr_err': 0.7263574740271864}\n",
      "Going for next....\n",
      "\n",
      "{'mean_abs_err': 0.47185751952987376, 'mean_sqr_err': 0.4117711424870758, 'r_mean_sqr_err': 0.6416939632621425}\n",
      "Going for next....\n",
      "\n",
      "{'mean_abs_err': 0.04246901414624326, 'mean_sqr_err': 0.0033285088599419735, 'r_mean_sqr_err': 0.05769323062493531}\n",
      "Going for next....\n",
      "\n",
      "{'mean_abs_err': 0.04304952609325115, 'mean_sqr_err': 0.0033480721825504735, 'r_mean_sqr_err': 0.05786252831107947}\n",
      "Going for next....\n",
      "\n",
      "{'mean_abs_err': 0.4750548658027014, 'mean_sqr_err': 0.4083736867521659, 'r_mean_sqr_err': 0.6390412246108743}\n",
      "Going for next....\n",
      "\n"
     ]
    }
   ],
   "source": [
    "#LightGBM\n",
    "import time\n",
    "\n",
    "for xp in list_xp:\n",
    "    ml = AlgoML.randomForestRegressor(obj_data=xp)\n",
    "    y_pred = ml.predict(xp[\"x_test\"])\n",
    "    print(Metrics.calculate_regression(xp[\"y_test\"], y_pred))    \n",
    "    print(\"Going for next....\\n\")\n",
    "    time.sleep(10)\n",
    "    \n",
    "# a = AlgoML.randomForestRegressor(obj_data=XP1_objData)\n",
    "\n",
    "# y_pred = a.predict(XP1_objData[\"x_test\"])\n",
    "\n",
    "# Metrics.calculate_regression(XP1_objData[\"y_test\"], y_pred)"
   ]
  },
  {
   "cell_type": "code",
   "execution_count": 154,
   "metadata": {},
   "outputs": [
    {
     "name": "stderr",
     "output_type": "stream",
     "text": [
      "/home/agl/.pyenv/versions/3.7.5/envs/codenationModule8/lib/python3.7/site-packages/lightgbm/engine.py:148: UserWarning: Found `n_estimators` in params. Will use it instead of argument\n",
      "  warnings.warn(\"Found `{}` in params. Will use it instead of argument\".format(alias))\n"
     ]
    },
    {
     "name": "stdout",
     "output_type": "stream",
     "text": [
      "Training until validation scores don't improve for 100 rounds\n",
      "[100]\tvalid_0's rmse: 0.771318\n",
      "[200]\tvalid_0's rmse: 0.73062\n",
      "[300]\tvalid_0's rmse: 0.716785\n",
      "[400]\tvalid_0's rmse: 0.712684\n",
      "[500]\tvalid_0's rmse: 0.713981\n",
      "Early stopping, best iteration is:\n",
      "[444]\tvalid_0's rmse: 0.711235\n"
     ]
    }
   ],
   "source": [
    "ml = AlgoML.lightGBM(obj_data=XP2_objData)\n",
    "y_pred = ml.predict(_data_test.dropna()[features])\n",
    "# print(Metrics.calculate_regression(xp[\"y_test\"], y_pred))    \n",
    "# print(\"Going for next....\\n\")"
   ]
  },
  {
   "cell_type": "code",
   "execution_count": 70,
   "metadata": {},
   "outputs": [
    {
     "name": "stderr",
     "output_type": "stream",
     "text": [
      "/home/agl/.pyenv/versions/3.7.5/envs/codenationModule8/lib/python3.7/site-packages/lightgbm/engine.py:148: UserWarning: Found `n_estimators` in params. Will use it instead of argument\n",
      "  warnings.warn(\"Found `{}` in params. Will use it instead of argument\".format(alias))\n"
     ]
    },
    {
     "name": "stdout",
     "output_type": "stream",
     "text": [
      "Training until validation scores don't improve for 100 rounds\n",
      "[100]\tvalid_0's rmse: 85.0984\n",
      "[200]\tvalid_0's rmse: 79.1172\n",
      "[300]\tvalid_0's rmse: 76.9501\n",
      "[400]\tvalid_0's rmse: 76.1555\n",
      "[500]\tvalid_0's rmse: 75.9727\n",
      "[600]\tvalid_0's rmse: 75.9547\n",
      "Early stopping, best iteration is:\n",
      "[539]\tvalid_0's rmse: 75.9363\n"
     ]
    },
    {
     "data": {
      "text/plain": [
       "{'mean_abs_err': 59.638254192406144,\n",
       " 'mean_sqr_err': 5766.3255401345305,\n",
       " 'r_mean_sqr_err': 75.93632556382045}"
      ]
     },
     "execution_count": 70,
     "metadata": {},
     "output_type": "execute_result"
    }
   ],
   "source": [
    "#0.5 is the better random found\n",
    "p6 = Handler.create_test_from_train(train.dropna(), train.dropna()[target], 0.50)\n",
    "\n",
    "#remove null and drop Y of the X\n",
    "p6[\"x_train\"] = Refine.clear_null(p6[\"x_train\"]).drop(columns=\"NU_NOTA_MT\")\n",
    "p6[\"x_test\"] = Refine.clear_null(p6[\"x_test\"]).drop(columns=\"NU_NOTA_MT\")\n",
    "p6[\"y_test\"] = Refine.clear_null(p6[\"y_test\"])\n",
    "p6[\"y_train\"] = Refine.clear_null(p6[\"y_train\"])\n",
    "\n",
    "# fit only x and tranform x and y\n",
    "scaler_trained = Refine.standardize(p6[\"x_train\"])\n",
    "p6[\"x_train\"] = scaler_trained.transform(p6[\"x_train\"])\n",
    "p6[\"x_test\"] = scaler_trained.transform(p6[\"x_test\"])\n",
    "\n",
    "# #transform the real data test\n",
    "real_data_test = scaler_trained.transform(_data_test.dropna()[features])\n",
    "\n",
    "#now, everything is right for predict\n",
    "ml = AlgoML.lightGBM(obj_data=p6)\n",
    "y_pred = ml.predict(real_data_test)\n",
    "# print(f\"\"\"\n",
    "#     x-test = {p6[\"x_test\"].shape}\n",
    "#     x-train = {p6[\"x_train\"].shape}\n",
    "#     y-test = {p6[\"y_test\"].shape}\n",
    "#     y-train = {p6[\"y_train\"].shape}\n",
    "# \"\"\")\n",
    "# y_pred\n",
    "\n",
    "Metrics.calculate_regression(p6[\"y_test\"], ml.predict(p6[\"x_test\"]))"
   ]
  },
  {
   "cell_type": "code",
   "execution_count": 55,
   "metadata": {},
   "outputs": [
    {
     "data": {
      "text/plain": [
       "{'mean_abs_err': 58.888463581834735,\n",
       " 'mean_sqr_err': 5621.142565260588,\n",
       " 'r_mean_sqr_err': 74.97427935806111}"
      ]
     },
     "execution_count": 55,
     "metadata": {},
     "output_type": "execute_result"
    }
   ],
   "source": [
    "#0.517 is the better random found\n",
    "p6 = Handler.create_test_from_train(train.dropna(), train.dropna()[target], 0.517)\n",
    "\n",
    "#remove null and drop Y of the X\n",
    "p6[\"x_train\"] = Refine.clear_null(p6[\"x_train\"]).drop(columns=\"NU_NOTA_MT\")\n",
    "p6[\"x_test\"] = Refine.clear_null(p6[\"x_test\"]).drop(columns=\"NU_NOTA_MT\")\n",
    "p6[\"y_test\"] = Refine.clear_null(p6[\"y_test\"])\n",
    "p6[\"y_train\"] = Refine.clear_null(p6[\"y_train\"])\n",
    "\n",
    "# fit only x and tranform x and y\n",
    "scaler_trained = Refine.standardize(p6[\"x_train\"])\n",
    "p6[\"x_train\"] = scaler_trained.transform(p6[\"x_train\"])\n",
    "p6[\"x_test\"] = scaler_trained.transform(p6[\"x_test\"])\n",
    "\n",
    "# #transform the real data test\n",
    "real_data_test = scaler_trained.transform(_data_test.dropna()[features])\n",
    "\n",
    "#now, everything is right for predict\n",
    "ml = AlgoML.randomForestRegressor(obj_data=p6)\n",
    "y_pred = ml.predict(real_data_test)\n",
    "# print(f\"\"\"\n",
    "#     x-test = {p6[\"x_test\"].shape}\n",
    "#     x-train = {p6[\"x_train\"].shape}\n",
    "#     y-test = {p6[\"y_test\"].shape}\n",
    "#     y-train = {p6[\"y_train\"].shape}\n",
    "# \"\"\")\n",
    "y_pred\n",
    "\n",
    "Metrics.calculate_regression(p6[\"y_test\"], ml.predict(p6[\"x_test\"]))"
   ]
  },
  {
   "cell_type": "code",
   "execution_count": 120,
   "metadata": {},
   "outputs": [
    {
     "data": {
      "text/plain": [
       "(293, 11)"
      ]
     },
     "execution_count": 120,
     "metadata": {},
     "output_type": "execute_result"
    }
   ],
   "source": [
    "save_out = pd.DataFrame(y_pred, columns=[\"NU_NOTA_MT\"])\n",
    "real_data_test.shape"
   ]
  },
  {
   "cell_type": "code",
   "execution_count": 88,
   "metadata": {},
   "outputs": [
    {
     "name": "stdout",
     "output_type": "stream",
     "text": [
      "{'criterion': ['mse'], 'max_depth': [10, 110, None], 'min_samples_leaf': [1, 2, 4], 'min_samples_split': [2, 5, 10], 'min_weight_fraction_leaf': [0.0], 'n_estimators': [200, 2000], 'n_jobs': [-1], 'verbose': [1], 'warm_start': [False], 'max_features': ['auto', 'sqrt'], 'bootstrap': [True, False]}\n",
      "Fitting 2 folds for each of 216 candidates, totalling 432 fits\n",
      "[Parallel(n_jobs=1)]: Using backend SequentialBackend with 1 concurrent workers.\n",
      "[CV] bootstrap=True, criterion=mse, max_depth=10, max_features=auto, min_samples_leaf=1, min_samples_split=2, min_weight_fraction_leaf=0.0, n_estimators=200, n_jobs=-1, verbose=1, warm_start=False \n"
     ]
    },
    {
     "name": "stderr",
     "output_type": "stream",
     "text": [
      "[Parallel(n_jobs=-1)]: Using backend LokyBackend with 4 concurrent workers.\n",
      "[Parallel(n_jobs=-1)]: Done  68 tasks      | elapsed:    1.5s\n",
      "[Parallel(n_jobs=-1)]: Done 200 out of 200 | elapsed:    2.1s finished\n",
      "[Parallel(n_jobs=4)]: Using backend ThreadingBackend with 4 concurrent workers.\n",
      "[Parallel(n_jobs=4)]: Done  42 tasks      | elapsed:    0.0s\n",
      "[Parallel(n_jobs=4)]: Done 192 tasks      | elapsed:    0.1s\n",
      "[Parallel(n_jobs=4)]: Done 200 out of 200 | elapsed:    0.1s finished\n"
     ]
    },
    {
     "name": "stdout",
     "output_type": "stream",
     "text": [
      "[CV]  bootstrap=True, criterion=mse, max_depth=10, max_features=auto, min_samples_leaf=1, min_samples_split=2, min_weight_fraction_leaf=0.0, n_estimators=200, n_jobs=-1, verbose=1, warm_start=False, explained_variance=0.381, neg_mean_absolute_error=-61.097, neg_mean_squared_error=-5846.136, neg_mean_squared_log_error=-0.024, neg_median_absolute_error=-52.126, r2=0.381, total=   2.3s\n",
      "[Parallel(n_jobs=1)]: Done   1 out of   1 | elapsed:    2.3s remaining:    0.0s\n",
      "[CV] bootstrap=True, criterion=mse, max_depth=10, max_features=auto, min_samples_leaf=1, min_samples_split=2, min_weight_fraction_leaf=0.0, n_estimators=200, n_jobs=-1, verbose=1, warm_start=False \n"
     ]
    },
    {
     "name": "stderr",
     "output_type": "stream",
     "text": [
      "[Parallel(n_jobs=-1)]: Using backend LokyBackend with 4 concurrent workers.\n",
      "[Parallel(n_jobs=-1)]: Done 190 tasks      | elapsed:    0.8s\n",
      "[Parallel(n_jobs=-1)]: Done 200 out of 200 | elapsed:    0.8s finished\n",
      "[Parallel(n_jobs=4)]: Using backend ThreadingBackend with 4 concurrent workers.\n",
      "[Parallel(n_jobs=4)]: Done  42 tasks      | elapsed:    0.0s\n",
      "[Parallel(n_jobs=4)]: Done 192 tasks      | elapsed:    0.1s\n",
      "[Parallel(n_jobs=4)]: Done 200 out of 200 | elapsed:    0.1s finished\n"
     ]
    },
    {
     "name": "stdout",
     "output_type": "stream",
     "text": [
      "[CV]  bootstrap=True, criterion=mse, max_depth=10, max_features=auto, min_samples_leaf=1, min_samples_split=2, min_weight_fraction_leaf=0.0, n_estimators=200, n_jobs=-1, verbose=1, warm_start=False, explained_variance=0.448, neg_mean_absolute_error=-59.225, neg_mean_squared_error=-5776.241, neg_mean_squared_log_error=-0.067, neg_median_absolute_error=-49.380, r2=0.448, total=   1.1s\n",
      "[Parallel(n_jobs=1)]: Done   2 out of   2 | elapsed:    3.4s remaining:    0.0s\n",
      "[CV] bootstrap=True, criterion=mse, max_depth=10, max_features=auto, min_samples_leaf=1, min_samples_split=2, min_weight_fraction_leaf=0.0, n_estimators=2000, n_jobs=-1, verbose=1, warm_start=False \n"
     ]
    },
    {
     "name": "stderr",
     "output_type": "stream",
     "text": [
      "[Parallel(n_jobs=-1)]: Using backend LokyBackend with 4 concurrent workers.\n",
      "[Parallel(n_jobs=-1)]: Done 280 tasks      | elapsed:    1.1s\n",
      "[Parallel(n_jobs=-1)]: Done 2000 out of 2000 | elapsed:    7.5s finished\n",
      "[Parallel(n_jobs=4)]: Using backend ThreadingBackend with 4 concurrent workers.\n",
      "[Parallel(n_jobs=4)]: Done  42 tasks      | elapsed:    0.0s\n",
      "[Parallel(n_jobs=4)]: Done 192 tasks      | elapsed:    0.1s\n",
      "[Parallel(n_jobs=4)]: Done 442 tasks      | elapsed:    0.1s\n",
      "[Parallel(n_jobs=4)]: Done 792 tasks      | elapsed:    0.3s\n",
      "[Parallel(n_jobs=4)]: Done 1242 tasks      | elapsed:    0.4s\n",
      "[Parallel(n_jobs=4)]: Done 1792 tasks      | elapsed:    0.6s\n",
      "[Parallel(n_jobs=4)]: Done 2000 out of 2000 | elapsed:    0.7s finished\n"
     ]
    },
    {
     "name": "stdout",
     "output_type": "stream",
     "text": [
      "[CV]  bootstrap=True, criterion=mse, max_depth=10, max_features=auto, min_samples_leaf=1, min_samples_split=2, min_weight_fraction_leaf=0.0, n_estimators=2000, n_jobs=-1, verbose=1, warm_start=False, explained_variance=0.381, neg_mean_absolute_error=-61.100, neg_mean_squared_error=-5851.474, neg_mean_squared_log_error=-0.024, neg_median_absolute_error=-52.423, r2=0.380, total=   9.7s\n",
      "[Parallel(n_jobs=1)]: Done   3 out of   3 | elapsed:   13.1s remaining:    0.0s\n",
      "[CV] bootstrap=True, criterion=mse, max_depth=10, max_features=auto, min_samples_leaf=1, min_samples_split=2, min_weight_fraction_leaf=0.0, n_estimators=2000, n_jobs=-1, verbose=1, warm_start=False \n"
     ]
    },
    {
     "name": "stderr",
     "output_type": "stream",
     "text": [
      "[Parallel(n_jobs=-1)]: Using backend LokyBackend with 4 concurrent workers.\n",
      "[Parallel(n_jobs=-1)]: Done 280 tasks      | elapsed:    1.2s\n",
      "[Parallel(n_jobs=-1)]: Done 2000 out of 2000 | elapsed:    7.2s finished\n",
      "[Parallel(n_jobs=4)]: Using backend ThreadingBackend with 4 concurrent workers.\n",
      "[Parallel(n_jobs=4)]: Done  42 tasks      | elapsed:    0.0s\n",
      "[Parallel(n_jobs=4)]: Done 192 tasks      | elapsed:    0.1s\n",
      "[Parallel(n_jobs=4)]: Done 442 tasks      | elapsed:    0.2s\n",
      "[Parallel(n_jobs=4)]: Done 792 tasks      | elapsed:    0.3s\n",
      "[Parallel(n_jobs=4)]: Done 1242 tasks      | elapsed:    0.5s\n",
      "[Parallel(n_jobs=4)]: Done 1792 tasks      | elapsed:    0.6s\n",
      "[Parallel(n_jobs=4)]: Done 2000 out of 2000 | elapsed:    0.7s finished\n"
     ]
    },
    {
     "name": "stdout",
     "output_type": "stream",
     "text": [
      "[CV]  bootstrap=True, criterion=mse, max_depth=10, max_features=auto, min_samples_leaf=1, min_samples_split=2, min_weight_fraction_leaf=0.0, n_estimators=2000, n_jobs=-1, verbose=1, warm_start=False, explained_variance=0.449, neg_mean_absolute_error=-59.149, neg_mean_squared_error=-5765.913, neg_mean_squared_log_error=-0.067, neg_median_absolute_error=-48.964, r2=0.449, total=   9.4s\n",
      "[Parallel(n_jobs=1)]: Done   4 out of   4 | elapsed:   22.5s remaining:    0.0s\n",
      "[CV] bootstrap=True, criterion=mse, max_depth=10, max_features=auto, min_samples_leaf=1, min_samples_split=5, min_weight_fraction_leaf=0.0, n_estimators=200, n_jobs=-1, verbose=1, warm_start=False \n"
     ]
    },
    {
     "name": "stderr",
     "output_type": "stream",
     "text": [
      "[Parallel(n_jobs=-1)]: Using backend LokyBackend with 4 concurrent workers.\n",
      "[Parallel(n_jobs=-1)]: Done 175 tasks      | elapsed:    0.7s\n",
      "[Parallel(n_jobs=-1)]: Done 200 out of 200 | elapsed:    0.7s finished\n",
      "[Parallel(n_jobs=4)]: Using backend ThreadingBackend with 4 concurrent workers.\n",
      "[Parallel(n_jobs=4)]: Done  42 tasks      | elapsed:    0.0s\n",
      "[Parallel(n_jobs=4)]: Done 192 tasks      | elapsed:    0.1s\n",
      "[Parallel(n_jobs=4)]: Done 200 out of 200 | elapsed:    0.1s finished\n"
     ]
    },
    {
     "name": "stdout",
     "output_type": "stream",
     "text": [
      "[CV]  bootstrap=True, criterion=mse, max_depth=10, max_features=auto, min_samples_leaf=1, min_samples_split=5, min_weight_fraction_leaf=0.0, n_estimators=200, n_jobs=-1, verbose=1, warm_start=False, explained_variance=0.379, neg_mean_absolute_error=-61.217, neg_mean_squared_error=-5865.686, neg_mean_squared_log_error=-0.024, neg_median_absolute_error=-52.986, r2=0.379, total=   1.0s\n",
      "[Parallel(n_jobs=1)]: Done   5 out of   5 | elapsed:   23.5s remaining:    0.0s\n",
      "[CV] bootstrap=True, criterion=mse, max_depth=10, max_features=auto, min_samples_leaf=1, min_samples_split=5, min_weight_fraction_leaf=0.0, n_estimators=200, n_jobs=-1, verbose=1, warm_start=False \n"
     ]
    },
    {
     "name": "stderr",
     "output_type": "stream",
     "text": [
      "[Parallel(n_jobs=-1)]: Using backend LokyBackend with 4 concurrent workers.\n",
      "[Parallel(n_jobs=-1)]: Done 190 tasks      | elapsed:    0.7s\n",
      "[Parallel(n_jobs=-1)]: Done 200 out of 200 | elapsed:    0.7s finished\n",
      "[Parallel(n_jobs=4)]: Using backend ThreadingBackend with 4 concurrent workers.\n",
      "[Parallel(n_jobs=4)]: Done  42 tasks      | elapsed:    0.0s\n",
      "[Parallel(n_jobs=4)]: Done 192 tasks      | elapsed:    0.1s\n",
      "[Parallel(n_jobs=4)]: Done 200 out of 200 | elapsed:    0.1s finished\n"
     ]
    },
    {
     "name": "stdout",
     "output_type": "stream",
     "text": [
      "[CV]  bootstrap=True, criterion=mse, max_depth=10, max_features=auto, min_samples_leaf=1, min_samples_split=5, min_weight_fraction_leaf=0.0, n_estimators=200, n_jobs=-1, verbose=1, warm_start=False, explained_variance=0.449, neg_mean_absolute_error=-59.092, neg_mean_squared_error=-5768.730, neg_mean_squared_log_error=-0.067, neg_median_absolute_error=-48.544, r2=0.449, total=   1.0s\n",
      "[Parallel(n_jobs=1)]: Done   6 out of   6 | elapsed:   24.5s remaining:    0.0s\n",
      "[CV] bootstrap=True, criterion=mse, max_depth=10, max_features=auto, min_samples_leaf=1, min_samples_split=5, min_weight_fraction_leaf=0.0, n_estimators=2000, n_jobs=-1, verbose=1, warm_start=False \n"
     ]
    },
    {
     "name": "stderr",
     "output_type": "stream",
     "text": [
      "[Parallel(n_jobs=-1)]: Using backend LokyBackend with 4 concurrent workers.\n",
      "[Parallel(n_jobs=-1)]: Done 280 tasks      | elapsed:    1.1s\n",
      "[Parallel(n_jobs=-1)]: Done 2000 out of 2000 | elapsed:    6.7s finished\n",
      "[Parallel(n_jobs=4)]: Using backend ThreadingBackend with 4 concurrent workers.\n",
      "[Parallel(n_jobs=4)]: Done  42 tasks      | elapsed:    0.0s\n",
      "[Parallel(n_jobs=4)]: Done 192 tasks      | elapsed:    0.1s\n",
      "[Parallel(n_jobs=4)]: Done 442 tasks      | elapsed:    0.2s\n",
      "[Parallel(n_jobs=4)]: Done 792 tasks      | elapsed:    0.3s\n",
      "[Parallel(n_jobs=4)]: Done 1242 tasks      | elapsed:    0.4s\n",
      "[Parallel(n_jobs=4)]: Done 1792 tasks      | elapsed:    0.7s\n",
      "[Parallel(n_jobs=4)]: Done 2000 out of 2000 | elapsed:    0.7s finished\n"
     ]
    },
    {
     "name": "stdout",
     "output_type": "stream",
     "text": [
      "[CV]  bootstrap=True, criterion=mse, max_depth=10, max_features=auto, min_samples_leaf=1, min_samples_split=5, min_weight_fraction_leaf=0.0, n_estimators=2000, n_jobs=-1, verbose=1, warm_start=False, explained_variance=0.380, neg_mean_absolute_error=-61.111, neg_mean_squared_error=-5854.099, neg_mean_squared_log_error=-0.024, neg_median_absolute_error=-52.554, r2=0.380, total=   8.8s\n",
      "[Parallel(n_jobs=1)]: Done   7 out of   7 | elapsed:   33.3s remaining:    0.0s\n",
      "[CV] bootstrap=True, criterion=mse, max_depth=10, max_features=auto, min_samples_leaf=1, min_samples_split=5, min_weight_fraction_leaf=0.0, n_estimators=2000, n_jobs=-1, verbose=1, warm_start=False \n"
     ]
    },
    {
     "name": "stderr",
     "output_type": "stream",
     "text": [
      "[Parallel(n_jobs=-1)]: Using backend LokyBackend with 4 concurrent workers.\n",
      "[Parallel(n_jobs=-1)]: Done 280 tasks      | elapsed:    1.1s\n",
      "[Parallel(n_jobs=-1)]: Done 2000 out of 2000 | elapsed:    6.7s finished\n",
      "[Parallel(n_jobs=4)]: Using backend ThreadingBackend with 4 concurrent workers.\n",
      "[Parallel(n_jobs=4)]: Done  42 tasks      | elapsed:    0.0s\n",
      "[Parallel(n_jobs=4)]: Done 192 tasks      | elapsed:    0.1s\n",
      "[Parallel(n_jobs=4)]: Done 442 tasks      | elapsed:    0.2s\n",
      "[Parallel(n_jobs=4)]: Done 792 tasks      | elapsed:    0.3s\n",
      "[Parallel(n_jobs=4)]: Done 1242 tasks      | elapsed:    0.5s\n",
      "[Parallel(n_jobs=4)]: Done 1792 tasks      | elapsed:    0.7s\n",
      "[Parallel(n_jobs=4)]: Done 2000 out of 2000 | elapsed:    0.7s finished\n"
     ]
    },
    {
     "name": "stdout",
     "output_type": "stream",
     "text": [
      "[CV]  bootstrap=True, criterion=mse, max_depth=10, max_features=auto, min_samples_leaf=1, min_samples_split=5, min_weight_fraction_leaf=0.0, n_estimators=2000, n_jobs=-1, verbose=1, warm_start=False, explained_variance=0.450, neg_mean_absolute_error=-59.131, neg_mean_squared_error=-5762.399, neg_mean_squared_log_error=-0.067, neg_median_absolute_error=-48.854, r2=0.449, total=   8.8s\n",
      "[Parallel(n_jobs=1)]: Done   8 out of   8 | elapsed:   42.2s remaining:    0.0s\n",
      "[CV] bootstrap=True, criterion=mse, max_depth=10, max_features=auto, min_samples_leaf=1, min_samples_split=10, min_weight_fraction_leaf=0.0, n_estimators=200, n_jobs=-1, verbose=1, warm_start=False \n"
     ]
    },
    {
     "name": "stderr",
     "output_type": "stream",
     "text": [
      "[Parallel(n_jobs=-1)]: Using backend LokyBackend with 4 concurrent workers.\n",
      "[Parallel(n_jobs=-1)]: Done 190 tasks      | elapsed:    0.7s\n",
      "[Parallel(n_jobs=-1)]: Done 200 out of 200 | elapsed:    0.7s finished\n",
      "[Parallel(n_jobs=4)]: Using backend ThreadingBackend with 4 concurrent workers.\n",
      "[Parallel(n_jobs=4)]: Done  42 tasks      | elapsed:    0.0s\n",
      "[Parallel(n_jobs=4)]: Done 192 tasks      | elapsed:    0.1s\n",
      "[Parallel(n_jobs=4)]: Done 200 out of 200 | elapsed:    0.1s finished\n"
     ]
    },
    {
     "name": "stdout",
     "output_type": "stream",
     "text": [
      "[CV]  bootstrap=True, criterion=mse, max_depth=10, max_features=auto, min_samples_leaf=1, min_samples_split=10, min_weight_fraction_leaf=0.0, n_estimators=200, n_jobs=-1, verbose=1, warm_start=False, explained_variance=0.381, neg_mean_absolute_error=-61.107, neg_mean_squared_error=-5848.719, neg_mean_squared_log_error=-0.024, neg_median_absolute_error=-52.478, r2=0.380, total=   1.0s\n",
      "[Parallel(n_jobs=1)]: Done   9 out of   9 | elapsed:   43.1s remaining:    0.0s\n",
      "[CV] bootstrap=True, criterion=mse, max_depth=10, max_features=auto, min_samples_leaf=1, min_samples_split=10, min_weight_fraction_leaf=0.0, n_estimators=200, n_jobs=-1, verbose=1, warm_start=False \n"
     ]
    },
    {
     "name": "stderr",
     "output_type": "stream",
     "text": [
      "[Parallel(n_jobs=-1)]: Using backend LokyBackend with 4 concurrent workers.\n",
      "[Parallel(n_jobs=-1)]: Done 190 tasks      | elapsed:    0.7s\n",
      "[Parallel(n_jobs=-1)]: Done 200 out of 200 | elapsed:    0.7s finished\n",
      "[Parallel(n_jobs=4)]: Using backend ThreadingBackend with 4 concurrent workers.\n",
      "[Parallel(n_jobs=4)]: Done  42 tasks      | elapsed:    0.0s\n",
      "[Parallel(n_jobs=4)]: Done 192 tasks      | elapsed:    0.1s\n",
      "[Parallel(n_jobs=4)]: Done 200 out of 200 | elapsed:    0.1s finished\n"
     ]
    },
    {
     "name": "stdout",
     "output_type": "stream",
     "text": [
      "[CV]  bootstrap=True, criterion=mse, max_depth=10, max_features=auto, min_samples_leaf=1, min_samples_split=10, min_weight_fraction_leaf=0.0, n_estimators=200, n_jobs=-1, verbose=1, warm_start=False, explained_variance=0.451, neg_mean_absolute_error=-59.062, neg_mean_squared_error=-5748.804, neg_mean_squared_log_error=-0.067, neg_median_absolute_error=-48.977, r2=0.451, total=   1.0s\n",
      "[Parallel(n_jobs=1)]: Done  10 out of  10 | elapsed:   44.1s remaining:    0.0s\n",
      "[CV] bootstrap=True, criterion=mse, max_depth=10, max_features=auto, min_samples_leaf=1, min_samples_split=10, min_weight_fraction_leaf=0.0, n_estimators=2000, n_jobs=-1, verbose=1, warm_start=False \n"
     ]
    },
    {
     "name": "stderr",
     "output_type": "stream",
     "text": [
      "[Parallel(n_jobs=-1)]: Using backend LokyBackend with 4 concurrent workers.\n",
      "[Parallel(n_jobs=-1)]: Done 280 tasks      | elapsed:    1.0s\n",
      "[Parallel(n_jobs=-1)]: Done 2000 out of 2000 | elapsed:    6.4s finished\n",
      "[Parallel(n_jobs=4)]: Using backend ThreadingBackend with 4 concurrent workers.\n",
      "[Parallel(n_jobs=4)]: Done  42 tasks      | elapsed:    0.0s\n",
      "[Parallel(n_jobs=4)]: Done 192 tasks      | elapsed:    0.1s\n",
      "[Parallel(n_jobs=4)]: Done 442 tasks      | elapsed:    0.2s\n",
      "[Parallel(n_jobs=4)]: Done 792 tasks      | elapsed:    0.3s\n",
      "[Parallel(n_jobs=4)]: Done 1242 tasks      | elapsed:    0.4s\n",
      "[Parallel(n_jobs=4)]: Done 1792 tasks      | elapsed:    0.7s\n",
      "[Parallel(n_jobs=4)]: Done 2000 out of 2000 | elapsed:    0.7s finished\n"
     ]
    },
    {
     "name": "stdout",
     "output_type": "stream",
     "text": [
      "[CV]  bootstrap=True, criterion=mse, max_depth=10, max_features=auto, min_samples_leaf=1, min_samples_split=10, min_weight_fraction_leaf=0.0, n_estimators=2000, n_jobs=-1, verbose=1, warm_start=False, explained_variance=0.382, neg_mean_absolute_error=-61.023, neg_mean_squared_error=-5838.927, neg_mean_squared_log_error=-0.024, neg_median_absolute_error=-52.566, r2=0.381, total=   8.5s\n",
      "[Parallel(n_jobs=1)]: Done  11 out of  11 | elapsed:   52.6s remaining:    0.0s\n",
      "[CV] bootstrap=True, criterion=mse, max_depth=10, max_features=auto, min_samples_leaf=1, min_samples_split=10, min_weight_fraction_leaf=0.0, n_estimators=2000, n_jobs=-1, verbose=1, warm_start=False \n"
     ]
    },
    {
     "name": "stderr",
     "output_type": "stream",
     "text": [
      "[Parallel(n_jobs=-1)]: Using backend LokyBackend with 4 concurrent workers.\n",
      "[Parallel(n_jobs=-1)]: Done 280 tasks      | elapsed:    1.0s\n",
      "[Parallel(n_jobs=-1)]: Done 2000 out of 2000 | elapsed:    6.2s finished\n",
      "[Parallel(n_jobs=4)]: Using backend ThreadingBackend with 4 concurrent workers.\n",
      "[Parallel(n_jobs=4)]: Done  42 tasks      | elapsed:    0.0s\n",
      "[Parallel(n_jobs=4)]: Done 192 tasks      | elapsed:    0.1s\n",
      "[Parallel(n_jobs=4)]: Done 442 tasks      | elapsed:    0.2s\n",
      "[Parallel(n_jobs=4)]: Done 792 tasks      | elapsed:    0.3s\n",
      "[Parallel(n_jobs=4)]: Done 1242 tasks      | elapsed:    0.4s\n",
      "[Parallel(n_jobs=4)]: Done 1792 tasks      | elapsed:    0.7s\n",
      "[Parallel(n_jobs=4)]: Done 2000 out of 2000 | elapsed:    0.8s finished\n"
     ]
    },
    {
     "name": "stdout",
     "output_type": "stream",
     "text": [
      "[CV]  bootstrap=True, criterion=mse, max_depth=10, max_features=auto, min_samples_leaf=1, min_samples_split=10, min_weight_fraction_leaf=0.0, n_estimators=2000, n_jobs=-1, verbose=1, warm_start=False, explained_variance=0.452, neg_mean_absolute_error=-58.995, neg_mean_squared_error=-5735.098, neg_mean_squared_log_error=-0.067, neg_median_absolute_error=-48.305, r2=0.452, total=   8.4s\n",
      "[Parallel(n_jobs=1)]: Done  12 out of  12 | elapsed:  1.0min remaining:    0.0s\n",
      "[CV] bootstrap=True, criterion=mse, max_depth=10, max_features=auto, min_samples_leaf=2, min_samples_split=2, min_weight_fraction_leaf=0.0, n_estimators=200, n_jobs=-1, verbose=1, warm_start=False \n"
     ]
    },
    {
     "name": "stderr",
     "output_type": "stream",
     "text": [
      "[Parallel(n_jobs=-1)]: Using backend LokyBackend with 4 concurrent workers.\n",
      "[Parallel(n_jobs=-1)]: Done 190 tasks      | elapsed:    0.7s\n",
      "[Parallel(n_jobs=-1)]: Done 200 out of 200 | elapsed:    0.7s finished\n",
      "[Parallel(n_jobs=4)]: Using backend ThreadingBackend with 4 concurrent workers.\n",
      "[Parallel(n_jobs=4)]: Done  42 tasks      | elapsed:    0.0s\n",
      "[Parallel(n_jobs=4)]: Done 192 tasks      | elapsed:    0.1s\n",
      "[Parallel(n_jobs=4)]: Done 200 out of 200 | elapsed:    0.1s finished\n"
     ]
    },
    {
     "name": "stdout",
     "output_type": "stream",
     "text": [
      "[CV]  bootstrap=True, criterion=mse, max_depth=10, max_features=auto, min_samples_leaf=2, min_samples_split=2, min_weight_fraction_leaf=0.0, n_estimators=200, n_jobs=-1, verbose=1, warm_start=False, explained_variance=0.380, neg_mean_absolute_error=-61.064, neg_mean_squared_error=-5854.316, neg_mean_squared_log_error=-0.024, neg_median_absolute_error=-52.114, r2=0.380, total=   1.0s\n",
      "[Parallel(n_jobs=1)]: Done  13 out of  13 | elapsed:  1.0min remaining:    0.0s\n",
      "[CV] bootstrap=True, criterion=mse, max_depth=10, max_features=auto, min_samples_leaf=2, min_samples_split=2, min_weight_fraction_leaf=0.0, n_estimators=200, n_jobs=-1, verbose=1, warm_start=False \n"
     ]
    },
    {
     "name": "stderr",
     "output_type": "stream",
     "text": [
      "[Parallel(n_jobs=-1)]: Using backend LokyBackend with 4 concurrent workers.\n",
      "[Parallel(n_jobs=-1)]: Done 190 tasks      | elapsed:    0.7s\n",
      "[Parallel(n_jobs=-1)]: Done 200 out of 200 | elapsed:    0.7s finished\n",
      "[Parallel(n_jobs=4)]: Using backend ThreadingBackend with 4 concurrent workers.\n",
      "[Parallel(n_jobs=4)]: Done  42 tasks      | elapsed:    0.0s\n",
      "[Parallel(n_jobs=4)]: Done 192 tasks      | elapsed:    0.1s\n",
      "[Parallel(n_jobs=4)]: Done 200 out of 200 | elapsed:    0.1s finished\n"
     ]
    },
    {
     "name": "stdout",
     "output_type": "stream",
     "text": [
      "[CV]  bootstrap=True, criterion=mse, max_depth=10, max_features=auto, min_samples_leaf=2, min_samples_split=2, min_weight_fraction_leaf=0.0, n_estimators=200, n_jobs=-1, verbose=1, warm_start=False, explained_variance=0.450, neg_mean_absolute_error=-59.010, neg_mean_squared_error=-5754.010, neg_mean_squared_log_error=-0.067, neg_median_absolute_error=-48.490, r2=0.450, total=   1.0s\n",
      "[Parallel(n_jobs=1)]: Done  14 out of  14 | elapsed:  1.0min remaining:    0.0s\n",
      "[CV] bootstrap=True, criterion=mse, max_depth=10, max_features=auto, min_samples_leaf=2, min_samples_split=2, min_weight_fraction_leaf=0.0, n_estimators=2000, n_jobs=-1, verbose=1, warm_start=False \n"
     ]
    },
    {
     "name": "stderr",
     "output_type": "stream",
     "text": [
      "[Parallel(n_jobs=-1)]: Using backend LokyBackend with 4 concurrent workers.\n",
      "[Parallel(n_jobs=-1)]: Done 280 tasks      | elapsed:    1.0s\n",
      "[Parallel(n_jobs=-1)]: Done 2000 out of 2000 | elapsed:    6.5s finished\n",
      "[Parallel(n_jobs=4)]: Using backend ThreadingBackend with 4 concurrent workers.\n",
      "[Parallel(n_jobs=4)]: Done  42 tasks      | elapsed:    0.0s\n",
      "[Parallel(n_jobs=4)]: Done 192 tasks      | elapsed:    0.1s\n",
      "[Parallel(n_jobs=4)]: Done 442 tasks      | elapsed:    0.2s\n",
      "[Parallel(n_jobs=4)]: Done 792 tasks      | elapsed:    0.3s\n",
      "[Parallel(n_jobs=4)]: Done 1242 tasks      | elapsed:    0.5s\n",
      "[Parallel(n_jobs=4)]: Done 1792 tasks      | elapsed:    0.7s\n",
      "[Parallel(n_jobs=4)]: Done 2000 out of 2000 | elapsed:    0.7s finished\n"
     ]
    },
    {
     "name": "stdout",
     "output_type": "stream",
     "text": [
      "[CV]  bootstrap=True, criterion=mse, max_depth=10, max_features=auto, min_samples_leaf=2, min_samples_split=2, min_weight_fraction_leaf=0.0, n_estimators=2000, n_jobs=-1, verbose=1, warm_start=False, explained_variance=0.380, neg_mean_absolute_error=-61.118, neg_mean_squared_error=-5860.362, neg_mean_squared_log_error=-0.024, neg_median_absolute_error=-52.133, r2=0.379, total=   8.6s\n",
      "[Parallel(n_jobs=1)]: Done  15 out of  15 | elapsed:  1.2min remaining:    0.0s\n",
      "[CV] bootstrap=True, criterion=mse, max_depth=10, max_features=auto, min_samples_leaf=2, min_samples_split=2, min_weight_fraction_leaf=0.0, n_estimators=2000, n_jobs=-1, verbose=1, warm_start=False \n"
     ]
    },
    {
     "name": "stderr",
     "output_type": "stream",
     "text": [
      "[Parallel(n_jobs=-1)]: Using backend LokyBackend with 4 concurrent workers.\n",
      "[Parallel(n_jobs=-1)]: Done 280 tasks      | elapsed:    1.2s\n",
      "[Parallel(n_jobs=-1)]: Done 2000 out of 2000 | elapsed:    6.8s finished\n",
      "[Parallel(n_jobs=4)]: Using backend ThreadingBackend with 4 concurrent workers.\n",
      "[Parallel(n_jobs=4)]: Done  42 tasks      | elapsed:    0.0s\n",
      "[Parallel(n_jobs=4)]: Done 192 tasks      | elapsed:    0.1s\n",
      "[Parallel(n_jobs=4)]: Done 442 tasks      | elapsed:    0.1s\n",
      "[Parallel(n_jobs=4)]: Done 792 tasks      | elapsed:    0.3s\n",
      "[Parallel(n_jobs=4)]: Done 1242 tasks      | elapsed:    0.4s\n",
      "[Parallel(n_jobs=4)]: Done 1792 tasks      | elapsed:    0.6s\n",
      "[Parallel(n_jobs=4)]: Done 2000 out of 2000 | elapsed:    0.7s finished\n"
     ]
    },
    {
     "name": "stdout",
     "output_type": "stream",
     "text": [
      "[CV]  bootstrap=True, criterion=mse, max_depth=10, max_features=auto, min_samples_leaf=2, min_samples_split=2, min_weight_fraction_leaf=0.0, n_estimators=2000, n_jobs=-1, verbose=1, warm_start=False, explained_variance=0.449, neg_mean_absolute_error=-59.153, neg_mean_squared_error=-5766.302, neg_mean_squared_log_error=-0.067, neg_median_absolute_error=-48.672, r2=0.449, total=   8.9s\n",
      "[Parallel(n_jobs=1)]: Done  16 out of  16 | elapsed:  1.3min remaining:    0.0s\n",
      "[CV] bootstrap=True, criterion=mse, max_depth=10, max_features=auto, min_samples_leaf=2, min_samples_split=5, min_weight_fraction_leaf=0.0, n_estimators=200, n_jobs=-1, verbose=1, warm_start=False \n"
     ]
    },
    {
     "name": "stderr",
     "output_type": "stream",
     "text": [
      "[Parallel(n_jobs=-1)]: Using backend LokyBackend with 4 concurrent workers.\n",
      "[Parallel(n_jobs=-1)]: Done 190 tasks      | elapsed:    0.7s\n",
      "[Parallel(n_jobs=-1)]: Done 200 out of 200 | elapsed:    0.7s finished\n",
      "[Parallel(n_jobs=4)]: Using backend ThreadingBackend with 4 concurrent workers.\n",
      "[Parallel(n_jobs=4)]: Done  42 tasks      | elapsed:    0.0s\n",
      "[Parallel(n_jobs=4)]: Done 192 tasks      | elapsed:    0.1s\n",
      "[Parallel(n_jobs=4)]: Done 200 out of 200 | elapsed:    0.1s finished\n"
     ]
    },
    {
     "name": "stdout",
     "output_type": "stream",
     "text": [
      "[CV]  bootstrap=True, criterion=mse, max_depth=10, max_features=auto, min_samples_leaf=2, min_samples_split=5, min_weight_fraction_leaf=0.0, n_estimators=200, n_jobs=-1, verbose=1, warm_start=False, explained_variance=0.381, neg_mean_absolute_error=-61.103, neg_mean_squared_error=-5850.534, neg_mean_squared_log_error=-0.024, neg_median_absolute_error=-52.153, r2=0.380, total=   1.0s\n",
      "[Parallel(n_jobs=1)]: Done  17 out of  17 | elapsed:  1.4min remaining:    0.0s\n",
      "[CV] bootstrap=True, criterion=mse, max_depth=10, max_features=auto, min_samples_leaf=2, min_samples_split=5, min_weight_fraction_leaf=0.0, n_estimators=200, n_jobs=-1, verbose=1, warm_start=False \n"
     ]
    },
    {
     "name": "stderr",
     "output_type": "stream",
     "text": [
      "[Parallel(n_jobs=-1)]: Using backend LokyBackend with 4 concurrent workers.\n",
      "[Parallel(n_jobs=-1)]: Done 190 tasks      | elapsed:    0.8s\n",
      "[Parallel(n_jobs=-1)]: Done 200 out of 200 | elapsed:    0.8s finished\n",
      "[Parallel(n_jobs=4)]: Using backend ThreadingBackend with 4 concurrent workers.\n",
      "[Parallel(n_jobs=4)]: Done  42 tasks      | elapsed:    0.0s\n",
      "[Parallel(n_jobs=4)]: Done 192 tasks      | elapsed:    0.1s\n",
      "[Parallel(n_jobs=4)]: Done 200 out of 200 | elapsed:    0.1s finished\n"
     ]
    },
    {
     "name": "stdout",
     "output_type": "stream",
     "text": [
      "[CV]  bootstrap=True, criterion=mse, max_depth=10, max_features=auto, min_samples_leaf=2, min_samples_split=5, min_weight_fraction_leaf=0.0, n_estimators=200, n_jobs=-1, verbose=1, warm_start=False, explained_variance=0.450, neg_mean_absolute_error=-59.137, neg_mean_squared_error=-5756.538, neg_mean_squared_log_error=-0.067, neg_median_absolute_error=-48.464, r2=0.450, total=   1.1s\n",
      "[Parallel(n_jobs=1)]: Done  18 out of  18 | elapsed:  1.4min remaining:    0.0s\n",
      "[CV] bootstrap=True, criterion=mse, max_depth=10, max_features=auto, min_samples_leaf=2, min_samples_split=5, min_weight_fraction_leaf=0.0, n_estimators=2000, n_jobs=-1, verbose=1, warm_start=False \n"
     ]
    },
    {
     "name": "stderr",
     "output_type": "stream",
     "text": [
      "[Parallel(n_jobs=-1)]: Using backend LokyBackend with 4 concurrent workers.\n",
      "[Parallel(n_jobs=-1)]: Done 280 tasks      | elapsed:    1.3s\n",
      "[Parallel(n_jobs=-1)]: Done 2000 out of 2000 | elapsed:    7.2s finished\n",
      "[Parallel(n_jobs=4)]: Using backend ThreadingBackend with 4 concurrent workers.\n",
      "[Parallel(n_jobs=4)]: Done  42 tasks      | elapsed:    0.0s\n",
      "[Parallel(n_jobs=4)]: Done 192 tasks      | elapsed:    0.1s\n",
      "[Parallel(n_jobs=4)]: Done 442 tasks      | elapsed:    0.2s\n",
      "[Parallel(n_jobs=4)]: Done 792 tasks      | elapsed:    0.3s\n",
      "[Parallel(n_jobs=4)]: Done 1242 tasks      | elapsed:    0.5s\n",
      "[Parallel(n_jobs=4)]: Done 1792 tasks      | elapsed:    0.7s\n",
      "[Parallel(n_jobs=4)]: Done 2000 out of 2000 | elapsed:    0.8s finished\n"
     ]
    },
    {
     "name": "stdout",
     "output_type": "stream",
     "text": [
      "[CV]  bootstrap=True, criterion=mse, max_depth=10, max_features=auto, min_samples_leaf=2, min_samples_split=5, min_weight_fraction_leaf=0.0, n_estimators=2000, n_jobs=-1, verbose=1, warm_start=False, explained_variance=0.381, neg_mean_absolute_error=-61.090, neg_mean_squared_error=-5850.704, neg_mean_squared_log_error=-0.024, neg_median_absolute_error=-51.927, r2=0.380, total=   9.3s\n",
      "[Parallel(n_jobs=1)]: Done  19 out of  19 | elapsed:  1.5min remaining:    0.0s\n",
      "[CV] bootstrap=True, criterion=mse, max_depth=10, max_features=auto, min_samples_leaf=2, min_samples_split=5, min_weight_fraction_leaf=0.0, n_estimators=2000, n_jobs=-1, verbose=1, warm_start=False \n"
     ]
    },
    {
     "name": "stderr",
     "output_type": "stream",
     "text": [
      "[Parallel(n_jobs=-1)]: Using backend LokyBackend with 4 concurrent workers.\n",
      "[Parallel(n_jobs=-1)]: Done 280 tasks      | elapsed:    1.1s\n",
      "[Parallel(n_jobs=-1)]: Done 2000 out of 2000 | elapsed:    6.8s finished\n",
      "[Parallel(n_jobs=4)]: Using backend ThreadingBackend with 4 concurrent workers.\n",
      "[Parallel(n_jobs=4)]: Done  42 tasks      | elapsed:    0.0s\n",
      "[Parallel(n_jobs=4)]: Done 192 tasks      | elapsed:    0.1s\n",
      "[Parallel(n_jobs=4)]: Done 442 tasks      | elapsed:    0.2s\n",
      "[Parallel(n_jobs=4)]: Done 792 tasks      | elapsed:    0.3s\n",
      "[Parallel(n_jobs=4)]: Done 1242 tasks      | elapsed:    0.4s\n",
      "[Parallel(n_jobs=4)]: Done 1792 tasks      | elapsed:    0.6s\n",
      "[Parallel(n_jobs=4)]: Done 2000 out of 2000 | elapsed:    0.7s finished\n"
     ]
    },
    {
     "name": "stdout",
     "output_type": "stream",
     "text": [
      "[CV]  bootstrap=True, criterion=mse, max_depth=10, max_features=auto, min_samples_leaf=2, min_samples_split=5, min_weight_fraction_leaf=0.0, n_estimators=2000, n_jobs=-1, verbose=1, warm_start=False, explained_variance=0.449, neg_mean_absolute_error=-59.096, neg_mean_squared_error=-5764.461, neg_mean_squared_log_error=-0.067, neg_median_absolute_error=-48.573, r2=0.449, total=   9.1s\n",
      "[Parallel(n_jobs=1)]: Done  20 out of  20 | elapsed:  1.7min remaining:    0.0s\n",
      "[CV] bootstrap=True, criterion=mse, max_depth=10, max_features=auto, min_samples_leaf=2, min_samples_split=10, min_weight_fraction_leaf=0.0, n_estimators=200, n_jobs=-1, verbose=1, warm_start=False \n"
     ]
    },
    {
     "name": "stderr",
     "output_type": "stream",
     "text": [
      "[Parallel(n_jobs=-1)]: Using backend LokyBackend with 4 concurrent workers.\n",
      "[Parallel(n_jobs=-1)]: Done 190 tasks      | elapsed:    0.7s\n",
      "[Parallel(n_jobs=-1)]: Done 200 out of 200 | elapsed:    0.7s finished\n",
      "[Parallel(n_jobs=4)]: Using backend ThreadingBackend with 4 concurrent workers.\n",
      "[Parallel(n_jobs=4)]: Done  42 tasks      | elapsed:    0.0s\n",
      "[Parallel(n_jobs=4)]: Done 192 tasks      | elapsed:    0.1s\n",
      "[Parallel(n_jobs=4)]: Done 200 out of 200 | elapsed:    0.1s finished\n"
     ]
    },
    {
     "name": "stdout",
     "output_type": "stream",
     "text": [
      "[CV]  bootstrap=True, criterion=mse, max_depth=10, max_features=auto, min_samples_leaf=2, min_samples_split=10, min_weight_fraction_leaf=0.0, n_estimators=200, n_jobs=-1, verbose=1, warm_start=False, explained_variance=0.382, neg_mean_absolute_error=-60.951, neg_mean_squared_error=-5840.120, neg_mean_squared_log_error=-0.024, neg_median_absolute_error=-52.069, r2=0.381, total=   0.9s\n",
      "[Parallel(n_jobs=1)]: Done  21 out of  21 | elapsed:  1.7min remaining:    0.0s\n",
      "[CV] bootstrap=True, criterion=mse, max_depth=10, max_features=auto, min_samples_leaf=2, min_samples_split=10, min_weight_fraction_leaf=0.0, n_estimators=200, n_jobs=-1, verbose=1, warm_start=False \n"
     ]
    },
    {
     "name": "stderr",
     "output_type": "stream",
     "text": [
      "[Parallel(n_jobs=-1)]: Using backend LokyBackend with 4 concurrent workers.\n",
      "[Parallel(n_jobs=-1)]: Done 190 tasks      | elapsed:    0.7s\n",
      "[Parallel(n_jobs=-1)]: Done 200 out of 200 | elapsed:    0.7s finished\n",
      "[Parallel(n_jobs=4)]: Using backend ThreadingBackend with 4 concurrent workers.\n",
      "[Parallel(n_jobs=4)]: Done  42 tasks      | elapsed:    0.0s\n",
      "[Parallel(n_jobs=4)]: Done 192 tasks      | elapsed:    0.1s\n",
      "[Parallel(n_jobs=4)]: Done 200 out of 200 | elapsed:    0.1s finished\n"
     ]
    },
    {
     "name": "stdout",
     "output_type": "stream",
     "text": [
      "[CV]  bootstrap=True, criterion=mse, max_depth=10, max_features=auto, min_samples_leaf=2, min_samples_split=10, min_weight_fraction_leaf=0.0, n_estimators=200, n_jobs=-1, verbose=1, warm_start=False, explained_variance=0.451, neg_mean_absolute_error=-59.042, neg_mean_squared_error=-5751.437, neg_mean_squared_log_error=-0.067, neg_median_absolute_error=-48.668, r2=0.450, total=   0.9s\n",
      "[Parallel(n_jobs=1)]: Done  22 out of  22 | elapsed:  1.7min remaining:    0.0s\n",
      "[CV] bootstrap=True, criterion=mse, max_depth=10, max_features=auto, min_samples_leaf=2, min_samples_split=10, min_weight_fraction_leaf=0.0, n_estimators=2000, n_jobs=-1, verbose=1, warm_start=False \n"
     ]
    },
    {
     "name": "stderr",
     "output_type": "stream",
     "text": [
      "[Parallel(n_jobs=-1)]: Using backend LokyBackend with 4 concurrent workers.\n",
      "[Parallel(n_jobs=-1)]: Done 280 tasks      | elapsed:    1.1s\n",
      "[Parallel(n_jobs=-1)]: Done 2000 out of 2000 | elapsed:    6.5s finished\n",
      "[Parallel(n_jobs=4)]: Using backend ThreadingBackend with 4 concurrent workers.\n",
      "[Parallel(n_jobs=4)]: Done  42 tasks      | elapsed:    0.0s\n",
      "[Parallel(n_jobs=4)]: Done 192 tasks      | elapsed:    0.1s\n",
      "[Parallel(n_jobs=4)]: Done 442 tasks      | elapsed:    0.2s\n",
      "[Parallel(n_jobs=4)]: Done 792 tasks      | elapsed:    0.3s\n",
      "[Parallel(n_jobs=4)]: Done 1242 tasks      | elapsed:    0.5s\n",
      "[Parallel(n_jobs=4)]: Done 1792 tasks      | elapsed:    0.7s\n",
      "[Parallel(n_jobs=4)]: Done 2000 out of 2000 | elapsed:    0.8s finished\n"
     ]
    },
    {
     "name": "stdout",
     "output_type": "stream",
     "text": [
      "[CV]  bootstrap=True, criterion=mse, max_depth=10, max_features=auto, min_samples_leaf=2, min_samples_split=10, min_weight_fraction_leaf=0.0, n_estimators=2000, n_jobs=-1, verbose=1, warm_start=False, explained_variance=0.382, neg_mean_absolute_error=-61.006, neg_mean_squared_error=-5839.581, neg_mean_squared_log_error=-0.024, neg_median_absolute_error=-52.271, r2=0.381, total=   8.6s\n",
      "[Parallel(n_jobs=1)]: Done  23 out of  23 | elapsed:  1.9min remaining:    0.0s\n",
      "[CV] bootstrap=True, criterion=mse, max_depth=10, max_features=auto, min_samples_leaf=2, min_samples_split=10, min_weight_fraction_leaf=0.0, n_estimators=2000, n_jobs=-1, verbose=1, warm_start=False \n"
     ]
    },
    {
     "name": "stderr",
     "output_type": "stream",
     "text": [
      "[Parallel(n_jobs=-1)]: Using backend LokyBackend with 4 concurrent workers.\n",
      "[Parallel(n_jobs=-1)]: Done 280 tasks      | elapsed:    1.0s\n",
      "[Parallel(n_jobs=-1)]: Done 2000 out of 2000 | elapsed:    6.8s finished\n",
      "[Parallel(n_jobs=4)]: Using backend ThreadingBackend with 4 concurrent workers.\n",
      "[Parallel(n_jobs=4)]: Done  42 tasks      | elapsed:    0.0s\n",
      "[Parallel(n_jobs=4)]: Done 192 tasks      | elapsed:    0.1s\n",
      "[Parallel(n_jobs=4)]: Done 442 tasks      | elapsed:    0.2s\n",
      "[Parallel(n_jobs=4)]: Done 792 tasks      | elapsed:    0.3s\n",
      "[Parallel(n_jobs=4)]: Done 1242 tasks      | elapsed:    0.5s\n",
      "[Parallel(n_jobs=4)]: Done 1792 tasks      | elapsed:    0.7s\n",
      "[Parallel(n_jobs=4)]: Done 2000 out of 2000 | elapsed:    0.8s finished\n"
     ]
    },
    {
     "name": "stdout",
     "output_type": "stream",
     "text": [
      "[CV]  bootstrap=True, criterion=mse, max_depth=10, max_features=auto, min_samples_leaf=2, min_samples_split=10, min_weight_fraction_leaf=0.0, n_estimators=2000, n_jobs=-1, verbose=1, warm_start=False, explained_variance=0.453, neg_mean_absolute_error=-58.920, neg_mean_squared_error=-5725.706, neg_mean_squared_log_error=-0.067, neg_median_absolute_error=-48.492, r2=0.453, total=   9.0s\n",
      "[Parallel(n_jobs=1)]: Done  24 out of  24 | elapsed:  2.0min remaining:    0.0s\n",
      "[CV] bootstrap=True, criterion=mse, max_depth=10, max_features=auto, min_samples_leaf=4, min_samples_split=2, min_weight_fraction_leaf=0.0, n_estimators=200, n_jobs=-1, verbose=1, warm_start=False \n"
     ]
    },
    {
     "name": "stderr",
     "output_type": "stream",
     "text": [
      "[Parallel(n_jobs=-1)]: Using backend LokyBackend with 4 concurrent workers.\n",
      "[Parallel(n_jobs=-1)]: Done 190 tasks      | elapsed:    0.7s\n",
      "[Parallel(n_jobs=-1)]: Done 200 out of 200 | elapsed:    0.8s finished\n",
      "[Parallel(n_jobs=4)]: Using backend ThreadingBackend with 4 concurrent workers.\n",
      "[Parallel(n_jobs=4)]: Done  42 tasks      | elapsed:    0.0s\n",
      "[Parallel(n_jobs=4)]: Done 192 tasks      | elapsed:    0.1s\n",
      "[Parallel(n_jobs=4)]: Done 200 out of 200 | elapsed:    0.1s finished\n"
     ]
    },
    {
     "name": "stdout",
     "output_type": "stream",
     "text": [
      "[CV]  bootstrap=True, criterion=mse, max_depth=10, max_features=auto, min_samples_leaf=4, min_samples_split=2, min_weight_fraction_leaf=0.0, n_estimators=200, n_jobs=-1, verbose=1, warm_start=False, explained_variance=0.377, neg_mean_absolute_error=-61.232, neg_mean_squared_error=-5884.287, neg_mean_squared_log_error=-0.025, neg_median_absolute_error=-51.840, r2=0.377, total=   1.0s\n",
      "[Parallel(n_jobs=1)]: Done  25 out of  25 | elapsed:  2.0min remaining:    0.0s\n",
      "[CV] bootstrap=True, criterion=mse, max_depth=10, max_features=auto, min_samples_leaf=4, min_samples_split=2, min_weight_fraction_leaf=0.0, n_estimators=200, n_jobs=-1, verbose=1, warm_start=False \n"
     ]
    },
    {
     "name": "stderr",
     "output_type": "stream",
     "text": [
      "[Parallel(n_jobs=-1)]: Using backend LokyBackend with 4 concurrent workers.\n",
      "[Parallel(n_jobs=-1)]: Done 190 tasks      | elapsed:    0.7s\n",
      "[Parallel(n_jobs=-1)]: Done 200 out of 200 | elapsed:    0.7s finished\n",
      "[Parallel(n_jobs=4)]: Using backend ThreadingBackend with 4 concurrent workers.\n",
      "[Parallel(n_jobs=4)]: Done  42 tasks      | elapsed:    0.0s\n",
      "[Parallel(n_jobs=4)]: Done 192 tasks      | elapsed:    0.1s\n",
      "[Parallel(n_jobs=4)]: Done 200 out of 200 | elapsed:    0.1s finished\n"
     ]
    },
    {
     "name": "stdout",
     "output_type": "stream",
     "text": [
      "[CV]  bootstrap=True, criterion=mse, max_depth=10, max_features=auto, min_samples_leaf=4, min_samples_split=2, min_weight_fraction_leaf=0.0, n_estimators=200, n_jobs=-1, verbose=1, warm_start=False, explained_variance=0.450, neg_mean_absolute_error=-59.056, neg_mean_squared_error=-5754.649, neg_mean_squared_log_error=-0.067, neg_median_absolute_error=-48.619, r2=0.450, total=   1.0s\n",
      "[Parallel(n_jobs=1)]: Done  26 out of  26 | elapsed:  2.0min remaining:    0.0s\n",
      "[CV] bootstrap=True, criterion=mse, max_depth=10, max_features=auto, min_samples_leaf=4, min_samples_split=2, min_weight_fraction_leaf=0.0, n_estimators=2000, n_jobs=-1, verbose=1, warm_start=False \n"
     ]
    },
    {
     "name": "stderr",
     "output_type": "stream",
     "text": [
      "[Parallel(n_jobs=-1)]: Using backend LokyBackend with 4 concurrent workers.\n",
      "[Parallel(n_jobs=-1)]: Done 280 tasks      | elapsed:    1.0s\n",
      "[Parallel(n_jobs=-1)]: Done 2000 out of 2000 | elapsed:    6.4s finished\n",
      "[Parallel(n_jobs=4)]: Using backend ThreadingBackend with 4 concurrent workers.\n",
      "[Parallel(n_jobs=4)]: Done  42 tasks      | elapsed:    0.0s\n",
      "[Parallel(n_jobs=4)]: Done 192 tasks      | elapsed:    0.1s\n",
      "[Parallel(n_jobs=4)]: Done 442 tasks      | elapsed:    0.2s\n",
      "[Parallel(n_jobs=4)]: Done 792 tasks      | elapsed:    0.3s\n",
      "[Parallel(n_jobs=4)]: Done 1242 tasks      | elapsed:    0.5s\n",
      "[Parallel(n_jobs=4)]: Done 1792 tasks      | elapsed:    0.7s\n",
      "[Parallel(n_jobs=4)]: Done 2000 out of 2000 | elapsed:    0.7s finished\n"
     ]
    },
    {
     "name": "stdout",
     "output_type": "stream",
     "text": [
      "[CV]  bootstrap=True, criterion=mse, max_depth=10, max_features=auto, min_samples_leaf=4, min_samples_split=2, min_weight_fraction_leaf=0.0, n_estimators=2000, n_jobs=-1, verbose=1, warm_start=False, explained_variance=0.377, neg_mean_absolute_error=-61.225, neg_mean_squared_error=-5882.380, neg_mean_squared_log_error=-0.025, neg_median_absolute_error=-51.944, r2=0.377, total=   8.5s\n",
      "[Parallel(n_jobs=1)]: Done  27 out of  27 | elapsed:  2.2min remaining:    0.0s\n",
      "[CV] bootstrap=True, criterion=mse, max_depth=10, max_features=auto, min_samples_leaf=4, min_samples_split=2, min_weight_fraction_leaf=0.0, n_estimators=2000, n_jobs=-1, verbose=1, warm_start=False \n"
     ]
    },
    {
     "name": "stderr",
     "output_type": "stream",
     "text": [
      "[Parallel(n_jobs=-1)]: Using backend LokyBackend with 4 concurrent workers.\n",
      "[Parallel(n_jobs=-1)]: Done 280 tasks      | elapsed:    0.9s\n",
      "[Parallel(n_jobs=-1)]: Done 2000 out of 2000 | elapsed:    6.1s finished\n",
      "[Parallel(n_jobs=4)]: Using backend ThreadingBackend with 4 concurrent workers.\n",
      "[Parallel(n_jobs=4)]: Done  42 tasks      | elapsed:    0.0s\n",
      "[Parallel(n_jobs=4)]: Done 192 tasks      | elapsed:    0.1s\n",
      "[Parallel(n_jobs=4)]: Done 442 tasks      | elapsed:    0.2s\n",
      "[Parallel(n_jobs=4)]: Done 792 tasks      | elapsed:    0.3s\n",
      "[Parallel(n_jobs=4)]: Done 1242 tasks      | elapsed:    0.4s\n",
      "[Parallel(n_jobs=4)]: Done 1792 tasks      | elapsed:    0.7s\n",
      "[Parallel(n_jobs=4)]: Done 2000 out of 2000 | elapsed:    0.7s finished\n"
     ]
    },
    {
     "name": "stdout",
     "output_type": "stream",
     "text": [
      "[CV]  bootstrap=True, criterion=mse, max_depth=10, max_features=auto, min_samples_leaf=4, min_samples_split=2, min_weight_fraction_leaf=0.0, n_estimators=2000, n_jobs=-1, verbose=1, warm_start=False, explained_variance=0.453, neg_mean_absolute_error=-58.936, neg_mean_squared_error=-5723.029, neg_mean_squared_log_error=-0.067, neg_median_absolute_error=-48.539, r2=0.453, total=   8.1s\n",
      "[Parallel(n_jobs=1)]: Done  28 out of  28 | elapsed:  2.3min remaining:    0.0s\n",
      "[CV] bootstrap=True, criterion=mse, max_depth=10, max_features=auto, min_samples_leaf=4, min_samples_split=5, min_weight_fraction_leaf=0.0, n_estimators=200, n_jobs=-1, verbose=1, warm_start=False \n"
     ]
    },
    {
     "name": "stderr",
     "output_type": "stream",
     "text": [
      "[Parallel(n_jobs=-1)]: Using backend LokyBackend with 4 concurrent workers.\n",
      "[Parallel(n_jobs=-1)]: Done 190 tasks      | elapsed:    0.6s\n",
      "[Parallel(n_jobs=-1)]: Done 200 out of 200 | elapsed:    0.7s finished\n",
      "[Parallel(n_jobs=4)]: Using backend ThreadingBackend with 4 concurrent workers.\n",
      "[Parallel(n_jobs=4)]: Done  42 tasks      | elapsed:    0.0s\n",
      "[Parallel(n_jobs=4)]: Done 192 tasks      | elapsed:    0.1s\n",
      "[Parallel(n_jobs=4)]: Done 200 out of 200 | elapsed:    0.1s finished\n"
     ]
    },
    {
     "name": "stdout",
     "output_type": "stream",
     "text": [
      "[CV]  bootstrap=True, criterion=mse, max_depth=10, max_features=auto, min_samples_leaf=4, min_samples_split=5, min_weight_fraction_leaf=0.0, n_estimators=200, n_jobs=-1, verbose=1, warm_start=False, explained_variance=0.376, neg_mean_absolute_error=-61.331, neg_mean_squared_error=-5898.862, neg_mean_squared_log_error=-0.025, neg_median_absolute_error=-52.502, r2=0.375, total=   0.9s\n",
      "[Parallel(n_jobs=1)]: Done  29 out of  29 | elapsed:  2.3min remaining:    0.0s\n",
      "[CV] bootstrap=True, criterion=mse, max_depth=10, max_features=auto, min_samples_leaf=4, min_samples_split=5, min_weight_fraction_leaf=0.0, n_estimators=200, n_jobs=-1, verbose=1, warm_start=False \n"
     ]
    },
    {
     "name": "stderr",
     "output_type": "stream",
     "text": [
      "[Parallel(n_jobs=-1)]: Using backend LokyBackend with 4 concurrent workers.\n",
      "[Parallel(n_jobs=-1)]: Done 175 tasks      | elapsed:    0.6s\n",
      "[Parallel(n_jobs=-1)]: Done 200 out of 200 | elapsed:    0.7s finished\n",
      "[Parallel(n_jobs=4)]: Using backend ThreadingBackend with 4 concurrent workers.\n",
      "[Parallel(n_jobs=4)]: Done  42 tasks      | elapsed:    0.0s\n",
      "[Parallel(n_jobs=4)]: Done 192 tasks      | elapsed:    0.1s\n",
      "[Parallel(n_jobs=4)]: Done 200 out of 200 | elapsed:    0.1s finished\n"
     ]
    },
    {
     "name": "stdout",
     "output_type": "stream",
     "text": [
      "[CV]  bootstrap=True, criterion=mse, max_depth=10, max_features=auto, min_samples_leaf=4, min_samples_split=5, min_weight_fraction_leaf=0.0, n_estimators=200, n_jobs=-1, verbose=1, warm_start=False, explained_variance=0.449, neg_mean_absolute_error=-59.136, neg_mean_squared_error=-5768.650, neg_mean_squared_log_error=-0.067, neg_median_absolute_error=-48.841, r2=0.449, total=   0.9s\n",
      "[Parallel(n_jobs=1)]: Done  30 out of  30 | elapsed:  2.3min remaining:    0.0s\n",
      "[CV] bootstrap=True, criterion=mse, max_depth=10, max_features=auto, min_samples_leaf=4, min_samples_split=5, min_weight_fraction_leaf=0.0, n_estimators=2000, n_jobs=-1, verbose=1, warm_start=False \n"
     ]
    },
    {
     "name": "stderr",
     "output_type": "stream",
     "text": [
      "[Parallel(n_jobs=-1)]: Using backend LokyBackend with 4 concurrent workers.\n",
      "[Parallel(n_jobs=-1)]: Done 280 tasks      | elapsed:    1.0s\n",
      "[Parallel(n_jobs=-1)]: Done 2000 out of 2000 | elapsed:    6.1s finished\n",
      "[Parallel(n_jobs=4)]: Using backend ThreadingBackend with 4 concurrent workers.\n",
      "[Parallel(n_jobs=4)]: Done  42 tasks      | elapsed:    0.0s\n",
      "[Parallel(n_jobs=4)]: Done 192 tasks      | elapsed:    0.1s\n",
      "[Parallel(n_jobs=4)]: Done 442 tasks      | elapsed:    0.2s\n",
      "[Parallel(n_jobs=4)]: Done 792 tasks      | elapsed:    0.3s\n",
      "[Parallel(n_jobs=4)]: Done 1242 tasks      | elapsed:    0.5s\n",
      "[Parallel(n_jobs=4)]: Done 1792 tasks      | elapsed:    0.7s\n",
      "[Parallel(n_jobs=4)]: Done 2000 out of 2000 | elapsed:    0.7s finished\n"
     ]
    },
    {
     "name": "stdout",
     "output_type": "stream",
     "text": [
      "[CV]  bootstrap=True, criterion=mse, max_depth=10, max_features=auto, min_samples_leaf=4, min_samples_split=5, min_weight_fraction_leaf=0.0, n_estimators=2000, n_jobs=-1, verbose=1, warm_start=False, explained_variance=0.377, neg_mean_absolute_error=-61.208, neg_mean_squared_error=-5880.798, neg_mean_squared_log_error=-0.025, neg_median_absolute_error=-52.053, r2=0.377, total=   8.2s\n",
      "[Parallel(n_jobs=1)]: Done  31 out of  31 | elapsed:  2.5min remaining:    0.0s\n",
      "[CV] bootstrap=True, criterion=mse, max_depth=10, max_features=auto, min_samples_leaf=4, min_samples_split=5, min_weight_fraction_leaf=0.0, n_estimators=2000, n_jobs=-1, verbose=1, warm_start=False \n"
     ]
    },
    {
     "name": "stderr",
     "output_type": "stream",
     "text": [
      "[Parallel(n_jobs=-1)]: Using backend LokyBackend with 4 concurrent workers.\n",
      "[Parallel(n_jobs=-1)]: Done 280 tasks      | elapsed:    1.0s\n",
      "[Parallel(n_jobs=-1)]: Done 2000 out of 2000 | elapsed:    6.1s finished\n",
      "[Parallel(n_jobs=4)]: Using backend ThreadingBackend with 4 concurrent workers.\n",
      "[Parallel(n_jobs=4)]: Done  42 tasks      | elapsed:    0.0s\n",
      "[Parallel(n_jobs=4)]: Done 192 tasks      | elapsed:    0.1s\n",
      "[Parallel(n_jobs=4)]: Done 442 tasks      | elapsed:    0.2s\n",
      "[Parallel(n_jobs=4)]: Done 792 tasks      | elapsed:    0.3s\n",
      "[Parallel(n_jobs=4)]: Done 1242 tasks      | elapsed:    0.4s\n",
      "[Parallel(n_jobs=4)]: Done 1792 tasks      | elapsed:    0.6s\n",
      "[Parallel(n_jobs=4)]: Done 2000 out of 2000 | elapsed:    0.7s finished\n"
     ]
    },
    {
     "name": "stdout",
     "output_type": "stream",
     "text": [
      "[CV]  bootstrap=True, criterion=mse, max_depth=10, max_features=auto, min_samples_leaf=4, min_samples_split=5, min_weight_fraction_leaf=0.0, n_estimators=2000, n_jobs=-1, verbose=1, warm_start=False, explained_variance=0.454, neg_mean_absolute_error=-58.881, neg_mean_squared_error=-5716.142, neg_mean_squared_log_error=-0.067, neg_median_absolute_error=-48.576, r2=0.454, total=   8.2s\n",
      "[Parallel(n_jobs=1)]: Done  32 out of  32 | elapsed:  2.6min remaining:    0.0s\n",
      "[CV] bootstrap=True, criterion=mse, max_depth=10, max_features=auto, min_samples_leaf=4, min_samples_split=10, min_weight_fraction_leaf=0.0, n_estimators=200, n_jobs=-1, verbose=1, warm_start=False \n"
     ]
    },
    {
     "name": "stderr",
     "output_type": "stream",
     "text": [
      "[Parallel(n_jobs=-1)]: Using backend LokyBackend with 4 concurrent workers.\n",
      "[Parallel(n_jobs=-1)]: Done 175 tasks      | elapsed:    0.7s\n",
      "[Parallel(n_jobs=-1)]: Done 200 out of 200 | elapsed:    0.7s finished\n",
      "[Parallel(n_jobs=4)]: Using backend ThreadingBackend with 4 concurrent workers.\n",
      "[Parallel(n_jobs=4)]: Done  42 tasks      | elapsed:    0.0s\n",
      "[Parallel(n_jobs=4)]: Done 192 tasks      | elapsed:    0.1s\n",
      "[Parallel(n_jobs=4)]: Done 200 out of 200 | elapsed:    0.1s finished\n"
     ]
    },
    {
     "name": "stdout",
     "output_type": "stream",
     "text": [
      "[CV]  bootstrap=True, criterion=mse, max_depth=10, max_features=auto, min_samples_leaf=4, min_samples_split=10, min_weight_fraction_leaf=0.0, n_estimators=200, n_jobs=-1, verbose=1, warm_start=False, explained_variance=0.378, neg_mean_absolute_error=-61.174, neg_mean_squared_error=-5876.525, neg_mean_squared_log_error=-0.025, neg_median_absolute_error=-51.551, r2=0.378, total=   0.9s\n",
      "[Parallel(n_jobs=1)]: Done  33 out of  33 | elapsed:  2.6min remaining:    0.0s\n",
      "[CV] bootstrap=True, criterion=mse, max_depth=10, max_features=auto, min_samples_leaf=4, min_samples_split=10, min_weight_fraction_leaf=0.0, n_estimators=200, n_jobs=-1, verbose=1, warm_start=False \n"
     ]
    },
    {
     "name": "stderr",
     "output_type": "stream",
     "text": [
      "[Parallel(n_jobs=-1)]: Using backend LokyBackend with 4 concurrent workers.\n",
      "[Parallel(n_jobs=-1)]: Done 190 tasks      | elapsed:    0.7s\n",
      "[Parallel(n_jobs=-1)]: Done 200 out of 200 | elapsed:    0.7s finished\n",
      "[Parallel(n_jobs=4)]: Using backend ThreadingBackend with 4 concurrent workers.\n",
      "[Parallel(n_jobs=4)]: Done  42 tasks      | elapsed:    0.1s\n",
      "[Parallel(n_jobs=4)]: Done 192 tasks      | elapsed:    0.1s\n",
      "[Parallel(n_jobs=4)]: Done 200 out of 200 | elapsed:    0.1s finished\n"
     ]
    },
    {
     "name": "stdout",
     "output_type": "stream",
     "text": [
      "[CV]  bootstrap=True, criterion=mse, max_depth=10, max_features=auto, min_samples_leaf=4, min_samples_split=10, min_weight_fraction_leaf=0.0, n_estimators=200, n_jobs=-1, verbose=1, warm_start=False, explained_variance=0.454, neg_mean_absolute_error=-58.901, neg_mean_squared_error=-5720.080, neg_mean_squared_log_error=-0.067, neg_median_absolute_error=-48.861, r2=0.453, total=   1.1s\n",
      "[Parallel(n_jobs=1)]: Done  34 out of  34 | elapsed:  2.7min remaining:    0.0s\n",
      "[CV] bootstrap=True, criterion=mse, max_depth=10, max_features=auto, min_samples_leaf=4, min_samples_split=10, min_weight_fraction_leaf=0.0, n_estimators=2000, n_jobs=-1, verbose=1, warm_start=False \n"
     ]
    },
    {
     "name": "stderr",
     "output_type": "stream",
     "text": [
      "[Parallel(n_jobs=-1)]: Using backend LokyBackend with 4 concurrent workers.\n",
      "[Parallel(n_jobs=-1)]: Done 280 tasks      | elapsed:    1.0s\n",
      "[Parallel(n_jobs=-1)]: Done 2000 out of 2000 | elapsed:    6.2s finished\n",
      "[Parallel(n_jobs=4)]: Using backend ThreadingBackend with 4 concurrent workers.\n",
      "[Parallel(n_jobs=4)]: Done  42 tasks      | elapsed:    0.0s\n",
      "[Parallel(n_jobs=4)]: Done 192 tasks      | elapsed:    0.1s\n",
      "[Parallel(n_jobs=4)]: Done 442 tasks      | elapsed:    0.2s\n",
      "[Parallel(n_jobs=4)]: Done 792 tasks      | elapsed:    0.3s\n",
      "[Parallel(n_jobs=4)]: Done 1242 tasks      | elapsed:    0.4s\n",
      "[Parallel(n_jobs=4)]: Done 1792 tasks      | elapsed:    0.6s\n",
      "[Parallel(n_jobs=4)]: Done 2000 out of 2000 | elapsed:    0.7s finished\n"
     ]
    },
    {
     "name": "stdout",
     "output_type": "stream",
     "text": [
      "[CV]  bootstrap=True, criterion=mse, max_depth=10, max_features=auto, min_samples_leaf=4, min_samples_split=10, min_weight_fraction_leaf=0.0, n_estimators=2000, n_jobs=-1, verbose=1, warm_start=False, explained_variance=0.379, neg_mean_absolute_error=-61.163, neg_mean_squared_error=-5866.391, neg_mean_squared_log_error=-0.025, neg_median_absolute_error=-52.202, r2=0.379, total=   8.3s\n",
      "[Parallel(n_jobs=1)]: Done  35 out of  35 | elapsed:  2.8min remaining:    0.0s\n",
      "[CV] bootstrap=True, criterion=mse, max_depth=10, max_features=auto, min_samples_leaf=4, min_samples_split=10, min_weight_fraction_leaf=0.0, n_estimators=2000, n_jobs=-1, verbose=1, warm_start=False \n"
     ]
    },
    {
     "name": "stderr",
     "output_type": "stream",
     "text": [
      "[Parallel(n_jobs=-1)]: Using backend LokyBackend with 4 concurrent workers.\n",
      "[Parallel(n_jobs=-1)]: Done 280 tasks      | elapsed:    0.9s\n",
      "[Parallel(n_jobs=-1)]: Done 2000 out of 2000 | elapsed:    6.0s finished\n",
      "[Parallel(n_jobs=4)]: Using backend ThreadingBackend with 4 concurrent workers.\n",
      "[Parallel(n_jobs=4)]: Done  42 tasks      | elapsed:    0.0s\n",
      "[Parallel(n_jobs=4)]: Done 192 tasks      | elapsed:    0.1s\n",
      "[Parallel(n_jobs=4)]: Done 442 tasks      | elapsed:    0.2s\n",
      "[Parallel(n_jobs=4)]: Done 792 tasks      | elapsed:    0.3s\n",
      "[Parallel(n_jobs=4)]: Done 1242 tasks      | elapsed:    0.4s\n",
      "[Parallel(n_jobs=4)]: Done 1792 tasks      | elapsed:    0.6s\n",
      "[Parallel(n_jobs=4)]: Done 2000 out of 2000 | elapsed:    0.7s finished\n"
     ]
    },
    {
     "name": "stdout",
     "output_type": "stream",
     "text": [
      "[CV]  bootstrap=True, criterion=mse, max_depth=10, max_features=auto, min_samples_leaf=4, min_samples_split=10, min_weight_fraction_leaf=0.0, n_estimators=2000, n_jobs=-1, verbose=1, warm_start=False, explained_variance=0.454, neg_mean_absolute_error=-58.863, neg_mean_squared_error=-5715.885, neg_mean_squared_log_error=-0.067, neg_median_absolute_error=-48.822, r2=0.454, total=   8.0s\n",
      "[Parallel(n_jobs=1)]: Done  36 out of  36 | elapsed:  2.9min remaining:    0.0s\n",
      "[CV] bootstrap=True, criterion=mse, max_depth=10, max_features=sqrt, min_samples_leaf=1, min_samples_split=2, min_weight_fraction_leaf=0.0, n_estimators=200, n_jobs=-1, verbose=1, warm_start=False \n"
     ]
    },
    {
     "name": "stderr",
     "output_type": "stream",
     "text": [
      "[Parallel(n_jobs=-1)]: Using backend LokyBackend with 4 concurrent workers.\n",
      "[Parallel(n_jobs=-1)]: Done 175 tasks      | elapsed:    0.4s\n",
      "[Parallel(n_jobs=-1)]: Done 200 out of 200 | elapsed:    0.4s finished\n",
      "[Parallel(n_jobs=4)]: Using backend ThreadingBackend with 4 concurrent workers.\n",
      "[Parallel(n_jobs=4)]: Done  42 tasks      | elapsed:    0.0s\n",
      "[Parallel(n_jobs=4)]: Done 192 tasks      | elapsed:    0.1s\n",
      "[Parallel(n_jobs=4)]: Done 200 out of 200 | elapsed:    0.1s finished\n"
     ]
    },
    {
     "name": "stdout",
     "output_type": "stream",
     "text": [
      "[CV]  bootstrap=True, criterion=mse, max_depth=10, max_features=sqrt, min_samples_leaf=1, min_samples_split=2, min_weight_fraction_leaf=0.0, n_estimators=200, n_jobs=-1, verbose=1, warm_start=False, explained_variance=0.395, neg_mean_absolute_error=-60.808, neg_mean_squared_error=-5719.210, neg_mean_squared_log_error=-0.024, neg_median_absolute_error=-52.649, r2=0.394, total=   0.7s\n",
      "[Parallel(n_jobs=1)]: Done  37 out of  37 | elapsed:  2.9min remaining:    0.0s\n",
      "[CV] bootstrap=True, criterion=mse, max_depth=10, max_features=sqrt, min_samples_leaf=1, min_samples_split=2, min_weight_fraction_leaf=0.0, n_estimators=200, n_jobs=-1, verbose=1, warm_start=False \n"
     ]
    },
    {
     "name": "stderr",
     "output_type": "stream",
     "text": [
      "[Parallel(n_jobs=-1)]: Using backend LokyBackend with 4 concurrent workers.\n",
      "[Parallel(n_jobs=-1)]: Done 190 tasks      | elapsed:    0.4s\n",
      "[Parallel(n_jobs=-1)]: Done 200 out of 200 | elapsed:    0.4s finished\n",
      "[Parallel(n_jobs=4)]: Using backend ThreadingBackend with 4 concurrent workers.\n",
      "[Parallel(n_jobs=4)]: Done  42 tasks      | elapsed:    0.0s\n",
      "[Parallel(n_jobs=4)]: Done 192 tasks      | elapsed:    0.1s\n",
      "[Parallel(n_jobs=4)]: Done 200 out of 200 | elapsed:    0.1s finished\n"
     ]
    },
    {
     "name": "stdout",
     "output_type": "stream",
     "text": [
      "[CV]  bootstrap=True, criterion=mse, max_depth=10, max_features=sqrt, min_samples_leaf=1, min_samples_split=2, min_weight_fraction_leaf=0.0, n_estimators=200, n_jobs=-1, verbose=1, warm_start=False, explained_variance=0.452, neg_mean_absolute_error=-58.928, neg_mean_squared_error=-5733.291, neg_mean_squared_log_error=-0.067, neg_median_absolute_error=-49.438, r2=0.452, total=   0.7s\n",
      "[Parallel(n_jobs=1)]: Done  38 out of  38 | elapsed:  2.9min remaining:    0.0s\n",
      "[CV] bootstrap=True, criterion=mse, max_depth=10, max_features=sqrt, min_samples_leaf=1, min_samples_split=2, min_weight_fraction_leaf=0.0, n_estimators=2000, n_jobs=-1, verbose=1, warm_start=False \n"
     ]
    },
    {
     "name": "stderr",
     "output_type": "stream",
     "text": [
      "[Parallel(n_jobs=-1)]: Using backend LokyBackend with 4 concurrent workers.\n",
      "[Parallel(n_jobs=-1)]: Done 312 tasks      | elapsed:    0.6s\n",
      "[Parallel(n_jobs=-1)]: Done 2000 out of 2000 | elapsed:    3.1s finished\n",
      "[Parallel(n_jobs=4)]: Using backend ThreadingBackend with 4 concurrent workers.\n",
      "[Parallel(n_jobs=4)]: Done  42 tasks      | elapsed:    0.0s\n",
      "[Parallel(n_jobs=4)]: Done 192 tasks      | elapsed:    0.1s\n",
      "[Parallel(n_jobs=4)]: Done 442 tasks      | elapsed:    0.2s\n",
      "[Parallel(n_jobs=4)]: Done 792 tasks      | elapsed:    0.3s\n",
      "[Parallel(n_jobs=4)]: Done 1242 tasks      | elapsed:    0.4s\n",
      "[Parallel(n_jobs=4)]: Done 1792 tasks      | elapsed:    0.6s\n",
      "[Parallel(n_jobs=4)]: Done 2000 out of 2000 | elapsed:    0.7s finished\n"
     ]
    },
    {
     "name": "stdout",
     "output_type": "stream",
     "text": [
      "[CV]  bootstrap=True, criterion=mse, max_depth=10, max_features=sqrt, min_samples_leaf=1, min_samples_split=2, min_weight_fraction_leaf=0.0, n_estimators=2000, n_jobs=-1, verbose=1, warm_start=False, explained_variance=0.398, neg_mean_absolute_error=-60.609, neg_mean_squared_error=-5687.164, neg_mean_squared_log_error=-0.024, neg_median_absolute_error=-52.673, r2=0.398, total=   5.0s\n",
      "[Parallel(n_jobs=1)]: Done  39 out of  39 | elapsed:  3.0min remaining:    0.0s\n",
      "[CV] bootstrap=True, criterion=mse, max_depth=10, max_features=sqrt, min_samples_leaf=1, min_samples_split=2, min_weight_fraction_leaf=0.0, n_estimators=2000, n_jobs=-1, verbose=1, warm_start=False \n"
     ]
    },
    {
     "name": "stderr",
     "output_type": "stream",
     "text": [
      "[Parallel(n_jobs=-1)]: Using backend LokyBackend with 4 concurrent workers.\n",
      "[Parallel(n_jobs=-1)]: Done 312 tasks      | elapsed:    0.6s\n",
      "[Parallel(n_jobs=-1)]: Done 2000 out of 2000 | elapsed:    3.1s finished\n",
      "[Parallel(n_jobs=4)]: Using backend ThreadingBackend with 4 concurrent workers.\n",
      "[Parallel(n_jobs=4)]: Done  42 tasks      | elapsed:    0.0s\n",
      "[Parallel(n_jobs=4)]: Done 192 tasks      | elapsed:    0.1s\n",
      "[Parallel(n_jobs=4)]: Done 442 tasks      | elapsed:    0.2s\n",
      "[Parallel(n_jobs=4)]: Done 792 tasks      | elapsed:    0.3s\n",
      "[Parallel(n_jobs=4)]: Done 1242 tasks      | elapsed:    0.4s\n",
      "[Parallel(n_jobs=4)]: Done 1792 tasks      | elapsed:    0.6s\n",
      "[Parallel(n_jobs=4)]: Done 2000 out of 2000 | elapsed:    0.7s finished\n"
     ]
    },
    {
     "name": "stdout",
     "output_type": "stream",
     "text": [
      "[CV]  bootstrap=True, criterion=mse, max_depth=10, max_features=sqrt, min_samples_leaf=1, min_samples_split=2, min_weight_fraction_leaf=0.0, n_estimators=2000, n_jobs=-1, verbose=1, warm_start=False, explained_variance=0.456, neg_mean_absolute_error=-58.732, neg_mean_squared_error=-5695.017, neg_mean_squared_log_error=-0.067, neg_median_absolute_error=-49.318, r2=0.456, total=   5.1s\n",
      "[Parallel(n_jobs=1)]: Done  40 out of  40 | elapsed:  3.1min remaining:    0.0s\n",
      "[CV] bootstrap=True, criterion=mse, max_depth=10, max_features=sqrt, min_samples_leaf=1, min_samples_split=5, min_weight_fraction_leaf=0.0, n_estimators=200, n_jobs=-1, verbose=1, warm_start=False \n"
     ]
    },
    {
     "name": "stderr",
     "output_type": "stream",
     "text": [
      "[Parallel(n_jobs=-1)]: Using backend LokyBackend with 4 concurrent workers.\n",
      "[Parallel(n_jobs=-1)]: Done 190 tasks      | elapsed:    0.4s\n",
      "[Parallel(n_jobs=-1)]: Done 200 out of 200 | elapsed:    0.4s finished\n",
      "[Parallel(n_jobs=4)]: Using backend ThreadingBackend with 4 concurrent workers.\n",
      "[Parallel(n_jobs=4)]: Done  42 tasks      | elapsed:    0.0s\n",
      "[Parallel(n_jobs=4)]: Done 192 tasks      | elapsed:    0.1s\n",
      "[Parallel(n_jobs=4)]: Done 200 out of 200 | elapsed:    0.1s finished\n"
     ]
    },
    {
     "name": "stdout",
     "output_type": "stream",
     "text": [
      "[CV]  bootstrap=True, criterion=mse, max_depth=10, max_features=sqrt, min_samples_leaf=1, min_samples_split=5, min_weight_fraction_leaf=0.0, n_estimators=200, n_jobs=-1, verbose=1, warm_start=False, explained_variance=0.396, neg_mean_absolute_error=-60.660, neg_mean_squared_error=-5702.847, neg_mean_squared_log_error=-0.024, neg_median_absolute_error=-52.609, r2=0.396, total=   0.7s\n",
      "[Parallel(n_jobs=1)]: Done  41 out of  41 | elapsed:  3.1min remaining:    0.0s\n",
      "[CV] bootstrap=True, criterion=mse, max_depth=10, max_features=sqrt, min_samples_leaf=1, min_samples_split=5, min_weight_fraction_leaf=0.0, n_estimators=200, n_jobs=-1, verbose=1, warm_start=False \n"
     ]
    },
    {
     "name": "stderr",
     "output_type": "stream",
     "text": [
      "[Parallel(n_jobs=-1)]: Using backend LokyBackend with 4 concurrent workers.\n",
      "[Parallel(n_jobs=-1)]: Done 190 tasks      | elapsed:    0.4s\n",
      "[Parallel(n_jobs=-1)]: Done 200 out of 200 | elapsed:    0.4s finished\n",
      "[Parallel(n_jobs=4)]: Using backend ThreadingBackend with 4 concurrent workers.\n",
      "[Parallel(n_jobs=4)]: Done  42 tasks      | elapsed:    0.0s\n",
      "[Parallel(n_jobs=4)]: Done 192 tasks      | elapsed:    0.1s\n",
      "[Parallel(n_jobs=4)]: Done 200 out of 200 | elapsed:    0.1s finished\n"
     ]
    },
    {
     "name": "stdout",
     "output_type": "stream",
     "text": [
      "[CV]  bootstrap=True, criterion=mse, max_depth=10, max_features=sqrt, min_samples_leaf=1, min_samples_split=5, min_weight_fraction_leaf=0.0, n_estimators=200, n_jobs=-1, verbose=1, warm_start=False, explained_variance=0.455, neg_mean_absolute_error=-58.808, neg_mean_squared_error=-5699.645, neg_mean_squared_log_error=-0.067, neg_median_absolute_error=-49.064, r2=0.455, total=   0.7s\n",
      "[Parallel(n_jobs=1)]: Done  42 out of  42 | elapsed:  3.1min remaining:    0.0s\n",
      "[CV] bootstrap=True, criterion=mse, max_depth=10, max_features=sqrt, min_samples_leaf=1, min_samples_split=5, min_weight_fraction_leaf=0.0, n_estimators=2000, n_jobs=-1, verbose=1, warm_start=False \n"
     ]
    },
    {
     "name": "stderr",
     "output_type": "stream",
     "text": [
      "[Parallel(n_jobs=-1)]: Using backend LokyBackend with 4 concurrent workers.\n",
      "[Parallel(n_jobs=-1)]: Done 312 tasks      | elapsed:    0.6s\n",
      "[Parallel(n_jobs=-1)]: Done 2000 out of 2000 | elapsed:    2.9s finished\n",
      "[Parallel(n_jobs=4)]: Using backend ThreadingBackend with 4 concurrent workers.\n",
      "[Parallel(n_jobs=4)]: Done  42 tasks      | elapsed:    0.0s\n",
      "[Parallel(n_jobs=4)]: Done 192 tasks      | elapsed:    0.1s\n",
      "[Parallel(n_jobs=4)]: Done 442 tasks      | elapsed:    0.2s\n",
      "[Parallel(n_jobs=4)]: Done 792 tasks      | elapsed:    0.3s\n",
      "[Parallel(n_jobs=4)]: Done 1242 tasks      | elapsed:    0.4s\n",
      "[Parallel(n_jobs=4)]: Done 1792 tasks      | elapsed:    0.6s\n",
      "[Parallel(n_jobs=4)]: Done 2000 out of 2000 | elapsed:    0.7s finished\n"
     ]
    },
    {
     "name": "stdout",
     "output_type": "stream",
     "text": [
      "[CV]  bootstrap=True, criterion=mse, max_depth=10, max_features=sqrt, min_samples_leaf=1, min_samples_split=5, min_weight_fraction_leaf=0.0, n_estimators=2000, n_jobs=-1, verbose=1, warm_start=False, explained_variance=0.397, neg_mean_absolute_error=-60.669, neg_mean_squared_error=-5693.522, neg_mean_squared_log_error=-0.024, neg_median_absolute_error=-53.096, r2=0.397, total=   5.0s\n",
      "[Parallel(n_jobs=1)]: Done  43 out of  43 | elapsed:  3.2min remaining:    0.0s\n",
      "[CV] bootstrap=True, criterion=mse, max_depth=10, max_features=sqrt, min_samples_leaf=1, min_samples_split=5, min_weight_fraction_leaf=0.0, n_estimators=2000, n_jobs=-1, verbose=1, warm_start=False \n"
     ]
    },
    {
     "name": "stderr",
     "output_type": "stream",
     "text": [
      "[Parallel(n_jobs=-1)]: Using backend LokyBackend with 4 concurrent workers.\n",
      "[Parallel(n_jobs=-1)]: Done 312 tasks      | elapsed:    0.6s\n",
      "[Parallel(n_jobs=-1)]: Done 2000 out of 2000 | elapsed:    2.9s finished\n",
      "[Parallel(n_jobs=4)]: Using backend ThreadingBackend with 4 concurrent workers.\n",
      "[Parallel(n_jobs=4)]: Done  42 tasks      | elapsed:    0.0s\n",
      "[Parallel(n_jobs=4)]: Done 192 tasks      | elapsed:    0.1s\n",
      "[Parallel(n_jobs=4)]: Done 442 tasks      | elapsed:    0.2s\n",
      "[Parallel(n_jobs=4)]: Done 792 tasks      | elapsed:    0.3s\n",
      "[Parallel(n_jobs=4)]: Done 1242 tasks      | elapsed:    0.4s\n",
      "[Parallel(n_jobs=4)]: Done 1792 tasks      | elapsed:    0.6s\n",
      "[Parallel(n_jobs=4)]: Done 2000 out of 2000 | elapsed:    0.7s finished\n"
     ]
    },
    {
     "name": "stdout",
     "output_type": "stream",
     "text": [
      "[CV]  bootstrap=True, criterion=mse, max_depth=10, max_features=sqrt, min_samples_leaf=1, min_samples_split=5, min_weight_fraction_leaf=0.0, n_estimators=2000, n_jobs=-1, verbose=1, warm_start=False, explained_variance=0.457, neg_mean_absolute_error=-58.735, neg_mean_squared_error=-5689.049, neg_mean_squared_log_error=-0.067, neg_median_absolute_error=-49.444, r2=0.456, total=   5.0s\n",
      "[Parallel(n_jobs=1)]: Done  44 out of  44 | elapsed:  3.3min remaining:    0.0s\n",
      "[CV] bootstrap=True, criterion=mse, max_depth=10, max_features=sqrt, min_samples_leaf=1, min_samples_split=10, min_weight_fraction_leaf=0.0, n_estimators=200, n_jobs=-1, verbose=1, warm_start=False \n"
     ]
    },
    {
     "name": "stderr",
     "output_type": "stream",
     "text": [
      "[Parallel(n_jobs=-1)]: Using backend LokyBackend with 4 concurrent workers.\n",
      "[Parallel(n_jobs=-1)]: Done 190 tasks      | elapsed:    0.4s\n",
      "[Parallel(n_jobs=-1)]: Done 200 out of 200 | elapsed:    0.4s finished\n",
      "[Parallel(n_jobs=4)]: Using backend ThreadingBackend with 4 concurrent workers.\n",
      "[Parallel(n_jobs=4)]: Done  42 tasks      | elapsed:    0.0s\n",
      "[Parallel(n_jobs=4)]: Done 192 tasks      | elapsed:    0.1s\n",
      "[Parallel(n_jobs=4)]: Done 200 out of 200 | elapsed:    0.1s finished\n"
     ]
    },
    {
     "name": "stdout",
     "output_type": "stream",
     "text": [
      "[CV]  bootstrap=True, criterion=mse, max_depth=10, max_features=sqrt, min_samples_leaf=1, min_samples_split=10, min_weight_fraction_leaf=0.0, n_estimators=200, n_jobs=-1, verbose=1, warm_start=False, explained_variance=0.398, neg_mean_absolute_error=-60.555, neg_mean_squared_error=-5690.208, neg_mean_squared_log_error=-0.024, neg_median_absolute_error=-52.321, r2=0.397, total=   0.6s\n",
      "[Parallel(n_jobs=1)]: Done  45 out of  45 | elapsed:  3.3min remaining:    0.0s\n",
      "[CV] bootstrap=True, criterion=mse, max_depth=10, max_features=sqrt, min_samples_leaf=1, min_samples_split=10, min_weight_fraction_leaf=0.0, n_estimators=200, n_jobs=-1, verbose=1, warm_start=False \n"
     ]
    },
    {
     "name": "stderr",
     "output_type": "stream",
     "text": [
      "[Parallel(n_jobs=-1)]: Using backend LokyBackend with 4 concurrent workers.\n",
      "[Parallel(n_jobs=-1)]: Done 190 tasks      | elapsed:    0.4s\n",
      "[Parallel(n_jobs=-1)]: Done 200 out of 200 | elapsed:    0.4s finished\n",
      "[Parallel(n_jobs=4)]: Using backend ThreadingBackend with 4 concurrent workers.\n",
      "[Parallel(n_jobs=4)]: Done  42 tasks      | elapsed:    0.0s\n",
      "[Parallel(n_jobs=4)]: Done 192 tasks      | elapsed:    0.1s\n",
      "[Parallel(n_jobs=4)]: Done 200 out of 200 | elapsed:    0.1s finished\n"
     ]
    },
    {
     "name": "stdout",
     "output_type": "stream",
     "text": [
      "[CV]  bootstrap=True, criterion=mse, max_depth=10, max_features=sqrt, min_samples_leaf=1, min_samples_split=10, min_weight_fraction_leaf=0.0, n_estimators=200, n_jobs=-1, verbose=1, warm_start=False, explained_variance=0.458, neg_mean_absolute_error=-58.679, neg_mean_squared_error=-5671.135, neg_mean_squared_log_error=-0.067, neg_median_absolute_error=-49.154, r2=0.458, total=   0.6s\n",
      "[Parallel(n_jobs=1)]: Done  46 out of  46 | elapsed:  3.3min remaining:    0.0s\n",
      "[CV] bootstrap=True, criterion=mse, max_depth=10, max_features=sqrt, min_samples_leaf=1, min_samples_split=10, min_weight_fraction_leaf=0.0, n_estimators=2000, n_jobs=-1, verbose=1, warm_start=False \n"
     ]
    },
    {
     "name": "stderr",
     "output_type": "stream",
     "text": [
      "[Parallel(n_jobs=-1)]: Using backend LokyBackend with 4 concurrent workers.\n",
      "[Parallel(n_jobs=-1)]: Done 312 tasks      | elapsed:    0.6s\n",
      "[Parallel(n_jobs=-1)]: Done 2000 out of 2000 | elapsed:    2.8s finished\n",
      "[Parallel(n_jobs=4)]: Using backend ThreadingBackend with 4 concurrent workers.\n",
      "[Parallel(n_jobs=4)]: Done  42 tasks      | elapsed:    0.0s\n",
      "[Parallel(n_jobs=4)]: Done 192 tasks      | elapsed:    0.1s\n",
      "[Parallel(n_jobs=4)]: Done 442 tasks      | elapsed:    0.2s\n",
      "[Parallel(n_jobs=4)]: Done 792 tasks      | elapsed:    0.3s\n",
      "[Parallel(n_jobs=4)]: Done 1242 tasks      | elapsed:    0.4s\n",
      "[Parallel(n_jobs=4)]: Done 1792 tasks      | elapsed:    0.6s\n",
      "[Parallel(n_jobs=4)]: Done 2000 out of 2000 | elapsed:    0.7s finished\n"
     ]
    },
    {
     "name": "stdout",
     "output_type": "stream",
     "text": [
      "[CV]  bootstrap=True, criterion=mse, max_depth=10, max_features=sqrt, min_samples_leaf=1, min_samples_split=10, min_weight_fraction_leaf=0.0, n_estimators=2000, n_jobs=-1, verbose=1, warm_start=False, explained_variance=0.398, neg_mean_absolute_error=-60.625, neg_mean_squared_error=-5691.118, neg_mean_squared_log_error=-0.024, neg_median_absolute_error=-52.967, r2=0.397, total=   4.9s\n",
      "[Parallel(n_jobs=1)]: Done  47 out of  47 | elapsed:  3.4min remaining:    0.0s\n",
      "[CV] bootstrap=True, criterion=mse, max_depth=10, max_features=sqrt, min_samples_leaf=1, min_samples_split=10, min_weight_fraction_leaf=0.0, n_estimators=2000, n_jobs=-1, verbose=1, warm_start=False \n"
     ]
    },
    {
     "name": "stderr",
     "output_type": "stream",
     "text": [
      "[Parallel(n_jobs=-1)]: Using backend LokyBackend with 4 concurrent workers.\n",
      "[Parallel(n_jobs=-1)]: Done 312 tasks      | elapsed:    0.6s\n",
      "[Parallel(n_jobs=-1)]: Done 2000 out of 2000 | elapsed:    2.8s finished\n",
      "[Parallel(n_jobs=4)]: Using backend ThreadingBackend with 4 concurrent workers.\n",
      "[Parallel(n_jobs=4)]: Done  42 tasks      | elapsed:    0.0s\n",
      "[Parallel(n_jobs=4)]: Done 192 tasks      | elapsed:    0.1s\n",
      "[Parallel(n_jobs=4)]: Done 442 tasks      | elapsed:    0.1s\n",
      "[Parallel(n_jobs=4)]: Done 792 tasks      | elapsed:    0.3s\n",
      "[Parallel(n_jobs=4)]: Done 1242 tasks      | elapsed:    0.4s\n",
      "[Parallel(n_jobs=4)]: Done 1792 tasks      | elapsed:    0.6s\n",
      "[Parallel(n_jobs=4)]: Done 2000 out of 2000 | elapsed:    0.7s finished\n"
     ]
    },
    {
     "name": "stdout",
     "output_type": "stream",
     "text": [
      "[CV]  bootstrap=True, criterion=mse, max_depth=10, max_features=sqrt, min_samples_leaf=1, min_samples_split=10, min_weight_fraction_leaf=0.0, n_estimators=2000, n_jobs=-1, verbose=1, warm_start=False, explained_variance=0.457, neg_mean_absolute_error=-58.714, neg_mean_squared_error=-5682.293, neg_mean_squared_log_error=-0.067, neg_median_absolute_error=-49.527, r2=0.457, total=   4.9s\n",
      "[Parallel(n_jobs=1)]: Done  48 out of  48 | elapsed:  3.5min remaining:    0.0s\n",
      "[CV] bootstrap=True, criterion=mse, max_depth=10, max_features=sqrt, min_samples_leaf=2, min_samples_split=2, min_weight_fraction_leaf=0.0, n_estimators=200, n_jobs=-1, verbose=1, warm_start=False \n"
     ]
    },
    {
     "name": "stderr",
     "output_type": "stream",
     "text": [
      "[Parallel(n_jobs=-1)]: Using backend LokyBackend with 4 concurrent workers.\n",
      "[Parallel(n_jobs=-1)]: Done 190 tasks      | elapsed:    0.4s\n",
      "[Parallel(n_jobs=-1)]: Done 200 out of 200 | elapsed:    0.4s finished\n",
      "[Parallel(n_jobs=4)]: Using backend ThreadingBackend with 4 concurrent workers.\n",
      "[Parallel(n_jobs=4)]: Done  42 tasks      | elapsed:    0.0s\n",
      "[Parallel(n_jobs=4)]: Done 192 tasks      | elapsed:    0.1s\n",
      "[Parallel(n_jobs=4)]: Done 200 out of 200 | elapsed:    0.1s finished\n"
     ]
    },
    {
     "name": "stdout",
     "output_type": "stream",
     "text": [
      "[CV]  bootstrap=True, criterion=mse, max_depth=10, max_features=sqrt, min_samples_leaf=2, min_samples_split=2, min_weight_fraction_leaf=0.0, n_estimators=200, n_jobs=-1, verbose=1, warm_start=False, explained_variance=0.399, neg_mean_absolute_error=-60.459, neg_mean_squared_error=-5674.666, neg_mean_squared_log_error=-0.024, neg_median_absolute_error=-52.759, r2=0.399, total=   0.7s\n",
      "[Parallel(n_jobs=1)]: Done  49 out of  49 | elapsed:  3.5min remaining:    0.0s\n",
      "[CV] bootstrap=True, criterion=mse, max_depth=10, max_features=sqrt, min_samples_leaf=2, min_samples_split=2, min_weight_fraction_leaf=0.0, n_estimators=200, n_jobs=-1, verbose=1, warm_start=False \n"
     ]
    },
    {
     "name": "stderr",
     "output_type": "stream",
     "text": [
      "[Parallel(n_jobs=-1)]: Using backend LokyBackend with 4 concurrent workers.\n",
      "[Parallel(n_jobs=-1)]: Done 190 tasks      | elapsed:    0.3s\n",
      "[Parallel(n_jobs=-1)]: Done 200 out of 200 | elapsed:    0.4s finished\n",
      "[Parallel(n_jobs=4)]: Using backend ThreadingBackend with 4 concurrent workers.\n",
      "[Parallel(n_jobs=4)]: Done  42 tasks      | elapsed:    0.0s\n",
      "[Parallel(n_jobs=4)]: Done 192 tasks      | elapsed:    0.1s\n",
      "[Parallel(n_jobs=4)]: Done 200 out of 200 | elapsed:    0.1s finished\n"
     ]
    },
    {
     "name": "stdout",
     "output_type": "stream",
     "text": [
      "[CV]  bootstrap=True, criterion=mse, max_depth=10, max_features=sqrt, min_samples_leaf=2, min_samples_split=2, min_weight_fraction_leaf=0.0, n_estimators=200, n_jobs=-1, verbose=1, warm_start=False, explained_variance=0.456, neg_mean_absolute_error=-58.782, neg_mean_squared_error=-5695.768, neg_mean_squared_log_error=-0.067, neg_median_absolute_error=-49.303, r2=0.456, total=   0.6s\n",
      "[Parallel(n_jobs=1)]: Done  50 out of  50 | elapsed:  3.5min remaining:    0.0s\n",
      "[CV] bootstrap=True, criterion=mse, max_depth=10, max_features=sqrt, min_samples_leaf=2, min_samples_split=2, min_weight_fraction_leaf=0.0, n_estimators=2000, n_jobs=-1, verbose=1, warm_start=False \n"
     ]
    },
    {
     "name": "stderr",
     "output_type": "stream",
     "text": [
      "[Parallel(n_jobs=-1)]: Using backend LokyBackend with 4 concurrent workers.\n",
      "[Parallel(n_jobs=-1)]: Done 312 tasks      | elapsed:    0.6s\n",
      "[Parallel(n_jobs=-1)]: Done 2000 out of 2000 | elapsed:    3.0s finished\n",
      "[Parallel(n_jobs=4)]: Using backend ThreadingBackend with 4 concurrent workers.\n",
      "[Parallel(n_jobs=4)]: Done  42 tasks      | elapsed:    0.0s\n",
      "[Parallel(n_jobs=4)]: Done 192 tasks      | elapsed:    0.1s\n",
      "[Parallel(n_jobs=4)]: Done 442 tasks      | elapsed:    0.2s\n",
      "[Parallel(n_jobs=4)]: Done 792 tasks      | elapsed:    0.3s\n",
      "[Parallel(n_jobs=4)]: Done 1242 tasks      | elapsed:    0.4s\n",
      "[Parallel(n_jobs=4)]: Done 1792 tasks      | elapsed:    0.6s\n",
      "[Parallel(n_jobs=4)]: Done 2000 out of 2000 | elapsed:    0.7s finished\n"
     ]
    },
    {
     "name": "stdout",
     "output_type": "stream",
     "text": [
      "[CV]  bootstrap=True, criterion=mse, max_depth=10, max_features=sqrt, min_samples_leaf=2, min_samples_split=2, min_weight_fraction_leaf=0.0, n_estimators=2000, n_jobs=-1, verbose=1, warm_start=False, explained_variance=0.397, neg_mean_absolute_error=-60.624, neg_mean_squared_error=-5694.465, neg_mean_squared_log_error=-0.024, neg_median_absolute_error=-52.532, r2=0.397, total=   5.0s\n",
      "[Parallel(n_jobs=1)]: Done  51 out of  51 | elapsed:  3.6min remaining:    0.0s\n",
      "[CV] bootstrap=True, criterion=mse, max_depth=10, max_features=sqrt, min_samples_leaf=2, min_samples_split=2, min_weight_fraction_leaf=0.0, n_estimators=2000, n_jobs=-1, verbose=1, warm_start=False \n"
     ]
    },
    {
     "name": "stderr",
     "output_type": "stream",
     "text": [
      "[Parallel(n_jobs=-1)]: Using backend LokyBackend with 4 concurrent workers.\n",
      "[Parallel(n_jobs=-1)]: Done 312 tasks      | elapsed:    0.6s\n",
      "[Parallel(n_jobs=-1)]: Done 2000 out of 2000 | elapsed:    2.9s finished\n",
      "[Parallel(n_jobs=4)]: Using backend ThreadingBackend with 4 concurrent workers.\n",
      "[Parallel(n_jobs=4)]: Done  42 tasks      | elapsed:    0.0s\n",
      "[Parallel(n_jobs=4)]: Done 192 tasks      | elapsed:    0.1s\n",
      "[Parallel(n_jobs=4)]: Done 442 tasks      | elapsed:    0.2s\n",
      "[Parallel(n_jobs=4)]: Done 792 tasks      | elapsed:    0.3s\n",
      "[Parallel(n_jobs=4)]: Done 1242 tasks      | elapsed:    0.4s\n",
      "[Parallel(n_jobs=4)]: Done 1792 tasks      | elapsed:    0.6s\n",
      "[Parallel(n_jobs=4)]: Done 2000 out of 2000 | elapsed:    0.7s finished\n"
     ]
    },
    {
     "name": "stdout",
     "output_type": "stream",
     "text": [
      "[CV]  bootstrap=True, criterion=mse, max_depth=10, max_features=sqrt, min_samples_leaf=2, min_samples_split=2, min_weight_fraction_leaf=0.0, n_estimators=2000, n_jobs=-1, verbose=1, warm_start=False, explained_variance=0.457, neg_mean_absolute_error=-58.700, neg_mean_squared_error=-5682.076, neg_mean_squared_log_error=-0.067, neg_median_absolute_error=-49.244, r2=0.457, total=   5.1s\n",
      "[Parallel(n_jobs=1)]: Done  52 out of  52 | elapsed:  3.7min remaining:    0.0s\n",
      "[CV] bootstrap=True, criterion=mse, max_depth=10, max_features=sqrt, min_samples_leaf=2, min_samples_split=5, min_weight_fraction_leaf=0.0, n_estimators=200, n_jobs=-1, verbose=1, warm_start=False \n"
     ]
    },
    {
     "name": "stderr",
     "output_type": "stream",
     "text": [
      "[Parallel(n_jobs=-1)]: Using backend LokyBackend with 4 concurrent workers.\n",
      "[Parallel(n_jobs=-1)]: Done 175 tasks      | elapsed:    0.4s\n",
      "[Parallel(n_jobs=-1)]: Done 200 out of 200 | elapsed:    0.4s finished\n",
      "[Parallel(n_jobs=4)]: Using backend ThreadingBackend with 4 concurrent workers.\n",
      "[Parallel(n_jobs=4)]: Done  42 tasks      | elapsed:    0.0s\n",
      "[Parallel(n_jobs=4)]: Done 192 tasks      | elapsed:    0.1s\n",
      "[Parallel(n_jobs=4)]: Done 200 out of 200 | elapsed:    0.1s finished\n"
     ]
    },
    {
     "name": "stdout",
     "output_type": "stream",
     "text": [
      "[CV]  bootstrap=True, criterion=mse, max_depth=10, max_features=sqrt, min_samples_leaf=2, min_samples_split=5, min_weight_fraction_leaf=0.0, n_estimators=200, n_jobs=-1, verbose=1, warm_start=False, explained_variance=0.394, neg_mean_absolute_error=-60.646, neg_mean_squared_error=-5725.421, neg_mean_squared_log_error=-0.024, neg_median_absolute_error=-52.866, r2=0.394, total=   0.7s\n",
      "[Parallel(n_jobs=1)]: Done  53 out of  53 | elapsed:  3.7min remaining:    0.0s\n",
      "[CV] bootstrap=True, criterion=mse, max_depth=10, max_features=sqrt, min_samples_leaf=2, min_samples_split=5, min_weight_fraction_leaf=0.0, n_estimators=200, n_jobs=-1, verbose=1, warm_start=False \n"
     ]
    },
    {
     "name": "stderr",
     "output_type": "stream",
     "text": [
      "[Parallel(n_jobs=-1)]: Using backend LokyBackend with 4 concurrent workers.\n",
      "[Parallel(n_jobs=-1)]: Done 190 tasks      | elapsed:    0.4s\n",
      "[Parallel(n_jobs=-1)]: Done 200 out of 200 | elapsed:    0.4s finished\n",
      "[Parallel(n_jobs=4)]: Using backend ThreadingBackend with 4 concurrent workers.\n",
      "[Parallel(n_jobs=4)]: Done  42 tasks      | elapsed:    0.0s\n",
      "[Parallel(n_jobs=4)]: Done 192 tasks      | elapsed:    0.1s\n",
      "[Parallel(n_jobs=4)]: Done 200 out of 200 | elapsed:    0.1s finished\n"
     ]
    },
    {
     "name": "stdout",
     "output_type": "stream",
     "text": [
      "[CV]  bootstrap=True, criterion=mse, max_depth=10, max_features=sqrt, min_samples_leaf=2, min_samples_split=5, min_weight_fraction_leaf=0.0, n_estimators=200, n_jobs=-1, verbose=1, warm_start=False, explained_variance=0.458, neg_mean_absolute_error=-58.637, neg_mean_squared_error=-5671.387, neg_mean_squared_log_error=-0.067, neg_median_absolute_error=-49.137, r2=0.458, total=   0.6s\n",
      "[Parallel(n_jobs=1)]: Done  54 out of  54 | elapsed:  3.7min remaining:    0.0s\n",
      "[CV] bootstrap=True, criterion=mse, max_depth=10, max_features=sqrt, min_samples_leaf=2, min_samples_split=5, min_weight_fraction_leaf=0.0, n_estimators=2000, n_jobs=-1, verbose=1, warm_start=False \n"
     ]
    },
    {
     "name": "stderr",
     "output_type": "stream",
     "text": [
      "[Parallel(n_jobs=-1)]: Using backend LokyBackend with 4 concurrent workers.\n",
      "[Parallel(n_jobs=-1)]: Done 312 tasks      | elapsed:    0.6s\n",
      "[Parallel(n_jobs=-1)]: Done 2000 out of 2000 | elapsed:    2.9s finished\n",
      "[Parallel(n_jobs=4)]: Using backend ThreadingBackend with 4 concurrent workers.\n",
      "[Parallel(n_jobs=4)]: Done  42 tasks      | elapsed:    0.0s\n",
      "[Parallel(n_jobs=4)]: Done 192 tasks      | elapsed:    0.1s\n",
      "[Parallel(n_jobs=4)]: Done 442 tasks      | elapsed:    0.2s\n",
      "[Parallel(n_jobs=4)]: Done 792 tasks      | elapsed:    0.3s\n",
      "[Parallel(n_jobs=4)]: Done 1242 tasks      | elapsed:    0.4s\n",
      "[Parallel(n_jobs=4)]: Done 1792 tasks      | elapsed:    0.6s\n",
      "[Parallel(n_jobs=4)]: Done 2000 out of 2000 | elapsed:    0.7s finished\n"
     ]
    },
    {
     "name": "stdout",
     "output_type": "stream",
     "text": [
      "[CV]  bootstrap=True, criterion=mse, max_depth=10, max_features=sqrt, min_samples_leaf=2, min_samples_split=5, min_weight_fraction_leaf=0.0, n_estimators=2000, n_jobs=-1, verbose=1, warm_start=False, explained_variance=0.397, neg_mean_absolute_error=-60.619, neg_mean_squared_error=-5694.283, neg_mean_squared_log_error=-0.024, neg_median_absolute_error=-52.881, r2=0.397, total=   5.0s\n",
      "[Parallel(n_jobs=1)]: Done  55 out of  55 | elapsed:  3.8min remaining:    0.0s\n",
      "[CV] bootstrap=True, criterion=mse, max_depth=10, max_features=sqrt, min_samples_leaf=2, min_samples_split=5, min_weight_fraction_leaf=0.0, n_estimators=2000, n_jobs=-1, verbose=1, warm_start=False \n"
     ]
    },
    {
     "name": "stderr",
     "output_type": "stream",
     "text": [
      "[Parallel(n_jobs=-1)]: Using backend LokyBackend with 4 concurrent workers.\n",
      "[Parallel(n_jobs=-1)]: Done 312 tasks      | elapsed:    0.6s\n",
      "[Parallel(n_jobs=-1)]: Done 2000 out of 2000 | elapsed:    2.9s finished\n",
      "[Parallel(n_jobs=4)]: Using backend ThreadingBackend with 4 concurrent workers.\n",
      "[Parallel(n_jobs=4)]: Done  42 tasks      | elapsed:    0.0s\n",
      "[Parallel(n_jobs=4)]: Done 192 tasks      | elapsed:    0.1s\n",
      "[Parallel(n_jobs=4)]: Done 442 tasks      | elapsed:    0.2s\n",
      "[Parallel(n_jobs=4)]: Done 792 tasks      | elapsed:    0.3s\n",
      "[Parallel(n_jobs=4)]: Done 1242 tasks      | elapsed:    0.4s\n",
      "[Parallel(n_jobs=4)]: Done 1792 tasks      | elapsed:    0.6s\n",
      "[Parallel(n_jobs=4)]: Done 2000 out of 2000 | elapsed:    0.7s finished\n"
     ]
    },
    {
     "name": "stdout",
     "output_type": "stream",
     "text": [
      "[CV]  bootstrap=True, criterion=mse, max_depth=10, max_features=sqrt, min_samples_leaf=2, min_samples_split=5, min_weight_fraction_leaf=0.0, n_estimators=2000, n_jobs=-1, verbose=1, warm_start=False, explained_variance=0.457, neg_mean_absolute_error=-58.688, neg_mean_squared_error=-5683.546, neg_mean_squared_log_error=-0.067, neg_median_absolute_error=-49.386, r2=0.457, total=   4.9s\n",
      "[Parallel(n_jobs=1)]: Done  56 out of  56 | elapsed:  3.9min remaining:    0.0s\n",
      "[CV] bootstrap=True, criterion=mse, max_depth=10, max_features=sqrt, min_samples_leaf=2, min_samples_split=10, min_weight_fraction_leaf=0.0, n_estimators=200, n_jobs=-1, verbose=1, warm_start=False \n"
     ]
    },
    {
     "name": "stderr",
     "output_type": "stream",
     "text": [
      "[Parallel(n_jobs=-1)]: Using backend LokyBackend with 4 concurrent workers.\n",
      "[Parallel(n_jobs=-1)]: Done 175 tasks      | elapsed:    0.4s\n",
      "[Parallel(n_jobs=-1)]: Done 200 out of 200 | elapsed:    0.4s finished\n",
      "[Parallel(n_jobs=4)]: Using backend ThreadingBackend with 4 concurrent workers.\n",
      "[Parallel(n_jobs=4)]: Done  42 tasks      | elapsed:    0.0s\n",
      "[Parallel(n_jobs=4)]: Done 192 tasks      | elapsed:    0.1s\n",
      "[Parallel(n_jobs=4)]: Done 200 out of 200 | elapsed:    0.1s finished\n"
     ]
    },
    {
     "name": "stdout",
     "output_type": "stream",
     "text": [
      "[CV]  bootstrap=True, criterion=mse, max_depth=10, max_features=sqrt, min_samples_leaf=2, min_samples_split=10, min_weight_fraction_leaf=0.0, n_estimators=200, n_jobs=-1, verbose=1, warm_start=False, explained_variance=0.398, neg_mean_absolute_error=-60.479, neg_mean_squared_error=-5686.198, neg_mean_squared_log_error=-0.024, neg_median_absolute_error=-52.591, r2=0.398, total=   0.6s\n",
      "[Parallel(n_jobs=1)]: Done  57 out of  57 | elapsed:  3.9min remaining:    0.0s\n",
      "[CV] bootstrap=True, criterion=mse, max_depth=10, max_features=sqrt, min_samples_leaf=2, min_samples_split=10, min_weight_fraction_leaf=0.0, n_estimators=200, n_jobs=-1, verbose=1, warm_start=False \n"
     ]
    },
    {
     "name": "stderr",
     "output_type": "stream",
     "text": [
      "[Parallel(n_jobs=-1)]: Using backend LokyBackend with 4 concurrent workers.\n",
      "[Parallel(n_jobs=-1)]: Done 190 tasks      | elapsed:    0.3s\n",
      "[Parallel(n_jobs=-1)]: Done 200 out of 200 | elapsed:    0.4s finished\n",
      "[Parallel(n_jobs=4)]: Using backend ThreadingBackend with 4 concurrent workers.\n",
      "[Parallel(n_jobs=4)]: Done  42 tasks      | elapsed:    0.0s\n",
      "[Parallel(n_jobs=4)]: Done 192 tasks      | elapsed:    0.1s\n",
      "[Parallel(n_jobs=4)]: Done 200 out of 200 | elapsed:    0.1s finished\n"
     ]
    },
    {
     "name": "stdout",
     "output_type": "stream",
     "text": [
      "[CV]  bootstrap=True, criterion=mse, max_depth=10, max_features=sqrt, min_samples_leaf=2, min_samples_split=10, min_weight_fraction_leaf=0.0, n_estimators=200, n_jobs=-1, verbose=1, warm_start=False, explained_variance=0.458, neg_mean_absolute_error=-58.678, neg_mean_squared_error=-5676.397, neg_mean_squared_log_error=-0.067, neg_median_absolute_error=-49.146, r2=0.458, total=   0.6s\n",
      "[Parallel(n_jobs=1)]: Done  58 out of  58 | elapsed:  3.9min remaining:    0.0s\n",
      "[CV] bootstrap=True, criterion=mse, max_depth=10, max_features=sqrt, min_samples_leaf=2, min_samples_split=10, min_weight_fraction_leaf=0.0, n_estimators=2000, n_jobs=-1, verbose=1, warm_start=False \n"
     ]
    },
    {
     "name": "stderr",
     "output_type": "stream",
     "text": [
      "[Parallel(n_jobs=-1)]: Using backend LokyBackend with 4 concurrent workers.\n",
      "[Parallel(n_jobs=-1)]: Done 312 tasks      | elapsed:    0.6s\n",
      "[Parallel(n_jobs=-1)]: Done 2000 out of 2000 | elapsed:    2.8s finished\n",
      "[Parallel(n_jobs=4)]: Using backend ThreadingBackend with 4 concurrent workers.\n",
      "[Parallel(n_jobs=4)]: Done  42 tasks      | elapsed:    0.0s\n",
      "[Parallel(n_jobs=4)]: Done 192 tasks      | elapsed:    0.1s\n",
      "[Parallel(n_jobs=4)]: Done 442 tasks      | elapsed:    0.2s\n",
      "[Parallel(n_jobs=4)]: Done 792 tasks      | elapsed:    0.3s\n",
      "[Parallel(n_jobs=4)]: Done 1242 tasks      | elapsed:    0.5s\n",
      "[Parallel(n_jobs=4)]: Done 1792 tasks      | elapsed:    0.7s\n",
      "[Parallel(n_jobs=4)]: Done 2000 out of 2000 | elapsed:    0.7s finished\n"
     ]
    },
    {
     "name": "stdout",
     "output_type": "stream",
     "text": [
      "[CV]  bootstrap=True, criterion=mse, max_depth=10, max_features=sqrt, min_samples_leaf=2, min_samples_split=10, min_weight_fraction_leaf=0.0, n_estimators=2000, n_jobs=-1, verbose=1, warm_start=False, explained_variance=0.399, neg_mean_absolute_error=-60.530, neg_mean_squared_error=-5673.376, neg_mean_squared_log_error=-0.024, neg_median_absolute_error=-52.843, r2=0.399, total=   4.9s\n",
      "[Parallel(n_jobs=1)]: Done  59 out of  59 | elapsed:  4.0min remaining:    0.0s\n",
      "[CV] bootstrap=True, criterion=mse, max_depth=10, max_features=sqrt, min_samples_leaf=2, min_samples_split=10, min_weight_fraction_leaf=0.0, n_estimators=2000, n_jobs=-1, verbose=1, warm_start=False \n"
     ]
    },
    {
     "name": "stderr",
     "output_type": "stream",
     "text": [
      "[Parallel(n_jobs=-1)]: Using backend LokyBackend with 4 concurrent workers.\n",
      "[Parallel(n_jobs=-1)]: Done 312 tasks      | elapsed:    0.6s\n",
      "[Parallel(n_jobs=-1)]: Done 2000 out of 2000 | elapsed:    2.8s finished\n",
      "[Parallel(n_jobs=4)]: Using backend ThreadingBackend with 4 concurrent workers.\n",
      "[Parallel(n_jobs=4)]: Done  42 tasks      | elapsed:    0.0s\n",
      "[Parallel(n_jobs=4)]: Done 192 tasks      | elapsed:    0.1s\n",
      "[Parallel(n_jobs=4)]: Done 442 tasks      | elapsed:    0.2s\n",
      "[Parallel(n_jobs=4)]: Done 792 tasks      | elapsed:    0.3s\n",
      "[Parallel(n_jobs=4)]: Done 1242 tasks      | elapsed:    0.4s\n",
      "[Parallel(n_jobs=4)]: Done 1792 tasks      | elapsed:    0.6s\n",
      "[Parallel(n_jobs=4)]: Done 2000 out of 2000 | elapsed:    0.7s finished\n"
     ]
    },
    {
     "name": "stdout",
     "output_type": "stream",
     "text": [
      "[CV]  bootstrap=True, criterion=mse, max_depth=10, max_features=sqrt, min_samples_leaf=2, min_samples_split=10, min_weight_fraction_leaf=0.0, n_estimators=2000, n_jobs=-1, verbose=1, warm_start=False, explained_variance=0.458, neg_mean_absolute_error=-58.681, neg_mean_squared_error=-5674.201, neg_mean_squared_log_error=-0.067, neg_median_absolute_error=-49.285, r2=0.458, total=   4.9s\n",
      "[Parallel(n_jobs=1)]: Done  60 out of  60 | elapsed:  4.1min remaining:    0.0s\n",
      "[CV] bootstrap=True, criterion=mse, max_depth=10, max_features=sqrt, min_samples_leaf=4, min_samples_split=2, min_weight_fraction_leaf=0.0, n_estimators=200, n_jobs=-1, verbose=1, warm_start=False \n"
     ]
    },
    {
     "name": "stderr",
     "output_type": "stream",
     "text": [
      "[Parallel(n_jobs=-1)]: Using backend LokyBackend with 4 concurrent workers.\n",
      "[Parallel(n_jobs=-1)]: Done 175 tasks      | elapsed:    0.4s\n",
      "[Parallel(n_jobs=-1)]: Done 200 out of 200 | elapsed:    0.4s finished\n",
      "[Parallel(n_jobs=4)]: Using backend ThreadingBackend with 4 concurrent workers.\n",
      "[Parallel(n_jobs=4)]: Done  42 tasks      | elapsed:    0.0s\n",
      "[Parallel(n_jobs=4)]: Done 192 tasks      | elapsed:    0.1s\n",
      "[Parallel(n_jobs=4)]: Done 200 out of 200 | elapsed:    0.1s finished\n"
     ]
    },
    {
     "name": "stdout",
     "output_type": "stream",
     "text": [
      "[CV]  bootstrap=True, criterion=mse, max_depth=10, max_features=sqrt, min_samples_leaf=4, min_samples_split=2, min_weight_fraction_leaf=0.0, n_estimators=200, n_jobs=-1, verbose=1, warm_start=False, explained_variance=0.397, neg_mean_absolute_error=-60.671, neg_mean_squared_error=-5692.432, neg_mean_squared_log_error=-0.024, neg_median_absolute_error=-52.429, r2=0.397, total=   0.7s\n",
      "[Parallel(n_jobs=1)]: Done  61 out of  61 | elapsed:  4.1min remaining:    0.0s\n",
      "[CV] bootstrap=True, criterion=mse, max_depth=10, max_features=sqrt, min_samples_leaf=4, min_samples_split=2, min_weight_fraction_leaf=0.0, n_estimators=200, n_jobs=-1, verbose=1, warm_start=False \n"
     ]
    },
    {
     "name": "stderr",
     "output_type": "stream",
     "text": [
      "[Parallel(n_jobs=-1)]: Using backend LokyBackend with 4 concurrent workers.\n",
      "[Parallel(n_jobs=-1)]: Done 190 tasks      | elapsed:    0.4s\n",
      "[Parallel(n_jobs=-1)]: Done 200 out of 200 | elapsed:    0.4s finished\n",
      "[Parallel(n_jobs=4)]: Using backend ThreadingBackend with 4 concurrent workers.\n",
      "[Parallel(n_jobs=4)]: Done  42 tasks      | elapsed:    0.0s\n",
      "[Parallel(n_jobs=4)]: Done 192 tasks      | elapsed:    0.1s\n",
      "[Parallel(n_jobs=4)]: Done 200 out of 200 | elapsed:    0.1s finished\n"
     ]
    },
    {
     "name": "stdout",
     "output_type": "stream",
     "text": [
      "[CV]  bootstrap=True, criterion=mse, max_depth=10, max_features=sqrt, min_samples_leaf=4, min_samples_split=2, min_weight_fraction_leaf=0.0, n_estimators=200, n_jobs=-1, verbose=1, warm_start=False, explained_variance=0.457, neg_mean_absolute_error=-58.763, neg_mean_squared_error=-5681.813, neg_mean_squared_log_error=-0.066, neg_median_absolute_error=-49.434, r2=0.457, total=   0.6s\n",
      "[Parallel(n_jobs=1)]: Done  62 out of  62 | elapsed:  4.1min remaining:    0.0s\n",
      "[CV] bootstrap=True, criterion=mse, max_depth=10, max_features=sqrt, min_samples_leaf=4, min_samples_split=2, min_weight_fraction_leaf=0.0, n_estimators=2000, n_jobs=-1, verbose=1, warm_start=False \n"
     ]
    },
    {
     "name": "stderr",
     "output_type": "stream",
     "text": [
      "[Parallel(n_jobs=-1)]: Using backend LokyBackend with 4 concurrent workers.\n",
      "[Parallel(n_jobs=-1)]: Done 312 tasks      | elapsed:    0.6s\n",
      "[Parallel(n_jobs=-1)]: Done 2000 out of 2000 | elapsed:    2.8s finished\n",
      "[Parallel(n_jobs=4)]: Using backend ThreadingBackend with 4 concurrent workers.\n",
      "[Parallel(n_jobs=4)]: Done  42 tasks      | elapsed:    0.0s\n",
      "[Parallel(n_jobs=4)]: Done 192 tasks      | elapsed:    0.1s\n",
      "[Parallel(n_jobs=4)]: Done 442 tasks      | elapsed:    0.2s\n",
      "[Parallel(n_jobs=4)]: Done 792 tasks      | elapsed:    0.3s\n",
      "[Parallel(n_jobs=4)]: Done 1242 tasks      | elapsed:    0.5s\n",
      "[Parallel(n_jobs=4)]: Done 1792 tasks      | elapsed:    0.7s\n",
      "[Parallel(n_jobs=4)]: Done 2000 out of 2000 | elapsed:    0.7s finished\n"
     ]
    },
    {
     "name": "stdout",
     "output_type": "stream",
     "text": [
      "[CV]  bootstrap=True, criterion=mse, max_depth=10, max_features=sqrt, min_samples_leaf=4, min_samples_split=2, min_weight_fraction_leaf=0.0, n_estimators=2000, n_jobs=-1, verbose=1, warm_start=False, explained_variance=0.398, neg_mean_absolute_error=-60.590, neg_mean_squared_error=-5685.409, neg_mean_squared_log_error=-0.024, neg_median_absolute_error=-52.572, r2=0.398, total=   4.9s\n",
      "[Parallel(n_jobs=1)]: Done  63 out of  63 | elapsed:  4.2min remaining:    0.0s\n",
      "[CV] bootstrap=True, criterion=mse, max_depth=10, max_features=sqrt, min_samples_leaf=4, min_samples_split=2, min_weight_fraction_leaf=0.0, n_estimators=2000, n_jobs=-1, verbose=1, warm_start=False \n"
     ]
    },
    {
     "name": "stderr",
     "output_type": "stream",
     "text": [
      "[Parallel(n_jobs=-1)]: Using backend LokyBackend with 4 concurrent workers.\n",
      "[Parallel(n_jobs=-1)]: Done 312 tasks      | elapsed:    0.6s\n",
      "[Parallel(n_jobs=-1)]: Done 2000 out of 2000 | elapsed:    2.8s finished\n",
      "[Parallel(n_jobs=4)]: Using backend ThreadingBackend with 4 concurrent workers.\n",
      "[Parallel(n_jobs=4)]: Done  42 tasks      | elapsed:    0.0s\n",
      "[Parallel(n_jobs=4)]: Done 192 tasks      | elapsed:    0.1s\n",
      "[Parallel(n_jobs=4)]: Done 442 tasks      | elapsed:    0.2s\n",
      "[Parallel(n_jobs=4)]: Done 792 tasks      | elapsed:    0.3s\n",
      "[Parallel(n_jobs=4)]: Done 1242 tasks      | elapsed:    0.5s\n",
      "[Parallel(n_jobs=4)]: Done 1792 tasks      | elapsed:    0.6s\n",
      "[Parallel(n_jobs=4)]: Done 2000 out of 2000 | elapsed:    0.7s finished\n"
     ]
    },
    {
     "name": "stdout",
     "output_type": "stream",
     "text": [
      "[CV]  bootstrap=True, criterion=mse, max_depth=10, max_features=sqrt, min_samples_leaf=4, min_samples_split=2, min_weight_fraction_leaf=0.0, n_estimators=2000, n_jobs=-1, verbose=1, warm_start=False, explained_variance=0.459, neg_mean_absolute_error=-58.642, neg_mean_squared_error=-5663.647, neg_mean_squared_log_error=-0.067, neg_median_absolute_error=-49.130, r2=0.459, total=   4.9s\n",
      "[Parallel(n_jobs=1)]: Done  64 out of  64 | elapsed:  4.2min remaining:    0.0s\n",
      "[CV] bootstrap=True, criterion=mse, max_depth=10, max_features=sqrt, min_samples_leaf=4, min_samples_split=5, min_weight_fraction_leaf=0.0, n_estimators=200, n_jobs=-1, verbose=1, warm_start=False \n"
     ]
    },
    {
     "name": "stderr",
     "output_type": "stream",
     "text": [
      "[Parallel(n_jobs=-1)]: Using backend LokyBackend with 4 concurrent workers.\n",
      "[Parallel(n_jobs=-1)]: Done 190 tasks      | elapsed:    0.4s\n",
      "[Parallel(n_jobs=-1)]: Done 200 out of 200 | elapsed:    0.4s finished\n",
      "[Parallel(n_jobs=4)]: Using backend ThreadingBackend with 4 concurrent workers.\n",
      "[Parallel(n_jobs=4)]: Done  42 tasks      | elapsed:    0.0s\n",
      "[Parallel(n_jobs=4)]: Done 192 tasks      | elapsed:    0.1s\n",
      "[Parallel(n_jobs=4)]: Done 200 out of 200 | elapsed:    0.1s finished\n"
     ]
    },
    {
     "name": "stdout",
     "output_type": "stream",
     "text": [
      "[CV]  bootstrap=True, criterion=mse, max_depth=10, max_features=sqrt, min_samples_leaf=4, min_samples_split=5, min_weight_fraction_leaf=0.0, n_estimators=200, n_jobs=-1, verbose=1, warm_start=False, explained_variance=0.398, neg_mean_absolute_error=-60.600, neg_mean_squared_error=-5688.855, neg_mean_squared_log_error=-0.024, neg_median_absolute_error=-52.806, r2=0.397, total=   0.7s\n",
      "[Parallel(n_jobs=1)]: Done  65 out of  65 | elapsed:  4.2min remaining:    0.0s\n",
      "[CV] bootstrap=True, criterion=mse, max_depth=10, max_features=sqrt, min_samples_leaf=4, min_samples_split=5, min_weight_fraction_leaf=0.0, n_estimators=200, n_jobs=-1, verbose=1, warm_start=False \n"
     ]
    },
    {
     "name": "stderr",
     "output_type": "stream",
     "text": [
      "[Parallel(n_jobs=-1)]: Using backend LokyBackend with 4 concurrent workers.\n",
      "[Parallel(n_jobs=-1)]: Done 175 tasks      | elapsed:    0.3s\n",
      "[Parallel(n_jobs=-1)]: Done 200 out of 200 | elapsed:    0.4s finished\n",
      "[Parallel(n_jobs=4)]: Using backend ThreadingBackend with 4 concurrent workers.\n",
      "[Parallel(n_jobs=4)]: Done  42 tasks      | elapsed:    0.0s\n",
      "[Parallel(n_jobs=4)]: Done 192 tasks      | elapsed:    0.1s\n",
      "[Parallel(n_jobs=4)]: Done 200 out of 200 | elapsed:    0.1s finished\n"
     ]
    },
    {
     "name": "stdout",
     "output_type": "stream",
     "text": [
      "[CV]  bootstrap=True, criterion=mse, max_depth=10, max_features=sqrt, min_samples_leaf=4, min_samples_split=5, min_weight_fraction_leaf=0.0, n_estimators=200, n_jobs=-1, verbose=1, warm_start=False, explained_variance=0.457, neg_mean_absolute_error=-58.718, neg_mean_squared_error=-5680.231, neg_mean_squared_log_error=-0.067, neg_median_absolute_error=-48.709, r2=0.457, total=   0.6s\n",
      "[Parallel(n_jobs=1)]: Done  66 out of  66 | elapsed:  4.3min remaining:    0.0s\n",
      "[CV] bootstrap=True, criterion=mse, max_depth=10, max_features=sqrt, min_samples_leaf=4, min_samples_split=5, min_weight_fraction_leaf=0.0, n_estimators=2000, n_jobs=-1, verbose=1, warm_start=False \n"
     ]
    },
    {
     "name": "stderr",
     "output_type": "stream",
     "text": [
      "[Parallel(n_jobs=-1)]: Using backend LokyBackend with 4 concurrent workers.\n",
      "[Parallel(n_jobs=-1)]: Done 312 tasks      | elapsed:    0.6s\n",
      "[Parallel(n_jobs=-1)]: Done 2000 out of 2000 | elapsed:    2.9s finished\n",
      "[Parallel(n_jobs=4)]: Using backend ThreadingBackend with 4 concurrent workers.\n",
      "[Parallel(n_jobs=4)]: Done  42 tasks      | elapsed:    0.0s\n",
      "[Parallel(n_jobs=4)]: Done 192 tasks      | elapsed:    0.1s\n",
      "[Parallel(n_jobs=4)]: Done 442 tasks      | elapsed:    0.2s\n",
      "[Parallel(n_jobs=4)]: Done 792 tasks      | elapsed:    0.3s\n",
      "[Parallel(n_jobs=4)]: Done 1242 tasks      | elapsed:    0.4s\n",
      "[Parallel(n_jobs=4)]: Done 1792 tasks      | elapsed:    0.6s\n",
      "[Parallel(n_jobs=4)]: Done 2000 out of 2000 | elapsed:    0.7s finished\n"
     ]
    },
    {
     "name": "stdout",
     "output_type": "stream",
     "text": [
      "[CV]  bootstrap=True, criterion=mse, max_depth=10, max_features=sqrt, min_samples_leaf=4, min_samples_split=5, min_weight_fraction_leaf=0.0, n_estimators=2000, n_jobs=-1, verbose=1, warm_start=False, explained_variance=0.398, neg_mean_absolute_error=-60.558, neg_mean_squared_error=-5683.229, neg_mean_squared_log_error=-0.024, neg_median_absolute_error=-52.850, r2=0.398, total=   5.0s\n",
      "[Parallel(n_jobs=1)]: Done  67 out of  67 | elapsed:  4.3min remaining:    0.0s\n",
      "[CV] bootstrap=True, criterion=mse, max_depth=10, max_features=sqrt, min_samples_leaf=4, min_samples_split=5, min_weight_fraction_leaf=0.0, n_estimators=2000, n_jobs=-1, verbose=1, warm_start=False \n"
     ]
    },
    {
     "name": "stderr",
     "output_type": "stream",
     "text": [
      "[Parallel(n_jobs=-1)]: Using backend LokyBackend with 4 concurrent workers.\n",
      "[Parallel(n_jobs=-1)]: Done 312 tasks      | elapsed:    0.6s\n",
      "[Parallel(n_jobs=-1)]: Done 2000 out of 2000 | elapsed:    2.8s finished\n",
      "[Parallel(n_jobs=4)]: Using backend ThreadingBackend with 4 concurrent workers.\n",
      "[Parallel(n_jobs=4)]: Done  42 tasks      | elapsed:    0.0s\n",
      "[Parallel(n_jobs=4)]: Done 192 tasks      | elapsed:    0.1s\n",
      "[Parallel(n_jobs=4)]: Done 442 tasks      | elapsed:    0.2s\n",
      "[Parallel(n_jobs=4)]: Done 792 tasks      | elapsed:    0.3s\n",
      "[Parallel(n_jobs=4)]: Done 1242 tasks      | elapsed:    0.4s\n",
      "[Parallel(n_jobs=4)]: Done 1792 tasks      | elapsed:    0.6s\n",
      "[Parallel(n_jobs=4)]: Done 2000 out of 2000 | elapsed:    0.7s finished\n"
     ]
    },
    {
     "name": "stdout",
     "output_type": "stream",
     "text": [
      "[CV]  bootstrap=True, criterion=mse, max_depth=10, max_features=sqrt, min_samples_leaf=4, min_samples_split=5, min_weight_fraction_leaf=0.0, n_estimators=2000, n_jobs=-1, verbose=1, warm_start=False, explained_variance=0.458, neg_mean_absolute_error=-58.669, neg_mean_squared_error=-5675.584, neg_mean_squared_log_error=-0.067, neg_median_absolute_error=-49.033, r2=0.458, total=   4.9s\n",
      "[Parallel(n_jobs=1)]: Done  68 out of  68 | elapsed:  4.4min remaining:    0.0s\n",
      "[CV] bootstrap=True, criterion=mse, max_depth=10, max_features=sqrt, min_samples_leaf=4, min_samples_split=10, min_weight_fraction_leaf=0.0, n_estimators=200, n_jobs=-1, verbose=1, warm_start=False \n"
     ]
    },
    {
     "name": "stderr",
     "output_type": "stream",
     "text": [
      "[Parallel(n_jobs=-1)]: Using backend LokyBackend with 4 concurrent workers.\n",
      "[Parallel(n_jobs=-1)]: Done 175 tasks      | elapsed:    0.4s\n",
      "[Parallel(n_jobs=-1)]: Done 200 out of 200 | elapsed:    0.4s finished\n",
      "[Parallel(n_jobs=4)]: Using backend ThreadingBackend with 4 concurrent workers.\n",
      "[Parallel(n_jobs=4)]: Done  42 tasks      | elapsed:    0.0s\n",
      "[Parallel(n_jobs=4)]: Done 192 tasks      | elapsed:    0.1s\n",
      "[Parallel(n_jobs=4)]: Done 200 out of 200 | elapsed:    0.1s finished\n"
     ]
    },
    {
     "name": "stdout",
     "output_type": "stream",
     "text": [
      "[CV]  bootstrap=True, criterion=mse, max_depth=10, max_features=sqrt, min_samples_leaf=4, min_samples_split=10, min_weight_fraction_leaf=0.0, n_estimators=200, n_jobs=-1, verbose=1, warm_start=False, explained_variance=0.397, neg_mean_absolute_error=-60.585, neg_mean_squared_error=-5690.011, neg_mean_squared_log_error=-0.024, neg_median_absolute_error=-52.508, r2=0.397, total=   0.7s\n",
      "[Parallel(n_jobs=1)]: Done  69 out of  69 | elapsed:  4.4min remaining:    0.0s\n",
      "[CV] bootstrap=True, criterion=mse, max_depth=10, max_features=sqrt, min_samples_leaf=4, min_samples_split=10, min_weight_fraction_leaf=0.0, n_estimators=200, n_jobs=-1, verbose=1, warm_start=False \n"
     ]
    },
    {
     "name": "stderr",
     "output_type": "stream",
     "text": [
      "[Parallel(n_jobs=-1)]: Using backend LokyBackend with 4 concurrent workers.\n",
      "[Parallel(n_jobs=-1)]: Done 190 tasks      | elapsed:    0.3s\n",
      "[Parallel(n_jobs=-1)]: Done 200 out of 200 | elapsed:    0.4s finished\n",
      "[Parallel(n_jobs=4)]: Using backend ThreadingBackend with 4 concurrent workers.\n",
      "[Parallel(n_jobs=4)]: Done  42 tasks      | elapsed:    0.0s\n",
      "[Parallel(n_jobs=4)]: Done 192 tasks      | elapsed:    0.1s\n",
      "[Parallel(n_jobs=4)]: Done 200 out of 200 | elapsed:    0.1s finished\n"
     ]
    },
    {
     "name": "stdout",
     "output_type": "stream",
     "text": [
      "[CV]  bootstrap=True, criterion=mse, max_depth=10, max_features=sqrt, min_samples_leaf=4, min_samples_split=10, min_weight_fraction_leaf=0.0, n_estimators=200, n_jobs=-1, verbose=1, warm_start=False, explained_variance=0.458, neg_mean_absolute_error=-58.721, neg_mean_squared_error=-5677.825, neg_mean_squared_log_error=-0.067, neg_median_absolute_error=-49.466, r2=0.457, total=   0.6s\n",
      "[Parallel(n_jobs=1)]: Done  70 out of  70 | elapsed:  4.4min remaining:    0.0s\n",
      "[CV] bootstrap=True, criterion=mse, max_depth=10, max_features=sqrt, min_samples_leaf=4, min_samples_split=10, min_weight_fraction_leaf=0.0, n_estimators=2000, n_jobs=-1, verbose=1, warm_start=False \n"
     ]
    },
    {
     "name": "stderr",
     "output_type": "stream",
     "text": [
      "[Parallel(n_jobs=-1)]: Using backend LokyBackend with 4 concurrent workers.\n",
      "[Parallel(n_jobs=-1)]: Done 312 tasks      | elapsed:    0.6s\n",
      "[Parallel(n_jobs=-1)]: Done 2000 out of 2000 | elapsed:    2.7s finished\n",
      "[Parallel(n_jobs=4)]: Using backend ThreadingBackend with 4 concurrent workers.\n",
      "[Parallel(n_jobs=4)]: Done  42 tasks      | elapsed:    0.0s\n",
      "[Parallel(n_jobs=4)]: Done 192 tasks      | elapsed:    0.1s\n",
      "[Parallel(n_jobs=4)]: Done 442 tasks      | elapsed:    0.2s\n",
      "[Parallel(n_jobs=4)]: Done 792 tasks      | elapsed:    0.3s\n",
      "[Parallel(n_jobs=4)]: Done 1242 tasks      | elapsed:    0.4s\n",
      "[Parallel(n_jobs=4)]: Done 1792 tasks      | elapsed:    0.6s\n",
      "[Parallel(n_jobs=4)]: Done 2000 out of 2000 | elapsed:    0.7s finished\n"
     ]
    },
    {
     "name": "stdout",
     "output_type": "stream",
     "text": [
      "[CV]  bootstrap=True, criterion=mse, max_depth=10, max_features=sqrt, min_samples_leaf=4, min_samples_split=10, min_weight_fraction_leaf=0.0, n_estimators=2000, n_jobs=-1, verbose=1, warm_start=False, explained_variance=0.398, neg_mean_absolute_error=-60.587, neg_mean_squared_error=-5684.860, neg_mean_squared_log_error=-0.024, neg_median_absolute_error=-52.532, r2=0.398, total=   4.8s\n",
      "[Parallel(n_jobs=1)]: Done  71 out of  71 | elapsed:  4.5min remaining:    0.0s\n",
      "[CV] bootstrap=True, criterion=mse, max_depth=10, max_features=sqrt, min_samples_leaf=4, min_samples_split=10, min_weight_fraction_leaf=0.0, n_estimators=2000, n_jobs=-1, verbose=1, warm_start=False \n"
     ]
    },
    {
     "name": "stderr",
     "output_type": "stream",
     "text": [
      "[Parallel(n_jobs=-1)]: Using backend LokyBackend with 4 concurrent workers.\n",
      "[Parallel(n_jobs=-1)]: Done 312 tasks      | elapsed:    0.6s\n",
      "[Parallel(n_jobs=-1)]: Done 2000 out of 2000 | elapsed:    2.8s finished\n",
      "[Parallel(n_jobs=4)]: Using backend ThreadingBackend with 4 concurrent workers.\n",
      "[Parallel(n_jobs=4)]: Done  42 tasks      | elapsed:    0.0s\n",
      "[Parallel(n_jobs=4)]: Done 192 tasks      | elapsed:    0.1s\n",
      "[Parallel(n_jobs=4)]: Done 442 tasks      | elapsed:    0.2s\n",
      "[Parallel(n_jobs=4)]: Done 792 tasks      | elapsed:    0.3s\n",
      "[Parallel(n_jobs=4)]: Done 1242 tasks      | elapsed:    0.4s\n",
      "[Parallel(n_jobs=4)]: Done 1792 tasks      | elapsed:    0.7s\n",
      "[Parallel(n_jobs=4)]: Done 2000 out of 2000 | elapsed:    0.7s finished\n"
     ]
    },
    {
     "name": "stdout",
     "output_type": "stream",
     "text": [
      "[CV]  bootstrap=True, criterion=mse, max_depth=10, max_features=sqrt, min_samples_leaf=4, min_samples_split=10, min_weight_fraction_leaf=0.0, n_estimators=2000, n_jobs=-1, verbose=1, warm_start=False, explained_variance=0.458, neg_mean_absolute_error=-58.717, neg_mean_squared_error=-5675.379, neg_mean_squared_log_error=-0.067, neg_median_absolute_error=-49.090, r2=0.458, total=   4.9s\n",
      "[Parallel(n_jobs=1)]: Done  72 out of  72 | elapsed:  4.6min remaining:    0.0s\n",
      "[CV] bootstrap=True, criterion=mse, max_depth=110, max_features=auto, min_samples_leaf=1, min_samples_split=2, min_weight_fraction_leaf=0.0, n_estimators=200, n_jobs=-1, verbose=1, warm_start=False \n"
     ]
    },
    {
     "name": "stderr",
     "output_type": "stream",
     "text": [
      "[Parallel(n_jobs=-1)]: Using backend LokyBackend with 4 concurrent workers.\n",
      "[Parallel(n_jobs=-1)]: Done 179 tasks      | elapsed:    1.1s\n",
      "[Parallel(n_jobs=-1)]: Done 200 out of 200 | elapsed:    1.2s finished\n",
      "[Parallel(n_jobs=4)]: Using backend ThreadingBackend with 4 concurrent workers.\n",
      "[Parallel(n_jobs=4)]: Done  42 tasks      | elapsed:    0.0s\n",
      "[Parallel(n_jobs=4)]: Done 192 tasks      | elapsed:    0.1s\n",
      "[Parallel(n_jobs=4)]: Done 200 out of 200 | elapsed:    0.1s finished\n"
     ]
    },
    {
     "name": "stdout",
     "output_type": "stream",
     "text": [
      "[CV]  bootstrap=True, criterion=mse, max_depth=110, max_features=auto, min_samples_leaf=1, min_samples_split=2, min_weight_fraction_leaf=0.0, n_estimators=200, n_jobs=-1, verbose=1, warm_start=False, explained_variance=0.361, neg_mean_absolute_error=-61.964, neg_mean_squared_error=-6046.604, neg_mean_squared_log_error=-0.025, neg_median_absolute_error=-52.904, r2=0.359, total=   1.5s\n",
      "[Parallel(n_jobs=1)]: Done  73 out of  73 | elapsed:  4.6min remaining:    0.0s\n",
      "[CV] bootstrap=True, criterion=mse, max_depth=110, max_features=auto, min_samples_leaf=1, min_samples_split=2, min_weight_fraction_leaf=0.0, n_estimators=200, n_jobs=-1, verbose=1, warm_start=False \n"
     ]
    },
    {
     "name": "stderr",
     "output_type": "stream",
     "text": [
      "[Parallel(n_jobs=-1)]: Using backend LokyBackend with 4 concurrent workers.\n",
      "[Parallel(n_jobs=-1)]: Done 179 tasks      | elapsed:    1.0s\n",
      "[Parallel(n_jobs=-1)]: Done 200 out of 200 | elapsed:    1.1s finished\n",
      "[Parallel(n_jobs=4)]: Using backend ThreadingBackend with 4 concurrent workers.\n",
      "[Parallel(n_jobs=4)]: Done  42 tasks      | elapsed:    0.0s\n",
      "[Parallel(n_jobs=4)]: Done 192 tasks      | elapsed:    0.1s\n",
      "[Parallel(n_jobs=4)]: Done 200 out of 200 | elapsed:    0.1s finished\n"
     ]
    },
    {
     "name": "stdout",
     "output_type": "stream",
     "text": [
      "[CV]  bootstrap=True, criterion=mse, max_depth=110, max_features=auto, min_samples_leaf=1, min_samples_split=2, min_weight_fraction_leaf=0.0, n_estimators=200, n_jobs=-1, verbose=1, warm_start=False, explained_variance=0.433, neg_mean_absolute_error=-60.183, neg_mean_squared_error=-5936.316, neg_mean_squared_log_error=-0.068, neg_median_absolute_error=-50.086, r2=0.433, total=   1.3s\n",
      "[Parallel(n_jobs=1)]: Done  74 out of  74 | elapsed:  4.6min remaining:    0.0s\n",
      "[CV] bootstrap=True, criterion=mse, max_depth=110, max_features=auto, min_samples_leaf=1, min_samples_split=2, min_weight_fraction_leaf=0.0, n_estimators=2000, n_jobs=-1, verbose=1, warm_start=False \n"
     ]
    },
    {
     "name": "stderr",
     "output_type": "stream",
     "text": [
      "[Parallel(n_jobs=-1)]: Using backend LokyBackend with 4 concurrent workers.\n",
      "[Parallel(n_jobs=-1)]: Done 200 tasks      | elapsed:    1.2s\n",
      "[Parallel(n_jobs=-1)]: Done 1400 tasks      | elapsed:    8.4s\n",
      "[Parallel(n_jobs=-1)]: Done 2000 out of 2000 | elapsed:   11.8s finished\n",
      "[Parallel(n_jobs=4)]: Using backend ThreadingBackend with 4 concurrent workers.\n",
      "[Parallel(n_jobs=4)]: Done  42 tasks      | elapsed:    0.0s\n",
      "[Parallel(n_jobs=4)]: Done 192 tasks      | elapsed:    0.1s\n",
      "[Parallel(n_jobs=4)]: Done 442 tasks      | elapsed:    0.1s\n",
      "[Parallel(n_jobs=4)]: Done 792 tasks      | elapsed:    0.3s\n",
      "[Parallel(n_jobs=4)]: Done 1242 tasks      | elapsed:    0.4s\n",
      "[Parallel(n_jobs=4)]: Done 1792 tasks      | elapsed:    0.6s\n",
      "[Parallel(n_jobs=4)]: Done 2000 out of 2000 | elapsed:    0.7s finished\n"
     ]
    },
    {
     "name": "stdout",
     "output_type": "stream",
     "text": [
      "[CV]  bootstrap=True, criterion=mse, max_depth=110, max_features=auto, min_samples_leaf=1, min_samples_split=2, min_weight_fraction_leaf=0.0, n_estimators=2000, n_jobs=-1, verbose=1, warm_start=False, explained_variance=0.363, neg_mean_absolute_error=-61.907, neg_mean_squared_error=-6026.989, neg_mean_squared_log_error=-0.025, neg_median_absolute_error=-52.858, r2=0.362, total=  13.8s\n",
      "[Parallel(n_jobs=1)]: Done  75 out of  75 | elapsed:  4.9min remaining:    0.0s\n",
      "[CV] bootstrap=True, criterion=mse, max_depth=110, max_features=auto, min_samples_leaf=1, min_samples_split=2, min_weight_fraction_leaf=0.0, n_estimators=2000, n_jobs=-1, verbose=1, warm_start=False \n"
     ]
    },
    {
     "name": "stderr",
     "output_type": "stream",
     "text": [
      "[Parallel(n_jobs=-1)]: Using backend LokyBackend with 4 concurrent workers.\n",
      "[Parallel(n_jobs=-1)]: Done 200 tasks      | elapsed:    1.2s\n",
      "[Parallel(n_jobs=-1)]: Done 1400 tasks      | elapsed:    7.7s\n",
      "[Parallel(n_jobs=-1)]: Done 2000 out of 2000 | elapsed:   11.0s finished\n",
      "[Parallel(n_jobs=4)]: Using backend ThreadingBackend with 4 concurrent workers.\n",
      "[Parallel(n_jobs=4)]: Done  42 tasks      | elapsed:    0.0s\n",
      "[Parallel(n_jobs=4)]: Done 192 tasks      | elapsed:    0.1s\n",
      "[Parallel(n_jobs=4)]: Done 442 tasks      | elapsed:    0.1s\n",
      "[Parallel(n_jobs=4)]: Done 792 tasks      | elapsed:    0.3s\n",
      "[Parallel(n_jobs=4)]: Done 1242 tasks      | elapsed:    0.4s\n",
      "[Parallel(n_jobs=4)]: Done 1792 tasks      | elapsed:    0.6s\n",
      "[Parallel(n_jobs=4)]: Done 2000 out of 2000 | elapsed:    0.7s finished\n"
     ]
    },
    {
     "name": "stdout",
     "output_type": "stream",
     "text": [
      "[CV]  bootstrap=True, criterion=mse, max_depth=110, max_features=auto, min_samples_leaf=1, min_samples_split=2, min_weight_fraction_leaf=0.0, n_estimators=2000, n_jobs=-1, verbose=1, warm_start=False, explained_variance=0.436, neg_mean_absolute_error=-60.062, neg_mean_squared_error=-5907.417, neg_mean_squared_log_error=-0.068, neg_median_absolute_error=-50.122, r2=0.436, total=  13.0s\n",
      "[Parallel(n_jobs=1)]: Done  76 out of  76 | elapsed:  5.1min remaining:    0.0s\n",
      "[CV] bootstrap=True, criterion=mse, max_depth=110, max_features=auto, min_samples_leaf=1, min_samples_split=5, min_weight_fraction_leaf=0.0, n_estimators=200, n_jobs=-1, verbose=1, warm_start=False \n"
     ]
    },
    {
     "name": "stderr",
     "output_type": "stream",
     "text": [
      "[Parallel(n_jobs=-1)]: Using backend LokyBackend with 4 concurrent workers.\n",
      "[Parallel(n_jobs=-1)]: Done 186 tasks      | elapsed:    1.0s\n",
      "[Parallel(n_jobs=-1)]: Done 200 out of 200 | elapsed:    1.0s finished\n",
      "[Parallel(n_jobs=4)]: Using backend ThreadingBackend with 4 concurrent workers.\n",
      "[Parallel(n_jobs=4)]: Done  42 tasks      | elapsed:    0.0s\n",
      "[Parallel(n_jobs=4)]: Done 192 tasks      | elapsed:    0.1s\n",
      "[Parallel(n_jobs=4)]: Done 200 out of 200 | elapsed:    0.1s finished\n"
     ]
    },
    {
     "name": "stdout",
     "output_type": "stream",
     "text": [
      "[CV]  bootstrap=True, criterion=mse, max_depth=110, max_features=auto, min_samples_leaf=1, min_samples_split=5, min_weight_fraction_leaf=0.0, n_estimators=200, n_jobs=-1, verbose=1, warm_start=False, explained_variance=0.364, neg_mean_absolute_error=-61.827, neg_mean_squared_error=-6013.873, neg_mean_squared_log_error=-0.025, neg_median_absolute_error=-52.228, r2=0.363, total=   1.3s\n",
      "[Parallel(n_jobs=1)]: Done  77 out of  77 | elapsed:  5.1min remaining:    0.0s\n",
      "[CV] bootstrap=True, criterion=mse, max_depth=110, max_features=auto, min_samples_leaf=1, min_samples_split=5, min_weight_fraction_leaf=0.0, n_estimators=200, n_jobs=-1, verbose=1, warm_start=False \n"
     ]
    },
    {
     "name": "stderr",
     "output_type": "stream",
     "text": [
      "[Parallel(n_jobs=-1)]: Using backend LokyBackend with 4 concurrent workers.\n",
      "[Parallel(n_jobs=-1)]: Done 179 tasks      | elapsed:    0.9s\n",
      "[Parallel(n_jobs=-1)]: Done 200 out of 200 | elapsed:    1.0s finished\n",
      "[Parallel(n_jobs=4)]: Using backend ThreadingBackend with 4 concurrent workers.\n",
      "[Parallel(n_jobs=4)]: Done  42 tasks      | elapsed:    0.0s\n",
      "[Parallel(n_jobs=4)]: Done 192 tasks      | elapsed:    0.1s\n",
      "[Parallel(n_jobs=4)]: Done 200 out of 200 | elapsed:    0.1s finished\n"
     ]
    },
    {
     "name": "stdout",
     "output_type": "stream",
     "text": [
      "[CV]  bootstrap=True, criterion=mse, max_depth=110, max_features=auto, min_samples_leaf=1, min_samples_split=5, min_weight_fraction_leaf=0.0, n_estimators=200, n_jobs=-1, verbose=1, warm_start=False, explained_variance=0.437, neg_mean_absolute_error=-59.964, neg_mean_squared_error=-5889.766, neg_mean_squared_log_error=-0.068, neg_median_absolute_error=-50.204, r2=0.437, total=   1.3s\n",
      "[Parallel(n_jobs=1)]: Done  78 out of  78 | elapsed:  5.1min remaining:    0.0s\n",
      "[CV] bootstrap=True, criterion=mse, max_depth=110, max_features=auto, min_samples_leaf=1, min_samples_split=5, min_weight_fraction_leaf=0.0, n_estimators=2000, n_jobs=-1, verbose=1, warm_start=False \n"
     ]
    },
    {
     "name": "stderr",
     "output_type": "stream",
     "text": [
      "[Parallel(n_jobs=-1)]: Using backend LokyBackend with 4 concurrent workers.\n",
      "[Parallel(n_jobs=-1)]: Done 200 tasks      | elapsed:    1.1s\n",
      "[Parallel(n_jobs=-1)]: Done 1400 tasks      | elapsed:    7.0s\n",
      "[Parallel(n_jobs=-1)]: Done 2000 out of 2000 | elapsed:   10.0s finished\n",
      "[Parallel(n_jobs=4)]: Using backend ThreadingBackend with 4 concurrent workers.\n",
      "[Parallel(n_jobs=4)]: Done  42 tasks      | elapsed:    0.0s\n",
      "[Parallel(n_jobs=4)]: Done 192 tasks      | elapsed:    0.1s\n",
      "[Parallel(n_jobs=4)]: Done 442 tasks      | elapsed:    0.1s\n",
      "[Parallel(n_jobs=4)]: Done 792 tasks      | elapsed:    0.3s\n",
      "[Parallel(n_jobs=4)]: Done 1242 tasks      | elapsed:    0.4s\n",
      "[Parallel(n_jobs=4)]: Done 1792 tasks      | elapsed:    0.6s\n",
      "[Parallel(n_jobs=4)]: Done 2000 out of 2000 | elapsed:    0.7s finished\n"
     ]
    },
    {
     "name": "stdout",
     "output_type": "stream",
     "text": [
      "[CV]  bootstrap=True, criterion=mse, max_depth=110, max_features=auto, min_samples_leaf=1, min_samples_split=5, min_weight_fraction_leaf=0.0, n_estimators=2000, n_jobs=-1, verbose=1, warm_start=False, explained_variance=0.364, neg_mean_absolute_error=-61.849, neg_mean_squared_error=-6019.659, neg_mean_squared_log_error=-0.025, neg_median_absolute_error=-52.812, r2=0.362, total=  11.9s\n",
      "[Parallel(n_jobs=1)]: Done  79 out of  79 | elapsed:  5.3min remaining:    0.0s\n",
      "[CV] bootstrap=True, criterion=mse, max_depth=110, max_features=auto, min_samples_leaf=1, min_samples_split=5, min_weight_fraction_leaf=0.0, n_estimators=2000, n_jobs=-1, verbose=1, warm_start=False \n"
     ]
    },
    {
     "name": "stderr",
     "output_type": "stream",
     "text": [
      "[Parallel(n_jobs=-1)]: Using backend LokyBackend with 4 concurrent workers.\n",
      "[Parallel(n_jobs=-1)]: Done 200 tasks      | elapsed:    1.0s\n",
      "[Parallel(n_jobs=-1)]: Done 1400 tasks      | elapsed:    6.7s\n",
      "[Parallel(n_jobs=-1)]: Done 2000 out of 2000 | elapsed:    9.9s finished\n",
      "[Parallel(n_jobs=4)]: Using backend ThreadingBackend with 4 concurrent workers.\n",
      "[Parallel(n_jobs=4)]: Done  42 tasks      | elapsed:    0.0s\n",
      "[Parallel(n_jobs=4)]: Done 192 tasks      | elapsed:    0.1s\n",
      "[Parallel(n_jobs=4)]: Done 442 tasks      | elapsed:    0.3s\n",
      "[Parallel(n_jobs=4)]: Done 792 tasks      | elapsed:    0.4s\n",
      "[Parallel(n_jobs=4)]: Done 1242 tasks      | elapsed:    0.6s\n",
      "[Parallel(n_jobs=4)]: Done 1792 tasks      | elapsed:    0.7s\n",
      "[Parallel(n_jobs=4)]: Done 2000 out of 2000 | elapsed:    0.8s finished\n",
      "[Parallel(n_jobs=-1)]: Using backend LokyBackend with 4 concurrent workers.\n"
     ]
    },
    {
     "name": "stdout",
     "output_type": "stream",
     "text": [
      "[CV]  bootstrap=True, criterion=mse, max_depth=110, max_features=auto, min_samples_leaf=1, min_samples_split=5, min_weight_fraction_leaf=0.0, n_estimators=2000, n_jobs=-1, verbose=1, warm_start=False, explained_variance=0.438, neg_mean_absolute_error=-59.903, neg_mean_squared_error=-5879.390, neg_mean_squared_log_error=-0.068, neg_median_absolute_error=-50.043, r2=0.438, total=  11.9s\n",
      "[Parallel(n_jobs=1)]: Done  80 out of  80 | elapsed:  5.5min remaining:    0.0s\n",
      "[CV] bootstrap=True, criterion=mse, max_depth=110, max_features=auto, min_samples_leaf=1, min_samples_split=10, min_weight_fraction_leaf=0.0, n_estimators=200, n_jobs=-1, verbose=1, warm_start=False \n"
     ]
    },
    {
     "name": "stderr",
     "output_type": "stream",
     "text": [
      "[Parallel(n_jobs=-1)]: Done 172 tasks      | elapsed:    1.0s\n",
      "[Parallel(n_jobs=-1)]: Done 200 out of 200 | elapsed:    1.1s finished\n",
      "[Parallel(n_jobs=4)]: Using backend ThreadingBackend with 4 concurrent workers.\n",
      "[Parallel(n_jobs=4)]: Done  42 tasks      | elapsed:    0.0s\n",
      "[Parallel(n_jobs=4)]: Done 192 tasks      | elapsed:    0.1s\n",
      "[Parallel(n_jobs=4)]: Done 200 out of 200 | elapsed:    0.1s finished\n"
     ]
    },
    {
     "name": "stdout",
     "output_type": "stream",
     "text": [
      "[CV]  bootstrap=True, criterion=mse, max_depth=110, max_features=auto, min_samples_leaf=1, min_samples_split=10, min_weight_fraction_leaf=0.0, n_estimators=200, n_jobs=-1, verbose=1, warm_start=False, explained_variance=0.369, neg_mean_absolute_error=-61.780, neg_mean_squared_error=-5971.080, neg_mean_squared_log_error=-0.025, neg_median_absolute_error=-52.828, r2=0.367, total=   1.4s\n",
      "[Parallel(n_jobs=1)]: Done  81 out of  81 | elapsed:  5.6min remaining:    0.0s\n",
      "[CV] bootstrap=True, criterion=mse, max_depth=110, max_features=auto, min_samples_leaf=1, min_samples_split=10, min_weight_fraction_leaf=0.0, n_estimators=200, n_jobs=-1, verbose=1, warm_start=False \n"
     ]
    },
    {
     "name": "stderr",
     "output_type": "stream",
     "text": [
      "[Parallel(n_jobs=-1)]: Using backend LokyBackend with 4 concurrent workers.\n",
      "[Parallel(n_jobs=-1)]: Done 190 tasks      | elapsed:    1.0s\n",
      "[Parallel(n_jobs=-1)]: Done 200 out of 200 | elapsed:    1.1s finished\n",
      "[Parallel(n_jobs=4)]: Using backend ThreadingBackend with 4 concurrent workers.\n",
      "[Parallel(n_jobs=4)]: Done  42 tasks      | elapsed:    0.0s\n",
      "[Parallel(n_jobs=4)]: Done 192 tasks      | elapsed:    0.1s\n",
      "[Parallel(n_jobs=4)]: Done 200 out of 200 | elapsed:    0.1s finished\n"
     ]
    },
    {
     "name": "stdout",
     "output_type": "stream",
     "text": [
      "[CV]  bootstrap=True, criterion=mse, max_depth=110, max_features=auto, min_samples_leaf=1, min_samples_split=10, min_weight_fraction_leaf=0.0, n_estimators=200, n_jobs=-1, verbose=1, warm_start=False, explained_variance=0.439, neg_mean_absolute_error=-59.750, neg_mean_squared_error=-5867.516, neg_mean_squared_log_error=-0.068, neg_median_absolute_error=-49.822, r2=0.439, total=   1.4s\n",
      "[Parallel(n_jobs=1)]: Done  82 out of  82 | elapsed:  5.6min remaining:    0.0s\n",
      "[CV] bootstrap=True, criterion=mse, max_depth=110, max_features=auto, min_samples_leaf=1, min_samples_split=10, min_weight_fraction_leaf=0.0, n_estimators=2000, n_jobs=-1, verbose=1, warm_start=False \n"
     ]
    },
    {
     "name": "stderr",
     "output_type": "stream",
     "text": [
      "[Parallel(n_jobs=-1)]: Using backend LokyBackend with 4 concurrent workers.\n",
      "[Parallel(n_jobs=-1)]: Done 200 tasks      | elapsed:    1.1s\n",
      "[Parallel(n_jobs=-1)]: Done 1400 tasks      | elapsed:    7.1s\n",
      "[Parallel(n_jobs=-1)]: Done 2000 out of 2000 | elapsed:   10.1s finished\n",
      "[Parallel(n_jobs=4)]: Using backend ThreadingBackend with 4 concurrent workers.\n",
      "[Parallel(n_jobs=4)]: Done  42 tasks      | elapsed:    0.0s\n",
      "[Parallel(n_jobs=4)]: Done 192 tasks      | elapsed:    0.1s\n",
      "[Parallel(n_jobs=4)]: Done 442 tasks      | elapsed:    0.2s\n",
      "[Parallel(n_jobs=4)]: Done 792 tasks      | elapsed:    0.3s\n",
      "[Parallel(n_jobs=4)]: Done 1242 tasks      | elapsed:    0.5s\n",
      "[Parallel(n_jobs=4)]: Done 1792 tasks      | elapsed:    0.7s\n",
      "[Parallel(n_jobs=4)]: Done 2000 out of 2000 | elapsed:    0.8s finished\n"
     ]
    },
    {
     "name": "stdout",
     "output_type": "stream",
     "text": [
      "[CV]  bootstrap=True, criterion=mse, max_depth=110, max_features=auto, min_samples_leaf=1, min_samples_split=10, min_weight_fraction_leaf=0.0, n_estimators=2000, n_jobs=-1, verbose=1, warm_start=False, explained_variance=0.369, neg_mean_absolute_error=-61.589, neg_mean_squared_error=-5963.616, neg_mean_squared_log_error=-0.025, neg_median_absolute_error=-52.759, r2=0.368, total=  12.3s\n",
      "[Parallel(n_jobs=1)]: Done  83 out of  83 | elapsed:  5.8min remaining:    0.0s\n",
      "[CV] bootstrap=True, criterion=mse, max_depth=110, max_features=auto, min_samples_leaf=1, min_samples_split=10, min_weight_fraction_leaf=0.0, n_estimators=2000, n_jobs=-1, verbose=1, warm_start=False \n"
     ]
    },
    {
     "name": "stderr",
     "output_type": "stream",
     "text": [
      "[Parallel(n_jobs=-1)]: Using backend LokyBackend with 4 concurrent workers.\n",
      "[Parallel(n_jobs=-1)]: Done 280 tasks      | elapsed:    1.4s\n",
      "[Parallel(n_jobs=-1)]: Done 2000 out of 2000 | elapsed:    9.1s finished\n",
      "[Parallel(n_jobs=4)]: Using backend ThreadingBackend with 4 concurrent workers.\n",
      "[Parallel(n_jobs=4)]: Done  42 tasks      | elapsed:    0.0s\n",
      "[Parallel(n_jobs=4)]: Done 192 tasks      | elapsed:    0.1s\n",
      "[Parallel(n_jobs=4)]: Done 442 tasks      | elapsed:    0.1s\n",
      "[Parallel(n_jobs=4)]: Done 792 tasks      | elapsed:    0.3s\n",
      "[Parallel(n_jobs=4)]: Done 1242 tasks      | elapsed:    0.4s\n",
      "[Parallel(n_jobs=4)]: Done 1792 tasks      | elapsed:    0.6s\n",
      "[Parallel(n_jobs=4)]: Done 2000 out of 2000 | elapsed:    0.7s finished\n"
     ]
    },
    {
     "name": "stdout",
     "output_type": "stream",
     "text": [
      "[CV]  bootstrap=True, criterion=mse, max_depth=110, max_features=auto, min_samples_leaf=1, min_samples_split=10, min_weight_fraction_leaf=0.0, n_estimators=2000, n_jobs=-1, verbose=1, warm_start=False, explained_variance=0.444, neg_mean_absolute_error=-59.557, neg_mean_squared_error=-5823.943, neg_mean_squared_log_error=-0.068, neg_median_absolute_error=-49.470, r2=0.443, total=  11.2s\n",
      "[Parallel(n_jobs=1)]: Done  84 out of  84 | elapsed:  6.0min remaining:    0.0s\n",
      "[CV] bootstrap=True, criterion=mse, max_depth=110, max_features=auto, min_samples_leaf=2, min_samples_split=2, min_weight_fraction_leaf=0.0, n_estimators=200, n_jobs=-1, verbose=1, warm_start=False \n"
     ]
    },
    {
     "name": "stderr",
     "output_type": "stream",
     "text": [
      "[Parallel(n_jobs=-1)]: Using backend LokyBackend with 4 concurrent workers.\n",
      "[Parallel(n_jobs=-1)]: Done 172 tasks      | elapsed:    0.9s\n",
      "[Parallel(n_jobs=-1)]: Done 200 out of 200 | elapsed:    1.0s finished\n",
      "[Parallel(n_jobs=4)]: Using backend ThreadingBackend with 4 concurrent workers.\n",
      "[Parallel(n_jobs=4)]: Done  42 tasks      | elapsed:    0.0s\n",
      "[Parallel(n_jobs=4)]: Done 192 tasks      | elapsed:    0.1s\n",
      "[Parallel(n_jobs=4)]: Done 200 out of 200 | elapsed:    0.1s finished\n"
     ]
    },
    {
     "name": "stdout",
     "output_type": "stream",
     "text": [
      "[CV]  bootstrap=True, criterion=mse, max_depth=110, max_features=auto, min_samples_leaf=2, min_samples_split=2, min_weight_fraction_leaf=0.0, n_estimators=200, n_jobs=-1, verbose=1, warm_start=False, explained_variance=0.364, neg_mean_absolute_error=-61.867, neg_mean_squared_error=-6015.459, neg_mean_squared_log_error=-0.025, neg_median_absolute_error=-52.587, r2=0.363, total=   1.2s\n",
      "[Parallel(n_jobs=1)]: Done  85 out of  85 | elapsed:  6.0min remaining:    0.0s\n",
      "[CV] bootstrap=True, criterion=mse, max_depth=110, max_features=auto, min_samples_leaf=2, min_samples_split=2, min_weight_fraction_leaf=0.0, n_estimators=200, n_jobs=-1, verbose=1, warm_start=False \n"
     ]
    },
    {
     "name": "stderr",
     "output_type": "stream",
     "text": [
      "[Parallel(n_jobs=-1)]: Using backend LokyBackend with 4 concurrent workers.\n",
      "[Parallel(n_jobs=-1)]: Done 190 tasks      | elapsed:    0.9s\n",
      "[Parallel(n_jobs=-1)]: Done 200 out of 200 | elapsed:    1.0s finished\n",
      "[Parallel(n_jobs=4)]: Using backend ThreadingBackend with 4 concurrent workers.\n",
      "[Parallel(n_jobs=4)]: Done  42 tasks      | elapsed:    0.0s\n",
      "[Parallel(n_jobs=4)]: Done 192 tasks      | elapsed:    0.1s\n",
      "[Parallel(n_jobs=4)]: Done 200 out of 200 | elapsed:    0.1s finished\n"
     ]
    },
    {
     "name": "stdout",
     "output_type": "stream",
     "text": [
      "[CV]  bootstrap=True, criterion=mse, max_depth=110, max_features=auto, min_samples_leaf=2, min_samples_split=2, min_weight_fraction_leaf=0.0, n_estimators=200, n_jobs=-1, verbose=1, warm_start=False, explained_variance=0.436, neg_mean_absolute_error=-60.000, neg_mean_squared_error=-5900.971, neg_mean_squared_log_error=-0.068, neg_median_absolute_error=-49.839, r2=0.436, total=   1.2s\n",
      "[Parallel(n_jobs=1)]: Done  86 out of  86 | elapsed:  6.0min remaining:    0.0s\n",
      "[CV] bootstrap=True, criterion=mse, max_depth=110, max_features=auto, min_samples_leaf=2, min_samples_split=2, min_weight_fraction_leaf=0.0, n_estimators=2000, n_jobs=-1, verbose=1, warm_start=False \n"
     ]
    },
    {
     "name": "stderr",
     "output_type": "stream",
     "text": [
      "[Parallel(n_jobs=-1)]: Using backend LokyBackend with 4 concurrent workers.\n",
      "[Parallel(n_jobs=-1)]: Done 280 tasks      | elapsed:    1.5s\n",
      "[Parallel(n_jobs=-1)]: Done 2000 out of 2000 | elapsed:   10.1s finished\n",
      "[Parallel(n_jobs=4)]: Using backend ThreadingBackend with 4 concurrent workers.\n",
      "[Parallel(n_jobs=4)]: Done  42 tasks      | elapsed:    0.0s\n",
      "[Parallel(n_jobs=4)]: Done 192 tasks      | elapsed:    0.1s\n",
      "[Parallel(n_jobs=4)]: Done 442 tasks      | elapsed:    0.2s\n",
      "[Parallel(n_jobs=4)]: Done 792 tasks      | elapsed:    0.3s\n",
      "[Parallel(n_jobs=4)]: Done 1242 tasks      | elapsed:    0.5s\n",
      "[Parallel(n_jobs=4)]: Done 1792 tasks      | elapsed:    0.6s\n",
      "[Parallel(n_jobs=4)]: Done 2000 out of 2000 | elapsed:    0.7s finished\n"
     ]
    },
    {
     "name": "stdout",
     "output_type": "stream",
     "text": [
      "[CV]  bootstrap=True, criterion=mse, max_depth=110, max_features=auto, min_samples_leaf=2, min_samples_split=2, min_weight_fraction_leaf=0.0, n_estimators=2000, n_jobs=-1, verbose=1, warm_start=False, explained_variance=0.364, neg_mean_absolute_error=-61.763, neg_mean_squared_error=-6009.023, neg_mean_squared_log_error=-0.025, neg_median_absolute_error=-52.250, r2=0.363, total=  12.2s\n",
      "[Parallel(n_jobs=1)]: Done  87 out of  87 | elapsed:  6.2min remaining:    0.0s\n",
      "[CV] bootstrap=True, criterion=mse, max_depth=110, max_features=auto, min_samples_leaf=2, min_samples_split=2, min_weight_fraction_leaf=0.0, n_estimators=2000, n_jobs=-1, verbose=1, warm_start=False \n"
     ]
    },
    {
     "name": "stderr",
     "output_type": "stream",
     "text": [
      "[Parallel(n_jobs=-1)]: Using backend LokyBackend with 4 concurrent workers.\n",
      "[Parallel(n_jobs=-1)]: Done 280 tasks      | elapsed:    1.5s\n",
      "[Parallel(n_jobs=-1)]: Done 2000 out of 2000 | elapsed:    9.6s finished\n",
      "[Parallel(n_jobs=4)]: Using backend ThreadingBackend with 4 concurrent workers.\n",
      "[Parallel(n_jobs=4)]: Done  42 tasks      | elapsed:    0.0s\n",
      "[Parallel(n_jobs=4)]: Done 192 tasks      | elapsed:    0.1s\n",
      "[Parallel(n_jobs=4)]: Done 442 tasks      | elapsed:    0.1s\n",
      "[Parallel(n_jobs=4)]: Done 792 tasks      | elapsed:    0.3s\n",
      "[Parallel(n_jobs=4)]: Done 1242 tasks      | elapsed:    0.5s\n",
      "[Parallel(n_jobs=4)]: Done 1792 tasks      | elapsed:    0.7s\n",
      "[Parallel(n_jobs=4)]: Done 2000 out of 2000 | elapsed:    0.8s finished\n"
     ]
    },
    {
     "name": "stdout",
     "output_type": "stream",
     "text": [
      "[CV]  bootstrap=True, criterion=mse, max_depth=110, max_features=auto, min_samples_leaf=2, min_samples_split=2, min_weight_fraction_leaf=0.0, n_estimators=2000, n_jobs=-1, verbose=1, warm_start=False, explained_variance=0.438, neg_mean_absolute_error=-59.846, neg_mean_squared_error=-5879.037, neg_mean_squared_log_error=-0.068, neg_median_absolute_error=-49.868, r2=0.438, total=  11.8s\n",
      "[Parallel(n_jobs=1)]: Done  88 out of  88 | elapsed:  6.4min remaining:    0.0s\n",
      "[CV] bootstrap=True, criterion=mse, max_depth=110, max_features=auto, min_samples_leaf=2, min_samples_split=5, min_weight_fraction_leaf=0.0, n_estimators=200, n_jobs=-1, verbose=1, warm_start=False \n"
     ]
    },
    {
     "name": "stderr",
     "output_type": "stream",
     "text": [
      "[Parallel(n_jobs=-1)]: Using backend LokyBackend with 4 concurrent workers.\n",
      "[Parallel(n_jobs=-1)]: Done 190 tasks      | elapsed:    1.0s\n",
      "[Parallel(n_jobs=-1)]: Done 200 out of 200 | elapsed:    1.0s finished\n",
      "[Parallel(n_jobs=4)]: Using backend ThreadingBackend with 4 concurrent workers.\n",
      "[Parallel(n_jobs=4)]: Done  42 tasks      | elapsed:    0.0s\n",
      "[Parallel(n_jobs=4)]: Done 192 tasks      | elapsed:    0.1s\n",
      "[Parallel(n_jobs=4)]: Done 200 out of 200 | elapsed:    0.1s finished\n"
     ]
    },
    {
     "name": "stdout",
     "output_type": "stream",
     "text": [
      "[CV]  bootstrap=True, criterion=mse, max_depth=110, max_features=auto, min_samples_leaf=2, min_samples_split=5, min_weight_fraction_leaf=0.0, n_estimators=200, n_jobs=-1, verbose=1, warm_start=False, explained_variance=0.363, neg_mean_absolute_error=-61.953, neg_mean_squared_error=-6022.736, neg_mean_squared_log_error=-0.025, neg_median_absolute_error=-52.912, r2=0.362, total=   1.3s\n",
      "[Parallel(n_jobs=1)]: Done  89 out of  89 | elapsed:  6.4min remaining:    0.0s\n",
      "[CV] bootstrap=True, criterion=mse, max_depth=110, max_features=auto, min_samples_leaf=2, min_samples_split=5, min_weight_fraction_leaf=0.0, n_estimators=200, n_jobs=-1, verbose=1, warm_start=False \n"
     ]
    },
    {
     "name": "stderr",
     "output_type": "stream",
     "text": [
      "[Parallel(n_jobs=-1)]: Using backend LokyBackend with 4 concurrent workers.\n",
      "[Parallel(n_jobs=-1)]: Done 172 tasks      | elapsed:    0.9s\n",
      "[Parallel(n_jobs=-1)]: Done 200 out of 200 | elapsed:    1.0s finished\n",
      "[Parallel(n_jobs=4)]: Using backend ThreadingBackend with 4 concurrent workers.\n",
      "[Parallel(n_jobs=4)]: Done  42 tasks      | elapsed:    0.0s\n",
      "[Parallel(n_jobs=4)]: Done 192 tasks      | elapsed:    0.1s\n",
      "[Parallel(n_jobs=4)]: Done 200 out of 200 | elapsed:    0.1s finished\n"
     ]
    },
    {
     "name": "stdout",
     "output_type": "stream",
     "text": [
      "[CV]  bootstrap=True, criterion=mse, max_depth=110, max_features=auto, min_samples_leaf=2, min_samples_split=5, min_weight_fraction_leaf=0.0, n_estimators=200, n_jobs=-1, verbose=1, warm_start=False, explained_variance=0.438, neg_mean_absolute_error=-59.900, neg_mean_squared_error=-5880.826, neg_mean_squared_log_error=-0.068, neg_median_absolute_error=-50.018, r2=0.438, total=   1.4s\n",
      "[Parallel(n_jobs=1)]: Done  90 out of  90 | elapsed:  6.5min remaining:    0.0s\n",
      "[CV] bootstrap=True, criterion=mse, max_depth=110, max_features=auto, min_samples_leaf=2, min_samples_split=5, min_weight_fraction_leaf=0.0, n_estimators=2000, n_jobs=-1, verbose=1, warm_start=False \n"
     ]
    },
    {
     "name": "stderr",
     "output_type": "stream",
     "text": [
      "[Parallel(n_jobs=-1)]: Using backend LokyBackend with 4 concurrent workers.\n",
      "[Parallel(n_jobs=-1)]: Done 200 tasks      | elapsed:    1.1s\n",
      "[Parallel(n_jobs=-1)]: Done 1400 tasks      | elapsed:    6.9s\n",
      "[Parallel(n_jobs=-1)]: Done 2000 out of 2000 | elapsed:    9.9s finished\n",
      "[Parallel(n_jobs=4)]: Using backend ThreadingBackend with 4 concurrent workers.\n",
      "[Parallel(n_jobs=4)]: Done  42 tasks      | elapsed:    0.0s\n",
      "[Parallel(n_jobs=4)]: Done 192 tasks      | elapsed:    0.1s\n",
      "[Parallel(n_jobs=4)]: Done 442 tasks      | elapsed:    0.2s\n",
      "[Parallel(n_jobs=4)]: Done 792 tasks      | elapsed:    0.3s\n",
      "[Parallel(n_jobs=4)]: Done 1242 tasks      | elapsed:    0.5s\n",
      "[Parallel(n_jobs=4)]: Done 1792 tasks      | elapsed:    0.7s\n",
      "[Parallel(n_jobs=4)]: Done 2000 out of 2000 | elapsed:    0.7s finished\n"
     ]
    },
    {
     "name": "stdout",
     "output_type": "stream",
     "text": [
      "[CV]  bootstrap=True, criterion=mse, max_depth=110, max_features=auto, min_samples_leaf=2, min_samples_split=5, min_weight_fraction_leaf=0.0, n_estimators=2000, n_jobs=-1, verbose=1, warm_start=False, explained_variance=0.366, neg_mean_absolute_error=-61.709, neg_mean_squared_error=-5998.305, neg_mean_squared_log_error=-0.025, neg_median_absolute_error=-52.080, r2=0.365, total=  12.0s\n",
      "[Parallel(n_jobs=1)]: Done  91 out of  91 | elapsed:  6.7min remaining:    0.0s\n",
      "[CV] bootstrap=True, criterion=mse, max_depth=110, max_features=auto, min_samples_leaf=2, min_samples_split=5, min_weight_fraction_leaf=0.0, n_estimators=2000, n_jobs=-1, verbose=1, warm_start=False \n"
     ]
    },
    {
     "name": "stderr",
     "output_type": "stream",
     "text": [
      "[Parallel(n_jobs=-1)]: Using backend LokyBackend with 4 concurrent workers.\n",
      "[Parallel(n_jobs=-1)]: Done 200 tasks      | elapsed:    1.0s\n",
      "[Parallel(n_jobs=-1)]: Done 1400 tasks      | elapsed:    6.3s\n",
      "[Parallel(n_jobs=-1)]: Done 2000 out of 2000 | elapsed:    8.9s finished\n",
      "[Parallel(n_jobs=4)]: Using backend ThreadingBackend with 4 concurrent workers.\n",
      "[Parallel(n_jobs=4)]: Done  42 tasks      | elapsed:    0.0s\n",
      "[Parallel(n_jobs=4)]: Done 192 tasks      | elapsed:    0.1s\n",
      "[Parallel(n_jobs=4)]: Done 442 tasks      | elapsed:    0.2s\n",
      "[Parallel(n_jobs=4)]: Done 792 tasks      | elapsed:    0.3s\n",
      "[Parallel(n_jobs=4)]: Done 1242 tasks      | elapsed:    0.4s\n",
      "[Parallel(n_jobs=4)]: Done 1792 tasks      | elapsed:    0.6s\n",
      "[Parallel(n_jobs=4)]: Done 2000 out of 2000 | elapsed:    0.7s finished\n"
     ]
    },
    {
     "name": "stdout",
     "output_type": "stream",
     "text": [
      "[CV]  bootstrap=True, criterion=mse, max_depth=110, max_features=auto, min_samples_leaf=2, min_samples_split=5, min_weight_fraction_leaf=0.0, n_estimators=2000, n_jobs=-1, verbose=1, warm_start=False, explained_variance=0.440, neg_mean_absolute_error=-59.790, neg_mean_squared_error=-5863.987, neg_mean_squared_log_error=-0.067, neg_median_absolute_error=-49.719, r2=0.440, total=  10.9s\n",
      "[Parallel(n_jobs=1)]: Done  92 out of  92 | elapsed:  6.8min remaining:    0.0s\n",
      "[CV] bootstrap=True, criterion=mse, max_depth=110, max_features=auto, min_samples_leaf=2, min_samples_split=10, min_weight_fraction_leaf=0.0, n_estimators=200, n_jobs=-1, verbose=1, warm_start=False \n"
     ]
    },
    {
     "name": "stderr",
     "output_type": "stream",
     "text": [
      "[Parallel(n_jobs=-1)]: Using backend LokyBackend with 4 concurrent workers.\n",
      "[Parallel(n_jobs=-1)]: Done 190 tasks      | elapsed:    0.9s\n",
      "[Parallel(n_jobs=-1)]: Done 200 out of 200 | elapsed:    0.9s finished\n",
      "[Parallel(n_jobs=4)]: Using backend ThreadingBackend with 4 concurrent workers.\n",
      "[Parallel(n_jobs=4)]: Done  42 tasks      | elapsed:    0.0s\n",
      "[Parallel(n_jobs=4)]: Done 192 tasks      | elapsed:    0.1s\n",
      "[Parallel(n_jobs=4)]: Done 200 out of 200 | elapsed:    0.1s finished\n"
     ]
    },
    {
     "name": "stdout",
     "output_type": "stream",
     "text": [
      "[CV]  bootstrap=True, criterion=mse, max_depth=110, max_features=auto, min_samples_leaf=2, min_samples_split=10, min_weight_fraction_leaf=0.0, n_estimators=200, n_jobs=-1, verbose=1, warm_start=False, explained_variance=0.369, neg_mean_absolute_error=-61.540, neg_mean_squared_error=-5962.520, neg_mean_squared_log_error=-0.025, neg_median_absolute_error=-52.593, r2=0.368, total=   1.1s\n",
      "[Parallel(n_jobs=1)]: Done  93 out of  93 | elapsed:  6.9min remaining:    0.0s\n",
      "[CV] bootstrap=True, criterion=mse, max_depth=110, max_features=auto, min_samples_leaf=2, min_samples_split=10, min_weight_fraction_leaf=0.0, n_estimators=200, n_jobs=-1, verbose=1, warm_start=False \n"
     ]
    },
    {
     "name": "stderr",
     "output_type": "stream",
     "text": [
      "[Parallel(n_jobs=-1)]: Using backend LokyBackend with 4 concurrent workers.\n",
      "[Parallel(n_jobs=-1)]: Done 175 tasks      | elapsed:    0.8s\n",
      "[Parallel(n_jobs=-1)]: Done 200 out of 200 | elapsed:    0.8s finished\n",
      "[Parallel(n_jobs=4)]: Using backend ThreadingBackend with 4 concurrent workers.\n",
      "[Parallel(n_jobs=4)]: Done  42 tasks      | elapsed:    0.0s\n",
      "[Parallel(n_jobs=4)]: Done 192 tasks      | elapsed:    0.1s\n",
      "[Parallel(n_jobs=4)]: Done 200 out of 200 | elapsed:    0.1s finished\n"
     ]
    },
    {
     "name": "stdout",
     "output_type": "stream",
     "text": [
      "[CV]  bootstrap=True, criterion=mse, max_depth=110, max_features=auto, min_samples_leaf=2, min_samples_split=10, min_weight_fraction_leaf=0.0, n_estimators=200, n_jobs=-1, verbose=1, warm_start=False, explained_variance=0.444, neg_mean_absolute_error=-59.564, neg_mean_squared_error=-5824.115, neg_mean_squared_log_error=-0.067, neg_median_absolute_error=-50.151, r2=0.443, total=   1.1s\n",
      "[Parallel(n_jobs=1)]: Done  94 out of  94 | elapsed:  6.9min remaining:    0.0s\n",
      "[CV] bootstrap=True, criterion=mse, max_depth=110, max_features=auto, min_samples_leaf=2, min_samples_split=10, min_weight_fraction_leaf=0.0, n_estimators=2000, n_jobs=-1, verbose=1, warm_start=False \n"
     ]
    },
    {
     "name": "stderr",
     "output_type": "stream",
     "text": [
      "[Parallel(n_jobs=-1)]: Using backend LokyBackend with 4 concurrent workers.\n",
      "[Parallel(n_jobs=-1)]: Done 280 tasks      | elapsed:    1.5s\n",
      "[Parallel(n_jobs=-1)]: Done 2000 out of 2000 | elapsed:    8.4s finished\n",
      "[Parallel(n_jobs=4)]: Using backend ThreadingBackend with 4 concurrent workers.\n",
      "[Parallel(n_jobs=4)]: Done  42 tasks      | elapsed:    0.0s\n",
      "[Parallel(n_jobs=4)]: Done 192 tasks      | elapsed:    0.1s\n",
      "[Parallel(n_jobs=4)]: Done 442 tasks      | elapsed:    0.1s\n",
      "[Parallel(n_jobs=4)]: Done 792 tasks      | elapsed:    0.2s\n",
      "[Parallel(n_jobs=4)]: Done 1242 tasks      | elapsed:    0.4s\n",
      "[Parallel(n_jobs=4)]: Done 1792 tasks      | elapsed:    0.5s\n",
      "[Parallel(n_jobs=4)]: Done 2000 out of 2000 | elapsed:    0.6s finished\n"
     ]
    },
    {
     "name": "stdout",
     "output_type": "stream",
     "text": [
      "[CV]  bootstrap=True, criterion=mse, max_depth=110, max_features=auto, min_samples_leaf=2, min_samples_split=10, min_weight_fraction_leaf=0.0, n_estimators=2000, n_jobs=-1, verbose=1, warm_start=False, explained_variance=0.371, neg_mean_absolute_error=-61.487, neg_mean_squared_error=-5948.533, neg_mean_squared_log_error=-0.025, neg_median_absolute_error=-52.359, r2=0.370, total=  10.3s\n",
      "[Parallel(n_jobs=1)]: Done  95 out of  95 | elapsed:  7.1min remaining:    0.0s\n",
      "[CV] bootstrap=True, criterion=mse, max_depth=110, max_features=auto, min_samples_leaf=2, min_samples_split=10, min_weight_fraction_leaf=0.0, n_estimators=2000, n_jobs=-1, verbose=1, warm_start=False \n"
     ]
    },
    {
     "name": "stderr",
     "output_type": "stream",
     "text": [
      "[Parallel(n_jobs=-1)]: Using backend LokyBackend with 4 concurrent workers.\n",
      "[Parallel(n_jobs=-1)]: Done 280 tasks      | elapsed:    1.1s\n",
      "[Parallel(n_jobs=-1)]: Done 2000 out of 2000 | elapsed:    7.1s finished\n",
      "[Parallel(n_jobs=4)]: Using backend ThreadingBackend with 4 concurrent workers.\n",
      "[Parallel(n_jobs=4)]: Done  42 tasks      | elapsed:    0.0s\n",
      "[Parallel(n_jobs=4)]: Done 192 tasks      | elapsed:    0.1s\n",
      "[Parallel(n_jobs=4)]: Done 442 tasks      | elapsed:    0.1s\n",
      "[Parallel(n_jobs=4)]: Done 792 tasks      | elapsed:    0.2s\n",
      "[Parallel(n_jobs=4)]: Done 1242 tasks      | elapsed:    0.4s\n",
      "[Parallel(n_jobs=4)]: Done 1792 tasks      | elapsed:    0.5s\n",
      "[Parallel(n_jobs=4)]: Done 2000 out of 2000 | elapsed:    0.6s finished\n",
      "[Parallel(n_jobs=-1)]: Using backend LokyBackend with 4 concurrent workers.\n"
     ]
    },
    {
     "name": "stdout",
     "output_type": "stream",
     "text": [
      "[CV]  bootstrap=True, criterion=mse, max_depth=110, max_features=auto, min_samples_leaf=2, min_samples_split=10, min_weight_fraction_leaf=0.0, n_estimators=2000, n_jobs=-1, verbose=1, warm_start=False, explained_variance=0.446, neg_mean_absolute_error=-59.389, neg_mean_squared_error=-5801.646, neg_mean_squared_log_error=-0.067, neg_median_absolute_error=-49.233, r2=0.446, total=   8.8s\n",
      "[Parallel(n_jobs=1)]: Done  96 out of  96 | elapsed:  7.2min remaining:    0.0s\n",
      "[CV] bootstrap=True, criterion=mse, max_depth=110, max_features=auto, min_samples_leaf=4, min_samples_split=2, min_weight_fraction_leaf=0.0, n_estimators=200, n_jobs=-1, verbose=1, warm_start=False \n"
     ]
    },
    {
     "name": "stderr",
     "output_type": "stream",
     "text": [
      "[Parallel(n_jobs=-1)]: Done 190 tasks      | elapsed:    0.7s\n",
      "[Parallel(n_jobs=-1)]: Done 200 out of 200 | elapsed:    0.8s finished\n",
      "[Parallel(n_jobs=4)]: Using backend ThreadingBackend with 4 concurrent workers.\n",
      "[Parallel(n_jobs=4)]: Done  42 tasks      | elapsed:    0.0s\n",
      "[Parallel(n_jobs=4)]: Done 192 tasks      | elapsed:    0.1s\n",
      "[Parallel(n_jobs=4)]: Done 200 out of 200 | elapsed:    0.1s finished\n"
     ]
    },
    {
     "name": "stdout",
     "output_type": "stream",
     "text": [
      "[CV]  bootstrap=True, criterion=mse, max_depth=110, max_features=auto, min_samples_leaf=4, min_samples_split=2, min_weight_fraction_leaf=0.0, n_estimators=200, n_jobs=-1, verbose=1, warm_start=False, explained_variance=0.367, neg_mean_absolute_error=-61.608, neg_mean_squared_error=-5981.938, neg_mean_squared_log_error=-0.025, neg_median_absolute_error=-52.198, r2=0.366, total=   1.0s\n",
      "[Parallel(n_jobs=1)]: Done  97 out of  97 | elapsed:  7.2min remaining:    0.0s\n",
      "[CV] bootstrap=True, criterion=mse, max_depth=110, max_features=auto, min_samples_leaf=4, min_samples_split=2, min_weight_fraction_leaf=0.0, n_estimators=200, n_jobs=-1, verbose=1, warm_start=False \n"
     ]
    },
    {
     "name": "stderr",
     "output_type": "stream",
     "text": [
      "[Parallel(n_jobs=-1)]: Using backend LokyBackend with 4 concurrent workers.\n",
      "[Parallel(n_jobs=-1)]: Done 190 tasks      | elapsed:    0.7s\n",
      "[Parallel(n_jobs=-1)]: Done 200 out of 200 | elapsed:    0.7s finished\n",
      "[Parallel(n_jobs=4)]: Using backend ThreadingBackend with 4 concurrent workers.\n",
      "[Parallel(n_jobs=4)]: Done  42 tasks      | elapsed:    0.0s\n",
      "[Parallel(n_jobs=4)]: Done 192 tasks      | elapsed:    0.1s\n",
      "[Parallel(n_jobs=4)]: Done 200 out of 200 | elapsed:    0.1s finished\n"
     ]
    },
    {
     "name": "stdout",
     "output_type": "stream",
     "text": [
      "[CV]  bootstrap=True, criterion=mse, max_depth=110, max_features=auto, min_samples_leaf=4, min_samples_split=2, min_weight_fraction_leaf=0.0, n_estimators=200, n_jobs=-1, verbose=1, warm_start=False, explained_variance=0.447, neg_mean_absolute_error=-59.296, neg_mean_squared_error=-5786.916, neg_mean_squared_log_error=-0.067, neg_median_absolute_error=-49.380, r2=0.447, total=   1.0s\n",
      "[Parallel(n_jobs=1)]: Done  98 out of  98 | elapsed:  7.2min remaining:    0.0s\n",
      "[CV] bootstrap=True, criterion=mse, max_depth=110, max_features=auto, min_samples_leaf=4, min_samples_split=2, min_weight_fraction_leaf=0.0, n_estimators=2000, n_jobs=-1, verbose=1, warm_start=False \n"
     ]
    },
    {
     "name": "stderr",
     "output_type": "stream",
     "text": [
      "[Parallel(n_jobs=-1)]: Using backend LokyBackend with 4 concurrent workers.\n",
      "[Parallel(n_jobs=-1)]: Done 280 tasks      | elapsed:    1.1s\n",
      "[Parallel(n_jobs=-1)]: Done 2000 out of 2000 | elapsed:    7.2s finished\n",
      "[Parallel(n_jobs=4)]: Using backend ThreadingBackend with 4 concurrent workers.\n",
      "[Parallel(n_jobs=4)]: Done  42 tasks      | elapsed:    0.0s\n",
      "[Parallel(n_jobs=4)]: Done 192 tasks      | elapsed:    0.1s\n",
      "[Parallel(n_jobs=4)]: Done 442 tasks      | elapsed:    0.1s\n",
      "[Parallel(n_jobs=4)]: Done 792 tasks      | elapsed:    0.2s\n",
      "[Parallel(n_jobs=4)]: Done 1242 tasks      | elapsed:    0.4s\n",
      "[Parallel(n_jobs=4)]: Done 1792 tasks      | elapsed:    0.6s\n",
      "[Parallel(n_jobs=4)]: Done 2000 out of 2000 | elapsed:    0.6s finished\n"
     ]
    },
    {
     "name": "stdout",
     "output_type": "stream",
     "text": [
      "[CV]  bootstrap=True, criterion=mse, max_depth=110, max_features=auto, min_samples_leaf=4, min_samples_split=2, min_weight_fraction_leaf=0.0, n_estimators=2000, n_jobs=-1, verbose=1, warm_start=False, explained_variance=0.368, neg_mean_absolute_error=-61.564, neg_mean_squared_error=-5968.069, neg_mean_squared_log_error=-0.025, neg_median_absolute_error=-52.497, r2=0.368, total=   9.0s\n",
      "[Parallel(n_jobs=1)]: Done  99 out of  99 | elapsed:  7.4min remaining:    0.0s\n",
      "[CV] bootstrap=True, criterion=mse, max_depth=110, max_features=auto, min_samples_leaf=4, min_samples_split=2, min_weight_fraction_leaf=0.0, n_estimators=2000, n_jobs=-1, verbose=1, warm_start=False \n"
     ]
    },
    {
     "name": "stderr",
     "output_type": "stream",
     "text": [
      "[Parallel(n_jobs=-1)]: Using backend LokyBackend with 4 concurrent workers.\n",
      "[Parallel(n_jobs=-1)]: Done 280 tasks      | elapsed:    1.0s\n",
      "[Parallel(n_jobs=-1)]: Done 2000 out of 2000 | elapsed:    6.7s finished\n",
      "[Parallel(n_jobs=4)]: Using backend ThreadingBackend with 4 concurrent workers.\n",
      "[Parallel(n_jobs=4)]: Done  42 tasks      | elapsed:    0.0s\n",
      "[Parallel(n_jobs=4)]: Done 192 tasks      | elapsed:    0.1s\n",
      "[Parallel(n_jobs=4)]: Done 442 tasks      | elapsed:    0.1s\n",
      "[Parallel(n_jobs=4)]: Done 792 tasks      | elapsed:    0.2s\n",
      "[Parallel(n_jobs=4)]: Done 1242 tasks      | elapsed:    0.4s\n",
      "[Parallel(n_jobs=4)]: Done 1792 tasks      | elapsed:    0.6s\n",
      "[Parallel(n_jobs=4)]: Done 2000 out of 2000 | elapsed:    0.6s finished\n"
     ]
    },
    {
     "name": "stdout",
     "output_type": "stream",
     "text": [
      "[CV]  bootstrap=True, criterion=mse, max_depth=110, max_features=auto, min_samples_leaf=4, min_samples_split=2, min_weight_fraction_leaf=0.0, n_estimators=2000, n_jobs=-1, verbose=1, warm_start=False, explained_variance=0.447, neg_mean_absolute_error=-59.355, neg_mean_squared_error=-5791.055, neg_mean_squared_log_error=-0.067, neg_median_absolute_error=-49.334, r2=0.447, total=   8.6s\n",
      "[CV] bootstrap=True, criterion=mse, max_depth=110, max_features=auto, min_samples_leaf=4, min_samples_split=5, min_weight_fraction_leaf=0.0, n_estimators=200, n_jobs=-1, verbose=1, warm_start=False \n"
     ]
    },
    {
     "name": "stderr",
     "output_type": "stream",
     "text": [
      "[Parallel(n_jobs=-1)]: Using backend LokyBackend with 4 concurrent workers.\n",
      "[Parallel(n_jobs=-1)]: Done 190 tasks      | elapsed:    0.7s\n",
      "[Parallel(n_jobs=-1)]: Done 200 out of 200 | elapsed:    0.8s finished\n",
      "[Parallel(n_jobs=4)]: Using backend ThreadingBackend with 4 concurrent workers.\n",
      "[Parallel(n_jobs=4)]: Done  42 tasks      | elapsed:    0.0s\n",
      "[Parallel(n_jobs=4)]: Done 192 tasks      | elapsed:    0.1s\n",
      "[Parallel(n_jobs=4)]: Done 200 out of 200 | elapsed:    0.1s finished\n"
     ]
    },
    {
     "name": "stdout",
     "output_type": "stream",
     "text": [
      "[CV]  bootstrap=True, criterion=mse, max_depth=110, max_features=auto, min_samples_leaf=4, min_samples_split=5, min_weight_fraction_leaf=0.0, n_estimators=200, n_jobs=-1, verbose=1, warm_start=False, explained_variance=0.367, neg_mean_absolute_error=-61.677, neg_mean_squared_error=-5984.434, neg_mean_squared_log_error=-0.025, neg_median_absolute_error=-52.484, r2=0.366, total=   1.0s\n",
      "[CV] bootstrap=True, criterion=mse, max_depth=110, max_features=auto, min_samples_leaf=4, min_samples_split=5, min_weight_fraction_leaf=0.0, n_estimators=200, n_jobs=-1, verbose=1, warm_start=False \n"
     ]
    },
    {
     "name": "stderr",
     "output_type": "stream",
     "text": [
      "[Parallel(n_jobs=-1)]: Using backend LokyBackend with 4 concurrent workers.\n",
      "[Parallel(n_jobs=-1)]: Done 190 tasks      | elapsed:    0.7s\n",
      "[Parallel(n_jobs=-1)]: Done 200 out of 200 | elapsed:    0.7s finished\n",
      "[Parallel(n_jobs=4)]: Using backend ThreadingBackend with 4 concurrent workers.\n",
      "[Parallel(n_jobs=4)]: Done  42 tasks      | elapsed:    0.0s\n",
      "[Parallel(n_jobs=4)]: Done 192 tasks      | elapsed:    0.1s\n",
      "[Parallel(n_jobs=4)]: Done 200 out of 200 | elapsed:    0.1s finished\n"
     ]
    },
    {
     "name": "stdout",
     "output_type": "stream",
     "text": [
      "[CV]  bootstrap=True, criterion=mse, max_depth=110, max_features=auto, min_samples_leaf=4, min_samples_split=5, min_weight_fraction_leaf=0.0, n_estimators=200, n_jobs=-1, verbose=1, warm_start=False, explained_variance=0.446, neg_mean_absolute_error=-59.350, neg_mean_squared_error=-5794.772, neg_mean_squared_log_error=-0.067, neg_median_absolute_error=-49.459, r2=0.446, total=   1.0s\n",
      "[CV] bootstrap=True, criterion=mse, max_depth=110, max_features=auto, min_samples_leaf=4, min_samples_split=5, min_weight_fraction_leaf=0.0, n_estimators=2000, n_jobs=-1, verbose=1, warm_start=False \n"
     ]
    },
    {
     "name": "stderr",
     "output_type": "stream",
     "text": [
      "[Parallel(n_jobs=-1)]: Using backend LokyBackend with 4 concurrent workers.\n",
      "[Parallel(n_jobs=-1)]: Done 280 tasks      | elapsed:    1.1s\n",
      "[Parallel(n_jobs=-1)]: Done 2000 out of 2000 | elapsed:    7.1s finished\n",
      "[Parallel(n_jobs=4)]: Using backend ThreadingBackend with 4 concurrent workers.\n",
      "[Parallel(n_jobs=4)]: Done  42 tasks      | elapsed:    0.0s\n",
      "[Parallel(n_jobs=4)]: Done 192 tasks      | elapsed:    0.1s\n",
      "[Parallel(n_jobs=4)]: Done 442 tasks      | elapsed:    0.1s\n",
      "[Parallel(n_jobs=4)]: Done 792 tasks      | elapsed:    0.2s\n",
      "[Parallel(n_jobs=4)]: Done 1242 tasks      | elapsed:    0.4s\n",
      "[Parallel(n_jobs=4)]: Done 1792 tasks      | elapsed:    0.5s\n",
      "[Parallel(n_jobs=4)]: Done 2000 out of 2000 | elapsed:    0.6s finished\n"
     ]
    },
    {
     "name": "stdout",
     "output_type": "stream",
     "text": [
      "[CV]  bootstrap=True, criterion=mse, max_depth=110, max_features=auto, min_samples_leaf=4, min_samples_split=5, min_weight_fraction_leaf=0.0, n_estimators=2000, n_jobs=-1, verbose=1, warm_start=False, explained_variance=0.368, neg_mean_absolute_error=-61.608, neg_mean_squared_error=-5973.954, neg_mean_squared_log_error=-0.025, neg_median_absolute_error=-52.677, r2=0.367, total=   8.8s\n",
      "[CV] bootstrap=True, criterion=mse, max_depth=110, max_features=auto, min_samples_leaf=4, min_samples_split=5, min_weight_fraction_leaf=0.0, n_estimators=2000, n_jobs=-1, verbose=1, warm_start=False \n"
     ]
    },
    {
     "name": "stderr",
     "output_type": "stream",
     "text": [
      "[Parallel(n_jobs=-1)]: Using backend LokyBackend with 4 concurrent workers.\n",
      "[Parallel(n_jobs=-1)]: Done 280 tasks      | elapsed:    1.0s\n",
      "[Parallel(n_jobs=-1)]: Done 2000 out of 2000 | elapsed:    6.6s finished\n",
      "[Parallel(n_jobs=4)]: Using backend ThreadingBackend with 4 concurrent workers.\n",
      "[Parallel(n_jobs=4)]: Done  42 tasks      | elapsed:    0.0s\n",
      "[Parallel(n_jobs=4)]: Done 192 tasks      | elapsed:    0.1s\n",
      "[Parallel(n_jobs=4)]: Done 442 tasks      | elapsed:    0.1s\n",
      "[Parallel(n_jobs=4)]: Done 792 tasks      | elapsed:    0.2s\n",
      "[Parallel(n_jobs=4)]: Done 1242 tasks      | elapsed:    0.4s\n",
      "[Parallel(n_jobs=4)]: Done 1792 tasks      | elapsed:    0.6s\n",
      "[Parallel(n_jobs=4)]: Done 2000 out of 2000 | elapsed:    0.6s finished\n"
     ]
    },
    {
     "name": "stdout",
     "output_type": "stream",
     "text": [
      "[CV]  bootstrap=True, criterion=mse, max_depth=110, max_features=auto, min_samples_leaf=4, min_samples_split=5, min_weight_fraction_leaf=0.0, n_estimators=2000, n_jobs=-1, verbose=1, warm_start=False, explained_variance=0.447, neg_mean_absolute_error=-59.389, neg_mean_squared_error=-5788.210, neg_mean_squared_log_error=-0.067, neg_median_absolute_error=-49.374, r2=0.447, total=   8.5s\n",
      "[CV] bootstrap=True, criterion=mse, max_depth=110, max_features=auto, min_samples_leaf=4, min_samples_split=10, min_weight_fraction_leaf=0.0, n_estimators=200, n_jobs=-1, verbose=1, warm_start=False \n"
     ]
    },
    {
     "name": "stderr",
     "output_type": "stream",
     "text": [
      "[Parallel(n_jobs=-1)]: Using backend LokyBackend with 4 concurrent workers.\n",
      "[Parallel(n_jobs=-1)]: Done 190 tasks      | elapsed:    0.7s\n",
      "[Parallel(n_jobs=-1)]: Done 200 out of 200 | elapsed:    0.7s finished\n",
      "[Parallel(n_jobs=4)]: Using backend ThreadingBackend with 4 concurrent workers.\n",
      "[Parallel(n_jobs=4)]: Done  42 tasks      | elapsed:    0.0s\n",
      "[Parallel(n_jobs=4)]: Done 192 tasks      | elapsed:    0.1s\n",
      "[Parallel(n_jobs=4)]: Done 200 out of 200 | elapsed:    0.1s finished\n"
     ]
    },
    {
     "name": "stdout",
     "output_type": "stream",
     "text": [
      "[CV]  bootstrap=True, criterion=mse, max_depth=110, max_features=auto, min_samples_leaf=4, min_samples_split=10, min_weight_fraction_leaf=0.0, n_estimators=200, n_jobs=-1, verbose=1, warm_start=False, explained_variance=0.368, neg_mean_absolute_error=-61.560, neg_mean_squared_error=-5969.576, neg_mean_squared_log_error=-0.025, neg_median_absolute_error=-51.904, r2=0.368, total=   1.0s\n",
      "[CV] bootstrap=True, criterion=mse, max_depth=110, max_features=auto, min_samples_leaf=4, min_samples_split=10, min_weight_fraction_leaf=0.0, n_estimators=200, n_jobs=-1, verbose=1, warm_start=False \n"
     ]
    },
    {
     "name": "stderr",
     "output_type": "stream",
     "text": [
      "[Parallel(n_jobs=-1)]: Using backend LokyBackend with 4 concurrent workers.\n",
      "[Parallel(n_jobs=-1)]: Done 190 tasks      | elapsed:    0.7s\n",
      "[Parallel(n_jobs=-1)]: Done 200 out of 200 | elapsed:    0.7s finished\n",
      "[Parallel(n_jobs=4)]: Using backend ThreadingBackend with 4 concurrent workers.\n",
      "[Parallel(n_jobs=4)]: Done  42 tasks      | elapsed:    0.0s\n",
      "[Parallel(n_jobs=4)]: Done 192 tasks      | elapsed:    0.1s\n",
      "[Parallel(n_jobs=4)]: Done 200 out of 200 | elapsed:    0.1s finished\n"
     ]
    },
    {
     "name": "stdout",
     "output_type": "stream",
     "text": [
      "[CV]  bootstrap=True, criterion=mse, max_depth=110, max_features=auto, min_samples_leaf=4, min_samples_split=10, min_weight_fraction_leaf=0.0, n_estimators=200, n_jobs=-1, verbose=1, warm_start=False, explained_variance=0.448, neg_mean_absolute_error=-59.320, neg_mean_squared_error=-5779.822, neg_mean_squared_log_error=-0.067, neg_median_absolute_error=-49.065, r2=0.448, total=   0.9s\n",
      "[CV] bootstrap=True, criterion=mse, max_depth=110, max_features=auto, min_samples_leaf=4, min_samples_split=10, min_weight_fraction_leaf=0.0, n_estimators=2000, n_jobs=-1, verbose=1, warm_start=False \n"
     ]
    },
    {
     "name": "stderr",
     "output_type": "stream",
     "text": [
      "[Parallel(n_jobs=-1)]: Using backend LokyBackend with 4 concurrent workers.\n",
      "[Parallel(n_jobs=-1)]: Done 280 tasks      | elapsed:    1.1s\n",
      "[Parallel(n_jobs=-1)]: Done 2000 out of 2000 | elapsed:    6.9s finished\n",
      "[Parallel(n_jobs=4)]: Using backend ThreadingBackend with 4 concurrent workers.\n",
      "[Parallel(n_jobs=4)]: Done  42 tasks      | elapsed:    0.0s\n",
      "[Parallel(n_jobs=4)]: Done 192 tasks      | elapsed:    0.1s\n",
      "[Parallel(n_jobs=4)]: Done 442 tasks      | elapsed:    0.1s\n",
      "[Parallel(n_jobs=4)]: Done 792 tasks      | elapsed:    0.2s\n",
      "[Parallel(n_jobs=4)]: Done 1242 tasks      | elapsed:    0.4s\n",
      "[Parallel(n_jobs=4)]: Done 1792 tasks      | elapsed:    0.6s\n",
      "[Parallel(n_jobs=4)]: Done 2000 out of 2000 | elapsed:    0.6s finished\n"
     ]
    },
    {
     "name": "stdout",
     "output_type": "stream",
     "text": [
      "[CV]  bootstrap=True, criterion=mse, max_depth=110, max_features=auto, min_samples_leaf=4, min_samples_split=10, min_weight_fraction_leaf=0.0, n_estimators=2000, n_jobs=-1, verbose=1, warm_start=False, explained_variance=0.369, neg_mean_absolute_error=-61.556, neg_mean_squared_error=-5962.550, neg_mean_squared_log_error=-0.025, neg_median_absolute_error=-52.485, r2=0.368, total=   8.8s\n",
      "[CV] bootstrap=True, criterion=mse, max_depth=110, max_features=auto, min_samples_leaf=4, min_samples_split=10, min_weight_fraction_leaf=0.0, n_estimators=2000, n_jobs=-1, verbose=1, warm_start=False \n"
     ]
    },
    {
     "name": "stderr",
     "output_type": "stream",
     "text": [
      "[Parallel(n_jobs=-1)]: Using backend LokyBackend with 4 concurrent workers.\n",
      "[Parallel(n_jobs=-1)]: Done 280 tasks      | elapsed:    1.0s\n",
      "[Parallel(n_jobs=-1)]: Done 2000 out of 2000 | elapsed:    6.4s finished\n",
      "[Parallel(n_jobs=4)]: Using backend ThreadingBackend with 4 concurrent workers.\n",
      "[Parallel(n_jobs=4)]: Done  42 tasks      | elapsed:    0.0s\n",
      "[Parallel(n_jobs=4)]: Done 192 tasks      | elapsed:    0.1s\n",
      "[Parallel(n_jobs=4)]: Done 442 tasks      | elapsed:    0.1s\n",
      "[Parallel(n_jobs=4)]: Done 792 tasks      | elapsed:    0.2s\n",
      "[Parallel(n_jobs=4)]: Done 1242 tasks      | elapsed:    0.4s\n",
      "[Parallel(n_jobs=4)]: Done 1792 tasks      | elapsed:    0.6s\n",
      "[Parallel(n_jobs=4)]: Done 2000 out of 2000 | elapsed:    0.6s finished\n"
     ]
    },
    {
     "name": "stdout",
     "output_type": "stream",
     "text": [
      "[CV]  bootstrap=True, criterion=mse, max_depth=110, max_features=auto, min_samples_leaf=4, min_samples_split=10, min_weight_fraction_leaf=0.0, n_estimators=2000, n_jobs=-1, verbose=1, warm_start=False, explained_variance=0.449, neg_mean_absolute_error=-59.224, neg_mean_squared_error=-5764.523, neg_mean_squared_log_error=-0.067, neg_median_absolute_error=-49.293, r2=0.449, total=   8.3s\n",
      "[CV] bootstrap=True, criterion=mse, max_depth=110, max_features=sqrt, min_samples_leaf=1, min_samples_split=2, min_weight_fraction_leaf=0.0, n_estimators=200, n_jobs=-1, verbose=1, warm_start=False \n"
     ]
    },
    {
     "name": "stderr",
     "output_type": "stream",
     "text": [
      "[Parallel(n_jobs=-1)]: Using backend LokyBackend with 4 concurrent workers.\n",
      "[Parallel(n_jobs=-1)]: Done 190 tasks      | elapsed:    0.6s\n",
      "[Parallel(n_jobs=-1)]: Done 200 out of 200 | elapsed:    0.6s finished\n",
      "[Parallel(n_jobs=4)]: Using backend ThreadingBackend with 4 concurrent workers.\n",
      "[Parallel(n_jobs=4)]: Done  42 tasks      | elapsed:    0.0s\n",
      "[Parallel(n_jobs=4)]: Done 192 tasks      | elapsed:    0.1s\n",
      "[Parallel(n_jobs=4)]: Done 200 out of 200 | elapsed:    0.1s finished\n"
     ]
    },
    {
     "name": "stdout",
     "output_type": "stream",
     "text": [
      "[CV]  bootstrap=True, criterion=mse, max_depth=110, max_features=sqrt, min_samples_leaf=1, min_samples_split=2, min_weight_fraction_leaf=0.0, n_estimators=200, n_jobs=-1, verbose=1, warm_start=False, explained_variance=0.381, neg_mean_absolute_error=-61.171, neg_mean_squared_error=-5850.772, neg_mean_squared_log_error=-0.025, neg_median_absolute_error=-53.283, r2=0.380, total=   0.8s\n",
      "[CV] bootstrap=True, criterion=mse, max_depth=110, max_features=sqrt, min_samples_leaf=1, min_samples_split=2, min_weight_fraction_leaf=0.0, n_estimators=200, n_jobs=-1, verbose=1, warm_start=False \n"
     ]
    },
    {
     "name": "stderr",
     "output_type": "stream",
     "text": [
      "[Parallel(n_jobs=-1)]: Using backend LokyBackend with 4 concurrent workers.\n",
      "[Parallel(n_jobs=-1)]: Done 190 tasks      | elapsed:    0.5s\n",
      "[Parallel(n_jobs=-1)]: Done 200 out of 200 | elapsed:    0.5s finished\n",
      "[Parallel(n_jobs=4)]: Using backend ThreadingBackend with 4 concurrent workers.\n",
      "[Parallel(n_jobs=4)]: Done  42 tasks      | elapsed:    0.0s\n",
      "[Parallel(n_jobs=4)]: Done 192 tasks      | elapsed:    0.1s\n",
      "[Parallel(n_jobs=4)]: Done 200 out of 200 | elapsed:    0.1s finished\n"
     ]
    },
    {
     "name": "stdout",
     "output_type": "stream",
     "text": [
      "[CV]  bootstrap=True, criterion=mse, max_depth=110, max_features=sqrt, min_samples_leaf=1, min_samples_split=2, min_weight_fraction_leaf=0.0, n_estimators=200, n_jobs=-1, verbose=1, warm_start=False, explained_variance=0.444, neg_mean_absolute_error=-59.537, neg_mean_squared_error=-5817.090, neg_mean_squared_log_error=-0.067, neg_median_absolute_error=-50.906, r2=0.444, total=   0.8s\n",
      "[CV] bootstrap=True, criterion=mse, max_depth=110, max_features=sqrt, min_samples_leaf=1, min_samples_split=2, min_weight_fraction_leaf=0.0, n_estimators=2000, n_jobs=-1, verbose=1, warm_start=False \n"
     ]
    },
    {
     "name": "stderr",
     "output_type": "stream",
     "text": [
      "[Parallel(n_jobs=-1)]: Using backend LokyBackend with 4 concurrent workers.\n",
      "[Parallel(n_jobs=-1)]: Done 312 tasks      | elapsed:    0.9s\n",
      "[Parallel(n_jobs=-1)]: Done 2000 out of 2000 | elapsed:    4.6s finished\n",
      "[Parallel(n_jobs=4)]: Using backend ThreadingBackend with 4 concurrent workers.\n",
      "[Parallel(n_jobs=4)]: Done  42 tasks      | elapsed:    0.0s\n",
      "[Parallel(n_jobs=4)]: Done 192 tasks      | elapsed:    0.1s\n",
      "[Parallel(n_jobs=4)]: Done 442 tasks      | elapsed:    0.1s\n",
      "[Parallel(n_jobs=4)]: Done 792 tasks      | elapsed:    0.2s\n",
      "[Parallel(n_jobs=4)]: Done 1242 tasks      | elapsed:    0.4s\n",
      "[Parallel(n_jobs=4)]: Done 1792 tasks      | elapsed:    0.5s\n",
      "[Parallel(n_jobs=4)]: Done 2000 out of 2000 | elapsed:    0.6s finished\n"
     ]
    },
    {
     "name": "stdout",
     "output_type": "stream",
     "text": [
      "[CV]  bootstrap=True, criterion=mse, max_depth=110, max_features=sqrt, min_samples_leaf=1, min_samples_split=2, min_weight_fraction_leaf=0.0, n_estimators=2000, n_jobs=-1, verbose=1, warm_start=False, explained_variance=0.384, neg_mean_absolute_error=-61.073, neg_mean_squared_error=-5819.492, neg_mean_squared_log_error=-0.024, neg_median_absolute_error=-53.202, r2=0.384, total=   6.4s\n",
      "[CV] bootstrap=True, criterion=mse, max_depth=110, max_features=sqrt, min_samples_leaf=1, min_samples_split=2, min_weight_fraction_leaf=0.0, n_estimators=2000, n_jobs=-1, verbose=1, warm_start=False \n"
     ]
    },
    {
     "name": "stderr",
     "output_type": "stream",
     "text": [
      "[Parallel(n_jobs=-1)]: Using backend LokyBackend with 4 concurrent workers.\n",
      "[Parallel(n_jobs=-1)]: Done 280 tasks      | elapsed:    0.7s\n",
      "[Parallel(n_jobs=-1)]: Done 2000 out of 2000 | elapsed:    4.5s finished\n",
      "[Parallel(n_jobs=4)]: Using backend ThreadingBackend with 4 concurrent workers.\n",
      "[Parallel(n_jobs=4)]: Done  42 tasks      | elapsed:    0.0s\n",
      "[Parallel(n_jobs=4)]: Done 192 tasks      | elapsed:    0.1s\n",
      "[Parallel(n_jobs=4)]: Done 442 tasks      | elapsed:    0.1s\n",
      "[Parallel(n_jobs=4)]: Done 792 tasks      | elapsed:    0.2s\n",
      "[Parallel(n_jobs=4)]: Done 1242 tasks      | elapsed:    0.4s\n",
      "[Parallel(n_jobs=4)]: Done 1792 tasks      | elapsed:    0.5s\n",
      "[Parallel(n_jobs=4)]: Done 2000 out of 2000 | elapsed:    0.6s finished\n"
     ]
    },
    {
     "name": "stdout",
     "output_type": "stream",
     "text": [
      "[CV]  bootstrap=True, criterion=mse, max_depth=110, max_features=sqrt, min_samples_leaf=1, min_samples_split=2, min_weight_fraction_leaf=0.0, n_estimators=2000, n_jobs=-1, verbose=1, warm_start=False, explained_variance=0.446, neg_mean_absolute_error=-59.432, neg_mean_squared_error=-5800.307, neg_mean_squared_log_error=-0.067, neg_median_absolute_error=-50.294, r2=0.446, total=   6.3s\n",
      "[CV] bootstrap=True, criterion=mse, max_depth=110, max_features=sqrt, min_samples_leaf=1, min_samples_split=5, min_weight_fraction_leaf=0.0, n_estimators=200, n_jobs=-1, verbose=1, warm_start=False \n"
     ]
    },
    {
     "name": "stderr",
     "output_type": "stream",
     "text": [
      "[Parallel(n_jobs=-1)]: Using backend LokyBackend with 4 concurrent workers.\n",
      "[Parallel(n_jobs=-1)]: Done 190 tasks      | elapsed:    0.4s\n",
      "[Parallel(n_jobs=-1)]: Done 200 out of 200 | elapsed:    0.5s finished\n",
      "[Parallel(n_jobs=4)]: Using backend ThreadingBackend with 4 concurrent workers.\n",
      "[Parallel(n_jobs=4)]: Done  42 tasks      | elapsed:    0.0s\n",
      "[Parallel(n_jobs=4)]: Done 192 tasks      | elapsed:    0.1s\n",
      "[Parallel(n_jobs=4)]: Done 200 out of 200 | elapsed:    0.1s finished\n"
     ]
    },
    {
     "name": "stdout",
     "output_type": "stream",
     "text": [
      "[CV]  bootstrap=True, criterion=mse, max_depth=110, max_features=sqrt, min_samples_leaf=1, min_samples_split=5, min_weight_fraction_leaf=0.0, n_estimators=200, n_jobs=-1, verbose=1, warm_start=False, explained_variance=0.385, neg_mean_absolute_error=-61.114, neg_mean_squared_error=-5816.663, neg_mean_squared_log_error=-0.024, neg_median_absolute_error=-52.749, r2=0.384, total=   0.7s\n",
      "[CV] bootstrap=True, criterion=mse, max_depth=110, max_features=sqrt, min_samples_leaf=1, min_samples_split=5, min_weight_fraction_leaf=0.0, n_estimators=200, n_jobs=-1, verbose=1, warm_start=False \n"
     ]
    },
    {
     "name": "stderr",
     "output_type": "stream",
     "text": [
      "[Parallel(n_jobs=-1)]: Using backend LokyBackend with 4 concurrent workers.\n",
      "[Parallel(n_jobs=-1)]: Done 175 tasks      | elapsed:    0.4s\n",
      "[Parallel(n_jobs=-1)]: Done 200 out of 200 | elapsed:    0.4s finished\n",
      "[Parallel(n_jobs=4)]: Using backend ThreadingBackend with 4 concurrent workers.\n",
      "[Parallel(n_jobs=4)]: Done  42 tasks      | elapsed:    0.0s\n",
      "[Parallel(n_jobs=4)]: Done 192 tasks      | elapsed:    0.1s\n",
      "[Parallel(n_jobs=4)]: Done 200 out of 200 | elapsed:    0.1s finished\n"
     ]
    },
    {
     "name": "stdout",
     "output_type": "stream",
     "text": [
      "[CV]  bootstrap=True, criterion=mse, max_depth=110, max_features=sqrt, min_samples_leaf=1, min_samples_split=5, min_weight_fraction_leaf=0.0, n_estimators=200, n_jobs=-1, verbose=1, warm_start=False, explained_variance=0.449, neg_mean_absolute_error=-59.334, neg_mean_squared_error=-5763.612, neg_mean_squared_log_error=-0.067, neg_median_absolute_error=-50.691, r2=0.449, total=   0.7s\n",
      "[CV] bootstrap=True, criterion=mse, max_depth=110, max_features=sqrt, min_samples_leaf=1, min_samples_split=5, min_weight_fraction_leaf=0.0, n_estimators=2000, n_jobs=-1, verbose=1, warm_start=False \n"
     ]
    },
    {
     "name": "stderr",
     "output_type": "stream",
     "text": [
      "[Parallel(n_jobs=-1)]: Using backend LokyBackend with 4 concurrent workers.\n",
      "[Parallel(n_jobs=-1)]: Done 312 tasks      | elapsed:    0.7s\n",
      "[Parallel(n_jobs=-1)]: Done 2000 out of 2000 | elapsed:    3.6s finished\n",
      "[Parallel(n_jobs=4)]: Using backend ThreadingBackend with 4 concurrent workers.\n",
      "[Parallel(n_jobs=4)]: Done  42 tasks      | elapsed:    0.0s\n",
      "[Parallel(n_jobs=4)]: Done 192 tasks      | elapsed:    0.1s\n",
      "[Parallel(n_jobs=4)]: Done 442 tasks      | elapsed:    0.1s\n",
      "[Parallel(n_jobs=4)]: Done 792 tasks      | elapsed:    0.2s\n",
      "[Parallel(n_jobs=4)]: Done 1242 tasks      | elapsed:    0.4s\n",
      "[Parallel(n_jobs=4)]: Done 1792 tasks      | elapsed:    0.5s\n",
      "[Parallel(n_jobs=4)]: Done 2000 out of 2000 | elapsed:    0.6s finished\n"
     ]
    },
    {
     "name": "stdout",
     "output_type": "stream",
     "text": [
      "[CV]  bootstrap=True, criterion=mse, max_depth=110, max_features=sqrt, min_samples_leaf=1, min_samples_split=5, min_weight_fraction_leaf=0.0, n_estimators=2000, n_jobs=-1, verbose=1, warm_start=False, explained_variance=0.388, neg_mean_absolute_error=-60.919, neg_mean_squared_error=-5783.157, neg_mean_squared_log_error=-0.024, neg_median_absolute_error=-52.836, r2=0.387, total=   5.4s\n",
      "[CV] bootstrap=True, criterion=mse, max_depth=110, max_features=sqrt, min_samples_leaf=1, min_samples_split=5, min_weight_fraction_leaf=0.0, n_estimators=2000, n_jobs=-1, verbose=1, warm_start=False \n"
     ]
    },
    {
     "name": "stderr",
     "output_type": "stream",
     "text": [
      "[Parallel(n_jobs=-1)]: Using backend LokyBackend with 4 concurrent workers.\n",
      "[Parallel(n_jobs=-1)]: Done 312 tasks      | elapsed:    0.7s\n",
      "[Parallel(n_jobs=-1)]: Done 2000 out of 2000 | elapsed:    3.5s finished\n",
      "[Parallel(n_jobs=4)]: Using backend ThreadingBackend with 4 concurrent workers.\n",
      "[Parallel(n_jobs=4)]: Done  42 tasks      | elapsed:    0.0s\n",
      "[Parallel(n_jobs=4)]: Done 192 tasks      | elapsed:    0.1s\n",
      "[Parallel(n_jobs=4)]: Done 442 tasks      | elapsed:    0.1s\n",
      "[Parallel(n_jobs=4)]: Done 792 tasks      | elapsed:    0.2s\n",
      "[Parallel(n_jobs=4)]: Done 1242 tasks      | elapsed:    0.4s\n",
      "[Parallel(n_jobs=4)]: Done 1792 tasks      | elapsed:    0.5s\n",
      "[Parallel(n_jobs=4)]: Done 2000 out of 2000 | elapsed:    0.6s finished\n"
     ]
    },
    {
     "name": "stdout",
     "output_type": "stream",
     "text": [
      "[CV]  bootstrap=True, criterion=mse, max_depth=110, max_features=sqrt, min_samples_leaf=1, min_samples_split=5, min_weight_fraction_leaf=0.0, n_estimators=2000, n_jobs=-1, verbose=1, warm_start=False, explained_variance=0.448, neg_mean_absolute_error=-59.330, neg_mean_squared_error=-5772.151, neg_mean_squared_log_error=-0.067, neg_median_absolute_error=-50.221, r2=0.448, total=   5.3s\n",
      "[CV] bootstrap=True, criterion=mse, max_depth=110, max_features=sqrt, min_samples_leaf=1, min_samples_split=10, min_weight_fraction_leaf=0.0, n_estimators=200, n_jobs=-1, verbose=1, warm_start=False \n"
     ]
    },
    {
     "name": "stderr",
     "output_type": "stream",
     "text": [
      "[Parallel(n_jobs=-1)]: Using backend LokyBackend with 4 concurrent workers.\n",
      "[Parallel(n_jobs=-1)]: Done 190 tasks      | elapsed:    0.4s\n",
      "[Parallel(n_jobs=-1)]: Done 200 out of 200 | elapsed:    0.4s finished\n",
      "[Parallel(n_jobs=4)]: Using backend ThreadingBackend with 4 concurrent workers.\n",
      "[Parallel(n_jobs=4)]: Done  42 tasks      | elapsed:    0.0s\n",
      "[Parallel(n_jobs=4)]: Done 192 tasks      | elapsed:    0.1s\n",
      "[Parallel(n_jobs=4)]: Done 200 out of 200 | elapsed:    0.1s finished\n"
     ]
    },
    {
     "name": "stdout",
     "output_type": "stream",
     "text": [
      "[CV]  bootstrap=True, criterion=mse, max_depth=110, max_features=sqrt, min_samples_leaf=1, min_samples_split=10, min_weight_fraction_leaf=0.0, n_estimators=200, n_jobs=-1, verbose=1, warm_start=False, explained_variance=0.391, neg_mean_absolute_error=-60.797, neg_mean_squared_error=-5754.338, neg_mean_squared_log_error=-0.024, neg_median_absolute_error=-52.675, r2=0.390, total=   0.6s\n",
      "[CV] bootstrap=True, criterion=mse, max_depth=110, max_features=sqrt, min_samples_leaf=1, min_samples_split=10, min_weight_fraction_leaf=0.0, n_estimators=200, n_jobs=-1, verbose=1, warm_start=False \n"
     ]
    },
    {
     "name": "stderr",
     "output_type": "stream",
     "text": [
      "[Parallel(n_jobs=-1)]: Using backend LokyBackend with 4 concurrent workers.\n",
      "[Parallel(n_jobs=-1)]: Done 190 tasks      | elapsed:    0.4s\n",
      "[Parallel(n_jobs=-1)]: Done 200 out of 200 | elapsed:    0.4s finished\n",
      "[Parallel(n_jobs=4)]: Using backend ThreadingBackend with 4 concurrent workers.\n",
      "[Parallel(n_jobs=4)]: Done  42 tasks      | elapsed:    0.0s\n",
      "[Parallel(n_jobs=4)]: Done 192 tasks      | elapsed:    0.1s\n",
      "[Parallel(n_jobs=4)]: Done 200 out of 200 | elapsed:    0.1s finished\n"
     ]
    },
    {
     "name": "stdout",
     "output_type": "stream",
     "text": [
      "[CV]  bootstrap=True, criterion=mse, max_depth=110, max_features=sqrt, min_samples_leaf=1, min_samples_split=10, min_weight_fraction_leaf=0.0, n_estimators=200, n_jobs=-1, verbose=1, warm_start=False, explained_variance=0.453, neg_mean_absolute_error=-58.996, neg_mean_squared_error=-5729.195, neg_mean_squared_log_error=-0.067, neg_median_absolute_error=-49.424, r2=0.453, total=   0.6s\n",
      "[CV] bootstrap=True, criterion=mse, max_depth=110, max_features=sqrt, min_samples_leaf=1, min_samples_split=10, min_weight_fraction_leaf=0.0, n_estimators=2000, n_jobs=-1, verbose=1, warm_start=False \n"
     ]
    },
    {
     "name": "stderr",
     "output_type": "stream",
     "text": [
      "[Parallel(n_jobs=-1)]: Using backend LokyBackend with 4 concurrent workers.\n",
      "[Parallel(n_jobs=-1)]: Done 312 tasks      | elapsed:    0.6s\n",
      "[Parallel(n_jobs=-1)]: Done 2000 out of 2000 | elapsed:    3.2s finished\n",
      "[Parallel(n_jobs=4)]: Using backend ThreadingBackend with 4 concurrent workers.\n",
      "[Parallel(n_jobs=4)]: Done  42 tasks      | elapsed:    0.0s\n",
      "[Parallel(n_jobs=4)]: Done 192 tasks      | elapsed:    0.1s\n",
      "[Parallel(n_jobs=4)]: Done 442 tasks      | elapsed:    0.1s\n",
      "[Parallel(n_jobs=4)]: Done 792 tasks      | elapsed:    0.2s\n",
      "[Parallel(n_jobs=4)]: Done 1242 tasks      | elapsed:    0.4s\n",
      "[Parallel(n_jobs=4)]: Done 1792 tasks      | elapsed:    0.5s\n",
      "[Parallel(n_jobs=4)]: Done 2000 out of 2000 | elapsed:    0.6s finished\n"
     ]
    },
    {
     "name": "stdout",
     "output_type": "stream",
     "text": [
      "[CV]  bootstrap=True, criterion=mse, max_depth=110, max_features=sqrt, min_samples_leaf=1, min_samples_split=10, min_weight_fraction_leaf=0.0, n_estimators=2000, n_jobs=-1, verbose=1, warm_start=False, explained_variance=0.392, neg_mean_absolute_error=-60.786, neg_mean_squared_error=-5751.357, neg_mean_squared_log_error=-0.024, neg_median_absolute_error=-52.547, r2=0.391, total=   5.0s\n",
      "[CV] bootstrap=True, criterion=mse, max_depth=110, max_features=sqrt, min_samples_leaf=1, min_samples_split=10, min_weight_fraction_leaf=0.0, n_estimators=2000, n_jobs=-1, verbose=1, warm_start=False \n"
     ]
    },
    {
     "name": "stderr",
     "output_type": "stream",
     "text": [
      "[Parallel(n_jobs=-1)]: Using backend LokyBackend with 4 concurrent workers.\n",
      "[Parallel(n_jobs=-1)]: Done 312 tasks      | elapsed:    0.6s\n",
      "[Parallel(n_jobs=-1)]: Done 2000 out of 2000 | elapsed:    3.1s finished\n",
      "[Parallel(n_jobs=4)]: Using backend ThreadingBackend with 4 concurrent workers.\n",
      "[Parallel(n_jobs=4)]: Done  42 tasks      | elapsed:    0.0s\n",
      "[Parallel(n_jobs=4)]: Done 192 tasks      | elapsed:    0.1s\n",
      "[Parallel(n_jobs=4)]: Done 442 tasks      | elapsed:    0.1s\n",
      "[Parallel(n_jobs=4)]: Done 792 tasks      | elapsed:    0.2s\n",
      "[Parallel(n_jobs=4)]: Done 1242 tasks      | elapsed:    0.4s\n",
      "[Parallel(n_jobs=4)]: Done 1792 tasks      | elapsed:    0.5s\n",
      "[Parallel(n_jobs=4)]: Done 2000 out of 2000 | elapsed:    0.6s finished\n",
      "[Parallel(n_jobs=-1)]: Using backend LokyBackend with 4 concurrent workers.\n"
     ]
    },
    {
     "name": "stdout",
     "output_type": "stream",
     "text": [
      "[CV]  bootstrap=True, criterion=mse, max_depth=110, max_features=sqrt, min_samples_leaf=1, min_samples_split=10, min_weight_fraction_leaf=0.0, n_estimators=2000, n_jobs=-1, verbose=1, warm_start=False, explained_variance=0.453, neg_mean_absolute_error=-59.041, neg_mean_squared_error=-5724.867, neg_mean_squared_log_error=-0.067, neg_median_absolute_error=-49.346, r2=0.453, total=   4.8s\n",
      "[CV] bootstrap=True, criterion=mse, max_depth=110, max_features=sqrt, min_samples_leaf=2, min_samples_split=2, min_weight_fraction_leaf=0.0, n_estimators=200, n_jobs=-1, verbose=1, warm_start=False \n"
     ]
    },
    {
     "name": "stderr",
     "output_type": "stream",
     "text": [
      "[Parallel(n_jobs=-1)]: Done 175 tasks      | elapsed:    0.4s\n",
      "[Parallel(n_jobs=-1)]: Done 200 out of 200 | elapsed:    0.4s finished\n",
      "[Parallel(n_jobs=4)]: Using backend ThreadingBackend with 4 concurrent workers.\n",
      "[Parallel(n_jobs=4)]: Done  42 tasks      | elapsed:    0.0s\n",
      "[Parallel(n_jobs=4)]: Done 192 tasks      | elapsed:    0.1s\n",
      "[Parallel(n_jobs=4)]: Done 200 out of 200 | elapsed:    0.1s finished\n"
     ]
    },
    {
     "name": "stdout",
     "output_type": "stream",
     "text": [
      "[CV]  bootstrap=True, criterion=mse, max_depth=110, max_features=sqrt, min_samples_leaf=2, min_samples_split=2, min_weight_fraction_leaf=0.0, n_estimators=200, n_jobs=-1, verbose=1, warm_start=False, explained_variance=0.388, neg_mean_absolute_error=-60.932, neg_mean_squared_error=-5785.892, neg_mean_squared_log_error=-0.024, neg_median_absolute_error=-52.597, r2=0.387, total=   0.7s\n",
      "[CV] bootstrap=True, criterion=mse, max_depth=110, max_features=sqrt, min_samples_leaf=2, min_samples_split=2, min_weight_fraction_leaf=0.0, n_estimators=200, n_jobs=-1, verbose=1, warm_start=False \n"
     ]
    },
    {
     "name": "stderr",
     "output_type": "stream",
     "text": [
      "[Parallel(n_jobs=-1)]: Using backend LokyBackend with 4 concurrent workers.\n",
      "[Parallel(n_jobs=-1)]: Done 190 tasks      | elapsed:    0.4s\n",
      "[Parallel(n_jobs=-1)]: Done 200 out of 200 | elapsed:    0.4s finished\n",
      "[Parallel(n_jobs=4)]: Using backend ThreadingBackend with 4 concurrent workers.\n",
      "[Parallel(n_jobs=4)]: Done  42 tasks      | elapsed:    0.0s\n",
      "[Parallel(n_jobs=4)]: Done 192 tasks      | elapsed:    0.1s\n",
      "[Parallel(n_jobs=4)]: Done 200 out of 200 | elapsed:    0.1s finished\n"
     ]
    },
    {
     "name": "stdout",
     "output_type": "stream",
     "text": [
      "[CV]  bootstrap=True, criterion=mse, max_depth=110, max_features=sqrt, min_samples_leaf=2, min_samples_split=2, min_weight_fraction_leaf=0.0, n_estimators=200, n_jobs=-1, verbose=1, warm_start=False, explained_variance=0.451, neg_mean_absolute_error=-59.172, neg_mean_squared_error=-5747.881, neg_mean_squared_log_error=-0.067, neg_median_absolute_error=-49.581, r2=0.451, total=   0.7s\n",
      "[CV] bootstrap=True, criterion=mse, max_depth=110, max_features=sqrt, min_samples_leaf=2, min_samples_split=2, min_weight_fraction_leaf=0.0, n_estimators=2000, n_jobs=-1, verbose=1, warm_start=False \n"
     ]
    },
    {
     "name": "stderr",
     "output_type": "stream",
     "text": [
      "[Parallel(n_jobs=-1)]: Using backend LokyBackend with 4 concurrent workers.\n",
      "[Parallel(n_jobs=-1)]: Done 312 tasks      | elapsed:    0.7s\n",
      "[Parallel(n_jobs=-1)]: Done 2000 out of 2000 | elapsed:    3.5s finished\n",
      "[Parallel(n_jobs=4)]: Using backend ThreadingBackend with 4 concurrent workers.\n",
      "[Parallel(n_jobs=4)]: Done  42 tasks      | elapsed:    0.0s\n",
      "[Parallel(n_jobs=4)]: Done 192 tasks      | elapsed:    0.1s\n",
      "[Parallel(n_jobs=4)]: Done 442 tasks      | elapsed:    0.1s\n",
      "[Parallel(n_jobs=4)]: Done 792 tasks      | elapsed:    0.2s\n",
      "[Parallel(n_jobs=4)]: Done 1242 tasks      | elapsed:    0.4s\n",
      "[Parallel(n_jobs=4)]: Done 1792 tasks      | elapsed:    0.5s\n",
      "[Parallel(n_jobs=4)]: Done 2000 out of 2000 | elapsed:    0.6s finished\n"
     ]
    },
    {
     "name": "stdout",
     "output_type": "stream",
     "text": [
      "[CV]  bootstrap=True, criterion=mse, max_depth=110, max_features=sqrt, min_samples_leaf=2, min_samples_split=2, min_weight_fraction_leaf=0.0, n_estimators=2000, n_jobs=-1, verbose=1, warm_start=False, explained_variance=0.390, neg_mean_absolute_error=-60.817, neg_mean_squared_error=-5768.620, neg_mean_squared_log_error=-0.024, neg_median_absolute_error=-52.648, r2=0.389, total=   5.2s\n",
      "[CV] bootstrap=True, criterion=mse, max_depth=110, max_features=sqrt, min_samples_leaf=2, min_samples_split=2, min_weight_fraction_leaf=0.0, n_estimators=2000, n_jobs=-1, verbose=1, warm_start=False \n"
     ]
    },
    {
     "name": "stderr",
     "output_type": "stream",
     "text": [
      "[Parallel(n_jobs=-1)]: Using backend LokyBackend with 4 concurrent workers.\n",
      "[Parallel(n_jobs=-1)]: Done 312 tasks      | elapsed:    0.7s\n",
      "[Parallel(n_jobs=-1)]: Done 2000 out of 2000 | elapsed:    3.4s finished\n",
      "[Parallel(n_jobs=4)]: Using backend ThreadingBackend with 4 concurrent workers.\n",
      "[Parallel(n_jobs=4)]: Done  42 tasks      | elapsed:    0.0s\n",
      "[Parallel(n_jobs=4)]: Done 192 tasks      | elapsed:    0.1s\n",
      "[Parallel(n_jobs=4)]: Done 442 tasks      | elapsed:    0.1s\n",
      "[Parallel(n_jobs=4)]: Done 792 tasks      | elapsed:    0.2s\n",
      "[Parallel(n_jobs=4)]: Done 1242 tasks      | elapsed:    0.4s\n",
      "[Parallel(n_jobs=4)]: Done 1792 tasks      | elapsed:    0.5s\n",
      "[Parallel(n_jobs=4)]: Done 2000 out of 2000 | elapsed:    0.6s finished\n",
      "[Parallel(n_jobs=-1)]: Using backend LokyBackend with 4 concurrent workers.\n"
     ]
    },
    {
     "name": "stdout",
     "output_type": "stream",
     "text": [
      "[CV]  bootstrap=True, criterion=mse, max_depth=110, max_features=sqrt, min_samples_leaf=2, min_samples_split=2, min_weight_fraction_leaf=0.0, n_estimators=2000, n_jobs=-1, verbose=1, warm_start=False, explained_variance=0.451, neg_mean_absolute_error=-59.093, neg_mean_squared_error=-5743.340, neg_mean_squared_log_error=-0.067, neg_median_absolute_error=-50.020, r2=0.451, total=   5.2s\n",
      "[CV] bootstrap=True, criterion=mse, max_depth=110, max_features=sqrt, min_samples_leaf=2, min_samples_split=5, min_weight_fraction_leaf=0.0, n_estimators=200, n_jobs=-1, verbose=1, warm_start=False \n"
     ]
    },
    {
     "name": "stderr",
     "output_type": "stream",
     "text": [
      "[Parallel(n_jobs=-1)]: Done 190 tasks      | elapsed:    0.4s\n",
      "[Parallel(n_jobs=-1)]: Done 200 out of 200 | elapsed:    0.4s finished\n",
      "[Parallel(n_jobs=4)]: Using backend ThreadingBackend with 4 concurrent workers.\n",
      "[Parallel(n_jobs=4)]: Done  42 tasks      | elapsed:    0.0s\n",
      "[Parallel(n_jobs=4)]: Done 192 tasks      | elapsed:    0.1s\n",
      "[Parallel(n_jobs=4)]: Done 200 out of 200 | elapsed:    0.1s finished\n"
     ]
    },
    {
     "name": "stdout",
     "output_type": "stream",
     "text": [
      "[CV]  bootstrap=True, criterion=mse, max_depth=110, max_features=sqrt, min_samples_leaf=2, min_samples_split=5, min_weight_fraction_leaf=0.0, n_estimators=200, n_jobs=-1, verbose=1, warm_start=False, explained_variance=0.388, neg_mean_absolute_error=-60.963, neg_mean_squared_error=-5785.551, neg_mean_squared_log_error=-0.024, neg_median_absolute_error=-52.541, r2=0.387, total=   0.7s\n",
      "[CV] bootstrap=True, criterion=mse, max_depth=110, max_features=sqrt, min_samples_leaf=2, min_samples_split=5, min_weight_fraction_leaf=0.0, n_estimators=200, n_jobs=-1, verbose=1, warm_start=False \n"
     ]
    },
    {
     "name": "stderr",
     "output_type": "stream",
     "text": [
      "[Parallel(n_jobs=-1)]: Using backend LokyBackend with 4 concurrent workers.\n",
      "[Parallel(n_jobs=-1)]: Done 190 tasks      | elapsed:    0.4s\n",
      "[Parallel(n_jobs=-1)]: Done 200 out of 200 | elapsed:    0.4s finished\n",
      "[Parallel(n_jobs=4)]: Using backend ThreadingBackend with 4 concurrent workers.\n",
      "[Parallel(n_jobs=4)]: Done  42 tasks      | elapsed:    0.0s\n",
      "[Parallel(n_jobs=4)]: Done 192 tasks      | elapsed:    0.1s\n",
      "[Parallel(n_jobs=4)]: Done 200 out of 200 | elapsed:    0.1s finished\n"
     ]
    },
    {
     "name": "stdout",
     "output_type": "stream",
     "text": [
      "[CV]  bootstrap=True, criterion=mse, max_depth=110, max_features=sqrt, min_samples_leaf=2, min_samples_split=5, min_weight_fraction_leaf=0.0, n_estimators=200, n_jobs=-1, verbose=1, warm_start=False, explained_variance=0.450, neg_mean_absolute_error=-59.147, neg_mean_squared_error=-5755.915, neg_mean_squared_log_error=-0.067, neg_median_absolute_error=-49.781, r2=0.450, total=   0.7s\n",
      "[CV] bootstrap=True, criterion=mse, max_depth=110, max_features=sqrt, min_samples_leaf=2, min_samples_split=5, min_weight_fraction_leaf=0.0, n_estimators=2000, n_jobs=-1, verbose=1, warm_start=False \n"
     ]
    },
    {
     "name": "stderr",
     "output_type": "stream",
     "text": [
      "[Parallel(n_jobs=-1)]: Using backend LokyBackend with 4 concurrent workers.\n",
      "[Parallel(n_jobs=-1)]: Done 312 tasks      | elapsed:    0.7s\n",
      "[Parallel(n_jobs=-1)]: Done 2000 out of 2000 | elapsed:    3.4s finished\n",
      "[Parallel(n_jobs=4)]: Using backend ThreadingBackend with 4 concurrent workers.\n",
      "[Parallel(n_jobs=4)]: Done  42 tasks      | elapsed:    0.0s\n",
      "[Parallel(n_jobs=4)]: Done 192 tasks      | elapsed:    0.1s\n",
      "[Parallel(n_jobs=4)]: Done 442 tasks      | elapsed:    0.1s\n",
      "[Parallel(n_jobs=4)]: Done 792 tasks      | elapsed:    0.2s\n",
      "[Parallel(n_jobs=4)]: Done 1242 tasks      | elapsed:    0.4s\n",
      "[Parallel(n_jobs=4)]: Done 1792 tasks      | elapsed:    0.5s\n",
      "[Parallel(n_jobs=4)]: Done 2000 out of 2000 | elapsed:    0.6s finished\n"
     ]
    },
    {
     "name": "stdout",
     "output_type": "stream",
     "text": [
      "[CV]  bootstrap=True, criterion=mse, max_depth=110, max_features=sqrt, min_samples_leaf=2, min_samples_split=5, min_weight_fraction_leaf=0.0, n_estimators=2000, n_jobs=-1, verbose=1, warm_start=False, explained_variance=0.390, neg_mean_absolute_error=-60.784, neg_mean_squared_error=-5764.063, neg_mean_squared_log_error=-0.024, neg_median_absolute_error=-52.334, r2=0.389, total=   5.1s\n",
      "[CV] bootstrap=True, criterion=mse, max_depth=110, max_features=sqrt, min_samples_leaf=2, min_samples_split=5, min_weight_fraction_leaf=0.0, n_estimators=2000, n_jobs=-1, verbose=1, warm_start=False \n"
     ]
    },
    {
     "name": "stderr",
     "output_type": "stream",
     "text": [
      "[Parallel(n_jobs=-1)]: Using backend LokyBackend with 4 concurrent workers.\n",
      "[Parallel(n_jobs=-1)]: Done 312 tasks      | elapsed:    0.7s\n",
      "[Parallel(n_jobs=-1)]: Done 2000 out of 2000 | elapsed:    3.3s finished\n",
      "[Parallel(n_jobs=4)]: Using backend ThreadingBackend with 4 concurrent workers.\n",
      "[Parallel(n_jobs=4)]: Done  42 tasks      | elapsed:    0.0s\n",
      "[Parallel(n_jobs=4)]: Done 192 tasks      | elapsed:    0.1s\n",
      "[Parallel(n_jobs=4)]: Done 442 tasks      | elapsed:    0.1s\n",
      "[Parallel(n_jobs=4)]: Done 792 tasks      | elapsed:    0.2s\n",
      "[Parallel(n_jobs=4)]: Done 1242 tasks      | elapsed:    0.4s\n",
      "[Parallel(n_jobs=4)]: Done 1792 tasks      | elapsed:    0.5s\n",
      "[Parallel(n_jobs=4)]: Done 2000 out of 2000 | elapsed:    0.6s finished\n"
     ]
    },
    {
     "name": "stdout",
     "output_type": "stream",
     "text": [
      "[CV]  bootstrap=True, criterion=mse, max_depth=110, max_features=sqrt, min_samples_leaf=2, min_samples_split=5, min_weight_fraction_leaf=0.0, n_estimators=2000, n_jobs=-1, verbose=1, warm_start=False, explained_variance=0.452, neg_mean_absolute_error=-59.087, neg_mean_squared_error=-5740.476, neg_mean_squared_log_error=-0.067, neg_median_absolute_error=-49.628, r2=0.451, total=   5.1s\n",
      "[CV] bootstrap=True, criterion=mse, max_depth=110, max_features=sqrt, min_samples_leaf=2, min_samples_split=10, min_weight_fraction_leaf=0.0, n_estimators=200, n_jobs=-1, verbose=1, warm_start=False \n"
     ]
    },
    {
     "name": "stderr",
     "output_type": "stream",
     "text": [
      "[Parallel(n_jobs=-1)]: Using backend LokyBackend with 4 concurrent workers.\n",
      "[Parallel(n_jobs=-1)]: Done 175 tasks      | elapsed:    0.4s\n",
      "[Parallel(n_jobs=-1)]: Done 200 out of 200 | elapsed:    0.4s finished\n",
      "[Parallel(n_jobs=4)]: Using backend ThreadingBackend with 4 concurrent workers.\n",
      "[Parallel(n_jobs=4)]: Done  42 tasks      | elapsed:    0.0s\n",
      "[Parallel(n_jobs=4)]: Done 192 tasks      | elapsed:    0.1s\n",
      "[Parallel(n_jobs=4)]: Done 200 out of 200 | elapsed:    0.1s finished\n"
     ]
    },
    {
     "name": "stdout",
     "output_type": "stream",
     "text": [
      "[CV]  bootstrap=True, criterion=mse, max_depth=110, max_features=sqrt, min_samples_leaf=2, min_samples_split=10, min_weight_fraction_leaf=0.0, n_estimators=200, n_jobs=-1, verbose=1, warm_start=False, explained_variance=0.390, neg_mean_absolute_error=-60.907, neg_mean_squared_error=-5767.797, neg_mean_squared_log_error=-0.024, neg_median_absolute_error=-53.222, r2=0.389, total=   0.6s\n",
      "[CV] bootstrap=True, criterion=mse, max_depth=110, max_features=sqrt, min_samples_leaf=2, min_samples_split=10, min_weight_fraction_leaf=0.0, n_estimators=200, n_jobs=-1, verbose=1, warm_start=False \n"
     ]
    },
    {
     "name": "stderr",
     "output_type": "stream",
     "text": [
      "[Parallel(n_jobs=-1)]: Using backend LokyBackend with 4 concurrent workers.\n",
      "[Parallel(n_jobs=-1)]: Done 175 tasks      | elapsed:    0.4s\n",
      "[Parallel(n_jobs=-1)]: Done 200 out of 200 | elapsed:    0.4s finished\n",
      "[Parallel(n_jobs=4)]: Using backend ThreadingBackend with 4 concurrent workers.\n",
      "[Parallel(n_jobs=4)]: Done  42 tasks      | elapsed:    0.0s\n",
      "[Parallel(n_jobs=4)]: Done 192 tasks      | elapsed:    0.1s\n",
      "[Parallel(n_jobs=4)]: Done 200 out of 200 | elapsed:    0.1s finished\n"
     ]
    },
    {
     "name": "stdout",
     "output_type": "stream",
     "text": [
      "[CV]  bootstrap=True, criterion=mse, max_depth=110, max_features=sqrt, min_samples_leaf=2, min_samples_split=10, min_weight_fraction_leaf=0.0, n_estimators=200, n_jobs=-1, verbose=1, warm_start=False, explained_variance=0.452, neg_mean_absolute_error=-59.070, neg_mean_squared_error=-5733.838, neg_mean_squared_log_error=-0.067, neg_median_absolute_error=-49.075, r2=0.452, total=   0.6s\n",
      "[CV] bootstrap=True, criterion=mse, max_depth=110, max_features=sqrt, min_samples_leaf=2, min_samples_split=10, min_weight_fraction_leaf=0.0, n_estimators=2000, n_jobs=-1, verbose=1, warm_start=False \n"
     ]
    },
    {
     "name": "stderr",
     "output_type": "stream",
     "text": [
      "[Parallel(n_jobs=-1)]: Using backend LokyBackend with 4 concurrent workers.\n",
      "[Parallel(n_jobs=-1)]: Done 312 tasks      | elapsed:    0.6s\n",
      "[Parallel(n_jobs=-1)]: Done 2000 out of 2000 | elapsed:    3.0s finished\n",
      "[Parallel(n_jobs=4)]: Using backend ThreadingBackend with 4 concurrent workers.\n",
      "[Parallel(n_jobs=4)]: Done  42 tasks      | elapsed:    0.0s\n",
      "[Parallel(n_jobs=4)]: Done 192 tasks      | elapsed:    0.1s\n",
      "[Parallel(n_jobs=4)]: Done 442 tasks      | elapsed:    0.1s\n",
      "[Parallel(n_jobs=4)]: Done 792 tasks      | elapsed:    0.2s\n",
      "[Parallel(n_jobs=4)]: Done 1242 tasks      | elapsed:    0.4s\n",
      "[Parallel(n_jobs=4)]: Done 1792 tasks      | elapsed:    0.6s\n",
      "[Parallel(n_jobs=4)]: Done 2000 out of 2000 | elapsed:    0.6s finished\n"
     ]
    },
    {
     "name": "stdout",
     "output_type": "stream",
     "text": [
      "[CV]  bootstrap=True, criterion=mse, max_depth=110, max_features=sqrt, min_samples_leaf=2, min_samples_split=10, min_weight_fraction_leaf=0.0, n_estimators=2000, n_jobs=-1, verbose=1, warm_start=False, explained_variance=0.393, neg_mean_absolute_error=-60.739, neg_mean_squared_error=-5739.197, neg_mean_squared_log_error=-0.024, neg_median_absolute_error=-52.761, r2=0.392, total=   4.9s\n",
      "[CV] bootstrap=True, criterion=mse, max_depth=110, max_features=sqrt, min_samples_leaf=2, min_samples_split=10, min_weight_fraction_leaf=0.0, n_estimators=2000, n_jobs=-1, verbose=1, warm_start=False \n"
     ]
    },
    {
     "name": "stderr",
     "output_type": "stream",
     "text": [
      "[Parallel(n_jobs=-1)]: Using backend LokyBackend with 4 concurrent workers.\n",
      "[Parallel(n_jobs=-1)]: Done 312 tasks      | elapsed:    0.6s\n",
      "[Parallel(n_jobs=-1)]: Done 2000 out of 2000 | elapsed:    3.0s finished\n",
      "[Parallel(n_jobs=4)]: Using backend ThreadingBackend with 4 concurrent workers.\n",
      "[Parallel(n_jobs=4)]: Done  42 tasks      | elapsed:    0.0s\n",
      "[Parallel(n_jobs=4)]: Done 192 tasks      | elapsed:    0.1s\n",
      "[Parallel(n_jobs=4)]: Done 442 tasks      | elapsed:    0.1s\n",
      "[Parallel(n_jobs=4)]: Done 792 tasks      | elapsed:    0.2s\n",
      "[Parallel(n_jobs=4)]: Done 1242 tasks      | elapsed:    0.4s\n",
      "[Parallel(n_jobs=4)]: Done 1792 tasks      | elapsed:    0.6s\n",
      "[Parallel(n_jobs=4)]: Done 2000 out of 2000 | elapsed:    0.6s finished\n"
     ]
    },
    {
     "name": "stdout",
     "output_type": "stream",
     "text": [
      "[CV]  bootstrap=True, criterion=mse, max_depth=110, max_features=sqrt, min_samples_leaf=2, min_samples_split=10, min_weight_fraction_leaf=0.0, n_estimators=2000, n_jobs=-1, verbose=1, warm_start=False, explained_variance=0.455, neg_mean_absolute_error=-58.889, neg_mean_squared_error=-5703.964, neg_mean_squared_log_error=-0.067, neg_median_absolute_error=-49.656, r2=0.455, total=   4.8s\n",
      "[CV] bootstrap=True, criterion=mse, max_depth=110, max_features=sqrt, min_samples_leaf=4, min_samples_split=2, min_weight_fraction_leaf=0.0, n_estimators=200, n_jobs=-1, verbose=1, warm_start=False \n"
     ]
    },
    {
     "name": "stderr",
     "output_type": "stream",
     "text": [
      "[Parallel(n_jobs=-1)]: Using backend LokyBackend with 4 concurrent workers.\n",
      "[Parallel(n_jobs=-1)]: Done 190 tasks      | elapsed:    0.4s\n",
      "[Parallel(n_jobs=-1)]: Done 200 out of 200 | elapsed:    0.4s finished\n",
      "[Parallel(n_jobs=4)]: Using backend ThreadingBackend with 4 concurrent workers.\n",
      "[Parallel(n_jobs=4)]: Done  42 tasks      | elapsed:    0.0s\n",
      "[Parallel(n_jobs=4)]: Done 192 tasks      | elapsed:    0.1s\n",
      "[Parallel(n_jobs=4)]: Done 200 out of 200 | elapsed:    0.1s finished\n"
     ]
    },
    {
     "name": "stdout",
     "output_type": "stream",
     "text": [
      "[CV]  bootstrap=True, criterion=mse, max_depth=110, max_features=sqrt, min_samples_leaf=4, min_samples_split=2, min_weight_fraction_leaf=0.0, n_estimators=200, n_jobs=-1, verbose=1, warm_start=False, explained_variance=0.391, neg_mean_absolute_error=-60.839, neg_mean_squared_error=-5750.394, neg_mean_squared_log_error=-0.024, neg_median_absolute_error=-52.910, r2=0.391, total=   0.6s\n",
      "[CV] bootstrap=True, criterion=mse, max_depth=110, max_features=sqrt, min_samples_leaf=4, min_samples_split=2, min_weight_fraction_leaf=0.0, n_estimators=200, n_jobs=-1, verbose=1, warm_start=False \n"
     ]
    },
    {
     "name": "stderr",
     "output_type": "stream",
     "text": [
      "[Parallel(n_jobs=-1)]: Using backend LokyBackend with 4 concurrent workers.\n",
      "[Parallel(n_jobs=-1)]: Done 190 tasks      | elapsed:    0.3s\n",
      "[Parallel(n_jobs=-1)]: Done 200 out of 200 | elapsed:    0.4s finished\n",
      "[Parallel(n_jobs=4)]: Using backend ThreadingBackend with 4 concurrent workers.\n",
      "[Parallel(n_jobs=4)]: Done  42 tasks      | elapsed:    0.0s\n",
      "[Parallel(n_jobs=4)]: Done 192 tasks      | elapsed:    0.1s\n",
      "[Parallel(n_jobs=4)]: Done 200 out of 200 | elapsed:    0.1s finished\n"
     ]
    },
    {
     "name": "stdout",
     "output_type": "stream",
     "text": [
      "[CV]  bootstrap=True, criterion=mse, max_depth=110, max_features=sqrt, min_samples_leaf=4, min_samples_split=2, min_weight_fraction_leaf=0.0, n_estimators=200, n_jobs=-1, verbose=1, warm_start=False, explained_variance=0.458, neg_mean_absolute_error=-58.697, neg_mean_squared_error=-5674.702, neg_mean_squared_log_error=-0.067, neg_median_absolute_error=-49.492, r2=0.458, total=   0.6s\n",
      "[CV] bootstrap=True, criterion=mse, max_depth=110, max_features=sqrt, min_samples_leaf=4, min_samples_split=2, min_weight_fraction_leaf=0.0, n_estimators=2000, n_jobs=-1, verbose=1, warm_start=False \n"
     ]
    },
    {
     "name": "stderr",
     "output_type": "stream",
     "text": [
      "[Parallel(n_jobs=-1)]: Using backend LokyBackend with 4 concurrent workers.\n",
      "[Parallel(n_jobs=-1)]: Done 312 tasks      | elapsed:    0.6s\n",
      "[Parallel(n_jobs=-1)]: Done 2000 out of 2000 | elapsed:    2.9s finished\n",
      "[Parallel(n_jobs=4)]: Using backend ThreadingBackend with 4 concurrent workers.\n",
      "[Parallel(n_jobs=4)]: Done  42 tasks      | elapsed:    0.0s\n",
      "[Parallel(n_jobs=4)]: Done 192 tasks      | elapsed:    0.1s\n",
      "[Parallel(n_jobs=4)]: Done 442 tasks      | elapsed:    0.1s\n",
      "[Parallel(n_jobs=4)]: Done 792 tasks      | elapsed:    0.2s\n",
      "[Parallel(n_jobs=4)]: Done 1242 tasks      | elapsed:    0.4s\n",
      "[Parallel(n_jobs=4)]: Done 1792 tasks      | elapsed:    0.5s\n",
      "[Parallel(n_jobs=4)]: Done 2000 out of 2000 | elapsed:    0.6s finished\n"
     ]
    },
    {
     "name": "stdout",
     "output_type": "stream",
     "text": [
      "[CV]  bootstrap=True, criterion=mse, max_depth=110, max_features=sqrt, min_samples_leaf=4, min_samples_split=2, min_weight_fraction_leaf=0.0, n_estimators=2000, n_jobs=-1, verbose=1, warm_start=False, explained_variance=0.394, neg_mean_absolute_error=-60.662, neg_mean_squared_error=-5721.404, neg_mean_squared_log_error=-0.024, neg_median_absolute_error=-52.659, r2=0.394, total=   4.8s\n",
      "[CV] bootstrap=True, criterion=mse, max_depth=110, max_features=sqrt, min_samples_leaf=4, min_samples_split=2, min_weight_fraction_leaf=0.0, n_estimators=2000, n_jobs=-1, verbose=1, warm_start=False \n"
     ]
    },
    {
     "name": "stderr",
     "output_type": "stream",
     "text": [
      "[Parallel(n_jobs=-1)]: Using backend LokyBackend with 4 concurrent workers.\n",
      "[Parallel(n_jobs=-1)]: Done 312 tasks      | elapsed:    0.6s\n",
      "[Parallel(n_jobs=-1)]: Done 2000 out of 2000 | elapsed:    3.0s finished\n",
      "[Parallel(n_jobs=4)]: Using backend ThreadingBackend with 4 concurrent workers.\n",
      "[Parallel(n_jobs=4)]: Done  42 tasks      | elapsed:    0.0s\n",
      "[Parallel(n_jobs=4)]: Done 192 tasks      | elapsed:    0.1s\n",
      "[Parallel(n_jobs=4)]: Done 442 tasks      | elapsed:    0.1s\n",
      "[Parallel(n_jobs=4)]: Done 792 tasks      | elapsed:    0.2s\n",
      "[Parallel(n_jobs=4)]: Done 1242 tasks      | elapsed:    0.4s\n",
      "[Parallel(n_jobs=4)]: Done 1792 tasks      | elapsed:    0.5s\n",
      "[Parallel(n_jobs=4)]: Done 2000 out of 2000 | elapsed:    0.6s finished\n"
     ]
    },
    {
     "name": "stdout",
     "output_type": "stream",
     "text": [
      "[CV]  bootstrap=True, criterion=mse, max_depth=110, max_features=sqrt, min_samples_leaf=4, min_samples_split=2, min_weight_fraction_leaf=0.0, n_estimators=2000, n_jobs=-1, verbose=1, warm_start=False, explained_variance=0.457, neg_mean_absolute_error=-58.811, neg_mean_squared_error=-5687.520, neg_mean_squared_log_error=-0.067, neg_median_absolute_error=-49.020, r2=0.457, total=   4.8s\n",
      "[CV] bootstrap=True, criterion=mse, max_depth=110, max_features=sqrt, min_samples_leaf=4, min_samples_split=5, min_weight_fraction_leaf=0.0, n_estimators=200, n_jobs=-1, verbose=1, warm_start=False \n"
     ]
    },
    {
     "name": "stderr",
     "output_type": "stream",
     "text": [
      "[Parallel(n_jobs=-1)]: Using backend LokyBackend with 4 concurrent workers.\n",
      "[Parallel(n_jobs=-1)]: Done 190 tasks      | elapsed:    0.4s\n",
      "[Parallel(n_jobs=-1)]: Done 200 out of 200 | elapsed:    0.4s finished\n",
      "[Parallel(n_jobs=4)]: Using backend ThreadingBackend with 4 concurrent workers.\n",
      "[Parallel(n_jobs=4)]: Done  42 tasks      | elapsed:    0.0s\n",
      "[Parallel(n_jobs=4)]: Done 192 tasks      | elapsed:    0.1s\n",
      "[Parallel(n_jobs=4)]: Done 200 out of 200 | elapsed:    0.1s finished\n"
     ]
    },
    {
     "name": "stdout",
     "output_type": "stream",
     "text": [
      "[CV]  bootstrap=True, criterion=mse, max_depth=110, max_features=sqrt, min_samples_leaf=4, min_samples_split=5, min_weight_fraction_leaf=0.0, n_estimators=200, n_jobs=-1, verbose=1, warm_start=False, explained_variance=0.395, neg_mean_absolute_error=-60.681, neg_mean_squared_error=-5719.200, neg_mean_squared_log_error=-0.024, neg_median_absolute_error=-52.424, r2=0.394, total=   0.6s\n",
      "[CV] bootstrap=True, criterion=mse, max_depth=110, max_features=sqrt, min_samples_leaf=4, min_samples_split=5, min_weight_fraction_leaf=0.0, n_estimators=200, n_jobs=-1, verbose=1, warm_start=False \n"
     ]
    },
    {
     "name": "stderr",
     "output_type": "stream",
     "text": [
      "[Parallel(n_jobs=-1)]: Using backend LokyBackend with 4 concurrent workers.\n",
      "[Parallel(n_jobs=-1)]: Done 190 tasks      | elapsed:    0.4s\n",
      "[Parallel(n_jobs=-1)]: Done 200 out of 200 | elapsed:    0.4s finished\n",
      "[Parallel(n_jobs=4)]: Using backend ThreadingBackend with 4 concurrent workers.\n",
      "[Parallel(n_jobs=4)]: Done  42 tasks      | elapsed:    0.0s\n",
      "[Parallel(n_jobs=4)]: Done 192 tasks      | elapsed:    0.1s\n",
      "[Parallel(n_jobs=4)]: Done 200 out of 200 | elapsed:    0.1s finished\n"
     ]
    },
    {
     "name": "stdout",
     "output_type": "stream",
     "text": [
      "[CV]  bootstrap=True, criterion=mse, max_depth=110, max_features=sqrt, min_samples_leaf=4, min_samples_split=5, min_weight_fraction_leaf=0.0, n_estimators=200, n_jobs=-1, verbose=1, warm_start=False, explained_variance=0.451, neg_mean_absolute_error=-59.142, neg_mean_squared_error=-5742.691, neg_mean_squared_log_error=-0.067, neg_median_absolute_error=-49.208, r2=0.451, total=   0.6s\n",
      "[CV] bootstrap=True, criterion=mse, max_depth=110, max_features=sqrt, min_samples_leaf=4, min_samples_split=5, min_weight_fraction_leaf=0.0, n_estimators=2000, n_jobs=-1, verbose=1, warm_start=False \n"
     ]
    },
    {
     "name": "stderr",
     "output_type": "stream",
     "text": [
      "[Parallel(n_jobs=-1)]: Using backend LokyBackend with 4 concurrent workers.\n",
      "[Parallel(n_jobs=-1)]: Done 312 tasks      | elapsed:    0.6s\n",
      "[Parallel(n_jobs=-1)]: Done 2000 out of 2000 | elapsed:    2.9s finished\n",
      "[Parallel(n_jobs=4)]: Using backend ThreadingBackend with 4 concurrent workers.\n",
      "[Parallel(n_jobs=4)]: Done  42 tasks      | elapsed:    0.0s\n",
      "[Parallel(n_jobs=4)]: Done 192 tasks      | elapsed:    0.1s\n",
      "[Parallel(n_jobs=4)]: Done 442 tasks      | elapsed:    0.1s\n",
      "[Parallel(n_jobs=4)]: Done 792 tasks      | elapsed:    0.2s\n",
      "[Parallel(n_jobs=4)]: Done 1242 tasks      | elapsed:    0.4s\n",
      "[Parallel(n_jobs=4)]: Done 1792 tasks      | elapsed:    0.5s\n",
      "[Parallel(n_jobs=4)]: Done 2000 out of 2000 | elapsed:    0.6s finished\n"
     ]
    },
    {
     "name": "stdout",
     "output_type": "stream",
     "text": [
      "[CV]  bootstrap=True, criterion=mse, max_depth=110, max_features=sqrt, min_samples_leaf=4, min_samples_split=5, min_weight_fraction_leaf=0.0, n_estimators=2000, n_jobs=-1, verbose=1, warm_start=False, explained_variance=0.394, neg_mean_absolute_error=-60.707, neg_mean_squared_error=-5724.067, neg_mean_squared_log_error=-0.024, neg_median_absolute_error=-52.635, r2=0.394, total=   4.6s\n",
      "[CV] bootstrap=True, criterion=mse, max_depth=110, max_features=sqrt, min_samples_leaf=4, min_samples_split=5, min_weight_fraction_leaf=0.0, n_estimators=2000, n_jobs=-1, verbose=1, warm_start=False \n"
     ]
    },
    {
     "name": "stderr",
     "output_type": "stream",
     "text": [
      "[Parallel(n_jobs=-1)]: Using backend LokyBackend with 4 concurrent workers.\n",
      "[Parallel(n_jobs=-1)]: Done 312 tasks      | elapsed:    0.6s\n",
      "[Parallel(n_jobs=-1)]: Done 2000 out of 2000 | elapsed:    2.8s finished\n",
      "[Parallel(n_jobs=4)]: Using backend ThreadingBackend with 4 concurrent workers.\n",
      "[Parallel(n_jobs=4)]: Done  42 tasks      | elapsed:    0.0s\n",
      "[Parallel(n_jobs=4)]: Done 192 tasks      | elapsed:    0.1s\n",
      "[Parallel(n_jobs=4)]: Done 442 tasks      | elapsed:    0.1s\n",
      "[Parallel(n_jobs=4)]: Done 792 tasks      | elapsed:    0.3s\n",
      "[Parallel(n_jobs=4)]: Done 1242 tasks      | elapsed:    0.4s\n",
      "[Parallel(n_jobs=4)]: Done 1792 tasks      | elapsed:    0.6s\n",
      "[Parallel(n_jobs=4)]: Done 2000 out of 2000 | elapsed:    0.6s finished\n"
     ]
    },
    {
     "name": "stdout",
     "output_type": "stream",
     "text": [
      "[CV]  bootstrap=True, criterion=mse, max_depth=110, max_features=sqrt, min_samples_leaf=4, min_samples_split=5, min_weight_fraction_leaf=0.0, n_estimators=2000, n_jobs=-1, verbose=1, warm_start=False, explained_variance=0.456, neg_mean_absolute_error=-58.813, neg_mean_squared_error=-5692.066, neg_mean_squared_log_error=-0.067, neg_median_absolute_error=-48.817, r2=0.456, total=   4.7s\n",
      "[CV] bootstrap=True, criterion=mse, max_depth=110, max_features=sqrt, min_samples_leaf=4, min_samples_split=10, min_weight_fraction_leaf=0.0, n_estimators=200, n_jobs=-1, verbose=1, warm_start=False \n"
     ]
    },
    {
     "name": "stderr",
     "output_type": "stream",
     "text": [
      "[Parallel(n_jobs=-1)]: Using backend LokyBackend with 4 concurrent workers.\n",
      "[Parallel(n_jobs=-1)]: Done 175 tasks      | elapsed:    0.4s\n",
      "[Parallel(n_jobs=-1)]: Done 200 out of 200 | elapsed:    0.4s finished\n",
      "[Parallel(n_jobs=4)]: Using backend ThreadingBackend with 4 concurrent workers.\n",
      "[Parallel(n_jobs=4)]: Done  42 tasks      | elapsed:    0.0s\n",
      "[Parallel(n_jobs=4)]: Done 192 tasks      | elapsed:    0.1s\n",
      "[Parallel(n_jobs=4)]: Done 200 out of 200 | elapsed:    0.1s finished\n"
     ]
    },
    {
     "name": "stdout",
     "output_type": "stream",
     "text": [
      "[CV]  bootstrap=True, criterion=mse, max_depth=110, max_features=sqrt, min_samples_leaf=4, min_samples_split=10, min_weight_fraction_leaf=0.0, n_estimators=200, n_jobs=-1, verbose=1, warm_start=False, explained_variance=0.395, neg_mean_absolute_error=-60.626, neg_mean_squared_error=-5718.006, neg_mean_squared_log_error=-0.024, neg_median_absolute_error=-52.717, r2=0.394, total=   0.6s\n",
      "[CV] bootstrap=True, criterion=mse, max_depth=110, max_features=sqrt, min_samples_leaf=4, min_samples_split=10, min_weight_fraction_leaf=0.0, n_estimators=200, n_jobs=-1, verbose=1, warm_start=False \n"
     ]
    },
    {
     "name": "stderr",
     "output_type": "stream",
     "text": [
      "[Parallel(n_jobs=-1)]: Using backend LokyBackend with 4 concurrent workers.\n",
      "[Parallel(n_jobs=-1)]: Done 190 tasks      | elapsed:    0.3s\n",
      "[Parallel(n_jobs=-1)]: Done 200 out of 200 | elapsed:    0.3s finished\n",
      "[Parallel(n_jobs=4)]: Using backend ThreadingBackend with 4 concurrent workers.\n",
      "[Parallel(n_jobs=4)]: Done  42 tasks      | elapsed:    0.0s\n",
      "[Parallel(n_jobs=4)]: Done 192 tasks      | elapsed:    0.1s\n",
      "[Parallel(n_jobs=4)]: Done 200 out of 200 | elapsed:    0.1s finished\n"
     ]
    },
    {
     "name": "stdout",
     "output_type": "stream",
     "text": [
      "[CV]  bootstrap=True, criterion=mse, max_depth=110, max_features=sqrt, min_samples_leaf=4, min_samples_split=10, min_weight_fraction_leaf=0.0, n_estimators=200, n_jobs=-1, verbose=1, warm_start=False, explained_variance=0.454, neg_mean_absolute_error=-58.981, neg_mean_squared_error=-5710.508, neg_mean_squared_log_error=-0.067, neg_median_absolute_error=-49.576, r2=0.454, total=   0.6s\n",
      "[CV] bootstrap=True, criterion=mse, max_depth=110, max_features=sqrt, min_samples_leaf=4, min_samples_split=10, min_weight_fraction_leaf=0.0, n_estimators=2000, n_jobs=-1, verbose=1, warm_start=False \n"
     ]
    },
    {
     "name": "stderr",
     "output_type": "stream",
     "text": [
      "[Parallel(n_jobs=-1)]: Using backend LokyBackend with 4 concurrent workers.\n",
      "[Parallel(n_jobs=-1)]: Done 312 tasks      | elapsed:    0.6s\n",
      "[Parallel(n_jobs=-1)]: Done 2000 out of 2000 | elapsed:    2.8s finished\n",
      "[Parallel(n_jobs=4)]: Using backend ThreadingBackend with 4 concurrent workers.\n",
      "[Parallel(n_jobs=4)]: Done  42 tasks      | elapsed:    0.0s\n",
      "[Parallel(n_jobs=4)]: Done 192 tasks      | elapsed:    0.1s\n",
      "[Parallel(n_jobs=4)]: Done 442 tasks      | elapsed:    0.1s\n",
      "[Parallel(n_jobs=4)]: Done 792 tasks      | elapsed:    0.2s\n",
      "[Parallel(n_jobs=4)]: Done 1242 tasks      | elapsed:    0.4s\n",
      "[Parallel(n_jobs=4)]: Done 1792 tasks      | elapsed:    0.5s\n",
      "[Parallel(n_jobs=4)]: Done 2000 out of 2000 | elapsed:    0.6s finished\n"
     ]
    },
    {
     "name": "stdout",
     "output_type": "stream",
     "text": [
      "[CV]  bootstrap=True, criterion=mse, max_depth=110, max_features=sqrt, min_samples_leaf=4, min_samples_split=10, min_weight_fraction_leaf=0.0, n_estimators=2000, n_jobs=-1, verbose=1, warm_start=False, explained_variance=0.395, neg_mean_absolute_error=-60.679, neg_mean_squared_error=-5719.528, neg_mean_squared_log_error=-0.024, neg_median_absolute_error=-52.540, r2=0.394, total=   4.7s\n",
      "[CV] bootstrap=True, criterion=mse, max_depth=110, max_features=sqrt, min_samples_leaf=4, min_samples_split=10, min_weight_fraction_leaf=0.0, n_estimators=2000, n_jobs=-1, verbose=1, warm_start=False \n"
     ]
    },
    {
     "name": "stderr",
     "output_type": "stream",
     "text": [
      "[Parallel(n_jobs=-1)]: Using backend LokyBackend with 4 concurrent workers.\n",
      "[Parallel(n_jobs=-1)]: Done 312 tasks      | elapsed:    0.6s\n",
      "[Parallel(n_jobs=-1)]: Done 2000 out of 2000 | elapsed:    2.8s finished\n",
      "[Parallel(n_jobs=4)]: Using backend ThreadingBackend with 4 concurrent workers.\n",
      "[Parallel(n_jobs=4)]: Done  42 tasks      | elapsed:    0.0s\n",
      "[Parallel(n_jobs=4)]: Done 192 tasks      | elapsed:    0.1s\n",
      "[Parallel(n_jobs=4)]: Done 442 tasks      | elapsed:    0.1s\n",
      "[Parallel(n_jobs=4)]: Done 792 tasks      | elapsed:    0.2s\n",
      "[Parallel(n_jobs=4)]: Done 1242 tasks      | elapsed:    0.4s\n",
      "[Parallel(n_jobs=4)]: Done 1792 tasks      | elapsed:    0.6s\n",
      "[Parallel(n_jobs=4)]: Done 2000 out of 2000 | elapsed:    0.6s finished\n"
     ]
    },
    {
     "name": "stdout",
     "output_type": "stream",
     "text": [
      "[CV]  bootstrap=True, criterion=mse, max_depth=110, max_features=sqrt, min_samples_leaf=4, min_samples_split=10, min_weight_fraction_leaf=0.0, n_estimators=2000, n_jobs=-1, verbose=1, warm_start=False, explained_variance=0.456, neg_mean_absolute_error=-58.842, neg_mean_squared_error=-5689.302, neg_mean_squared_log_error=-0.067, neg_median_absolute_error=-49.018, r2=0.456, total=   4.6s\n",
      "[CV] bootstrap=True, criterion=mse, max_depth=None, max_features=auto, min_samples_leaf=1, min_samples_split=2, min_weight_fraction_leaf=0.0, n_estimators=200, n_jobs=-1, verbose=1, warm_start=False \n"
     ]
    },
    {
     "name": "stderr",
     "output_type": "stream",
     "text": [
      "[Parallel(n_jobs=-1)]: Using backend LokyBackend with 4 concurrent workers.\n",
      "[Parallel(n_jobs=-1)]: Done 186 tasks      | elapsed:    1.0s\n",
      "[Parallel(n_jobs=-1)]: Done 200 out of 200 | elapsed:    1.1s finished\n",
      "[Parallel(n_jobs=4)]: Using backend ThreadingBackend with 4 concurrent workers.\n",
      "[Parallel(n_jobs=4)]: Done  42 tasks      | elapsed:    0.0s\n",
      "[Parallel(n_jobs=4)]: Done 192 tasks      | elapsed:    0.1s\n",
      "[Parallel(n_jobs=4)]: Done 200 out of 200 | elapsed:    0.1s finished\n"
     ]
    },
    {
     "name": "stdout",
     "output_type": "stream",
     "text": [
      "[CV]  bootstrap=True, criterion=mse, max_depth=None, max_features=auto, min_samples_leaf=1, min_samples_split=2, min_weight_fraction_leaf=0.0, n_estimators=200, n_jobs=-1, verbose=1, warm_start=False, explained_variance=0.360, neg_mean_absolute_error=-62.053, neg_mean_squared_error=-6059.184, neg_mean_squared_log_error=-0.025, neg_median_absolute_error=-52.821, r2=0.358, total=   1.3s\n",
      "[CV] bootstrap=True, criterion=mse, max_depth=None, max_features=auto, min_samples_leaf=1, min_samples_split=2, min_weight_fraction_leaf=0.0, n_estimators=200, n_jobs=-1, verbose=1, warm_start=False \n"
     ]
    },
    {
     "name": "stderr",
     "output_type": "stream",
     "text": [
      "[Parallel(n_jobs=-1)]: Using backend LokyBackend with 4 concurrent workers.\n",
      "[Parallel(n_jobs=-1)]: Done 186 tasks      | elapsed:    0.9s\n",
      "[Parallel(n_jobs=-1)]: Done 200 out of 200 | elapsed:    1.0s finished\n",
      "[Parallel(n_jobs=4)]: Using backend ThreadingBackend with 4 concurrent workers.\n",
      "[Parallel(n_jobs=4)]: Done  42 tasks      | elapsed:    0.0s\n",
      "[Parallel(n_jobs=4)]: Done 192 tasks      | elapsed:    0.1s\n",
      "[Parallel(n_jobs=4)]: Done 200 out of 200 | elapsed:    0.1s finished\n"
     ]
    },
    {
     "name": "stdout",
     "output_type": "stream",
     "text": [
      "[CV]  bootstrap=True, criterion=mse, max_depth=None, max_features=auto, min_samples_leaf=1, min_samples_split=2, min_weight_fraction_leaf=0.0, n_estimators=200, n_jobs=-1, verbose=1, warm_start=False, explained_variance=0.433, neg_mean_absolute_error=-60.155, neg_mean_squared_error=-5930.231, neg_mean_squared_log_error=-0.068, neg_median_absolute_error=-50.578, r2=0.433, total=   1.3s\n",
      "[CV] bootstrap=True, criterion=mse, max_depth=None, max_features=auto, min_samples_leaf=1, min_samples_split=2, min_weight_fraction_leaf=0.0, n_estimators=2000, n_jobs=-1, verbose=1, warm_start=False \n"
     ]
    },
    {
     "name": "stderr",
     "output_type": "stream",
     "text": [
      "[Parallel(n_jobs=-1)]: Using backend LokyBackend with 4 concurrent workers.\n",
      "[Parallel(n_jobs=-1)]: Done 200 tasks      | elapsed:    1.1s\n",
      "[Parallel(n_jobs=-1)]: Done 1400 tasks      | elapsed:    7.3s\n",
      "[Parallel(n_jobs=-1)]: Done 2000 out of 2000 | elapsed:   10.5s finished\n",
      "[Parallel(n_jobs=4)]: Using backend ThreadingBackend with 4 concurrent workers.\n",
      "[Parallel(n_jobs=4)]: Done  42 tasks      | elapsed:    0.0s\n",
      "[Parallel(n_jobs=4)]: Done 192 tasks      | elapsed:    0.1s\n",
      "[Parallel(n_jobs=4)]: Done 442 tasks      | elapsed:    0.1s\n",
      "[Parallel(n_jobs=4)]: Done 792 tasks      | elapsed:    0.2s\n",
      "[Parallel(n_jobs=4)]: Done 1242 tasks      | elapsed:    0.4s\n",
      "[Parallel(n_jobs=4)]: Done 1792 tasks      | elapsed:    0.5s\n",
      "[Parallel(n_jobs=4)]: Done 2000 out of 2000 | elapsed:    0.6s finished\n"
     ]
    },
    {
     "name": "stdout",
     "output_type": "stream",
     "text": [
      "[CV]  bootstrap=True, criterion=mse, max_depth=None, max_features=auto, min_samples_leaf=1, min_samples_split=2, min_weight_fraction_leaf=0.0, n_estimators=2000, n_jobs=-1, verbose=1, warm_start=False, explained_variance=0.361, neg_mean_absolute_error=-61.965, neg_mean_squared_error=-6043.373, neg_mean_squared_log_error=-0.025, neg_median_absolute_error=-52.708, r2=0.360, total=  12.2s\n",
      "[CV] bootstrap=True, criterion=mse, max_depth=None, max_features=auto, min_samples_leaf=1, min_samples_split=2, min_weight_fraction_leaf=0.0, n_estimators=2000, n_jobs=-1, verbose=1, warm_start=False \n"
     ]
    },
    {
     "name": "stderr",
     "output_type": "stream",
     "text": [
      "[Parallel(n_jobs=-1)]: Using backend LokyBackend with 4 concurrent workers.\n",
      "[Parallel(n_jobs=-1)]: Done 200 tasks      | elapsed:    1.1s\n",
      "[Parallel(n_jobs=-1)]: Done 1400 tasks      | elapsed:    7.0s\n",
      "[Parallel(n_jobs=-1)]: Done 2000 out of 2000 | elapsed:    9.9s finished\n",
      "[Parallel(n_jobs=4)]: Using backend ThreadingBackend with 4 concurrent workers.\n",
      "[Parallel(n_jobs=4)]: Done  42 tasks      | elapsed:    0.0s\n",
      "[Parallel(n_jobs=4)]: Done 192 tasks      | elapsed:    0.1s\n",
      "[Parallel(n_jobs=4)]: Done 442 tasks      | elapsed:    0.1s\n",
      "[Parallel(n_jobs=4)]: Done 792 tasks      | elapsed:    0.2s\n",
      "[Parallel(n_jobs=4)]: Done 1242 tasks      | elapsed:    0.4s\n",
      "[Parallel(n_jobs=4)]: Done 1792 tasks      | elapsed:    0.5s\n",
      "[Parallel(n_jobs=4)]: Done 2000 out of 2000 | elapsed:    0.6s finished\n"
     ]
    },
    {
     "name": "stdout",
     "output_type": "stream",
     "text": [
      "[CV]  bootstrap=True, criterion=mse, max_depth=None, max_features=auto, min_samples_leaf=1, min_samples_split=2, min_weight_fraction_leaf=0.0, n_estimators=2000, n_jobs=-1, verbose=1, warm_start=False, explained_variance=0.437, neg_mean_absolute_error=-59.982, neg_mean_squared_error=-5894.670, neg_mean_squared_log_error=-0.068, neg_median_absolute_error=-49.831, r2=0.437, total=  11.7s\n",
      "[CV] bootstrap=True, criterion=mse, max_depth=None, max_features=auto, min_samples_leaf=1, min_samples_split=5, min_weight_fraction_leaf=0.0, n_estimators=200, n_jobs=-1, verbose=1, warm_start=False \n"
     ]
    },
    {
     "name": "stderr",
     "output_type": "stream",
     "text": [
      "[Parallel(n_jobs=-1)]: Using backend LokyBackend with 4 concurrent workers.\n",
      "[Parallel(n_jobs=-1)]: Done 186 tasks      | elapsed:    0.9s\n",
      "[Parallel(n_jobs=-1)]: Done 200 out of 200 | elapsed:    1.0s finished\n",
      "[Parallel(n_jobs=4)]: Using backend ThreadingBackend with 4 concurrent workers.\n",
      "[Parallel(n_jobs=4)]: Done  42 tasks      | elapsed:    0.0s\n",
      "[Parallel(n_jobs=4)]: Done 192 tasks      | elapsed:    0.1s\n",
      "[Parallel(n_jobs=4)]: Done 200 out of 200 | elapsed:    0.1s finished\n"
     ]
    },
    {
     "name": "stdout",
     "output_type": "stream",
     "text": [
      "[CV]  bootstrap=True, criterion=mse, max_depth=None, max_features=auto, min_samples_leaf=1, min_samples_split=5, min_weight_fraction_leaf=0.0, n_estimators=200, n_jobs=-1, verbose=1, warm_start=False, explained_variance=0.359, neg_mean_absolute_error=-61.957, neg_mean_squared_error=-6057.560, neg_mean_squared_log_error=-0.025, neg_median_absolute_error=-52.464, r2=0.358, total=   1.2s\n",
      "[CV] bootstrap=True, criterion=mse, max_depth=None, max_features=auto, min_samples_leaf=1, min_samples_split=5, min_weight_fraction_leaf=0.0, n_estimators=200, n_jobs=-1, verbose=1, warm_start=False \n"
     ]
    },
    {
     "name": "stderr",
     "output_type": "stream",
     "text": [
      "[Parallel(n_jobs=-1)]: Using backend LokyBackend with 4 concurrent workers.\n",
      "[Parallel(n_jobs=-1)]: Done 190 tasks      | elapsed:    0.8s\n",
      "[Parallel(n_jobs=-1)]: Done 200 out of 200 | elapsed:    0.9s finished\n",
      "[Parallel(n_jobs=4)]: Using backend ThreadingBackend with 4 concurrent workers.\n",
      "[Parallel(n_jobs=4)]: Done  42 tasks      | elapsed:    0.0s\n",
      "[Parallel(n_jobs=4)]: Done 192 tasks      | elapsed:    0.1s\n",
      "[Parallel(n_jobs=4)]: Done 200 out of 200 | elapsed:    0.1s finished\n"
     ]
    },
    {
     "name": "stdout",
     "output_type": "stream",
     "text": [
      "[CV]  bootstrap=True, criterion=mse, max_depth=None, max_features=auto, min_samples_leaf=1, min_samples_split=5, min_weight_fraction_leaf=0.0, n_estimators=200, n_jobs=-1, verbose=1, warm_start=False, explained_variance=0.437, neg_mean_absolute_error=-59.986, neg_mean_squared_error=-5887.186, neg_mean_squared_log_error=-0.068, neg_median_absolute_error=-49.500, r2=0.437, total=   1.1s\n",
      "[CV] bootstrap=True, criterion=mse, max_depth=None, max_features=auto, min_samples_leaf=1, min_samples_split=5, min_weight_fraction_leaf=0.0, n_estimators=2000, n_jobs=-1, verbose=1, warm_start=False \n"
     ]
    },
    {
     "name": "stderr",
     "output_type": "stream",
     "text": [
      "[Parallel(n_jobs=-1)]: Using backend LokyBackend with 4 concurrent workers.\n",
      "[Parallel(n_jobs=-1)]: Done 200 tasks      | elapsed:    1.0s\n",
      "[Parallel(n_jobs=-1)]: Done 1400 tasks      | elapsed:    6.3s\n",
      "[Parallel(n_jobs=-1)]: Done 2000 out of 2000 | elapsed:    9.0s finished\n",
      "[Parallel(n_jobs=4)]: Using backend ThreadingBackend with 4 concurrent workers.\n",
      "[Parallel(n_jobs=4)]: Done  42 tasks      | elapsed:    0.0s\n",
      "[Parallel(n_jobs=4)]: Done 192 tasks      | elapsed:    0.1s\n",
      "[Parallel(n_jobs=4)]: Done 442 tasks      | elapsed:    0.1s\n",
      "[Parallel(n_jobs=4)]: Done 792 tasks      | elapsed:    0.2s\n",
      "[Parallel(n_jobs=4)]: Done 1242 tasks      | elapsed:    0.4s\n",
      "[Parallel(n_jobs=4)]: Done 1792 tasks      | elapsed:    0.5s\n",
      "[Parallel(n_jobs=4)]: Done 2000 out of 2000 | elapsed:    0.6s finished\n"
     ]
    },
    {
     "name": "stdout",
     "output_type": "stream",
     "text": [
      "[CV]  bootstrap=True, criterion=mse, max_depth=None, max_features=auto, min_samples_leaf=1, min_samples_split=5, min_weight_fraction_leaf=0.0, n_estimators=2000, n_jobs=-1, verbose=1, warm_start=False, explained_variance=0.364, neg_mean_absolute_error=-61.857, neg_mean_squared_error=-6015.943, neg_mean_squared_log_error=-0.025, neg_median_absolute_error=-52.647, r2=0.363, total=  10.7s\n",
      "[CV] bootstrap=True, criterion=mse, max_depth=None, max_features=auto, min_samples_leaf=1, min_samples_split=5, min_weight_fraction_leaf=0.0, n_estimators=2000, n_jobs=-1, verbose=1, warm_start=False \n"
     ]
    },
    {
     "name": "stderr",
     "output_type": "stream",
     "text": [
      "[Parallel(n_jobs=-1)]: Using backend LokyBackend with 4 concurrent workers.\n",
      "[Parallel(n_jobs=-1)]: Done 280 tasks      | elapsed:    1.3s\n",
      "[Parallel(n_jobs=-1)]: Done 2000 out of 2000 | elapsed:    8.3s finished\n",
      "[Parallel(n_jobs=4)]: Using backend ThreadingBackend with 4 concurrent workers.\n",
      "[Parallel(n_jobs=4)]: Done  42 tasks      | elapsed:    0.0s\n",
      "[Parallel(n_jobs=4)]: Done 192 tasks      | elapsed:    0.1s\n",
      "[Parallel(n_jobs=4)]: Done 442 tasks      | elapsed:    0.1s\n",
      "[Parallel(n_jobs=4)]: Done 792 tasks      | elapsed:    0.2s\n",
      "[Parallel(n_jobs=4)]: Done 1242 tasks      | elapsed:    0.4s\n",
      "[Parallel(n_jobs=4)]: Done 1792 tasks      | elapsed:    0.5s\n",
      "[Parallel(n_jobs=4)]: Done 2000 out of 2000 | elapsed:    0.6s finished\n"
     ]
    },
    {
     "name": "stdout",
     "output_type": "stream",
     "text": [
      "[CV]  bootstrap=True, criterion=mse, max_depth=None, max_features=auto, min_samples_leaf=1, min_samples_split=5, min_weight_fraction_leaf=0.0, n_estimators=2000, n_jobs=-1, verbose=1, warm_start=False, explained_variance=0.438, neg_mean_absolute_error=-59.926, neg_mean_squared_error=-5883.655, neg_mean_squared_log_error=-0.068, neg_median_absolute_error=-50.195, r2=0.438, total=  10.0s\n",
      "[CV] bootstrap=True, criterion=mse, max_depth=None, max_features=auto, min_samples_leaf=1, min_samples_split=10, min_weight_fraction_leaf=0.0, n_estimators=200, n_jobs=-1, verbose=1, warm_start=False \n"
     ]
    },
    {
     "name": "stderr",
     "output_type": "stream",
     "text": [
      "[Parallel(n_jobs=-1)]: Using backend LokyBackend with 4 concurrent workers.\n",
      "[Parallel(n_jobs=-1)]: Done 190 tasks      | elapsed:    0.8s\n",
      "[Parallel(n_jobs=-1)]: Done 200 out of 200 | elapsed:    0.9s finished\n",
      "[Parallel(n_jobs=4)]: Using backend ThreadingBackend with 4 concurrent workers.\n",
      "[Parallel(n_jobs=4)]: Done  42 tasks      | elapsed:    0.0s\n",
      "[Parallel(n_jobs=4)]: Done 192 tasks      | elapsed:    0.1s\n",
      "[Parallel(n_jobs=4)]: Done 200 out of 200 | elapsed:    0.1s finished\n"
     ]
    },
    {
     "name": "stdout",
     "output_type": "stream",
     "text": [
      "[CV]  bootstrap=True, criterion=mse, max_depth=None, max_features=auto, min_samples_leaf=1, min_samples_split=10, min_weight_fraction_leaf=0.0, n_estimators=200, n_jobs=-1, verbose=1, warm_start=False, explained_variance=0.367, neg_mean_absolute_error=-61.797, neg_mean_squared_error=-5987.728, neg_mean_squared_log_error=-0.025, neg_median_absolute_error=-52.742, r2=0.366, total=   1.1s\n",
      "[CV] bootstrap=True, criterion=mse, max_depth=None, max_features=auto, min_samples_leaf=1, min_samples_split=10, min_weight_fraction_leaf=0.0, n_estimators=200, n_jobs=-1, verbose=1, warm_start=False \n"
     ]
    },
    {
     "name": "stderr",
     "output_type": "stream",
     "text": [
      "[Parallel(n_jobs=-1)]: Using backend LokyBackend with 4 concurrent workers.\n",
      "[Parallel(n_jobs=-1)]: Done 190 tasks      | elapsed:    0.8s\n",
      "[Parallel(n_jobs=-1)]: Done 200 out of 200 | elapsed:    0.8s finished\n",
      "[Parallel(n_jobs=4)]: Using backend ThreadingBackend with 4 concurrent workers.\n",
      "[Parallel(n_jobs=4)]: Done  42 tasks      | elapsed:    0.0s\n",
      "[Parallel(n_jobs=4)]: Done 192 tasks      | elapsed:    0.1s\n",
      "[Parallel(n_jobs=4)]: Done 200 out of 200 | elapsed:    0.1s finished\n"
     ]
    },
    {
     "name": "stdout",
     "output_type": "stream",
     "text": [
      "[CV]  bootstrap=True, criterion=mse, max_depth=None, max_features=auto, min_samples_leaf=1, min_samples_split=10, min_weight_fraction_leaf=0.0, n_estimators=200, n_jobs=-1, verbose=1, warm_start=False, explained_variance=0.443, neg_mean_absolute_error=-59.550, neg_mean_squared_error=-5829.504, neg_mean_squared_log_error=-0.067, neg_median_absolute_error=-49.316, r2=0.443, total=   1.0s\n",
      "[CV] bootstrap=True, criterion=mse, max_depth=None, max_features=auto, min_samples_leaf=1, min_samples_split=10, min_weight_fraction_leaf=0.0, n_estimators=2000, n_jobs=-1, verbose=1, warm_start=False \n"
     ]
    },
    {
     "name": "stderr",
     "output_type": "stream",
     "text": [
      "[Parallel(n_jobs=-1)]: Using backend LokyBackend with 4 concurrent workers.\n",
      "[Parallel(n_jobs=-1)]: Done 280 tasks      | elapsed:    1.2s\n",
      "[Parallel(n_jobs=-1)]: Done 2000 out of 2000 | elapsed:    8.0s finished\n",
      "[Parallel(n_jobs=4)]: Using backend ThreadingBackend with 4 concurrent workers.\n",
      "[Parallel(n_jobs=4)]: Done  42 tasks      | elapsed:    0.0s\n",
      "[Parallel(n_jobs=4)]: Done 192 tasks      | elapsed:    0.1s\n",
      "[Parallel(n_jobs=4)]: Done 442 tasks      | elapsed:    0.1s\n",
      "[Parallel(n_jobs=4)]: Done 792 tasks      | elapsed:    0.2s\n",
      "[Parallel(n_jobs=4)]: Done 1242 tasks      | elapsed:    0.4s\n",
      "[Parallel(n_jobs=4)]: Done 1792 tasks      | elapsed:    0.5s\n",
      "[Parallel(n_jobs=4)]: Done 2000 out of 2000 | elapsed:    0.6s finished\n"
     ]
    },
    {
     "name": "stdout",
     "output_type": "stream",
     "text": [
      "[CV]  bootstrap=True, criterion=mse, max_depth=None, max_features=auto, min_samples_leaf=1, min_samples_split=10, min_weight_fraction_leaf=0.0, n_estimators=2000, n_jobs=-1, verbose=1, warm_start=False, explained_variance=0.369, neg_mean_absolute_error=-61.606, neg_mean_squared_error=-5966.607, neg_mean_squared_log_error=-0.025, neg_median_absolute_error=-52.429, r2=0.368, total=   9.7s\n",
      "[CV] bootstrap=True, criterion=mse, max_depth=None, max_features=auto, min_samples_leaf=1, min_samples_split=10, min_weight_fraction_leaf=0.0, n_estimators=2000, n_jobs=-1, verbose=1, warm_start=False \n"
     ]
    },
    {
     "name": "stderr",
     "output_type": "stream",
     "text": [
      "[Parallel(n_jobs=-1)]: Using backend LokyBackend with 4 concurrent workers.\n",
      "[Parallel(n_jobs=-1)]: Done 280 tasks      | elapsed:    1.2s\n",
      "[Parallel(n_jobs=-1)]: Done 2000 out of 2000 | elapsed:    7.4s finished\n",
      "[Parallel(n_jobs=4)]: Using backend ThreadingBackend with 4 concurrent workers.\n",
      "[Parallel(n_jobs=4)]: Done  42 tasks      | elapsed:    0.0s\n",
      "[Parallel(n_jobs=4)]: Done 192 tasks      | elapsed:    0.1s\n",
      "[Parallel(n_jobs=4)]: Done 442 tasks      | elapsed:    0.1s\n",
      "[Parallel(n_jobs=4)]: Done 792 tasks      | elapsed:    0.2s\n",
      "[Parallel(n_jobs=4)]: Done 1242 tasks      | elapsed:    0.4s\n",
      "[Parallel(n_jobs=4)]: Done 1792 tasks      | elapsed:    0.6s\n",
      "[Parallel(n_jobs=4)]: Done 2000 out of 2000 | elapsed:    0.6s finished\n"
     ]
    },
    {
     "name": "stdout",
     "output_type": "stream",
     "text": [
      "[CV]  bootstrap=True, criterion=mse, max_depth=None, max_features=auto, min_samples_leaf=1, min_samples_split=10, min_weight_fraction_leaf=0.0, n_estimators=2000, n_jobs=-1, verbose=1, warm_start=False, explained_variance=0.444, neg_mean_absolute_error=-59.499, neg_mean_squared_error=-5814.018, neg_mean_squared_log_error=-0.067, neg_median_absolute_error=-49.508, r2=0.444, total=   9.3s\n",
      "[CV] bootstrap=True, criterion=mse, max_depth=None, max_features=auto, min_samples_leaf=2, min_samples_split=2, min_weight_fraction_leaf=0.0, n_estimators=200, n_jobs=-1, verbose=1, warm_start=False \n"
     ]
    },
    {
     "name": "stderr",
     "output_type": "stream",
     "text": [
      "[Parallel(n_jobs=-1)]: Using backend LokyBackend with 4 concurrent workers.\n",
      "[Parallel(n_jobs=-1)]: Done 190 tasks      | elapsed:    0.9s\n",
      "[Parallel(n_jobs=-1)]: Done 200 out of 200 | elapsed:    0.9s finished\n",
      "[Parallel(n_jobs=4)]: Using backend ThreadingBackend with 4 concurrent workers.\n",
      "[Parallel(n_jobs=4)]: Done  42 tasks      | elapsed:    0.0s\n",
      "[Parallel(n_jobs=4)]: Done 192 tasks      | elapsed:    0.1s\n",
      "[Parallel(n_jobs=4)]: Done 200 out of 200 | elapsed:    0.1s finished\n"
     ]
    },
    {
     "name": "stdout",
     "output_type": "stream",
     "text": [
      "[CV]  bootstrap=True, criterion=mse, max_depth=None, max_features=auto, min_samples_leaf=2, min_samples_split=2, min_weight_fraction_leaf=0.0, n_estimators=200, n_jobs=-1, verbose=1, warm_start=False, explained_variance=0.364, neg_mean_absolute_error=-61.809, neg_mean_squared_error=-6010.904, neg_mean_squared_log_error=-0.025, neg_median_absolute_error=-52.202, r2=0.363, total=   1.1s\n",
      "[CV] bootstrap=True, criterion=mse, max_depth=None, max_features=auto, min_samples_leaf=2, min_samples_split=2, min_weight_fraction_leaf=0.0, n_estimators=200, n_jobs=-1, verbose=1, warm_start=False \n"
     ]
    },
    {
     "name": "stderr",
     "output_type": "stream",
     "text": [
      "[Parallel(n_jobs=-1)]: Using backend LokyBackend with 4 concurrent workers.\n",
      "[Parallel(n_jobs=-1)]: Done 190 tasks      | elapsed:    0.8s\n",
      "[Parallel(n_jobs=-1)]: Done 200 out of 200 | elapsed:    0.9s finished\n",
      "[Parallel(n_jobs=4)]: Using backend ThreadingBackend with 4 concurrent workers.\n",
      "[Parallel(n_jobs=4)]: Done  42 tasks      | elapsed:    0.0s\n",
      "[Parallel(n_jobs=4)]: Done 192 tasks      | elapsed:    0.1s\n",
      "[Parallel(n_jobs=4)]: Done 200 out of 200 | elapsed:    0.1s finished\n"
     ]
    },
    {
     "name": "stdout",
     "output_type": "stream",
     "text": [
      "[CV]  bootstrap=True, criterion=mse, max_depth=None, max_features=auto, min_samples_leaf=2, min_samples_split=2, min_weight_fraction_leaf=0.0, n_estimators=200, n_jobs=-1, verbose=1, warm_start=False, explained_variance=0.434, neg_mean_absolute_error=-60.133, neg_mean_squared_error=-5927.903, neg_mean_squared_log_error=-0.068, neg_median_absolute_error=-50.113, r2=0.434, total=   1.1s\n",
      "[CV] bootstrap=True, criterion=mse, max_depth=None, max_features=auto, min_samples_leaf=2, min_samples_split=2, min_weight_fraction_leaf=0.0, n_estimators=2000, n_jobs=-1, verbose=1, warm_start=False \n"
     ]
    },
    {
     "name": "stderr",
     "output_type": "stream",
     "text": [
      "[Parallel(n_jobs=-1)]: Using backend LokyBackend with 4 concurrent workers.\n",
      "[Parallel(n_jobs=-1)]: Done 280 tasks      | elapsed:    1.4s\n",
      "[Parallel(n_jobs=-1)]: Done 2000 out of 2000 | elapsed:    8.5s finished\n",
      "[Parallel(n_jobs=4)]: Using backend ThreadingBackend with 4 concurrent workers.\n",
      "[Parallel(n_jobs=4)]: Done  42 tasks      | elapsed:    0.0s\n",
      "[Parallel(n_jobs=4)]: Done 192 tasks      | elapsed:    0.1s\n",
      "[Parallel(n_jobs=4)]: Done 442 tasks      | elapsed:    0.1s\n",
      "[Parallel(n_jobs=4)]: Done 792 tasks      | elapsed:    0.2s\n",
      "[Parallel(n_jobs=4)]: Done 1242 tasks      | elapsed:    0.4s\n",
      "[Parallel(n_jobs=4)]: Done 1792 tasks      | elapsed:    0.5s\n",
      "[Parallel(n_jobs=4)]: Done 2000 out of 2000 | elapsed:    0.6s finished\n"
     ]
    },
    {
     "name": "stdout",
     "output_type": "stream",
     "text": [
      "[CV]  bootstrap=True, criterion=mse, max_depth=None, max_features=auto, min_samples_leaf=2, min_samples_split=2, min_weight_fraction_leaf=0.0, n_estimators=2000, n_jobs=-1, verbose=1, warm_start=False, explained_variance=0.365, neg_mean_absolute_error=-61.734, neg_mean_squared_error=-6003.923, neg_mean_squared_log_error=-0.025, neg_median_absolute_error=-52.234, r2=0.364, total=  10.2s\n",
      "[CV] bootstrap=True, criterion=mse, max_depth=None, max_features=auto, min_samples_leaf=2, min_samples_split=2, min_weight_fraction_leaf=0.0, n_estimators=2000, n_jobs=-1, verbose=1, warm_start=False \n"
     ]
    },
    {
     "name": "stderr",
     "output_type": "stream",
     "text": [
      "[Parallel(n_jobs=-1)]: Using backend LokyBackend with 4 concurrent workers.\n",
      "[Parallel(n_jobs=-1)]: Done 280 tasks      | elapsed:    1.3s\n",
      "[Parallel(n_jobs=-1)]: Done 2000 out of 2000 | elapsed:    8.6s finished\n",
      "[Parallel(n_jobs=4)]: Using backend ThreadingBackend with 4 concurrent workers.\n",
      "[Parallel(n_jobs=4)]: Done  42 tasks      | elapsed:    0.0s\n",
      "[Parallel(n_jobs=4)]: Done 192 tasks      | elapsed:    0.1s\n",
      "[Parallel(n_jobs=4)]: Done 442 tasks      | elapsed:    0.1s\n",
      "[Parallel(n_jobs=4)]: Done 792 tasks      | elapsed:    0.2s\n",
      "[Parallel(n_jobs=4)]: Done 1242 tasks      | elapsed:    0.4s\n",
      "[Parallel(n_jobs=4)]: Done 1792 tasks      | elapsed:    0.5s\n",
      "[Parallel(n_jobs=4)]: Done 2000 out of 2000 | elapsed:    0.6s finished\n",
      "[Parallel(n_jobs=-1)]: Using backend LokyBackend with 4 concurrent workers.\n"
     ]
    },
    {
     "name": "stdout",
     "output_type": "stream",
     "text": [
      "[CV]  bootstrap=True, criterion=mse, max_depth=None, max_features=auto, min_samples_leaf=2, min_samples_split=2, min_weight_fraction_leaf=0.0, n_estimators=2000, n_jobs=-1, verbose=1, warm_start=False, explained_variance=0.439, neg_mean_absolute_error=-59.796, neg_mean_squared_error=-5874.812, neg_mean_squared_log_error=-0.067, neg_median_absolute_error=-49.405, r2=0.439, total=  10.3s\n",
      "[CV] bootstrap=True, criterion=mse, max_depth=None, max_features=auto, min_samples_leaf=2, min_samples_split=5, min_weight_fraction_leaf=0.0, n_estimators=200, n_jobs=-1, verbose=1, warm_start=False \n"
     ]
    },
    {
     "name": "stderr",
     "output_type": "stream",
     "text": [
      "[Parallel(n_jobs=-1)]: Done 190 tasks      | elapsed:    0.9s\n",
      "[Parallel(n_jobs=-1)]: Done 200 out of 200 | elapsed:    1.0s finished\n",
      "[Parallel(n_jobs=4)]: Using backend ThreadingBackend with 4 concurrent workers.\n",
      "[Parallel(n_jobs=4)]: Done  42 tasks      | elapsed:    0.0s\n",
      "[Parallel(n_jobs=4)]: Done 192 tasks      | elapsed:    0.1s\n",
      "[Parallel(n_jobs=4)]: Done 200 out of 200 | elapsed:    0.1s finished\n"
     ]
    },
    {
     "name": "stdout",
     "output_type": "stream",
     "text": [
      "[CV]  bootstrap=True, criterion=mse, max_depth=None, max_features=auto, min_samples_leaf=2, min_samples_split=5, min_weight_fraction_leaf=0.0, n_estimators=200, n_jobs=-1, verbose=1, warm_start=False, explained_variance=0.363, neg_mean_absolute_error=-61.861, neg_mean_squared_error=-6022.552, neg_mean_squared_log_error=-0.025, neg_median_absolute_error=-52.655, r2=0.362, total=   1.2s\n",
      "[CV] bootstrap=True, criterion=mse, max_depth=None, max_features=auto, min_samples_leaf=2, min_samples_split=5, min_weight_fraction_leaf=0.0, n_estimators=200, n_jobs=-1, verbose=1, warm_start=False \n"
     ]
    },
    {
     "name": "stderr",
     "output_type": "stream",
     "text": [
      "[Parallel(n_jobs=-1)]: Using backend LokyBackend with 4 concurrent workers.\n",
      "[Parallel(n_jobs=-1)]: Done 179 tasks      | elapsed:    0.9s\n",
      "[Parallel(n_jobs=-1)]: Done 200 out of 200 | elapsed:    1.0s finished\n",
      "[Parallel(n_jobs=4)]: Using backend ThreadingBackend with 4 concurrent workers.\n",
      "[Parallel(n_jobs=4)]: Done  42 tasks      | elapsed:    0.0s\n",
      "[Parallel(n_jobs=4)]: Done 192 tasks      | elapsed:    0.1s\n",
      "[Parallel(n_jobs=4)]: Done 200 out of 200 | elapsed:    0.1s finished\n"
     ]
    },
    {
     "name": "stdout",
     "output_type": "stream",
     "text": [
      "[CV]  bootstrap=True, criterion=mse, max_depth=None, max_features=auto, min_samples_leaf=2, min_samples_split=5, min_weight_fraction_leaf=0.0, n_estimators=200, n_jobs=-1, verbose=1, warm_start=False, explained_variance=0.436, neg_mean_absolute_error=-60.007, neg_mean_squared_error=-5898.775, neg_mean_squared_log_error=-0.068, neg_median_absolute_error=-50.106, r2=0.436, total=   1.3s\n",
      "[CV] bootstrap=True, criterion=mse, max_depth=None, max_features=auto, min_samples_leaf=2, min_samples_split=5, min_weight_fraction_leaf=0.0, n_estimators=2000, n_jobs=-1, verbose=1, warm_start=False \n"
     ]
    },
    {
     "name": "stderr",
     "output_type": "stream",
     "text": [
      "[Parallel(n_jobs=-1)]: Using backend LokyBackend with 4 concurrent workers.\n",
      "[Parallel(n_jobs=-1)]: Done 200 tasks      | elapsed:    1.1s\n",
      "[Parallel(n_jobs=-1)]: Done 1400 tasks      | elapsed:    6.8s\n",
      "[Parallel(n_jobs=-1)]: Done 2000 out of 2000 | elapsed:    9.5s finished\n",
      "[Parallel(n_jobs=4)]: Using backend ThreadingBackend with 4 concurrent workers.\n",
      "[Parallel(n_jobs=4)]: Done  42 tasks      | elapsed:    0.0s\n",
      "[Parallel(n_jobs=4)]: Done 192 tasks      | elapsed:    0.1s\n",
      "[Parallel(n_jobs=4)]: Done 442 tasks      | elapsed:    0.2s\n",
      "[Parallel(n_jobs=4)]: Done 792 tasks      | elapsed:    0.3s\n",
      "[Parallel(n_jobs=4)]: Done 1242 tasks      | elapsed:    0.4s\n",
      "[Parallel(n_jobs=4)]: Done 1792 tasks      | elapsed:    0.6s\n",
      "[Parallel(n_jobs=4)]: Done 2000 out of 2000 | elapsed:    0.7s finished\n"
     ]
    },
    {
     "name": "stdout",
     "output_type": "stream",
     "text": [
      "[CV]  bootstrap=True, criterion=mse, max_depth=None, max_features=auto, min_samples_leaf=2, min_samples_split=5, min_weight_fraction_leaf=0.0, n_estimators=2000, n_jobs=-1, verbose=1, warm_start=False, explained_variance=0.365, neg_mean_absolute_error=-61.686, neg_mean_squared_error=-5998.738, neg_mean_squared_log_error=-0.025, neg_median_absolute_error=-52.404, r2=0.365, total=  11.4s\n",
      "[CV] bootstrap=True, criterion=mse, max_depth=None, max_features=auto, min_samples_leaf=2, min_samples_split=5, min_weight_fraction_leaf=0.0, n_estimators=2000, n_jobs=-1, verbose=1, warm_start=False \n"
     ]
    },
    {
     "name": "stderr",
     "output_type": "stream",
     "text": [
      "[Parallel(n_jobs=-1)]: Using backend LokyBackend with 4 concurrent workers.\n",
      "[Parallel(n_jobs=-1)]: Done 280 tasks      | elapsed:    1.3s\n",
      "[Parallel(n_jobs=-1)]: Done 2000 out of 2000 | elapsed:    8.9s finished\n",
      "[Parallel(n_jobs=4)]: Using backend ThreadingBackend with 4 concurrent workers.\n",
      "[Parallel(n_jobs=4)]: Done  42 tasks      | elapsed:    0.0s\n",
      "[Parallel(n_jobs=4)]: Done 192 tasks      | elapsed:    0.1s\n",
      "[Parallel(n_jobs=4)]: Done 442 tasks      | elapsed:    0.1s\n",
      "[Parallel(n_jobs=4)]: Done 792 tasks      | elapsed:    0.3s\n",
      "[Parallel(n_jobs=4)]: Done 1242 tasks      | elapsed:    0.4s\n",
      "[Parallel(n_jobs=4)]: Done 1792 tasks      | elapsed:    0.6s\n",
      "[Parallel(n_jobs=4)]: Done 2000 out of 2000 | elapsed:    0.6s finished\n"
     ]
    },
    {
     "name": "stdout",
     "output_type": "stream",
     "text": [
      "[CV]  bootstrap=True, criterion=mse, max_depth=None, max_features=auto, min_samples_leaf=2, min_samples_split=5, min_weight_fraction_leaf=0.0, n_estimators=2000, n_jobs=-1, verbose=1, warm_start=False, explained_variance=0.440, neg_mean_absolute_error=-59.781, neg_mean_squared_error=-5865.299, neg_mean_squared_log_error=-0.067, neg_median_absolute_error=-49.483, r2=0.440, total=  10.9s\n",
      "[CV] bootstrap=True, criterion=mse, max_depth=None, max_features=auto, min_samples_leaf=2, min_samples_split=10, min_weight_fraction_leaf=0.0, n_estimators=200, n_jobs=-1, verbose=1, warm_start=False \n"
     ]
    },
    {
     "name": "stderr",
     "output_type": "stream",
     "text": [
      "[Parallel(n_jobs=-1)]: Using backend LokyBackend with 4 concurrent workers.\n",
      "[Parallel(n_jobs=-1)]: Done 190 tasks      | elapsed:    0.8s\n",
      "[Parallel(n_jobs=-1)]: Done 200 out of 200 | elapsed:    0.9s finished\n",
      "[Parallel(n_jobs=4)]: Using backend ThreadingBackend with 4 concurrent workers.\n",
      "[Parallel(n_jobs=4)]: Done  42 tasks      | elapsed:    0.0s\n",
      "[Parallel(n_jobs=4)]: Done 192 tasks      | elapsed:    0.1s\n",
      "[Parallel(n_jobs=4)]: Done 200 out of 200 | elapsed:    0.1s finished\n"
     ]
    },
    {
     "name": "stdout",
     "output_type": "stream",
     "text": [
      "[CV]  bootstrap=True, criterion=mse, max_depth=None, max_features=auto, min_samples_leaf=2, min_samples_split=10, min_weight_fraction_leaf=0.0, n_estimators=200, n_jobs=-1, verbose=1, warm_start=False, explained_variance=0.370, neg_mean_absolute_error=-61.521, neg_mean_squared_error=-5954.253, neg_mean_squared_log_error=-0.025, neg_median_absolute_error=-52.087, r2=0.369, total=   1.1s\n",
      "[CV] bootstrap=True, criterion=mse, max_depth=None, max_features=auto, min_samples_leaf=2, min_samples_split=10, min_weight_fraction_leaf=0.0, n_estimators=200, n_jobs=-1, verbose=1, warm_start=False \n"
     ]
    },
    {
     "name": "stderr",
     "output_type": "stream",
     "text": [
      "[Parallel(n_jobs=-1)]: Using backend LokyBackend with 4 concurrent workers.\n",
      "[Parallel(n_jobs=-1)]: Done 175 tasks      | elapsed:    0.9s\n",
      "[Parallel(n_jobs=-1)]: Done 200 out of 200 | elapsed:    1.0s finished\n",
      "[Parallel(n_jobs=4)]: Using backend ThreadingBackend with 4 concurrent workers.\n",
      "[Parallel(n_jobs=4)]: Done  42 tasks      | elapsed:    0.0s\n",
      "[Parallel(n_jobs=4)]: Done 192 tasks      | elapsed:    0.1s\n",
      "[Parallel(n_jobs=4)]: Done 200 out of 200 | elapsed:    0.1s finished\n"
     ]
    },
    {
     "name": "stdout",
     "output_type": "stream",
     "text": [
      "[CV]  bootstrap=True, criterion=mse, max_depth=None, max_features=auto, min_samples_leaf=2, min_samples_split=10, min_weight_fraction_leaf=0.0, n_estimators=200, n_jobs=-1, verbose=1, warm_start=False, explained_variance=0.446, neg_mean_absolute_error=-59.398, neg_mean_squared_error=-5800.038, neg_mean_squared_log_error=-0.067, neg_median_absolute_error=-49.250, r2=0.446, total=   1.2s\n",
      "[CV] bootstrap=True, criterion=mse, max_depth=None, max_features=auto, min_samples_leaf=2, min_samples_split=10, min_weight_fraction_leaf=0.0, n_estimators=2000, n_jobs=-1, verbose=1, warm_start=False \n"
     ]
    },
    {
     "name": "stderr",
     "output_type": "stream",
     "text": [
      "[Parallel(n_jobs=-1)]: Using backend LokyBackend with 4 concurrent workers.\n",
      "[Parallel(n_jobs=-1)]: Done 200 tasks      | elapsed:    1.0s\n",
      "[Parallel(n_jobs=-1)]: Done 1400 tasks      | elapsed:    6.2s\n",
      "[Parallel(n_jobs=-1)]: Done 2000 out of 2000 | elapsed:    8.9s finished\n",
      "[Parallel(n_jobs=4)]: Using backend ThreadingBackend with 4 concurrent workers.\n",
      "[Parallel(n_jobs=4)]: Done  42 tasks      | elapsed:    0.0s\n",
      "[Parallel(n_jobs=4)]: Done 192 tasks      | elapsed:    0.1s\n",
      "[Parallel(n_jobs=4)]: Done 442 tasks      | elapsed:    0.1s\n",
      "[Parallel(n_jobs=4)]: Done 792 tasks      | elapsed:    0.2s\n",
      "[Parallel(n_jobs=4)]: Done 1242 tasks      | elapsed:    0.4s\n",
      "[Parallel(n_jobs=4)]: Done 1792 tasks      | elapsed:    0.6s\n",
      "[Parallel(n_jobs=4)]: Done 2000 out of 2000 | elapsed:    0.7s finished\n"
     ]
    },
    {
     "name": "stdout",
     "output_type": "stream",
     "text": [
      "[CV]  bootstrap=True, criterion=mse, max_depth=None, max_features=auto, min_samples_leaf=2, min_samples_split=10, min_weight_fraction_leaf=0.0, n_estimators=2000, n_jobs=-1, verbose=1, warm_start=False, explained_variance=0.370, neg_mean_absolute_error=-61.532, neg_mean_squared_error=-5952.386, neg_mean_squared_log_error=-0.025, neg_median_absolute_error=-52.434, r2=0.369, total=  10.8s\n",
      "[CV] bootstrap=True, criterion=mse, max_depth=None, max_features=auto, min_samples_leaf=2, min_samples_split=10, min_weight_fraction_leaf=0.0, n_estimators=2000, n_jobs=-1, verbose=1, warm_start=False \n"
     ]
    },
    {
     "name": "stderr",
     "output_type": "stream",
     "text": [
      "[Parallel(n_jobs=-1)]: Using backend LokyBackend with 4 concurrent workers.\n",
      "[Parallel(n_jobs=-1)]: Done 280 tasks      | elapsed:    1.3s\n",
      "[Parallel(n_jobs=-1)]: Done 2000 out of 2000 | elapsed:    7.8s finished\n",
      "[Parallel(n_jobs=4)]: Using backend ThreadingBackend with 4 concurrent workers.\n",
      "[Parallel(n_jobs=4)]: Done  42 tasks      | elapsed:    0.0s\n",
      "[Parallel(n_jobs=4)]: Done 192 tasks      | elapsed:    0.1s\n",
      "[Parallel(n_jobs=4)]: Done 442 tasks      | elapsed:    0.2s\n",
      "[Parallel(n_jobs=4)]: Done 792 tasks      | elapsed:    0.3s\n",
      "[Parallel(n_jobs=4)]: Done 1242 tasks      | elapsed:    0.4s\n",
      "[Parallel(n_jobs=4)]: Done 1792 tasks      | elapsed:    0.6s\n",
      "[Parallel(n_jobs=4)]: Done 2000 out of 2000 | elapsed:    0.7s finished\n"
     ]
    },
    {
     "name": "stdout",
     "output_type": "stream",
     "text": [
      "[CV]  bootstrap=True, criterion=mse, max_depth=None, max_features=auto, min_samples_leaf=2, min_samples_split=10, min_weight_fraction_leaf=0.0, n_estimators=2000, n_jobs=-1, verbose=1, warm_start=False, explained_variance=0.446, neg_mean_absolute_error=-59.387, neg_mean_squared_error=-5800.018, neg_mean_squared_log_error=-0.067, neg_median_absolute_error=-49.360, r2=0.446, total=   9.8s\n",
      "[CV] bootstrap=True, criterion=mse, max_depth=None, max_features=auto, min_samples_leaf=4, min_samples_split=2, min_weight_fraction_leaf=0.0, n_estimators=200, n_jobs=-1, verbose=1, warm_start=False \n"
     ]
    },
    {
     "name": "stderr",
     "output_type": "stream",
     "text": [
      "[Parallel(n_jobs=-1)]: Using backend LokyBackend with 4 concurrent workers.\n",
      "[Parallel(n_jobs=-1)]: Done 190 tasks      | elapsed:    0.8s\n",
      "[Parallel(n_jobs=-1)]: Done 200 out of 200 | elapsed:    0.8s finished\n",
      "[Parallel(n_jobs=4)]: Using backend ThreadingBackend with 4 concurrent workers.\n",
      "[Parallel(n_jobs=4)]: Done  42 tasks      | elapsed:    0.0s\n",
      "[Parallel(n_jobs=4)]: Done 192 tasks      | elapsed:    0.1s\n",
      "[Parallel(n_jobs=4)]: Done 200 out of 200 | elapsed:    0.1s finished\n"
     ]
    },
    {
     "name": "stdout",
     "output_type": "stream",
     "text": [
      "[CV]  bootstrap=True, criterion=mse, max_depth=None, max_features=auto, min_samples_leaf=4, min_samples_split=2, min_weight_fraction_leaf=0.0, n_estimators=200, n_jobs=-1, verbose=1, warm_start=False, explained_variance=0.365, neg_mean_absolute_error=-61.734, neg_mean_squared_error=-6000.442, neg_mean_squared_log_error=-0.025, neg_median_absolute_error=-52.343, r2=0.364, total=   1.1s\n",
      "[CV] bootstrap=True, criterion=mse, max_depth=None, max_features=auto, min_samples_leaf=4, min_samples_split=2, min_weight_fraction_leaf=0.0, n_estimators=200, n_jobs=-1, verbose=1, warm_start=False \n"
     ]
    },
    {
     "name": "stderr",
     "output_type": "stream",
     "text": [
      "[Parallel(n_jobs=-1)]: Using backend LokyBackend with 4 concurrent workers.\n",
      "[Parallel(n_jobs=-1)]: Done 190 tasks      | elapsed:    0.8s\n",
      "[Parallel(n_jobs=-1)]: Done 200 out of 200 | elapsed:    0.8s finished\n",
      "[Parallel(n_jobs=4)]: Using backend ThreadingBackend with 4 concurrent workers.\n",
      "[Parallel(n_jobs=4)]: Done  42 tasks      | elapsed:    0.0s\n",
      "[Parallel(n_jobs=4)]: Done 192 tasks      | elapsed:    0.1s\n",
      "[Parallel(n_jobs=4)]: Done 200 out of 200 | elapsed:    0.1s finished\n"
     ]
    },
    {
     "name": "stdout",
     "output_type": "stream",
     "text": [
      "[CV]  bootstrap=True, criterion=mse, max_depth=None, max_features=auto, min_samples_leaf=4, min_samples_split=2, min_weight_fraction_leaf=0.0, n_estimators=200, n_jobs=-1, verbose=1, warm_start=False, explained_variance=0.445, neg_mean_absolute_error=-59.455, neg_mean_squared_error=-5808.588, neg_mean_squared_log_error=-0.067, neg_median_absolute_error=-49.746, r2=0.445, total=   1.1s\n",
      "[CV] bootstrap=True, criterion=mse, max_depth=None, max_features=auto, min_samples_leaf=4, min_samples_split=2, min_weight_fraction_leaf=0.0, n_estimators=2000, n_jobs=-1, verbose=1, warm_start=False \n"
     ]
    },
    {
     "name": "stderr",
     "output_type": "stream",
     "text": [
      "[Parallel(n_jobs=-1)]: Using backend LokyBackend with 4 concurrent workers.\n",
      "[Parallel(n_jobs=-1)]: Done 200 tasks      | elapsed:    0.9s\n",
      "[Parallel(n_jobs=-1)]: Done 1400 tasks      | elapsed:    5.7s\n",
      "[Parallel(n_jobs=-1)]: Done 2000 out of 2000 | elapsed:    8.0s finished\n",
      "[Parallel(n_jobs=4)]: Using backend ThreadingBackend with 4 concurrent workers.\n",
      "[Parallel(n_jobs=4)]: Done  42 tasks      | elapsed:    0.0s\n",
      "[Parallel(n_jobs=4)]: Done 192 tasks      | elapsed:    0.1s\n",
      "[Parallel(n_jobs=4)]: Done 442 tasks      | elapsed:    0.1s\n",
      "[Parallel(n_jobs=4)]: Done 792 tasks      | elapsed:    0.2s\n",
      "[Parallel(n_jobs=4)]: Done 1242 tasks      | elapsed:    0.4s\n",
      "[Parallel(n_jobs=4)]: Done 1792 tasks      | elapsed:    0.5s\n",
      "[Parallel(n_jobs=4)]: Done 2000 out of 2000 | elapsed:    0.6s finished\n"
     ]
    },
    {
     "name": "stdout",
     "output_type": "stream",
     "text": [
      "[CV]  bootstrap=True, criterion=mse, max_depth=None, max_features=auto, min_samples_leaf=4, min_samples_split=2, min_weight_fraction_leaf=0.0, n_estimators=2000, n_jobs=-1, verbose=1, warm_start=False, explained_variance=0.367, neg_mean_absolute_error=-61.637, neg_mean_squared_error=-5981.351, neg_mean_squared_log_error=-0.025, neg_median_absolute_error=-52.321, r2=0.366, total=   9.8s\n",
      "[CV] bootstrap=True, criterion=mse, max_depth=None, max_features=auto, min_samples_leaf=4, min_samples_split=2, min_weight_fraction_leaf=0.0, n_estimators=2000, n_jobs=-1, verbose=1, warm_start=False \n"
     ]
    },
    {
     "name": "stderr",
     "output_type": "stream",
     "text": [
      "[Parallel(n_jobs=-1)]: Using backend LokyBackend with 4 concurrent workers.\n",
      "[Parallel(n_jobs=-1)]: Done 280 tasks      | elapsed:    1.3s\n",
      "[Parallel(n_jobs=-1)]: Done 2000 out of 2000 | elapsed:    7.6s finished\n",
      "[Parallel(n_jobs=4)]: Using backend ThreadingBackend with 4 concurrent workers.\n",
      "[Parallel(n_jobs=4)]: Done  42 tasks      | elapsed:    0.0s\n",
      "[Parallel(n_jobs=4)]: Done 192 tasks      | elapsed:    0.1s\n",
      "[Parallel(n_jobs=4)]: Done 442 tasks      | elapsed:    0.2s\n",
      "[Parallel(n_jobs=4)]: Done 792 tasks      | elapsed:    0.3s\n",
      "[Parallel(n_jobs=4)]: Done 1242 tasks      | elapsed:    0.4s\n",
      "[Parallel(n_jobs=4)]: Done 1792 tasks      | elapsed:    0.6s\n",
      "[Parallel(n_jobs=4)]: Done 2000 out of 2000 | elapsed:    0.7s finished\n"
     ]
    },
    {
     "name": "stdout",
     "output_type": "stream",
     "text": [
      "[CV]  bootstrap=True, criterion=mse, max_depth=None, max_features=auto, min_samples_leaf=4, min_samples_split=2, min_weight_fraction_leaf=0.0, n_estimators=2000, n_jobs=-1, verbose=1, warm_start=False, explained_variance=0.447, neg_mean_absolute_error=-59.332, neg_mean_squared_error=-5788.484, neg_mean_squared_log_error=-0.067, neg_median_absolute_error=-49.352, r2=0.447, total=   9.6s\n",
      "[CV] bootstrap=True, criterion=mse, max_depth=None, max_features=auto, min_samples_leaf=4, min_samples_split=5, min_weight_fraction_leaf=0.0, n_estimators=200, n_jobs=-1, verbose=1, warm_start=False \n"
     ]
    },
    {
     "name": "stderr",
     "output_type": "stream",
     "text": [
      "[Parallel(n_jobs=-1)]: Using backend LokyBackend with 4 concurrent workers.\n",
      "[Parallel(n_jobs=-1)]: Done 190 tasks      | elapsed:    0.8s\n",
      "[Parallel(n_jobs=-1)]: Done 200 out of 200 | elapsed:    0.9s finished\n",
      "[Parallel(n_jobs=4)]: Using backend ThreadingBackend with 4 concurrent workers.\n",
      "[Parallel(n_jobs=4)]: Done  42 tasks      | elapsed:    0.0s\n",
      "[Parallel(n_jobs=4)]: Done 192 tasks      | elapsed:    0.1s\n",
      "[Parallel(n_jobs=4)]: Done 200 out of 200 | elapsed:    0.1s finished\n"
     ]
    },
    {
     "name": "stdout",
     "output_type": "stream",
     "text": [
      "[CV]  bootstrap=True, criterion=mse, max_depth=None, max_features=auto, min_samples_leaf=4, min_samples_split=5, min_weight_fraction_leaf=0.0, n_estimators=200, n_jobs=-1, verbose=1, warm_start=False, explained_variance=0.365, neg_mean_absolute_error=-61.682, neg_mean_squared_error=-5996.657, neg_mean_squared_log_error=-0.025, neg_median_absolute_error=-53.289, r2=0.365, total=   1.1s\n",
      "[CV] bootstrap=True, criterion=mse, max_depth=None, max_features=auto, min_samples_leaf=4, min_samples_split=5, min_weight_fraction_leaf=0.0, n_estimators=200, n_jobs=-1, verbose=1, warm_start=False \n"
     ]
    },
    {
     "name": "stderr",
     "output_type": "stream",
     "text": [
      "[Parallel(n_jobs=-1)]: Using backend LokyBackend with 4 concurrent workers.\n",
      "[Parallel(n_jobs=-1)]: Done 186 tasks      | elapsed:    0.8s\n",
      "[Parallel(n_jobs=-1)]: Done 200 out of 200 | elapsed:    0.8s finished\n",
      "[Parallel(n_jobs=4)]: Using backend ThreadingBackend with 4 concurrent workers.\n",
      "[Parallel(n_jobs=4)]: Done  42 tasks      | elapsed:    0.0s\n",
      "[Parallel(n_jobs=4)]: Done 192 tasks      | elapsed:    0.1s\n",
      "[Parallel(n_jobs=4)]: Done 200 out of 200 | elapsed:    0.1s finished\n"
     ]
    },
    {
     "name": "stdout",
     "output_type": "stream",
     "text": [
      "[CV]  bootstrap=True, criterion=mse, max_depth=None, max_features=auto, min_samples_leaf=4, min_samples_split=5, min_weight_fraction_leaf=0.0, n_estimators=200, n_jobs=-1, verbose=1, warm_start=False, explained_variance=0.445, neg_mean_absolute_error=-59.501, neg_mean_squared_error=-5807.438, neg_mean_squared_log_error=-0.067, neg_median_absolute_error=-48.954, r2=0.445, total=   1.1s\n",
      "[CV] bootstrap=True, criterion=mse, max_depth=None, max_features=auto, min_samples_leaf=4, min_samples_split=5, min_weight_fraction_leaf=0.0, n_estimators=2000, n_jobs=-1, verbose=1, warm_start=False \n"
     ]
    },
    {
     "name": "stderr",
     "output_type": "stream",
     "text": [
      "[Parallel(n_jobs=-1)]: Using backend LokyBackend with 4 concurrent workers.\n",
      "[Parallel(n_jobs=-1)]: Done 280 tasks      | elapsed:    1.3s\n",
      "[Parallel(n_jobs=-1)]: Done 2000 out of 2000 | elapsed:    7.9s finished\n",
      "[Parallel(n_jobs=4)]: Using backend ThreadingBackend with 4 concurrent workers.\n",
      "[Parallel(n_jobs=4)]: Done  42 tasks      | elapsed:    0.0s\n",
      "[Parallel(n_jobs=4)]: Done 192 tasks      | elapsed:    0.1s\n",
      "[Parallel(n_jobs=4)]: Done 442 tasks      | elapsed:    0.2s\n",
      "[Parallel(n_jobs=4)]: Done 792 tasks      | elapsed:    0.3s\n",
      "[Parallel(n_jobs=4)]: Done 1242 tasks      | elapsed:    0.5s\n",
      "[Parallel(n_jobs=4)]: Done 1792 tasks      | elapsed:    0.6s\n",
      "[Parallel(n_jobs=4)]: Done 2000 out of 2000 | elapsed:    0.7s finished\n"
     ]
    },
    {
     "name": "stdout",
     "output_type": "stream",
     "text": [
      "[CV]  bootstrap=True, criterion=mse, max_depth=None, max_features=auto, min_samples_leaf=4, min_samples_split=5, min_weight_fraction_leaf=0.0, n_estimators=2000, n_jobs=-1, verbose=1, warm_start=False, explained_variance=0.367, neg_mean_absolute_error=-61.635, neg_mean_squared_error=-5977.734, neg_mean_squared_log_error=-0.025, neg_median_absolute_error=-52.300, r2=0.367, total=  10.0s\n",
      "[CV] bootstrap=True, criterion=mse, max_depth=None, max_features=auto, min_samples_leaf=4, min_samples_split=5, min_weight_fraction_leaf=0.0, n_estimators=2000, n_jobs=-1, verbose=1, warm_start=False \n"
     ]
    },
    {
     "name": "stderr",
     "output_type": "stream",
     "text": [
      "[Parallel(n_jobs=-1)]: Using backend LokyBackend with 4 concurrent workers.\n",
      "[Parallel(n_jobs=-1)]: Done 200 tasks      | elapsed:    0.9s\n",
      "[Parallel(n_jobs=-1)]: Done 1400 tasks      | elapsed:    5.4s\n",
      "[Parallel(n_jobs=-1)]: Done 2000 out of 2000 | elapsed:    7.6s finished\n",
      "[Parallel(n_jobs=4)]: Using backend ThreadingBackend with 4 concurrent workers.\n",
      "[Parallel(n_jobs=4)]: Done  42 tasks      | elapsed:    0.0s\n",
      "[Parallel(n_jobs=4)]: Done 192 tasks      | elapsed:    0.1s\n",
      "[Parallel(n_jobs=4)]: Done 442 tasks      | elapsed:    0.2s\n",
      "[Parallel(n_jobs=4)]: Done 792 tasks      | elapsed:    0.3s\n",
      "[Parallel(n_jobs=4)]: Done 1242 tasks      | elapsed:    0.5s\n",
      "[Parallel(n_jobs=4)]: Done 1792 tasks      | elapsed:    0.7s\n",
      "[Parallel(n_jobs=4)]: Done 2000 out of 2000 | elapsed:    0.7s finished\n"
     ]
    },
    {
     "name": "stdout",
     "output_type": "stream",
     "text": [
      "[CV]  bootstrap=True, criterion=mse, max_depth=None, max_features=auto, min_samples_leaf=4, min_samples_split=5, min_weight_fraction_leaf=0.0, n_estimators=2000, n_jobs=-1, verbose=1, warm_start=False, explained_variance=0.448, neg_mean_absolute_error=-59.318, neg_mean_squared_error=-5780.131, neg_mean_squared_log_error=-0.067, neg_median_absolute_error=-49.219, r2=0.448, total=   9.7s\n",
      "[CV] bootstrap=True, criterion=mse, max_depth=None, max_features=auto, min_samples_leaf=4, min_samples_split=10, min_weight_fraction_leaf=0.0, n_estimators=200, n_jobs=-1, verbose=1, warm_start=False \n"
     ]
    },
    {
     "name": "stderr",
     "output_type": "stream",
     "text": [
      "[Parallel(n_jobs=-1)]: Using backend LokyBackend with 4 concurrent workers.\n",
      "[Parallel(n_jobs=-1)]: Done 160 tasks      | elapsed:    0.8s\n",
      "[Parallel(n_jobs=-1)]: Done 200 out of 200 | elapsed:    0.8s finished\n",
      "[Parallel(n_jobs=4)]: Using backend ThreadingBackend with 4 concurrent workers.\n",
      "[Parallel(n_jobs=4)]: Done  42 tasks      | elapsed:    0.0s\n",
      "[Parallel(n_jobs=4)]: Done 192 tasks      | elapsed:    0.1s\n",
      "[Parallel(n_jobs=4)]: Done 200 out of 200 | elapsed:    0.1s finished\n"
     ]
    },
    {
     "name": "stdout",
     "output_type": "stream",
     "text": [
      "[CV]  bootstrap=True, criterion=mse, max_depth=None, max_features=auto, min_samples_leaf=4, min_samples_split=10, min_weight_fraction_leaf=0.0, n_estimators=200, n_jobs=-1, verbose=1, warm_start=False, explained_variance=0.365, neg_mean_absolute_error=-61.719, neg_mean_squared_error=-6000.109, neg_mean_squared_log_error=-0.025, neg_median_absolute_error=-52.393, r2=0.364, total=   1.1s\n",
      "[CV] bootstrap=True, criterion=mse, max_depth=None, max_features=auto, min_samples_leaf=4, min_samples_split=10, min_weight_fraction_leaf=0.0, n_estimators=200, n_jobs=-1, verbose=1, warm_start=False \n"
     ]
    },
    {
     "name": "stderr",
     "output_type": "stream",
     "text": [
      "[Parallel(n_jobs=-1)]: Using backend LokyBackend with 4 concurrent workers.\n",
      "[Parallel(n_jobs=-1)]: Done 190 tasks      | elapsed:    0.7s\n",
      "[Parallel(n_jobs=-1)]: Done 200 out of 200 | elapsed:    0.7s finished\n",
      "[Parallel(n_jobs=4)]: Using backend ThreadingBackend with 4 concurrent workers.\n",
      "[Parallel(n_jobs=4)]: Done  42 tasks      | elapsed:    0.0s\n",
      "[Parallel(n_jobs=4)]: Done 192 tasks      | elapsed:    0.1s\n",
      "[Parallel(n_jobs=4)]: Done 200 out of 200 | elapsed:    0.1s finished\n"
     ]
    },
    {
     "name": "stdout",
     "output_type": "stream",
     "text": [
      "[CV]  bootstrap=True, criterion=mse, max_depth=None, max_features=auto, min_samples_leaf=4, min_samples_split=10, min_weight_fraction_leaf=0.0, n_estimators=200, n_jobs=-1, verbose=1, warm_start=False, explained_variance=0.448, neg_mean_absolute_error=-59.342, neg_mean_squared_error=-5777.636, neg_mean_squared_log_error=-0.067, neg_median_absolute_error=-48.969, r2=0.448, total=   1.0s\n",
      "[CV] bootstrap=True, criterion=mse, max_depth=None, max_features=auto, min_samples_leaf=4, min_samples_split=10, min_weight_fraction_leaf=0.0, n_estimators=2000, n_jobs=-1, verbose=1, warm_start=False \n"
     ]
    },
    {
     "name": "stderr",
     "output_type": "stream",
     "text": [
      "[Parallel(n_jobs=-1)]: Using backend LokyBackend with 4 concurrent workers.\n",
      "[Parallel(n_jobs=-1)]: Done 280 tasks      | elapsed:    1.2s\n",
      "[Parallel(n_jobs=-1)]: Done 2000 out of 2000 | elapsed:    7.8s finished\n",
      "[Parallel(n_jobs=4)]: Using backend ThreadingBackend with 4 concurrent workers.\n",
      "[Parallel(n_jobs=4)]: Done  42 tasks      | elapsed:    0.0s\n",
      "[Parallel(n_jobs=4)]: Done 192 tasks      | elapsed:    0.1s\n",
      "[Parallel(n_jobs=4)]: Done 442 tasks      | elapsed:    0.1s\n",
      "[Parallel(n_jobs=4)]: Done 792 tasks      | elapsed:    0.3s\n",
      "[Parallel(n_jobs=4)]: Done 1242 tasks      | elapsed:    0.4s\n",
      "[Parallel(n_jobs=4)]: Done 1792 tasks      | elapsed:    0.6s\n",
      "[Parallel(n_jobs=4)]: Done 2000 out of 2000 | elapsed:    0.6s finished\n"
     ]
    },
    {
     "name": "stdout",
     "output_type": "stream",
     "text": [
      "[CV]  bootstrap=True, criterion=mse, max_depth=None, max_features=auto, min_samples_leaf=4, min_samples_split=10, min_weight_fraction_leaf=0.0, n_estimators=2000, n_jobs=-1, verbose=1, warm_start=False, explained_variance=0.369, neg_mean_absolute_error=-61.530, neg_mean_squared_error=-5957.329, neg_mean_squared_log_error=-0.025, neg_median_absolute_error=-52.549, r2=0.369, total=   9.7s\n",
      "[CV] bootstrap=True, criterion=mse, max_depth=None, max_features=auto, min_samples_leaf=4, min_samples_split=10, min_weight_fraction_leaf=0.0, n_estimators=2000, n_jobs=-1, verbose=1, warm_start=False \n"
     ]
    },
    {
     "name": "stderr",
     "output_type": "stream",
     "text": [
      "[Parallel(n_jobs=-1)]: Using backend LokyBackend with 4 concurrent workers.\n",
      "[Parallel(n_jobs=-1)]: Done 280 tasks      | elapsed:    1.1s\n",
      "[Parallel(n_jobs=-1)]: Done 2000 out of 2000 | elapsed:    6.7s finished\n",
      "[Parallel(n_jobs=4)]: Using backend ThreadingBackend with 4 concurrent workers.\n",
      "[Parallel(n_jobs=4)]: Done  42 tasks      | elapsed:    0.0s\n",
      "[Parallel(n_jobs=4)]: Done 192 tasks      | elapsed:    0.1s\n",
      "[Parallel(n_jobs=4)]: Done 442 tasks      | elapsed:    0.1s\n",
      "[Parallel(n_jobs=4)]: Done 792 tasks      | elapsed:    0.3s\n",
      "[Parallel(n_jobs=4)]: Done 1242 tasks      | elapsed:    0.4s\n",
      "[Parallel(n_jobs=4)]: Done 1792 tasks      | elapsed:    0.6s\n",
      "[Parallel(n_jobs=4)]: Done 2000 out of 2000 | elapsed:    0.6s finished\n"
     ]
    },
    {
     "name": "stdout",
     "output_type": "stream",
     "text": [
      "[CV]  bootstrap=True, criterion=mse, max_depth=None, max_features=auto, min_samples_leaf=4, min_samples_split=10, min_weight_fraction_leaf=0.0, n_estimators=2000, n_jobs=-1, verbose=1, warm_start=False, explained_variance=0.449, neg_mean_absolute_error=-59.264, neg_mean_squared_error=-5767.132, neg_mean_squared_log_error=-0.067, neg_median_absolute_error=-49.090, r2=0.449, total=   8.6s\n",
      "[CV] bootstrap=True, criterion=mse, max_depth=None, max_features=sqrt, min_samples_leaf=1, min_samples_split=2, min_weight_fraction_leaf=0.0, n_estimators=200, n_jobs=-1, verbose=1, warm_start=False \n"
     ]
    },
    {
     "name": "stderr",
     "output_type": "stream",
     "text": [
      "[Parallel(n_jobs=-1)]: Using backend LokyBackend with 4 concurrent workers.\n",
      "[Parallel(n_jobs=-1)]: Done 190 tasks      | elapsed:    0.5s\n",
      "[Parallel(n_jobs=-1)]: Done 200 out of 200 | elapsed:    0.5s finished\n",
      "[Parallel(n_jobs=4)]: Using backend ThreadingBackend with 4 concurrent workers.\n",
      "[Parallel(n_jobs=4)]: Done  42 tasks      | elapsed:    0.0s\n",
      "[Parallel(n_jobs=4)]: Done 192 tasks      | elapsed:    0.1s\n",
      "[Parallel(n_jobs=4)]: Done 200 out of 200 | elapsed:    0.1s finished\n"
     ]
    },
    {
     "name": "stdout",
     "output_type": "stream",
     "text": [
      "[CV]  bootstrap=True, criterion=mse, max_depth=None, max_features=sqrt, min_samples_leaf=1, min_samples_split=2, min_weight_fraction_leaf=0.0, n_estimators=200, n_jobs=-1, verbose=1, warm_start=False, explained_variance=0.379, neg_mean_absolute_error=-61.334, neg_mean_squared_error=-5869.738, neg_mean_squared_log_error=-0.025, neg_median_absolute_error=-53.549, r2=0.378, total=   0.8s\n",
      "[CV] bootstrap=True, criterion=mse, max_depth=None, max_features=sqrt, min_samples_leaf=1, min_samples_split=2, min_weight_fraction_leaf=0.0, n_estimators=200, n_jobs=-1, verbose=1, warm_start=False \n"
     ]
    },
    {
     "name": "stderr",
     "output_type": "stream",
     "text": [
      "[Parallel(n_jobs=-1)]: Using backend LokyBackend with 4 concurrent workers.\n",
      "[Parallel(n_jobs=-1)]: Done 175 tasks      | elapsed:    0.5s\n",
      "[Parallel(n_jobs=-1)]: Done 200 out of 200 | elapsed:    0.5s finished\n",
      "[Parallel(n_jobs=4)]: Using backend ThreadingBackend with 4 concurrent workers.\n",
      "[Parallel(n_jobs=4)]: Done  42 tasks      | elapsed:    0.0s\n",
      "[Parallel(n_jobs=4)]: Done 192 tasks      | elapsed:    0.1s\n",
      "[Parallel(n_jobs=4)]: Done 200 out of 200 | elapsed:    0.1s finished\n"
     ]
    },
    {
     "name": "stdout",
     "output_type": "stream",
     "text": [
      "[CV]  bootstrap=True, criterion=mse, max_depth=None, max_features=sqrt, min_samples_leaf=1, min_samples_split=2, min_weight_fraction_leaf=0.0, n_estimators=200, n_jobs=-1, verbose=1, warm_start=False, explained_variance=0.444, neg_mean_absolute_error=-59.472, neg_mean_squared_error=-5821.290, neg_mean_squared_log_error=-0.067, neg_median_absolute_error=-49.761, r2=0.444, total=   0.8s\n",
      "[CV] bootstrap=True, criterion=mse, max_depth=None, max_features=sqrt, min_samples_leaf=1, min_samples_split=2, min_weight_fraction_leaf=0.0, n_estimators=2000, n_jobs=-1, verbose=1, warm_start=False \n"
     ]
    },
    {
     "name": "stderr",
     "output_type": "stream",
     "text": [
      "[Parallel(n_jobs=-1)]: Using backend LokyBackend with 4 concurrent workers.\n",
      "[Parallel(n_jobs=-1)]: Done 312 tasks      | elapsed:    0.9s\n",
      "[Parallel(n_jobs=-1)]: Done 2000 out of 2000 | elapsed:    4.6s finished\n",
      "[Parallel(n_jobs=4)]: Using backend ThreadingBackend with 4 concurrent workers.\n",
      "[Parallel(n_jobs=4)]: Done  42 tasks      | elapsed:    0.0s\n",
      "[Parallel(n_jobs=4)]: Done 192 tasks      | elapsed:    0.1s\n",
      "[Parallel(n_jobs=4)]: Done 442 tasks      | elapsed:    0.1s\n",
      "[Parallel(n_jobs=4)]: Done 792 tasks      | elapsed:    0.2s\n",
      "[Parallel(n_jobs=4)]: Done 1242 tasks      | elapsed:    0.4s\n",
      "[Parallel(n_jobs=4)]: Done 1792 tasks      | elapsed:    0.5s\n",
      "[Parallel(n_jobs=4)]: Done 2000 out of 2000 | elapsed:    0.6s finished\n"
     ]
    },
    {
     "name": "stdout",
     "output_type": "stream",
     "text": [
      "[CV]  bootstrap=True, criterion=mse, max_depth=None, max_features=sqrt, min_samples_leaf=1, min_samples_split=2, min_weight_fraction_leaf=0.0, n_estimators=2000, n_jobs=-1, verbose=1, warm_start=False, explained_variance=0.384, neg_mean_absolute_error=-61.100, neg_mean_squared_error=-5819.855, neg_mean_squared_log_error=-0.024, neg_median_absolute_error=-52.884, r2=0.384, total=   6.4s\n",
      "[CV] bootstrap=True, criterion=mse, max_depth=None, max_features=sqrt, min_samples_leaf=1, min_samples_split=2, min_weight_fraction_leaf=0.0, n_estimators=2000, n_jobs=-1, verbose=1, warm_start=False \n"
     ]
    },
    {
     "name": "stderr",
     "output_type": "stream",
     "text": [
      "[Parallel(n_jobs=-1)]: Using backend LokyBackend with 4 concurrent workers.\n",
      "[Parallel(n_jobs=-1)]: Done 312 tasks      | elapsed:    0.9s\n",
      "[Parallel(n_jobs=-1)]: Done 2000 out of 2000 | elapsed:    4.8s finished\n",
      "[Parallel(n_jobs=4)]: Using backend ThreadingBackend with 4 concurrent workers.\n",
      "[Parallel(n_jobs=4)]: Done  42 tasks      | elapsed:    0.0s\n",
      "[Parallel(n_jobs=4)]: Done 192 tasks      | elapsed:    0.1s\n",
      "[Parallel(n_jobs=4)]: Done 442 tasks      | elapsed:    0.1s\n",
      "[Parallel(n_jobs=4)]: Done 792 tasks      | elapsed:    0.2s\n",
      "[Parallel(n_jobs=4)]: Done 1242 tasks      | elapsed:    0.4s\n",
      "[Parallel(n_jobs=4)]: Done 1792 tasks      | elapsed:    0.5s\n",
      "[Parallel(n_jobs=4)]: Done 2000 out of 2000 | elapsed:    0.6s finished\n"
     ]
    },
    {
     "name": "stdout",
     "output_type": "stream",
     "text": [
      "[CV]  bootstrap=True, criterion=mse, max_depth=None, max_features=sqrt, min_samples_leaf=1, min_samples_split=2, min_weight_fraction_leaf=0.0, n_estimators=2000, n_jobs=-1, verbose=1, warm_start=False, explained_variance=0.446, neg_mean_absolute_error=-59.409, neg_mean_squared_error=-5795.828, neg_mean_squared_log_error=-0.067, neg_median_absolute_error=-50.145, r2=0.446, total=   6.5s\n",
      "[CV] bootstrap=True, criterion=mse, max_depth=None, max_features=sqrt, min_samples_leaf=1, min_samples_split=5, min_weight_fraction_leaf=0.0, n_estimators=200, n_jobs=-1, verbose=1, warm_start=False \n"
     ]
    },
    {
     "name": "stderr",
     "output_type": "stream",
     "text": [
      "[Parallel(n_jobs=-1)]: Using backend LokyBackend with 4 concurrent workers.\n",
      "[Parallel(n_jobs=-1)]: Done 190 tasks      | elapsed:    0.5s\n",
      "[Parallel(n_jobs=-1)]: Done 200 out of 200 | elapsed:    0.5s finished\n",
      "[Parallel(n_jobs=4)]: Using backend ThreadingBackend with 4 concurrent workers.\n",
      "[Parallel(n_jobs=4)]: Done  42 tasks      | elapsed:    0.0s\n",
      "[Parallel(n_jobs=4)]: Done 192 tasks      | elapsed:    0.1s\n",
      "[Parallel(n_jobs=4)]: Done 200 out of 200 | elapsed:    0.1s finished\n"
     ]
    },
    {
     "name": "stdout",
     "output_type": "stream",
     "text": [
      "[CV]  bootstrap=True, criterion=mse, max_depth=None, max_features=sqrt, min_samples_leaf=1, min_samples_split=5, min_weight_fraction_leaf=0.0, n_estimators=200, n_jobs=-1, verbose=1, warm_start=False, explained_variance=0.385, neg_mean_absolute_error=-61.077, neg_mean_squared_error=-5818.406, neg_mean_squared_log_error=-0.024, neg_median_absolute_error=-53.431, r2=0.384, total=   0.7s\n",
      "[CV] bootstrap=True, criterion=mse, max_depth=None, max_features=sqrt, min_samples_leaf=1, min_samples_split=5, min_weight_fraction_leaf=0.0, n_estimators=200, n_jobs=-1, verbose=1, warm_start=False \n"
     ]
    },
    {
     "name": "stderr",
     "output_type": "stream",
     "text": [
      "[Parallel(n_jobs=-1)]: Using backend LokyBackend with 4 concurrent workers.\n",
      "[Parallel(n_jobs=-1)]: Done 190 tasks      | elapsed:    0.4s\n",
      "[Parallel(n_jobs=-1)]: Done 200 out of 200 | elapsed:    0.4s finished\n",
      "[Parallel(n_jobs=4)]: Using backend ThreadingBackend with 4 concurrent workers.\n",
      "[Parallel(n_jobs=4)]: Done  42 tasks      | elapsed:    0.0s\n",
      "[Parallel(n_jobs=4)]: Done 192 tasks      | elapsed:    0.1s\n",
      "[Parallel(n_jobs=4)]: Done 200 out of 200 | elapsed:    0.1s finished\n"
     ]
    },
    {
     "name": "stdout",
     "output_type": "stream",
     "text": [
      "[CV]  bootstrap=True, criterion=mse, max_depth=None, max_features=sqrt, min_samples_leaf=1, min_samples_split=5, min_weight_fraction_leaf=0.0, n_estimators=200, n_jobs=-1, verbose=1, warm_start=False, explained_variance=0.447, neg_mean_absolute_error=-59.142, neg_mean_squared_error=-5782.456, neg_mean_squared_log_error=-0.067, neg_median_absolute_error=-50.301, r2=0.447, total=   0.7s\n",
      "[CV] bootstrap=True, criterion=mse, max_depth=None, max_features=sqrt, min_samples_leaf=1, min_samples_split=5, min_weight_fraction_leaf=0.0, n_estimators=2000, n_jobs=-1, verbose=1, warm_start=False \n"
     ]
    },
    {
     "name": "stderr",
     "output_type": "stream",
     "text": [
      "[Parallel(n_jobs=-1)]: Using backend LokyBackend with 4 concurrent workers.\n",
      "[Parallel(n_jobs=-1)]: Done 312 tasks      | elapsed:    0.7s\n",
      "[Parallel(n_jobs=-1)]: Done 2000 out of 2000 | elapsed:    3.7s finished\n",
      "[Parallel(n_jobs=4)]: Using backend ThreadingBackend with 4 concurrent workers.\n",
      "[Parallel(n_jobs=4)]: Done  42 tasks      | elapsed:    0.0s\n",
      "[Parallel(n_jobs=4)]: Done 192 tasks      | elapsed:    0.1s\n",
      "[Parallel(n_jobs=4)]: Done 442 tasks      | elapsed:    0.1s\n",
      "[Parallel(n_jobs=4)]: Done 792 tasks      | elapsed:    0.2s\n",
      "[Parallel(n_jobs=4)]: Done 1242 tasks      | elapsed:    0.4s\n",
      "[Parallel(n_jobs=4)]: Done 1792 tasks      | elapsed:    0.5s\n",
      "[Parallel(n_jobs=4)]: Done 2000 out of 2000 | elapsed:    0.6s finished\n"
     ]
    },
    {
     "name": "stdout",
     "output_type": "stream",
     "text": [
      "[CV]  bootstrap=True, criterion=mse, max_depth=None, max_features=sqrt, min_samples_leaf=1, min_samples_split=5, min_weight_fraction_leaf=0.0, n_estimators=2000, n_jobs=-1, verbose=1, warm_start=False, explained_variance=0.388, neg_mean_absolute_error=-60.925, neg_mean_squared_error=-5785.922, neg_mean_squared_log_error=-0.024, neg_median_absolute_error=-53.074, r2=0.387, total=   5.5s\n",
      "[CV] bootstrap=True, criterion=mse, max_depth=None, max_features=sqrt, min_samples_leaf=1, min_samples_split=5, min_weight_fraction_leaf=0.0, n_estimators=2000, n_jobs=-1, verbose=1, warm_start=False \n"
     ]
    },
    {
     "name": "stderr",
     "output_type": "stream",
     "text": [
      "[Parallel(n_jobs=-1)]: Using backend LokyBackend with 4 concurrent workers.\n",
      "[Parallel(n_jobs=-1)]: Done 312 tasks      | elapsed:    0.7s\n",
      "[Parallel(n_jobs=-1)]: Done 2000 out of 2000 | elapsed:    3.6s finished\n",
      "[Parallel(n_jobs=4)]: Using backend ThreadingBackend with 4 concurrent workers.\n",
      "[Parallel(n_jobs=4)]: Done  42 tasks      | elapsed:    0.0s\n",
      "[Parallel(n_jobs=4)]: Done 192 tasks      | elapsed:    0.1s\n",
      "[Parallel(n_jobs=4)]: Done 442 tasks      | elapsed:    0.1s\n",
      "[Parallel(n_jobs=4)]: Done 792 tasks      | elapsed:    0.2s\n",
      "[Parallel(n_jobs=4)]: Done 1242 tasks      | elapsed:    0.4s\n",
      "[Parallel(n_jobs=4)]: Done 1792 tasks      | elapsed:    0.5s\n",
      "[Parallel(n_jobs=4)]: Done 2000 out of 2000 | elapsed:    0.6s finished\n"
     ]
    },
    {
     "name": "stdout",
     "output_type": "stream",
     "text": [
      "[CV]  bootstrap=True, criterion=mse, max_depth=None, max_features=sqrt, min_samples_leaf=1, min_samples_split=5, min_weight_fraction_leaf=0.0, n_estimators=2000, n_jobs=-1, verbose=1, warm_start=False, explained_variance=0.450, neg_mean_absolute_error=-59.242, neg_mean_squared_error=-5760.285, neg_mean_squared_log_error=-0.067, neg_median_absolute_error=-50.023, r2=0.450, total=   5.3s\n",
      "[CV] bootstrap=True, criterion=mse, max_depth=None, max_features=sqrt, min_samples_leaf=1, min_samples_split=10, min_weight_fraction_leaf=0.0, n_estimators=200, n_jobs=-1, verbose=1, warm_start=False \n"
     ]
    },
    {
     "name": "stderr",
     "output_type": "stream",
     "text": [
      "[Parallel(n_jobs=-1)]: Using backend LokyBackend with 4 concurrent workers.\n",
      "[Parallel(n_jobs=-1)]: Done 190 tasks      | elapsed:    0.4s\n",
      "[Parallel(n_jobs=-1)]: Done 200 out of 200 | elapsed:    0.4s finished\n",
      "[Parallel(n_jobs=4)]: Using backend ThreadingBackend with 4 concurrent workers.\n",
      "[Parallel(n_jobs=4)]: Done  42 tasks      | elapsed:    0.0s\n",
      "[Parallel(n_jobs=4)]: Done 192 tasks      | elapsed:    0.1s\n",
      "[Parallel(n_jobs=4)]: Done 200 out of 200 | elapsed:    0.1s finished\n"
     ]
    },
    {
     "name": "stdout",
     "output_type": "stream",
     "text": [
      "[CV]  bootstrap=True, criterion=mse, max_depth=None, max_features=sqrt, min_samples_leaf=1, min_samples_split=10, min_weight_fraction_leaf=0.0, n_estimators=200, n_jobs=-1, verbose=1, warm_start=False, explained_variance=0.389, neg_mean_absolute_error=-60.969, neg_mean_squared_error=-5772.326, neg_mean_squared_log_error=-0.024, neg_median_absolute_error=-53.077, r2=0.389, total=   0.7s\n",
      "[CV] bootstrap=True, criterion=mse, max_depth=None, max_features=sqrt, min_samples_leaf=1, min_samples_split=10, min_weight_fraction_leaf=0.0, n_estimators=200, n_jobs=-1, verbose=1, warm_start=False \n"
     ]
    },
    {
     "name": "stderr",
     "output_type": "stream",
     "text": [
      "[Parallel(n_jobs=-1)]: Using backend LokyBackend with 4 concurrent workers.\n",
      "[Parallel(n_jobs=-1)]: Done 190 tasks      | elapsed:    0.4s\n",
      "[Parallel(n_jobs=-1)]: Done 200 out of 200 | elapsed:    0.4s finished\n",
      "[Parallel(n_jobs=4)]: Using backend ThreadingBackend with 4 concurrent workers.\n",
      "[Parallel(n_jobs=4)]: Done  42 tasks      | elapsed:    0.0s\n",
      "[Parallel(n_jobs=4)]: Done 192 tasks      | elapsed:    0.1s\n",
      "[Parallel(n_jobs=4)]: Done 200 out of 200 | elapsed:    0.1s finished\n"
     ]
    },
    {
     "name": "stdout",
     "output_type": "stream",
     "text": [
      "[CV]  bootstrap=True, criterion=mse, max_depth=None, max_features=sqrt, min_samples_leaf=1, min_samples_split=10, min_weight_fraction_leaf=0.0, n_estimators=200, n_jobs=-1, verbose=1, warm_start=False, explained_variance=0.454, neg_mean_absolute_error=-59.008, neg_mean_squared_error=-5716.790, neg_mean_squared_log_error=-0.067, neg_median_absolute_error=-49.828, r2=0.454, total=   0.6s\n",
      "[CV] bootstrap=True, criterion=mse, max_depth=None, max_features=sqrt, min_samples_leaf=1, min_samples_split=10, min_weight_fraction_leaf=0.0, n_estimators=2000, n_jobs=-1, verbose=1, warm_start=False \n"
     ]
    },
    {
     "name": "stderr",
     "output_type": "stream",
     "text": [
      "[Parallel(n_jobs=-1)]: Using backend LokyBackend with 4 concurrent workers.\n",
      "[Parallel(n_jobs=-1)]: Done 312 tasks      | elapsed:    0.6s\n",
      "[Parallel(n_jobs=-1)]: Done 2000 out of 2000 | elapsed:    3.2s finished\n",
      "[Parallel(n_jobs=4)]: Using backend ThreadingBackend with 4 concurrent workers.\n",
      "[Parallel(n_jobs=4)]: Done  42 tasks      | elapsed:    0.0s\n",
      "[Parallel(n_jobs=4)]: Done 192 tasks      | elapsed:    0.1s\n",
      "[Parallel(n_jobs=4)]: Done 442 tasks      | elapsed:    0.1s\n",
      "[Parallel(n_jobs=4)]: Done 792 tasks      | elapsed:    0.2s\n",
      "[Parallel(n_jobs=4)]: Done 1242 tasks      | elapsed:    0.4s\n",
      "[Parallel(n_jobs=4)]: Done 1792 tasks      | elapsed:    0.5s\n",
      "[Parallel(n_jobs=4)]: Done 2000 out of 2000 | elapsed:    0.6s finished\n"
     ]
    },
    {
     "name": "stdout",
     "output_type": "stream",
     "text": [
      "[CV]  bootstrap=True, criterion=mse, max_depth=None, max_features=sqrt, min_samples_leaf=1, min_samples_split=10, min_weight_fraction_leaf=0.0, n_estimators=2000, n_jobs=-1, verbose=1, warm_start=False, explained_variance=0.392, neg_mean_absolute_error=-60.791, neg_mean_squared_error=-5746.847, neg_mean_squared_log_error=-0.024, neg_median_absolute_error=-52.448, r2=0.391, total=   5.0s\n",
      "[CV] bootstrap=True, criterion=mse, max_depth=None, max_features=sqrt, min_samples_leaf=1, min_samples_split=10, min_weight_fraction_leaf=0.0, n_estimators=2000, n_jobs=-1, verbose=1, warm_start=False \n"
     ]
    },
    {
     "name": "stderr",
     "output_type": "stream",
     "text": [
      "[Parallel(n_jobs=-1)]: Using backend LokyBackend with 4 concurrent workers.\n",
      "[Parallel(n_jobs=-1)]: Done 312 tasks      | elapsed:    0.6s\n",
      "[Parallel(n_jobs=-1)]: Done 2000 out of 2000 | elapsed:    3.1s finished\n",
      "[Parallel(n_jobs=4)]: Using backend ThreadingBackend with 4 concurrent workers.\n",
      "[Parallel(n_jobs=4)]: Done  42 tasks      | elapsed:    0.0s\n",
      "[Parallel(n_jobs=4)]: Done 192 tasks      | elapsed:    0.1s\n",
      "[Parallel(n_jobs=4)]: Done 442 tasks      | elapsed:    0.1s\n",
      "[Parallel(n_jobs=4)]: Done 792 tasks      | elapsed:    0.2s\n",
      "[Parallel(n_jobs=4)]: Done 1242 tasks      | elapsed:    0.4s\n",
      "[Parallel(n_jobs=4)]: Done 1792 tasks      | elapsed:    0.5s\n",
      "[Parallel(n_jobs=4)]: Done 2000 out of 2000 | elapsed:    0.6s finished\n"
     ]
    },
    {
     "name": "stdout",
     "output_type": "stream",
     "text": [
      "[CV]  bootstrap=True, criterion=mse, max_depth=None, max_features=sqrt, min_samples_leaf=1, min_samples_split=10, min_weight_fraction_leaf=0.0, n_estimators=2000, n_jobs=-1, verbose=1, warm_start=False, explained_variance=0.454, neg_mean_absolute_error=-59.058, neg_mean_squared_error=-5719.400, neg_mean_squared_log_error=-0.067, neg_median_absolute_error=-49.971, r2=0.453, total=   5.0s\n",
      "[CV] bootstrap=True, criterion=mse, max_depth=None, max_features=sqrt, min_samples_leaf=2, min_samples_split=2, min_weight_fraction_leaf=0.0, n_estimators=200, n_jobs=-1, verbose=1, warm_start=False \n"
     ]
    },
    {
     "name": "stderr",
     "output_type": "stream",
     "text": [
      "[Parallel(n_jobs=-1)]: Using backend LokyBackend with 4 concurrent workers.\n",
      "[Parallel(n_jobs=-1)]: Done 175 tasks      | elapsed:    0.4s\n",
      "[Parallel(n_jobs=-1)]: Done 200 out of 200 | elapsed:    0.4s finished\n",
      "[Parallel(n_jobs=4)]: Using backend ThreadingBackend with 4 concurrent workers.\n",
      "[Parallel(n_jobs=4)]: Done  42 tasks      | elapsed:    0.0s\n",
      "[Parallel(n_jobs=4)]: Done 192 tasks      | elapsed:    0.1s\n",
      "[Parallel(n_jobs=4)]: Done 200 out of 200 | elapsed:    0.1s finished\n"
     ]
    },
    {
     "name": "stdout",
     "output_type": "stream",
     "text": [
      "[CV]  bootstrap=True, criterion=mse, max_depth=None, max_features=sqrt, min_samples_leaf=2, min_samples_split=2, min_weight_fraction_leaf=0.0, n_estimators=200, n_jobs=-1, verbose=1, warm_start=False, explained_variance=0.389, neg_mean_absolute_error=-60.891, neg_mean_squared_error=-5776.259, neg_mean_squared_log_error=-0.024, neg_median_absolute_error=-53.126, r2=0.388, total=   0.7s\n",
      "[CV] bootstrap=True, criterion=mse, max_depth=None, max_features=sqrt, min_samples_leaf=2, min_samples_split=2, min_weight_fraction_leaf=0.0, n_estimators=200, n_jobs=-1, verbose=1, warm_start=False \n"
     ]
    },
    {
     "name": "stderr",
     "output_type": "stream",
     "text": [
      "[Parallel(n_jobs=-1)]: Using backend LokyBackend with 4 concurrent workers.\n",
      "[Parallel(n_jobs=-1)]: Done 190 tasks      | elapsed:    0.4s\n",
      "[Parallel(n_jobs=-1)]: Done 200 out of 200 | elapsed:    0.4s finished\n",
      "[Parallel(n_jobs=4)]: Using backend ThreadingBackend with 4 concurrent workers.\n",
      "[Parallel(n_jobs=4)]: Done  42 tasks      | elapsed:    0.0s\n",
      "[Parallel(n_jobs=4)]: Done 192 tasks      | elapsed:    0.1s\n",
      "[Parallel(n_jobs=4)]: Done 200 out of 200 | elapsed:    0.1s finished\n"
     ]
    },
    {
     "name": "stdout",
     "output_type": "stream",
     "text": [
      "[CV]  bootstrap=True, criterion=mse, max_depth=None, max_features=sqrt, min_samples_leaf=2, min_samples_split=2, min_weight_fraction_leaf=0.0, n_estimators=200, n_jobs=-1, verbose=1, warm_start=False, explained_variance=0.448, neg_mean_absolute_error=-59.282, neg_mean_squared_error=-5779.544, neg_mean_squared_log_error=-0.067, neg_median_absolute_error=-49.752, r2=0.448, total=   0.7s\n",
      "[CV] bootstrap=True, criterion=mse, max_depth=None, max_features=sqrt, min_samples_leaf=2, min_samples_split=2, min_weight_fraction_leaf=0.0, n_estimators=2000, n_jobs=-1, verbose=1, warm_start=False \n"
     ]
    },
    {
     "name": "stderr",
     "output_type": "stream",
     "text": [
      "[Parallel(n_jobs=-1)]: Using backend LokyBackend with 4 concurrent workers.\n",
      "[Parallel(n_jobs=-1)]: Done 312 tasks      | elapsed:    0.7s\n",
      "[Parallel(n_jobs=-1)]: Done 2000 out of 2000 | elapsed:    3.5s finished\n",
      "[Parallel(n_jobs=4)]: Using backend ThreadingBackend with 4 concurrent workers.\n",
      "[Parallel(n_jobs=4)]: Done  42 tasks      | elapsed:    0.0s\n",
      "[Parallel(n_jobs=4)]: Done 192 tasks      | elapsed:    0.1s\n",
      "[Parallel(n_jobs=4)]: Done 442 tasks      | elapsed:    0.1s\n",
      "[Parallel(n_jobs=4)]: Done 792 tasks      | elapsed:    0.2s\n",
      "[Parallel(n_jobs=4)]: Done 1242 tasks      | elapsed:    0.4s\n",
      "[Parallel(n_jobs=4)]: Done 1792 tasks      | elapsed:    0.5s\n",
      "[Parallel(n_jobs=4)]: Done 2000 out of 2000 | elapsed:    0.6s finished\n"
     ]
    },
    {
     "name": "stdout",
     "output_type": "stream",
     "text": [
      "[CV]  bootstrap=True, criterion=mse, max_depth=None, max_features=sqrt, min_samples_leaf=2, min_samples_split=2, min_weight_fraction_leaf=0.0, n_estimators=2000, n_jobs=-1, verbose=1, warm_start=False, explained_variance=0.389, neg_mean_absolute_error=-60.841, neg_mean_squared_error=-5773.505, neg_mean_squared_log_error=-0.024, neg_median_absolute_error=-52.794, r2=0.388, total=   5.2s\n",
      "[CV] bootstrap=True, criterion=mse, max_depth=None, max_features=sqrt, min_samples_leaf=2, min_samples_split=2, min_weight_fraction_leaf=0.0, n_estimators=2000, n_jobs=-1, verbose=1, warm_start=False \n"
     ]
    },
    {
     "name": "stderr",
     "output_type": "stream",
     "text": [
      "[Parallel(n_jobs=-1)]: Using backend LokyBackend with 4 concurrent workers.\n",
      "[Parallel(n_jobs=-1)]: Done 312 tasks      | elapsed:    0.7s\n",
      "[Parallel(n_jobs=-1)]: Done 2000 out of 2000 | elapsed:    3.4s finished\n",
      "[Parallel(n_jobs=4)]: Using backend ThreadingBackend with 4 concurrent workers.\n",
      "[Parallel(n_jobs=4)]: Done  42 tasks      | elapsed:    0.0s\n",
      "[Parallel(n_jobs=4)]: Done 192 tasks      | elapsed:    0.1s\n",
      "[Parallel(n_jobs=4)]: Done 442 tasks      | elapsed:    0.1s\n",
      "[Parallel(n_jobs=4)]: Done 792 tasks      | elapsed:    0.3s\n",
      "[Parallel(n_jobs=4)]: Done 1242 tasks      | elapsed:    0.4s\n",
      "[Parallel(n_jobs=4)]: Done 1792 tasks      | elapsed:    0.5s\n",
      "[Parallel(n_jobs=4)]: Done 2000 out of 2000 | elapsed:    0.6s finished\n"
     ]
    },
    {
     "name": "stdout",
     "output_type": "stream",
     "text": [
      "[CV]  bootstrap=True, criterion=mse, max_depth=None, max_features=sqrt, min_samples_leaf=2, min_samples_split=2, min_weight_fraction_leaf=0.0, n_estimators=2000, n_jobs=-1, verbose=1, warm_start=False, explained_variance=0.452, neg_mean_absolute_error=-59.108, neg_mean_squared_error=-5737.450, neg_mean_squared_log_error=-0.067, neg_median_absolute_error=-49.888, r2=0.452, total=   5.3s\n",
      "[CV] bootstrap=True, criterion=mse, max_depth=None, max_features=sqrt, min_samples_leaf=2, min_samples_split=5, min_weight_fraction_leaf=0.0, n_estimators=200, n_jobs=-1, verbose=1, warm_start=False \n"
     ]
    },
    {
     "name": "stderr",
     "output_type": "stream",
     "text": [
      "[Parallel(n_jobs=-1)]: Using backend LokyBackend with 4 concurrent workers.\n",
      "[Parallel(n_jobs=-1)]: Done 190 tasks      | elapsed:    0.4s\n",
      "[Parallel(n_jobs=-1)]: Done 200 out of 200 | elapsed:    0.4s finished\n",
      "[Parallel(n_jobs=4)]: Using backend ThreadingBackend with 4 concurrent workers.\n",
      "[Parallel(n_jobs=4)]: Done  42 tasks      | elapsed:    0.0s\n",
      "[Parallel(n_jobs=4)]: Done 192 tasks      | elapsed:    0.1s\n",
      "[Parallel(n_jobs=4)]: Done 200 out of 200 | elapsed:    0.1s finished\n"
     ]
    },
    {
     "name": "stdout",
     "output_type": "stream",
     "text": [
      "[CV]  bootstrap=True, criterion=mse, max_depth=None, max_features=sqrt, min_samples_leaf=2, min_samples_split=5, min_weight_fraction_leaf=0.0, n_estimators=200, n_jobs=-1, verbose=1, warm_start=False, explained_variance=0.387, neg_mean_absolute_error=-60.999, neg_mean_squared_error=-5796.041, neg_mean_squared_log_error=-0.024, neg_median_absolute_error=-52.846, r2=0.386, total=   0.7s\n",
      "[CV] bootstrap=True, criterion=mse, max_depth=None, max_features=sqrt, min_samples_leaf=2, min_samples_split=5, min_weight_fraction_leaf=0.0, n_estimators=200, n_jobs=-1, verbose=1, warm_start=False \n"
     ]
    },
    {
     "name": "stderr",
     "output_type": "stream",
     "text": [
      "[Parallel(n_jobs=-1)]: Using backend LokyBackend with 4 concurrent workers.\n",
      "[Parallel(n_jobs=-1)]: Done 175 tasks      | elapsed:    0.4s\n",
      "[Parallel(n_jobs=-1)]: Done 200 out of 200 | elapsed:    0.4s finished\n",
      "[Parallel(n_jobs=4)]: Using backend ThreadingBackend with 4 concurrent workers.\n",
      "[Parallel(n_jobs=4)]: Done  42 tasks      | elapsed:    0.0s\n",
      "[Parallel(n_jobs=4)]: Done 192 tasks      | elapsed:    0.1s\n",
      "[Parallel(n_jobs=4)]: Done 200 out of 200 | elapsed:    0.1s finished\n"
     ]
    },
    {
     "name": "stdout",
     "output_type": "stream",
     "text": [
      "[CV]  bootstrap=True, criterion=mse, max_depth=None, max_features=sqrt, min_samples_leaf=2, min_samples_split=5, min_weight_fraction_leaf=0.0, n_estimators=200, n_jobs=-1, verbose=1, warm_start=False, explained_variance=0.452, neg_mean_absolute_error=-58.975, neg_mean_squared_error=-5737.244, neg_mean_squared_log_error=-0.067, neg_median_absolute_error=-49.531, r2=0.452, total=   0.7s\n",
      "[CV] bootstrap=True, criterion=mse, max_depth=None, max_features=sqrt, min_samples_leaf=2, min_samples_split=5, min_weight_fraction_leaf=0.0, n_estimators=2000, n_jobs=-1, verbose=1, warm_start=False \n"
     ]
    },
    {
     "name": "stderr",
     "output_type": "stream",
     "text": [
      "[Parallel(n_jobs=-1)]: Using backend LokyBackend with 4 concurrent workers.\n",
      "[Parallel(n_jobs=-1)]: Done 312 tasks      | elapsed:    0.7s\n",
      "[Parallel(n_jobs=-1)]: Done 2000 out of 2000 | elapsed:    3.4s finished\n",
      "[Parallel(n_jobs=4)]: Using backend ThreadingBackend with 4 concurrent workers.\n",
      "[Parallel(n_jobs=4)]: Done  42 tasks      | elapsed:    0.0s\n",
      "[Parallel(n_jobs=4)]: Done 192 tasks      | elapsed:    0.1s\n",
      "[Parallel(n_jobs=4)]: Done 442 tasks      | elapsed:    0.1s\n",
      "[Parallel(n_jobs=4)]: Done 792 tasks      | elapsed:    0.2s\n",
      "[Parallel(n_jobs=4)]: Done 1242 tasks      | elapsed:    0.4s\n",
      "[Parallel(n_jobs=4)]: Done 1792 tasks      | elapsed:    0.5s\n",
      "[Parallel(n_jobs=4)]: Done 2000 out of 2000 | elapsed:    0.6s finished\n"
     ]
    },
    {
     "name": "stdout",
     "output_type": "stream",
     "text": [
      "[CV]  bootstrap=True, criterion=mse, max_depth=None, max_features=sqrt, min_samples_leaf=2, min_samples_split=5, min_weight_fraction_leaf=0.0, n_estimators=2000, n_jobs=-1, verbose=1, warm_start=False, explained_variance=0.391, neg_mean_absolute_error=-60.784, neg_mean_squared_error=-5759.735, neg_mean_squared_log_error=-0.024, neg_median_absolute_error=-52.551, r2=0.390, total=   5.2s\n",
      "[CV] bootstrap=True, criterion=mse, max_depth=None, max_features=sqrt, min_samples_leaf=2, min_samples_split=5, min_weight_fraction_leaf=0.0, n_estimators=2000, n_jobs=-1, verbose=1, warm_start=False \n"
     ]
    },
    {
     "name": "stderr",
     "output_type": "stream",
     "text": [
      "[Parallel(n_jobs=-1)]: Using backend LokyBackend with 4 concurrent workers.\n",
      "[Parallel(n_jobs=-1)]: Done 312 tasks      | elapsed:    0.7s\n",
      "[Parallel(n_jobs=-1)]: Done 2000 out of 2000 | elapsed:    3.3s finished\n",
      "[Parallel(n_jobs=4)]: Using backend ThreadingBackend with 4 concurrent workers.\n",
      "[Parallel(n_jobs=4)]: Done  42 tasks      | elapsed:    0.0s\n",
      "[Parallel(n_jobs=4)]: Done 192 tasks      | elapsed:    0.1s\n",
      "[Parallel(n_jobs=4)]: Done 442 tasks      | elapsed:    0.1s\n",
      "[Parallel(n_jobs=4)]: Done 792 tasks      | elapsed:    0.2s\n",
      "[Parallel(n_jobs=4)]: Done 1242 tasks      | elapsed:    0.4s\n",
      "[Parallel(n_jobs=4)]: Done 1792 tasks      | elapsed:    0.5s\n",
      "[Parallel(n_jobs=4)]: Done 2000 out of 2000 | elapsed:    0.6s finished\n",
      "[Parallel(n_jobs=-1)]: Using backend LokyBackend with 4 concurrent workers.\n"
     ]
    },
    {
     "name": "stdout",
     "output_type": "stream",
     "text": [
      "[CV]  bootstrap=True, criterion=mse, max_depth=None, max_features=sqrt, min_samples_leaf=2, min_samples_split=5, min_weight_fraction_leaf=0.0, n_estimators=2000, n_jobs=-1, verbose=1, warm_start=False, explained_variance=0.452, neg_mean_absolute_error=-59.058, neg_mean_squared_error=-5731.452, neg_mean_squared_log_error=-0.067, neg_median_absolute_error=-49.451, r2=0.452, total=   5.1s\n",
      "[CV] bootstrap=True, criterion=mse, max_depth=None, max_features=sqrt, min_samples_leaf=2, min_samples_split=10, min_weight_fraction_leaf=0.0, n_estimators=200, n_jobs=-1, verbose=1, warm_start=False \n"
     ]
    },
    {
     "name": "stderr",
     "output_type": "stream",
     "text": [
      "[Parallel(n_jobs=-1)]: Done 190 tasks      | elapsed:    0.4s\n",
      "[Parallel(n_jobs=-1)]: Done 200 out of 200 | elapsed:    0.4s finished\n",
      "[Parallel(n_jobs=4)]: Using backend ThreadingBackend with 4 concurrent workers.\n",
      "[Parallel(n_jobs=4)]: Done  42 tasks      | elapsed:    0.0s\n",
      "[Parallel(n_jobs=4)]: Done 192 tasks      | elapsed:    0.1s\n",
      "[Parallel(n_jobs=4)]: Done 200 out of 200 | elapsed:    0.1s finished\n"
     ]
    },
    {
     "name": "stdout",
     "output_type": "stream",
     "text": [
      "[CV]  bootstrap=True, criterion=mse, max_depth=None, max_features=sqrt, min_samples_leaf=2, min_samples_split=10, min_weight_fraction_leaf=0.0, n_estimators=200, n_jobs=-1, verbose=1, warm_start=False, explained_variance=0.390, neg_mean_absolute_error=-60.889, neg_mean_squared_error=-5764.142, neg_mean_squared_log_error=-0.024, neg_median_absolute_error=-52.686, r2=0.389, total=   0.6s\n",
      "[CV] bootstrap=True, criterion=mse, max_depth=None, max_features=sqrt, min_samples_leaf=2, min_samples_split=10, min_weight_fraction_leaf=0.0, n_estimators=200, n_jobs=-1, verbose=1, warm_start=False \n"
     ]
    },
    {
     "name": "stderr",
     "output_type": "stream",
     "text": [
      "[Parallel(n_jobs=-1)]: Using backend LokyBackend with 4 concurrent workers.\n",
      "[Parallel(n_jobs=-1)]: Done 190 tasks      | elapsed:    0.3s\n",
      "[Parallel(n_jobs=-1)]: Done 200 out of 200 | elapsed:    0.4s finished\n",
      "[Parallel(n_jobs=4)]: Using backend ThreadingBackend with 4 concurrent workers.\n",
      "[Parallel(n_jobs=4)]: Done  42 tasks      | elapsed:    0.0s\n",
      "[Parallel(n_jobs=4)]: Done 192 tasks      | elapsed:    0.1s\n",
      "[Parallel(n_jobs=4)]: Done 200 out of 200 | elapsed:    0.1s finished\n"
     ]
    },
    {
     "name": "stdout",
     "output_type": "stream",
     "text": [
      "[CV]  bootstrap=True, criterion=mse, max_depth=None, max_features=sqrt, min_samples_leaf=2, min_samples_split=10, min_weight_fraction_leaf=0.0, n_estimators=200, n_jobs=-1, verbose=1, warm_start=False, explained_variance=0.455, neg_mean_absolute_error=-58.955, neg_mean_squared_error=-5707.971, neg_mean_squared_log_error=-0.067, neg_median_absolute_error=-49.481, r2=0.455, total=   0.6s\n",
      "[CV] bootstrap=True, criterion=mse, max_depth=None, max_features=sqrt, min_samples_leaf=2, min_samples_split=10, min_weight_fraction_leaf=0.0, n_estimators=2000, n_jobs=-1, verbose=1, warm_start=False \n"
     ]
    },
    {
     "name": "stderr",
     "output_type": "stream",
     "text": [
      "[Parallel(n_jobs=-1)]: Using backend LokyBackend with 4 concurrent workers.\n",
      "[Parallel(n_jobs=-1)]: Done 312 tasks      | elapsed:    0.6s\n",
      "[Parallel(n_jobs=-1)]: Done 2000 out of 2000 | elapsed:    3.0s finished\n",
      "[Parallel(n_jobs=4)]: Using backend ThreadingBackend with 4 concurrent workers.\n",
      "[Parallel(n_jobs=4)]: Done  42 tasks      | elapsed:    0.0s\n",
      "[Parallel(n_jobs=4)]: Done 192 tasks      | elapsed:    0.1s\n",
      "[Parallel(n_jobs=4)]: Done 442 tasks      | elapsed:    0.1s\n",
      "[Parallel(n_jobs=4)]: Done 792 tasks      | elapsed:    0.2s\n",
      "[Parallel(n_jobs=4)]: Done 1242 tasks      | elapsed:    0.4s\n",
      "[Parallel(n_jobs=4)]: Done 1792 tasks      | elapsed:    0.6s\n",
      "[Parallel(n_jobs=4)]: Done 2000 out of 2000 | elapsed:    0.6s finished\n"
     ]
    },
    {
     "name": "stdout",
     "output_type": "stream",
     "text": [
      "[CV]  bootstrap=True, criterion=mse, max_depth=None, max_features=sqrt, min_samples_leaf=2, min_samples_split=10, min_weight_fraction_leaf=0.0, n_estimators=2000, n_jobs=-1, verbose=1, warm_start=False, explained_variance=0.393, neg_mean_absolute_error=-60.712, neg_mean_squared_error=-5733.606, neg_mean_squared_log_error=-0.024, neg_median_absolute_error=-52.751, r2=0.393, total=   4.9s\n",
      "[CV] bootstrap=True, criterion=mse, max_depth=None, max_features=sqrt, min_samples_leaf=2, min_samples_split=10, min_weight_fraction_leaf=0.0, n_estimators=2000, n_jobs=-1, verbose=1, warm_start=False \n"
     ]
    },
    {
     "name": "stderr",
     "output_type": "stream",
     "text": [
      "[Parallel(n_jobs=-1)]: Using backend LokyBackend with 4 concurrent workers.\n",
      "[Parallel(n_jobs=-1)]: Done 312 tasks      | elapsed:    0.6s\n",
      "[Parallel(n_jobs=-1)]: Done 2000 out of 2000 | elapsed:    3.0s finished\n",
      "[Parallel(n_jobs=4)]: Using backend ThreadingBackend with 4 concurrent workers.\n",
      "[Parallel(n_jobs=4)]: Done  42 tasks      | elapsed:    0.0s\n",
      "[Parallel(n_jobs=4)]: Done 192 tasks      | elapsed:    0.1s\n",
      "[Parallel(n_jobs=4)]: Done 442 tasks      | elapsed:    0.1s\n",
      "[Parallel(n_jobs=4)]: Done 792 tasks      | elapsed:    0.3s\n",
      "[Parallel(n_jobs=4)]: Done 1242 tasks      | elapsed:    0.4s\n",
      "[Parallel(n_jobs=4)]: Done 1792 tasks      | elapsed:    0.6s\n",
      "[Parallel(n_jobs=4)]: Done 2000 out of 2000 | elapsed:    0.7s finished\n"
     ]
    },
    {
     "name": "stdout",
     "output_type": "stream",
     "text": [
      "[CV]  bootstrap=True, criterion=mse, max_depth=None, max_features=sqrt, min_samples_leaf=2, min_samples_split=10, min_weight_fraction_leaf=0.0, n_estimators=2000, n_jobs=-1, verbose=1, warm_start=False, explained_variance=0.454, neg_mean_absolute_error=-58.948, neg_mean_squared_error=-5715.512, neg_mean_squared_log_error=-0.067, neg_median_absolute_error=-49.498, r2=0.454, total=   4.8s\n",
      "[CV] bootstrap=True, criterion=mse, max_depth=None, max_features=sqrt, min_samples_leaf=4, min_samples_split=2, min_weight_fraction_leaf=0.0, n_estimators=200, n_jobs=-1, verbose=1, warm_start=False \n"
     ]
    },
    {
     "name": "stderr",
     "output_type": "stream",
     "text": [
      "[Parallel(n_jobs=-1)]: Using backend LokyBackend with 4 concurrent workers.\n",
      "[Parallel(n_jobs=-1)]: Done 190 tasks      | elapsed:    0.4s\n",
      "[Parallel(n_jobs=-1)]: Done 200 out of 200 | elapsed:    0.4s finished\n",
      "[Parallel(n_jobs=4)]: Using backend ThreadingBackend with 4 concurrent workers.\n",
      "[Parallel(n_jobs=4)]: Done  42 tasks      | elapsed:    0.0s\n",
      "[Parallel(n_jobs=4)]: Done 192 tasks      | elapsed:    0.1s\n",
      "[Parallel(n_jobs=4)]: Done 200 out of 200 | elapsed:    0.1s finished\n"
     ]
    },
    {
     "name": "stdout",
     "output_type": "stream",
     "text": [
      "[CV]  bootstrap=True, criterion=mse, max_depth=None, max_features=sqrt, min_samples_leaf=4, min_samples_split=2, min_weight_fraction_leaf=0.0, n_estimators=200, n_jobs=-1, verbose=1, warm_start=False, explained_variance=0.393, neg_mean_absolute_error=-60.675, neg_mean_squared_error=-5732.496, neg_mean_squared_log_error=-0.024, neg_median_absolute_error=-52.597, r2=0.393, total=   0.6s\n",
      "[CV] bootstrap=True, criterion=mse, max_depth=None, max_features=sqrt, min_samples_leaf=4, min_samples_split=2, min_weight_fraction_leaf=0.0, n_estimators=200, n_jobs=-1, verbose=1, warm_start=False \n"
     ]
    },
    {
     "name": "stderr",
     "output_type": "stream",
     "text": [
      "[Parallel(n_jobs=-1)]: Using backend LokyBackend with 4 concurrent workers.\n",
      "[Parallel(n_jobs=-1)]: Done 190 tasks      | elapsed:    0.3s\n",
      "[Parallel(n_jobs=-1)]: Done 200 out of 200 | elapsed:    0.4s finished\n",
      "[Parallel(n_jobs=4)]: Using backend ThreadingBackend with 4 concurrent workers.\n",
      "[Parallel(n_jobs=4)]: Done  42 tasks      | elapsed:    0.0s\n",
      "[Parallel(n_jobs=4)]: Done 192 tasks      | elapsed:    0.1s\n",
      "[Parallel(n_jobs=4)]: Done 200 out of 200 | elapsed:    0.1s finished\n"
     ]
    },
    {
     "name": "stdout",
     "output_type": "stream",
     "text": [
      "[CV]  bootstrap=True, criterion=mse, max_depth=None, max_features=sqrt, min_samples_leaf=4, min_samples_split=2, min_weight_fraction_leaf=0.0, n_estimators=200, n_jobs=-1, verbose=1, warm_start=False, explained_variance=0.455, neg_mean_absolute_error=-58.821, neg_mean_squared_error=-5701.423, neg_mean_squared_log_error=-0.067, neg_median_absolute_error=-48.834, r2=0.455, total=   0.6s\n",
      "[CV] bootstrap=True, criterion=mse, max_depth=None, max_features=sqrt, min_samples_leaf=4, min_samples_split=2, min_weight_fraction_leaf=0.0, n_estimators=2000, n_jobs=-1, verbose=1, warm_start=False \n"
     ]
    },
    {
     "name": "stderr",
     "output_type": "stream",
     "text": [
      "[Parallel(n_jobs=-1)]: Using backend LokyBackend with 4 concurrent workers.\n",
      "[Parallel(n_jobs=-1)]: Done 312 tasks      | elapsed:    0.6s\n",
      "[Parallel(n_jobs=-1)]: Done 2000 out of 2000 | elapsed:    2.9s finished\n",
      "[Parallel(n_jobs=4)]: Using backend ThreadingBackend with 4 concurrent workers.\n",
      "[Parallel(n_jobs=4)]: Done  42 tasks      | elapsed:    0.0s\n",
      "[Parallel(n_jobs=4)]: Done 192 tasks      | elapsed:    0.1s\n",
      "[Parallel(n_jobs=4)]: Done 442 tasks      | elapsed:    0.1s\n",
      "[Parallel(n_jobs=4)]: Done 792 tasks      | elapsed:    0.2s\n",
      "[Parallel(n_jobs=4)]: Done 1242 tasks      | elapsed:    0.4s\n",
      "[Parallel(n_jobs=4)]: Done 1792 tasks      | elapsed:    0.5s\n",
      "[Parallel(n_jobs=4)]: Done 2000 out of 2000 | elapsed:    0.6s finished\n"
     ]
    },
    {
     "name": "stdout",
     "output_type": "stream",
     "text": [
      "[CV]  bootstrap=True, criterion=mse, max_depth=None, max_features=sqrt, min_samples_leaf=4, min_samples_split=2, min_weight_fraction_leaf=0.0, n_estimators=2000, n_jobs=-1, verbose=1, warm_start=False, explained_variance=0.395, neg_mean_absolute_error=-60.682, neg_mean_squared_error=-5718.775, neg_mean_squared_log_error=-0.024, neg_median_absolute_error=-52.518, r2=0.394, total=   4.8s\n",
      "[CV] bootstrap=True, criterion=mse, max_depth=None, max_features=sqrt, min_samples_leaf=4, min_samples_split=2, min_weight_fraction_leaf=0.0, n_estimators=2000, n_jobs=-1, verbose=1, warm_start=False \n"
     ]
    },
    {
     "name": "stderr",
     "output_type": "stream",
     "text": [
      "[Parallel(n_jobs=-1)]: Using backend LokyBackend with 4 concurrent workers.\n",
      "[Parallel(n_jobs=-1)]: Done 312 tasks      | elapsed:    0.6s\n",
      "[Parallel(n_jobs=-1)]: Done 2000 out of 2000 | elapsed:    2.9s finished\n",
      "[Parallel(n_jobs=4)]: Using backend ThreadingBackend with 4 concurrent workers.\n",
      "[Parallel(n_jobs=4)]: Done  42 tasks      | elapsed:    0.0s\n",
      "[Parallel(n_jobs=4)]: Done 192 tasks      | elapsed:    0.1s\n",
      "[Parallel(n_jobs=4)]: Done 442 tasks      | elapsed:    0.1s\n",
      "[Parallel(n_jobs=4)]: Done 792 tasks      | elapsed:    0.2s\n",
      "[Parallel(n_jobs=4)]: Done 1242 tasks      | elapsed:    0.4s\n",
      "[Parallel(n_jobs=4)]: Done 1792 tasks      | elapsed:    0.5s\n",
      "[Parallel(n_jobs=4)]: Done 2000 out of 2000 | elapsed:    0.6s finished\n"
     ]
    },
    {
     "name": "stdout",
     "output_type": "stream",
     "text": [
      "[CV]  bootstrap=True, criterion=mse, max_depth=None, max_features=sqrt, min_samples_leaf=4, min_samples_split=2, min_weight_fraction_leaf=0.0, n_estimators=2000, n_jobs=-1, verbose=1, warm_start=False, explained_variance=0.456, neg_mean_absolute_error=-58.820, neg_mean_squared_error=-5689.362, neg_mean_squared_log_error=-0.067, neg_median_absolute_error=-49.201, r2=0.456, total=   4.7s\n",
      "[CV] bootstrap=True, criterion=mse, max_depth=None, max_features=sqrt, min_samples_leaf=4, min_samples_split=5, min_weight_fraction_leaf=0.0, n_estimators=200, n_jobs=-1, verbose=1, warm_start=False \n"
     ]
    },
    {
     "name": "stderr",
     "output_type": "stream",
     "text": [
      "[Parallel(n_jobs=-1)]: Using backend LokyBackend with 4 concurrent workers.\n",
      "[Parallel(n_jobs=-1)]: Done 190 tasks      | elapsed:    0.4s\n",
      "[Parallel(n_jobs=-1)]: Done 200 out of 200 | elapsed:    0.4s finished\n",
      "[Parallel(n_jobs=4)]: Using backend ThreadingBackend with 4 concurrent workers.\n",
      "[Parallel(n_jobs=4)]: Done  42 tasks      | elapsed:    0.0s\n",
      "[Parallel(n_jobs=4)]: Done 192 tasks      | elapsed:    0.1s\n",
      "[Parallel(n_jobs=4)]: Done 200 out of 200 | elapsed:    0.1s finished\n"
     ]
    },
    {
     "name": "stdout",
     "output_type": "stream",
     "text": [
      "[CV]  bootstrap=True, criterion=mse, max_depth=None, max_features=sqrt, min_samples_leaf=4, min_samples_split=5, min_weight_fraction_leaf=0.0, n_estimators=200, n_jobs=-1, verbose=1, warm_start=False, explained_variance=0.394, neg_mean_absolute_error=-60.761, neg_mean_squared_error=-5725.634, neg_mean_squared_log_error=-0.024, neg_median_absolute_error=-52.893, r2=0.393, total=   0.6s\n",
      "[CV] bootstrap=True, criterion=mse, max_depth=None, max_features=sqrt, min_samples_leaf=4, min_samples_split=5, min_weight_fraction_leaf=0.0, n_estimators=200, n_jobs=-1, verbose=1, warm_start=False \n"
     ]
    },
    {
     "name": "stderr",
     "output_type": "stream",
     "text": [
      "[Parallel(n_jobs=-1)]: Using backend LokyBackend with 4 concurrent workers.\n",
      "[Parallel(n_jobs=-1)]: Done 175 tasks      | elapsed:    0.3s\n",
      "[Parallel(n_jobs=-1)]: Done 200 out of 200 | elapsed:    0.4s finished\n",
      "[Parallel(n_jobs=4)]: Using backend ThreadingBackend with 4 concurrent workers.\n",
      "[Parallel(n_jobs=4)]: Done  42 tasks      | elapsed:    0.0s\n",
      "[Parallel(n_jobs=4)]: Done 192 tasks      | elapsed:    0.1s\n",
      "[Parallel(n_jobs=4)]: Done 200 out of 200 | elapsed:    0.1s finished\n"
     ]
    },
    {
     "name": "stdout",
     "output_type": "stream",
     "text": [
      "[CV]  bootstrap=True, criterion=mse, max_depth=None, max_features=sqrt, min_samples_leaf=4, min_samples_split=5, min_weight_fraction_leaf=0.0, n_estimators=200, n_jobs=-1, verbose=1, warm_start=False, explained_variance=0.455, neg_mean_absolute_error=-58.872, neg_mean_squared_error=-5704.027, neg_mean_squared_log_error=-0.067, neg_median_absolute_error=-49.182, r2=0.455, total=   0.6s\n",
      "[CV] bootstrap=True, criterion=mse, max_depth=None, max_features=sqrt, min_samples_leaf=4, min_samples_split=5, min_weight_fraction_leaf=0.0, n_estimators=2000, n_jobs=-1, verbose=1, warm_start=False \n"
     ]
    },
    {
     "name": "stderr",
     "output_type": "stream",
     "text": [
      "[Parallel(n_jobs=-1)]: Using backend LokyBackend with 4 concurrent workers.\n",
      "[Parallel(n_jobs=-1)]: Done 312 tasks      | elapsed:    0.6s\n",
      "[Parallel(n_jobs=-1)]: Done 2000 out of 2000 | elapsed:    3.0s finished\n",
      "[Parallel(n_jobs=4)]: Using backend ThreadingBackend with 4 concurrent workers.\n",
      "[Parallel(n_jobs=4)]: Done  42 tasks      | elapsed:    0.0s\n",
      "[Parallel(n_jobs=4)]: Done 192 tasks      | elapsed:    0.1s\n",
      "[Parallel(n_jobs=4)]: Done 442 tasks      | elapsed:    0.1s\n",
      "[Parallel(n_jobs=4)]: Done 792 tasks      | elapsed:    0.3s\n",
      "[Parallel(n_jobs=4)]: Done 1242 tasks      | elapsed:    0.4s\n",
      "[Parallel(n_jobs=4)]: Done 1792 tasks      | elapsed:    0.6s\n",
      "[Parallel(n_jobs=4)]: Done 2000 out of 2000 | elapsed:    0.6s finished\n"
     ]
    },
    {
     "name": "stdout",
     "output_type": "stream",
     "text": [
      "[CV]  bootstrap=True, criterion=mse, max_depth=None, max_features=sqrt, min_samples_leaf=4, min_samples_split=5, min_weight_fraction_leaf=0.0, n_estimators=2000, n_jobs=-1, verbose=1, warm_start=False, explained_variance=0.394, neg_mean_absolute_error=-60.703, neg_mean_squared_error=-5723.752, neg_mean_squared_log_error=-0.024, neg_median_absolute_error=-52.678, r2=0.394, total=   4.8s\n",
      "[CV] bootstrap=True, criterion=mse, max_depth=None, max_features=sqrt, min_samples_leaf=4, min_samples_split=5, min_weight_fraction_leaf=0.0, n_estimators=2000, n_jobs=-1, verbose=1, warm_start=False \n"
     ]
    },
    {
     "name": "stderr",
     "output_type": "stream",
     "text": [
      "[Parallel(n_jobs=-1)]: Using backend LokyBackend with 4 concurrent workers.\n",
      "[Parallel(n_jobs=-1)]: Done 312 tasks      | elapsed:    0.6s\n",
      "[Parallel(n_jobs=-1)]: Done 2000 out of 2000 | elapsed:    2.9s finished\n",
      "[Parallel(n_jobs=4)]: Using backend ThreadingBackend with 4 concurrent workers.\n",
      "[Parallel(n_jobs=4)]: Done  42 tasks      | elapsed:    0.0s\n",
      "[Parallel(n_jobs=4)]: Done 192 tasks      | elapsed:    0.1s\n",
      "[Parallel(n_jobs=4)]: Done 442 tasks      | elapsed:    0.1s\n",
      "[Parallel(n_jobs=4)]: Done 792 tasks      | elapsed:    0.3s\n",
      "[Parallel(n_jobs=4)]: Done 1242 tasks      | elapsed:    0.4s\n",
      "[Parallel(n_jobs=4)]: Done 1792 tasks      | elapsed:    0.6s\n",
      "[Parallel(n_jobs=4)]: Done 2000 out of 2000 | elapsed:    0.6s finished\n"
     ]
    },
    {
     "name": "stdout",
     "output_type": "stream",
     "text": [
      "[CV]  bootstrap=True, criterion=mse, max_depth=None, max_features=sqrt, min_samples_leaf=4, min_samples_split=5, min_weight_fraction_leaf=0.0, n_estimators=2000, n_jobs=-1, verbose=1, warm_start=False, explained_variance=0.457, neg_mean_absolute_error=-58.794, neg_mean_squared_error=-5686.386, neg_mean_squared_log_error=-0.067, neg_median_absolute_error=-49.183, r2=0.457, total=   4.7s\n",
      "[CV] bootstrap=True, criterion=mse, max_depth=None, max_features=sqrt, min_samples_leaf=4, min_samples_split=10, min_weight_fraction_leaf=0.0, n_estimators=200, n_jobs=-1, verbose=1, warm_start=False \n"
     ]
    },
    {
     "name": "stderr",
     "output_type": "stream",
     "text": [
      "[Parallel(n_jobs=-1)]: Using backend LokyBackend with 4 concurrent workers.\n",
      "[Parallel(n_jobs=-1)]: Done 190 tasks      | elapsed:    0.4s\n",
      "[Parallel(n_jobs=-1)]: Done 200 out of 200 | elapsed:    0.4s finished\n",
      "[Parallel(n_jobs=4)]: Using backend ThreadingBackend with 4 concurrent workers.\n",
      "[Parallel(n_jobs=4)]: Done  42 tasks      | elapsed:    0.0s\n",
      "[Parallel(n_jobs=4)]: Done 192 tasks      | elapsed:    0.1s\n",
      "[Parallel(n_jobs=4)]: Done 200 out of 200 | elapsed:    0.1s finished\n"
     ]
    },
    {
     "name": "stdout",
     "output_type": "stream",
     "text": [
      "[CV]  bootstrap=True, criterion=mse, max_depth=None, max_features=sqrt, min_samples_leaf=4, min_samples_split=10, min_weight_fraction_leaf=0.0, n_estimators=200, n_jobs=-1, verbose=1, warm_start=False, explained_variance=0.393, neg_mean_absolute_error=-60.790, neg_mean_squared_error=-5735.369, neg_mean_squared_log_error=-0.024, neg_median_absolute_error=-52.652, r2=0.392, total=   0.6s\n",
      "[CV] bootstrap=True, criterion=mse, max_depth=None, max_features=sqrt, min_samples_leaf=4, min_samples_split=10, min_weight_fraction_leaf=0.0, n_estimators=200, n_jobs=-1, verbose=1, warm_start=False \n"
     ]
    },
    {
     "name": "stderr",
     "output_type": "stream",
     "text": [
      "[Parallel(n_jobs=-1)]: Using backend LokyBackend with 4 concurrent workers.\n",
      "[Parallel(n_jobs=-1)]: Done 175 tasks      | elapsed:    0.3s\n",
      "[Parallel(n_jobs=-1)]: Done 200 out of 200 | elapsed:    0.4s finished\n",
      "[Parallel(n_jobs=4)]: Using backend ThreadingBackend with 4 concurrent workers.\n",
      "[Parallel(n_jobs=4)]: Done  42 tasks      | elapsed:    0.0s\n",
      "[Parallel(n_jobs=4)]: Done 192 tasks      | elapsed:    0.1s\n",
      "[Parallel(n_jobs=4)]: Done 200 out of 200 | elapsed:    0.1s finished\n"
     ]
    },
    {
     "name": "stdout",
     "output_type": "stream",
     "text": [
      "[CV]  bootstrap=True, criterion=mse, max_depth=None, max_features=sqrt, min_samples_leaf=4, min_samples_split=10, min_weight_fraction_leaf=0.0, n_estimators=200, n_jobs=-1, verbose=1, warm_start=False, explained_variance=0.457, neg_mean_absolute_error=-58.826, neg_mean_squared_error=-5679.140, neg_mean_squared_log_error=-0.066, neg_median_absolute_error=-49.623, r2=0.457, total=   0.6s\n",
      "[CV] bootstrap=True, criterion=mse, max_depth=None, max_features=sqrt, min_samples_leaf=4, min_samples_split=10, min_weight_fraction_leaf=0.0, n_estimators=2000, n_jobs=-1, verbose=1, warm_start=False \n"
     ]
    },
    {
     "name": "stderr",
     "output_type": "stream",
     "text": [
      "[Parallel(n_jobs=-1)]: Using backend LokyBackend with 4 concurrent workers.\n",
      "[Parallel(n_jobs=-1)]: Done 312 tasks      | elapsed:    0.6s\n",
      "[Parallel(n_jobs=-1)]: Done 2000 out of 2000 | elapsed:    2.9s finished\n",
      "[Parallel(n_jobs=4)]: Using backend ThreadingBackend with 4 concurrent workers.\n",
      "[Parallel(n_jobs=4)]: Done  42 tasks      | elapsed:    0.0s\n",
      "[Parallel(n_jobs=4)]: Done 192 tasks      | elapsed:    0.1s\n",
      "[Parallel(n_jobs=4)]: Done 442 tasks      | elapsed:    0.1s\n",
      "[Parallel(n_jobs=4)]: Done 792 tasks      | elapsed:    0.3s\n",
      "[Parallel(n_jobs=4)]: Done 1242 tasks      | elapsed:    0.4s\n",
      "[Parallel(n_jobs=4)]: Done 1792 tasks      | elapsed:    0.6s\n",
      "[Parallel(n_jobs=4)]: Done 2000 out of 2000 | elapsed:    0.6s finished\n"
     ]
    },
    {
     "name": "stdout",
     "output_type": "stream",
     "text": [
      "[CV]  bootstrap=True, criterion=mse, max_depth=None, max_features=sqrt, min_samples_leaf=4, min_samples_split=10, min_weight_fraction_leaf=0.0, n_estimators=2000, n_jobs=-1, verbose=1, warm_start=False, explained_variance=0.395, neg_mean_absolute_error=-60.665, neg_mean_squared_error=-5714.293, neg_mean_squared_log_error=-0.024, neg_median_absolute_error=-52.577, r2=0.395, total=   4.7s\n",
      "[CV] bootstrap=True, criterion=mse, max_depth=None, max_features=sqrt, min_samples_leaf=4, min_samples_split=10, min_weight_fraction_leaf=0.0, n_estimators=2000, n_jobs=-1, verbose=1, warm_start=False \n"
     ]
    },
    {
     "name": "stderr",
     "output_type": "stream",
     "text": [
      "[Parallel(n_jobs=-1)]: Using backend LokyBackend with 4 concurrent workers.\n",
      "[Parallel(n_jobs=-1)]: Done 312 tasks      | elapsed:    0.6s\n",
      "[Parallel(n_jobs=-1)]: Done 2000 out of 2000 | elapsed:    2.8s finished\n",
      "[Parallel(n_jobs=4)]: Using backend ThreadingBackend with 4 concurrent workers.\n",
      "[Parallel(n_jobs=4)]: Done  42 tasks      | elapsed:    0.0s\n",
      "[Parallel(n_jobs=4)]: Done 192 tasks      | elapsed:    0.1s\n",
      "[Parallel(n_jobs=4)]: Done 442 tasks      | elapsed:    0.1s\n",
      "[Parallel(n_jobs=4)]: Done 792 tasks      | elapsed:    0.3s\n",
      "[Parallel(n_jobs=4)]: Done 1242 tasks      | elapsed:    0.4s\n",
      "[Parallel(n_jobs=4)]: Done 1792 tasks      | elapsed:    0.6s\n",
      "[Parallel(n_jobs=4)]: Done 2000 out of 2000 | elapsed:    0.6s finished\n"
     ]
    },
    {
     "name": "stdout",
     "output_type": "stream",
     "text": [
      "[CV]  bootstrap=True, criterion=mse, max_depth=None, max_features=sqrt, min_samples_leaf=4, min_samples_split=10, min_weight_fraction_leaf=0.0, n_estimators=2000, n_jobs=-1, verbose=1, warm_start=False, explained_variance=0.456, neg_mean_absolute_error=-58.852, neg_mean_squared_error=-5694.210, neg_mean_squared_log_error=-0.067, neg_median_absolute_error=-49.352, r2=0.456, total=   4.6s\n",
      "[CV] bootstrap=False, criterion=mse, max_depth=10, max_features=auto, min_samples_leaf=1, min_samples_split=2, min_weight_fraction_leaf=0.0, n_estimators=200, n_jobs=-1, verbose=1, warm_start=False \n"
     ]
    },
    {
     "name": "stderr",
     "output_type": "stream",
     "text": [
      "[Parallel(n_jobs=-1)]: Using backend LokyBackend with 4 concurrent workers.\n",
      "[Parallel(n_jobs=-1)]: Done 186 tasks      | elapsed:    0.9s\n",
      "[Parallel(n_jobs=-1)]: Done 200 out of 200 | elapsed:    0.9s finished\n",
      "[Parallel(n_jobs=4)]: Using backend ThreadingBackend with 4 concurrent workers.\n",
      "[Parallel(n_jobs=4)]: Done  42 tasks      | elapsed:    0.0s\n",
      "[Parallel(n_jobs=4)]: Done 192 tasks      | elapsed:    0.1s\n",
      "[Parallel(n_jobs=4)]: Done 200 out of 200 | elapsed:    0.1s finished\n"
     ]
    },
    {
     "name": "stdout",
     "output_type": "stream",
     "text": [
      "[CV]  bootstrap=False, criterion=mse, max_depth=10, max_features=auto, min_samples_leaf=1, min_samples_split=2, min_weight_fraction_leaf=0.0, n_estimators=200, n_jobs=-1, verbose=1, warm_start=False, explained_variance=0.212, neg_mean_absolute_error=-66.973, neg_mean_squared_error=-7439.381, neg_mean_squared_log_error=-0.030, neg_median_absolute_error=-55.166, r2=0.212, total=   1.2s\n",
      "[CV] bootstrap=False, criterion=mse, max_depth=10, max_features=auto, min_samples_leaf=1, min_samples_split=2, min_weight_fraction_leaf=0.0, n_estimators=200, n_jobs=-1, verbose=1, warm_start=False \n"
     ]
    },
    {
     "name": "stderr",
     "output_type": "stream",
     "text": [
      "[Parallel(n_jobs=-1)]: Using backend LokyBackend with 4 concurrent workers.\n",
      "[Parallel(n_jobs=-1)]: Done 179 tasks      | elapsed:    0.9s\n",
      "[Parallel(n_jobs=-1)]: Done 200 out of 200 | elapsed:    0.9s finished\n",
      "[Parallel(n_jobs=4)]: Using backend ThreadingBackend with 4 concurrent workers.\n",
      "[Parallel(n_jobs=4)]: Done  42 tasks      | elapsed:    0.0s\n",
      "[Parallel(n_jobs=4)]: Done 192 tasks      | elapsed:    0.1s\n",
      "[Parallel(n_jobs=4)]: Done 200 out of 200 | elapsed:    0.1s finished\n"
     ]
    },
    {
     "name": "stdout",
     "output_type": "stream",
     "text": [
      "[CV]  bootstrap=False, criterion=mse, max_depth=10, max_features=auto, min_samples_leaf=1, min_samples_split=2, min_weight_fraction_leaf=0.0, n_estimators=200, n_jobs=-1, verbose=1, warm_start=False, explained_variance=0.160, neg_mean_absolute_error=-70.858, neg_mean_squared_error=-8793.831, neg_mean_squared_log_error=-0.078, neg_median_absolute_error=-54.965, r2=0.160, total=   1.2s\n",
      "[CV] bootstrap=False, criterion=mse, max_depth=10, max_features=auto, min_samples_leaf=1, min_samples_split=2, min_weight_fraction_leaf=0.0, n_estimators=2000, n_jobs=-1, verbose=1, warm_start=False \n"
     ]
    },
    {
     "name": "stderr",
     "output_type": "stream",
     "text": [
      "[Parallel(n_jobs=-1)]: Using backend LokyBackend with 4 concurrent workers.\n",
      "[Parallel(n_jobs=-1)]: Done 280 tasks      | elapsed:    1.4s\n",
      "[Parallel(n_jobs=-1)]: Done 2000 out of 2000 | elapsed:    8.8s finished\n",
      "[Parallel(n_jobs=4)]: Using backend ThreadingBackend with 4 concurrent workers.\n",
      "[Parallel(n_jobs=4)]: Done  42 tasks      | elapsed:    0.0s\n",
      "[Parallel(n_jobs=4)]: Done 192 tasks      | elapsed:    0.1s\n",
      "[Parallel(n_jobs=4)]: Done 442 tasks      | elapsed:    0.2s\n",
      "[Parallel(n_jobs=4)]: Done 792 tasks      | elapsed:    0.3s\n",
      "[Parallel(n_jobs=4)]: Done 1242 tasks      | elapsed:    0.4s\n",
      "[Parallel(n_jobs=4)]: Done 1792 tasks      | elapsed:    0.6s\n",
      "[Parallel(n_jobs=4)]: Done 2000 out of 2000 | elapsed:    0.7s finished\n"
     ]
    },
    {
     "name": "stdout",
     "output_type": "stream",
     "text": [
      "[CV]  bootstrap=False, criterion=mse, max_depth=10, max_features=auto, min_samples_leaf=1, min_samples_split=2, min_weight_fraction_leaf=0.0, n_estimators=2000, n_jobs=-1, verbose=1, warm_start=False, explained_variance=0.212, neg_mean_absolute_error=-66.967, neg_mean_squared_error=-7442.905, neg_mean_squared_log_error=-0.030, neg_median_absolute_error=-55.189, r2=0.212, total=  10.7s\n",
      "[CV] bootstrap=False, criterion=mse, max_depth=10, max_features=auto, min_samples_leaf=1, min_samples_split=2, min_weight_fraction_leaf=0.0, n_estimators=2000, n_jobs=-1, verbose=1, warm_start=False \n"
     ]
    },
    {
     "name": "stderr",
     "output_type": "stream",
     "text": [
      "[Parallel(n_jobs=-1)]: Using backend LokyBackend with 4 concurrent workers.\n",
      "[Parallel(n_jobs=-1)]: Done 280 tasks      | elapsed:    1.4s\n",
      "[Parallel(n_jobs=-1)]: Done 2000 out of 2000 | elapsed:    8.8s finished\n",
      "[Parallel(n_jobs=4)]: Using backend ThreadingBackend with 4 concurrent workers.\n",
      "[Parallel(n_jobs=4)]: Done  42 tasks      | elapsed:    0.0s\n",
      "[Parallel(n_jobs=4)]: Done 192 tasks      | elapsed:    0.1s\n",
      "[Parallel(n_jobs=4)]: Done 442 tasks      | elapsed:    0.1s\n",
      "[Parallel(n_jobs=4)]: Done 792 tasks      | elapsed:    0.3s\n",
      "[Parallel(n_jobs=4)]: Done 1242 tasks      | elapsed:    0.4s\n",
      "[Parallel(n_jobs=4)]: Done 1792 tasks      | elapsed:    0.6s\n",
      "[Parallel(n_jobs=4)]: Done 2000 out of 2000 | elapsed:    0.7s finished\n"
     ]
    },
    {
     "name": "stdout",
     "output_type": "stream",
     "text": [
      "[CV]  bootstrap=False, criterion=mse, max_depth=10, max_features=auto, min_samples_leaf=1, min_samples_split=2, min_weight_fraction_leaf=0.0, n_estimators=2000, n_jobs=-1, verbose=1, warm_start=False, explained_variance=0.160, neg_mean_absolute_error=-70.860, neg_mean_squared_error=-8797.401, neg_mean_squared_log_error=-0.078, neg_median_absolute_error=-55.017, r2=0.159, total=  10.7s\n",
      "[CV] bootstrap=False, criterion=mse, max_depth=10, max_features=auto, min_samples_leaf=1, min_samples_split=5, min_weight_fraction_leaf=0.0, n_estimators=200, n_jobs=-1, verbose=1, warm_start=False \n"
     ]
    },
    {
     "name": "stderr",
     "output_type": "stream",
     "text": [
      "[Parallel(n_jobs=-1)]: Using backend LokyBackend with 4 concurrent workers.\n",
      "[Parallel(n_jobs=-1)]: Done 190 tasks      | elapsed:    0.9s\n",
      "[Parallel(n_jobs=-1)]: Done 200 out of 200 | elapsed:    0.9s finished\n",
      "[Parallel(n_jobs=4)]: Using backend ThreadingBackend with 4 concurrent workers.\n",
      "[Parallel(n_jobs=4)]: Done  42 tasks      | elapsed:    0.0s\n",
      "[Parallel(n_jobs=4)]: Done 192 tasks      | elapsed:    0.1s\n",
      "[Parallel(n_jobs=4)]: Done 200 out of 200 | elapsed:    0.1s finished\n"
     ]
    },
    {
     "name": "stdout",
     "output_type": "stream",
     "text": [
      "[CV]  bootstrap=False, criterion=mse, max_depth=10, max_features=auto, min_samples_leaf=1, min_samples_split=5, min_weight_fraction_leaf=0.0, n_estimators=200, n_jobs=-1, verbose=1, warm_start=False, explained_variance=0.222, neg_mean_absolute_error=-66.712, neg_mean_squared_error=-7343.867, neg_mean_squared_log_error=-0.030, neg_median_absolute_error=-55.094, r2=0.222, total=   1.1s\n",
      "[CV] bootstrap=False, criterion=mse, max_depth=10, max_features=auto, min_samples_leaf=1, min_samples_split=5, min_weight_fraction_leaf=0.0, n_estimators=200, n_jobs=-1, verbose=1, warm_start=False \n"
     ]
    },
    {
     "name": "stderr",
     "output_type": "stream",
     "text": [
      "[Parallel(n_jobs=-1)]: Using backend LokyBackend with 4 concurrent workers.\n",
      "[Parallel(n_jobs=-1)]: Done 179 tasks      | elapsed:    0.8s\n",
      "[Parallel(n_jobs=-1)]: Done 200 out of 200 | elapsed:    0.9s finished\n",
      "[Parallel(n_jobs=4)]: Using backend ThreadingBackend with 4 concurrent workers.\n",
      "[Parallel(n_jobs=4)]: Done  42 tasks      | elapsed:    0.0s\n",
      "[Parallel(n_jobs=4)]: Done 192 tasks      | elapsed:    0.1s\n",
      "[Parallel(n_jobs=4)]: Done 200 out of 200 | elapsed:    0.1s finished\n"
     ]
    },
    {
     "name": "stdout",
     "output_type": "stream",
     "text": [
      "[CV]  bootstrap=False, criterion=mse, max_depth=10, max_features=auto, min_samples_leaf=1, min_samples_split=5, min_weight_fraction_leaf=0.0, n_estimators=200, n_jobs=-1, verbose=1, warm_start=False, explained_variance=0.165, neg_mean_absolute_error=-70.751, neg_mean_squared_error=-8744.122, neg_mean_squared_log_error=-0.078, neg_median_absolute_error=-54.887, r2=0.164, total=   1.1s\n",
      "[CV] bootstrap=False, criterion=mse, max_depth=10, max_features=auto, min_samples_leaf=1, min_samples_split=5, min_weight_fraction_leaf=0.0, n_estimators=2000, n_jobs=-1, verbose=1, warm_start=False \n"
     ]
    },
    {
     "name": "stderr",
     "output_type": "stream",
     "text": [
      "[Parallel(n_jobs=-1)]: Using backend LokyBackend with 4 concurrent workers.\n",
      "[Parallel(n_jobs=-1)]: Done 280 tasks      | elapsed:    1.5s\n",
      "[Parallel(n_jobs=-1)]: Done 2000 out of 2000 | elapsed:    8.8s finished\n",
      "[Parallel(n_jobs=4)]: Using backend ThreadingBackend with 4 concurrent workers.\n",
      "[Parallel(n_jobs=4)]: Done  42 tasks      | elapsed:    0.0s\n",
      "[Parallel(n_jobs=4)]: Done 192 tasks      | elapsed:    0.1s\n",
      "[Parallel(n_jobs=4)]: Done 442 tasks      | elapsed:    0.2s\n",
      "[Parallel(n_jobs=4)]: Done 792 tasks      | elapsed:    0.3s\n",
      "[Parallel(n_jobs=4)]: Done 1242 tasks      | elapsed:    0.4s\n",
      "[Parallel(n_jobs=4)]: Done 1792 tasks      | elapsed:    0.6s\n",
      "[Parallel(n_jobs=4)]: Done 2000 out of 2000 | elapsed:    0.7s finished\n"
     ]
    },
    {
     "name": "stdout",
     "output_type": "stream",
     "text": [
      "[CV]  bootstrap=False, criterion=mse, max_depth=10, max_features=auto, min_samples_leaf=1, min_samples_split=5, min_weight_fraction_leaf=0.0, n_estimators=2000, n_jobs=-1, verbose=1, warm_start=False, explained_variance=0.223, neg_mean_absolute_error=-66.704, neg_mean_squared_error=-7342.362, neg_mean_squared_log_error=-0.030, neg_median_absolute_error=-55.094, r2=0.222, total=  10.6s\n",
      "[CV] bootstrap=False, criterion=mse, max_depth=10, max_features=auto, min_samples_leaf=1, min_samples_split=5, min_weight_fraction_leaf=0.0, n_estimators=2000, n_jobs=-1, verbose=1, warm_start=False \n"
     ]
    },
    {
     "name": "stderr",
     "output_type": "stream",
     "text": [
      "[Parallel(n_jobs=-1)]: Using backend LokyBackend with 4 concurrent workers.\n",
      "[Parallel(n_jobs=-1)]: Done 280 tasks      | elapsed:    1.4s\n",
      "[Parallel(n_jobs=-1)]: Done 2000 out of 2000 | elapsed:    8.5s finished\n",
      "[Parallel(n_jobs=4)]: Using backend ThreadingBackend with 4 concurrent workers.\n",
      "[Parallel(n_jobs=4)]: Done  42 tasks      | elapsed:    0.0s\n",
      "[Parallel(n_jobs=4)]: Done 192 tasks      | elapsed:    0.1s\n",
      "[Parallel(n_jobs=4)]: Done 442 tasks      | elapsed:    0.1s\n",
      "[Parallel(n_jobs=4)]: Done 792 tasks      | elapsed:    0.3s\n",
      "[Parallel(n_jobs=4)]: Done 1242 tasks      | elapsed:    0.4s\n",
      "[Parallel(n_jobs=4)]: Done 1792 tasks      | elapsed:    0.6s\n",
      "[Parallel(n_jobs=4)]: Done 2000 out of 2000 | elapsed:    0.7s finished\n"
     ]
    },
    {
     "name": "stdout",
     "output_type": "stream",
     "text": [
      "[CV]  bootstrap=False, criterion=mse, max_depth=10, max_features=auto, min_samples_leaf=1, min_samples_split=5, min_weight_fraction_leaf=0.0, n_estimators=2000, n_jobs=-1, verbose=1, warm_start=False, explained_variance=0.165, neg_mean_absolute_error=-70.752, neg_mean_squared_error=-8744.016, neg_mean_squared_log_error=-0.078, neg_median_absolute_error=-54.965, r2=0.164, total=  10.4s\n",
      "[CV] bootstrap=False, criterion=mse, max_depth=10, max_features=auto, min_samples_leaf=1, min_samples_split=10, min_weight_fraction_leaf=0.0, n_estimators=200, n_jobs=-1, verbose=1, warm_start=False \n"
     ]
    },
    {
     "name": "stderr",
     "output_type": "stream",
     "text": [
      "[Parallel(n_jobs=-1)]: Using backend LokyBackend with 4 concurrent workers.\n",
      "[Parallel(n_jobs=-1)]: Done 190 tasks      | elapsed:    0.8s\n",
      "[Parallel(n_jobs=-1)]: Done 200 out of 200 | elapsed:    0.9s finished\n",
      "[Parallel(n_jobs=4)]: Using backend ThreadingBackend with 4 concurrent workers.\n",
      "[Parallel(n_jobs=4)]: Done  42 tasks      | elapsed:    0.0s\n",
      "[Parallel(n_jobs=4)]: Done 192 tasks      | elapsed:    0.1s\n",
      "[Parallel(n_jobs=4)]: Done 200 out of 200 | elapsed:    0.1s finished\n"
     ]
    },
    {
     "name": "stdout",
     "output_type": "stream",
     "text": [
      "[CV]  bootstrap=False, criterion=mse, max_depth=10, max_features=auto, min_samples_leaf=1, min_samples_split=10, min_weight_fraction_leaf=0.0, n_estimators=200, n_jobs=-1, verbose=1, warm_start=False, explained_variance=0.250, neg_mean_absolute_error=-65.825, neg_mean_squared_error=-7083.172, neg_mean_squared_log_error=-0.029, neg_median_absolute_error=-54.277, r2=0.250, total=   1.1s\n",
      "[CV] bootstrap=False, criterion=mse, max_depth=10, max_features=auto, min_samples_leaf=1, min_samples_split=10, min_weight_fraction_leaf=0.0, n_estimators=200, n_jobs=-1, verbose=1, warm_start=False \n"
     ]
    },
    {
     "name": "stderr",
     "output_type": "stream",
     "text": [
      "[Parallel(n_jobs=-1)]: Using backend LokyBackend with 4 concurrent workers.\n",
      "[Parallel(n_jobs=-1)]: Done 190 tasks      | elapsed:    0.8s\n",
      "[Parallel(n_jobs=-1)]: Done 200 out of 200 | elapsed:    0.9s finished\n",
      "[Parallel(n_jobs=4)]: Using backend ThreadingBackend with 4 concurrent workers.\n",
      "[Parallel(n_jobs=4)]: Done  42 tasks      | elapsed:    0.0s\n",
      "[Parallel(n_jobs=4)]: Done 192 tasks      | elapsed:    0.1s\n",
      "[Parallel(n_jobs=4)]: Done 200 out of 200 | elapsed:    0.1s finished\n"
     ]
    },
    {
     "name": "stdout",
     "output_type": "stream",
     "text": [
      "[CV]  bootstrap=False, criterion=mse, max_depth=10, max_features=auto, min_samples_leaf=1, min_samples_split=10, min_weight_fraction_leaf=0.0, n_estimators=200, n_jobs=-1, verbose=1, warm_start=False, explained_variance=0.195, neg_mean_absolute_error=-70.079, neg_mean_squared_error=-8427.959, neg_mean_squared_log_error=-0.078, neg_median_absolute_error=-55.143, r2=0.195, total=   1.1s\n",
      "[CV] bootstrap=False, criterion=mse, max_depth=10, max_features=auto, min_samples_leaf=1, min_samples_split=10, min_weight_fraction_leaf=0.0, n_estimators=2000, n_jobs=-1, verbose=1, warm_start=False \n"
     ]
    },
    {
     "name": "stderr",
     "output_type": "stream",
     "text": [
      "[Parallel(n_jobs=-1)]: Using backend LokyBackend with 4 concurrent workers.\n",
      "[Parallel(n_jobs=-1)]: Done 280 tasks      | elapsed:    1.3s\n",
      "[Parallel(n_jobs=-1)]: Done 2000 out of 2000 | elapsed:    8.4s finished\n",
      "[Parallel(n_jobs=4)]: Using backend ThreadingBackend with 4 concurrent workers.\n",
      "[Parallel(n_jobs=4)]: Done  42 tasks      | elapsed:    0.0s\n",
      "[Parallel(n_jobs=4)]: Done 192 tasks      | elapsed:    0.1s\n",
      "[Parallel(n_jobs=4)]: Done 442 tasks      | elapsed:    0.2s\n",
      "[Parallel(n_jobs=4)]: Done 792 tasks      | elapsed:    0.3s\n",
      "[Parallel(n_jobs=4)]: Done 1242 tasks      | elapsed:    0.4s\n",
      "[Parallel(n_jobs=4)]: Done 1792 tasks      | elapsed:    0.6s\n",
      "[Parallel(n_jobs=4)]: Done 2000 out of 2000 | elapsed:    0.7s finished\n"
     ]
    },
    {
     "name": "stdout",
     "output_type": "stream",
     "text": [
      "[CV]  bootstrap=False, criterion=mse, max_depth=10, max_features=auto, min_samples_leaf=1, min_samples_split=10, min_weight_fraction_leaf=0.0, n_estimators=2000, n_jobs=-1, verbose=1, warm_start=False, explained_variance=0.250, neg_mean_absolute_error=-65.803, neg_mean_squared_error=-7079.186, neg_mean_squared_log_error=-0.029, neg_median_absolute_error=-54.209, r2=0.250, total=  10.4s\n",
      "[CV] bootstrap=False, criterion=mse, max_depth=10, max_features=auto, min_samples_leaf=1, min_samples_split=10, min_weight_fraction_leaf=0.0, n_estimators=2000, n_jobs=-1, verbose=1, warm_start=False \n"
     ]
    },
    {
     "name": "stderr",
     "output_type": "stream",
     "text": [
      "[Parallel(n_jobs=-1)]: Using backend LokyBackend with 4 concurrent workers.\n",
      "[Parallel(n_jobs=-1)]: Done 280 tasks      | elapsed:    1.3s\n",
      "[Parallel(n_jobs=-1)]: Done 2000 out of 2000 | elapsed:    8.3s finished\n",
      "[Parallel(n_jobs=4)]: Using backend ThreadingBackend with 4 concurrent workers.\n",
      "[Parallel(n_jobs=4)]: Done  42 tasks      | elapsed:    0.0s\n",
      "[Parallel(n_jobs=4)]: Done 192 tasks      | elapsed:    0.1s\n",
      "[Parallel(n_jobs=4)]: Done 442 tasks      | elapsed:    0.2s\n",
      "[Parallel(n_jobs=4)]: Done 792 tasks      | elapsed:    0.3s\n",
      "[Parallel(n_jobs=4)]: Done 1242 tasks      | elapsed:    0.4s\n",
      "[Parallel(n_jobs=4)]: Done 1792 tasks      | elapsed:    0.6s\n",
      "[Parallel(n_jobs=4)]: Done 2000 out of 2000 | elapsed:    0.7s finished\n"
     ]
    },
    {
     "name": "stdout",
     "output_type": "stream",
     "text": [
      "[CV]  bootstrap=False, criterion=mse, max_depth=10, max_features=auto, min_samples_leaf=1, min_samples_split=10, min_weight_fraction_leaf=0.0, n_estimators=2000, n_jobs=-1, verbose=1, warm_start=False, explained_variance=0.195, neg_mean_absolute_error=-70.081, neg_mean_squared_error=-8429.328, neg_mean_squared_log_error=-0.078, neg_median_absolute_error=-55.143, r2=0.195, total=  10.1s\n",
      "[CV] bootstrap=False, criterion=mse, max_depth=10, max_features=auto, min_samples_leaf=2, min_samples_split=2, min_weight_fraction_leaf=0.0, n_estimators=200, n_jobs=-1, verbose=1, warm_start=False \n"
     ]
    },
    {
     "name": "stderr",
     "output_type": "stream",
     "text": [
      "[Parallel(n_jobs=-1)]: Using backend LokyBackend with 4 concurrent workers.\n",
      "[Parallel(n_jobs=-1)]: Done 190 tasks      | elapsed:    0.9s\n",
      "[Parallel(n_jobs=-1)]: Done 200 out of 200 | elapsed:    0.9s finished\n",
      "[Parallel(n_jobs=4)]: Using backend ThreadingBackend with 4 concurrent workers.\n",
      "[Parallel(n_jobs=4)]: Done  42 tasks      | elapsed:    0.0s\n",
      "[Parallel(n_jobs=4)]: Done 192 tasks      | elapsed:    0.1s\n",
      "[Parallel(n_jobs=4)]: Done 200 out of 200 | elapsed:    0.1s finished\n"
     ]
    },
    {
     "name": "stdout",
     "output_type": "stream",
     "text": [
      "[CV]  bootstrap=False, criterion=mse, max_depth=10, max_features=auto, min_samples_leaf=2, min_samples_split=2, min_weight_fraction_leaf=0.0, n_estimators=200, n_jobs=-1, verbose=1, warm_start=False, explained_variance=0.219, neg_mean_absolute_error=-67.016, neg_mean_squared_error=-7372.259, neg_mean_squared_log_error=-0.030, neg_median_absolute_error=-54.730, r2=0.219, total=   1.1s\n",
      "[CV] bootstrap=False, criterion=mse, max_depth=10, max_features=auto, min_samples_leaf=2, min_samples_split=2, min_weight_fraction_leaf=0.0, n_estimators=200, n_jobs=-1, verbose=1, warm_start=False \n"
     ]
    },
    {
     "name": "stderr",
     "output_type": "stream",
     "text": [
      "[Parallel(n_jobs=-1)]: Using backend LokyBackend with 4 concurrent workers.\n",
      "[Parallel(n_jobs=-1)]: Done 158 tasks      | elapsed:    0.7s\n",
      "[Parallel(n_jobs=-1)]: Done 200 out of 200 | elapsed:    0.9s finished\n",
      "[Parallel(n_jobs=4)]: Using backend ThreadingBackend with 4 concurrent workers.\n",
      "[Parallel(n_jobs=4)]: Done  42 tasks      | elapsed:    0.0s\n",
      "[Parallel(n_jobs=4)]: Done 192 tasks      | elapsed:    0.1s\n",
      "[Parallel(n_jobs=4)]: Done 200 out of 200 | elapsed:    0.1s finished\n"
     ]
    },
    {
     "name": "stdout",
     "output_type": "stream",
     "text": [
      "[CV]  bootstrap=False, criterion=mse, max_depth=10, max_features=auto, min_samples_leaf=2, min_samples_split=2, min_weight_fraction_leaf=0.0, n_estimators=200, n_jobs=-1, verbose=1, warm_start=False, explained_variance=0.144, neg_mean_absolute_error=-71.714, neg_mean_squared_error=-8961.642, neg_mean_squared_log_error=-0.080, neg_median_absolute_error=-56.727, r2=0.144, total=   1.2s\n",
      "[CV] bootstrap=False, criterion=mse, max_depth=10, max_features=auto, min_samples_leaf=2, min_samples_split=2, min_weight_fraction_leaf=0.0, n_estimators=2000, n_jobs=-1, verbose=1, warm_start=False \n"
     ]
    },
    {
     "name": "stderr",
     "output_type": "stream",
     "text": [
      "[Parallel(n_jobs=-1)]: Using backend LokyBackend with 4 concurrent workers.\n",
      "[Parallel(n_jobs=-1)]: Done 200 tasks      | elapsed:    0.9s\n",
      "[Parallel(n_jobs=-1)]: Done 1400 tasks      | elapsed:    6.1s\n",
      "[Parallel(n_jobs=-1)]: Done 2000 out of 2000 | elapsed:    8.6s finished\n",
      "[Parallel(n_jobs=4)]: Using backend ThreadingBackend with 4 concurrent workers.\n",
      "[Parallel(n_jobs=4)]: Done  42 tasks      | elapsed:    0.0s\n",
      "[Parallel(n_jobs=4)]: Done 192 tasks      | elapsed:    0.1s\n",
      "[Parallel(n_jobs=4)]: Done 442 tasks      | elapsed:    0.2s\n",
      "[Parallel(n_jobs=4)]: Done 792 tasks      | elapsed:    0.3s\n",
      "[Parallel(n_jobs=4)]: Done 1242 tasks      | elapsed:    0.4s\n",
      "[Parallel(n_jobs=4)]: Done 1792 tasks      | elapsed:    0.6s\n",
      "[Parallel(n_jobs=4)]: Done 2000 out of 2000 | elapsed:    0.7s finished\n"
     ]
    },
    {
     "name": "stdout",
     "output_type": "stream",
     "text": [
      "[CV]  bootstrap=False, criterion=mse, max_depth=10, max_features=auto, min_samples_leaf=2, min_samples_split=2, min_weight_fraction_leaf=0.0, n_estimators=2000, n_jobs=-1, verbose=1, warm_start=False, explained_variance=0.220, neg_mean_absolute_error=-66.994, neg_mean_squared_error=-7368.092, neg_mean_squared_log_error=-0.030, neg_median_absolute_error=-54.730, r2=0.220, total=  10.5s\n",
      "[CV] bootstrap=False, criterion=mse, max_depth=10, max_features=auto, min_samples_leaf=2, min_samples_split=2, min_weight_fraction_leaf=0.0, n_estimators=2000, n_jobs=-1, verbose=1, warm_start=False \n"
     ]
    },
    {
     "name": "stderr",
     "output_type": "stream",
     "text": [
      "[Parallel(n_jobs=-1)]: Using backend LokyBackend with 4 concurrent workers.\n",
      "[Parallel(n_jobs=-1)]: Done 280 tasks      | elapsed:    1.4s\n",
      "[Parallel(n_jobs=-1)]: Done 2000 out of 2000 | elapsed:    8.5s finished\n",
      "[Parallel(n_jobs=4)]: Using backend ThreadingBackend with 4 concurrent workers.\n",
      "[Parallel(n_jobs=4)]: Done  42 tasks      | elapsed:    0.0s\n",
      "[Parallel(n_jobs=4)]: Done 192 tasks      | elapsed:    0.1s\n",
      "[Parallel(n_jobs=4)]: Done 442 tasks      | elapsed:    0.2s\n",
      "[Parallel(n_jobs=4)]: Done 792 tasks      | elapsed:    0.3s\n",
      "[Parallel(n_jobs=4)]: Done 1242 tasks      | elapsed:    0.4s\n",
      "[Parallel(n_jobs=4)]: Done 1792 tasks      | elapsed:    0.6s\n",
      "[Parallel(n_jobs=4)]: Done 2000 out of 2000 | elapsed:    0.7s finished\n"
     ]
    },
    {
     "name": "stdout",
     "output_type": "stream",
     "text": [
      "[CV]  bootstrap=False, criterion=mse, max_depth=10, max_features=auto, min_samples_leaf=2, min_samples_split=2, min_weight_fraction_leaf=0.0, n_estimators=2000, n_jobs=-1, verbose=1, warm_start=False, explained_variance=0.144, neg_mean_absolute_error=-71.712, neg_mean_squared_error=-8957.834, neg_mean_squared_log_error=-0.080, neg_median_absolute_error=-56.727, r2=0.144, total=  10.3s\n",
      "[CV] bootstrap=False, criterion=mse, max_depth=10, max_features=auto, min_samples_leaf=2, min_samples_split=5, min_weight_fraction_leaf=0.0, n_estimators=200, n_jobs=-1, verbose=1, warm_start=False \n"
     ]
    },
    {
     "name": "stderr",
     "output_type": "stream",
     "text": [
      "[Parallel(n_jobs=-1)]: Using backend LokyBackend with 4 concurrent workers.\n",
      "[Parallel(n_jobs=-1)]: Done 190 tasks      | elapsed:    0.9s\n",
      "[Parallel(n_jobs=-1)]: Done 200 out of 200 | elapsed:    0.9s finished\n",
      "[Parallel(n_jobs=4)]: Using backend ThreadingBackend with 4 concurrent workers.\n",
      "[Parallel(n_jobs=4)]: Done  42 tasks      | elapsed:    0.0s\n",
      "[Parallel(n_jobs=4)]: Done 192 tasks      | elapsed:    0.1s\n",
      "[Parallel(n_jobs=4)]: Done 200 out of 200 | elapsed:    0.1s finished\n"
     ]
    },
    {
     "name": "stdout",
     "output_type": "stream",
     "text": [
      "[CV]  bootstrap=False, criterion=mse, max_depth=10, max_features=auto, min_samples_leaf=2, min_samples_split=5, min_weight_fraction_leaf=0.0, n_estimators=200, n_jobs=-1, verbose=1, warm_start=False, explained_variance=0.224, neg_mean_absolute_error=-66.877, neg_mean_squared_error=-7326.256, neg_mean_squared_log_error=-0.029, neg_median_absolute_error=-54.730, r2=0.224, total=   1.1s\n",
      "[CV] bootstrap=False, criterion=mse, max_depth=10, max_features=auto, min_samples_leaf=2, min_samples_split=5, min_weight_fraction_leaf=0.0, n_estimators=200, n_jobs=-1, verbose=1, warm_start=False \n"
     ]
    },
    {
     "name": "stderr",
     "output_type": "stream",
     "text": [
      "[Parallel(n_jobs=-1)]: Using backend LokyBackend with 4 concurrent workers.\n",
      "[Parallel(n_jobs=-1)]: Done 190 tasks      | elapsed:    0.9s\n",
      "[Parallel(n_jobs=-1)]: Done 200 out of 200 | elapsed:    0.9s finished\n",
      "[Parallel(n_jobs=4)]: Using backend ThreadingBackend with 4 concurrent workers.\n",
      "[Parallel(n_jobs=4)]: Done  42 tasks      | elapsed:    0.0s\n",
      "[Parallel(n_jobs=4)]: Done 192 tasks      | elapsed:    0.1s\n",
      "[Parallel(n_jobs=4)]: Done 200 out of 200 | elapsed:    0.1s finished\n"
     ]
    },
    {
     "name": "stdout",
     "output_type": "stream",
     "text": [
      "[CV]  bootstrap=False, criterion=mse, max_depth=10, max_features=auto, min_samples_leaf=2, min_samples_split=5, min_weight_fraction_leaf=0.0, n_estimators=200, n_jobs=-1, verbose=1, warm_start=False, explained_variance=0.149, neg_mean_absolute_error=-71.601, neg_mean_squared_error=-8914.342, neg_mean_squared_log_error=-0.080, neg_median_absolute_error=-56.727, r2=0.148, total=   1.1s\n",
      "[CV] bootstrap=False, criterion=mse, max_depth=10, max_features=auto, min_samples_leaf=2, min_samples_split=5, min_weight_fraction_leaf=0.0, n_estimators=2000, n_jobs=-1, verbose=1, warm_start=False \n"
     ]
    },
    {
     "name": "stderr",
     "output_type": "stream",
     "text": [
      "[Parallel(n_jobs=-1)]: Using backend LokyBackend with 4 concurrent workers.\n",
      "[Parallel(n_jobs=-1)]: Done 200 tasks      | elapsed:    0.9s\n",
      "[Parallel(n_jobs=-1)]: Done 1400 tasks      | elapsed:    6.1s\n",
      "[Parallel(n_jobs=-1)]: Done 2000 out of 2000 | elapsed:    8.6s finished\n",
      "[Parallel(n_jobs=4)]: Using backend ThreadingBackend with 4 concurrent workers.\n",
      "[Parallel(n_jobs=4)]: Done  42 tasks      | elapsed:    0.0s\n",
      "[Parallel(n_jobs=4)]: Done 192 tasks      | elapsed:    0.1s\n",
      "[Parallel(n_jobs=4)]: Done 442 tasks      | elapsed:    0.2s\n",
      "[Parallel(n_jobs=4)]: Done 792 tasks      | elapsed:    0.3s\n",
      "[Parallel(n_jobs=4)]: Done 1242 tasks      | elapsed:    0.4s\n",
      "[Parallel(n_jobs=4)]: Done 1792 tasks      | elapsed:    0.6s\n",
      "[Parallel(n_jobs=4)]: Done 2000 out of 2000 | elapsed:    0.7s finished\n"
     ]
    },
    {
     "name": "stdout",
     "output_type": "stream",
     "text": [
      "[CV]  bootstrap=False, criterion=mse, max_depth=10, max_features=auto, min_samples_leaf=2, min_samples_split=5, min_weight_fraction_leaf=0.0, n_estimators=2000, n_jobs=-1, verbose=1, warm_start=False, explained_variance=0.224, neg_mean_absolute_error=-66.888, neg_mean_squared_error=-7329.327, neg_mean_squared_log_error=-0.029, neg_median_absolute_error=-54.730, r2=0.224, total=  10.6s\n",
      "[CV] bootstrap=False, criterion=mse, max_depth=10, max_features=auto, min_samples_leaf=2, min_samples_split=5, min_weight_fraction_leaf=0.0, n_estimators=2000, n_jobs=-1, verbose=1, warm_start=False \n"
     ]
    },
    {
     "name": "stderr",
     "output_type": "stream",
     "text": [
      "[Parallel(n_jobs=-1)]: Using backend LokyBackend with 4 concurrent workers.\n",
      "[Parallel(n_jobs=-1)]: Done 280 tasks      | elapsed:    1.3s\n",
      "[Parallel(n_jobs=-1)]: Done 2000 out of 2000 | elapsed:    8.4s finished\n",
      "[Parallel(n_jobs=4)]: Using backend ThreadingBackend with 4 concurrent workers.\n",
      "[Parallel(n_jobs=4)]: Done  42 tasks      | elapsed:    0.0s\n",
      "[Parallel(n_jobs=4)]: Done 192 tasks      | elapsed:    0.1s\n",
      "[Parallel(n_jobs=4)]: Done 442 tasks      | elapsed:    0.1s\n",
      "[Parallel(n_jobs=4)]: Done 792 tasks      | elapsed:    0.3s\n",
      "[Parallel(n_jobs=4)]: Done 1242 tasks      | elapsed:    0.4s\n",
      "[Parallel(n_jobs=4)]: Done 1792 tasks      | elapsed:    0.6s\n",
      "[Parallel(n_jobs=4)]: Done 2000 out of 2000 | elapsed:    0.7s finished\n"
     ]
    },
    {
     "name": "stdout",
     "output_type": "stream",
     "text": [
      "[CV]  bootstrap=False, criterion=mse, max_depth=10, max_features=auto, min_samples_leaf=2, min_samples_split=5, min_weight_fraction_leaf=0.0, n_estimators=2000, n_jobs=-1, verbose=1, warm_start=False, explained_variance=0.149, neg_mean_absolute_error=-71.594, neg_mean_squared_error=-8912.370, neg_mean_squared_log_error=-0.080, neg_median_absolute_error=-56.664, r2=0.148, total=  10.3s\n",
      "[CV] bootstrap=False, criterion=mse, max_depth=10, max_features=auto, min_samples_leaf=2, min_samples_split=10, min_weight_fraction_leaf=0.0, n_estimators=200, n_jobs=-1, verbose=1, warm_start=False \n"
     ]
    },
    {
     "name": "stderr",
     "output_type": "stream",
     "text": [
      "[Parallel(n_jobs=-1)]: Using backend LokyBackend with 4 concurrent workers.\n",
      "[Parallel(n_jobs=-1)]: Done 190 tasks      | elapsed:    0.8s\n",
      "[Parallel(n_jobs=-1)]: Done 200 out of 200 | elapsed:    0.9s finished\n",
      "[Parallel(n_jobs=4)]: Using backend ThreadingBackend with 4 concurrent workers.\n",
      "[Parallel(n_jobs=4)]: Done  42 tasks      | elapsed:    0.0s\n",
      "[Parallel(n_jobs=4)]: Done 192 tasks      | elapsed:    0.1s\n",
      "[Parallel(n_jobs=4)]: Done 200 out of 200 | elapsed:    0.1s finished\n"
     ]
    },
    {
     "name": "stdout",
     "output_type": "stream",
     "text": [
      "[CV]  bootstrap=False, criterion=mse, max_depth=10, max_features=auto, min_samples_leaf=2, min_samples_split=10, min_weight_fraction_leaf=0.0, n_estimators=200, n_jobs=-1, verbose=1, warm_start=False, explained_variance=0.244, neg_mean_absolute_error=-66.109, neg_mean_squared_error=-7136.624, neg_mean_squared_log_error=-0.029, neg_median_absolute_error=-53.555, r2=0.244, total=   1.1s\n",
      "[CV] bootstrap=False, criterion=mse, max_depth=10, max_features=auto, min_samples_leaf=2, min_samples_split=10, min_weight_fraction_leaf=0.0, n_estimators=200, n_jobs=-1, verbose=1, warm_start=False \n"
     ]
    },
    {
     "name": "stderr",
     "output_type": "stream",
     "text": [
      "[Parallel(n_jobs=-1)]: Using backend LokyBackend with 4 concurrent workers.\n",
      "[Parallel(n_jobs=-1)]: Done 190 tasks      | elapsed:    0.8s\n",
      "[Parallel(n_jobs=-1)]: Done 200 out of 200 | elapsed:    0.9s finished\n",
      "[Parallel(n_jobs=4)]: Using backend ThreadingBackend with 4 concurrent workers.\n",
      "[Parallel(n_jobs=4)]: Done  42 tasks      | elapsed:    0.0s\n",
      "[Parallel(n_jobs=4)]: Done 192 tasks      | elapsed:    0.1s\n",
      "[Parallel(n_jobs=4)]: Done 200 out of 200 | elapsed:    0.1s finished\n"
     ]
    },
    {
     "name": "stdout",
     "output_type": "stream",
     "text": [
      "[CV]  bootstrap=False, criterion=mse, max_depth=10, max_features=auto, min_samples_leaf=2, min_samples_split=10, min_weight_fraction_leaf=0.0, n_estimators=200, n_jobs=-1, verbose=1, warm_start=False, explained_variance=0.174, neg_mean_absolute_error=-70.913, neg_mean_squared_error=-8651.896, neg_mean_squared_log_error=-0.079, neg_median_absolute_error=-56.465, r2=0.173, total=   1.1s\n",
      "[CV] bootstrap=False, criterion=mse, max_depth=10, max_features=auto, min_samples_leaf=2, min_samples_split=10, min_weight_fraction_leaf=0.0, n_estimators=2000, n_jobs=-1, verbose=1, warm_start=False \n"
     ]
    },
    {
     "name": "stderr",
     "output_type": "stream",
     "text": [
      "[Parallel(n_jobs=-1)]: Using backend LokyBackend with 4 concurrent workers.\n",
      "[Parallel(n_jobs=-1)]: Done 280 tasks      | elapsed:    1.3s\n",
      "[Parallel(n_jobs=-1)]: Done 2000 out of 2000 | elapsed:    8.3s finished\n",
      "[Parallel(n_jobs=4)]: Using backend ThreadingBackend with 4 concurrent workers.\n",
      "[Parallel(n_jobs=4)]: Done  42 tasks      | elapsed:    0.0s\n",
      "[Parallel(n_jobs=4)]: Done 192 tasks      | elapsed:    0.1s\n",
      "[Parallel(n_jobs=4)]: Done 442 tasks      | elapsed:    0.2s\n",
      "[Parallel(n_jobs=4)]: Done 792 tasks      | elapsed:    0.3s\n",
      "[Parallel(n_jobs=4)]: Done 1242 tasks      | elapsed:    0.4s\n",
      "[Parallel(n_jobs=4)]: Done 1792 tasks      | elapsed:    0.6s\n",
      "[Parallel(n_jobs=4)]: Done 2000 out of 2000 | elapsed:    0.7s finished\n"
     ]
    },
    {
     "name": "stdout",
     "output_type": "stream",
     "text": [
      "[CV]  bootstrap=False, criterion=mse, max_depth=10, max_features=auto, min_samples_leaf=2, min_samples_split=10, min_weight_fraction_leaf=0.0, n_estimators=2000, n_jobs=-1, verbose=1, warm_start=False, explained_variance=0.244, neg_mean_absolute_error=-66.110, neg_mean_squared_error=-7136.738, neg_mean_squared_log_error=-0.029, neg_median_absolute_error=-53.555, r2=0.244, total=  10.3s\n",
      "[CV] bootstrap=False, criterion=mse, max_depth=10, max_features=auto, min_samples_leaf=2, min_samples_split=10, min_weight_fraction_leaf=0.0, n_estimators=2000, n_jobs=-1, verbose=1, warm_start=False \n"
     ]
    },
    {
     "name": "stderr",
     "output_type": "stream",
     "text": [
      "[Parallel(n_jobs=-1)]: Using backend LokyBackend with 4 concurrent workers.\n",
      "[Parallel(n_jobs=-1)]: Done 280 tasks      | elapsed:    1.3s\n",
      "[Parallel(n_jobs=-1)]: Done 2000 out of 2000 | elapsed:    8.2s finished\n",
      "[Parallel(n_jobs=4)]: Using backend ThreadingBackend with 4 concurrent workers.\n",
      "[Parallel(n_jobs=4)]: Done  42 tasks      | elapsed:    0.0s\n",
      "[Parallel(n_jobs=4)]: Done 192 tasks      | elapsed:    0.1s\n",
      "[Parallel(n_jobs=4)]: Done 442 tasks      | elapsed:    0.1s\n",
      "[Parallel(n_jobs=4)]: Done 792 tasks      | elapsed:    0.3s\n",
      "[Parallel(n_jobs=4)]: Done 1242 tasks      | elapsed:    0.4s\n",
      "[Parallel(n_jobs=4)]: Done 1792 tasks      | elapsed:    0.6s\n",
      "[Parallel(n_jobs=4)]: Done 2000 out of 2000 | elapsed:    0.7s finished\n"
     ]
    },
    {
     "name": "stdout",
     "output_type": "stream",
     "text": [
      "[CV]  bootstrap=False, criterion=mse, max_depth=10, max_features=auto, min_samples_leaf=2, min_samples_split=10, min_weight_fraction_leaf=0.0, n_estimators=2000, n_jobs=-1, verbose=1, warm_start=False, explained_variance=0.174, neg_mean_absolute_error=-70.914, neg_mean_squared_error=-8653.207, neg_mean_squared_log_error=-0.079, neg_median_absolute_error=-56.465, r2=0.173, total=  10.1s\n",
      "[CV] bootstrap=False, criterion=mse, max_depth=10, max_features=auto, min_samples_leaf=4, min_samples_split=2, min_weight_fraction_leaf=0.0, n_estimators=200, n_jobs=-1, verbose=1, warm_start=False \n"
     ]
    },
    {
     "name": "stderr",
     "output_type": "stream",
     "text": [
      "[Parallel(n_jobs=-1)]: Using backend LokyBackend with 4 concurrent workers.\n",
      "[Parallel(n_jobs=-1)]: Done 190 tasks      | elapsed:    0.8s\n",
      "[Parallel(n_jobs=-1)]: Done 200 out of 200 | elapsed:    0.9s finished\n",
      "[Parallel(n_jobs=4)]: Using backend ThreadingBackend with 4 concurrent workers.\n",
      "[Parallel(n_jobs=4)]: Done  42 tasks      | elapsed:    0.0s\n",
      "[Parallel(n_jobs=4)]: Done 192 tasks      | elapsed:    0.1s\n",
      "[Parallel(n_jobs=4)]: Done 200 out of 200 | elapsed:    0.1s finished\n"
     ]
    },
    {
     "name": "stdout",
     "output_type": "stream",
     "text": [
      "[CV]  bootstrap=False, criterion=mse, max_depth=10, max_features=auto, min_samples_leaf=4, min_samples_split=2, min_weight_fraction_leaf=0.0, n_estimators=200, n_jobs=-1, verbose=1, warm_start=False, explained_variance=0.222, neg_mean_absolute_error=-67.379, neg_mean_squared_error=-7347.161, neg_mean_squared_log_error=-0.030, neg_median_absolute_error=-54.933, r2=0.222, total=   1.1s\n",
      "[CV] bootstrap=False, criterion=mse, max_depth=10, max_features=auto, min_samples_leaf=4, min_samples_split=2, min_weight_fraction_leaf=0.0, n_estimators=200, n_jobs=-1, verbose=1, warm_start=False \n"
     ]
    },
    {
     "name": "stderr",
     "output_type": "stream",
     "text": [
      "[Parallel(n_jobs=-1)]: Using backend LokyBackend with 4 concurrent workers.\n",
      "[Parallel(n_jobs=-1)]: Done 190 tasks      | elapsed:    0.8s\n",
      "[Parallel(n_jobs=-1)]: Done 200 out of 200 | elapsed:    0.9s finished\n",
      "[Parallel(n_jobs=4)]: Using backend ThreadingBackend with 4 concurrent workers.\n",
      "[Parallel(n_jobs=4)]: Done  42 tasks      | elapsed:    0.0s\n",
      "[Parallel(n_jobs=4)]: Done 192 tasks      | elapsed:    0.1s\n",
      "[Parallel(n_jobs=4)]: Done 200 out of 200 | elapsed:    0.1s finished\n"
     ]
    },
    {
     "name": "stdout",
     "output_type": "stream",
     "text": [
      "[CV]  bootstrap=False, criterion=mse, max_depth=10, max_features=auto, min_samples_leaf=4, min_samples_split=2, min_weight_fraction_leaf=0.0, n_estimators=200, n_jobs=-1, verbose=1, warm_start=False, explained_variance=0.222, neg_mean_absolute_error=-69.428, neg_mean_squared_error=-8153.150, neg_mean_squared_log_error=-0.077, neg_median_absolute_error=-55.928, r2=0.221, total=   1.1s\n",
      "[CV] bootstrap=False, criterion=mse, max_depth=10, max_features=auto, min_samples_leaf=4, min_samples_split=2, min_weight_fraction_leaf=0.0, n_estimators=2000, n_jobs=-1, verbose=1, warm_start=False \n"
     ]
    },
    {
     "name": "stderr",
     "output_type": "stream",
     "text": [
      "[Parallel(n_jobs=-1)]: Using backend LokyBackend with 4 concurrent workers.\n",
      "[Parallel(n_jobs=-1)]: Done 280 tasks      | elapsed:    1.3s\n",
      "[Parallel(n_jobs=-1)]: Done 2000 out of 2000 | elapsed:    8.4s finished\n",
      "[Parallel(n_jobs=4)]: Using backend ThreadingBackend with 4 concurrent workers.\n",
      "[Parallel(n_jobs=4)]: Done  42 tasks      | elapsed:    0.0s\n",
      "[Parallel(n_jobs=4)]: Done 192 tasks      | elapsed:    0.1s\n",
      "[Parallel(n_jobs=4)]: Done 442 tasks      | elapsed:    0.2s\n",
      "[Parallel(n_jobs=4)]: Done 792 tasks      | elapsed:    0.3s\n",
      "[Parallel(n_jobs=4)]: Done 1242 tasks      | elapsed:    0.4s\n",
      "[Parallel(n_jobs=4)]: Done 1792 tasks      | elapsed:    0.6s\n",
      "[Parallel(n_jobs=4)]: Done 2000 out of 2000 | elapsed:    0.7s finished\n"
     ]
    },
    {
     "name": "stdout",
     "output_type": "stream",
     "text": [
      "[CV]  bootstrap=False, criterion=mse, max_depth=10, max_features=auto, min_samples_leaf=4, min_samples_split=2, min_weight_fraction_leaf=0.0, n_estimators=2000, n_jobs=-1, verbose=1, warm_start=False, explained_variance=0.222, neg_mean_absolute_error=-67.378, neg_mean_squared_error=-7346.950, neg_mean_squared_log_error=-0.030, neg_median_absolute_error=-54.933, r2=0.222, total=  10.3s\n",
      "[CV] bootstrap=False, criterion=mse, max_depth=10, max_features=auto, min_samples_leaf=4, min_samples_split=2, min_weight_fraction_leaf=0.0, n_estimators=2000, n_jobs=-1, verbose=1, warm_start=False \n"
     ]
    },
    {
     "name": "stderr",
     "output_type": "stream",
     "text": [
      "[Parallel(n_jobs=-1)]: Using backend LokyBackend with 4 concurrent workers.\n",
      "[Parallel(n_jobs=-1)]: Done 280 tasks      | elapsed:    1.3s\n",
      "[Parallel(n_jobs=-1)]: Done 2000 out of 2000 | elapsed:    8.1s finished\n",
      "[Parallel(n_jobs=4)]: Using backend ThreadingBackend with 4 concurrent workers.\n",
      "[Parallel(n_jobs=4)]: Done  42 tasks      | elapsed:    0.0s\n",
      "[Parallel(n_jobs=4)]: Done 192 tasks      | elapsed:    0.1s\n",
      "[Parallel(n_jobs=4)]: Done 442 tasks      | elapsed:    0.1s\n",
      "[Parallel(n_jobs=4)]: Done 792 tasks      | elapsed:    0.3s\n",
      "[Parallel(n_jobs=4)]: Done 1242 tasks      | elapsed:    0.4s\n",
      "[Parallel(n_jobs=4)]: Done 1792 tasks      | elapsed:    0.6s\n",
      "[Parallel(n_jobs=4)]: Done 2000 out of 2000 | elapsed:    0.7s finished\n"
     ]
    },
    {
     "name": "stdout",
     "output_type": "stream",
     "text": [
      "[CV]  bootstrap=False, criterion=mse, max_depth=10, max_features=auto, min_samples_leaf=4, min_samples_split=2, min_weight_fraction_leaf=0.0, n_estimators=2000, n_jobs=-1, verbose=1, warm_start=False, explained_variance=0.222, neg_mean_absolute_error=-69.427, neg_mean_squared_error=-8152.985, neg_mean_squared_log_error=-0.077, neg_median_absolute_error=-55.880, r2=0.221, total=  10.0s\n",
      "[CV] bootstrap=False, criterion=mse, max_depth=10, max_features=auto, min_samples_leaf=4, min_samples_split=5, min_weight_fraction_leaf=0.0, n_estimators=200, n_jobs=-1, verbose=1, warm_start=False \n"
     ]
    },
    {
     "name": "stderr",
     "output_type": "stream",
     "text": [
      "[Parallel(n_jobs=-1)]: Using backend LokyBackend with 4 concurrent workers.\n",
      "[Parallel(n_jobs=-1)]: Done 190 tasks      | elapsed:    0.8s\n",
      "[Parallel(n_jobs=-1)]: Done 200 out of 200 | elapsed:    0.9s finished\n",
      "[Parallel(n_jobs=4)]: Using backend ThreadingBackend with 4 concurrent workers.\n",
      "[Parallel(n_jobs=4)]: Done  42 tasks      | elapsed:    0.0s\n",
      "[Parallel(n_jobs=4)]: Done 192 tasks      | elapsed:    0.1s\n",
      "[Parallel(n_jobs=4)]: Done 200 out of 200 | elapsed:    0.1s finished\n"
     ]
    },
    {
     "name": "stdout",
     "output_type": "stream",
     "text": [
      "[CV]  bootstrap=False, criterion=mse, max_depth=10, max_features=auto, min_samples_leaf=4, min_samples_split=5, min_weight_fraction_leaf=0.0, n_estimators=200, n_jobs=-1, verbose=1, warm_start=False, explained_variance=0.222, neg_mean_absolute_error=-67.379, neg_mean_squared_error=-7347.070, neg_mean_squared_log_error=-0.030, neg_median_absolute_error=-54.933, r2=0.222, total=   1.1s\n",
      "[CV] bootstrap=False, criterion=mse, max_depth=10, max_features=auto, min_samples_leaf=4, min_samples_split=5, min_weight_fraction_leaf=0.0, n_estimators=200, n_jobs=-1, verbose=1, warm_start=False \n"
     ]
    },
    {
     "name": "stderr",
     "output_type": "stream",
     "text": [
      "[Parallel(n_jobs=-1)]: Using backend LokyBackend with 4 concurrent workers.\n",
      "[Parallel(n_jobs=-1)]: Done 190 tasks      | elapsed:    0.8s\n",
      "[Parallel(n_jobs=-1)]: Done 200 out of 200 | elapsed:    0.9s finished\n",
      "[Parallel(n_jobs=4)]: Using backend ThreadingBackend with 4 concurrent workers.\n",
      "[Parallel(n_jobs=4)]: Done  42 tasks      | elapsed:    0.0s\n",
      "[Parallel(n_jobs=4)]: Done 192 tasks      | elapsed:    0.1s\n",
      "[Parallel(n_jobs=4)]: Done 200 out of 200 | elapsed:    0.1s finished\n"
     ]
    },
    {
     "name": "stdout",
     "output_type": "stream",
     "text": [
      "[CV]  bootstrap=False, criterion=mse, max_depth=10, max_features=auto, min_samples_leaf=4, min_samples_split=5, min_weight_fraction_leaf=0.0, n_estimators=200, n_jobs=-1, verbose=1, warm_start=False, explained_variance=0.222, neg_mean_absolute_error=-69.426, neg_mean_squared_error=-8153.161, neg_mean_squared_log_error=-0.077, neg_median_absolute_error=-55.950, r2=0.221, total=   1.1s\n",
      "[CV] bootstrap=False, criterion=mse, max_depth=10, max_features=auto, min_samples_leaf=4, min_samples_split=5, min_weight_fraction_leaf=0.0, n_estimators=2000, n_jobs=-1, verbose=1, warm_start=False \n"
     ]
    },
    {
     "name": "stderr",
     "output_type": "stream",
     "text": [
      "[Parallel(n_jobs=-1)]: Using backend LokyBackend with 4 concurrent workers.\n",
      "[Parallel(n_jobs=-1)]: Done 280 tasks      | elapsed:    1.3s\n",
      "[Parallel(n_jobs=-1)]: Done 2000 out of 2000 | elapsed:    8.3s finished\n",
      "[Parallel(n_jobs=4)]: Using backend ThreadingBackend with 4 concurrent workers.\n",
      "[Parallel(n_jobs=4)]: Done  42 tasks      | elapsed:    0.0s\n",
      "[Parallel(n_jobs=4)]: Done 192 tasks      | elapsed:    0.1s\n",
      "[Parallel(n_jobs=4)]: Done 442 tasks      | elapsed:    0.1s\n",
      "[Parallel(n_jobs=4)]: Done 792 tasks      | elapsed:    0.3s\n",
      "[Parallel(n_jobs=4)]: Done 1242 tasks      | elapsed:    0.4s\n",
      "[Parallel(n_jobs=4)]: Done 1792 tasks      | elapsed:    0.6s\n",
      "[Parallel(n_jobs=4)]: Done 2000 out of 2000 | elapsed:    0.7s finished\n"
     ]
    },
    {
     "name": "stdout",
     "output_type": "stream",
     "text": [
      "[CV]  bootstrap=False, criterion=mse, max_depth=10, max_features=auto, min_samples_leaf=4, min_samples_split=5, min_weight_fraction_leaf=0.0, n_estimators=2000, n_jobs=-1, verbose=1, warm_start=False, explained_variance=0.222, neg_mean_absolute_error=-67.379, neg_mean_squared_error=-7347.079, neg_mean_squared_log_error=-0.030, neg_median_absolute_error=-54.933, r2=0.222, total=  10.1s\n",
      "[CV] bootstrap=False, criterion=mse, max_depth=10, max_features=auto, min_samples_leaf=4, min_samples_split=5, min_weight_fraction_leaf=0.0, n_estimators=2000, n_jobs=-1, verbose=1, warm_start=False \n"
     ]
    },
    {
     "name": "stderr",
     "output_type": "stream",
     "text": [
      "[Parallel(n_jobs=-1)]: Using backend LokyBackend with 4 concurrent workers.\n",
      "[Parallel(n_jobs=-1)]: Done 280 tasks      | elapsed:    1.3s\n",
      "[Parallel(n_jobs=-1)]: Done 2000 out of 2000 | elapsed:    8.1s finished\n",
      "[Parallel(n_jobs=4)]: Using backend ThreadingBackend with 4 concurrent workers.\n",
      "[Parallel(n_jobs=4)]: Done  42 tasks      | elapsed:    0.0s\n",
      "[Parallel(n_jobs=4)]: Done 192 tasks      | elapsed:    0.1s\n",
      "[Parallel(n_jobs=4)]: Done 442 tasks      | elapsed:    0.1s\n",
      "[Parallel(n_jobs=4)]: Done 792 tasks      | elapsed:    0.3s\n",
      "[Parallel(n_jobs=4)]: Done 1242 tasks      | elapsed:    0.4s\n",
      "[Parallel(n_jobs=4)]: Done 1792 tasks      | elapsed:    0.6s\n",
      "[Parallel(n_jobs=4)]: Done 2000 out of 2000 | elapsed:    0.7s finished\n"
     ]
    },
    {
     "name": "stdout",
     "output_type": "stream",
     "text": [
      "[CV]  bootstrap=False, criterion=mse, max_depth=10, max_features=auto, min_samples_leaf=4, min_samples_split=5, min_weight_fraction_leaf=0.0, n_estimators=2000, n_jobs=-1, verbose=1, warm_start=False, explained_variance=0.222, neg_mean_absolute_error=-69.428, neg_mean_squared_error=-8153.176, neg_mean_squared_log_error=-0.077, neg_median_absolute_error=-55.880, r2=0.221, total=  10.0s\n",
      "[CV] bootstrap=False, criterion=mse, max_depth=10, max_features=auto, min_samples_leaf=4, min_samples_split=10, min_weight_fraction_leaf=0.0, n_estimators=200, n_jobs=-1, verbose=1, warm_start=False \n"
     ]
    },
    {
     "name": "stderr",
     "output_type": "stream",
     "text": [
      "[Parallel(n_jobs=-1)]: Using backend LokyBackend with 4 concurrent workers.\n",
      "[Parallel(n_jobs=-1)]: Done 190 tasks      | elapsed:    0.8s\n",
      "[Parallel(n_jobs=-1)]: Done 200 out of 200 | elapsed:    0.9s finished\n",
      "[Parallel(n_jobs=4)]: Using backend ThreadingBackend with 4 concurrent workers.\n",
      "[Parallel(n_jobs=4)]: Done  42 tasks      | elapsed:    0.0s\n",
      "[Parallel(n_jobs=4)]: Done 192 tasks      | elapsed:    0.1s\n",
      "[Parallel(n_jobs=4)]: Done 200 out of 200 | elapsed:    0.1s finished\n"
     ]
    },
    {
     "name": "stdout",
     "output_type": "stream",
     "text": [
      "[CV]  bootstrap=False, criterion=mse, max_depth=10, max_features=auto, min_samples_leaf=4, min_samples_split=10, min_weight_fraction_leaf=0.0, n_estimators=200, n_jobs=-1, verbose=1, warm_start=False, explained_variance=0.232, neg_mean_absolute_error=-66.939, neg_mean_squared_error=-7254.980, neg_mean_squared_log_error=-0.030, neg_median_absolute_error=-54.595, r2=0.231, total=   1.1s\n",
      "[CV] bootstrap=False, criterion=mse, max_depth=10, max_features=auto, min_samples_leaf=4, min_samples_split=10, min_weight_fraction_leaf=0.0, n_estimators=200, n_jobs=-1, verbose=1, warm_start=False \n"
     ]
    },
    {
     "name": "stderr",
     "output_type": "stream",
     "text": [
      "[Parallel(n_jobs=-1)]: Using backend LokyBackend with 4 concurrent workers.\n",
      "[Parallel(n_jobs=-1)]: Done 190 tasks      | elapsed:    0.8s\n",
      "[Parallel(n_jobs=-1)]: Done 200 out of 200 | elapsed:    0.9s finished\n",
      "[Parallel(n_jobs=4)]: Using backend ThreadingBackend with 4 concurrent workers.\n",
      "[Parallel(n_jobs=4)]: Done  42 tasks      | elapsed:    0.0s\n",
      "[Parallel(n_jobs=4)]: Done 192 tasks      | elapsed:    0.1s\n",
      "[Parallel(n_jobs=4)]: Done 200 out of 200 | elapsed:    0.1s finished\n"
     ]
    },
    {
     "name": "stdout",
     "output_type": "stream",
     "text": [
      "[CV]  bootstrap=False, criterion=mse, max_depth=10, max_features=auto, min_samples_leaf=4, min_samples_split=10, min_weight_fraction_leaf=0.0, n_estimators=200, n_jobs=-1, verbose=1, warm_start=False, explained_variance=0.233, neg_mean_absolute_error=-68.943, neg_mean_squared_error=-8035.670, neg_mean_squared_log_error=-0.076, neg_median_absolute_error=-55.429, r2=0.232, total=   1.1s\n",
      "[CV] bootstrap=False, criterion=mse, max_depth=10, max_features=auto, min_samples_leaf=4, min_samples_split=10, min_weight_fraction_leaf=0.0, n_estimators=2000, n_jobs=-1, verbose=1, warm_start=False \n"
     ]
    },
    {
     "name": "stderr",
     "output_type": "stream",
     "text": [
      "[Parallel(n_jobs=-1)]: Using backend LokyBackend with 4 concurrent workers.\n",
      "[Parallel(n_jobs=-1)]: Done 280 tasks      | elapsed:    1.3s\n",
      "[Parallel(n_jobs=-1)]: Done 2000 out of 2000 | elapsed:    8.2s finished\n",
      "[Parallel(n_jobs=4)]: Using backend ThreadingBackend with 4 concurrent workers.\n",
      "[Parallel(n_jobs=4)]: Done  42 tasks      | elapsed:    0.0s\n",
      "[Parallel(n_jobs=4)]: Done 192 tasks      | elapsed:    0.1s\n",
      "[Parallel(n_jobs=4)]: Done 442 tasks      | elapsed:    0.2s\n",
      "[Parallel(n_jobs=4)]: Done 792 tasks      | elapsed:    0.3s\n",
      "[Parallel(n_jobs=4)]: Done 1242 tasks      | elapsed:    0.4s\n",
      "[Parallel(n_jobs=4)]: Done 1792 tasks      | elapsed:    0.6s\n",
      "[Parallel(n_jobs=4)]: Done 2000 out of 2000 | elapsed:    0.7s finished\n"
     ]
    },
    {
     "name": "stdout",
     "output_type": "stream",
     "text": [
      "[CV]  bootstrap=False, criterion=mse, max_depth=10, max_features=auto, min_samples_leaf=4, min_samples_split=10, min_weight_fraction_leaf=0.0, n_estimators=2000, n_jobs=-1, verbose=1, warm_start=False, explained_variance=0.232, neg_mean_absolute_error=-66.939, neg_mean_squared_error=-7254.980, neg_mean_squared_log_error=-0.030, neg_median_absolute_error=-54.595, r2=0.231, total=  10.2s\n",
      "[CV] bootstrap=False, criterion=mse, max_depth=10, max_features=auto, min_samples_leaf=4, min_samples_split=10, min_weight_fraction_leaf=0.0, n_estimators=2000, n_jobs=-1, verbose=1, warm_start=False \n"
     ]
    },
    {
     "name": "stderr",
     "output_type": "stream",
     "text": [
      "[Parallel(n_jobs=-1)]: Using backend LokyBackend with 4 concurrent workers.\n",
      "[Parallel(n_jobs=-1)]: Done 280 tasks      | elapsed:    1.3s\n",
      "[Parallel(n_jobs=-1)]: Done 2000 out of 2000 | elapsed:    8.0s finished\n",
      "[Parallel(n_jobs=4)]: Using backend ThreadingBackend with 4 concurrent workers.\n",
      "[Parallel(n_jobs=4)]: Done  42 tasks      | elapsed:    0.0s\n",
      "[Parallel(n_jobs=4)]: Done 192 tasks      | elapsed:    0.1s\n",
      "[Parallel(n_jobs=4)]: Done 442 tasks      | elapsed:    0.1s\n",
      "[Parallel(n_jobs=4)]: Done 792 tasks      | elapsed:    0.3s\n",
      "[Parallel(n_jobs=4)]: Done 1242 tasks      | elapsed:    0.4s\n",
      "[Parallel(n_jobs=4)]: Done 1792 tasks      | elapsed:    0.6s\n",
      "[Parallel(n_jobs=4)]: Done 2000 out of 2000 | elapsed:    0.7s finished\n"
     ]
    },
    {
     "name": "stdout",
     "output_type": "stream",
     "text": [
      "[CV]  bootstrap=False, criterion=mse, max_depth=10, max_features=auto, min_samples_leaf=4, min_samples_split=10, min_weight_fraction_leaf=0.0, n_estimators=2000, n_jobs=-1, verbose=1, warm_start=False, explained_variance=0.233, neg_mean_absolute_error=-68.942, neg_mean_squared_error=-8035.227, neg_mean_squared_log_error=-0.076, neg_median_absolute_error=-55.429, r2=0.232, total=   9.9s\n",
      "[CV] bootstrap=False, criterion=mse, max_depth=10, max_features=sqrt, min_samples_leaf=1, min_samples_split=2, min_weight_fraction_leaf=0.0, n_estimators=200, n_jobs=-1, verbose=1, warm_start=False \n"
     ]
    },
    {
     "name": "stderr",
     "output_type": "stream",
     "text": [
      "[Parallel(n_jobs=-1)]: Using backend LokyBackend with 4 concurrent workers.\n",
      "[Parallel(n_jobs=-1)]: Done 190 tasks      | elapsed:    0.4s\n",
      "[Parallel(n_jobs=-1)]: Done 200 out of 200 | elapsed:    0.4s finished\n",
      "[Parallel(n_jobs=4)]: Using backend ThreadingBackend with 4 concurrent workers.\n",
      "[Parallel(n_jobs=4)]: Done  42 tasks      | elapsed:    0.0s\n",
      "[Parallel(n_jobs=4)]: Done 192 tasks      | elapsed:    0.1s\n",
      "[Parallel(n_jobs=4)]: Done 200 out of 200 | elapsed:    0.1s finished\n"
     ]
    },
    {
     "name": "stdout",
     "output_type": "stream",
     "text": [
      "[CV]  bootstrap=False, criterion=mse, max_depth=10, max_features=sqrt, min_samples_leaf=1, min_samples_split=2, min_weight_fraction_leaf=0.0, n_estimators=200, n_jobs=-1, verbose=1, warm_start=False, explained_variance=0.389, neg_mean_absolute_error=-61.010, neg_mean_squared_error=-5775.516, neg_mean_squared_log_error=-0.024, neg_median_absolute_error=-53.027, r2=0.388, total=   0.7s\n",
      "[CV] bootstrap=False, criterion=mse, max_depth=10, max_features=sqrt, min_samples_leaf=1, min_samples_split=2, min_weight_fraction_leaf=0.0, n_estimators=200, n_jobs=-1, verbose=1, warm_start=False \n"
     ]
    },
    {
     "name": "stderr",
     "output_type": "stream",
     "text": [
      "[Parallel(n_jobs=-1)]: Using backend LokyBackend with 4 concurrent workers.\n",
      "[Parallel(n_jobs=-1)]: Done 190 tasks      | elapsed:    0.4s\n",
      "[Parallel(n_jobs=-1)]: Done 200 out of 200 | elapsed:    0.4s finished\n",
      "[Parallel(n_jobs=4)]: Using backend ThreadingBackend with 4 concurrent workers.\n",
      "[Parallel(n_jobs=4)]: Done  42 tasks      | elapsed:    0.0s\n",
      "[Parallel(n_jobs=4)]: Done 192 tasks      | elapsed:    0.1s\n",
      "[Parallel(n_jobs=4)]: Done 200 out of 200 | elapsed:    0.1s finished\n"
     ]
    },
    {
     "name": "stdout",
     "output_type": "stream",
     "text": [
      "[CV]  bootstrap=False, criterion=mse, max_depth=10, max_features=sqrt, min_samples_leaf=1, min_samples_split=2, min_weight_fraction_leaf=0.0, n_estimators=200, n_jobs=-1, verbose=1, warm_start=False, explained_variance=0.447, neg_mean_absolute_error=-59.235, neg_mean_squared_error=-5789.720, neg_mean_squared_log_error=-0.067, neg_median_absolute_error=-49.800, r2=0.447, total=   0.7s\n",
      "[CV] bootstrap=False, criterion=mse, max_depth=10, max_features=sqrt, min_samples_leaf=1, min_samples_split=2, min_weight_fraction_leaf=0.0, n_estimators=2000, n_jobs=-1, verbose=1, warm_start=False \n"
     ]
    },
    {
     "name": "stderr",
     "output_type": "stream",
     "text": [
      "[Parallel(n_jobs=-1)]: Using backend LokyBackend with 4 concurrent workers.\n",
      "[Parallel(n_jobs=-1)]: Done 312 tasks      | elapsed:    0.7s\n",
      "[Parallel(n_jobs=-1)]: Done 2000 out of 2000 | elapsed:    3.4s finished\n",
      "[Parallel(n_jobs=4)]: Using backend ThreadingBackend with 4 concurrent workers.\n",
      "[Parallel(n_jobs=4)]: Done  42 tasks      | elapsed:    0.0s\n",
      "[Parallel(n_jobs=4)]: Done 192 tasks      | elapsed:    0.1s\n",
      "[Parallel(n_jobs=4)]: Done 442 tasks      | elapsed:    0.1s\n",
      "[Parallel(n_jobs=4)]: Done 792 tasks      | elapsed:    0.3s\n",
      "[Parallel(n_jobs=4)]: Done 1242 tasks      | elapsed:    0.4s\n",
      "[Parallel(n_jobs=4)]: Done 1792 tasks      | elapsed:    0.6s\n",
      "[Parallel(n_jobs=4)]: Done 2000 out of 2000 | elapsed:    0.7s finished\n"
     ]
    },
    {
     "name": "stdout",
     "output_type": "stream",
     "text": [
      "[CV]  bootstrap=False, criterion=mse, max_depth=10, max_features=sqrt, min_samples_leaf=1, min_samples_split=2, min_weight_fraction_leaf=0.0, n_estimators=2000, n_jobs=-1, verbose=1, warm_start=False, explained_variance=0.389, neg_mean_absolute_error=-61.008, neg_mean_squared_error=-5774.297, neg_mean_squared_log_error=-0.024, neg_median_absolute_error=-53.194, r2=0.388, total=   5.2s\n",
      "[CV] bootstrap=False, criterion=mse, max_depth=10, max_features=sqrt, min_samples_leaf=1, min_samples_split=2, min_weight_fraction_leaf=0.0, n_estimators=2000, n_jobs=-1, verbose=1, warm_start=False \n"
     ]
    },
    {
     "name": "stderr",
     "output_type": "stream",
     "text": [
      "[Parallel(n_jobs=-1)]: Using backend LokyBackend with 4 concurrent workers.\n",
      "[Parallel(n_jobs=-1)]: Done 312 tasks      | elapsed:    0.7s\n",
      "[Parallel(n_jobs=-1)]: Done 2000 out of 2000 | elapsed:    3.4s finished\n",
      "[Parallel(n_jobs=4)]: Using backend ThreadingBackend with 4 concurrent workers.\n",
      "[Parallel(n_jobs=4)]: Done  42 tasks      | elapsed:    0.0s\n",
      "[Parallel(n_jobs=4)]: Done 192 tasks      | elapsed:    0.1s\n",
      "[Parallel(n_jobs=4)]: Done 442 tasks      | elapsed:    0.1s\n",
      "[Parallel(n_jobs=4)]: Done 792 tasks      | elapsed:    0.3s\n",
      "[Parallel(n_jobs=4)]: Done 1242 tasks      | elapsed:    0.4s\n",
      "[Parallel(n_jobs=4)]: Done 1792 tasks      | elapsed:    0.6s\n",
      "[Parallel(n_jobs=4)]: Done 2000 out of 2000 | elapsed:    0.6s finished\n"
     ]
    },
    {
     "name": "stdout",
     "output_type": "stream",
     "text": [
      "[CV]  bootstrap=False, criterion=mse, max_depth=10, max_features=sqrt, min_samples_leaf=1, min_samples_split=2, min_weight_fraction_leaf=0.0, n_estimators=2000, n_jobs=-1, verbose=1, warm_start=False, explained_variance=0.449, neg_mean_absolute_error=-59.103, neg_mean_squared_error=-5767.706, neg_mean_squared_log_error=-0.067, neg_median_absolute_error=-49.393, r2=0.449, total=   5.2s\n",
      "[CV] bootstrap=False, criterion=mse, max_depth=10, max_features=sqrt, min_samples_leaf=1, min_samples_split=5, min_weight_fraction_leaf=0.0, n_estimators=200, n_jobs=-1, verbose=1, warm_start=False \n"
     ]
    },
    {
     "name": "stderr",
     "output_type": "stream",
     "text": [
      "[Parallel(n_jobs=-1)]: Using backend LokyBackend with 4 concurrent workers.\n",
      "[Parallel(n_jobs=-1)]: Done 190 tasks      | elapsed:    0.4s\n",
      "[Parallel(n_jobs=-1)]: Done 200 out of 200 | elapsed:    0.4s finished\n",
      "[Parallel(n_jobs=4)]: Using backend ThreadingBackend with 4 concurrent workers.\n",
      "[Parallel(n_jobs=4)]: Done  42 tasks      | elapsed:    0.0s\n",
      "[Parallel(n_jobs=4)]: Done 192 tasks      | elapsed:    0.1s\n",
      "[Parallel(n_jobs=4)]: Done 200 out of 200 | elapsed:    0.1s finished\n"
     ]
    },
    {
     "name": "stdout",
     "output_type": "stream",
     "text": [
      "[CV]  bootstrap=False, criterion=mse, max_depth=10, max_features=sqrt, min_samples_leaf=1, min_samples_split=5, min_weight_fraction_leaf=0.0, n_estimators=200, n_jobs=-1, verbose=1, warm_start=False, explained_variance=0.388, neg_mean_absolute_error=-61.035, neg_mean_squared_error=-5777.441, neg_mean_squared_log_error=-0.024, neg_median_absolute_error=-53.144, r2=0.388, total=   0.6s\n",
      "[CV] bootstrap=False, criterion=mse, max_depth=10, max_features=sqrt, min_samples_leaf=1, min_samples_split=5, min_weight_fraction_leaf=0.0, n_estimators=200, n_jobs=-1, verbose=1, warm_start=False \n"
     ]
    },
    {
     "name": "stderr",
     "output_type": "stream",
     "text": [
      "[Parallel(n_jobs=-1)]: Using backend LokyBackend with 4 concurrent workers.\n",
      "[Parallel(n_jobs=-1)]: Done 190 tasks      | elapsed:    0.4s\n",
      "[Parallel(n_jobs=-1)]: Done 200 out of 200 | elapsed:    0.4s finished\n",
      "[Parallel(n_jobs=4)]: Using backend ThreadingBackend with 4 concurrent workers.\n",
      "[Parallel(n_jobs=4)]: Done  42 tasks      | elapsed:    0.0s\n",
      "[Parallel(n_jobs=4)]: Done 192 tasks      | elapsed:    0.1s\n",
      "[Parallel(n_jobs=4)]: Done 200 out of 200 | elapsed:    0.1s finished\n"
     ]
    },
    {
     "name": "stdout",
     "output_type": "stream",
     "text": [
      "[CV]  bootstrap=False, criterion=mse, max_depth=10, max_features=sqrt, min_samples_leaf=1, min_samples_split=5, min_weight_fraction_leaf=0.0, n_estimators=200, n_jobs=-1, verbose=1, warm_start=False, explained_variance=0.449, neg_mean_absolute_error=-59.176, neg_mean_squared_error=-5764.296, neg_mean_squared_log_error=-0.067, neg_median_absolute_error=-49.665, r2=0.449, total=   0.6s\n",
      "[CV] bootstrap=False, criterion=mse, max_depth=10, max_features=sqrt, min_samples_leaf=1, min_samples_split=5, min_weight_fraction_leaf=0.0, n_estimators=2000, n_jobs=-1, verbose=1, warm_start=False \n"
     ]
    },
    {
     "name": "stderr",
     "output_type": "stream",
     "text": [
      "[Parallel(n_jobs=-1)]: Using backend LokyBackend with 4 concurrent workers.\n",
      "[Parallel(n_jobs=-1)]: Done 312 tasks      | elapsed:    0.6s\n",
      "[Parallel(n_jobs=-1)]: Done 2000 out of 2000 | elapsed:    3.2s finished\n",
      "[Parallel(n_jobs=4)]: Using backend ThreadingBackend with 4 concurrent workers.\n",
      "[Parallel(n_jobs=4)]: Done  42 tasks      | elapsed:    0.0s\n",
      "[Parallel(n_jobs=4)]: Done 192 tasks      | elapsed:    0.1s\n",
      "[Parallel(n_jobs=4)]: Done 442 tasks      | elapsed:    0.1s\n",
      "[Parallel(n_jobs=4)]: Done 792 tasks      | elapsed:    0.3s\n",
      "[Parallel(n_jobs=4)]: Done 1242 tasks      | elapsed:    0.4s\n",
      "[Parallel(n_jobs=4)]: Done 1792 tasks      | elapsed:    0.6s\n",
      "[Parallel(n_jobs=4)]: Done 2000 out of 2000 | elapsed:    0.7s finished\n"
     ]
    },
    {
     "name": "stdout",
     "output_type": "stream",
     "text": [
      "[CV]  bootstrap=False, criterion=mse, max_depth=10, max_features=sqrt, min_samples_leaf=1, min_samples_split=5, min_weight_fraction_leaf=0.0, n_estimators=2000, n_jobs=-1, verbose=1, warm_start=False, explained_variance=0.389, neg_mean_absolute_error=-61.017, neg_mean_squared_error=-5775.401, neg_mean_squared_log_error=-0.024, neg_median_absolute_error=-53.383, r2=0.388, total=   5.1s\n",
      "[CV] bootstrap=False, criterion=mse, max_depth=10, max_features=sqrt, min_samples_leaf=1, min_samples_split=5, min_weight_fraction_leaf=0.0, n_estimators=2000, n_jobs=-1, verbose=1, warm_start=False \n"
     ]
    },
    {
     "name": "stderr",
     "output_type": "stream",
     "text": [
      "[Parallel(n_jobs=-1)]: Using backend LokyBackend with 4 concurrent workers.\n",
      "[Parallel(n_jobs=-1)]: Done 312 tasks      | elapsed:    0.6s\n",
      "[Parallel(n_jobs=-1)]: Done 2000 out of 2000 | elapsed:    3.2s finished\n",
      "[Parallel(n_jobs=4)]: Using backend ThreadingBackend with 4 concurrent workers.\n",
      "[Parallel(n_jobs=4)]: Done  42 tasks      | elapsed:    0.0s\n",
      "[Parallel(n_jobs=4)]: Done 192 tasks      | elapsed:    0.1s\n",
      "[Parallel(n_jobs=4)]: Done 442 tasks      | elapsed:    0.1s\n",
      "[Parallel(n_jobs=4)]: Done 792 tasks      | elapsed:    0.3s\n",
      "[Parallel(n_jobs=4)]: Done 1242 tasks      | elapsed:    0.4s\n",
      "[Parallel(n_jobs=4)]: Done 1792 tasks      | elapsed:    0.6s\n",
      "[Parallel(n_jobs=4)]: Done 2000 out of 2000 | elapsed:    0.6s finished\n"
     ]
    },
    {
     "name": "stdout",
     "output_type": "stream",
     "text": [
      "[CV]  bootstrap=False, criterion=mse, max_depth=10, max_features=sqrt, min_samples_leaf=1, min_samples_split=5, min_weight_fraction_leaf=0.0, n_estimators=2000, n_jobs=-1, verbose=1, warm_start=False, explained_variance=0.450, neg_mean_absolute_error=-59.079, neg_mean_squared_error=-5757.680, neg_mean_squared_log_error=-0.067, neg_median_absolute_error=-49.572, r2=0.450, total=   5.1s\n",
      "[CV] bootstrap=False, criterion=mse, max_depth=10, max_features=sqrt, min_samples_leaf=1, min_samples_split=10, min_weight_fraction_leaf=0.0, n_estimators=200, n_jobs=-1, verbose=1, warm_start=False \n"
     ]
    },
    {
     "name": "stderr",
     "output_type": "stream",
     "text": [
      "[Parallel(n_jobs=-1)]: Using backend LokyBackend with 4 concurrent workers.\n",
      "[Parallel(n_jobs=-1)]: Done 190 tasks      | elapsed:    0.4s\n",
      "[Parallel(n_jobs=-1)]: Done 200 out of 200 | elapsed:    0.4s finished\n",
      "[Parallel(n_jobs=4)]: Using backend ThreadingBackend with 4 concurrent workers.\n",
      "[Parallel(n_jobs=4)]: Done  42 tasks      | elapsed:    0.0s\n",
      "[Parallel(n_jobs=4)]: Done 192 tasks      | elapsed:    0.1s\n",
      "[Parallel(n_jobs=4)]: Done 200 out of 200 | elapsed:    0.1s finished\n"
     ]
    },
    {
     "name": "stdout",
     "output_type": "stream",
     "text": [
      "[CV]  bootstrap=False, criterion=mse, max_depth=10, max_features=sqrt, min_samples_leaf=1, min_samples_split=10, min_weight_fraction_leaf=0.0, n_estimators=200, n_jobs=-1, verbose=1, warm_start=False, explained_variance=0.391, neg_mean_absolute_error=-60.884, neg_mean_squared_error=-5751.827, neg_mean_squared_log_error=-0.024, neg_median_absolute_error=-52.746, r2=0.391, total=   0.6s\n",
      "[CV] bootstrap=False, criterion=mse, max_depth=10, max_features=sqrt, min_samples_leaf=1, min_samples_split=10, min_weight_fraction_leaf=0.0, n_estimators=200, n_jobs=-1, verbose=1, warm_start=False \n"
     ]
    },
    {
     "name": "stderr",
     "output_type": "stream",
     "text": [
      "[Parallel(n_jobs=-1)]: Using backend LokyBackend with 4 concurrent workers.\n",
      "[Parallel(n_jobs=-1)]: Done 190 tasks      | elapsed:    0.4s\n",
      "[Parallel(n_jobs=-1)]: Done 200 out of 200 | elapsed:    0.4s finished\n",
      "[Parallel(n_jobs=4)]: Using backend ThreadingBackend with 4 concurrent workers.\n",
      "[Parallel(n_jobs=4)]: Done  42 tasks      | elapsed:    0.0s\n",
      "[Parallel(n_jobs=4)]: Done 192 tasks      | elapsed:    0.1s\n",
      "[Parallel(n_jobs=4)]: Done 200 out of 200 | elapsed:    0.1s finished\n"
     ]
    },
    {
     "name": "stdout",
     "output_type": "stream",
     "text": [
      "[CV]  bootstrap=False, criterion=mse, max_depth=10, max_features=sqrt, min_samples_leaf=1, min_samples_split=10, min_weight_fraction_leaf=0.0, n_estimators=200, n_jobs=-1, verbose=1, warm_start=False, explained_variance=0.452, neg_mean_absolute_error=-58.988, neg_mean_squared_error=-5736.683, neg_mean_squared_log_error=-0.067, neg_median_absolute_error=-49.469, r2=0.452, total=   0.6s\n",
      "[CV] bootstrap=False, criterion=mse, max_depth=10, max_features=sqrt, min_samples_leaf=1, min_samples_split=10, min_weight_fraction_leaf=0.0, n_estimators=2000, n_jobs=-1, verbose=1, warm_start=False \n"
     ]
    },
    {
     "name": "stderr",
     "output_type": "stream",
     "text": [
      "[Parallel(n_jobs=-1)]: Using backend LokyBackend with 4 concurrent workers.\n",
      "[Parallel(n_jobs=-1)]: Done 312 tasks      | elapsed:    0.6s\n",
      "[Parallel(n_jobs=-1)]: Done 2000 out of 2000 | elapsed:    3.1s finished\n",
      "[Parallel(n_jobs=4)]: Using backend ThreadingBackend with 4 concurrent workers.\n",
      "[Parallel(n_jobs=4)]: Done  42 tasks      | elapsed:    0.0s\n",
      "[Parallel(n_jobs=4)]: Done 192 tasks      | elapsed:    0.1s\n",
      "[Parallel(n_jobs=4)]: Done 442 tasks      | elapsed:    0.2s\n",
      "[Parallel(n_jobs=4)]: Done 792 tasks      | elapsed:    0.3s\n",
      "[Parallel(n_jobs=4)]: Done 1242 tasks      | elapsed:    0.4s\n",
      "[Parallel(n_jobs=4)]: Done 1792 tasks      | elapsed:    0.6s\n",
      "[Parallel(n_jobs=4)]: Done 2000 out of 2000 | elapsed:    0.7s finished\n"
     ]
    },
    {
     "name": "stdout",
     "output_type": "stream",
     "text": [
      "[CV]  bootstrap=False, criterion=mse, max_depth=10, max_features=sqrt, min_samples_leaf=1, min_samples_split=10, min_weight_fraction_leaf=0.0, n_estimators=2000, n_jobs=-1, verbose=1, warm_start=False, explained_variance=0.391, neg_mean_absolute_error=-60.902, neg_mean_squared_error=-5748.989, neg_mean_squared_log_error=-0.024, neg_median_absolute_error=-53.151, r2=0.391, total=   5.0s\n",
      "[CV] bootstrap=False, criterion=mse, max_depth=10, max_features=sqrt, min_samples_leaf=1, min_samples_split=10, min_weight_fraction_leaf=0.0, n_estimators=2000, n_jobs=-1, verbose=1, warm_start=False \n"
     ]
    },
    {
     "name": "stderr",
     "output_type": "stream",
     "text": [
      "[Parallel(n_jobs=-1)]: Using backend LokyBackend with 4 concurrent workers.\n",
      "[Parallel(n_jobs=-1)]: Done 312 tasks      | elapsed:    0.6s\n",
      "[Parallel(n_jobs=-1)]: Done 2000 out of 2000 | elapsed:    3.1s finished\n",
      "[Parallel(n_jobs=4)]: Using backend ThreadingBackend with 4 concurrent workers.\n",
      "[Parallel(n_jobs=4)]: Done  42 tasks      | elapsed:    0.0s\n",
      "[Parallel(n_jobs=4)]: Done 192 tasks      | elapsed:    0.1s\n",
      "[Parallel(n_jobs=4)]: Done 442 tasks      | elapsed:    0.1s\n",
      "[Parallel(n_jobs=4)]: Done 792 tasks      | elapsed:    0.3s\n",
      "[Parallel(n_jobs=4)]: Done 1242 tasks      | elapsed:    0.4s\n",
      "[Parallel(n_jobs=4)]: Done 1792 tasks      | elapsed:    0.6s\n",
      "[Parallel(n_jobs=4)]: Done 2000 out of 2000 | elapsed:    0.7s finished\n"
     ]
    },
    {
     "name": "stdout",
     "output_type": "stream",
     "text": [
      "[CV]  bootstrap=False, criterion=mse, max_depth=10, max_features=sqrt, min_samples_leaf=1, min_samples_split=10, min_weight_fraction_leaf=0.0, n_estimators=2000, n_jobs=-1, verbose=1, warm_start=False, explained_variance=0.452, neg_mean_absolute_error=-59.012, neg_mean_squared_error=-5741.132, neg_mean_squared_log_error=-0.067, neg_median_absolute_error=-49.193, r2=0.451, total=   5.0s\n",
      "[CV] bootstrap=False, criterion=mse, max_depth=10, max_features=sqrt, min_samples_leaf=2, min_samples_split=2, min_weight_fraction_leaf=0.0, n_estimators=200, n_jobs=-1, verbose=1, warm_start=False \n"
     ]
    },
    {
     "name": "stderr",
     "output_type": "stream",
     "text": [
      "[Parallel(n_jobs=-1)]: Using backend LokyBackend with 4 concurrent workers.\n",
      "[Parallel(n_jobs=-1)]: Done 190 tasks      | elapsed:    0.4s\n",
      "[Parallel(n_jobs=-1)]: Done 200 out of 200 | elapsed:    0.4s finished\n",
      "[Parallel(n_jobs=4)]: Using backend ThreadingBackend with 4 concurrent workers.\n",
      "[Parallel(n_jobs=4)]: Done  42 tasks      | elapsed:    0.0s\n",
      "[Parallel(n_jobs=4)]: Done 192 tasks      | elapsed:    0.1s\n",
      "[Parallel(n_jobs=4)]: Done 200 out of 200 | elapsed:    0.1s finished\n"
     ]
    },
    {
     "name": "stdout",
     "output_type": "stream",
     "text": [
      "[CV]  bootstrap=False, criterion=mse, max_depth=10, max_features=sqrt, min_samples_leaf=2, min_samples_split=2, min_weight_fraction_leaf=0.0, n_estimators=200, n_jobs=-1, verbose=1, warm_start=False, explained_variance=0.390, neg_mean_absolute_error=-60.957, neg_mean_squared_error=-5765.647, neg_mean_squared_log_error=-0.024, neg_median_absolute_error=-53.389, r2=0.389, total=   0.7s\n",
      "[CV] bootstrap=False, criterion=mse, max_depth=10, max_features=sqrt, min_samples_leaf=2, min_samples_split=2, min_weight_fraction_leaf=0.0, n_estimators=200, n_jobs=-1, verbose=1, warm_start=False \n"
     ]
    },
    {
     "name": "stderr",
     "output_type": "stream",
     "text": [
      "[Parallel(n_jobs=-1)]: Using backend LokyBackend with 4 concurrent workers.\n",
      "[Parallel(n_jobs=-1)]: Done 190 tasks      | elapsed:    0.4s\n",
      "[Parallel(n_jobs=-1)]: Done 200 out of 200 | elapsed:    0.4s finished\n",
      "[Parallel(n_jobs=4)]: Using backend ThreadingBackend with 4 concurrent workers.\n",
      "[Parallel(n_jobs=4)]: Done  42 tasks      | elapsed:    0.0s\n",
      "[Parallel(n_jobs=4)]: Done 192 tasks      | elapsed:    0.1s\n",
      "[Parallel(n_jobs=4)]: Done 200 out of 200 | elapsed:    0.1s finished\n"
     ]
    },
    {
     "name": "stdout",
     "output_type": "stream",
     "text": [
      "[CV]  bootstrap=False, criterion=mse, max_depth=10, max_features=sqrt, min_samples_leaf=2, min_samples_split=2, min_weight_fraction_leaf=0.0, n_estimators=200, n_jobs=-1, verbose=1, warm_start=False, explained_variance=0.449, neg_mean_absolute_error=-59.071, neg_mean_squared_error=-5772.378, neg_mean_squared_log_error=-0.067, neg_median_absolute_error=-48.972, r2=0.448, total=   0.7s\n",
      "[CV] bootstrap=False, criterion=mse, max_depth=10, max_features=sqrt, min_samples_leaf=2, min_samples_split=2, min_weight_fraction_leaf=0.0, n_estimators=2000, n_jobs=-1, verbose=1, warm_start=False \n"
     ]
    },
    {
     "name": "stderr",
     "output_type": "stream",
     "text": [
      "[Parallel(n_jobs=-1)]: Using backend LokyBackend with 4 concurrent workers.\n",
      "[Parallel(n_jobs=-1)]: Done 312 tasks      | elapsed:    0.6s\n",
      "[Parallel(n_jobs=-1)]: Done 2000 out of 2000 | elapsed:    3.3s finished\n",
      "[Parallel(n_jobs=4)]: Using backend ThreadingBackend with 4 concurrent workers.\n",
      "[Parallel(n_jobs=4)]: Done  42 tasks      | elapsed:    0.0s\n",
      "[Parallel(n_jobs=4)]: Done 192 tasks      | elapsed:    0.1s\n",
      "[Parallel(n_jobs=4)]: Done 442 tasks      | elapsed:    0.1s\n",
      "[Parallel(n_jobs=4)]: Done 792 tasks      | elapsed:    0.3s\n",
      "[Parallel(n_jobs=4)]: Done 1242 tasks      | elapsed:    0.4s\n",
      "[Parallel(n_jobs=4)]: Done 1792 tasks      | elapsed:    0.6s\n",
      "[Parallel(n_jobs=4)]: Done 2000 out of 2000 | elapsed:    0.7s finished\n"
     ]
    },
    {
     "name": "stdout",
     "output_type": "stream",
     "text": [
      "[CV]  bootstrap=False, criterion=mse, max_depth=10, max_features=sqrt, min_samples_leaf=2, min_samples_split=2, min_weight_fraction_leaf=0.0, n_estimators=2000, n_jobs=-1, verbose=1, warm_start=False, explained_variance=0.391, neg_mean_absolute_error=-60.871, neg_mean_squared_error=-5754.977, neg_mean_squared_log_error=-0.024, neg_median_absolute_error=-53.056, r2=0.390, total=   5.1s\n",
      "[CV] bootstrap=False, criterion=mse, max_depth=10, max_features=sqrt, min_samples_leaf=2, min_samples_split=2, min_weight_fraction_leaf=0.0, n_estimators=2000, n_jobs=-1, verbose=1, warm_start=False \n"
     ]
    },
    {
     "name": "stderr",
     "output_type": "stream",
     "text": [
      "[Parallel(n_jobs=-1)]: Using backend LokyBackend with 4 concurrent workers.\n",
      "[Parallel(n_jobs=-1)]: Done 312 tasks      | elapsed:    0.7s\n",
      "[Parallel(n_jobs=-1)]: Done 2000 out of 2000 | elapsed:    3.2s finished\n",
      "[Parallel(n_jobs=4)]: Using backend ThreadingBackend with 4 concurrent workers.\n",
      "[Parallel(n_jobs=4)]: Done  42 tasks      | elapsed:    0.0s\n",
      "[Parallel(n_jobs=4)]: Done 192 tasks      | elapsed:    0.1s\n",
      "[Parallel(n_jobs=4)]: Done 442 tasks      | elapsed:    0.1s\n",
      "[Parallel(n_jobs=4)]: Done 792 tasks      | elapsed:    0.3s\n",
      "[Parallel(n_jobs=4)]: Done 1242 tasks      | elapsed:    0.4s\n",
      "[Parallel(n_jobs=4)]: Done 1792 tasks      | elapsed:    0.6s\n",
      "[Parallel(n_jobs=4)]: Done 2000 out of 2000 | elapsed:    0.7s finished\n"
     ]
    },
    {
     "name": "stdout",
     "output_type": "stream",
     "text": [
      "[CV]  bootstrap=False, criterion=mse, max_depth=10, max_features=sqrt, min_samples_leaf=2, min_samples_split=2, min_weight_fraction_leaf=0.0, n_estimators=2000, n_jobs=-1, verbose=1, warm_start=False, explained_variance=0.451, neg_mean_absolute_error=-58.985, neg_mean_squared_error=-5744.819, neg_mean_squared_log_error=-0.067, neg_median_absolute_error=-49.165, r2=0.451, total=   5.1s\n",
      "[CV] bootstrap=False, criterion=mse, max_depth=10, max_features=sqrt, min_samples_leaf=2, min_samples_split=5, min_weight_fraction_leaf=0.0, n_estimators=200, n_jobs=-1, verbose=1, warm_start=False \n"
     ]
    },
    {
     "name": "stderr",
     "output_type": "stream",
     "text": [
      "[Parallel(n_jobs=-1)]: Using backend LokyBackend with 4 concurrent workers.\n",
      "[Parallel(n_jobs=-1)]: Done 190 tasks      | elapsed:    0.4s\n",
      "[Parallel(n_jobs=-1)]: Done 200 out of 200 | elapsed:    0.4s finished\n",
      "[Parallel(n_jobs=4)]: Using backend ThreadingBackend with 4 concurrent workers.\n",
      "[Parallel(n_jobs=4)]: Done  42 tasks      | elapsed:    0.0s\n",
      "[Parallel(n_jobs=4)]: Done 192 tasks      | elapsed:    0.1s\n",
      "[Parallel(n_jobs=4)]: Done 200 out of 200 | elapsed:    0.1s finished\n"
     ]
    },
    {
     "name": "stdout",
     "output_type": "stream",
     "text": [
      "[CV]  bootstrap=False, criterion=mse, max_depth=10, max_features=sqrt, min_samples_leaf=2, min_samples_split=5, min_weight_fraction_leaf=0.0, n_estimators=200, n_jobs=-1, verbose=1, warm_start=False, explained_variance=0.390, neg_mean_absolute_error=-60.946, neg_mean_squared_error=-5763.818, neg_mean_squared_log_error=-0.024, neg_median_absolute_error=-53.013, r2=0.389, total=   0.7s\n",
      "[CV] bootstrap=False, criterion=mse, max_depth=10, max_features=sqrt, min_samples_leaf=2, min_samples_split=5, min_weight_fraction_leaf=0.0, n_estimators=200, n_jobs=-1, verbose=1, warm_start=False \n"
     ]
    },
    {
     "name": "stderr",
     "output_type": "stream",
     "text": [
      "[Parallel(n_jobs=-1)]: Using backend LokyBackend with 4 concurrent workers.\n",
      "[Parallel(n_jobs=-1)]: Done 175 tasks      | elapsed:    0.4s\n",
      "[Parallel(n_jobs=-1)]: Done 200 out of 200 | elapsed:    0.4s finished\n",
      "[Parallel(n_jobs=4)]: Using backend ThreadingBackend with 4 concurrent workers.\n",
      "[Parallel(n_jobs=4)]: Done  42 tasks      | elapsed:    0.0s\n",
      "[Parallel(n_jobs=4)]: Done 192 tasks      | elapsed:    0.1s\n",
      "[Parallel(n_jobs=4)]: Done 200 out of 200 | elapsed:    0.1s finished\n"
     ]
    },
    {
     "name": "stdout",
     "output_type": "stream",
     "text": [
      "[CV]  bootstrap=False, criterion=mse, max_depth=10, max_features=sqrt, min_samples_leaf=2, min_samples_split=5, min_weight_fraction_leaf=0.0, n_estimators=200, n_jobs=-1, verbose=1, warm_start=False, explained_variance=0.451, neg_mean_absolute_error=-58.933, neg_mean_squared_error=-5747.214, neg_mean_squared_log_error=-0.067, neg_median_absolute_error=-49.353, r2=0.451, total=   0.7s\n",
      "[CV] bootstrap=False, criterion=mse, max_depth=10, max_features=sqrt, min_samples_leaf=2, min_samples_split=5, min_weight_fraction_leaf=0.0, n_estimators=2000, n_jobs=-1, verbose=1, warm_start=False \n"
     ]
    },
    {
     "name": "stderr",
     "output_type": "stream",
     "text": [
      "[Parallel(n_jobs=-1)]: Using backend LokyBackend with 4 concurrent workers.\n",
      "[Parallel(n_jobs=-1)]: Done 312 tasks      | elapsed:    0.6s\n",
      "[Parallel(n_jobs=-1)]: Done 2000 out of 2000 | elapsed:    3.2s finished\n",
      "[Parallel(n_jobs=4)]: Using backend ThreadingBackend with 4 concurrent workers.\n",
      "[Parallel(n_jobs=4)]: Done  42 tasks      | elapsed:    0.0s\n",
      "[Parallel(n_jobs=4)]: Done 192 tasks      | elapsed:    0.1s\n",
      "[Parallel(n_jobs=4)]: Done 442 tasks      | elapsed:    0.1s\n",
      "[Parallel(n_jobs=4)]: Done 792 tasks      | elapsed:    0.3s\n",
      "[Parallel(n_jobs=4)]: Done 1242 tasks      | elapsed:    0.4s\n",
      "[Parallel(n_jobs=4)]: Done 1792 tasks      | elapsed:    0.6s\n",
      "[Parallel(n_jobs=4)]: Done 2000 out of 2000 | elapsed:    0.6s finished\n"
     ]
    },
    {
     "name": "stdout",
     "output_type": "stream",
     "text": [
      "[CV]  bootstrap=False, criterion=mse, max_depth=10, max_features=sqrt, min_samples_leaf=2, min_samples_split=5, min_weight_fraction_leaf=0.0, n_estimators=2000, n_jobs=-1, verbose=1, warm_start=False, explained_variance=0.390, neg_mean_absolute_error=-60.898, neg_mean_squared_error=-5759.874, neg_mean_squared_log_error=-0.024, neg_median_absolute_error=-52.867, r2=0.390, total=   5.0s\n",
      "[CV] bootstrap=False, criterion=mse, max_depth=10, max_features=sqrt, min_samples_leaf=2, min_samples_split=5, min_weight_fraction_leaf=0.0, n_estimators=2000, n_jobs=-1, verbose=1, warm_start=False \n"
     ]
    },
    {
     "name": "stderr",
     "output_type": "stream",
     "text": [
      "[Parallel(n_jobs=-1)]: Using backend LokyBackend with 4 concurrent workers.\n",
      "[Parallel(n_jobs=-1)]: Done 312 tasks      | elapsed:    0.6s\n",
      "[Parallel(n_jobs=-1)]: Done 2000 out of 2000 | elapsed:    3.2s finished\n",
      "[Parallel(n_jobs=4)]: Using backend ThreadingBackend with 4 concurrent workers.\n",
      "[Parallel(n_jobs=4)]: Done  42 tasks      | elapsed:    0.0s\n",
      "[Parallel(n_jobs=4)]: Done 192 tasks      | elapsed:    0.1s\n",
      "[Parallel(n_jobs=4)]: Done 442 tasks      | elapsed:    0.1s\n",
      "[Parallel(n_jobs=4)]: Done 792 tasks      | elapsed:    0.3s\n",
      "[Parallel(n_jobs=4)]: Done 1242 tasks      | elapsed:    0.4s\n",
      "[Parallel(n_jobs=4)]: Done 1792 tasks      | elapsed:    0.6s\n",
      "[Parallel(n_jobs=4)]: Done 2000 out of 2000 | elapsed:    0.7s finished\n"
     ]
    },
    {
     "name": "stdout",
     "output_type": "stream",
     "text": [
      "[CV]  bootstrap=False, criterion=mse, max_depth=10, max_features=sqrt, min_samples_leaf=2, min_samples_split=5, min_weight_fraction_leaf=0.0, n_estimators=2000, n_jobs=-1, verbose=1, warm_start=False, explained_variance=0.451, neg_mean_absolute_error=-58.987, neg_mean_squared_error=-5743.635, neg_mean_squared_log_error=-0.067, neg_median_absolute_error=-49.326, r2=0.451, total=   5.0s\n",
      "[CV] bootstrap=False, criterion=mse, max_depth=10, max_features=sqrt, min_samples_leaf=2, min_samples_split=10, min_weight_fraction_leaf=0.0, n_estimators=200, n_jobs=-1, verbose=1, warm_start=False \n"
     ]
    },
    {
     "name": "stderr",
     "output_type": "stream",
     "text": [
      "[Parallel(n_jobs=-1)]: Using backend LokyBackend with 4 concurrent workers.\n",
      "[Parallel(n_jobs=-1)]: Done 190 tasks      | elapsed:    0.4s\n",
      "[Parallel(n_jobs=-1)]: Done 200 out of 200 | elapsed:    0.4s finished\n",
      "[Parallel(n_jobs=4)]: Using backend ThreadingBackend with 4 concurrent workers.\n",
      "[Parallel(n_jobs=4)]: Done  42 tasks      | elapsed:    0.0s\n",
      "[Parallel(n_jobs=4)]: Done 192 tasks      | elapsed:    0.1s\n",
      "[Parallel(n_jobs=4)]: Done 200 out of 200 | elapsed:    0.1s finished\n"
     ]
    },
    {
     "name": "stdout",
     "output_type": "stream",
     "text": [
      "[CV]  bootstrap=False, criterion=mse, max_depth=10, max_features=sqrt, min_samples_leaf=2, min_samples_split=10, min_weight_fraction_leaf=0.0, n_estimators=200, n_jobs=-1, verbose=1, warm_start=False, explained_variance=0.392, neg_mean_absolute_error=-60.793, neg_mean_squared_error=-5742.436, neg_mean_squared_log_error=-0.024, neg_median_absolute_error=-53.029, r2=0.392, total=   0.6s\n",
      "[CV] bootstrap=False, criterion=mse, max_depth=10, max_features=sqrt, min_samples_leaf=2, min_samples_split=10, min_weight_fraction_leaf=0.0, n_estimators=200, n_jobs=-1, verbose=1, warm_start=False \n"
     ]
    },
    {
     "name": "stderr",
     "output_type": "stream",
     "text": [
      "[Parallel(n_jobs=-1)]: Using backend LokyBackend with 4 concurrent workers.\n",
      "[Parallel(n_jobs=-1)]: Done 190 tasks      | elapsed:    0.4s\n",
      "[Parallel(n_jobs=-1)]: Done 200 out of 200 | elapsed:    0.4s finished\n",
      "[Parallel(n_jobs=4)]: Using backend ThreadingBackend with 4 concurrent workers.\n",
      "[Parallel(n_jobs=4)]: Done  42 tasks      | elapsed:    0.0s\n",
      "[Parallel(n_jobs=4)]: Done 192 tasks      | elapsed:    0.1s\n",
      "[Parallel(n_jobs=4)]: Done 200 out of 200 | elapsed:    0.1s finished\n"
     ]
    },
    {
     "name": "stdout",
     "output_type": "stream",
     "text": [
      "[CV]  bootstrap=False, criterion=mse, max_depth=10, max_features=sqrt, min_samples_leaf=2, min_samples_split=10, min_weight_fraction_leaf=0.0, n_estimators=200, n_jobs=-1, verbose=1, warm_start=False, explained_variance=0.450, neg_mean_absolute_error=-59.123, neg_mean_squared_error=-5756.656, neg_mean_squared_log_error=-0.067, neg_median_absolute_error=-49.859, r2=0.450, total=   0.6s\n",
      "[CV] bootstrap=False, criterion=mse, max_depth=10, max_features=sqrt, min_samples_leaf=2, min_samples_split=10, min_weight_fraction_leaf=0.0, n_estimators=2000, n_jobs=-1, verbose=1, warm_start=False \n"
     ]
    },
    {
     "name": "stderr",
     "output_type": "stream",
     "text": [
      "[Parallel(n_jobs=-1)]: Using backend LokyBackend with 4 concurrent workers.\n",
      "[Parallel(n_jobs=-1)]: Done 312 tasks      | elapsed:    0.6s\n",
      "[Parallel(n_jobs=-1)]: Done 2000 out of 2000 | elapsed:    3.3s finished\n",
      "[Parallel(n_jobs=4)]: Using backend ThreadingBackend with 4 concurrent workers.\n",
      "[Parallel(n_jobs=4)]: Done  42 tasks      | elapsed:    0.0s\n",
      "[Parallel(n_jobs=4)]: Done 192 tasks      | elapsed:    0.1s\n",
      "[Parallel(n_jobs=4)]: Done 442 tasks      | elapsed:    0.1s\n",
      "[Parallel(n_jobs=4)]: Done 792 tasks      | elapsed:    0.3s\n",
      "[Parallel(n_jobs=4)]: Done 1242 tasks      | elapsed:    0.4s\n",
      "[Parallel(n_jobs=4)]: Done 1792 tasks      | elapsed:    0.6s\n",
      "[Parallel(n_jobs=4)]: Done 2000 out of 2000 | elapsed:    0.7s finished\n"
     ]
    },
    {
     "name": "stdout",
     "output_type": "stream",
     "text": [
      "[CV]  bootstrap=False, criterion=mse, max_depth=10, max_features=sqrt, min_samples_leaf=2, min_samples_split=10, min_weight_fraction_leaf=0.0, n_estimators=2000, n_jobs=-1, verbose=1, warm_start=False, explained_variance=0.392, neg_mean_absolute_error=-60.798, neg_mean_squared_error=-5741.607, neg_mean_squared_log_error=-0.024, neg_median_absolute_error=-53.065, r2=0.392, total=   5.2s\n",
      "[CV] bootstrap=False, criterion=mse, max_depth=10, max_features=sqrt, min_samples_leaf=2, min_samples_split=10, min_weight_fraction_leaf=0.0, n_estimators=2000, n_jobs=-1, verbose=1, warm_start=False \n"
     ]
    },
    {
     "name": "stderr",
     "output_type": "stream",
     "text": [
      "[Parallel(n_jobs=-1)]: Using backend LokyBackend with 4 concurrent workers.\n",
      "[Parallel(n_jobs=-1)]: Done 312 tasks      | elapsed:    0.6s\n",
      "[Parallel(n_jobs=-1)]: Done 2000 out of 2000 | elapsed:    3.1s finished\n",
      "[Parallel(n_jobs=4)]: Using backend ThreadingBackend with 4 concurrent workers.\n",
      "[Parallel(n_jobs=4)]: Done  42 tasks      | elapsed:    0.0s\n",
      "[Parallel(n_jobs=4)]: Done 192 tasks      | elapsed:    0.1s\n",
      "[Parallel(n_jobs=4)]: Done 442 tasks      | elapsed:    0.2s\n",
      "[Parallel(n_jobs=4)]: Done 792 tasks      | elapsed:    0.3s\n",
      "[Parallel(n_jobs=4)]: Done 1242 tasks      | elapsed:    0.4s\n",
      "[Parallel(n_jobs=4)]: Done 1792 tasks      | elapsed:    0.6s\n",
      "[Parallel(n_jobs=4)]: Done 2000 out of 2000 | elapsed:    0.7s finished\n"
     ]
    },
    {
     "name": "stdout",
     "output_type": "stream",
     "text": [
      "[CV]  bootstrap=False, criterion=mse, max_depth=10, max_features=sqrt, min_samples_leaf=2, min_samples_split=10, min_weight_fraction_leaf=0.0, n_estimators=2000, n_jobs=-1, verbose=1, warm_start=False, explained_variance=0.453, neg_mean_absolute_error=-58.916, neg_mean_squared_error=-5728.289, neg_mean_squared_log_error=-0.067, neg_median_absolute_error=-49.366, r2=0.453, total=   5.0s\n",
      "[CV] bootstrap=False, criterion=mse, max_depth=10, max_features=sqrt, min_samples_leaf=4, min_samples_split=2, min_weight_fraction_leaf=0.0, n_estimators=200, n_jobs=-1, verbose=1, warm_start=False \n"
     ]
    },
    {
     "name": "stderr",
     "output_type": "stream",
     "text": [
      "[Parallel(n_jobs=-1)]: Using backend LokyBackend with 4 concurrent workers.\n",
      "[Parallel(n_jobs=-1)]: Done 190 tasks      | elapsed:    0.4s\n",
      "[Parallel(n_jobs=-1)]: Done 200 out of 200 | elapsed:    0.4s finished\n",
      "[Parallel(n_jobs=4)]: Using backend ThreadingBackend with 4 concurrent workers.\n",
      "[Parallel(n_jobs=4)]: Done  42 tasks      | elapsed:    0.0s\n",
      "[Parallel(n_jobs=4)]: Done 192 tasks      | elapsed:    0.1s\n",
      "[Parallel(n_jobs=4)]: Done 200 out of 200 | elapsed:    0.1s finished\n"
     ]
    },
    {
     "name": "stdout",
     "output_type": "stream",
     "text": [
      "[CV]  bootstrap=False, criterion=mse, max_depth=10, max_features=sqrt, min_samples_leaf=4, min_samples_split=2, min_weight_fraction_leaf=0.0, n_estimators=200, n_jobs=-1, verbose=1, warm_start=False, explained_variance=0.392, neg_mean_absolute_error=-60.822, neg_mean_squared_error=-5741.676, neg_mean_squared_log_error=-0.024, neg_median_absolute_error=-52.752, r2=0.392, total=   0.6s\n",
      "[CV] bootstrap=False, criterion=mse, max_depth=10, max_features=sqrt, min_samples_leaf=4, min_samples_split=2, min_weight_fraction_leaf=0.0, n_estimators=200, n_jobs=-1, verbose=1, warm_start=False \n"
     ]
    },
    {
     "name": "stderr",
     "output_type": "stream",
     "text": [
      "[Parallel(n_jobs=-1)]: Using backend LokyBackend with 4 concurrent workers.\n",
      "[Parallel(n_jobs=-1)]: Done 190 tasks      | elapsed:    0.4s\n",
      "[Parallel(n_jobs=-1)]: Done 200 out of 200 | elapsed:    0.4s finished\n",
      "[Parallel(n_jobs=4)]: Using backend ThreadingBackend with 4 concurrent workers.\n",
      "[Parallel(n_jobs=4)]: Done  42 tasks      | elapsed:    0.0s\n",
      "[Parallel(n_jobs=4)]: Done 192 tasks      | elapsed:    0.1s\n",
      "[Parallel(n_jobs=4)]: Done 200 out of 200 | elapsed:    0.1s finished\n"
     ]
    },
    {
     "name": "stdout",
     "output_type": "stream",
     "text": [
      "[CV]  bootstrap=False, criterion=mse, max_depth=10, max_features=sqrt, min_samples_leaf=4, min_samples_split=2, min_weight_fraction_leaf=0.0, n_estimators=200, n_jobs=-1, verbose=1, warm_start=False, explained_variance=0.453, neg_mean_absolute_error=-58.947, neg_mean_squared_error=-5722.553, neg_mean_squared_log_error=-0.067, neg_median_absolute_error=-49.994, r2=0.453, total=   0.6s\n",
      "[CV] bootstrap=False, criterion=mse, max_depth=10, max_features=sqrt, min_samples_leaf=4, min_samples_split=2, min_weight_fraction_leaf=0.0, n_estimators=2000, n_jobs=-1, verbose=1, warm_start=False \n"
     ]
    },
    {
     "name": "stderr",
     "output_type": "stream",
     "text": [
      "[Parallel(n_jobs=-1)]: Using backend LokyBackend with 4 concurrent workers.\n",
      "[Parallel(n_jobs=-1)]: Done 312 tasks      | elapsed:    0.6s\n",
      "[Parallel(n_jobs=-1)]: Done 2000 out of 2000 | elapsed:    3.1s finished\n",
      "[Parallel(n_jobs=4)]: Using backend ThreadingBackend with 4 concurrent workers.\n",
      "[Parallel(n_jobs=4)]: Done  42 tasks      | elapsed:    0.0s\n",
      "[Parallel(n_jobs=4)]: Done 192 tasks      | elapsed:    0.1s\n",
      "[Parallel(n_jobs=4)]: Done 442 tasks      | elapsed:    0.1s\n",
      "[Parallel(n_jobs=4)]: Done 792 tasks      | elapsed:    0.3s\n",
      "[Parallel(n_jobs=4)]: Done 1242 tasks      | elapsed:    0.4s\n",
      "[Parallel(n_jobs=4)]: Done 1792 tasks      | elapsed:    0.6s\n",
      "[Parallel(n_jobs=4)]: Done 2000 out of 2000 | elapsed:    0.7s finished\n"
     ]
    },
    {
     "name": "stdout",
     "output_type": "stream",
     "text": [
      "[CV]  bootstrap=False, criterion=mse, max_depth=10, max_features=sqrt, min_samples_leaf=4, min_samples_split=2, min_weight_fraction_leaf=0.0, n_estimators=2000, n_jobs=-1, verbose=1, warm_start=False, explained_variance=0.392, neg_mean_absolute_error=-60.844, neg_mean_squared_error=-5741.165, neg_mean_squared_log_error=-0.024, neg_median_absolute_error=-52.855, r2=0.392, total=   4.9s\n",
      "[CV] bootstrap=False, criterion=mse, max_depth=10, max_features=sqrt, min_samples_leaf=4, min_samples_split=2, min_weight_fraction_leaf=0.0, n_estimators=2000, n_jobs=-1, verbose=1, warm_start=False \n"
     ]
    },
    {
     "name": "stderr",
     "output_type": "stream",
     "text": [
      "[Parallel(n_jobs=-1)]: Using backend LokyBackend with 4 concurrent workers.\n",
      "[Parallel(n_jobs=-1)]: Done 312 tasks      | elapsed:    0.6s\n",
      "[Parallel(n_jobs=-1)]: Done 2000 out of 2000 | elapsed:    3.1s finished\n",
      "[Parallel(n_jobs=4)]: Using backend ThreadingBackend with 4 concurrent workers.\n",
      "[Parallel(n_jobs=4)]: Done  42 tasks      | elapsed:    0.0s\n",
      "[Parallel(n_jobs=4)]: Done 192 tasks      | elapsed:    0.1s\n",
      "[Parallel(n_jobs=4)]: Done 442 tasks      | elapsed:    0.1s\n",
      "[Parallel(n_jobs=4)]: Done 792 tasks      | elapsed:    0.3s\n",
      "[Parallel(n_jobs=4)]: Done 1242 tasks      | elapsed:    0.4s\n",
      "[Parallel(n_jobs=4)]: Done 1792 tasks      | elapsed:    0.6s\n",
      "[Parallel(n_jobs=4)]: Done 2000 out of 2000 | elapsed:    0.7s finished\n"
     ]
    },
    {
     "name": "stdout",
     "output_type": "stream",
     "text": [
      "[CV]  bootstrap=False, criterion=mse, max_depth=10, max_features=sqrt, min_samples_leaf=4, min_samples_split=2, min_weight_fraction_leaf=0.0, n_estimators=2000, n_jobs=-1, verbose=1, warm_start=False, explained_variance=0.453, neg_mean_absolute_error=-58.935, neg_mean_squared_error=-5723.653, neg_mean_squared_log_error=-0.067, neg_median_absolute_error=-49.138, r2=0.453, total=   4.9s\n",
      "[CV] bootstrap=False, criterion=mse, max_depth=10, max_features=sqrt, min_samples_leaf=4, min_samples_split=5, min_weight_fraction_leaf=0.0, n_estimators=200, n_jobs=-1, verbose=1, warm_start=False \n"
     ]
    },
    {
     "name": "stderr",
     "output_type": "stream",
     "text": [
      "[Parallel(n_jobs=-1)]: Using backend LokyBackend with 4 concurrent workers.\n",
      "[Parallel(n_jobs=-1)]: Done 190 tasks      | elapsed:    0.4s\n",
      "[Parallel(n_jobs=-1)]: Done 200 out of 200 | elapsed:    0.4s finished\n",
      "[Parallel(n_jobs=4)]: Using backend ThreadingBackend with 4 concurrent workers.\n",
      "[Parallel(n_jobs=4)]: Done  42 tasks      | elapsed:    0.0s\n",
      "[Parallel(n_jobs=4)]: Done 192 tasks      | elapsed:    0.1s\n",
      "[Parallel(n_jobs=4)]: Done 200 out of 200 | elapsed:    0.1s finished\n"
     ]
    },
    {
     "name": "stdout",
     "output_type": "stream",
     "text": [
      "[CV]  bootstrap=False, criterion=mse, max_depth=10, max_features=sqrt, min_samples_leaf=4, min_samples_split=5, min_weight_fraction_leaf=0.0, n_estimators=200, n_jobs=-1, verbose=1, warm_start=False, explained_variance=0.392, neg_mean_absolute_error=-60.885, neg_mean_squared_error=-5745.616, neg_mean_squared_log_error=-0.024, neg_median_absolute_error=-52.787, r2=0.391, total=   0.6s\n",
      "[CV] bootstrap=False, criterion=mse, max_depth=10, max_features=sqrt, min_samples_leaf=4, min_samples_split=5, min_weight_fraction_leaf=0.0, n_estimators=200, n_jobs=-1, verbose=1, warm_start=False \n"
     ]
    },
    {
     "name": "stderr",
     "output_type": "stream",
     "text": [
      "[Parallel(n_jobs=-1)]: Using backend LokyBackend with 4 concurrent workers.\n",
      "[Parallel(n_jobs=-1)]: Done 190 tasks      | elapsed:    0.4s\n",
      "[Parallel(n_jobs=-1)]: Done 200 out of 200 | elapsed:    0.4s finished\n",
      "[Parallel(n_jobs=4)]: Using backend ThreadingBackend with 4 concurrent workers.\n",
      "[Parallel(n_jobs=4)]: Done  42 tasks      | elapsed:    0.0s\n",
      "[Parallel(n_jobs=4)]: Done 192 tasks      | elapsed:    0.1s\n",
      "[Parallel(n_jobs=4)]: Done 200 out of 200 | elapsed:    0.1s finished\n"
     ]
    },
    {
     "name": "stdout",
     "output_type": "stream",
     "text": [
      "[CV]  bootstrap=False, criterion=mse, max_depth=10, max_features=sqrt, min_samples_leaf=4, min_samples_split=5, min_weight_fraction_leaf=0.0, n_estimators=200, n_jobs=-1, verbose=1, warm_start=False, explained_variance=0.452, neg_mean_absolute_error=-58.997, neg_mean_squared_error=-5738.914, neg_mean_squared_log_error=-0.067, neg_median_absolute_error=-49.727, r2=0.452, total=   0.6s\n",
      "[CV] bootstrap=False, criterion=mse, max_depth=10, max_features=sqrt, min_samples_leaf=4, min_samples_split=5, min_weight_fraction_leaf=0.0, n_estimators=2000, n_jobs=-1, verbose=1, warm_start=False \n"
     ]
    },
    {
     "name": "stderr",
     "output_type": "stream",
     "text": [
      "[Parallel(n_jobs=-1)]: Using backend LokyBackend with 4 concurrent workers.\n",
      "[Parallel(n_jobs=-1)]: Done 312 tasks      | elapsed:    0.6s\n",
      "[Parallel(n_jobs=-1)]: Done 2000 out of 2000 | elapsed:    3.1s finished\n",
      "[Parallel(n_jobs=4)]: Using backend ThreadingBackend with 4 concurrent workers.\n",
      "[Parallel(n_jobs=4)]: Done  42 tasks      | elapsed:    0.0s\n",
      "[Parallel(n_jobs=4)]: Done 192 tasks      | elapsed:    0.1s\n",
      "[Parallel(n_jobs=4)]: Done 442 tasks      | elapsed:    0.1s\n",
      "[Parallel(n_jobs=4)]: Done 792 tasks      | elapsed:    0.3s\n",
      "[Parallel(n_jobs=4)]: Done 1242 tasks      | elapsed:    0.4s\n",
      "[Parallel(n_jobs=4)]: Done 1792 tasks      | elapsed:    0.6s\n",
      "[Parallel(n_jobs=4)]: Done 2000 out of 2000 | elapsed:    0.7s finished\n"
     ]
    },
    {
     "name": "stdout",
     "output_type": "stream",
     "text": [
      "[CV]  bootstrap=False, criterion=mse, max_depth=10, max_features=sqrt, min_samples_leaf=4, min_samples_split=5, min_weight_fraction_leaf=0.0, n_estimators=2000, n_jobs=-1, verbose=1, warm_start=False, explained_variance=0.393, neg_mean_absolute_error=-60.811, neg_mean_squared_error=-5735.127, neg_mean_squared_log_error=-0.024, neg_median_absolute_error=-52.733, r2=0.392, total=   4.9s\n",
      "[CV] bootstrap=False, criterion=mse, max_depth=10, max_features=sqrt, min_samples_leaf=4, min_samples_split=5, min_weight_fraction_leaf=0.0, n_estimators=2000, n_jobs=-1, verbose=1, warm_start=False \n"
     ]
    },
    {
     "name": "stderr",
     "output_type": "stream",
     "text": [
      "[Parallel(n_jobs=-1)]: Using backend LokyBackend with 4 concurrent workers.\n",
      "[Parallel(n_jobs=-1)]: Done 312 tasks      | elapsed:    0.6s\n",
      "[Parallel(n_jobs=-1)]: Done 2000 out of 2000 | elapsed:    3.1s finished\n",
      "[Parallel(n_jobs=4)]: Using backend ThreadingBackend with 4 concurrent workers.\n",
      "[Parallel(n_jobs=4)]: Done  42 tasks      | elapsed:    0.0s\n",
      "[Parallel(n_jobs=4)]: Done 192 tasks      | elapsed:    0.1s\n",
      "[Parallel(n_jobs=4)]: Done 442 tasks      | elapsed:    0.1s\n",
      "[Parallel(n_jobs=4)]: Done 792 tasks      | elapsed:    0.3s\n",
      "[Parallel(n_jobs=4)]: Done 1242 tasks      | elapsed:    0.4s\n",
      "[Parallel(n_jobs=4)]: Done 1792 tasks      | elapsed:    0.6s\n",
      "[Parallel(n_jobs=4)]: Done 2000 out of 2000 | elapsed:    0.7s finished\n"
     ]
    },
    {
     "name": "stdout",
     "output_type": "stream",
     "text": [
      "[CV]  bootstrap=False, criterion=mse, max_depth=10, max_features=sqrt, min_samples_leaf=4, min_samples_split=5, min_weight_fraction_leaf=0.0, n_estimators=2000, n_jobs=-1, verbose=1, warm_start=False, explained_variance=0.454, neg_mean_absolute_error=-58.897, neg_mean_squared_error=-5715.178, neg_mean_squared_log_error=-0.067, neg_median_absolute_error=-49.228, r2=0.454, total=   4.9s\n",
      "[CV] bootstrap=False, criterion=mse, max_depth=10, max_features=sqrt, min_samples_leaf=4, min_samples_split=10, min_weight_fraction_leaf=0.0, n_estimators=200, n_jobs=-1, verbose=1, warm_start=False \n"
     ]
    },
    {
     "name": "stderr",
     "output_type": "stream",
     "text": [
      "[Parallel(n_jobs=-1)]: Using backend LokyBackend with 4 concurrent workers.\n",
      "[Parallel(n_jobs=-1)]: Done 190 tasks      | elapsed:    0.4s\n",
      "[Parallel(n_jobs=-1)]: Done 200 out of 200 | elapsed:    0.4s finished\n",
      "[Parallel(n_jobs=4)]: Using backend ThreadingBackend with 4 concurrent workers.\n",
      "[Parallel(n_jobs=4)]: Done  42 tasks      | elapsed:    0.0s\n",
      "[Parallel(n_jobs=4)]: Done 192 tasks      | elapsed:    0.1s\n",
      "[Parallel(n_jobs=4)]: Done 200 out of 200 | elapsed:    0.1s finished\n"
     ]
    },
    {
     "name": "stdout",
     "output_type": "stream",
     "text": [
      "[CV]  bootstrap=False, criterion=mse, max_depth=10, max_features=sqrt, min_samples_leaf=4, min_samples_split=10, min_weight_fraction_leaf=0.0, n_estimators=200, n_jobs=-1, verbose=1, warm_start=False, explained_variance=0.394, neg_mean_absolute_error=-60.738, neg_mean_squared_error=-5725.079, neg_mean_squared_log_error=-0.024, neg_median_absolute_error=-52.944, r2=0.394, total=   0.6s\n",
      "[CV] bootstrap=False, criterion=mse, max_depth=10, max_features=sqrt, min_samples_leaf=4, min_samples_split=10, min_weight_fraction_leaf=0.0, n_estimators=200, n_jobs=-1, verbose=1, warm_start=False \n"
     ]
    },
    {
     "name": "stderr",
     "output_type": "stream",
     "text": [
      "[Parallel(n_jobs=-1)]: Using backend LokyBackend with 4 concurrent workers.\n",
      "[Parallel(n_jobs=-1)]: Done 190 tasks      | elapsed:    0.4s\n",
      "[Parallel(n_jobs=-1)]: Done 200 out of 200 | elapsed:    0.4s finished\n",
      "[Parallel(n_jobs=4)]: Using backend ThreadingBackend with 4 concurrent workers.\n",
      "[Parallel(n_jobs=4)]: Done  42 tasks      | elapsed:    0.0s\n",
      "[Parallel(n_jobs=4)]: Done 192 tasks      | elapsed:    0.1s\n",
      "[Parallel(n_jobs=4)]: Done 200 out of 200 | elapsed:    0.1s finished\n"
     ]
    },
    {
     "name": "stdout",
     "output_type": "stream",
     "text": [
      "[CV]  bootstrap=False, criterion=mse, max_depth=10, max_features=sqrt, min_samples_leaf=4, min_samples_split=10, min_weight_fraction_leaf=0.0, n_estimators=200, n_jobs=-1, verbose=1, warm_start=False, explained_variance=0.454, neg_mean_absolute_error=-58.908, neg_mean_squared_error=-5719.982, neg_mean_squared_log_error=-0.067, neg_median_absolute_error=-49.162, r2=0.453, total=   0.6s\n",
      "[CV] bootstrap=False, criterion=mse, max_depth=10, max_features=sqrt, min_samples_leaf=4, min_samples_split=10, min_weight_fraction_leaf=0.0, n_estimators=2000, n_jobs=-1, verbose=1, warm_start=False \n"
     ]
    },
    {
     "name": "stderr",
     "output_type": "stream",
     "text": [
      "[Parallel(n_jobs=-1)]: Using backend LokyBackend with 4 concurrent workers.\n",
      "[Parallel(n_jobs=-1)]: Done 312 tasks      | elapsed:    0.6s\n",
      "[Parallel(n_jobs=-1)]: Done 2000 out of 2000 | elapsed:    3.0s finished\n",
      "[Parallel(n_jobs=4)]: Using backend ThreadingBackend with 4 concurrent workers.\n",
      "[Parallel(n_jobs=4)]: Done  42 tasks      | elapsed:    0.0s\n",
      "[Parallel(n_jobs=4)]: Done 192 tasks      | elapsed:    0.1s\n",
      "[Parallel(n_jobs=4)]: Done 442 tasks      | elapsed:    0.1s\n",
      "[Parallel(n_jobs=4)]: Done 792 tasks      | elapsed:    0.3s\n",
      "[Parallel(n_jobs=4)]: Done 1242 tasks      | elapsed:    0.4s\n",
      "[Parallel(n_jobs=4)]: Done 1792 tasks      | elapsed:    0.6s\n",
      "[Parallel(n_jobs=4)]: Done 2000 out of 2000 | elapsed:    0.7s finished\n"
     ]
    },
    {
     "name": "stdout",
     "output_type": "stream",
     "text": [
      "[CV]  bootstrap=False, criterion=mse, max_depth=10, max_features=sqrt, min_samples_leaf=4, min_samples_split=10, min_weight_fraction_leaf=0.0, n_estimators=2000, n_jobs=-1, verbose=1, warm_start=False, explained_variance=0.393, neg_mean_absolute_error=-60.794, neg_mean_squared_error=-5734.240, neg_mean_squared_log_error=-0.024, neg_median_absolute_error=-52.869, r2=0.393, total=   4.9s\n",
      "[CV] bootstrap=False, criterion=mse, max_depth=10, max_features=sqrt, min_samples_leaf=4, min_samples_split=10, min_weight_fraction_leaf=0.0, n_estimators=2000, n_jobs=-1, verbose=1, warm_start=False \n"
     ]
    },
    {
     "name": "stderr",
     "output_type": "stream",
     "text": [
      "[Parallel(n_jobs=-1)]: Using backend LokyBackend with 4 concurrent workers.\n",
      "[Parallel(n_jobs=-1)]: Done 312 tasks      | elapsed:    0.6s\n",
      "[Parallel(n_jobs=-1)]: Done 2000 out of 2000 | elapsed:    3.1s finished\n",
      "[Parallel(n_jobs=4)]: Using backend ThreadingBackend with 4 concurrent workers.\n",
      "[Parallel(n_jobs=4)]: Done  42 tasks      | elapsed:    0.0s\n",
      "[Parallel(n_jobs=4)]: Done 192 tasks      | elapsed:    0.1s\n",
      "[Parallel(n_jobs=4)]: Done 442 tasks      | elapsed:    0.1s\n",
      "[Parallel(n_jobs=4)]: Done 792 tasks      | elapsed:    0.3s\n",
      "[Parallel(n_jobs=4)]: Done 1242 tasks      | elapsed:    0.4s\n",
      "[Parallel(n_jobs=4)]: Done 1792 tasks      | elapsed:    0.6s\n",
      "[Parallel(n_jobs=4)]: Done 2000 out of 2000 | elapsed:    0.7s finished\n"
     ]
    },
    {
     "name": "stdout",
     "output_type": "stream",
     "text": [
      "[CV]  bootstrap=False, criterion=mse, max_depth=10, max_features=sqrt, min_samples_leaf=4, min_samples_split=10, min_weight_fraction_leaf=0.0, n_estimators=2000, n_jobs=-1, verbose=1, warm_start=False, explained_variance=0.455, neg_mean_absolute_error=-58.860, neg_mean_squared_error=-5706.700, neg_mean_squared_log_error=-0.067, neg_median_absolute_error=-49.291, r2=0.455, total=   4.9s\n",
      "[CV] bootstrap=False, criterion=mse, max_depth=110, max_features=auto, min_samples_leaf=1, min_samples_split=2, min_weight_fraction_leaf=0.0, n_estimators=200, n_jobs=-1, verbose=1, warm_start=False \n"
     ]
    },
    {
     "name": "stderr",
     "output_type": "stream",
     "text": [
      "[Parallel(n_jobs=-1)]: Using backend LokyBackend with 4 concurrent workers.\n",
      "[Parallel(n_jobs=-1)]: Done 128 tasks      | elapsed:    1.2s\n",
      "[Parallel(n_jobs=-1)]: Done 200 out of 200 | elapsed:    1.8s finished\n",
      "[Parallel(n_jobs=4)]: Using backend ThreadingBackend with 4 concurrent workers.\n",
      "[Parallel(n_jobs=4)]: Done  42 tasks      | elapsed:    0.0s\n",
      "[Parallel(n_jobs=4)]: Done 192 tasks      | elapsed:    0.1s\n",
      "[Parallel(n_jobs=4)]: Done 200 out of 200 | elapsed:    0.1s finished\n"
     ]
    },
    {
     "name": "stdout",
     "output_type": "stream",
     "text": [
      "[CV]  bootstrap=False, criterion=mse, max_depth=110, max_features=auto, min_samples_leaf=1, min_samples_split=2, min_weight_fraction_leaf=0.0, n_estimators=200, n_jobs=-1, verbose=1, warm_start=False, explained_variance=-0.128, neg_mean_absolute_error=-80.726, neg_mean_squared_error=-10670.145, neg_mean_squared_log_error=-0.044, neg_median_absolute_error=-64.337, r2=-0.130, total=   2.1s\n",
      "[CV] bootstrap=False, criterion=mse, max_depth=110, max_features=auto, min_samples_leaf=1, min_samples_split=2, min_weight_fraction_leaf=0.0, n_estimators=200, n_jobs=-1, verbose=1, warm_start=False \n"
     ]
    },
    {
     "name": "stderr",
     "output_type": "stream",
     "text": [
      "[Parallel(n_jobs=-1)]: Using backend LokyBackend with 4 concurrent workers.\n",
      "[Parallel(n_jobs=-1)]: Done 186 tasks      | elapsed:    1.4s\n",
      "[Parallel(n_jobs=-1)]: Done 200 out of 200 | elapsed:    1.5s finished\n",
      "[Parallel(n_jobs=4)]: Using backend ThreadingBackend with 4 concurrent workers.\n",
      "[Parallel(n_jobs=4)]: Done  42 tasks      | elapsed:    0.0s\n",
      "[Parallel(n_jobs=4)]: Done 192 tasks      | elapsed:    0.1s\n",
      "[Parallel(n_jobs=4)]: Done 200 out of 200 | elapsed:    0.1s finished\n"
     ]
    },
    {
     "name": "stdout",
     "output_type": "stream",
     "text": [
      "[CV]  bootstrap=False, criterion=mse, max_depth=110, max_features=auto, min_samples_leaf=1, min_samples_split=2, min_weight_fraction_leaf=0.0, n_estimators=200, n_jobs=-1, verbose=1, warm_start=False, explained_variance=-0.080, neg_mean_absolute_error=-82.497, neg_mean_squared_error=-11307.570, neg_mean_squared_log_error=-0.089, neg_median_absolute_error=-66.132, r2=-0.080, total=   1.8s\n",
      "[CV] bootstrap=False, criterion=mse, max_depth=110, max_features=auto, min_samples_leaf=1, min_samples_split=2, min_weight_fraction_leaf=0.0, n_estimators=2000, n_jobs=-1, verbose=1, warm_start=False \n"
     ]
    },
    {
     "name": "stderr",
     "output_type": "stream",
     "text": [
      "[Parallel(n_jobs=-1)]: Using backend LokyBackend with 4 concurrent workers.\n",
      "[Parallel(n_jobs=-1)]: Done 128 tasks      | elapsed:    1.2s\n",
      "[Parallel(n_jobs=-1)]: Done 728 tasks      | elapsed:    6.4s\n",
      "[Parallel(n_jobs=-1)]: Done 1728 tasks      | elapsed:   15.3s\n",
      "[Parallel(n_jobs=-1)]: Done 2000 out of 2000 | elapsed:   17.7s finished\n",
      "[Parallel(n_jobs=4)]: Using backend ThreadingBackend with 4 concurrent workers.\n",
      "[Parallel(n_jobs=4)]: Done  42 tasks      | elapsed:    0.0s\n",
      "[Parallel(n_jobs=4)]: Done 192 tasks      | elapsed:    0.1s\n",
      "[Parallel(n_jobs=4)]: Done 442 tasks      | elapsed:    0.1s\n",
      "[Parallel(n_jobs=4)]: Done 792 tasks      | elapsed:    0.3s\n",
      "[Parallel(n_jobs=4)]: Done 1242 tasks      | elapsed:    0.4s\n",
      "[Parallel(n_jobs=4)]: Done 1792 tasks      | elapsed:    0.6s\n",
      "[Parallel(n_jobs=4)]: Done 2000 out of 2000 | elapsed:    0.6s finished\n"
     ]
    },
    {
     "name": "stdout",
     "output_type": "stream",
     "text": [
      "[CV]  bootstrap=False, criterion=mse, max_depth=110, max_features=auto, min_samples_leaf=1, min_samples_split=2, min_weight_fraction_leaf=0.0, n_estimators=2000, n_jobs=-1, verbose=1, warm_start=False, explained_variance=-0.128, neg_mean_absolute_error=-80.757, neg_mean_squared_error=-10670.304, neg_mean_squared_log_error=-0.044, neg_median_absolute_error=-64.586, r2=-0.130, total=  19.6s\n",
      "[CV] bootstrap=False, criterion=mse, max_depth=110, max_features=auto, min_samples_leaf=1, min_samples_split=2, min_weight_fraction_leaf=0.0, n_estimators=2000, n_jobs=-1, verbose=1, warm_start=False \n"
     ]
    },
    {
     "name": "stderr",
     "output_type": "stream",
     "text": [
      "[Parallel(n_jobs=-1)]: Using backend LokyBackend with 4 concurrent workers.\n",
      "[Parallel(n_jobs=-1)]: Done 200 tasks      | elapsed:    1.7s\n",
      "[Parallel(n_jobs=-1)]: Done 1400 tasks      | elapsed:   10.6s\n",
      "[Parallel(n_jobs=-1)]: Done 2000 out of 2000 | elapsed:   15.1s finished\n",
      "[Parallel(n_jobs=4)]: Using backend ThreadingBackend with 4 concurrent workers.\n",
      "[Parallel(n_jobs=4)]: Done  42 tasks      | elapsed:    0.0s\n",
      "[Parallel(n_jobs=4)]: Done 192 tasks      | elapsed:    0.1s\n",
      "[Parallel(n_jobs=4)]: Done 442 tasks      | elapsed:    0.1s\n",
      "[Parallel(n_jobs=4)]: Done 792 tasks      | elapsed:    0.2s\n",
      "[Parallel(n_jobs=4)]: Done 1242 tasks      | elapsed:    0.4s\n",
      "[Parallel(n_jobs=4)]: Done 1792 tasks      | elapsed:    0.5s\n",
      "[Parallel(n_jobs=4)]: Done 2000 out of 2000 | elapsed:    0.6s finished\n"
     ]
    },
    {
     "name": "stdout",
     "output_type": "stream",
     "text": [
      "[CV]  bootstrap=False, criterion=mse, max_depth=110, max_features=auto, min_samples_leaf=1, min_samples_split=2, min_weight_fraction_leaf=0.0, n_estimators=2000, n_jobs=-1, verbose=1, warm_start=False, explained_variance=-0.080, neg_mean_absolute_error=-82.463, neg_mean_squared_error=-11302.630, neg_mean_squared_log_error=-0.089, neg_median_absolute_error=-66.139, r2=-0.080, total=  17.0s\n",
      "[CV] bootstrap=False, criterion=mse, max_depth=110, max_features=auto, min_samples_leaf=1, min_samples_split=5, min_weight_fraction_leaf=0.0, n_estimators=200, n_jobs=-1, verbose=1, warm_start=False \n"
     ]
    },
    {
     "name": "stderr",
     "output_type": "stream",
     "text": [
      "[Parallel(n_jobs=-1)]: Using backend LokyBackend with 4 concurrent workers.\n",
      "[Parallel(n_jobs=-1)]: Done 186 tasks      | elapsed:    1.5s\n",
      "[Parallel(n_jobs=-1)]: Done 200 out of 200 | elapsed:    1.6s finished\n",
      "[Parallel(n_jobs=4)]: Using backend ThreadingBackend with 4 concurrent workers.\n",
      "[Parallel(n_jobs=4)]: Done  42 tasks      | elapsed:    0.0s\n",
      "[Parallel(n_jobs=4)]: Done 192 tasks      | elapsed:    0.1s\n",
      "[Parallel(n_jobs=4)]: Done 200 out of 200 | elapsed:    0.1s finished\n"
     ]
    },
    {
     "name": "stdout",
     "output_type": "stream",
     "text": [
      "[CV]  bootstrap=False, criterion=mse, max_depth=110, max_features=auto, min_samples_leaf=1, min_samples_split=5, min_weight_fraction_leaf=0.0, n_estimators=200, n_jobs=-1, verbose=1, warm_start=False, explained_variance=-0.073, neg_mean_absolute_error=-78.857, neg_mean_squared_error=-10137.411, neg_mean_squared_log_error=-0.042, neg_median_absolute_error=-64.437, r2=-0.074, total=   1.8s\n",
      "[CV] bootstrap=False, criterion=mse, max_depth=110, max_features=auto, min_samples_leaf=1, min_samples_split=5, min_weight_fraction_leaf=0.0, n_estimators=200, n_jobs=-1, verbose=1, warm_start=False \n"
     ]
    },
    {
     "name": "stderr",
     "output_type": "stream",
     "text": [
      "[Parallel(n_jobs=-1)]: Using backend LokyBackend with 4 concurrent workers.\n",
      "[Parallel(n_jobs=-1)]: Done 186 tasks      | elapsed:    1.2s\n",
      "[Parallel(n_jobs=-1)]: Done 200 out of 200 | elapsed:    1.3s finished\n",
      "[Parallel(n_jobs=4)]: Using backend ThreadingBackend with 4 concurrent workers.\n",
      "[Parallel(n_jobs=4)]: Done  42 tasks      | elapsed:    0.0s\n",
      "[Parallel(n_jobs=4)]: Done 192 tasks      | elapsed:    0.1s\n",
      "[Parallel(n_jobs=4)]: Done 200 out of 200 | elapsed:    0.1s finished\n"
     ]
    },
    {
     "name": "stdout",
     "output_type": "stream",
     "text": [
      "[CV]  bootstrap=False, criterion=mse, max_depth=110, max_features=auto, min_samples_leaf=1, min_samples_split=5, min_weight_fraction_leaf=0.0, n_estimators=200, n_jobs=-1, verbose=1, warm_start=False, explained_variance=-0.056, neg_mean_absolute_error=-81.462, neg_mean_squared_error=-11053.746, neg_mean_squared_log_error=-0.088, neg_median_absolute_error=-65.400, r2=-0.056, total=   1.6s\n",
      "[CV] bootstrap=False, criterion=mse, max_depth=110, max_features=auto, min_samples_leaf=1, min_samples_split=5, min_weight_fraction_leaf=0.0, n_estimators=2000, n_jobs=-1, verbose=1, warm_start=False \n"
     ]
    },
    {
     "name": "stderr",
     "output_type": "stream",
     "text": [
      "[Parallel(n_jobs=-1)]: Using backend LokyBackend with 4 concurrent workers.\n",
      "[Parallel(n_jobs=-1)]: Done 200 tasks      | elapsed:    1.7s\n",
      "[Parallel(n_jobs=-1)]: Done 1400 tasks      | elapsed:   10.7s\n",
      "[Parallel(n_jobs=-1)]: Done 2000 out of 2000 | elapsed:   15.2s finished\n",
      "[Parallel(n_jobs=4)]: Using backend ThreadingBackend with 4 concurrent workers.\n",
      "[Parallel(n_jobs=4)]: Done  42 tasks      | elapsed:    0.0s\n",
      "[Parallel(n_jobs=4)]: Done 192 tasks      | elapsed:    0.1s\n",
      "[Parallel(n_jobs=4)]: Done 442 tasks      | elapsed:    0.1s\n",
      "[Parallel(n_jobs=4)]: Done 792 tasks      | elapsed:    0.2s\n",
      "[Parallel(n_jobs=4)]: Done 1242 tasks      | elapsed:    0.4s\n",
      "[Parallel(n_jobs=4)]: Done 1792 tasks      | elapsed:    0.5s\n",
      "[Parallel(n_jobs=4)]: Done 2000 out of 2000 | elapsed:    0.6s finished\n"
     ]
    },
    {
     "name": "stdout",
     "output_type": "stream",
     "text": [
      "[CV]  bootstrap=False, criterion=mse, max_depth=110, max_features=auto, min_samples_leaf=1, min_samples_split=5, min_weight_fraction_leaf=0.0, n_estimators=2000, n_jobs=-1, verbose=1, warm_start=False, explained_variance=-0.073, neg_mean_absolute_error=-78.828, neg_mean_squared_error=-10135.412, neg_mean_squared_log_error=-0.042, neg_median_absolute_error=-64.358, r2=-0.074, total=  17.0s\n",
      "[CV] bootstrap=False, criterion=mse, max_depth=110, max_features=auto, min_samples_leaf=1, min_samples_split=5, min_weight_fraction_leaf=0.0, n_estimators=2000, n_jobs=-1, verbose=1, warm_start=False \n"
     ]
    },
    {
     "name": "stderr",
     "output_type": "stream",
     "text": [
      "[Parallel(n_jobs=-1)]: Using backend LokyBackend with 4 concurrent workers.\n",
      "[Parallel(n_jobs=-1)]: Done 200 tasks      | elapsed:    1.4s\n",
      "[Parallel(n_jobs=-1)]: Done 1400 tasks      | elapsed:    8.9s\n",
      "[Parallel(n_jobs=-1)]: Done 2000 out of 2000 | elapsed:   12.8s finished\n",
      "[Parallel(n_jobs=4)]: Using backend ThreadingBackend with 4 concurrent workers.\n",
      "[Parallel(n_jobs=4)]: Done  42 tasks      | elapsed:    0.0s\n",
      "[Parallel(n_jobs=4)]: Done 192 tasks      | elapsed:    0.1s\n",
      "[Parallel(n_jobs=4)]: Done 442 tasks      | elapsed:    0.1s\n",
      "[Parallel(n_jobs=4)]: Done 792 tasks      | elapsed:    0.2s\n",
      "[Parallel(n_jobs=4)]: Done 1242 tasks      | elapsed:    0.4s\n",
      "[Parallel(n_jobs=4)]: Done 1792 tasks      | elapsed:    0.5s\n",
      "[Parallel(n_jobs=4)]: Done 2000 out of 2000 | elapsed:    0.6s finished\n"
     ]
    },
    {
     "name": "stdout",
     "output_type": "stream",
     "text": [
      "[CV]  bootstrap=False, criterion=mse, max_depth=110, max_features=auto, min_samples_leaf=1, min_samples_split=5, min_weight_fraction_leaf=0.0, n_estimators=2000, n_jobs=-1, verbose=1, warm_start=False, explained_variance=-0.056, neg_mean_absolute_error=-81.469, neg_mean_squared_error=-11053.083, neg_mean_squared_log_error=-0.088, neg_median_absolute_error=-65.483, r2=-0.056, total=  14.5s\n",
      "[CV] bootstrap=False, criterion=mse, max_depth=110, max_features=auto, min_samples_leaf=1, min_samples_split=10, min_weight_fraction_leaf=0.0, n_estimators=200, n_jobs=-1, verbose=1, warm_start=False \n"
     ]
    },
    {
     "name": "stderr",
     "output_type": "stream",
     "text": [
      "[Parallel(n_jobs=-1)]: Using backend LokyBackend with 4 concurrent workers.\n",
      "[Parallel(n_jobs=-1)]: Done 186 tasks      | elapsed:    1.4s\n",
      "[Parallel(n_jobs=-1)]: Done 200 out of 200 | elapsed:    1.5s finished\n",
      "[Parallel(n_jobs=4)]: Using backend ThreadingBackend with 4 concurrent workers.\n",
      "[Parallel(n_jobs=4)]: Done  42 tasks      | elapsed:    0.0s\n",
      "[Parallel(n_jobs=4)]: Done 192 tasks      | elapsed:    0.1s\n",
      "[Parallel(n_jobs=4)]: Done 200 out of 200 | elapsed:    0.1s finished\n"
     ]
    },
    {
     "name": "stdout",
     "output_type": "stream",
     "text": [
      "[CV]  bootstrap=False, criterion=mse, max_depth=110, max_features=auto, min_samples_leaf=1, min_samples_split=10, min_weight_fraction_leaf=0.0, n_estimators=200, n_jobs=-1, verbose=1, warm_start=False, explained_variance=0.038, neg_mean_absolute_error=-74.517, neg_mean_squared_error=-9087.952, neg_mean_squared_log_error=-0.038, neg_median_absolute_error=-60.150, r2=0.037, total=   1.7s\n",
      "[CV] bootstrap=False, criterion=mse, max_depth=110, max_features=auto, min_samples_leaf=1, min_samples_split=10, min_weight_fraction_leaf=0.0, n_estimators=200, n_jobs=-1, verbose=1, warm_start=False \n"
     ]
    },
    {
     "name": "stderr",
     "output_type": "stream",
     "text": [
      "[Parallel(n_jobs=-1)]: Using backend LokyBackend with 4 concurrent workers.\n",
      "[Parallel(n_jobs=-1)]: Done 186 tasks      | elapsed:    1.1s\n",
      "[Parallel(n_jobs=-1)]: Done 200 out of 200 | elapsed:    1.2s finished\n",
      "[Parallel(n_jobs=4)]: Using backend ThreadingBackend with 4 concurrent workers.\n",
      "[Parallel(n_jobs=4)]: Done  42 tasks      | elapsed:    0.0s\n",
      "[Parallel(n_jobs=4)]: Done 192 tasks      | elapsed:    0.1s\n",
      "[Parallel(n_jobs=4)]: Done 200 out of 200 | elapsed:    0.1s finished\n"
     ]
    },
    {
     "name": "stdout",
     "output_type": "stream",
     "text": [
      "[CV]  bootstrap=False, criterion=mse, max_depth=110, max_features=auto, min_samples_leaf=1, min_samples_split=10, min_weight_fraction_leaf=0.0, n_estimators=200, n_jobs=-1, verbose=1, warm_start=False, explained_variance=0.025, neg_mean_absolute_error=-78.465, neg_mean_squared_error=-10209.218, neg_mean_squared_log_error=-0.086, neg_median_absolute_error=-64.262, r2=0.024, total=   1.4s\n",
      "[CV] bootstrap=False, criterion=mse, max_depth=110, max_features=auto, min_samples_leaf=1, min_samples_split=10, min_weight_fraction_leaf=0.0, n_estimators=2000, n_jobs=-1, verbose=1, warm_start=False \n"
     ]
    },
    {
     "name": "stderr",
     "output_type": "stream",
     "text": [
      "[Parallel(n_jobs=-1)]: Using backend LokyBackend with 4 concurrent workers.\n",
      "[Parallel(n_jobs=-1)]: Done 200 tasks      | elapsed:    1.6s\n",
      "[Parallel(n_jobs=-1)]: Done 1400 tasks      | elapsed:    9.9s\n",
      "[Parallel(n_jobs=-1)]: Done 2000 out of 2000 | elapsed:   14.1s finished\n",
      "[Parallel(n_jobs=4)]: Using backend ThreadingBackend with 4 concurrent workers.\n",
      "[Parallel(n_jobs=4)]: Done  42 tasks      | elapsed:    0.0s\n",
      "[Parallel(n_jobs=4)]: Done 192 tasks      | elapsed:    0.1s\n",
      "[Parallel(n_jobs=4)]: Done 442 tasks      | elapsed:    0.1s\n",
      "[Parallel(n_jobs=4)]: Done 792 tasks      | elapsed:    0.2s\n",
      "[Parallel(n_jobs=4)]: Done 1242 tasks      | elapsed:    0.4s\n",
      "[Parallel(n_jobs=4)]: Done 1792 tasks      | elapsed:    0.5s\n",
      "[Parallel(n_jobs=4)]: Done 2000 out of 2000 | elapsed:    0.6s finished\n"
     ]
    },
    {
     "name": "stdout",
     "output_type": "stream",
     "text": [
      "[CV]  bootstrap=False, criterion=mse, max_depth=110, max_features=auto, min_samples_leaf=1, min_samples_split=10, min_weight_fraction_leaf=0.0, n_estimators=2000, n_jobs=-1, verbose=1, warm_start=False, explained_variance=0.039, neg_mean_absolute_error=-74.501, neg_mean_squared_error=-9084.609, neg_mean_squared_log_error=-0.038, neg_median_absolute_error=-60.050, r2=0.038, total=  15.8s\n",
      "[CV] bootstrap=False, criterion=mse, max_depth=110, max_features=auto, min_samples_leaf=1, min_samples_split=10, min_weight_fraction_leaf=0.0, n_estimators=2000, n_jobs=-1, verbose=1, warm_start=False \n"
     ]
    },
    {
     "name": "stderr",
     "output_type": "stream",
     "text": [
      "[Parallel(n_jobs=-1)]: Using backend LokyBackend with 4 concurrent workers.\n",
      "[Parallel(n_jobs=-1)]: Done 200 tasks      | elapsed:    1.2s\n",
      "[Parallel(n_jobs=-1)]: Done 1400 tasks      | elapsed:    8.1s\n",
      "[Parallel(n_jobs=-1)]: Done 2000 out of 2000 | elapsed:   11.4s finished\n",
      "[Parallel(n_jobs=4)]: Using backend ThreadingBackend with 4 concurrent workers.\n",
      "[Parallel(n_jobs=4)]: Done  42 tasks      | elapsed:    0.0s\n",
      "[Parallel(n_jobs=4)]: Done 192 tasks      | elapsed:    0.1s\n",
      "[Parallel(n_jobs=4)]: Done 442 tasks      | elapsed:    0.1s\n",
      "[Parallel(n_jobs=4)]: Done 792 tasks      | elapsed:    0.2s\n",
      "[Parallel(n_jobs=4)]: Done 1242 tasks      | elapsed:    0.4s\n",
      "[Parallel(n_jobs=4)]: Done 1792 tasks      | elapsed:    0.6s\n",
      "[Parallel(n_jobs=4)]: Done 2000 out of 2000 | elapsed:    0.6s finished\n"
     ]
    },
    {
     "name": "stdout",
     "output_type": "stream",
     "text": [
      "[CV]  bootstrap=False, criterion=mse, max_depth=110, max_features=auto, min_samples_leaf=1, min_samples_split=10, min_weight_fraction_leaf=0.0, n_estimators=2000, n_jobs=-1, verbose=1, warm_start=False, explained_variance=0.025, neg_mean_absolute_error=-78.456, neg_mean_squared_error=-10204.878, neg_mean_squared_log_error=-0.086, neg_median_absolute_error=-64.350, r2=0.025, total=  13.3s\n",
      "[CV] bootstrap=False, criterion=mse, max_depth=110, max_features=auto, min_samples_leaf=2, min_samples_split=2, min_weight_fraction_leaf=0.0, n_estimators=200, n_jobs=-1, verbose=1, warm_start=False \n"
     ]
    },
    {
     "name": "stderr",
     "output_type": "stream",
     "text": [
      "[Parallel(n_jobs=-1)]: Using backend LokyBackend with 4 concurrent workers.\n",
      "[Parallel(n_jobs=-1)]: Done 186 tasks      | elapsed:    1.4s\n",
      "[Parallel(n_jobs=-1)]: Done 200 out of 200 | elapsed:    1.5s finished\n",
      "[Parallel(n_jobs=4)]: Using backend ThreadingBackend with 4 concurrent workers.\n",
      "[Parallel(n_jobs=4)]: Done  42 tasks      | elapsed:    0.0s\n",
      "[Parallel(n_jobs=4)]: Done 192 tasks      | elapsed:    0.1s\n",
      "[Parallel(n_jobs=4)]: Done 200 out of 200 | elapsed:    0.1s finished\n"
     ]
    },
    {
     "name": "stdout",
     "output_type": "stream",
     "text": [
      "[CV]  bootstrap=False, criterion=mse, max_depth=110, max_features=auto, min_samples_leaf=2, min_samples_split=2, min_weight_fraction_leaf=0.0, n_estimators=200, n_jobs=-1, verbose=1, warm_start=False, explained_variance=-0.078, neg_mean_absolute_error=-79.032, neg_mean_squared_error=-10178.879, neg_mean_squared_log_error=-0.042, neg_median_absolute_error=-64.195, r2=-0.078, total=   1.8s\n",
      "[CV] bootstrap=False, criterion=mse, max_depth=110, max_features=auto, min_samples_leaf=2, min_samples_split=2, min_weight_fraction_leaf=0.0, n_estimators=200, n_jobs=-1, verbose=1, warm_start=False \n"
     ]
    },
    {
     "name": "stderr",
     "output_type": "stream",
     "text": [
      "[Parallel(n_jobs=-1)]: Using backend LokyBackend with 4 concurrent workers.\n",
      "[Parallel(n_jobs=-1)]: Done 186 tasks      | elapsed:    1.2s\n",
      "[Parallel(n_jobs=-1)]: Done 200 out of 200 | elapsed:    1.3s finished\n",
      "[Parallel(n_jobs=4)]: Using backend ThreadingBackend with 4 concurrent workers.\n",
      "[Parallel(n_jobs=4)]: Done  42 tasks      | elapsed:    0.0s\n",
      "[Parallel(n_jobs=4)]: Done 192 tasks      | elapsed:    0.1s\n",
      "[Parallel(n_jobs=4)]: Done 200 out of 200 | elapsed:    0.1s finished\n"
     ]
    },
    {
     "name": "stdout",
     "output_type": "stream",
     "text": [
      "[CV]  bootstrap=False, criterion=mse, max_depth=110, max_features=auto, min_samples_leaf=2, min_samples_split=2, min_weight_fraction_leaf=0.0, n_estimators=200, n_jobs=-1, verbose=1, warm_start=False, explained_variance=-0.064, neg_mean_absolute_error=-82.091, neg_mean_squared_error=-11133.742, neg_mean_squared_log_error=-0.089, neg_median_absolute_error=-66.169, r2=-0.064, total=   1.5s\n",
      "[CV] bootstrap=False, criterion=mse, max_depth=110, max_features=auto, min_samples_leaf=2, min_samples_split=2, min_weight_fraction_leaf=0.0, n_estimators=2000, n_jobs=-1, verbose=1, warm_start=False \n"
     ]
    },
    {
     "name": "stderr",
     "output_type": "stream",
     "text": [
      "[Parallel(n_jobs=-1)]: Using backend LokyBackend with 4 concurrent workers.\n",
      "[Parallel(n_jobs=-1)]: Done 200 tasks      | elapsed:    1.6s\n",
      "[Parallel(n_jobs=-1)]: Done 1400 tasks      | elapsed:   10.4s\n",
      "[Parallel(n_jobs=-1)]: Done 2000 out of 2000 | elapsed:   14.7s finished\n",
      "[Parallel(n_jobs=4)]: Using backend ThreadingBackend with 4 concurrent workers.\n",
      "[Parallel(n_jobs=4)]: Done  42 tasks      | elapsed:    0.0s\n",
      "[Parallel(n_jobs=4)]: Done 192 tasks      | elapsed:    0.1s\n",
      "[Parallel(n_jobs=4)]: Done 442 tasks      | elapsed:    0.1s\n",
      "[Parallel(n_jobs=4)]: Done 792 tasks      | elapsed:    0.2s\n",
      "[Parallel(n_jobs=4)]: Done 1242 tasks      | elapsed:    0.4s\n",
      "[Parallel(n_jobs=4)]: Done 1792 tasks      | elapsed:    0.5s\n",
      "[Parallel(n_jobs=4)]: Done 2000 out of 2000 | elapsed:    0.6s finished\n"
     ]
    },
    {
     "name": "stdout",
     "output_type": "stream",
     "text": [
      "[CV]  bootstrap=False, criterion=mse, max_depth=110, max_features=auto, min_samples_leaf=2, min_samples_split=2, min_weight_fraction_leaf=0.0, n_estimators=2000, n_jobs=-1, verbose=1, warm_start=False, explained_variance=-0.078, neg_mean_absolute_error=-79.053, neg_mean_squared_error=-10182.621, neg_mean_squared_log_error=-0.042, neg_median_absolute_error=-64.300, r2=-0.079, total=  16.5s\n",
      "[CV] bootstrap=False, criterion=mse, max_depth=110, max_features=auto, min_samples_leaf=2, min_samples_split=2, min_weight_fraction_leaf=0.0, n_estimators=2000, n_jobs=-1, verbose=1, warm_start=False \n"
     ]
    },
    {
     "name": "stderr",
     "output_type": "stream",
     "text": [
      "[Parallel(n_jobs=-1)]: Using backend LokyBackend with 4 concurrent workers.\n",
      "[Parallel(n_jobs=-1)]: Done 200 tasks      | elapsed:    1.3s\n",
      "[Parallel(n_jobs=-1)]: Done 1400 tasks      | elapsed:    8.6s\n",
      "[Parallel(n_jobs=-1)]: Done 2000 out of 2000 | elapsed:   12.2s finished\n",
      "[Parallel(n_jobs=4)]: Using backend ThreadingBackend with 4 concurrent workers.\n",
      "[Parallel(n_jobs=4)]: Done  42 tasks      | elapsed:    0.0s\n",
      "[Parallel(n_jobs=4)]: Done 192 tasks      | elapsed:    0.1s\n",
      "[Parallel(n_jobs=4)]: Done 442 tasks      | elapsed:    0.1s\n",
      "[Parallel(n_jobs=4)]: Done 792 tasks      | elapsed:    0.2s\n",
      "[Parallel(n_jobs=4)]: Done 1242 tasks      | elapsed:    0.4s\n",
      "[Parallel(n_jobs=4)]: Done 1792 tasks      | elapsed:    0.5s\n",
      "[Parallel(n_jobs=4)]: Done 2000 out of 2000 | elapsed:    0.6s finished\n"
     ]
    },
    {
     "name": "stdout",
     "output_type": "stream",
     "text": [
      "[CV]  bootstrap=False, criterion=mse, max_depth=110, max_features=auto, min_samples_leaf=2, min_samples_split=2, min_weight_fraction_leaf=0.0, n_estimators=2000, n_jobs=-1, verbose=1, warm_start=False, explained_variance=-0.063, neg_mean_absolute_error=-82.079, neg_mean_squared_error=-11127.632, neg_mean_squared_log_error=-0.089, neg_median_absolute_error=-66.167, r2=-0.063, total=  14.0s\n",
      "[CV] bootstrap=False, criterion=mse, max_depth=110, max_features=auto, min_samples_leaf=2, min_samples_split=5, min_weight_fraction_leaf=0.0, n_estimators=200, n_jobs=-1, verbose=1, warm_start=False \n"
     ]
    },
    {
     "name": "stderr",
     "output_type": "stream",
     "text": [
      "[Parallel(n_jobs=-1)]: Using backend LokyBackend with 4 concurrent workers.\n",
      "[Parallel(n_jobs=-1)]: Done 186 tasks      | elapsed:    1.4s\n",
      "[Parallel(n_jobs=-1)]: Done 200 out of 200 | elapsed:    1.5s finished\n",
      "[Parallel(n_jobs=4)]: Using backend ThreadingBackend with 4 concurrent workers.\n",
      "[Parallel(n_jobs=4)]: Done  42 tasks      | elapsed:    0.0s\n",
      "[Parallel(n_jobs=4)]: Done 192 tasks      | elapsed:    0.1s\n",
      "[Parallel(n_jobs=4)]: Done 200 out of 200 | elapsed:    0.1s finished\n"
     ]
    },
    {
     "name": "stdout",
     "output_type": "stream",
     "text": [
      "[CV]  bootstrap=False, criterion=mse, max_depth=110, max_features=auto, min_samples_leaf=2, min_samples_split=5, min_weight_fraction_leaf=0.0, n_estimators=200, n_jobs=-1, verbose=1, warm_start=False, explained_variance=-0.049, neg_mean_absolute_error=-78.214, neg_mean_squared_error=-9909.568, neg_mean_squared_log_error=-0.041, neg_median_absolute_error=-64.787, r2=-0.050, total=   1.7s\n",
      "[CV] bootstrap=False, criterion=mse, max_depth=110, max_features=auto, min_samples_leaf=2, min_samples_split=5, min_weight_fraction_leaf=0.0, n_estimators=200, n_jobs=-1, verbose=1, warm_start=False \n"
     ]
    },
    {
     "name": "stderr",
     "output_type": "stream",
     "text": [
      "[Parallel(n_jobs=-1)]: Using backend LokyBackend with 4 concurrent workers.\n",
      "[Parallel(n_jobs=-1)]: Done 186 tasks      | elapsed:    1.1s\n",
      "[Parallel(n_jobs=-1)]: Done 200 out of 200 | elapsed:    1.2s finished\n",
      "[Parallel(n_jobs=4)]: Using backend ThreadingBackend with 4 concurrent workers.\n",
      "[Parallel(n_jobs=4)]: Done  42 tasks      | elapsed:    0.0s\n",
      "[Parallel(n_jobs=4)]: Done 192 tasks      | elapsed:    0.1s\n",
      "[Parallel(n_jobs=4)]: Done 200 out of 200 | elapsed:    0.1s finished\n"
     ]
    },
    {
     "name": "stdout",
     "output_type": "stream",
     "text": [
      "[CV]  bootstrap=False, criterion=mse, max_depth=110, max_features=auto, min_samples_leaf=2, min_samples_split=5, min_weight_fraction_leaf=0.0, n_estimators=200, n_jobs=-1, verbose=1, warm_start=False, explained_variance=-0.056, neg_mean_absolute_error=-81.722, neg_mean_squared_error=-11049.387, neg_mean_squared_log_error=-0.089, neg_median_absolute_error=-66.137, r2=-0.056, total=   1.5s\n",
      "[CV] bootstrap=False, criterion=mse, max_depth=110, max_features=auto, min_samples_leaf=2, min_samples_split=5, min_weight_fraction_leaf=0.0, n_estimators=2000, n_jobs=-1, verbose=1, warm_start=False \n"
     ]
    },
    {
     "name": "stderr",
     "output_type": "stream",
     "text": [
      "[Parallel(n_jobs=-1)]: Using backend LokyBackend with 4 concurrent workers.\n",
      "[Parallel(n_jobs=-1)]: Done 200 tasks      | elapsed:    1.6s\n",
      "[Parallel(n_jobs=-1)]: Done 1400 tasks      | elapsed:   10.1s\n",
      "[Parallel(n_jobs=-1)]: Done 2000 out of 2000 | elapsed:   14.3s finished\n",
      "[Parallel(n_jobs=4)]: Using backend ThreadingBackend with 4 concurrent workers.\n",
      "[Parallel(n_jobs=4)]: Done  42 tasks      | elapsed:    0.0s\n",
      "[Parallel(n_jobs=4)]: Done 192 tasks      | elapsed:    0.1s\n",
      "[Parallel(n_jobs=4)]: Done 442 tasks      | elapsed:    0.1s\n",
      "[Parallel(n_jobs=4)]: Done 792 tasks      | elapsed:    0.2s\n",
      "[Parallel(n_jobs=4)]: Done 1242 tasks      | elapsed:    0.4s\n",
      "[Parallel(n_jobs=4)]: Done 1792 tasks      | elapsed:    0.5s\n",
      "[Parallel(n_jobs=4)]: Done 2000 out of 2000 | elapsed:    0.6s finished\n"
     ]
    },
    {
     "name": "stdout",
     "output_type": "stream",
     "text": [
      "[CV]  bootstrap=False, criterion=mse, max_depth=110, max_features=auto, min_samples_leaf=2, min_samples_split=5, min_weight_fraction_leaf=0.0, n_estimators=2000, n_jobs=-1, verbose=1, warm_start=False, explained_variance=-0.049, neg_mean_absolute_error=-78.210, neg_mean_squared_error=-9906.549, neg_mean_squared_log_error=-0.041, neg_median_absolute_error=-64.787, r2=-0.049, total=  16.1s\n",
      "[CV] bootstrap=False, criterion=mse, max_depth=110, max_features=auto, min_samples_leaf=2, min_samples_split=5, min_weight_fraction_leaf=0.0, n_estimators=2000, n_jobs=-1, verbose=1, warm_start=False \n"
     ]
    },
    {
     "name": "stderr",
     "output_type": "stream",
     "text": [
      "[Parallel(n_jobs=-1)]: Using backend LokyBackend with 4 concurrent workers.\n",
      "[Parallel(n_jobs=-1)]: Done 200 tasks      | elapsed:    1.3s\n",
      "[Parallel(n_jobs=-1)]: Done 1400 tasks      | elapsed:    8.4s\n",
      "[Parallel(n_jobs=-1)]: Done 2000 out of 2000 | elapsed:   11.9s finished\n",
      "[Parallel(n_jobs=4)]: Using backend ThreadingBackend with 4 concurrent workers.\n",
      "[Parallel(n_jobs=4)]: Done  42 tasks      | elapsed:    0.0s\n",
      "[Parallel(n_jobs=4)]: Done 192 tasks      | elapsed:    0.1s\n",
      "[Parallel(n_jobs=4)]: Done 442 tasks      | elapsed:    0.1s\n",
      "[Parallel(n_jobs=4)]: Done 792 tasks      | elapsed:    0.2s\n",
      "[Parallel(n_jobs=4)]: Done 1242 tasks      | elapsed:    0.4s\n",
      "[Parallel(n_jobs=4)]: Done 1792 tasks      | elapsed:    0.5s\n",
      "[Parallel(n_jobs=4)]: Done 2000 out of 2000 | elapsed:    0.6s finished\n",
      "[Parallel(n_jobs=-1)]: Using backend LokyBackend with 4 concurrent workers.\n"
     ]
    },
    {
     "name": "stdout",
     "output_type": "stream",
     "text": [
      "[CV]  bootstrap=False, criterion=mse, max_depth=110, max_features=auto, min_samples_leaf=2, min_samples_split=5, min_weight_fraction_leaf=0.0, n_estimators=2000, n_jobs=-1, verbose=1, warm_start=False, explained_variance=-0.056, neg_mean_absolute_error=-81.737, neg_mean_squared_error=-11052.317, neg_mean_squared_log_error=-0.089, neg_median_absolute_error=-66.167, r2=-0.056, total=  13.7s\n",
      "[CV] bootstrap=False, criterion=mse, max_depth=110, max_features=auto, min_samples_leaf=2, min_samples_split=10, min_weight_fraction_leaf=0.0, n_estimators=200, n_jobs=-1, verbose=1, warm_start=False \n"
     ]
    },
    {
     "name": "stderr",
     "output_type": "stream",
     "text": [
      "[Parallel(n_jobs=-1)]: Done 186 tasks      | elapsed:    1.3s\n",
      "[Parallel(n_jobs=-1)]: Done 200 out of 200 | elapsed:    1.4s finished\n",
      "[Parallel(n_jobs=4)]: Using backend ThreadingBackend with 4 concurrent workers.\n",
      "[Parallel(n_jobs=4)]: Done  42 tasks      | elapsed:    0.0s\n",
      "[Parallel(n_jobs=4)]: Done 192 tasks      | elapsed:    0.1s\n",
      "[Parallel(n_jobs=4)]: Done 200 out of 200 | elapsed:    0.1s finished\n"
     ]
    },
    {
     "name": "stdout",
     "output_type": "stream",
     "text": [
      "[CV]  bootstrap=False, criterion=mse, max_depth=110, max_features=auto, min_samples_leaf=2, min_samples_split=10, min_weight_fraction_leaf=0.0, n_estimators=200, n_jobs=-1, verbose=1, warm_start=False, explained_variance=0.048, neg_mean_absolute_error=-74.043, neg_mean_squared_error=-8988.838, neg_mean_squared_log_error=-0.037, neg_median_absolute_error=-60.100, r2=0.048, total=   1.6s\n",
      "[CV] bootstrap=False, criterion=mse, max_depth=110, max_features=auto, min_samples_leaf=2, min_samples_split=10, min_weight_fraction_leaf=0.0, n_estimators=200, n_jobs=-1, verbose=1, warm_start=False \n"
     ]
    },
    {
     "name": "stderr",
     "output_type": "stream",
     "text": [
      "[Parallel(n_jobs=-1)]: Using backend LokyBackend with 4 concurrent workers.\n",
      "[Parallel(n_jobs=-1)]: Done 186 tasks      | elapsed:    1.0s\n",
      "[Parallel(n_jobs=-1)]: Done 200 out of 200 | elapsed:    1.1s finished\n",
      "[Parallel(n_jobs=4)]: Using backend ThreadingBackend with 4 concurrent workers.\n",
      "[Parallel(n_jobs=4)]: Done  42 tasks      | elapsed:    0.0s\n",
      "[Parallel(n_jobs=4)]: Done 192 tasks      | elapsed:    0.1s\n",
      "[Parallel(n_jobs=4)]: Done 200 out of 200 | elapsed:    0.1s finished\n"
     ]
    },
    {
     "name": "stdout",
     "output_type": "stream",
     "text": [
      "[CV]  bootstrap=False, criterion=mse, max_depth=110, max_features=auto, min_samples_leaf=2, min_samples_split=10, min_weight_fraction_leaf=0.0, n_estimators=200, n_jobs=-1, verbose=1, warm_start=False, explained_variance=0.020, neg_mean_absolute_error=-78.325, neg_mean_squared_error=-10261.032, neg_mean_squared_log_error=-0.086, neg_median_absolute_error=-62.992, r2=0.020, total=   1.4s\n",
      "[CV] bootstrap=False, criterion=mse, max_depth=110, max_features=auto, min_samples_leaf=2, min_samples_split=10, min_weight_fraction_leaf=0.0, n_estimators=2000, n_jobs=-1, verbose=1, warm_start=False \n"
     ]
    },
    {
     "name": "stderr",
     "output_type": "stream",
     "text": [
      "[Parallel(n_jobs=-1)]: Using backend LokyBackend with 4 concurrent workers.\n",
      "[Parallel(n_jobs=-1)]: Done 200 tasks      | elapsed:    1.5s\n",
      "[Parallel(n_jobs=-1)]: Done 1400 tasks      | elapsed:    9.3s\n",
      "[Parallel(n_jobs=-1)]: Done 2000 out of 2000 | elapsed:   13.3s finished\n",
      "[Parallel(n_jobs=4)]: Using backend ThreadingBackend with 4 concurrent workers.\n",
      "[Parallel(n_jobs=4)]: Done  42 tasks      | elapsed:    0.0s\n",
      "[Parallel(n_jobs=4)]: Done 192 tasks      | elapsed:    0.1s\n",
      "[Parallel(n_jobs=4)]: Done 442 tasks      | elapsed:    0.1s\n",
      "[Parallel(n_jobs=4)]: Done 792 tasks      | elapsed:    0.2s\n",
      "[Parallel(n_jobs=4)]: Done 1242 tasks      | elapsed:    0.4s\n",
      "[Parallel(n_jobs=4)]: Done 1792 tasks      | elapsed:    0.5s\n",
      "[Parallel(n_jobs=4)]: Done 2000 out of 2000 | elapsed:    0.6s finished\n"
     ]
    },
    {
     "name": "stdout",
     "output_type": "stream",
     "text": [
      "[CV]  bootstrap=False, criterion=mse, max_depth=110, max_features=auto, min_samples_leaf=2, min_samples_split=10, min_weight_fraction_leaf=0.0, n_estimators=2000, n_jobs=-1, verbose=1, warm_start=False, explained_variance=0.048, neg_mean_absolute_error=-74.055, neg_mean_squared_error=-8990.048, neg_mean_squared_log_error=-0.037, neg_median_absolute_error=-60.100, r2=0.048, total=  15.0s\n",
      "[CV] bootstrap=False, criterion=mse, max_depth=110, max_features=auto, min_samples_leaf=2, min_samples_split=10, min_weight_fraction_leaf=0.0, n_estimators=2000, n_jobs=-1, verbose=1, warm_start=False \n"
     ]
    },
    {
     "name": "stderr",
     "output_type": "stream",
     "text": [
      "[Parallel(n_jobs=-1)]: Using backend LokyBackend with 4 concurrent workers.\n",
      "[Parallel(n_jobs=-1)]: Done 200 tasks      | elapsed:    1.2s\n",
      "[Parallel(n_jobs=-1)]: Done 1400 tasks      | elapsed:    7.9s\n",
      "[Parallel(n_jobs=-1)]: Done 2000 out of 2000 | elapsed:   11.1s finished\n",
      "[Parallel(n_jobs=4)]: Using backend ThreadingBackend with 4 concurrent workers.\n",
      "[Parallel(n_jobs=4)]: Done  42 tasks      | elapsed:    0.0s\n",
      "[Parallel(n_jobs=4)]: Done 192 tasks      | elapsed:    0.1s\n",
      "[Parallel(n_jobs=4)]: Done 442 tasks      | elapsed:    0.1s\n",
      "[Parallel(n_jobs=4)]: Done 792 tasks      | elapsed:    0.3s\n",
      "[Parallel(n_jobs=4)]: Done 1242 tasks      | elapsed:    0.4s\n",
      "[Parallel(n_jobs=4)]: Done 1792 tasks      | elapsed:    0.6s\n",
      "[Parallel(n_jobs=4)]: Done 2000 out of 2000 | elapsed:    0.6s finished\n"
     ]
    },
    {
     "name": "stdout",
     "output_type": "stream",
     "text": [
      "[CV]  bootstrap=False, criterion=mse, max_depth=110, max_features=auto, min_samples_leaf=2, min_samples_split=10, min_weight_fraction_leaf=0.0, n_estimators=2000, n_jobs=-1, verbose=1, warm_start=False, explained_variance=0.020, neg_mean_absolute_error=-78.330, neg_mean_squared_error=-10261.882, neg_mean_squared_log_error=-0.086, neg_median_absolute_error=-62.992, r2=0.019, total=  13.0s\n",
      "[CV] bootstrap=False, criterion=mse, max_depth=110, max_features=auto, min_samples_leaf=4, min_samples_split=2, min_weight_fraction_leaf=0.0, n_estimators=200, n_jobs=-1, verbose=1, warm_start=False \n"
     ]
    },
    {
     "name": "stderr",
     "output_type": "stream",
     "text": [
      "[Parallel(n_jobs=-1)]: Using backend LokyBackend with 4 concurrent workers.\n",
      "[Parallel(n_jobs=-1)]: Done 186 tasks      | elapsed:    1.2s\n",
      "[Parallel(n_jobs=-1)]: Done 200 out of 200 | elapsed:    1.3s finished\n",
      "[Parallel(n_jobs=4)]: Using backend ThreadingBackend with 4 concurrent workers.\n",
      "[Parallel(n_jobs=4)]: Done  42 tasks      | elapsed:    0.0s\n",
      "[Parallel(n_jobs=4)]: Done 192 tasks      | elapsed:    0.1s\n",
      "[Parallel(n_jobs=4)]: Done 200 out of 200 | elapsed:    0.1s finished\n"
     ]
    },
    {
     "name": "stdout",
     "output_type": "stream",
     "text": [
      "[CV]  bootstrap=False, criterion=mse, max_depth=110, max_features=auto, min_samples_leaf=4, min_samples_split=2, min_weight_fraction_leaf=0.0, n_estimators=200, n_jobs=-1, verbose=1, warm_start=False, explained_variance=0.064, neg_mean_absolute_error=-73.549, neg_mean_squared_error=-8841.946, neg_mean_squared_log_error=-0.037, neg_median_absolute_error=-59.525, r2=0.063, total=   1.5s\n",
      "[CV] bootstrap=False, criterion=mse, max_depth=110, max_features=auto, min_samples_leaf=4, min_samples_split=2, min_weight_fraction_leaf=0.0, n_estimators=200, n_jobs=-1, verbose=1, warm_start=False \n"
     ]
    },
    {
     "name": "stderr",
     "output_type": "stream",
     "text": [
      "[Parallel(n_jobs=-1)]: Using backend LokyBackend with 4 concurrent workers.\n",
      "[Parallel(n_jobs=-1)]: Done 186 tasks      | elapsed:    1.0s\n",
      "[Parallel(n_jobs=-1)]: Done 200 out of 200 | elapsed:    1.0s finished\n",
      "[Parallel(n_jobs=4)]: Using backend ThreadingBackend with 4 concurrent workers.\n",
      "[Parallel(n_jobs=4)]: Done  42 tasks      | elapsed:    0.0s\n",
      "[Parallel(n_jobs=4)]: Done 192 tasks      | elapsed:    0.1s\n",
      "[Parallel(n_jobs=4)]: Done 200 out of 200 | elapsed:    0.1s finished\n"
     ]
    },
    {
     "name": "stdout",
     "output_type": "stream",
     "text": [
      "[CV]  bootstrap=False, criterion=mse, max_depth=110, max_features=auto, min_samples_leaf=4, min_samples_split=2, min_weight_fraction_leaf=0.0, n_estimators=200, n_jobs=-1, verbose=1, warm_start=False, explained_variance=0.115, neg_mean_absolute_error=-74.535, neg_mean_squared_error=-9270.520, neg_mean_squared_log_error=-0.082, neg_median_absolute_error=-60.757, r2=0.114, total=   1.3s\n",
      "[CV] bootstrap=False, criterion=mse, max_depth=110, max_features=auto, min_samples_leaf=4, min_samples_split=2, min_weight_fraction_leaf=0.0, n_estimators=2000, n_jobs=-1, verbose=1, warm_start=False \n"
     ]
    },
    {
     "name": "stderr",
     "output_type": "stream",
     "text": [
      "[Parallel(n_jobs=-1)]: Using backend LokyBackend with 4 concurrent workers.\n",
      "[Parallel(n_jobs=-1)]: Done 200 tasks      | elapsed:    1.3s\n",
      "[Parallel(n_jobs=-1)]: Done 1400 tasks      | elapsed:    8.6s\n",
      "[Parallel(n_jobs=-1)]: Done 2000 out of 2000 | elapsed:   12.3s finished\n",
      "[Parallel(n_jobs=4)]: Using backend ThreadingBackend with 4 concurrent workers.\n",
      "[Parallel(n_jobs=4)]: Done  42 tasks      | elapsed:    0.0s\n",
      "[Parallel(n_jobs=4)]: Done 192 tasks      | elapsed:    0.1s\n",
      "[Parallel(n_jobs=4)]: Done 442 tasks      | elapsed:    0.1s\n",
      "[Parallel(n_jobs=4)]: Done 792 tasks      | elapsed:    0.2s\n",
      "[Parallel(n_jobs=4)]: Done 1242 tasks      | elapsed:    0.4s\n",
      "[Parallel(n_jobs=4)]: Done 1792 tasks      | elapsed:    0.5s\n",
      "[Parallel(n_jobs=4)]: Done 2000 out of 2000 | elapsed:    0.6s finished\n"
     ]
    },
    {
     "name": "stdout",
     "output_type": "stream",
     "text": [
      "[CV]  bootstrap=False, criterion=mse, max_depth=110, max_features=auto, min_samples_leaf=4, min_samples_split=2, min_weight_fraction_leaf=0.0, n_estimators=2000, n_jobs=-1, verbose=1, warm_start=False, explained_variance=0.064, neg_mean_absolute_error=-73.543, neg_mean_squared_error=-8841.821, neg_mean_squared_log_error=-0.037, neg_median_absolute_error=-59.525, r2=0.063, total=  14.0s\n",
      "[CV] bootstrap=False, criterion=mse, max_depth=110, max_features=auto, min_samples_leaf=4, min_samples_split=2, min_weight_fraction_leaf=0.0, n_estimators=2000, n_jobs=-1, verbose=1, warm_start=False \n"
     ]
    },
    {
     "name": "stderr",
     "output_type": "stream",
     "text": [
      "[Parallel(n_jobs=-1)]: Using backend LokyBackend with 4 concurrent workers.\n",
      "[Parallel(n_jobs=-1)]: Done 200 tasks      | elapsed:    1.1s\n",
      "[Parallel(n_jobs=-1)]: Done 1400 tasks      | elapsed:    7.1s\n",
      "[Parallel(n_jobs=-1)]: Done 2000 out of 2000 | elapsed:   10.1s finished\n",
      "[Parallel(n_jobs=4)]: Using backend ThreadingBackend with 4 concurrent workers.\n",
      "[Parallel(n_jobs=4)]: Done  42 tasks      | elapsed:    0.0s\n",
      "[Parallel(n_jobs=4)]: Done 192 tasks      | elapsed:    0.1s\n",
      "[Parallel(n_jobs=4)]: Done 442 tasks      | elapsed:    0.1s\n",
      "[Parallel(n_jobs=4)]: Done 792 tasks      | elapsed:    0.2s\n",
      "[Parallel(n_jobs=4)]: Done 1242 tasks      | elapsed:    0.4s\n",
      "[Parallel(n_jobs=4)]: Done 1792 tasks      | elapsed:    0.5s\n",
      "[Parallel(n_jobs=4)]: Done 2000 out of 2000 | elapsed:    0.6s finished\n"
     ]
    },
    {
     "name": "stdout",
     "output_type": "stream",
     "text": [
      "[CV]  bootstrap=False, criterion=mse, max_depth=110, max_features=auto, min_samples_leaf=4, min_samples_split=2, min_weight_fraction_leaf=0.0, n_estimators=2000, n_jobs=-1, verbose=1, warm_start=False, explained_variance=0.115, neg_mean_absolute_error=-74.534, neg_mean_squared_error=-9270.330, neg_mean_squared_log_error=-0.082, neg_median_absolute_error=-60.757, r2=0.114, total=  11.9s\n",
      "[CV] bootstrap=False, criterion=mse, max_depth=110, max_features=auto, min_samples_leaf=4, min_samples_split=5, min_weight_fraction_leaf=0.0, n_estimators=200, n_jobs=-1, verbose=1, warm_start=False \n"
     ]
    },
    {
     "name": "stderr",
     "output_type": "stream",
     "text": [
      "[Parallel(n_jobs=-1)]: Using backend LokyBackend with 4 concurrent workers.\n",
      "[Parallel(n_jobs=-1)]: Done 186 tasks      | elapsed:    1.2s\n",
      "[Parallel(n_jobs=-1)]: Done 200 out of 200 | elapsed:    1.3s finished\n",
      "[Parallel(n_jobs=4)]: Using backend ThreadingBackend with 4 concurrent workers.\n",
      "[Parallel(n_jobs=4)]: Done  42 tasks      | elapsed:    0.0s\n",
      "[Parallel(n_jobs=4)]: Done 192 tasks      | elapsed:    0.1s\n",
      "[Parallel(n_jobs=4)]: Done 200 out of 200 | elapsed:    0.1s finished\n"
     ]
    },
    {
     "name": "stdout",
     "output_type": "stream",
     "text": [
      "[CV]  bootstrap=False, criterion=mse, max_depth=110, max_features=auto, min_samples_leaf=4, min_samples_split=5, min_weight_fraction_leaf=0.0, n_estimators=200, n_jobs=-1, verbose=1, warm_start=False, explained_variance=0.064, neg_mean_absolute_error=-73.553, neg_mean_squared_error=-8842.537, neg_mean_squared_log_error=-0.037, neg_median_absolute_error=-59.527, r2=0.063, total=   1.5s\n",
      "[CV] bootstrap=False, criterion=mse, max_depth=110, max_features=auto, min_samples_leaf=4, min_samples_split=5, min_weight_fraction_leaf=0.0, n_estimators=200, n_jobs=-1, verbose=1, warm_start=False \n"
     ]
    },
    {
     "name": "stderr",
     "output_type": "stream",
     "text": [
      "[Parallel(n_jobs=-1)]: Using backend LokyBackend with 4 concurrent workers.\n",
      "[Parallel(n_jobs=-1)]: Done 179 tasks      | elapsed:    1.0s\n",
      "[Parallel(n_jobs=-1)]: Done 200 out of 200 | elapsed:    1.0s finished\n",
      "[Parallel(n_jobs=4)]: Using backend ThreadingBackend with 4 concurrent workers.\n",
      "[Parallel(n_jobs=4)]: Done  42 tasks      | elapsed:    0.0s\n",
      "[Parallel(n_jobs=4)]: Done 192 tasks      | elapsed:    0.1s\n",
      "[Parallel(n_jobs=4)]: Done 200 out of 200 | elapsed:    0.1s finished\n"
     ]
    },
    {
     "name": "stdout",
     "output_type": "stream",
     "text": [
      "[CV]  bootstrap=False, criterion=mse, max_depth=110, max_features=auto, min_samples_leaf=4, min_samples_split=5, min_weight_fraction_leaf=0.0, n_estimators=200, n_jobs=-1, verbose=1, warm_start=False, explained_variance=0.115, neg_mean_absolute_error=-74.536, neg_mean_squared_error=-9270.802, neg_mean_squared_log_error=-0.082, neg_median_absolute_error=-60.757, r2=0.114, total=   1.3s\n",
      "[CV] bootstrap=False, criterion=mse, max_depth=110, max_features=auto, min_samples_leaf=4, min_samples_split=5, min_weight_fraction_leaf=0.0, n_estimators=2000, n_jobs=-1, verbose=1, warm_start=False \n"
     ]
    },
    {
     "name": "stderr",
     "output_type": "stream",
     "text": [
      "[Parallel(n_jobs=-1)]: Using backend LokyBackend with 4 concurrent workers.\n",
      "[Parallel(n_jobs=-1)]: Done 200 tasks      | elapsed:    1.3s\n",
      "[Parallel(n_jobs=-1)]: Done 1400 tasks      | elapsed:    8.6s\n",
      "[Parallel(n_jobs=-1)]: Done 2000 out of 2000 | elapsed:   12.2s finished\n",
      "[Parallel(n_jobs=4)]: Using backend ThreadingBackend with 4 concurrent workers.\n",
      "[Parallel(n_jobs=4)]: Done  42 tasks      | elapsed:    0.0s\n",
      "[Parallel(n_jobs=4)]: Done 192 tasks      | elapsed:    0.1s\n",
      "[Parallel(n_jobs=4)]: Done 442 tasks      | elapsed:    0.1s\n",
      "[Parallel(n_jobs=4)]: Done 792 tasks      | elapsed:    0.2s\n",
      "[Parallel(n_jobs=4)]: Done 1242 tasks      | elapsed:    0.4s\n",
      "[Parallel(n_jobs=4)]: Done 1792 tasks      | elapsed:    0.5s\n",
      "[Parallel(n_jobs=4)]: Done 2000 out of 2000 | elapsed:    0.6s finished\n"
     ]
    },
    {
     "name": "stdout",
     "output_type": "stream",
     "text": [
      "[CV]  bootstrap=False, criterion=mse, max_depth=110, max_features=auto, min_samples_leaf=4, min_samples_split=5, min_weight_fraction_leaf=0.0, n_estimators=2000, n_jobs=-1, verbose=1, warm_start=False, explained_variance=0.064, neg_mean_absolute_error=-73.544, neg_mean_squared_error=-8841.854, neg_mean_squared_log_error=-0.037, neg_median_absolute_error=-59.525, r2=0.063, total=  14.0s\n",
      "[CV] bootstrap=False, criterion=mse, max_depth=110, max_features=auto, min_samples_leaf=4, min_samples_split=5, min_weight_fraction_leaf=0.0, n_estimators=2000, n_jobs=-1, verbose=1, warm_start=False \n"
     ]
    },
    {
     "name": "stderr",
     "output_type": "stream",
     "text": [
      "[Parallel(n_jobs=-1)]: Using backend LokyBackend with 4 concurrent workers.\n",
      "[Parallel(n_jobs=-1)]: Done 200 tasks      | elapsed:    1.1s\n",
      "[Parallel(n_jobs=-1)]: Done 1400 tasks      | elapsed:    7.0s\n",
      "[Parallel(n_jobs=-1)]: Done 2000 out of 2000 | elapsed:   10.0s finished\n",
      "[Parallel(n_jobs=4)]: Using backend ThreadingBackend with 4 concurrent workers.\n",
      "[Parallel(n_jobs=4)]: Done  42 tasks      | elapsed:    0.0s\n",
      "[Parallel(n_jobs=4)]: Done 192 tasks      | elapsed:    0.1s\n",
      "[Parallel(n_jobs=4)]: Done 442 tasks      | elapsed:    0.1s\n",
      "[Parallel(n_jobs=4)]: Done 792 tasks      | elapsed:    0.2s\n",
      "[Parallel(n_jobs=4)]: Done 1242 tasks      | elapsed:    0.4s\n",
      "[Parallel(n_jobs=4)]: Done 1792 tasks      | elapsed:    0.5s\n",
      "[Parallel(n_jobs=4)]: Done 2000 out of 2000 | elapsed:    0.6s finished\n",
      "[Parallel(n_jobs=-1)]: Using backend LokyBackend with 4 concurrent workers.\n"
     ]
    },
    {
     "name": "stdout",
     "output_type": "stream",
     "text": [
      "[CV]  bootstrap=False, criterion=mse, max_depth=110, max_features=auto, min_samples_leaf=4, min_samples_split=5, min_weight_fraction_leaf=0.0, n_estimators=2000, n_jobs=-1, verbose=1, warm_start=False, explained_variance=0.115, neg_mean_absolute_error=-74.534, neg_mean_squared_error=-9270.160, neg_mean_squared_log_error=-0.082, neg_median_absolute_error=-60.757, r2=0.114, total=  11.8s\n",
      "[CV] bootstrap=False, criterion=mse, max_depth=110, max_features=auto, min_samples_leaf=4, min_samples_split=10, min_weight_fraction_leaf=0.0, n_estimators=200, n_jobs=-1, verbose=1, warm_start=False \n"
     ]
    },
    {
     "name": "stderr",
     "output_type": "stream",
     "text": [
      "[Parallel(n_jobs=-1)]: Done 186 tasks      | elapsed:    1.1s\n",
      "[Parallel(n_jobs=-1)]: Done 200 out of 200 | elapsed:    1.2s finished\n",
      "[Parallel(n_jobs=4)]: Using backend ThreadingBackend with 4 concurrent workers.\n",
      "[Parallel(n_jobs=4)]: Done  42 tasks      | elapsed:    0.0s\n",
      "[Parallel(n_jobs=4)]: Done 192 tasks      | elapsed:    0.1s\n",
      "[Parallel(n_jobs=4)]: Done 200 out of 200 | elapsed:    0.1s finished\n"
     ]
    },
    {
     "name": "stdout",
     "output_type": "stream",
     "text": [
      "[CV]  bootstrap=False, criterion=mse, max_depth=110, max_features=auto, min_samples_leaf=4, min_samples_split=10, min_weight_fraction_leaf=0.0, n_estimators=200, n_jobs=-1, verbose=1, warm_start=False, explained_variance=0.078, neg_mean_absolute_error=-73.130, neg_mean_squared_error=-8706.900, neg_mean_squared_log_error=-0.037, neg_median_absolute_error=-59.580, r2=0.078, total=   1.5s\n",
      "[CV] bootstrap=False, criterion=mse, max_depth=110, max_features=auto, min_samples_leaf=4, min_samples_split=10, min_weight_fraction_leaf=0.0, n_estimators=200, n_jobs=-1, verbose=1, warm_start=False \n"
     ]
    },
    {
     "name": "stderr",
     "output_type": "stream",
     "text": [
      "[Parallel(n_jobs=-1)]: Using backend LokyBackend with 4 concurrent workers.\n",
      "[Parallel(n_jobs=-1)]: Done 186 tasks      | elapsed:    1.0s\n",
      "[Parallel(n_jobs=-1)]: Done 200 out of 200 | elapsed:    1.0s finished\n",
      "[Parallel(n_jobs=4)]: Using backend ThreadingBackend with 4 concurrent workers.\n",
      "[Parallel(n_jobs=4)]: Done  42 tasks      | elapsed:    0.0s\n",
      "[Parallel(n_jobs=4)]: Done 192 tasks      | elapsed:    0.1s\n",
      "[Parallel(n_jobs=4)]: Done 200 out of 200 | elapsed:    0.1s finished\n"
     ]
    },
    {
     "name": "stdout",
     "output_type": "stream",
     "text": [
      "[CV]  bootstrap=False, criterion=mse, max_depth=110, max_features=auto, min_samples_leaf=4, min_samples_split=10, min_weight_fraction_leaf=0.0, n_estimators=200, n_jobs=-1, verbose=1, warm_start=False, explained_variance=0.138, neg_mean_absolute_error=-73.450, neg_mean_squared_error=-9034.439, neg_mean_squared_log_error=-0.081, neg_median_absolute_error=-60.707, r2=0.137, total=   1.3s\n",
      "[CV] bootstrap=False, criterion=mse, max_depth=110, max_features=auto, min_samples_leaf=4, min_samples_split=10, min_weight_fraction_leaf=0.0, n_estimators=2000, n_jobs=-1, verbose=1, warm_start=False \n"
     ]
    },
    {
     "name": "stderr",
     "output_type": "stream",
     "text": [
      "[Parallel(n_jobs=-1)]: Using backend LokyBackend with 4 concurrent workers.\n",
      "[Parallel(n_jobs=-1)]: Done 200 tasks      | elapsed:    1.3s\n",
      "[Parallel(n_jobs=-1)]: Done 1400 tasks      | elapsed:    8.5s\n",
      "[Parallel(n_jobs=-1)]: Done 2000 out of 2000 | elapsed:   12.1s finished\n",
      "[Parallel(n_jobs=4)]: Using backend ThreadingBackend with 4 concurrent workers.\n",
      "[Parallel(n_jobs=4)]: Done  42 tasks      | elapsed:    0.0s\n",
      "[Parallel(n_jobs=4)]: Done 192 tasks      | elapsed:    0.1s\n",
      "[Parallel(n_jobs=4)]: Done 442 tasks      | elapsed:    0.1s\n",
      "[Parallel(n_jobs=4)]: Done 792 tasks      | elapsed:    0.3s\n",
      "[Parallel(n_jobs=4)]: Done 1242 tasks      | elapsed:    0.4s\n",
      "[Parallel(n_jobs=4)]: Done 1792 tasks      | elapsed:    0.5s\n",
      "[Parallel(n_jobs=4)]: Done 2000 out of 2000 | elapsed:    0.6s finished\n"
     ]
    },
    {
     "name": "stdout",
     "output_type": "stream",
     "text": [
      "[CV]  bootstrap=False, criterion=mse, max_depth=110, max_features=auto, min_samples_leaf=4, min_samples_split=10, min_weight_fraction_leaf=0.0, n_estimators=2000, n_jobs=-1, verbose=1, warm_start=False, explained_variance=0.078, neg_mean_absolute_error=-73.139, neg_mean_squared_error=-8707.070, neg_mean_squared_log_error=-0.037, neg_median_absolute_error=-59.544, r2=0.078, total=  13.9s\n",
      "[CV] bootstrap=False, criterion=mse, max_depth=110, max_features=auto, min_samples_leaf=4, min_samples_split=10, min_weight_fraction_leaf=0.0, n_estimators=2000, n_jobs=-1, verbose=1, warm_start=False \n"
     ]
    },
    {
     "name": "stderr",
     "output_type": "stream",
     "text": [
      "[Parallel(n_jobs=-1)]: Using backend LokyBackend with 4 concurrent workers.\n",
      "[Parallel(n_jobs=-1)]: Done 200 tasks      | elapsed:    1.1s\n",
      "[Parallel(n_jobs=-1)]: Done 1400 tasks      | elapsed:    6.9s\n",
      "[Parallel(n_jobs=-1)]: Done 2000 out of 2000 | elapsed:    9.8s finished\n",
      "[Parallel(n_jobs=4)]: Using backend ThreadingBackend with 4 concurrent workers.\n",
      "[Parallel(n_jobs=4)]: Done  42 tasks      | elapsed:    0.0s\n",
      "[Parallel(n_jobs=4)]: Done 192 tasks      | elapsed:    0.1s\n",
      "[Parallel(n_jobs=4)]: Done 442 tasks      | elapsed:    0.1s\n",
      "[Parallel(n_jobs=4)]: Done 792 tasks      | elapsed:    0.2s\n",
      "[Parallel(n_jobs=4)]: Done 1242 tasks      | elapsed:    0.4s\n",
      "[Parallel(n_jobs=4)]: Done 1792 tasks      | elapsed:    0.5s\n",
      "[Parallel(n_jobs=4)]: Done 2000 out of 2000 | elapsed:    0.6s finished\n"
     ]
    },
    {
     "name": "stdout",
     "output_type": "stream",
     "text": [
      "[CV]  bootstrap=False, criterion=mse, max_depth=110, max_features=auto, min_samples_leaf=4, min_samples_split=10, min_weight_fraction_leaf=0.0, n_estimators=2000, n_jobs=-1, verbose=1, warm_start=False, explained_variance=0.138, neg_mean_absolute_error=-73.453, neg_mean_squared_error=-9035.269, neg_mean_squared_log_error=-0.081, neg_median_absolute_error=-60.707, r2=0.137, total=  11.6s\n",
      "[CV] bootstrap=False, criterion=mse, max_depth=110, max_features=sqrt, min_samples_leaf=1, min_samples_split=2, min_weight_fraction_leaf=0.0, n_estimators=200, n_jobs=-1, verbose=1, warm_start=False \n"
     ]
    },
    {
     "name": "stderr",
     "output_type": "stream",
     "text": [
      "[Parallel(n_jobs=-1)]: Using backend LokyBackend with 4 concurrent workers.\n",
      "[Parallel(n_jobs=-1)]: Done 190 tasks      | elapsed:    0.7s\n",
      "[Parallel(n_jobs=-1)]: Done 200 out of 200 | elapsed:    0.7s finished\n",
      "[Parallel(n_jobs=4)]: Using backend ThreadingBackend with 4 concurrent workers.\n",
      "[Parallel(n_jobs=4)]: Done  42 tasks      | elapsed:    0.0s\n",
      "[Parallel(n_jobs=4)]: Done 192 tasks      | elapsed:    0.1s\n",
      "[Parallel(n_jobs=4)]: Done 200 out of 200 | elapsed:    0.1s finished\n"
     ]
    },
    {
     "name": "stdout",
     "output_type": "stream",
     "text": [
      "[CV]  bootstrap=False, criterion=mse, max_depth=110, max_features=sqrt, min_samples_leaf=1, min_samples_split=2, min_weight_fraction_leaf=0.0, n_estimators=200, n_jobs=-1, verbose=1, warm_start=False, explained_variance=0.356, neg_mean_absolute_error=-62.254, neg_mean_squared_error=-6088.034, neg_mean_squared_log_error=-0.026, neg_median_absolute_error=-53.419, r2=0.355, total=   1.0s\n",
      "[CV] bootstrap=False, criterion=mse, max_depth=110, max_features=sqrt, min_samples_leaf=1, min_samples_split=2, min_weight_fraction_leaf=0.0, n_estimators=200, n_jobs=-1, verbose=1, warm_start=False \n"
     ]
    },
    {
     "name": "stderr",
     "output_type": "stream",
     "text": [
      "[Parallel(n_jobs=-1)]: Using backend LokyBackend with 4 concurrent workers.\n",
      "[Parallel(n_jobs=-1)]: Done 190 tasks      | elapsed:    0.7s\n",
      "[Parallel(n_jobs=-1)]: Done 200 out of 200 | elapsed:    0.7s finished\n",
      "[Parallel(n_jobs=4)]: Using backend ThreadingBackend with 4 concurrent workers.\n",
      "[Parallel(n_jobs=4)]: Done  42 tasks      | elapsed:    0.0s\n",
      "[Parallel(n_jobs=4)]: Done 192 tasks      | elapsed:    0.1s\n",
      "[Parallel(n_jobs=4)]: Done 200 out of 200 | elapsed:    0.1s finished\n"
     ]
    },
    {
     "name": "stdout",
     "output_type": "stream",
     "text": [
      "[CV]  bootstrap=False, criterion=mse, max_depth=110, max_features=sqrt, min_samples_leaf=1, min_samples_split=2, min_weight_fraction_leaf=0.0, n_estimators=200, n_jobs=-1, verbose=1, warm_start=False, explained_variance=0.425, neg_mean_absolute_error=-60.624, neg_mean_squared_error=-6015.722, neg_mean_squared_log_error=-0.068, neg_median_absolute_error=-51.447, r2=0.425, total=   1.0s\n",
      "[CV] bootstrap=False, criterion=mse, max_depth=110, max_features=sqrt, min_samples_leaf=1, min_samples_split=2, min_weight_fraction_leaf=0.0, n_estimators=2000, n_jobs=-1, verbose=1, warm_start=False \n"
     ]
    },
    {
     "name": "stderr",
     "output_type": "stream",
     "text": [
      "[Parallel(n_jobs=-1)]: Using backend LokyBackend with 4 concurrent workers.\n",
      "[Parallel(n_jobs=-1)]: Done 280 tasks      | elapsed:    1.0s\n",
      "[Parallel(n_jobs=-1)]: Done 2000 out of 2000 | elapsed:    6.7s finished\n",
      "[Parallel(n_jobs=4)]: Using backend ThreadingBackend with 4 concurrent workers.\n",
      "[Parallel(n_jobs=4)]: Done  42 tasks      | elapsed:    0.0s\n",
      "[Parallel(n_jobs=4)]: Done 192 tasks      | elapsed:    0.1s\n",
      "[Parallel(n_jobs=4)]: Done 442 tasks      | elapsed:    0.1s\n",
      "[Parallel(n_jobs=4)]: Done 792 tasks      | elapsed:    0.3s\n",
      "[Parallel(n_jobs=4)]: Done 1242 tasks      | elapsed:    0.4s\n",
      "[Parallel(n_jobs=4)]: Done 1792 tasks      | elapsed:    0.6s\n",
      "[Parallel(n_jobs=4)]: Done 2000 out of 2000 | elapsed:    0.6s finished\n"
     ]
    },
    {
     "name": "stdout",
     "output_type": "stream",
     "text": [
      "[CV]  bootstrap=False, criterion=mse, max_depth=110, max_features=sqrt, min_samples_leaf=1, min_samples_split=2, min_weight_fraction_leaf=0.0, n_estimators=2000, n_jobs=-1, verbose=1, warm_start=False, explained_variance=0.362, neg_mean_absolute_error=-61.946, neg_mean_squared_error=-6028.959, neg_mean_squared_log_error=-0.025, neg_median_absolute_error=-52.870, r2=0.361, total=   8.6s\n",
      "[CV] bootstrap=False, criterion=mse, max_depth=110, max_features=sqrt, min_samples_leaf=1, min_samples_split=2, min_weight_fraction_leaf=0.0, n_estimators=2000, n_jobs=-1, verbose=1, warm_start=False \n"
     ]
    },
    {
     "name": "stderr",
     "output_type": "stream",
     "text": [
      "[Parallel(n_jobs=-1)]: Using backend LokyBackend with 4 concurrent workers.\n",
      "[Parallel(n_jobs=-1)]: Done 280 tasks      | elapsed:    1.0s\n",
      "[Parallel(n_jobs=-1)]: Done 2000 out of 2000 | elapsed:    6.4s finished\n",
      "[Parallel(n_jobs=4)]: Using backend ThreadingBackend with 4 concurrent workers.\n",
      "[Parallel(n_jobs=4)]: Done  42 tasks      | elapsed:    0.0s\n",
      "[Parallel(n_jobs=4)]: Done 192 tasks      | elapsed:    0.1s\n",
      "[Parallel(n_jobs=4)]: Done 442 tasks      | elapsed:    0.1s\n",
      "[Parallel(n_jobs=4)]: Done 792 tasks      | elapsed:    0.3s\n",
      "[Parallel(n_jobs=4)]: Done 1242 tasks      | elapsed:    0.4s\n",
      "[Parallel(n_jobs=4)]: Done 1792 tasks      | elapsed:    0.6s\n",
      "[Parallel(n_jobs=4)]: Done 2000 out of 2000 | elapsed:    0.6s finished\n"
     ]
    },
    {
     "name": "stdout",
     "output_type": "stream",
     "text": [
      "[CV]  bootstrap=False, criterion=mse, max_depth=110, max_features=sqrt, min_samples_leaf=1, min_samples_split=2, min_weight_fraction_leaf=0.0, n_estimators=2000, n_jobs=-1, verbose=1, warm_start=False, explained_variance=0.428, neg_mean_absolute_error=-60.444, neg_mean_squared_error=-5984.129, neg_mean_squared_log_error=-0.068, neg_median_absolute_error=-51.067, r2=0.428, total=   8.3s\n",
      "[CV] bootstrap=False, criterion=mse, max_depth=110, max_features=sqrt, min_samples_leaf=1, min_samples_split=5, min_weight_fraction_leaf=0.0, n_estimators=200, n_jobs=-1, verbose=1, warm_start=False \n"
     ]
    },
    {
     "name": "stderr",
     "output_type": "stream",
     "text": [
      "[Parallel(n_jobs=-1)]: Using backend LokyBackend with 4 concurrent workers.\n",
      "[Parallel(n_jobs=-1)]: Done 175 tasks      | elapsed:    0.6s\n",
      "[Parallel(n_jobs=-1)]: Done 200 out of 200 | elapsed:    0.6s finished\n",
      "[Parallel(n_jobs=4)]: Using backend ThreadingBackend with 4 concurrent workers.\n",
      "[Parallel(n_jobs=4)]: Done  42 tasks      | elapsed:    0.0s\n",
      "[Parallel(n_jobs=4)]: Done 192 tasks      | elapsed:    0.1s\n",
      "[Parallel(n_jobs=4)]: Done 200 out of 200 | elapsed:    0.1s finished\n"
     ]
    },
    {
     "name": "stdout",
     "output_type": "stream",
     "text": [
      "[CV]  bootstrap=False, criterion=mse, max_depth=110, max_features=sqrt, min_samples_leaf=1, min_samples_split=5, min_weight_fraction_leaf=0.0, n_estimators=200, n_jobs=-1, verbose=1, warm_start=False, explained_variance=0.367, neg_mean_absolute_error=-61.836, neg_mean_squared_error=-5984.383, neg_mean_squared_log_error=-0.025, neg_median_absolute_error=-52.836, r2=0.366, total=   0.8s\n",
      "[CV] bootstrap=False, criterion=mse, max_depth=110, max_features=sqrt, min_samples_leaf=1, min_samples_split=5, min_weight_fraction_leaf=0.0, n_estimators=200, n_jobs=-1, verbose=1, warm_start=False \n"
     ]
    },
    {
     "name": "stderr",
     "output_type": "stream",
     "text": [
      "[Parallel(n_jobs=-1)]: Using backend LokyBackend with 4 concurrent workers.\n",
      "[Parallel(n_jobs=-1)]: Done 190 tasks      | elapsed:    0.5s\n",
      "[Parallel(n_jobs=-1)]: Done 200 out of 200 | elapsed:    0.6s finished\n",
      "[Parallel(n_jobs=4)]: Using backend ThreadingBackend with 4 concurrent workers.\n",
      "[Parallel(n_jobs=4)]: Done  42 tasks      | elapsed:    0.0s\n",
      "[Parallel(n_jobs=4)]: Done 192 tasks      | elapsed:    0.1s\n",
      "[Parallel(n_jobs=4)]: Done 200 out of 200 | elapsed:    0.1s finished\n"
     ]
    },
    {
     "name": "stdout",
     "output_type": "stream",
     "text": [
      "[CV]  bootstrap=False, criterion=mse, max_depth=110, max_features=sqrt, min_samples_leaf=1, min_samples_split=5, min_weight_fraction_leaf=0.0, n_estimators=200, n_jobs=-1, verbose=1, warm_start=False, explained_variance=0.433, neg_mean_absolute_error=-60.257, neg_mean_squared_error=-5934.980, neg_mean_squared_log_error=-0.067, neg_median_absolute_error=-50.806, r2=0.433, total=   0.8s\n",
      "[CV] bootstrap=False, criterion=mse, max_depth=110, max_features=sqrt, min_samples_leaf=1, min_samples_split=5, min_weight_fraction_leaf=0.0, n_estimators=2000, n_jobs=-1, verbose=1, warm_start=False \n"
     ]
    },
    {
     "name": "stderr",
     "output_type": "stream",
     "text": [
      "[Parallel(n_jobs=-1)]: Using backend LokyBackend with 4 concurrent workers.\n",
      "[Parallel(n_jobs=-1)]: Done 280 tasks      | elapsed:    0.8s\n",
      "[Parallel(n_jobs=-1)]: Done 2000 out of 2000 | elapsed:    5.1s finished\n",
      "[Parallel(n_jobs=4)]: Using backend ThreadingBackend with 4 concurrent workers.\n",
      "[Parallel(n_jobs=4)]: Done  42 tasks      | elapsed:    0.0s\n",
      "[Parallel(n_jobs=4)]: Done 192 tasks      | elapsed:    0.1s\n",
      "[Parallel(n_jobs=4)]: Done 442 tasks      | elapsed:    0.1s\n",
      "[Parallel(n_jobs=4)]: Done 792 tasks      | elapsed:    0.2s\n",
      "[Parallel(n_jobs=4)]: Done 1242 tasks      | elapsed:    0.4s\n",
      "[Parallel(n_jobs=4)]: Done 1792 tasks      | elapsed:    0.5s\n",
      "[Parallel(n_jobs=4)]: Done 2000 out of 2000 | elapsed:    0.6s finished\n"
     ]
    },
    {
     "name": "stdout",
     "output_type": "stream",
     "text": [
      "[CV]  bootstrap=False, criterion=mse, max_depth=110, max_features=sqrt, min_samples_leaf=1, min_samples_split=5, min_weight_fraction_leaf=0.0, n_estimators=2000, n_jobs=-1, verbose=1, warm_start=False, explained_variance=0.366, neg_mean_absolute_error=-61.746, neg_mean_squared_error=-5988.897, neg_mean_squared_log_error=-0.025, neg_median_absolute_error=-53.323, r2=0.366, total=   6.8s\n",
      "[CV] bootstrap=False, criterion=mse, max_depth=110, max_features=sqrt, min_samples_leaf=1, min_samples_split=5, min_weight_fraction_leaf=0.0, n_estimators=2000, n_jobs=-1, verbose=1, warm_start=False \n"
     ]
    },
    {
     "name": "stderr",
     "output_type": "stream",
     "text": [
      "[Parallel(n_jobs=-1)]: Using backend LokyBackend with 4 concurrent workers.\n",
      "[Parallel(n_jobs=-1)]: Done 280 tasks      | elapsed:    1.0s\n",
      "[Parallel(n_jobs=-1)]: Done 2000 out of 2000 | elapsed:    5.2s finished\n",
      "[Parallel(n_jobs=4)]: Using backend ThreadingBackend with 4 concurrent workers.\n",
      "[Parallel(n_jobs=4)]: Done  42 tasks      | elapsed:    0.0s\n",
      "[Parallel(n_jobs=4)]: Done 192 tasks      | elapsed:    0.1s\n",
      "[Parallel(n_jobs=4)]: Done 442 tasks      | elapsed:    0.1s\n",
      "[Parallel(n_jobs=4)]: Done 792 tasks      | elapsed:    0.2s\n",
      "[Parallel(n_jobs=4)]: Done 1242 tasks      | elapsed:    0.4s\n",
      "[Parallel(n_jobs=4)]: Done 1792 tasks      | elapsed:    0.5s\n",
      "[Parallel(n_jobs=4)]: Done 2000 out of 2000 | elapsed:    0.6s finished\n"
     ]
    },
    {
     "name": "stdout",
     "output_type": "stream",
     "text": [
      "[CV]  bootstrap=False, criterion=mse, max_depth=110, max_features=sqrt, min_samples_leaf=1, min_samples_split=5, min_weight_fraction_leaf=0.0, n_estimators=2000, n_jobs=-1, verbose=1, warm_start=False, explained_variance=0.432, neg_mean_absolute_error=-60.154, neg_mean_squared_error=-5942.003, neg_mean_squared_log_error=-0.067, neg_median_absolute_error=-50.742, r2=0.432, total=   7.0s\n",
      "[CV] bootstrap=False, criterion=mse, max_depth=110, max_features=sqrt, min_samples_leaf=1, min_samples_split=10, min_weight_fraction_leaf=0.0, n_estimators=200, n_jobs=-1, verbose=1, warm_start=False \n"
     ]
    },
    {
     "name": "stderr",
     "output_type": "stream",
     "text": [
      "[Parallel(n_jobs=-1)]: Using backend LokyBackend with 4 concurrent workers.\n",
      "[Parallel(n_jobs=-1)]: Done 190 tasks      | elapsed:    0.5s\n",
      "[Parallel(n_jobs=-1)]: Done 200 out of 200 | elapsed:    0.5s finished\n",
      "[Parallel(n_jobs=4)]: Using backend ThreadingBackend with 4 concurrent workers.\n",
      "[Parallel(n_jobs=4)]: Done  42 tasks      | elapsed:    0.0s\n",
      "[Parallel(n_jobs=4)]: Done 192 tasks      | elapsed:    0.1s\n",
      "[Parallel(n_jobs=4)]: Done 200 out of 200 | elapsed:    0.1s finished\n"
     ]
    },
    {
     "name": "stdout",
     "output_type": "stream",
     "text": [
      "[CV]  bootstrap=False, criterion=mse, max_depth=110, max_features=sqrt, min_samples_leaf=1, min_samples_split=10, min_weight_fraction_leaf=0.0, n_estimators=200, n_jobs=-1, verbose=1, warm_start=False, explained_variance=0.376, neg_mean_absolute_error=-61.436, neg_mean_squared_error=-5901.827, neg_mean_squared_log_error=-0.025, neg_median_absolute_error=-53.083, r2=0.375, total=   0.8s\n",
      "[CV] bootstrap=False, criterion=mse, max_depth=110, max_features=sqrt, min_samples_leaf=1, min_samples_split=10, min_weight_fraction_leaf=0.0, n_estimators=200, n_jobs=-1, verbose=1, warm_start=False \n"
     ]
    },
    {
     "name": "stderr",
     "output_type": "stream",
     "text": [
      "[Parallel(n_jobs=-1)]: Using backend LokyBackend with 4 concurrent workers.\n",
      "[Parallel(n_jobs=-1)]: Done 175 tasks      | elapsed:    0.5s\n",
      "[Parallel(n_jobs=-1)]: Done 200 out of 200 | elapsed:    0.5s finished\n",
      "[Parallel(n_jobs=4)]: Using backend ThreadingBackend with 4 concurrent workers.\n",
      "[Parallel(n_jobs=4)]: Done  42 tasks      | elapsed:    0.0s\n",
      "[Parallel(n_jobs=4)]: Done 192 tasks      | elapsed:    0.1s\n",
      "[Parallel(n_jobs=4)]: Done 200 out of 200 | elapsed:    0.1s finished\n"
     ]
    },
    {
     "name": "stdout",
     "output_type": "stream",
     "text": [
      "[CV]  bootstrap=False, criterion=mse, max_depth=110, max_features=sqrt, min_samples_leaf=1, min_samples_split=10, min_weight_fraction_leaf=0.0, n_estimators=200, n_jobs=-1, verbose=1, warm_start=False, explained_variance=0.439, neg_mean_absolute_error=-59.875, neg_mean_squared_error=-5866.986, neg_mean_squared_log_error=-0.067, neg_median_absolute_error=-50.971, r2=0.439, total=   0.7s\n",
      "[CV] bootstrap=False, criterion=mse, max_depth=110, max_features=sqrt, min_samples_leaf=1, min_samples_split=10, min_weight_fraction_leaf=0.0, n_estimators=2000, n_jobs=-1, verbose=1, warm_start=False \n"
     ]
    },
    {
     "name": "stderr",
     "output_type": "stream",
     "text": [
      "[Parallel(n_jobs=-1)]: Using backend LokyBackend with 4 concurrent workers.\n",
      "[Parallel(n_jobs=-1)]: Done 312 tasks      | elapsed:    0.9s\n",
      "[Parallel(n_jobs=-1)]: Done 2000 out of 2000 | elapsed:    4.4s finished\n",
      "[Parallel(n_jobs=4)]: Using backend ThreadingBackend with 4 concurrent workers.\n",
      "[Parallel(n_jobs=4)]: Done  42 tasks      | elapsed:    0.0s\n",
      "[Parallel(n_jobs=4)]: Done 192 tasks      | elapsed:    0.1s\n",
      "[Parallel(n_jobs=4)]: Done 442 tasks      | elapsed:    0.1s\n",
      "[Parallel(n_jobs=4)]: Done 792 tasks      | elapsed:    0.2s\n",
      "[Parallel(n_jobs=4)]: Done 1242 tasks      | elapsed:    0.4s\n",
      "[Parallel(n_jobs=4)]: Done 1792 tasks      | elapsed:    0.5s\n",
      "[Parallel(n_jobs=4)]: Done 2000 out of 2000 | elapsed:    0.6s finished\n"
     ]
    },
    {
     "name": "stdout",
     "output_type": "stream",
     "text": [
      "[CV]  bootstrap=False, criterion=mse, max_depth=110, max_features=sqrt, min_samples_leaf=1, min_samples_split=10, min_weight_fraction_leaf=0.0, n_estimators=2000, n_jobs=-1, verbose=1, warm_start=False, explained_variance=0.376, neg_mean_absolute_error=-61.392, neg_mean_squared_error=-5895.187, neg_mean_squared_log_error=-0.025, neg_median_absolute_error=-52.732, r2=0.376, total=   6.2s\n",
      "[CV] bootstrap=False, criterion=mse, max_depth=110, max_features=sqrt, min_samples_leaf=1, min_samples_split=10, min_weight_fraction_leaf=0.0, n_estimators=2000, n_jobs=-1, verbose=1, warm_start=False \n"
     ]
    },
    {
     "name": "stderr",
     "output_type": "stream",
     "text": [
      "[Parallel(n_jobs=-1)]: Using backend LokyBackend with 4 concurrent workers.\n",
      "[Parallel(n_jobs=-1)]: Done 312 tasks      | elapsed:    0.8s\n",
      "[Parallel(n_jobs=-1)]: Done 2000 out of 2000 | elapsed:    4.2s finished\n",
      "[Parallel(n_jobs=4)]: Using backend ThreadingBackend with 4 concurrent workers.\n",
      "[Parallel(n_jobs=4)]: Done  42 tasks      | elapsed:    0.0s\n",
      "[Parallel(n_jobs=4)]: Done 192 tasks      | elapsed:    0.1s\n",
      "[Parallel(n_jobs=4)]: Done 442 tasks      | elapsed:    0.1s\n",
      "[Parallel(n_jobs=4)]: Done 792 tasks      | elapsed:    0.2s\n",
      "[Parallel(n_jobs=4)]: Done 1242 tasks      | elapsed:    0.4s\n",
      "[Parallel(n_jobs=4)]: Done 1792 tasks      | elapsed:    0.5s\n",
      "[Parallel(n_jobs=4)]: Done 2000 out of 2000 | elapsed:    0.6s finished\n"
     ]
    },
    {
     "name": "stdout",
     "output_type": "stream",
     "text": [
      "[CV]  bootstrap=False, criterion=mse, max_depth=110, max_features=sqrt, min_samples_leaf=1, min_samples_split=10, min_weight_fraction_leaf=0.0, n_estimators=2000, n_jobs=-1, verbose=1, warm_start=False, explained_variance=0.441, neg_mean_absolute_error=-59.716, neg_mean_squared_error=-5853.516, neg_mean_squared_log_error=-0.067, neg_median_absolute_error=-50.531, r2=0.441, total=   6.0s\n",
      "[CV] bootstrap=False, criterion=mse, max_depth=110, max_features=sqrt, min_samples_leaf=2, min_samples_split=2, min_weight_fraction_leaf=0.0, n_estimators=200, n_jobs=-1, verbose=1, warm_start=False \n"
     ]
    },
    {
     "name": "stderr",
     "output_type": "stream",
     "text": [
      "[Parallel(n_jobs=-1)]: Using backend LokyBackend with 4 concurrent workers.\n",
      "[Parallel(n_jobs=-1)]: Done 175 tasks      | elapsed:    0.5s\n",
      "[Parallel(n_jobs=-1)]: Done 200 out of 200 | elapsed:    0.6s finished\n",
      "[Parallel(n_jobs=4)]: Using backend ThreadingBackend with 4 concurrent workers.\n",
      "[Parallel(n_jobs=4)]: Done  42 tasks      | elapsed:    0.0s\n",
      "[Parallel(n_jobs=4)]: Done 192 tasks      | elapsed:    0.1s\n",
      "[Parallel(n_jobs=4)]: Done 200 out of 200 | elapsed:    0.1s finished\n"
     ]
    },
    {
     "name": "stdout",
     "output_type": "stream",
     "text": [
      "[CV]  bootstrap=False, criterion=mse, max_depth=110, max_features=sqrt, min_samples_leaf=2, min_samples_split=2, min_weight_fraction_leaf=0.0, n_estimators=200, n_jobs=-1, verbose=1, warm_start=False, explained_variance=0.368, neg_mean_absolute_error=-61.688, neg_mean_squared_error=-5972.366, neg_mean_squared_log_error=-0.025, neg_median_absolute_error=-53.190, r2=0.367, total=   0.8s\n",
      "[CV] bootstrap=False, criterion=mse, max_depth=110, max_features=sqrt, min_samples_leaf=2, min_samples_split=2, min_weight_fraction_leaf=0.0, n_estimators=200, n_jobs=-1, verbose=1, warm_start=False \n"
     ]
    },
    {
     "name": "stderr",
     "output_type": "stream",
     "text": [
      "[Parallel(n_jobs=-1)]: Using backend LokyBackend with 4 concurrent workers.\n",
      "[Parallel(n_jobs=-1)]: Done 190 tasks      | elapsed:    0.5s\n",
      "[Parallel(n_jobs=-1)]: Done 200 out of 200 | elapsed:    0.6s finished\n",
      "[Parallel(n_jobs=4)]: Using backend ThreadingBackend with 4 concurrent workers.\n",
      "[Parallel(n_jobs=4)]: Done  42 tasks      | elapsed:    0.0s\n",
      "[Parallel(n_jobs=4)]: Done 192 tasks      | elapsed:    0.1s\n",
      "[Parallel(n_jobs=4)]: Done 200 out of 200 | elapsed:    0.1s finished\n"
     ]
    },
    {
     "name": "stdout",
     "output_type": "stream",
     "text": [
      "[CV]  bootstrap=False, criterion=mse, max_depth=110, max_features=sqrt, min_samples_leaf=2, min_samples_split=2, min_weight_fraction_leaf=0.0, n_estimators=200, n_jobs=-1, verbose=1, warm_start=False, explained_variance=0.438, neg_mean_absolute_error=-59.841, neg_mean_squared_error=-5882.540, neg_mean_squared_log_error=-0.067, neg_median_absolute_error=-50.534, r2=0.438, total=   0.8s\n",
      "[CV] bootstrap=False, criterion=mse, max_depth=110, max_features=sqrt, min_samples_leaf=2, min_samples_split=2, min_weight_fraction_leaf=0.0, n_estimators=2000, n_jobs=-1, verbose=1, warm_start=False \n"
     ]
    },
    {
     "name": "stderr",
     "output_type": "stream",
     "text": [
      "[Parallel(n_jobs=-1)]: Using backend LokyBackend with 4 concurrent workers.\n",
      "[Parallel(n_jobs=-1)]: Done 280 tasks      | elapsed:    0.8s\n",
      "[Parallel(n_jobs=-1)]: Done 2000 out of 2000 | elapsed:    4.8s finished\n",
      "[Parallel(n_jobs=4)]: Using backend ThreadingBackend with 4 concurrent workers.\n",
      "[Parallel(n_jobs=4)]: Done  42 tasks      | elapsed:    0.0s\n",
      "[Parallel(n_jobs=4)]: Done 192 tasks      | elapsed:    0.1s\n",
      "[Parallel(n_jobs=4)]: Done 442 tasks      | elapsed:    0.1s\n",
      "[Parallel(n_jobs=4)]: Done 792 tasks      | elapsed:    0.2s\n",
      "[Parallel(n_jobs=4)]: Done 1242 tasks      | elapsed:    0.4s\n",
      "[Parallel(n_jobs=4)]: Done 1792 tasks      | elapsed:    0.5s\n",
      "[Parallel(n_jobs=4)]: Done 2000 out of 2000 | elapsed:    0.6s finished\n"
     ]
    },
    {
     "name": "stdout",
     "output_type": "stream",
     "text": [
      "[CV]  bootstrap=False, criterion=mse, max_depth=110, max_features=sqrt, min_samples_leaf=2, min_samples_split=2, min_weight_fraction_leaf=0.0, n_estimators=2000, n_jobs=-1, verbose=1, warm_start=False, explained_variance=0.371, neg_mean_absolute_error=-61.525, neg_mean_squared_error=-5945.861, neg_mean_squared_log_error=-0.025, neg_median_absolute_error=-52.858, r2=0.370, total=   6.6s\n",
      "[CV] bootstrap=False, criterion=mse, max_depth=110, max_features=sqrt, min_samples_leaf=2, min_samples_split=2, min_weight_fraction_leaf=0.0, n_estimators=2000, n_jobs=-1, verbose=1, warm_start=False \n"
     ]
    },
    {
     "name": "stderr",
     "output_type": "stream",
     "text": [
      "[Parallel(n_jobs=-1)]: Using backend LokyBackend with 4 concurrent workers.\n",
      "[Parallel(n_jobs=-1)]: Done 280 tasks      | elapsed:    0.8s\n",
      "[Parallel(n_jobs=-1)]: Done 2000 out of 2000 | elapsed:    4.7s finished\n",
      "[Parallel(n_jobs=4)]: Using backend ThreadingBackend with 4 concurrent workers.\n",
      "[Parallel(n_jobs=4)]: Done  42 tasks      | elapsed:    0.0s\n",
      "[Parallel(n_jobs=4)]: Done 192 tasks      | elapsed:    0.1s\n",
      "[Parallel(n_jobs=4)]: Done 442 tasks      | elapsed:    0.1s\n",
      "[Parallel(n_jobs=4)]: Done 792 tasks      | elapsed:    0.2s\n",
      "[Parallel(n_jobs=4)]: Done 1242 tasks      | elapsed:    0.3s\n",
      "[Parallel(n_jobs=4)]: Done 1792 tasks      | elapsed:    0.5s\n",
      "[Parallel(n_jobs=4)]: Done 2000 out of 2000 | elapsed:    0.6s finished\n"
     ]
    },
    {
     "name": "stdout",
     "output_type": "stream",
     "text": [
      "[CV]  bootstrap=False, criterion=mse, max_depth=110, max_features=sqrt, min_samples_leaf=2, min_samples_split=2, min_weight_fraction_leaf=0.0, n_estimators=2000, n_jobs=-1, verbose=1, warm_start=False, explained_variance=0.437, neg_mean_absolute_error=-59.858, neg_mean_squared_error=-5890.870, neg_mean_squared_log_error=-0.067, neg_median_absolute_error=-50.316, r2=0.437, total=   6.5s\n",
      "[CV] bootstrap=False, criterion=mse, max_depth=110, max_features=sqrt, min_samples_leaf=2, min_samples_split=5, min_weight_fraction_leaf=0.0, n_estimators=200, n_jobs=-1, verbose=1, warm_start=False \n"
     ]
    },
    {
     "name": "stderr",
     "output_type": "stream",
     "text": [
      "[Parallel(n_jobs=-1)]: Using backend LokyBackend with 4 concurrent workers.\n",
      "[Parallel(n_jobs=-1)]: Done 190 tasks      | elapsed:    0.5s\n",
      "[Parallel(n_jobs=-1)]: Done 200 out of 200 | elapsed:    0.5s finished\n",
      "[Parallel(n_jobs=4)]: Using backend ThreadingBackend with 4 concurrent workers.\n",
      "[Parallel(n_jobs=4)]: Done  42 tasks      | elapsed:    0.0s\n",
      "[Parallel(n_jobs=4)]: Done 192 tasks      | elapsed:    0.1s\n",
      "[Parallel(n_jobs=4)]: Done 200 out of 200 | elapsed:    0.1s finished\n"
     ]
    },
    {
     "name": "stdout",
     "output_type": "stream",
     "text": [
      "[CV]  bootstrap=False, criterion=mse, max_depth=110, max_features=sqrt, min_samples_leaf=2, min_samples_split=5, min_weight_fraction_leaf=0.0, n_estimators=200, n_jobs=-1, verbose=1, warm_start=False, explained_variance=0.372, neg_mean_absolute_error=-61.520, neg_mean_squared_error=-5930.598, neg_mean_squared_log_error=-0.025, neg_median_absolute_error=-53.044, r2=0.372, total=   0.8s\n",
      "[CV] bootstrap=False, criterion=mse, max_depth=110, max_features=sqrt, min_samples_leaf=2, min_samples_split=5, min_weight_fraction_leaf=0.0, n_estimators=200, n_jobs=-1, verbose=1, warm_start=False \n"
     ]
    },
    {
     "name": "stderr",
     "output_type": "stream",
     "text": [
      "[Parallel(n_jobs=-1)]: Using backend LokyBackend with 4 concurrent workers.\n",
      "[Parallel(n_jobs=-1)]: Done 190 tasks      | elapsed:    0.5s\n",
      "[Parallel(n_jobs=-1)]: Done 200 out of 200 | elapsed:    0.5s finished\n",
      "[Parallel(n_jobs=4)]: Using backend ThreadingBackend with 4 concurrent workers.\n",
      "[Parallel(n_jobs=4)]: Done  42 tasks      | elapsed:    0.0s\n",
      "[Parallel(n_jobs=4)]: Done 192 tasks      | elapsed:    0.1s\n",
      "[Parallel(n_jobs=4)]: Done 200 out of 200 | elapsed:    0.1s finished\n"
     ]
    },
    {
     "name": "stdout",
     "output_type": "stream",
     "text": [
      "[CV]  bootstrap=False, criterion=mse, max_depth=110, max_features=sqrt, min_samples_leaf=2, min_samples_split=5, min_weight_fraction_leaf=0.0, n_estimators=200, n_jobs=-1, verbose=1, warm_start=False, explained_variance=0.436, neg_mean_absolute_error=-59.944, neg_mean_squared_error=-5907.822, neg_mean_squared_log_error=-0.067, neg_median_absolute_error=-50.617, r2=0.435, total=   0.8s\n",
      "[CV] bootstrap=False, criterion=mse, max_depth=110, max_features=sqrt, min_samples_leaf=2, min_samples_split=5, min_weight_fraction_leaf=0.0, n_estimators=2000, n_jobs=-1, verbose=1, warm_start=False \n"
     ]
    },
    {
     "name": "stderr",
     "output_type": "stream",
     "text": [
      "[Parallel(n_jobs=-1)]: Using backend LokyBackend with 4 concurrent workers.\n",
      "[Parallel(n_jobs=-1)]: Done 312 tasks      | elapsed:    0.9s\n",
      "[Parallel(n_jobs=-1)]: Done 2000 out of 2000 | elapsed:    4.7s finished\n",
      "[Parallel(n_jobs=4)]: Using backend ThreadingBackend with 4 concurrent workers.\n",
      "[Parallel(n_jobs=4)]: Done  42 tasks      | elapsed:    0.0s\n",
      "[Parallel(n_jobs=4)]: Done 192 tasks      | elapsed:    0.1s\n",
      "[Parallel(n_jobs=4)]: Done 442 tasks      | elapsed:    0.1s\n",
      "[Parallel(n_jobs=4)]: Done 792 tasks      | elapsed:    0.2s\n",
      "[Parallel(n_jobs=4)]: Done 1242 tasks      | elapsed:    0.4s\n",
      "[Parallel(n_jobs=4)]: Done 1792 tasks      | elapsed:    0.5s\n",
      "[Parallel(n_jobs=4)]: Done 2000 out of 2000 | elapsed:    0.6s finished\n"
     ]
    },
    {
     "name": "stdout",
     "output_type": "stream",
     "text": [
      "[CV]  bootstrap=False, criterion=mse, max_depth=110, max_features=sqrt, min_samples_leaf=2, min_samples_split=5, min_weight_fraction_leaf=0.0, n_estimators=2000, n_jobs=-1, verbose=1, warm_start=False, explained_variance=0.373, neg_mean_absolute_error=-61.430, neg_mean_squared_error=-5920.685, neg_mean_squared_log_error=-0.025, neg_median_absolute_error=-52.721, r2=0.373, total=   6.4s\n",
      "[CV] bootstrap=False, criterion=mse, max_depth=110, max_features=sqrt, min_samples_leaf=2, min_samples_split=5, min_weight_fraction_leaf=0.0, n_estimators=2000, n_jobs=-1, verbose=1, warm_start=False \n"
     ]
    },
    {
     "name": "stderr",
     "output_type": "stream",
     "text": [
      "[Parallel(n_jobs=-1)]: Using backend LokyBackend with 4 concurrent workers.\n",
      "[Parallel(n_jobs=-1)]: Done 280 tasks      | elapsed:    0.7s\n",
      "[Parallel(n_jobs=-1)]: Done 2000 out of 2000 | elapsed:    4.5s finished\n",
      "[Parallel(n_jobs=4)]: Using backend ThreadingBackend with 4 concurrent workers.\n",
      "[Parallel(n_jobs=4)]: Done  42 tasks      | elapsed:    0.0s\n",
      "[Parallel(n_jobs=4)]: Done 192 tasks      | elapsed:    0.1s\n",
      "[Parallel(n_jobs=4)]: Done 442 tasks      | elapsed:    0.1s\n",
      "[Parallel(n_jobs=4)]: Done 792 tasks      | elapsed:    0.2s\n",
      "[Parallel(n_jobs=4)]: Done 1242 tasks      | elapsed:    0.4s\n",
      "[Parallel(n_jobs=4)]: Done 1792 tasks      | elapsed:    0.5s\n",
      "[Parallel(n_jobs=4)]: Done 2000 out of 2000 | elapsed:    0.6s finished\n",
      "[Parallel(n_jobs=-1)]: Using backend LokyBackend with 4 concurrent workers.\n"
     ]
    },
    {
     "name": "stdout",
     "output_type": "stream",
     "text": [
      "[CV]  bootstrap=False, criterion=mse, max_depth=110, max_features=sqrt, min_samples_leaf=2, min_samples_split=5, min_weight_fraction_leaf=0.0, n_estimators=2000, n_jobs=-1, verbose=1, warm_start=False, explained_variance=0.439, neg_mean_absolute_error=-59.780, neg_mean_squared_error=-5874.062, neg_mean_squared_log_error=-0.067, neg_median_absolute_error=-49.954, r2=0.439, total=   6.2s\n",
      "[CV] bootstrap=False, criterion=mse, max_depth=110, max_features=sqrt, min_samples_leaf=2, min_samples_split=10, min_weight_fraction_leaf=0.0, n_estimators=200, n_jobs=-1, verbose=1, warm_start=False \n"
     ]
    },
    {
     "name": "stderr",
     "output_type": "stream",
     "text": [
      "[Parallel(n_jobs=-1)]: Done 190 tasks      | elapsed:    0.5s\n",
      "[Parallel(n_jobs=-1)]: Done 200 out of 200 | elapsed:    0.5s finished\n",
      "[Parallel(n_jobs=4)]: Using backend ThreadingBackend with 4 concurrent workers.\n",
      "[Parallel(n_jobs=4)]: Done  42 tasks      | elapsed:    0.0s\n",
      "[Parallel(n_jobs=4)]: Done 192 tasks      | elapsed:    0.1s\n",
      "[Parallel(n_jobs=4)]: Done 200 out of 200 | elapsed:    0.1s finished\n"
     ]
    },
    {
     "name": "stdout",
     "output_type": "stream",
     "text": [
      "[CV]  bootstrap=False, criterion=mse, max_depth=110, max_features=sqrt, min_samples_leaf=2, min_samples_split=10, min_weight_fraction_leaf=0.0, n_estimators=200, n_jobs=-1, verbose=1, warm_start=False, explained_variance=0.379, neg_mean_absolute_error=-61.183, neg_mean_squared_error=-5866.552, neg_mean_squared_log_error=-0.025, neg_median_absolute_error=-51.868, r2=0.379, total=   0.7s\n",
      "[CV] bootstrap=False, criterion=mse, max_depth=110, max_features=sqrt, min_samples_leaf=2, min_samples_split=10, min_weight_fraction_leaf=0.0, n_estimators=200, n_jobs=-1, verbose=1, warm_start=False \n"
     ]
    },
    {
     "name": "stderr",
     "output_type": "stream",
     "text": [
      "[Parallel(n_jobs=-1)]: Using backend LokyBackend with 4 concurrent workers.\n",
      "[Parallel(n_jobs=-1)]: Done 175 tasks      | elapsed:    0.4s\n",
      "[Parallel(n_jobs=-1)]: Done 200 out of 200 | elapsed:    0.5s finished\n",
      "[Parallel(n_jobs=4)]: Using backend ThreadingBackend with 4 concurrent workers.\n",
      "[Parallel(n_jobs=4)]: Done  42 tasks      | elapsed:    0.0s\n",
      "[Parallel(n_jobs=4)]: Done 192 tasks      | elapsed:    0.1s\n",
      "[Parallel(n_jobs=4)]: Done 200 out of 200 | elapsed:    0.1s finished\n"
     ]
    },
    {
     "name": "stdout",
     "output_type": "stream",
     "text": [
      "[CV]  bootstrap=False, criterion=mse, max_depth=110, max_features=sqrt, min_samples_leaf=2, min_samples_split=10, min_weight_fraction_leaf=0.0, n_estimators=200, n_jobs=-1, verbose=1, warm_start=False, explained_variance=0.445, neg_mean_absolute_error=-59.481, neg_mean_squared_error=-5806.981, neg_mean_squared_log_error=-0.067, neg_median_absolute_error=-50.583, r2=0.445, total=   0.7s\n",
      "[CV] bootstrap=False, criterion=mse, max_depth=110, max_features=sqrt, min_samples_leaf=2, min_samples_split=10, min_weight_fraction_leaf=0.0, n_estimators=2000, n_jobs=-1, verbose=1, warm_start=False \n"
     ]
    },
    {
     "name": "stderr",
     "output_type": "stream",
     "text": [
      "[Parallel(n_jobs=-1)]: Using backend LokyBackend with 4 concurrent workers.\n",
      "[Parallel(n_jobs=-1)]: Done 312 tasks      | elapsed:    0.8s\n",
      "[Parallel(n_jobs=-1)]: Done 2000 out of 2000 | elapsed:    4.1s finished\n",
      "[Parallel(n_jobs=4)]: Using backend ThreadingBackend with 4 concurrent workers.\n",
      "[Parallel(n_jobs=4)]: Done  42 tasks      | elapsed:    0.0s\n",
      "[Parallel(n_jobs=4)]: Done 192 tasks      | elapsed:    0.1s\n",
      "[Parallel(n_jobs=4)]: Done 442 tasks      | elapsed:    0.1s\n",
      "[Parallel(n_jobs=4)]: Done 792 tasks      | elapsed:    0.2s\n",
      "[Parallel(n_jobs=4)]: Done 1242 tasks      | elapsed:    0.4s\n",
      "[Parallel(n_jobs=4)]: Done 1792 tasks      | elapsed:    0.5s\n",
      "[Parallel(n_jobs=4)]: Done 2000 out of 2000 | elapsed:    0.6s finished\n"
     ]
    },
    {
     "name": "stdout",
     "output_type": "stream",
     "text": [
      "[CV]  bootstrap=False, criterion=mse, max_depth=110, max_features=sqrt, min_samples_leaf=2, min_samples_split=10, min_weight_fraction_leaf=0.0, n_estimators=2000, n_jobs=-1, verbose=1, warm_start=False, explained_variance=0.380, neg_mean_absolute_error=-61.158, neg_mean_squared_error=-5857.520, neg_mean_squared_log_error=-0.025, neg_median_absolute_error=-52.253, r2=0.380, total=   5.9s\n",
      "[CV] bootstrap=False, criterion=mse, max_depth=110, max_features=sqrt, min_samples_leaf=2, min_samples_split=10, min_weight_fraction_leaf=0.0, n_estimators=2000, n_jobs=-1, verbose=1, warm_start=False \n"
     ]
    },
    {
     "name": "stderr",
     "output_type": "stream",
     "text": [
      "[Parallel(n_jobs=-1)]: Using backend LokyBackend with 4 concurrent workers.\n",
      "[Parallel(n_jobs=-1)]: Done 312 tasks      | elapsed:    0.8s\n",
      "[Parallel(n_jobs=-1)]: Done 2000 out of 2000 | elapsed:    4.1s finished\n",
      "[Parallel(n_jobs=4)]: Using backend ThreadingBackend with 4 concurrent workers.\n",
      "[Parallel(n_jobs=4)]: Done  42 tasks      | elapsed:    0.0s\n",
      "[Parallel(n_jobs=4)]: Done 192 tasks      | elapsed:    0.1s\n",
      "[Parallel(n_jobs=4)]: Done 442 tasks      | elapsed:    0.1s\n",
      "[Parallel(n_jobs=4)]: Done 792 tasks      | elapsed:    0.3s\n",
      "[Parallel(n_jobs=4)]: Done 1242 tasks      | elapsed:    0.4s\n",
      "[Parallel(n_jobs=4)]: Done 1792 tasks      | elapsed:    0.6s\n",
      "[Parallel(n_jobs=4)]: Done 2000 out of 2000 | elapsed:    0.6s finished\n"
     ]
    },
    {
     "name": "stdout",
     "output_type": "stream",
     "text": [
      "[CV]  bootstrap=False, criterion=mse, max_depth=110, max_features=sqrt, min_samples_leaf=2, min_samples_split=10, min_weight_fraction_leaf=0.0, n_estimators=2000, n_jobs=-1, verbose=1, warm_start=False, explained_variance=0.445, neg_mean_absolute_error=-59.418, neg_mean_squared_error=-5805.654, neg_mean_squared_log_error=-0.067, neg_median_absolute_error=-50.036, r2=0.445, total=   5.9s\n",
      "[CV] bootstrap=False, criterion=mse, max_depth=110, max_features=sqrt, min_samples_leaf=4, min_samples_split=2, min_weight_fraction_leaf=0.0, n_estimators=200, n_jobs=-1, verbose=1, warm_start=False \n"
     ]
    },
    {
     "name": "stderr",
     "output_type": "stream",
     "text": [
      "[Parallel(n_jobs=-1)]: Using backend LokyBackend with 4 concurrent workers.\n",
      "[Parallel(n_jobs=-1)]: Done 190 tasks      | elapsed:    0.5s\n",
      "[Parallel(n_jobs=-1)]: Done 200 out of 200 | elapsed:    0.5s finished\n",
      "[Parallel(n_jobs=4)]: Using backend ThreadingBackend with 4 concurrent workers.\n",
      "[Parallel(n_jobs=4)]: Done  42 tasks      | elapsed:    0.0s\n",
      "[Parallel(n_jobs=4)]: Done 192 tasks      | elapsed:    0.1s\n",
      "[Parallel(n_jobs=4)]: Done 200 out of 200 | elapsed:    0.1s finished\n"
     ]
    },
    {
     "name": "stdout",
     "output_type": "stream",
     "text": [
      "[CV]  bootstrap=False, criterion=mse, max_depth=110, max_features=sqrt, min_samples_leaf=4, min_samples_split=2, min_weight_fraction_leaf=0.0, n_estimators=200, n_jobs=-1, verbose=1, warm_start=False, explained_variance=0.382, neg_mean_absolute_error=-61.061, neg_mean_squared_error=-5834.096, neg_mean_squared_log_error=-0.025, neg_median_absolute_error=-52.257, r2=0.382, total=   0.7s\n",
      "[CV] bootstrap=False, criterion=mse, max_depth=110, max_features=sqrt, min_samples_leaf=4, min_samples_split=2, min_weight_fraction_leaf=0.0, n_estimators=200, n_jobs=-1, verbose=1, warm_start=False \n"
     ]
    },
    {
     "name": "stderr",
     "output_type": "stream",
     "text": [
      "[Parallel(n_jobs=-1)]: Using backend LokyBackend with 4 concurrent workers.\n",
      "[Parallel(n_jobs=-1)]: Done 190 tasks      | elapsed:    0.4s\n",
      "[Parallel(n_jobs=-1)]: Done 200 out of 200 | elapsed:    0.5s finished\n",
      "[Parallel(n_jobs=4)]: Using backend ThreadingBackend with 4 concurrent workers.\n",
      "[Parallel(n_jobs=4)]: Done  42 tasks      | elapsed:    0.0s\n",
      "[Parallel(n_jobs=4)]: Done 192 tasks      | elapsed:    0.1s\n",
      "[Parallel(n_jobs=4)]: Done 200 out of 200 | elapsed:    0.1s finished\n"
     ]
    },
    {
     "name": "stdout",
     "output_type": "stream",
     "text": [
      "[CV]  bootstrap=False, criterion=mse, max_depth=110, max_features=sqrt, min_samples_leaf=4, min_samples_split=2, min_weight_fraction_leaf=0.0, n_estimators=200, n_jobs=-1, verbose=1, warm_start=False, explained_variance=0.447, neg_mean_absolute_error=-59.385, neg_mean_squared_error=-5792.715, neg_mean_squared_log_error=-0.067, neg_median_absolute_error=-50.381, r2=0.446, total=   0.7s\n",
      "[CV] bootstrap=False, criterion=mse, max_depth=110, max_features=sqrt, min_samples_leaf=4, min_samples_split=2, min_weight_fraction_leaf=0.0, n_estimators=2000, n_jobs=-1, verbose=1, warm_start=False \n"
     ]
    },
    {
     "name": "stderr",
     "output_type": "stream",
     "text": [
      "[Parallel(n_jobs=-1)]: Using backend LokyBackend with 4 concurrent workers.\n",
      "[Parallel(n_jobs=-1)]: Done 312 tasks      | elapsed:    0.7s\n",
      "[Parallel(n_jobs=-1)]: Done 2000 out of 2000 | elapsed:    3.9s finished\n",
      "[Parallel(n_jobs=4)]: Using backend ThreadingBackend with 4 concurrent workers.\n",
      "[Parallel(n_jobs=4)]: Done  42 tasks      | elapsed:    0.0s\n",
      "[Parallel(n_jobs=4)]: Done 192 tasks      | elapsed:    0.1s\n",
      "[Parallel(n_jobs=4)]: Done 442 tasks      | elapsed:    0.1s\n",
      "[Parallel(n_jobs=4)]: Done 792 tasks      | elapsed:    0.3s\n",
      "[Parallel(n_jobs=4)]: Done 1242 tasks      | elapsed:    0.4s\n",
      "[Parallel(n_jobs=4)]: Done 1792 tasks      | elapsed:    0.5s\n",
      "[Parallel(n_jobs=4)]: Done 2000 out of 2000 | elapsed:    0.6s finished\n"
     ]
    },
    {
     "name": "stdout",
     "output_type": "stream",
     "text": [
      "[CV]  bootstrap=False, criterion=mse, max_depth=110, max_features=sqrt, min_samples_leaf=4, min_samples_split=2, min_weight_fraction_leaf=0.0, n_estimators=2000, n_jobs=-1, verbose=1, warm_start=False, explained_variance=0.383, neg_mean_absolute_error=-61.084, neg_mean_squared_error=-5830.291, neg_mean_squared_log_error=-0.024, neg_median_absolute_error=-52.644, r2=0.382, total=   5.8s\n",
      "[CV] bootstrap=False, criterion=mse, max_depth=110, max_features=sqrt, min_samples_leaf=4, min_samples_split=2, min_weight_fraction_leaf=0.0, n_estimators=2000, n_jobs=-1, verbose=1, warm_start=False \n"
     ]
    },
    {
     "name": "stderr",
     "output_type": "stream",
     "text": [
      "[Parallel(n_jobs=-1)]: Using backend LokyBackend with 4 concurrent workers.\n",
      "[Parallel(n_jobs=-1)]: Done 312 tasks      | elapsed:    0.7s\n",
      "[Parallel(n_jobs=-1)]: Done 2000 out of 2000 | elapsed:    3.8s finished\n",
      "[Parallel(n_jobs=4)]: Using backend ThreadingBackend with 4 concurrent workers.\n",
      "[Parallel(n_jobs=4)]: Done  42 tasks      | elapsed:    0.0s\n",
      "[Parallel(n_jobs=4)]: Done 192 tasks      | elapsed:    0.1s\n",
      "[Parallel(n_jobs=4)]: Done 442 tasks      | elapsed:    0.1s\n",
      "[Parallel(n_jobs=4)]: Done 792 tasks      | elapsed:    0.2s\n",
      "[Parallel(n_jobs=4)]: Done 1242 tasks      | elapsed:    0.4s\n",
      "[Parallel(n_jobs=4)]: Done 1792 tasks      | elapsed:    0.5s\n",
      "[Parallel(n_jobs=4)]: Done 2000 out of 2000 | elapsed:    0.6s finished\n",
      "[Parallel(n_jobs=-1)]: Using backend LokyBackend with 4 concurrent workers.\n"
     ]
    },
    {
     "name": "stdout",
     "output_type": "stream",
     "text": [
      "[CV]  bootstrap=False, criterion=mse, max_depth=110, max_features=sqrt, min_samples_leaf=4, min_samples_split=2, min_weight_fraction_leaf=0.0, n_estimators=2000, n_jobs=-1, verbose=1, warm_start=False, explained_variance=0.448, neg_mean_absolute_error=-59.250, neg_mean_squared_error=-5774.734, neg_mean_squared_log_error=-0.067, neg_median_absolute_error=-49.882, r2=0.448, total=   5.5s\n",
      "[CV] bootstrap=False, criterion=mse, max_depth=110, max_features=sqrt, min_samples_leaf=4, min_samples_split=5, min_weight_fraction_leaf=0.0, n_estimators=200, n_jobs=-1, verbose=1, warm_start=False \n"
     ]
    },
    {
     "name": "stderr",
     "output_type": "stream",
     "text": [
      "[Parallel(n_jobs=-1)]: Done 190 tasks      | elapsed:    0.4s\n",
      "[Parallel(n_jobs=-1)]: Done 200 out of 200 | elapsed:    0.5s finished\n",
      "[Parallel(n_jobs=4)]: Using backend ThreadingBackend with 4 concurrent workers.\n",
      "[Parallel(n_jobs=4)]: Done  42 tasks      | elapsed:    0.0s\n",
      "[Parallel(n_jobs=4)]: Done 192 tasks      | elapsed:    0.1s\n",
      "[Parallel(n_jobs=4)]: Done 200 out of 200 | elapsed:    0.1s finished\n"
     ]
    },
    {
     "name": "stdout",
     "output_type": "stream",
     "text": [
      "[CV]  bootstrap=False, criterion=mse, max_depth=110, max_features=sqrt, min_samples_leaf=4, min_samples_split=5, min_weight_fraction_leaf=0.0, n_estimators=200, n_jobs=-1, verbose=1, warm_start=False, explained_variance=0.382, neg_mean_absolute_error=-61.177, neg_mean_squared_error=-5840.615, neg_mean_squared_log_error=-0.025, neg_median_absolute_error=-52.628, r2=0.381, total=   0.7s\n",
      "[CV] bootstrap=False, criterion=mse, max_depth=110, max_features=sqrt, min_samples_leaf=4, min_samples_split=5, min_weight_fraction_leaf=0.0, n_estimators=200, n_jobs=-1, verbose=1, warm_start=False \n"
     ]
    },
    {
     "name": "stderr",
     "output_type": "stream",
     "text": [
      "[Parallel(n_jobs=-1)]: Using backend LokyBackend with 4 concurrent workers.\n",
      "[Parallel(n_jobs=-1)]: Done 190 tasks      | elapsed:    0.4s\n",
      "[Parallel(n_jobs=-1)]: Done 200 out of 200 | elapsed:    0.5s finished\n",
      "[Parallel(n_jobs=4)]: Using backend ThreadingBackend with 4 concurrent workers.\n",
      "[Parallel(n_jobs=4)]: Done  42 tasks      | elapsed:    0.0s\n",
      "[Parallel(n_jobs=4)]: Done 192 tasks      | elapsed:    0.1s\n",
      "[Parallel(n_jobs=4)]: Done 200 out of 200 | elapsed:    0.1s finished\n"
     ]
    },
    {
     "name": "stdout",
     "output_type": "stream",
     "text": [
      "[CV]  bootstrap=False, criterion=mse, max_depth=110, max_features=sqrt, min_samples_leaf=4, min_samples_split=5, min_weight_fraction_leaf=0.0, n_estimators=200, n_jobs=-1, verbose=1, warm_start=False, explained_variance=0.449, neg_mean_absolute_error=-59.168, neg_mean_squared_error=-5769.980, neg_mean_squared_log_error=-0.067, neg_median_absolute_error=-50.114, r2=0.449, total=   0.7s\n",
      "[CV] bootstrap=False, criterion=mse, max_depth=110, max_features=sqrt, min_samples_leaf=4, min_samples_split=5, min_weight_fraction_leaf=0.0, n_estimators=2000, n_jobs=-1, verbose=1, warm_start=False \n"
     ]
    },
    {
     "name": "stderr",
     "output_type": "stream",
     "text": [
      "[Parallel(n_jobs=-1)]: Using backend LokyBackend with 4 concurrent workers.\n",
      "[Parallel(n_jobs=-1)]: Done 312 tasks      | elapsed:    0.8s\n",
      "[Parallel(n_jobs=-1)]: Done 2000 out of 2000 | elapsed:    3.9s finished\n",
      "[Parallel(n_jobs=4)]: Using backend ThreadingBackend with 4 concurrent workers.\n",
      "[Parallel(n_jobs=4)]: Done  42 tasks      | elapsed:    0.0s\n",
      "[Parallel(n_jobs=4)]: Done 192 tasks      | elapsed:    0.1s\n",
      "[Parallel(n_jobs=4)]: Done 442 tasks      | elapsed:    0.1s\n",
      "[Parallel(n_jobs=4)]: Done 792 tasks      | elapsed:    0.2s\n",
      "[Parallel(n_jobs=4)]: Done 1242 tasks      | elapsed:    0.4s\n",
      "[Parallel(n_jobs=4)]: Done 1792 tasks      | elapsed:    0.5s\n",
      "[Parallel(n_jobs=4)]: Done 2000 out of 2000 | elapsed:    0.6s finished\n"
     ]
    },
    {
     "name": "stdout",
     "output_type": "stream",
     "text": [
      "[CV]  bootstrap=False, criterion=mse, max_depth=110, max_features=sqrt, min_samples_leaf=4, min_samples_split=5, min_weight_fraction_leaf=0.0, n_estimators=2000, n_jobs=-1, verbose=1, warm_start=False, explained_variance=0.383, neg_mean_absolute_error=-61.123, neg_mean_squared_error=-5833.151, neg_mean_squared_log_error=-0.025, neg_median_absolute_error=-52.552, r2=0.382, total=   5.7s\n",
      "[CV] bootstrap=False, criterion=mse, max_depth=110, max_features=sqrt, min_samples_leaf=4, min_samples_split=5, min_weight_fraction_leaf=0.0, n_estimators=2000, n_jobs=-1, verbose=1, warm_start=False \n"
     ]
    },
    {
     "name": "stderr",
     "output_type": "stream",
     "text": [
      "[Parallel(n_jobs=-1)]: Using backend LokyBackend with 4 concurrent workers.\n",
      "[Parallel(n_jobs=-1)]: Done 312 tasks      | elapsed:    0.7s\n",
      "[Parallel(n_jobs=-1)]: Done 2000 out of 2000 | elapsed:    3.8s finished\n",
      "[Parallel(n_jobs=4)]: Using backend ThreadingBackend with 4 concurrent workers.\n",
      "[Parallel(n_jobs=4)]: Done  42 tasks      | elapsed:    0.0s\n",
      "[Parallel(n_jobs=4)]: Done 192 tasks      | elapsed:    0.1s\n",
      "[Parallel(n_jobs=4)]: Done 442 tasks      | elapsed:    0.1s\n",
      "[Parallel(n_jobs=4)]: Done 792 tasks      | elapsed:    0.2s\n",
      "[Parallel(n_jobs=4)]: Done 1242 tasks      | elapsed:    0.4s\n",
      "[Parallel(n_jobs=4)]: Done 1792 tasks      | elapsed:    0.5s\n",
      "[Parallel(n_jobs=4)]: Done 2000 out of 2000 | elapsed:    0.6s finished\n",
      "[Parallel(n_jobs=-1)]: Using backend LokyBackend with 4 concurrent workers.\n"
     ]
    },
    {
     "name": "stdout",
     "output_type": "stream",
     "text": [
      "[CV]  bootstrap=False, criterion=mse, max_depth=110, max_features=sqrt, min_samples_leaf=4, min_samples_split=5, min_weight_fraction_leaf=0.0, n_estimators=2000, n_jobs=-1, verbose=1, warm_start=False, explained_variance=0.448, neg_mean_absolute_error=-59.261, neg_mean_squared_error=-5774.706, neg_mean_squared_log_error=-0.067, neg_median_absolute_error=-49.845, r2=0.448, total=   5.6s\n",
      "[CV] bootstrap=False, criterion=mse, max_depth=110, max_features=sqrt, min_samples_leaf=4, min_samples_split=10, min_weight_fraction_leaf=0.0, n_estimators=200, n_jobs=-1, verbose=1, warm_start=False \n"
     ]
    },
    {
     "name": "stderr",
     "output_type": "stream",
     "text": [
      "[Parallel(n_jobs=-1)]: Done 190 tasks      | elapsed:    0.4s\n",
      "[Parallel(n_jobs=-1)]: Done 200 out of 200 | elapsed:    0.5s finished\n",
      "[Parallel(n_jobs=4)]: Using backend ThreadingBackend with 4 concurrent workers.\n",
      "[Parallel(n_jobs=4)]: Done  42 tasks      | elapsed:    0.0s\n",
      "[Parallel(n_jobs=4)]: Done 192 tasks      | elapsed:    0.1s\n",
      "[Parallel(n_jobs=4)]: Done 200 out of 200 | elapsed:    0.1s finished\n"
     ]
    },
    {
     "name": "stdout",
     "output_type": "stream",
     "text": [
      "[CV]  bootstrap=False, criterion=mse, max_depth=110, max_features=sqrt, min_samples_leaf=4, min_samples_split=10, min_weight_fraction_leaf=0.0, n_estimators=200, n_jobs=-1, verbose=1, warm_start=False, explained_variance=0.385, neg_mean_absolute_error=-60.976, neg_mean_squared_error=-5814.020, neg_mean_squared_log_error=-0.024, neg_median_absolute_error=-52.364, r2=0.384, total=   0.7s\n",
      "[CV] bootstrap=False, criterion=mse, max_depth=110, max_features=sqrt, min_samples_leaf=4, min_samples_split=10, min_weight_fraction_leaf=0.0, n_estimators=200, n_jobs=-1, verbose=1, warm_start=False \n"
     ]
    },
    {
     "name": "stderr",
     "output_type": "stream",
     "text": [
      "[Parallel(n_jobs=-1)]: Using backend LokyBackend with 4 concurrent workers.\n",
      "[Parallel(n_jobs=-1)]: Done 190 tasks      | elapsed:    0.4s\n",
      "[Parallel(n_jobs=-1)]: Done 200 out of 200 | elapsed:    0.4s finished\n",
      "[Parallel(n_jobs=4)]: Using backend ThreadingBackend with 4 concurrent workers.\n",
      "[Parallel(n_jobs=4)]: Done  42 tasks      | elapsed:    0.0s\n",
      "[Parallel(n_jobs=4)]: Done 192 tasks      | elapsed:    0.1s\n",
      "[Parallel(n_jobs=4)]: Done 200 out of 200 | elapsed:    0.1s finished\n"
     ]
    },
    {
     "name": "stdout",
     "output_type": "stream",
     "text": [
      "[CV]  bootstrap=False, criterion=mse, max_depth=110, max_features=sqrt, min_samples_leaf=4, min_samples_split=10, min_weight_fraction_leaf=0.0, n_estimators=200, n_jobs=-1, verbose=1, warm_start=False, explained_variance=0.447, neg_mean_absolute_error=-59.304, neg_mean_squared_error=-5789.077, neg_mean_squared_log_error=-0.067, neg_median_absolute_error=-49.829, r2=0.447, total=   0.7s\n",
      "[CV] bootstrap=False, criterion=mse, max_depth=110, max_features=sqrt, min_samples_leaf=4, min_samples_split=10, min_weight_fraction_leaf=0.0, n_estimators=2000, n_jobs=-1, verbose=1, warm_start=False \n"
     ]
    },
    {
     "name": "stderr",
     "output_type": "stream",
     "text": [
      "[Parallel(n_jobs=-1)]: Using backend LokyBackend with 4 concurrent workers.\n",
      "[Parallel(n_jobs=-1)]: Done 312 tasks      | elapsed:    0.7s\n",
      "[Parallel(n_jobs=-1)]: Done 2000 out of 2000 | elapsed:    3.8s finished\n",
      "[Parallel(n_jobs=4)]: Using backend ThreadingBackend with 4 concurrent workers.\n",
      "[Parallel(n_jobs=4)]: Done  42 tasks      | elapsed:    0.0s\n",
      "[Parallel(n_jobs=4)]: Done 192 tasks      | elapsed:    0.1s\n",
      "[Parallel(n_jobs=4)]: Done 442 tasks      | elapsed:    0.1s\n",
      "[Parallel(n_jobs=4)]: Done 792 tasks      | elapsed:    0.2s\n",
      "[Parallel(n_jobs=4)]: Done 1242 tasks      | elapsed:    0.4s\n",
      "[Parallel(n_jobs=4)]: Done 1792 tasks      | elapsed:    0.5s\n",
      "[Parallel(n_jobs=4)]: Done 2000 out of 2000 | elapsed:    0.6s finished\n"
     ]
    },
    {
     "name": "stdout",
     "output_type": "stream",
     "text": [
      "[CV]  bootstrap=False, criterion=mse, max_depth=110, max_features=sqrt, min_samples_leaf=4, min_samples_split=10, min_weight_fraction_leaf=0.0, n_estimators=2000, n_jobs=-1, verbose=1, warm_start=False, explained_variance=0.383, neg_mean_absolute_error=-61.108, neg_mean_squared_error=-5829.635, neg_mean_squared_log_error=-0.024, neg_median_absolute_error=-52.543, r2=0.382, total=   5.7s\n",
      "[CV] bootstrap=False, criterion=mse, max_depth=110, max_features=sqrt, min_samples_leaf=4, min_samples_split=10, min_weight_fraction_leaf=0.0, n_estimators=2000, n_jobs=-1, verbose=1, warm_start=False \n"
     ]
    },
    {
     "name": "stderr",
     "output_type": "stream",
     "text": [
      "[Parallel(n_jobs=-1)]: Using backend LokyBackend with 4 concurrent workers.\n",
      "[Parallel(n_jobs=-1)]: Done 312 tasks      | elapsed:    0.7s\n",
      "[Parallel(n_jobs=-1)]: Done 2000 out of 2000 | elapsed:    3.7s finished\n",
      "[Parallel(n_jobs=4)]: Using backend ThreadingBackend with 4 concurrent workers.\n",
      "[Parallel(n_jobs=4)]: Done  42 tasks      | elapsed:    0.0s\n",
      "[Parallel(n_jobs=4)]: Done 192 tasks      | elapsed:    0.1s\n",
      "[Parallel(n_jobs=4)]: Done 442 tasks      | elapsed:    0.1s\n",
      "[Parallel(n_jobs=4)]: Done 792 tasks      | elapsed:    0.2s\n",
      "[Parallel(n_jobs=4)]: Done 1242 tasks      | elapsed:    0.4s\n",
      "[Parallel(n_jobs=4)]: Done 1792 tasks      | elapsed:    0.5s\n",
      "[Parallel(n_jobs=4)]: Done 2000 out of 2000 | elapsed:    0.6s finished\n",
      "[Parallel(n_jobs=-1)]: Using backend LokyBackend with 4 concurrent workers.\n"
     ]
    },
    {
     "name": "stdout",
     "output_type": "stream",
     "text": [
      "[CV]  bootstrap=False, criterion=mse, max_depth=110, max_features=sqrt, min_samples_leaf=4, min_samples_split=10, min_weight_fraction_leaf=0.0, n_estimators=2000, n_jobs=-1, verbose=1, warm_start=False, explained_variance=0.448, neg_mean_absolute_error=-59.262, neg_mean_squared_error=-5775.085, neg_mean_squared_log_error=-0.067, neg_median_absolute_error=-49.882, r2=0.448, total=   5.5s\n",
      "[CV] bootstrap=False, criterion=mse, max_depth=None, max_features=auto, min_samples_leaf=1, min_samples_split=2, min_weight_fraction_leaf=0.0, n_estimators=200, n_jobs=-1, verbose=1, warm_start=False \n"
     ]
    },
    {
     "name": "stderr",
     "output_type": "stream",
     "text": [
      "[Parallel(n_jobs=-1)]: Done 128 tasks      | elapsed:    1.2s\n",
      "[Parallel(n_jobs=-1)]: Done 200 out of 200 | elapsed:    1.8s finished\n",
      "[Parallel(n_jobs=4)]: Using backend ThreadingBackend with 4 concurrent workers.\n",
      "[Parallel(n_jobs=4)]: Done  42 tasks      | elapsed:    0.0s\n",
      "[Parallel(n_jobs=4)]: Done 192 tasks      | elapsed:    0.1s\n",
      "[Parallel(n_jobs=4)]: Done 200 out of 200 | elapsed:    0.1s finished\n"
     ]
    },
    {
     "name": "stdout",
     "output_type": "stream",
     "text": [
      "[CV]  bootstrap=False, criterion=mse, max_depth=None, max_features=auto, min_samples_leaf=1, min_samples_split=2, min_weight_fraction_leaf=0.0, n_estimators=200, n_jobs=-1, verbose=1, warm_start=False, explained_variance=-0.129, neg_mean_absolute_error=-80.826, neg_mean_squared_error=-10674.719, neg_mean_squared_log_error=-0.044, neg_median_absolute_error=-64.863, r2=-0.131, total=   2.0s\n",
      "[CV] bootstrap=False, criterion=mse, max_depth=None, max_features=auto, min_samples_leaf=1, min_samples_split=2, min_weight_fraction_leaf=0.0, n_estimators=200, n_jobs=-1, verbose=1, warm_start=False \n"
     ]
    },
    {
     "name": "stderr",
     "output_type": "stream",
     "text": [
      "[Parallel(n_jobs=-1)]: Using backend LokyBackend with 4 concurrent workers.\n",
      "[Parallel(n_jobs=-1)]: Done 128 tasks      | elapsed:    1.1s\n",
      "[Parallel(n_jobs=-1)]: Done 200 out of 200 | elapsed:    1.6s finished\n",
      "[Parallel(n_jobs=4)]: Using backend ThreadingBackend with 4 concurrent workers.\n",
      "[Parallel(n_jobs=4)]: Done  42 tasks      | elapsed:    0.0s\n",
      "[Parallel(n_jobs=4)]: Done 192 tasks      | elapsed:    0.1s\n",
      "[Parallel(n_jobs=4)]: Done 200 out of 200 | elapsed:    0.1s finished\n"
     ]
    },
    {
     "name": "stdout",
     "output_type": "stream",
     "text": [
      "[CV]  bootstrap=False, criterion=mse, max_depth=None, max_features=auto, min_samples_leaf=1, min_samples_split=2, min_weight_fraction_leaf=0.0, n_estimators=200, n_jobs=-1, verbose=1, warm_start=False, explained_variance=-0.080, neg_mean_absolute_error=-82.516, neg_mean_squared_error=-11306.341, neg_mean_squared_log_error=-0.089, neg_median_absolute_error=-66.045, r2=-0.080, total=   1.8s\n",
      "[CV] bootstrap=False, criterion=mse, max_depth=None, max_features=auto, min_samples_leaf=1, min_samples_split=2, min_weight_fraction_leaf=0.0, n_estimators=2000, n_jobs=-1, verbose=1, warm_start=False \n"
     ]
    },
    {
     "name": "stderr",
     "output_type": "stream",
     "text": [
      "[Parallel(n_jobs=-1)]: Using backend LokyBackend with 4 concurrent workers.\n",
      "[Parallel(n_jobs=-1)]: Done 128 tasks      | elapsed:    1.2s\n",
      "[Parallel(n_jobs=-1)]: Done 728 tasks      | elapsed:    6.5s\n",
      "[Parallel(n_jobs=-1)]: Done 1728 tasks      | elapsed:   15.4s\n",
      "[Parallel(n_jobs=-1)]: Done 1993 out of 2000 | elapsed:   18.1s remaining:    0.1s\n",
      "[Parallel(n_jobs=-1)]: Done 2000 out of 2000 | elapsed:   18.1s finished\n",
      "[Parallel(n_jobs=4)]: Using backend ThreadingBackend with 4 concurrent workers.\n",
      "[Parallel(n_jobs=4)]: Done  42 tasks      | elapsed:    0.0s\n",
      "[Parallel(n_jobs=4)]: Done 192 tasks      | elapsed:    0.1s\n",
      "[Parallel(n_jobs=4)]: Done 442 tasks      | elapsed:    0.1s\n",
      "[Parallel(n_jobs=4)]: Done 792 tasks      | elapsed:    0.3s\n",
      "[Parallel(n_jobs=4)]: Done 1242 tasks      | elapsed:    0.4s\n",
      "[Parallel(n_jobs=4)]: Done 1792 tasks      | elapsed:    0.6s\n",
      "[Parallel(n_jobs=4)]: Done 2000 out of 2000 | elapsed:    0.7s finished\n"
     ]
    },
    {
     "name": "stdout",
     "output_type": "stream",
     "text": [
      "[CV]  bootstrap=False, criterion=mse, max_depth=None, max_features=auto, min_samples_leaf=1, min_samples_split=2, min_weight_fraction_leaf=0.0, n_estimators=2000, n_jobs=-1, verbose=1, warm_start=False, explained_variance=-0.128, neg_mean_absolute_error=-80.746, neg_mean_squared_error=-10665.372, neg_mean_squared_log_error=-0.044, neg_median_absolute_error=-64.323, r2=-0.130, total=  20.0s\n",
      "[CV] bootstrap=False, criterion=mse, max_depth=None, max_features=auto, min_samples_leaf=1, min_samples_split=2, min_weight_fraction_leaf=0.0, n_estimators=2000, n_jobs=-1, verbose=1, warm_start=False \n"
     ]
    },
    {
     "name": "stderr",
     "output_type": "stream",
     "text": [
      "[Parallel(n_jobs=-1)]: Using backend LokyBackend with 4 concurrent workers.\n",
      "[Parallel(n_jobs=-1)]: Done 200 tasks      | elapsed:    1.7s\n",
      "[Parallel(n_jobs=-1)]: Done 1400 tasks      | elapsed:   10.7s\n",
      "[Parallel(n_jobs=-1)]: Done 2000 out of 2000 | elapsed:   15.2s finished\n",
      "[Parallel(n_jobs=4)]: Using backend ThreadingBackend with 4 concurrent workers.\n",
      "[Parallel(n_jobs=4)]: Done  42 tasks      | elapsed:    0.0s\n",
      "[Parallel(n_jobs=4)]: Done 192 tasks      | elapsed:    0.1s\n",
      "[Parallel(n_jobs=4)]: Done 442 tasks      | elapsed:    0.1s\n",
      "[Parallel(n_jobs=4)]: Done 792 tasks      | elapsed:    0.3s\n",
      "[Parallel(n_jobs=4)]: Done 1242 tasks      | elapsed:    0.4s\n",
      "[Parallel(n_jobs=4)]: Done 1792 tasks      | elapsed:    0.5s\n",
      "[Parallel(n_jobs=4)]: Done 2000 out of 2000 | elapsed:    0.6s finished\n"
     ]
    },
    {
     "name": "stdout",
     "output_type": "stream",
     "text": [
      "[CV]  bootstrap=False, criterion=mse, max_depth=None, max_features=auto, min_samples_leaf=1, min_samples_split=2, min_weight_fraction_leaf=0.0, n_estimators=2000, n_jobs=-1, verbose=1, warm_start=False, explained_variance=-0.080, neg_mean_absolute_error=-82.454, neg_mean_squared_error=-11299.275, neg_mean_squared_log_error=-0.089, neg_median_absolute_error=-66.199, r2=-0.080, total=  17.1s\n",
      "[CV] bootstrap=False, criterion=mse, max_depth=None, max_features=auto, min_samples_leaf=1, min_samples_split=5, min_weight_fraction_leaf=0.0, n_estimators=200, n_jobs=-1, verbose=1, warm_start=False \n"
     ]
    },
    {
     "name": "stderr",
     "output_type": "stream",
     "text": [
      "[Parallel(n_jobs=-1)]: Using backend LokyBackend with 4 concurrent workers.\n",
      "[Parallel(n_jobs=-1)]: Done 186 tasks      | elapsed:    1.5s\n",
      "[Parallel(n_jobs=-1)]: Done 200 out of 200 | elapsed:    1.6s finished\n",
      "[Parallel(n_jobs=4)]: Using backend ThreadingBackend with 4 concurrent workers.\n",
      "[Parallel(n_jobs=4)]: Done  42 tasks      | elapsed:    0.0s\n",
      "[Parallel(n_jobs=4)]: Done 192 tasks      | elapsed:    0.1s\n",
      "[Parallel(n_jobs=4)]: Done 200 out of 200 | elapsed:    0.1s finished\n"
     ]
    },
    {
     "name": "stdout",
     "output_type": "stream",
     "text": [
      "[CV]  bootstrap=False, criterion=mse, max_depth=None, max_features=auto, min_samples_leaf=1, min_samples_split=5, min_weight_fraction_leaf=0.0, n_estimators=200, n_jobs=-1, verbose=1, warm_start=False, explained_variance=-0.074, neg_mean_absolute_error=-78.891, neg_mean_squared_error=-10148.441, neg_mean_squared_log_error=-0.042, neg_median_absolute_error=-64.437, r2=-0.075, total=   1.8s\n",
      "[CV] bootstrap=False, criterion=mse, max_depth=None, max_features=auto, min_samples_leaf=1, min_samples_split=5, min_weight_fraction_leaf=0.0, n_estimators=200, n_jobs=-1, verbose=1, warm_start=False \n"
     ]
    },
    {
     "name": "stderr",
     "output_type": "stream",
     "text": [
      "[Parallel(n_jobs=-1)]: Using backend LokyBackend with 4 concurrent workers.\n",
      "[Parallel(n_jobs=-1)]: Done 186 tasks      | elapsed:    1.2s\n",
      "[Parallel(n_jobs=-1)]: Done 200 out of 200 | elapsed:    1.3s finished\n",
      "[Parallel(n_jobs=4)]: Using backend ThreadingBackend with 4 concurrent workers.\n",
      "[Parallel(n_jobs=4)]: Done  42 tasks      | elapsed:    0.0s\n",
      "[Parallel(n_jobs=4)]: Done 192 tasks      | elapsed:    0.1s\n",
      "[Parallel(n_jobs=4)]: Done 200 out of 200 | elapsed:    0.1s finished\n"
     ]
    },
    {
     "name": "stdout",
     "output_type": "stream",
     "text": [
      "[CV]  bootstrap=False, criterion=mse, max_depth=None, max_features=auto, min_samples_leaf=1, min_samples_split=5, min_weight_fraction_leaf=0.0, n_estimators=200, n_jobs=-1, verbose=1, warm_start=False, explained_variance=-0.056, neg_mean_absolute_error=-81.458, neg_mean_squared_error=-11050.608, neg_mean_squared_log_error=-0.088, neg_median_absolute_error=-65.458, r2=-0.056, total=   1.6s\n",
      "[CV] bootstrap=False, criterion=mse, max_depth=None, max_features=auto, min_samples_leaf=1, min_samples_split=5, min_weight_fraction_leaf=0.0, n_estimators=2000, n_jobs=-1, verbose=1, warm_start=False \n"
     ]
    },
    {
     "name": "stderr",
     "output_type": "stream",
     "text": [
      "[Parallel(n_jobs=-1)]: Using backend LokyBackend with 4 concurrent workers.\n",
      "[Parallel(n_jobs=-1)]: Done 200 tasks      | elapsed:    1.7s\n",
      "[Parallel(n_jobs=-1)]: Done 1400 tasks      | elapsed:   10.8s\n",
      "[Parallel(n_jobs=-1)]: Done 2000 out of 2000 | elapsed:   15.4s finished\n",
      "[Parallel(n_jobs=4)]: Using backend ThreadingBackend with 4 concurrent workers.\n",
      "[Parallel(n_jobs=4)]: Done  42 tasks      | elapsed:    0.0s\n",
      "[Parallel(n_jobs=4)]: Done 192 tasks      | elapsed:    0.1s\n",
      "[Parallel(n_jobs=4)]: Done 442 tasks      | elapsed:    0.1s\n",
      "[Parallel(n_jobs=4)]: Done 792 tasks      | elapsed:    0.2s\n",
      "[Parallel(n_jobs=4)]: Done 1242 tasks      | elapsed:    0.4s\n",
      "[Parallel(n_jobs=4)]: Done 1792 tasks      | elapsed:    0.5s\n",
      "[Parallel(n_jobs=4)]: Done 2000 out of 2000 | elapsed:    0.6s finished\n"
     ]
    },
    {
     "name": "stdout",
     "output_type": "stream",
     "text": [
      "[CV]  bootstrap=False, criterion=mse, max_depth=None, max_features=auto, min_samples_leaf=1, min_samples_split=5, min_weight_fraction_leaf=0.0, n_estimators=2000, n_jobs=-1, verbose=1, warm_start=False, explained_variance=-0.073, neg_mean_absolute_error=-78.838, neg_mean_squared_error=-10138.500, neg_mean_squared_log_error=-0.042, neg_median_absolute_error=-64.437, r2=-0.074, total=  17.1s\n",
      "[CV] bootstrap=False, criterion=mse, max_depth=None, max_features=auto, min_samples_leaf=1, min_samples_split=5, min_weight_fraction_leaf=0.0, n_estimators=2000, n_jobs=-1, verbose=1, warm_start=False \n"
     ]
    },
    {
     "name": "stderr",
     "output_type": "stream",
     "text": [
      "[Parallel(n_jobs=-1)]: Using backend LokyBackend with 4 concurrent workers.\n",
      "[Parallel(n_jobs=-1)]: Done 200 tasks      | elapsed:    1.4s\n",
      "[Parallel(n_jobs=-1)]: Done 1400 tasks      | elapsed:    9.0s\n",
      "[Parallel(n_jobs=-1)]: Done 2000 out of 2000 | elapsed:   12.8s finished\n",
      "[Parallel(n_jobs=4)]: Using backend ThreadingBackend with 4 concurrent workers.\n",
      "[Parallel(n_jobs=4)]: Done  42 tasks      | elapsed:    0.0s\n",
      "[Parallel(n_jobs=4)]: Done 192 tasks      | elapsed:    0.1s\n",
      "[Parallel(n_jobs=4)]: Done 442 tasks      | elapsed:    0.1s\n",
      "[Parallel(n_jobs=4)]: Done 792 tasks      | elapsed:    0.2s\n",
      "[Parallel(n_jobs=4)]: Done 1242 tasks      | elapsed:    0.4s\n",
      "[Parallel(n_jobs=4)]: Done 1792 tasks      | elapsed:    0.5s\n",
      "[Parallel(n_jobs=4)]: Done 2000 out of 2000 | elapsed:    0.6s finished\n"
     ]
    },
    {
     "name": "stdout",
     "output_type": "stream",
     "text": [
      "[CV]  bootstrap=False, criterion=mse, max_depth=None, max_features=auto, min_samples_leaf=1, min_samples_split=5, min_weight_fraction_leaf=0.0, n_estimators=2000, n_jobs=-1, verbose=1, warm_start=False, explained_variance=-0.056, neg_mean_absolute_error=-81.475, neg_mean_squared_error=-11053.955, neg_mean_squared_log_error=-0.088, neg_median_absolute_error=-65.512, r2=-0.056, total=  14.5s\n",
      "[CV] bootstrap=False, criterion=mse, max_depth=None, max_features=auto, min_samples_leaf=1, min_samples_split=10, min_weight_fraction_leaf=0.0, n_estimators=200, n_jobs=-1, verbose=1, warm_start=False \n"
     ]
    },
    {
     "name": "stderr",
     "output_type": "stream",
     "text": [
      "[Parallel(n_jobs=-1)]: Using backend LokyBackend with 4 concurrent workers.\n",
      "[Parallel(n_jobs=-1)]: Done 186 tasks      | elapsed:    1.4s\n",
      "[Parallel(n_jobs=-1)]: Done 200 out of 200 | elapsed:    1.5s finished\n",
      "[Parallel(n_jobs=4)]: Using backend ThreadingBackend with 4 concurrent workers.\n",
      "[Parallel(n_jobs=4)]: Done  42 tasks      | elapsed:    0.0s\n",
      "[Parallel(n_jobs=4)]: Done 192 tasks      | elapsed:    0.1s\n",
      "[Parallel(n_jobs=4)]: Done 200 out of 200 | elapsed:    0.1s finished\n"
     ]
    },
    {
     "name": "stdout",
     "output_type": "stream",
     "text": [
      "[CV]  bootstrap=False, criterion=mse, max_depth=None, max_features=auto, min_samples_leaf=1, min_samples_split=10, min_weight_fraction_leaf=0.0, n_estimators=200, n_jobs=-1, verbose=1, warm_start=False, explained_variance=0.039, neg_mean_absolute_error=-74.496, neg_mean_squared_error=-9083.689, neg_mean_squared_log_error=-0.038, neg_median_absolute_error=-60.150, r2=0.038, total=   1.7s\n",
      "[CV] bootstrap=False, criterion=mse, max_depth=None, max_features=auto, min_samples_leaf=1, min_samples_split=10, min_weight_fraction_leaf=0.0, n_estimators=200, n_jobs=-1, verbose=1, warm_start=False \n"
     ]
    },
    {
     "name": "stderr",
     "output_type": "stream",
     "text": [
      "[Parallel(n_jobs=-1)]: Using backend LokyBackend with 4 concurrent workers.\n",
      "[Parallel(n_jobs=-1)]: Done 186 tasks      | elapsed:    1.1s\n",
      "[Parallel(n_jobs=-1)]: Done 200 out of 200 | elapsed:    1.2s finished\n",
      "[Parallel(n_jobs=4)]: Using backend ThreadingBackend with 4 concurrent workers.\n",
      "[Parallel(n_jobs=4)]: Done  42 tasks      | elapsed:    0.0s\n",
      "[Parallel(n_jobs=4)]: Done 192 tasks      | elapsed:    0.1s\n",
      "[Parallel(n_jobs=4)]: Done 200 out of 200 | elapsed:    0.1s finished\n"
     ]
    },
    {
     "name": "stdout",
     "output_type": "stream",
     "text": [
      "[CV]  bootstrap=False, criterion=mse, max_depth=None, max_features=auto, min_samples_leaf=1, min_samples_split=10, min_weight_fraction_leaf=0.0, n_estimators=200, n_jobs=-1, verbose=1, warm_start=False, explained_variance=0.025, neg_mean_absolute_error=-78.454, neg_mean_squared_error=-10206.317, neg_mean_squared_log_error=-0.086, neg_median_absolute_error=-64.262, r2=0.025, total=   1.4s\n",
      "[CV] bootstrap=False, criterion=mse, max_depth=None, max_features=auto, min_samples_leaf=1, min_samples_split=10, min_weight_fraction_leaf=0.0, n_estimators=2000, n_jobs=-1, verbose=1, warm_start=False \n"
     ]
    },
    {
     "name": "stderr",
     "output_type": "stream",
     "text": [
      "[Parallel(n_jobs=-1)]: Using backend LokyBackend with 4 concurrent workers.\n",
      "[Parallel(n_jobs=-1)]: Done 200 tasks      | elapsed:    1.5s\n",
      "[Parallel(n_jobs=-1)]: Done 1400 tasks      | elapsed:    9.7s\n",
      "[Parallel(n_jobs=-1)]: Done 2000 out of 2000 | elapsed:   13.9s finished\n",
      "[Parallel(n_jobs=4)]: Using backend ThreadingBackend with 4 concurrent workers.\n",
      "[Parallel(n_jobs=4)]: Done  42 tasks      | elapsed:    0.0s\n",
      "[Parallel(n_jobs=4)]: Done 192 tasks      | elapsed:    0.1s\n",
      "[Parallel(n_jobs=4)]: Done 442 tasks      | elapsed:    0.1s\n",
      "[Parallel(n_jobs=4)]: Done 792 tasks      | elapsed:    0.2s\n",
      "[Parallel(n_jobs=4)]: Done 1242 tasks      | elapsed:    0.4s\n",
      "[Parallel(n_jobs=4)]: Done 1792 tasks      | elapsed:    0.5s\n",
      "[Parallel(n_jobs=4)]: Done 2000 out of 2000 | elapsed:    0.6s finished\n"
     ]
    },
    {
     "name": "stdout",
     "output_type": "stream",
     "text": [
      "[CV]  bootstrap=False, criterion=mse, max_depth=None, max_features=auto, min_samples_leaf=1, min_samples_split=10, min_weight_fraction_leaf=0.0, n_estimators=2000, n_jobs=-1, verbose=1, warm_start=False, explained_variance=0.039, neg_mean_absolute_error=-74.496, neg_mean_squared_error=-9084.059, neg_mean_squared_log_error=-0.038, neg_median_absolute_error=-60.150, r2=0.038, total=  15.7s\n",
      "[CV] bootstrap=False, criterion=mse, max_depth=None, max_features=auto, min_samples_leaf=1, min_samples_split=10, min_weight_fraction_leaf=0.0, n_estimators=2000, n_jobs=-1, verbose=1, warm_start=False \n"
     ]
    },
    {
     "name": "stderr",
     "output_type": "stream",
     "text": [
      "[Parallel(n_jobs=-1)]: Using backend LokyBackend with 4 concurrent workers.\n",
      "[Parallel(n_jobs=-1)]: Done 200 tasks      | elapsed:    1.2s\n",
      "[Parallel(n_jobs=-1)]: Done 1400 tasks      | elapsed:    8.0s\n",
      "[Parallel(n_jobs=-1)]: Done 2000 out of 2000 | elapsed:   11.5s finished\n",
      "[Parallel(n_jobs=4)]: Using backend ThreadingBackend with 4 concurrent workers.\n",
      "[Parallel(n_jobs=4)]: Done  42 tasks      | elapsed:    0.0s\n",
      "[Parallel(n_jobs=4)]: Done 192 tasks      | elapsed:    0.1s\n",
      "[Parallel(n_jobs=4)]: Done 442 tasks      | elapsed:    0.1s\n",
      "[Parallel(n_jobs=4)]: Done 792 tasks      | elapsed:    0.2s\n",
      "[Parallel(n_jobs=4)]: Done 1242 tasks      | elapsed:    0.4s\n",
      "[Parallel(n_jobs=4)]: Done 1792 tasks      | elapsed:    0.5s\n",
      "[Parallel(n_jobs=4)]: Done 2000 out of 2000 | elapsed:    0.6s finished\n"
     ]
    },
    {
     "name": "stdout",
     "output_type": "stream",
     "text": [
      "[CV]  bootstrap=False, criterion=mse, max_depth=None, max_features=auto, min_samples_leaf=1, min_samples_split=10, min_weight_fraction_leaf=0.0, n_estimators=2000, n_jobs=-1, verbose=1, warm_start=False, explained_variance=0.025, neg_mean_absolute_error=-78.460, neg_mean_squared_error=-10206.087, neg_mean_squared_log_error=-0.086, neg_median_absolute_error=-64.350, r2=0.025, total=  13.3s\n",
      "[CV] bootstrap=False, criterion=mse, max_depth=None, max_features=auto, min_samples_leaf=2, min_samples_split=2, min_weight_fraction_leaf=0.0, n_estimators=200, n_jobs=-1, verbose=1, warm_start=False \n"
     ]
    },
    {
     "name": "stderr",
     "output_type": "stream",
     "text": [
      "[Parallel(n_jobs=-1)]: Using backend LokyBackend with 4 concurrent workers.\n",
      "[Parallel(n_jobs=-1)]: Done 186 tasks      | elapsed:    1.4s\n",
      "[Parallel(n_jobs=-1)]: Done 200 out of 200 | elapsed:    1.5s finished\n",
      "[Parallel(n_jobs=4)]: Using backend ThreadingBackend with 4 concurrent workers.\n",
      "[Parallel(n_jobs=4)]: Done  42 tasks      | elapsed:    0.0s\n",
      "[Parallel(n_jobs=4)]: Done 192 tasks      | elapsed:    0.1s\n",
      "[Parallel(n_jobs=4)]: Done 200 out of 200 | elapsed:    0.1s finished\n"
     ]
    },
    {
     "name": "stdout",
     "output_type": "stream",
     "text": [
      "[CV]  bootstrap=False, criterion=mse, max_depth=None, max_features=auto, min_samples_leaf=2, min_samples_split=2, min_weight_fraction_leaf=0.0, n_estimators=200, n_jobs=-1, verbose=1, warm_start=False, explained_variance=-0.079, neg_mean_absolute_error=-79.059, neg_mean_squared_error=-10191.059, neg_mean_squared_log_error=-0.042, neg_median_absolute_error=-64.213, r2=-0.080, total=   1.8s\n",
      "[CV] bootstrap=False, criterion=mse, max_depth=None, max_features=auto, min_samples_leaf=2, min_samples_split=2, min_weight_fraction_leaf=0.0, n_estimators=200, n_jobs=-1, verbose=1, warm_start=False \n"
     ]
    },
    {
     "name": "stderr",
     "output_type": "stream",
     "text": [
      "[Parallel(n_jobs=-1)]: Using backend LokyBackend with 4 concurrent workers.\n",
      "[Parallel(n_jobs=-1)]: Done 186 tasks      | elapsed:    1.2s\n",
      "[Parallel(n_jobs=-1)]: Done 200 out of 200 | elapsed:    1.3s finished\n",
      "[Parallel(n_jobs=4)]: Using backend ThreadingBackend with 4 concurrent workers.\n",
      "[Parallel(n_jobs=4)]: Done  42 tasks      | elapsed:    0.0s\n",
      "[Parallel(n_jobs=4)]: Done 192 tasks      | elapsed:    0.1s\n",
      "[Parallel(n_jobs=4)]: Done 200 out of 200 | elapsed:    0.1s finished\n"
     ]
    },
    {
     "name": "stdout",
     "output_type": "stream",
     "text": [
      "[CV]  bootstrap=False, criterion=mse, max_depth=None, max_features=auto, min_samples_leaf=2, min_samples_split=2, min_weight_fraction_leaf=0.0, n_estimators=200, n_jobs=-1, verbose=1, warm_start=False, explained_variance=-0.063, neg_mean_absolute_error=-82.079, neg_mean_squared_error=-11127.037, neg_mean_squared_log_error=-0.089, neg_median_absolute_error=-66.194, r2=-0.063, total=   1.5s\n",
      "[CV] bootstrap=False, criterion=mse, max_depth=None, max_features=auto, min_samples_leaf=2, min_samples_split=2, min_weight_fraction_leaf=0.0, n_estimators=2000, n_jobs=-1, verbose=1, warm_start=False \n"
     ]
    },
    {
     "name": "stderr",
     "output_type": "stream",
     "text": [
      "[Parallel(n_jobs=-1)]: Using backend LokyBackend with 4 concurrent workers.\n",
      "[Parallel(n_jobs=-1)]: Done 200 tasks      | elapsed:    1.6s\n",
      "[Parallel(n_jobs=-1)]: Done 1400 tasks      | elapsed:   10.4s\n",
      "[Parallel(n_jobs=-1)]: Done 2000 out of 2000 | elapsed:   14.8s finished\n",
      "[Parallel(n_jobs=4)]: Using backend ThreadingBackend with 4 concurrent workers.\n",
      "[Parallel(n_jobs=4)]: Done  42 tasks      | elapsed:    0.0s\n",
      "[Parallel(n_jobs=4)]: Done 192 tasks      | elapsed:    0.1s\n",
      "[Parallel(n_jobs=4)]: Done 442 tasks      | elapsed:    0.1s\n",
      "[Parallel(n_jobs=4)]: Done 792 tasks      | elapsed:    0.2s\n",
      "[Parallel(n_jobs=4)]: Done 1242 tasks      | elapsed:    0.4s\n",
      "[Parallel(n_jobs=4)]: Done 1792 tasks      | elapsed:    0.5s\n",
      "[Parallel(n_jobs=4)]: Done 2000 out of 2000 | elapsed:    0.6s finished\n"
     ]
    },
    {
     "name": "stdout",
     "output_type": "stream",
     "text": [
      "[CV]  bootstrap=False, criterion=mse, max_depth=None, max_features=auto, min_samples_leaf=2, min_samples_split=2, min_weight_fraction_leaf=0.0, n_estimators=2000, n_jobs=-1, verbose=1, warm_start=False, explained_variance=-0.078, neg_mean_absolute_error=-79.054, neg_mean_squared_error=-10184.180, neg_mean_squared_log_error=-0.042, neg_median_absolute_error=-64.304, r2=-0.079, total=  16.5s\n",
      "[CV] bootstrap=False, criterion=mse, max_depth=None, max_features=auto, min_samples_leaf=2, min_samples_split=2, min_weight_fraction_leaf=0.0, n_estimators=2000, n_jobs=-1, verbose=1, warm_start=False \n"
     ]
    },
    {
     "name": "stderr",
     "output_type": "stream",
     "text": [
      "[Parallel(n_jobs=-1)]: Using backend LokyBackend with 4 concurrent workers.\n",
      "[Parallel(n_jobs=-1)]: Done 200 tasks      | elapsed:    1.3s\n",
      "[Parallel(n_jobs=-1)]: Done 1400 tasks      | elapsed:    8.6s\n",
      "[Parallel(n_jobs=-1)]: Done 2000 out of 2000 | elapsed:   12.5s finished\n",
      "[Parallel(n_jobs=4)]: Using backend ThreadingBackend with 4 concurrent workers.\n",
      "[Parallel(n_jobs=4)]: Done  42 tasks      | elapsed:    0.0s\n",
      "[Parallel(n_jobs=4)]: Done 192 tasks      | elapsed:    0.1s\n",
      "[Parallel(n_jobs=4)]: Done 442 tasks      | elapsed:    0.1s\n",
      "[Parallel(n_jobs=4)]: Done 792 tasks      | elapsed:    0.2s\n",
      "[Parallel(n_jobs=4)]: Done 1242 tasks      | elapsed:    0.4s\n",
      "[Parallel(n_jobs=4)]: Done 1792 tasks      | elapsed:    0.5s\n",
      "[Parallel(n_jobs=4)]: Done 2000 out of 2000 | elapsed:    0.6s finished\n"
     ]
    },
    {
     "name": "stdout",
     "output_type": "stream",
     "text": [
      "[CV]  bootstrap=False, criterion=mse, max_depth=None, max_features=auto, min_samples_leaf=2, min_samples_split=2, min_weight_fraction_leaf=0.0, n_estimators=2000, n_jobs=-1, verbose=1, warm_start=False, explained_variance=-0.063, neg_mean_absolute_error=-82.072, neg_mean_squared_error=-11127.050, neg_mean_squared_log_error=-0.089, neg_median_absolute_error=-66.198, r2=-0.063, total=  14.3s\n",
      "[CV] bootstrap=False, criterion=mse, max_depth=None, max_features=auto, min_samples_leaf=2, min_samples_split=5, min_weight_fraction_leaf=0.0, n_estimators=200, n_jobs=-1, verbose=1, warm_start=False \n"
     ]
    },
    {
     "name": "stderr",
     "output_type": "stream",
     "text": [
      "[Parallel(n_jobs=-1)]: Using backend LokyBackend with 4 concurrent workers.\n",
      "[Parallel(n_jobs=-1)]: Done 172 tasks      | elapsed:    1.4s\n",
      "[Parallel(n_jobs=-1)]: Done 200 out of 200 | elapsed:    1.5s finished\n",
      "[Parallel(n_jobs=4)]: Using backend ThreadingBackend with 4 concurrent workers.\n",
      "[Parallel(n_jobs=4)]: Done  42 tasks      | elapsed:    0.0s\n",
      "[Parallel(n_jobs=4)]: Done 192 tasks      | elapsed:    0.1s\n",
      "[Parallel(n_jobs=4)]: Done 200 out of 200 | elapsed:    0.1s finished\n"
     ]
    },
    {
     "name": "stdout",
     "output_type": "stream",
     "text": [
      "[CV]  bootstrap=False, criterion=mse, max_depth=None, max_features=auto, min_samples_leaf=2, min_samples_split=5, min_weight_fraction_leaf=0.0, n_estimators=200, n_jobs=-1, verbose=1, warm_start=False, explained_variance=-0.050, neg_mean_absolute_error=-78.237, neg_mean_squared_error=-9910.242, neg_mean_squared_log_error=-0.041, neg_median_absolute_error=-64.746, r2=-0.050, total=   1.8s\n",
      "[CV] bootstrap=False, criterion=mse, max_depth=None, max_features=auto, min_samples_leaf=2, min_samples_split=5, min_weight_fraction_leaf=0.0, n_estimators=200, n_jobs=-1, verbose=1, warm_start=False \n"
     ]
    },
    {
     "name": "stderr",
     "output_type": "stream",
     "text": [
      "[Parallel(n_jobs=-1)]: Using backend LokyBackend with 4 concurrent workers.\n",
      "[Parallel(n_jobs=-1)]: Done 179 tasks      | elapsed:    1.1s\n",
      "[Parallel(n_jobs=-1)]: Done 200 out of 200 | elapsed:    1.2s finished\n",
      "[Parallel(n_jobs=4)]: Using backend ThreadingBackend with 4 concurrent workers.\n",
      "[Parallel(n_jobs=4)]: Done  42 tasks      | elapsed:    0.0s\n",
      "[Parallel(n_jobs=4)]: Done 192 tasks      | elapsed:    0.1s\n",
      "[Parallel(n_jobs=4)]: Done 200 out of 200 | elapsed:    0.1s finished\n"
     ]
    },
    {
     "name": "stdout",
     "output_type": "stream",
     "text": [
      "[CV]  bootstrap=False, criterion=mse, max_depth=None, max_features=auto, min_samples_leaf=2, min_samples_split=5, min_weight_fraction_leaf=0.0, n_estimators=200, n_jobs=-1, verbose=1, warm_start=False, explained_variance=-0.056, neg_mean_absolute_error=-81.760, neg_mean_squared_error=-11056.151, neg_mean_squared_log_error=-0.089, neg_median_absolute_error=-66.137, r2=-0.056, total=   1.5s\n",
      "[CV] bootstrap=False, criterion=mse, max_depth=None, max_features=auto, min_samples_leaf=2, min_samples_split=5, min_weight_fraction_leaf=0.0, n_estimators=2000, n_jobs=-1, verbose=1, warm_start=False \n"
     ]
    },
    {
     "name": "stderr",
     "output_type": "stream",
     "text": [
      "[Parallel(n_jobs=-1)]: Using backend LokyBackend with 4 concurrent workers.\n",
      "[Parallel(n_jobs=-1)]: Done 200 tasks      | elapsed:    1.6s\n",
      "[Parallel(n_jobs=-1)]: Done 1400 tasks      | elapsed:   10.1s\n",
      "[Parallel(n_jobs=-1)]: Done 2000 out of 2000 | elapsed:   14.4s finished\n",
      "[Parallel(n_jobs=4)]: Using backend ThreadingBackend with 4 concurrent workers.\n",
      "[Parallel(n_jobs=4)]: Done  42 tasks      | elapsed:    0.0s\n",
      "[Parallel(n_jobs=4)]: Done 192 tasks      | elapsed:    0.1s\n",
      "[Parallel(n_jobs=4)]: Done 442 tasks      | elapsed:    0.1s\n",
      "[Parallel(n_jobs=4)]: Done 792 tasks      | elapsed:    0.2s\n",
      "[Parallel(n_jobs=4)]: Done 1242 tasks      | elapsed:    0.4s\n",
      "[Parallel(n_jobs=4)]: Done 1792 tasks      | elapsed:    0.5s\n",
      "[Parallel(n_jobs=4)]: Done 2000 out of 2000 | elapsed:    0.6s finished\n"
     ]
    },
    {
     "name": "stdout",
     "output_type": "stream",
     "text": [
      "[CV]  bootstrap=False, criterion=mse, max_depth=None, max_features=auto, min_samples_leaf=2, min_samples_split=5, min_weight_fraction_leaf=0.0, n_estimators=2000, n_jobs=-1, verbose=1, warm_start=False, explained_variance=-0.049, neg_mean_absolute_error=-78.211, neg_mean_squared_error=-9905.923, neg_mean_squared_log_error=-0.041, neg_median_absolute_error=-64.787, r2=-0.049, total=  16.2s\n",
      "[CV] bootstrap=False, criterion=mse, max_depth=None, max_features=auto, min_samples_leaf=2, min_samples_split=5, min_weight_fraction_leaf=0.0, n_estimators=2000, n_jobs=-1, verbose=1, warm_start=False \n"
     ]
    },
    {
     "name": "stderr",
     "output_type": "stream",
     "text": [
      "[Parallel(n_jobs=-1)]: Using backend LokyBackend with 4 concurrent workers.\n",
      "[Parallel(n_jobs=-1)]: Done 200 tasks      | elapsed:    1.3s\n",
      "[Parallel(n_jobs=-1)]: Done 1400 tasks      | elapsed:    8.3s\n",
      "[Parallel(n_jobs=-1)]: Done 2000 out of 2000 | elapsed:   11.9s finished\n",
      "[Parallel(n_jobs=4)]: Using backend ThreadingBackend with 4 concurrent workers.\n",
      "[Parallel(n_jobs=4)]: Done  42 tasks      | elapsed:    0.0s\n",
      "[Parallel(n_jobs=4)]: Done 192 tasks      | elapsed:    0.1s\n",
      "[Parallel(n_jobs=4)]: Done 442 tasks      | elapsed:    0.1s\n",
      "[Parallel(n_jobs=4)]: Done 792 tasks      | elapsed:    0.2s\n",
      "[Parallel(n_jobs=4)]: Done 1242 tasks      | elapsed:    0.4s\n",
      "[Parallel(n_jobs=4)]: Done 1792 tasks      | elapsed:    0.5s\n",
      "[Parallel(n_jobs=4)]: Done 2000 out of 2000 | elapsed:    0.6s finished\n"
     ]
    },
    {
     "name": "stdout",
     "output_type": "stream",
     "text": [
      "[CV]  bootstrap=False, criterion=mse, max_depth=None, max_features=auto, min_samples_leaf=2, min_samples_split=5, min_weight_fraction_leaf=0.0, n_estimators=2000, n_jobs=-1, verbose=1, warm_start=False, explained_variance=-0.056, neg_mean_absolute_error=-81.742, neg_mean_squared_error=-11053.293, neg_mean_squared_log_error=-0.089, neg_median_absolute_error=-66.158, r2=-0.056, total=  13.6s\n",
      "[CV] bootstrap=False, criterion=mse, max_depth=None, max_features=auto, min_samples_leaf=2, min_samples_split=10, min_weight_fraction_leaf=0.0, n_estimators=200, n_jobs=-1, verbose=1, warm_start=False \n"
     ]
    },
    {
     "name": "stderr",
     "output_type": "stream",
     "text": [
      "[Parallel(n_jobs=-1)]: Using backend LokyBackend with 4 concurrent workers.\n",
      "[Parallel(n_jobs=-1)]: Done 186 tasks      | elapsed:    1.3s\n",
      "[Parallel(n_jobs=-1)]: Done 200 out of 200 | elapsed:    1.4s finished\n",
      "[Parallel(n_jobs=4)]: Using backend ThreadingBackend with 4 concurrent workers.\n",
      "[Parallel(n_jobs=4)]: Done  42 tasks      | elapsed:    0.0s\n",
      "[Parallel(n_jobs=4)]: Done 192 tasks      | elapsed:    0.1s\n",
      "[Parallel(n_jobs=4)]: Done 200 out of 200 | elapsed:    0.1s finished\n"
     ]
    },
    {
     "name": "stdout",
     "output_type": "stream",
     "text": [
      "[CV]  bootstrap=False, criterion=mse, max_depth=None, max_features=auto, min_samples_leaf=2, min_samples_split=10, min_weight_fraction_leaf=0.0, n_estimators=200, n_jobs=-1, verbose=1, warm_start=False, explained_variance=0.048, neg_mean_absolute_error=-74.054, neg_mean_squared_error=-8991.102, neg_mean_squared_log_error=-0.037, neg_median_absolute_error=-60.100, r2=0.048, total=   1.6s\n",
      "[CV] bootstrap=False, criterion=mse, max_depth=None, max_features=auto, min_samples_leaf=2, min_samples_split=10, min_weight_fraction_leaf=0.0, n_estimators=200, n_jobs=-1, verbose=1, warm_start=False \n"
     ]
    },
    {
     "name": "stderr",
     "output_type": "stream",
     "text": [
      "[Parallel(n_jobs=-1)]: Using backend LokyBackend with 4 concurrent workers.\n",
      "[Parallel(n_jobs=-1)]: Done 186 tasks      | elapsed:    1.0s\n",
      "[Parallel(n_jobs=-1)]: Done 200 out of 200 | elapsed:    1.1s finished\n",
      "[Parallel(n_jobs=4)]: Using backend ThreadingBackend with 4 concurrent workers.\n",
      "[Parallel(n_jobs=4)]: Done  42 tasks      | elapsed:    0.0s\n",
      "[Parallel(n_jobs=4)]: Done 192 tasks      | elapsed:    0.1s\n",
      "[Parallel(n_jobs=4)]: Done 200 out of 200 | elapsed:    0.1s finished\n"
     ]
    },
    {
     "name": "stdout",
     "output_type": "stream",
     "text": [
      "[CV]  bootstrap=False, criterion=mse, max_depth=None, max_features=auto, min_samples_leaf=2, min_samples_split=10, min_weight_fraction_leaf=0.0, n_estimators=200, n_jobs=-1, verbose=1, warm_start=False, explained_variance=0.020, neg_mean_absolute_error=-78.314, neg_mean_squared_error=-10259.239, neg_mean_squared_log_error=-0.085, neg_median_absolute_error=-62.992, r2=0.020, total=   1.4s\n",
      "[CV] bootstrap=False, criterion=mse, max_depth=None, max_features=auto, min_samples_leaf=2, min_samples_split=10, min_weight_fraction_leaf=0.0, n_estimators=2000, n_jobs=-1, verbose=1, warm_start=False \n"
     ]
    },
    {
     "name": "stderr",
     "output_type": "stream",
     "text": [
      "[Parallel(n_jobs=-1)]: Using backend LokyBackend with 4 concurrent workers.\n",
      "[Parallel(n_jobs=-1)]: Done 200 tasks      | elapsed:    1.5s\n",
      "[Parallel(n_jobs=-1)]: Done 1400 tasks      | elapsed:    9.4s\n",
      "[Parallel(n_jobs=-1)]: Done 2000 out of 2000 | elapsed:   13.3s finished\n",
      "[Parallel(n_jobs=4)]: Using backend ThreadingBackend with 4 concurrent workers.\n",
      "[Parallel(n_jobs=4)]: Done  42 tasks      | elapsed:    0.0s\n",
      "[Parallel(n_jobs=4)]: Done 192 tasks      | elapsed:    0.1s\n",
      "[Parallel(n_jobs=4)]: Done 442 tasks      | elapsed:    0.1s\n",
      "[Parallel(n_jobs=4)]: Done 792 tasks      | elapsed:    0.2s\n",
      "[Parallel(n_jobs=4)]: Done 1242 tasks      | elapsed:    0.4s\n",
      "[Parallel(n_jobs=4)]: Done 1792 tasks      | elapsed:    0.5s\n",
      "[Parallel(n_jobs=4)]: Done 2000 out of 2000 | elapsed:    0.6s finished\n"
     ]
    },
    {
     "name": "stdout",
     "output_type": "stream",
     "text": [
      "[CV]  bootstrap=False, criterion=mse, max_depth=None, max_features=auto, min_samples_leaf=2, min_samples_split=10, min_weight_fraction_leaf=0.0, n_estimators=2000, n_jobs=-1, verbose=1, warm_start=False, explained_variance=0.048, neg_mean_absolute_error=-74.053, neg_mean_squared_error=-8989.740, neg_mean_squared_log_error=-0.037, neg_median_absolute_error=-60.100, r2=0.048, total=  15.1s\n",
      "[CV] bootstrap=False, criterion=mse, max_depth=None, max_features=auto, min_samples_leaf=2, min_samples_split=10, min_weight_fraction_leaf=0.0, n_estimators=2000, n_jobs=-1, verbose=1, warm_start=False \n"
     ]
    },
    {
     "name": "stderr",
     "output_type": "stream",
     "text": [
      "[Parallel(n_jobs=-1)]: Using backend LokyBackend with 4 concurrent workers.\n",
      "[Parallel(n_jobs=-1)]: Done 200 tasks      | elapsed:    1.2s\n",
      "[Parallel(n_jobs=-1)]: Done 1400 tasks      | elapsed:    7.6s\n",
      "[Parallel(n_jobs=-1)]: Done 2000 out of 2000 | elapsed:   10.9s finished\n",
      "[Parallel(n_jobs=4)]: Using backend ThreadingBackend with 4 concurrent workers.\n",
      "[Parallel(n_jobs=4)]: Done  42 tasks      | elapsed:    0.0s\n",
      "[Parallel(n_jobs=4)]: Done 192 tasks      | elapsed:    0.1s\n",
      "[Parallel(n_jobs=4)]: Done 442 tasks      | elapsed:    0.1s\n",
      "[Parallel(n_jobs=4)]: Done 792 tasks      | elapsed:    0.2s\n",
      "[Parallel(n_jobs=4)]: Done 1242 tasks      | elapsed:    0.4s\n",
      "[Parallel(n_jobs=4)]: Done 1792 tasks      | elapsed:    0.5s\n",
      "[Parallel(n_jobs=4)]: Done 2000 out of 2000 | elapsed:    0.6s finished\n"
     ]
    },
    {
     "name": "stdout",
     "output_type": "stream",
     "text": [
      "[CV]  bootstrap=False, criterion=mse, max_depth=None, max_features=auto, min_samples_leaf=2, min_samples_split=10, min_weight_fraction_leaf=0.0, n_estimators=2000, n_jobs=-1, verbose=1, warm_start=False, explained_variance=0.020, neg_mean_absolute_error=-78.333, neg_mean_squared_error=-10262.617, neg_mean_squared_log_error=-0.086, neg_median_absolute_error=-62.992, r2=0.019, total=  12.7s\n",
      "[CV] bootstrap=False, criterion=mse, max_depth=None, max_features=auto, min_samples_leaf=4, min_samples_split=2, min_weight_fraction_leaf=0.0, n_estimators=200, n_jobs=-1, verbose=1, warm_start=False \n"
     ]
    },
    {
     "name": "stderr",
     "output_type": "stream",
     "text": [
      "[Parallel(n_jobs=-1)]: Using backend LokyBackend with 4 concurrent workers.\n",
      "[Parallel(n_jobs=-1)]: Done 186 tasks      | elapsed:    1.2s\n",
      "[Parallel(n_jobs=-1)]: Done 200 out of 200 | elapsed:    1.3s finished\n",
      "[Parallel(n_jobs=4)]: Using backend ThreadingBackend with 4 concurrent workers.\n",
      "[Parallel(n_jobs=4)]: Done  42 tasks      | elapsed:    0.0s\n",
      "[Parallel(n_jobs=4)]: Done 192 tasks      | elapsed:    0.1s\n",
      "[Parallel(n_jobs=4)]: Done 200 out of 200 | elapsed:    0.1s finished\n"
     ]
    },
    {
     "name": "stdout",
     "output_type": "stream",
     "text": [
      "[CV]  bootstrap=False, criterion=mse, max_depth=None, max_features=auto, min_samples_leaf=4, min_samples_split=2, min_weight_fraction_leaf=0.0, n_estimators=200, n_jobs=-1, verbose=1, warm_start=False, explained_variance=0.064, neg_mean_absolute_error=-73.547, neg_mean_squared_error=-8842.493, neg_mean_squared_log_error=-0.037, neg_median_absolute_error=-59.525, r2=0.063, total=   1.5s\n",
      "[CV] bootstrap=False, criterion=mse, max_depth=None, max_features=auto, min_samples_leaf=4, min_samples_split=2, min_weight_fraction_leaf=0.0, n_estimators=200, n_jobs=-1, verbose=1, warm_start=False \n"
     ]
    },
    {
     "name": "stderr",
     "output_type": "stream",
     "text": [
      "[Parallel(n_jobs=-1)]: Using backend LokyBackend with 4 concurrent workers.\n",
      "[Parallel(n_jobs=-1)]: Done 186 tasks      | elapsed:    1.0s\n",
      "[Parallel(n_jobs=-1)]: Done 200 out of 200 | elapsed:    1.1s finished\n",
      "[Parallel(n_jobs=4)]: Using backend ThreadingBackend with 4 concurrent workers.\n",
      "[Parallel(n_jobs=4)]: Done  42 tasks      | elapsed:    0.0s\n",
      "[Parallel(n_jobs=4)]: Done 192 tasks      | elapsed:    0.1s\n",
      "[Parallel(n_jobs=4)]: Done 200 out of 200 | elapsed:    0.1s finished\n"
     ]
    },
    {
     "name": "stdout",
     "output_type": "stream",
     "text": [
      "[CV]  bootstrap=False, criterion=mse, max_depth=None, max_features=auto, min_samples_leaf=4, min_samples_split=2, min_weight_fraction_leaf=0.0, n_estimators=200, n_jobs=-1, verbose=1, warm_start=False, explained_variance=0.115, neg_mean_absolute_error=-74.537, neg_mean_squared_error=-9270.325, neg_mean_squared_log_error=-0.082, neg_median_absolute_error=-60.757, r2=0.114, total=   1.3s\n",
      "[CV] bootstrap=False, criterion=mse, max_depth=None, max_features=auto, min_samples_leaf=4, min_samples_split=2, min_weight_fraction_leaf=0.0, n_estimators=2000, n_jobs=-1, verbose=1, warm_start=False \n"
     ]
    },
    {
     "name": "stderr",
     "output_type": "stream",
     "text": [
      "[Parallel(n_jobs=-1)]: Using backend LokyBackend with 4 concurrent workers.\n",
      "[Parallel(n_jobs=-1)]: Done 200 tasks      | elapsed:    1.3s\n",
      "[Parallel(n_jobs=-1)]: Done 1400 tasks      | elapsed:    8.7s\n",
      "[Parallel(n_jobs=-1)]: Done 2000 out of 2000 | elapsed:   12.3s finished\n",
      "[Parallel(n_jobs=4)]: Using backend ThreadingBackend with 4 concurrent workers.\n",
      "[Parallel(n_jobs=4)]: Done  42 tasks      | elapsed:    0.0s\n",
      "[Parallel(n_jobs=4)]: Done 192 tasks      | elapsed:    0.1s\n",
      "[Parallel(n_jobs=4)]: Done 442 tasks      | elapsed:    0.1s\n",
      "[Parallel(n_jobs=4)]: Done 792 tasks      | elapsed:    0.2s\n",
      "[Parallel(n_jobs=4)]: Done 1242 tasks      | elapsed:    0.4s\n",
      "[Parallel(n_jobs=4)]: Done 1792 tasks      | elapsed:    0.5s\n",
      "[Parallel(n_jobs=4)]: Done 2000 out of 2000 | elapsed:    0.6s finished\n"
     ]
    },
    {
     "name": "stdout",
     "output_type": "stream",
     "text": [
      "[CV]  bootstrap=False, criterion=mse, max_depth=None, max_features=auto, min_samples_leaf=4, min_samples_split=2, min_weight_fraction_leaf=0.0, n_estimators=2000, n_jobs=-1, verbose=1, warm_start=False, explained_variance=0.064, neg_mean_absolute_error=-73.547, neg_mean_squared_error=-8842.239, neg_mean_squared_log_error=-0.037, neg_median_absolute_error=-59.525, r2=0.063, total=  14.0s\n",
      "[CV] bootstrap=False, criterion=mse, max_depth=None, max_features=auto, min_samples_leaf=4, min_samples_split=2, min_weight_fraction_leaf=0.0, n_estimators=2000, n_jobs=-1, verbose=1, warm_start=False \n"
     ]
    },
    {
     "name": "stderr",
     "output_type": "stream",
     "text": [
      "[Parallel(n_jobs=-1)]: Using backend LokyBackend with 4 concurrent workers.\n",
      "[Parallel(n_jobs=-1)]: Done 200 tasks      | elapsed:    1.1s\n",
      "[Parallel(n_jobs=-1)]: Done 1400 tasks      | elapsed:    7.1s\n",
      "[Parallel(n_jobs=-1)]: Done 2000 out of 2000 | elapsed:   10.1s finished\n",
      "[Parallel(n_jobs=4)]: Using backend ThreadingBackend with 4 concurrent workers.\n",
      "[Parallel(n_jobs=4)]: Done  42 tasks      | elapsed:    0.0s\n",
      "[Parallel(n_jobs=4)]: Done 192 tasks      | elapsed:    0.1s\n",
      "[Parallel(n_jobs=4)]: Done 442 tasks      | elapsed:    0.1s\n",
      "[Parallel(n_jobs=4)]: Done 792 tasks      | elapsed:    0.2s\n",
      "[Parallel(n_jobs=4)]: Done 1242 tasks      | elapsed:    0.4s\n",
      "[Parallel(n_jobs=4)]: Done 1792 tasks      | elapsed:    0.5s\n",
      "[Parallel(n_jobs=4)]: Done 2000 out of 2000 | elapsed:    0.6s finished\n"
     ]
    },
    {
     "name": "stdout",
     "output_type": "stream",
     "text": [
      "[CV]  bootstrap=False, criterion=mse, max_depth=None, max_features=auto, min_samples_leaf=4, min_samples_split=2, min_weight_fraction_leaf=0.0, n_estimators=2000, n_jobs=-1, verbose=1, warm_start=False, explained_variance=0.115, neg_mean_absolute_error=-74.536, neg_mean_squared_error=-9270.233, neg_mean_squared_log_error=-0.082, neg_median_absolute_error=-60.757, r2=0.114, total=  12.0s\n",
      "[CV] bootstrap=False, criterion=mse, max_depth=None, max_features=auto, min_samples_leaf=4, min_samples_split=5, min_weight_fraction_leaf=0.0, n_estimators=200, n_jobs=-1, verbose=1, warm_start=False \n"
     ]
    },
    {
     "name": "stderr",
     "output_type": "stream",
     "text": [
      "[Parallel(n_jobs=-1)]: Using backend LokyBackend with 4 concurrent workers.\n",
      "[Parallel(n_jobs=-1)]: Done 186 tasks      | elapsed:    1.2s\n",
      "[Parallel(n_jobs=-1)]: Done 200 out of 200 | elapsed:    1.3s finished\n",
      "[Parallel(n_jobs=4)]: Using backend ThreadingBackend with 4 concurrent workers.\n",
      "[Parallel(n_jobs=4)]: Done  42 tasks      | elapsed:    0.0s\n",
      "[Parallel(n_jobs=4)]: Done 192 tasks      | elapsed:    0.1s\n",
      "[Parallel(n_jobs=4)]: Done 200 out of 200 | elapsed:    0.1s finished\n"
     ]
    },
    {
     "name": "stdout",
     "output_type": "stream",
     "text": [
      "[CV]  bootstrap=False, criterion=mse, max_depth=None, max_features=auto, min_samples_leaf=4, min_samples_split=5, min_weight_fraction_leaf=0.0, n_estimators=200, n_jobs=-1, verbose=1, warm_start=False, explained_variance=0.064, neg_mean_absolute_error=-73.552, neg_mean_squared_error=-8842.297, neg_mean_squared_log_error=-0.037, neg_median_absolute_error=-59.525, r2=0.063, total=   1.5s\n",
      "[CV] bootstrap=False, criterion=mse, max_depth=None, max_features=auto, min_samples_leaf=4, min_samples_split=5, min_weight_fraction_leaf=0.0, n_estimators=200, n_jobs=-1, verbose=1, warm_start=False \n"
     ]
    },
    {
     "name": "stderr",
     "output_type": "stream",
     "text": [
      "[Parallel(n_jobs=-1)]: Using backend LokyBackend with 4 concurrent workers.\n",
      "[Parallel(n_jobs=-1)]: Done 186 tasks      | elapsed:    1.0s\n",
      "[Parallel(n_jobs=-1)]: Done 200 out of 200 | elapsed:    1.1s finished\n",
      "[Parallel(n_jobs=4)]: Using backend ThreadingBackend with 4 concurrent workers.\n",
      "[Parallel(n_jobs=4)]: Done  42 tasks      | elapsed:    0.0s\n",
      "[Parallel(n_jobs=4)]: Done 192 tasks      | elapsed:    0.1s\n",
      "[Parallel(n_jobs=4)]: Done 200 out of 200 | elapsed:    0.1s finished\n"
     ]
    },
    {
     "name": "stdout",
     "output_type": "stream",
     "text": [
      "[CV]  bootstrap=False, criterion=mse, max_depth=None, max_features=auto, min_samples_leaf=4, min_samples_split=5, min_weight_fraction_leaf=0.0, n_estimators=200, n_jobs=-1, verbose=1, warm_start=False, explained_variance=0.115, neg_mean_absolute_error=-74.526, neg_mean_squared_error=-9268.886, neg_mean_squared_log_error=-0.082, neg_median_absolute_error=-60.757, r2=0.114, total=   1.3s\n",
      "[CV] bootstrap=False, criterion=mse, max_depth=None, max_features=auto, min_samples_leaf=4, min_samples_split=5, min_weight_fraction_leaf=0.0, n_estimators=2000, n_jobs=-1, verbose=1, warm_start=False \n"
     ]
    },
    {
     "name": "stderr",
     "output_type": "stream",
     "text": [
      "[Parallel(n_jobs=-1)]: Using backend LokyBackend with 4 concurrent workers.\n",
      "[Parallel(n_jobs=-1)]: Done 200 tasks      | elapsed:    1.3s\n",
      "[Parallel(n_jobs=-1)]: Done 1400 tasks      | elapsed:    8.6s\n",
      "[Parallel(n_jobs=-1)]: Done 2000 out of 2000 | elapsed:   12.3s finished\n",
      "[Parallel(n_jobs=4)]: Using backend ThreadingBackend with 4 concurrent workers.\n",
      "[Parallel(n_jobs=4)]: Done  42 tasks      | elapsed:    0.0s\n",
      "[Parallel(n_jobs=4)]: Done 192 tasks      | elapsed:    0.1s\n",
      "[Parallel(n_jobs=4)]: Done 442 tasks      | elapsed:    0.1s\n",
      "[Parallel(n_jobs=4)]: Done 792 tasks      | elapsed:    0.2s\n",
      "[Parallel(n_jobs=4)]: Done 1242 tasks      | elapsed:    0.4s\n",
      "[Parallel(n_jobs=4)]: Done 1792 tasks      | elapsed:    0.5s\n",
      "[Parallel(n_jobs=4)]: Done 2000 out of 2000 | elapsed:    0.6s finished\n"
     ]
    },
    {
     "name": "stdout",
     "output_type": "stream",
     "text": [
      "[CV]  bootstrap=False, criterion=mse, max_depth=None, max_features=auto, min_samples_leaf=4, min_samples_split=5, min_weight_fraction_leaf=0.0, n_estimators=2000, n_jobs=-1, verbose=1, warm_start=False, explained_variance=0.064, neg_mean_absolute_error=-73.544, neg_mean_squared_error=-8841.647, neg_mean_squared_log_error=-0.037, neg_median_absolute_error=-59.525, r2=0.063, total=  14.0s\n",
      "[CV] bootstrap=False, criterion=mse, max_depth=None, max_features=auto, min_samples_leaf=4, min_samples_split=5, min_weight_fraction_leaf=0.0, n_estimators=2000, n_jobs=-1, verbose=1, warm_start=False \n"
     ]
    },
    {
     "name": "stderr",
     "output_type": "stream",
     "text": [
      "[Parallel(n_jobs=-1)]: Using backend LokyBackend with 4 concurrent workers.\n",
      "[Parallel(n_jobs=-1)]: Done 200 tasks      | elapsed:    1.1s\n",
      "[Parallel(n_jobs=-1)]: Done 1400 tasks      | elapsed:    7.0s\n",
      "[Parallel(n_jobs=-1)]: Done 2000 out of 2000 | elapsed:   10.3s finished\n",
      "[Parallel(n_jobs=4)]: Using backend ThreadingBackend with 4 concurrent workers.\n",
      "[Parallel(n_jobs=4)]: Done  42 tasks      | elapsed:    0.0s\n",
      "[Parallel(n_jobs=4)]: Done 192 tasks      | elapsed:    0.1s\n",
      "[Parallel(n_jobs=4)]: Done 442 tasks      | elapsed:    0.1s\n",
      "[Parallel(n_jobs=4)]: Done 792 tasks      | elapsed:    0.2s\n",
      "[Parallel(n_jobs=4)]: Done 1242 tasks      | elapsed:    0.4s\n",
      "[Parallel(n_jobs=4)]: Done 1792 tasks      | elapsed:    0.6s\n",
      "[Parallel(n_jobs=4)]: Done 2000 out of 2000 | elapsed:    0.6s finished\n"
     ]
    },
    {
     "name": "stdout",
     "output_type": "stream",
     "text": [
      "[CV]  bootstrap=False, criterion=mse, max_depth=None, max_features=auto, min_samples_leaf=4, min_samples_split=5, min_weight_fraction_leaf=0.0, n_estimators=2000, n_jobs=-1, verbose=1, warm_start=False, explained_variance=0.115, neg_mean_absolute_error=-74.536, neg_mean_squared_error=-9270.677, neg_mean_squared_log_error=-0.082, neg_median_absolute_error=-60.757, r2=0.114, total=  12.2s\n",
      "[CV] bootstrap=False, criterion=mse, max_depth=None, max_features=auto, min_samples_leaf=4, min_samples_split=10, min_weight_fraction_leaf=0.0, n_estimators=200, n_jobs=-1, verbose=1, warm_start=False \n"
     ]
    },
    {
     "name": "stderr",
     "output_type": "stream",
     "text": [
      "[Parallel(n_jobs=-1)]: Using backend LokyBackend with 4 concurrent workers.\n",
      "[Parallel(n_jobs=-1)]: Done 186 tasks      | elapsed:    1.2s\n",
      "[Parallel(n_jobs=-1)]: Done 200 out of 200 | elapsed:    1.3s finished\n",
      "[Parallel(n_jobs=4)]: Using backend ThreadingBackend with 4 concurrent workers.\n",
      "[Parallel(n_jobs=4)]: Done  42 tasks      | elapsed:    0.0s\n",
      "[Parallel(n_jobs=4)]: Done 192 tasks      | elapsed:    0.1s\n",
      "[Parallel(n_jobs=4)]: Done 200 out of 200 | elapsed:    0.1s finished\n"
     ]
    },
    {
     "name": "stdout",
     "output_type": "stream",
     "text": [
      "[CV]  bootstrap=False, criterion=mse, max_depth=None, max_features=auto, min_samples_leaf=4, min_samples_split=10, min_weight_fraction_leaf=0.0, n_estimators=200, n_jobs=-1, verbose=1, warm_start=False, explained_variance=0.078, neg_mean_absolute_error=-73.134, neg_mean_squared_error=-8706.523, neg_mean_squared_log_error=-0.037, neg_median_absolute_error=-59.580, r2=0.078, total=   1.5s\n",
      "[CV] bootstrap=False, criterion=mse, max_depth=None, max_features=auto, min_samples_leaf=4, min_samples_split=10, min_weight_fraction_leaf=0.0, n_estimators=200, n_jobs=-1, verbose=1, warm_start=False \n"
     ]
    },
    {
     "name": "stderr",
     "output_type": "stream",
     "text": [
      "[Parallel(n_jobs=-1)]: Using backend LokyBackend with 4 concurrent workers.\n",
      "[Parallel(n_jobs=-1)]: Done 179 tasks      | elapsed:    0.9s\n",
      "[Parallel(n_jobs=-1)]: Done 200 out of 200 | elapsed:    1.0s finished\n",
      "[Parallel(n_jobs=4)]: Using backend ThreadingBackend with 4 concurrent workers.\n",
      "[Parallel(n_jobs=4)]: Done  42 tasks      | elapsed:    0.0s\n",
      "[Parallel(n_jobs=4)]: Done 192 tasks      | elapsed:    0.1s\n",
      "[Parallel(n_jobs=4)]: Done 200 out of 200 | elapsed:    0.1s finished\n"
     ]
    },
    {
     "name": "stdout",
     "output_type": "stream",
     "text": [
      "[CV]  bootstrap=False, criterion=mse, max_depth=None, max_features=auto, min_samples_leaf=4, min_samples_split=10, min_weight_fraction_leaf=0.0, n_estimators=200, n_jobs=-1, verbose=1, warm_start=False, explained_variance=0.138, neg_mean_absolute_error=-73.449, neg_mean_squared_error=-9034.572, neg_mean_squared_log_error=-0.081, neg_median_absolute_error=-60.620, r2=0.137, total=   1.3s\n",
      "[CV] bootstrap=False, criterion=mse, max_depth=None, max_features=auto, min_samples_leaf=4, min_samples_split=10, min_weight_fraction_leaf=0.0, n_estimators=2000, n_jobs=-1, verbose=1, warm_start=False \n"
     ]
    },
    {
     "name": "stderr",
     "output_type": "stream",
     "text": [
      "[Parallel(n_jobs=-1)]: Using backend LokyBackend with 4 concurrent workers.\n",
      "[Parallel(n_jobs=-1)]: Done 200 tasks      | elapsed:    1.3s\n",
      "[Parallel(n_jobs=-1)]: Done 1400 tasks      | elapsed:    8.4s\n",
      "[Parallel(n_jobs=-1)]: Done 2000 out of 2000 | elapsed:   12.0s finished\n",
      "[Parallel(n_jobs=4)]: Using backend ThreadingBackend with 4 concurrent workers.\n",
      "[Parallel(n_jobs=4)]: Done  42 tasks      | elapsed:    0.0s\n",
      "[Parallel(n_jobs=4)]: Done 192 tasks      | elapsed:    0.1s\n",
      "[Parallel(n_jobs=4)]: Done 442 tasks      | elapsed:    0.1s\n",
      "[Parallel(n_jobs=4)]: Done 792 tasks      | elapsed:    0.2s\n",
      "[Parallel(n_jobs=4)]: Done 1242 tasks      | elapsed:    0.4s\n",
      "[Parallel(n_jobs=4)]: Done 1792 tasks      | elapsed:    0.5s\n",
      "[Parallel(n_jobs=4)]: Done 2000 out of 2000 | elapsed:    0.6s finished\n"
     ]
    },
    {
     "name": "stdout",
     "output_type": "stream",
     "text": [
      "[CV]  bootstrap=False, criterion=mse, max_depth=None, max_features=auto, min_samples_leaf=4, min_samples_split=10, min_weight_fraction_leaf=0.0, n_estimators=2000, n_jobs=-1, verbose=1, warm_start=False, explained_variance=0.078, neg_mean_absolute_error=-73.137, neg_mean_squared_error=-8706.761, neg_mean_squared_log_error=-0.037, neg_median_absolute_error=-59.544, r2=0.078, total=  13.9s\n",
      "[CV] bootstrap=False, criterion=mse, max_depth=None, max_features=auto, min_samples_leaf=4, min_samples_split=10, min_weight_fraction_leaf=0.0, n_estimators=2000, n_jobs=-1, verbose=1, warm_start=False \n"
     ]
    },
    {
     "name": "stderr",
     "output_type": "stream",
     "text": [
      "[Parallel(n_jobs=-1)]: Using backend LokyBackend with 4 concurrent workers.\n",
      "[Parallel(n_jobs=-1)]: Done 200 tasks      | elapsed:    1.1s\n",
      "[Parallel(n_jobs=-1)]: Done 1400 tasks      | elapsed:    6.9s\n",
      "[Parallel(n_jobs=-1)]: Done 2000 out of 2000 | elapsed:    9.8s finished\n",
      "[Parallel(n_jobs=4)]: Using backend ThreadingBackend with 4 concurrent workers.\n",
      "[Parallel(n_jobs=4)]: Done  42 tasks      | elapsed:    0.0s\n",
      "[Parallel(n_jobs=4)]: Done 192 tasks      | elapsed:    0.1s\n",
      "[Parallel(n_jobs=4)]: Done 442 tasks      | elapsed:    0.1s\n",
      "[Parallel(n_jobs=4)]: Done 792 tasks      | elapsed:    0.2s\n",
      "[Parallel(n_jobs=4)]: Done 1242 tasks      | elapsed:    0.4s\n",
      "[Parallel(n_jobs=4)]: Done 1792 tasks      | elapsed:    0.5s\n",
      "[Parallel(n_jobs=4)]: Done 2000 out of 2000 | elapsed:    0.6s finished\n",
      "[Parallel(n_jobs=-1)]: Using backend LokyBackend with 4 concurrent workers.\n"
     ]
    },
    {
     "name": "stdout",
     "output_type": "stream",
     "text": [
      "[CV]  bootstrap=False, criterion=mse, max_depth=None, max_features=auto, min_samples_leaf=4, min_samples_split=10, min_weight_fraction_leaf=0.0, n_estimators=2000, n_jobs=-1, verbose=1, warm_start=False, explained_variance=0.138, neg_mean_absolute_error=-73.453, neg_mean_squared_error=-9035.204, neg_mean_squared_log_error=-0.081, neg_median_absolute_error=-60.707, r2=0.137, total=  11.6s\n",
      "[CV] bootstrap=False, criterion=mse, max_depth=None, max_features=sqrt, min_samples_leaf=1, min_samples_split=2, min_weight_fraction_leaf=0.0, n_estimators=200, n_jobs=-1, verbose=1, warm_start=False \n"
     ]
    },
    {
     "name": "stderr",
     "output_type": "stream",
     "text": [
      "[Parallel(n_jobs=-1)]: Done 190 tasks      | elapsed:    0.7s\n",
      "[Parallel(n_jobs=-1)]: Done 200 out of 200 | elapsed:    0.7s finished\n",
      "[Parallel(n_jobs=4)]: Using backend ThreadingBackend with 4 concurrent workers.\n",
      "[Parallel(n_jobs=4)]: Done  42 tasks      | elapsed:    0.0s\n",
      "[Parallel(n_jobs=4)]: Done 192 tasks      | elapsed:    0.1s\n",
      "[Parallel(n_jobs=4)]: Done 200 out of 200 | elapsed:    0.1s finished\n"
     ]
    },
    {
     "name": "stdout",
     "output_type": "stream",
     "text": [
      "[CV]  bootstrap=False, criterion=mse, max_depth=None, max_features=sqrt, min_samples_leaf=1, min_samples_split=2, min_weight_fraction_leaf=0.0, n_estimators=200, n_jobs=-1, verbose=1, warm_start=False, explained_variance=0.356, neg_mean_absolute_error=-62.210, neg_mean_squared_error=-6083.324, neg_mean_squared_log_error=-0.026, neg_median_absolute_error=-53.369, r2=0.356, total=   1.0s\n",
      "[CV] bootstrap=False, criterion=mse, max_depth=None, max_features=sqrt, min_samples_leaf=1, min_samples_split=2, min_weight_fraction_leaf=0.0, n_estimators=200, n_jobs=-1, verbose=1, warm_start=False \n"
     ]
    },
    {
     "name": "stderr",
     "output_type": "stream",
     "text": [
      "[Parallel(n_jobs=-1)]: Using backend LokyBackend with 4 concurrent workers.\n",
      "[Parallel(n_jobs=-1)]: Done 190 tasks      | elapsed:    0.7s\n",
      "[Parallel(n_jobs=-1)]: Done 200 out of 200 | elapsed:    0.7s finished\n",
      "[Parallel(n_jobs=4)]: Using backend ThreadingBackend with 4 concurrent workers.\n",
      "[Parallel(n_jobs=4)]: Done  42 tasks      | elapsed:    0.0s\n",
      "[Parallel(n_jobs=4)]: Done 192 tasks      | elapsed:    0.1s\n",
      "[Parallel(n_jobs=4)]: Done 200 out of 200 | elapsed:    0.1s finished\n"
     ]
    },
    {
     "name": "stdout",
     "output_type": "stream",
     "text": [
      "[CV]  bootstrap=False, criterion=mse, max_depth=None, max_features=sqrt, min_samples_leaf=1, min_samples_split=2, min_weight_fraction_leaf=0.0, n_estimators=200, n_jobs=-1, verbose=1, warm_start=False, explained_variance=0.425, neg_mean_absolute_error=-60.667, neg_mean_squared_error=-6016.136, neg_mean_squared_log_error=-0.068, neg_median_absolute_error=-51.960, r2=0.425, total=   0.9s\n",
      "[CV] bootstrap=False, criterion=mse, max_depth=None, max_features=sqrt, min_samples_leaf=1, min_samples_split=2, min_weight_fraction_leaf=0.0, n_estimators=2000, n_jobs=-1, verbose=1, warm_start=False \n"
     ]
    },
    {
     "name": "stderr",
     "output_type": "stream",
     "text": [
      "[Parallel(n_jobs=-1)]: Using backend LokyBackend with 4 concurrent workers.\n",
      "[Parallel(n_jobs=-1)]: Done 280 tasks      | elapsed:    1.0s\n",
      "[Parallel(n_jobs=-1)]: Done 2000 out of 2000 | elapsed:    6.6s finished\n",
      "[Parallel(n_jobs=4)]: Using backend ThreadingBackend with 4 concurrent workers.\n",
      "[Parallel(n_jobs=4)]: Done  42 tasks      | elapsed:    0.0s\n",
      "[Parallel(n_jobs=4)]: Done 192 tasks      | elapsed:    0.1s\n",
      "[Parallel(n_jobs=4)]: Done 442 tasks      | elapsed:    0.1s\n",
      "[Parallel(n_jobs=4)]: Done 792 tasks      | elapsed:    0.3s\n",
      "[Parallel(n_jobs=4)]: Done 1242 tasks      | elapsed:    0.4s\n",
      "[Parallel(n_jobs=4)]: Done 1792 tasks      | elapsed:    0.6s\n",
      "[Parallel(n_jobs=4)]: Done 2000 out of 2000 | elapsed:    0.6s finished\n"
     ]
    },
    {
     "name": "stdout",
     "output_type": "stream",
     "text": [
      "[CV]  bootstrap=False, criterion=mse, max_depth=None, max_features=sqrt, min_samples_leaf=1, min_samples_split=2, min_weight_fraction_leaf=0.0, n_estimators=2000, n_jobs=-1, verbose=1, warm_start=False, explained_variance=0.361, neg_mean_absolute_error=-61.965, neg_mean_squared_error=-6035.823, neg_mean_squared_log_error=-0.025, neg_median_absolute_error=-52.814, r2=0.361, total=   8.4s\n",
      "[CV] bootstrap=False, criterion=mse, max_depth=None, max_features=sqrt, min_samples_leaf=1, min_samples_split=2, min_weight_fraction_leaf=0.0, n_estimators=2000, n_jobs=-1, verbose=1, warm_start=False \n"
     ]
    },
    {
     "name": "stderr",
     "output_type": "stream",
     "text": [
      "[Parallel(n_jobs=-1)]: Using backend LokyBackend with 4 concurrent workers.\n",
      "[Parallel(n_jobs=-1)]: Done 280 tasks      | elapsed:    1.0s\n",
      "[Parallel(n_jobs=-1)]: Done 2000 out of 2000 | elapsed:    6.4s finished\n",
      "[Parallel(n_jobs=4)]: Using backend ThreadingBackend with 4 concurrent workers.\n",
      "[Parallel(n_jobs=4)]: Done  42 tasks      | elapsed:    0.0s\n",
      "[Parallel(n_jobs=4)]: Done 192 tasks      | elapsed:    0.1s\n",
      "[Parallel(n_jobs=4)]: Done 442 tasks      | elapsed:    0.1s\n",
      "[Parallel(n_jobs=4)]: Done 792 tasks      | elapsed:    0.3s\n",
      "[Parallel(n_jobs=4)]: Done 1242 tasks      | elapsed:    0.4s\n",
      "[Parallel(n_jobs=4)]: Done 1792 tasks      | elapsed:    0.6s\n",
      "[Parallel(n_jobs=4)]: Done 2000 out of 2000 | elapsed:    0.6s finished\n"
     ]
    },
    {
     "name": "stdout",
     "output_type": "stream",
     "text": [
      "[CV]  bootstrap=False, criterion=mse, max_depth=None, max_features=sqrt, min_samples_leaf=1, min_samples_split=2, min_weight_fraction_leaf=0.0, n_estimators=2000, n_jobs=-1, verbose=1, warm_start=False, explained_variance=0.428, neg_mean_absolute_error=-60.508, neg_mean_squared_error=-5991.104, neg_mean_squared_log_error=-0.068, neg_median_absolute_error=-50.760, r2=0.428, total=   8.3s\n",
      "[CV] bootstrap=False, criterion=mse, max_depth=None, max_features=sqrt, min_samples_leaf=1, min_samples_split=5, min_weight_fraction_leaf=0.0, n_estimators=200, n_jobs=-1, verbose=1, warm_start=False \n"
     ]
    },
    {
     "name": "stderr",
     "output_type": "stream",
     "text": [
      "[Parallel(n_jobs=-1)]: Using backend LokyBackend with 4 concurrent workers.\n",
      "[Parallel(n_jobs=-1)]: Done 190 tasks      | elapsed:    0.6s\n",
      "[Parallel(n_jobs=-1)]: Done 200 out of 200 | elapsed:    0.6s finished\n",
      "[Parallel(n_jobs=4)]: Using backend ThreadingBackend with 4 concurrent workers.\n",
      "[Parallel(n_jobs=4)]: Done  42 tasks      | elapsed:    0.0s\n",
      "[Parallel(n_jobs=4)]: Done 192 tasks      | elapsed:    0.1s\n",
      "[Parallel(n_jobs=4)]: Done 200 out of 200 | elapsed:    0.1s finished\n"
     ]
    },
    {
     "name": "stdout",
     "output_type": "stream",
     "text": [
      "[CV]  bootstrap=False, criterion=mse, max_depth=None, max_features=sqrt, min_samples_leaf=1, min_samples_split=5, min_weight_fraction_leaf=0.0, n_estimators=200, n_jobs=-1, verbose=1, warm_start=False, explained_variance=0.367, neg_mean_absolute_error=-61.746, neg_mean_squared_error=-5984.480, neg_mean_squared_log_error=-0.025, neg_median_absolute_error=-53.431, r2=0.366, total=   0.8s\n",
      "[CV] bootstrap=False, criterion=mse, max_depth=None, max_features=sqrt, min_samples_leaf=1, min_samples_split=5, min_weight_fraction_leaf=0.0, n_estimators=200, n_jobs=-1, verbose=1, warm_start=False \n"
     ]
    },
    {
     "name": "stderr",
     "output_type": "stream",
     "text": [
      "[Parallel(n_jobs=-1)]: Using backend LokyBackend with 4 concurrent workers.\n",
      "[Parallel(n_jobs=-1)]: Done 190 tasks      | elapsed:    0.5s\n",
      "[Parallel(n_jobs=-1)]: Done 200 out of 200 | elapsed:    0.6s finished\n",
      "[Parallel(n_jobs=4)]: Using backend ThreadingBackend with 4 concurrent workers.\n",
      "[Parallel(n_jobs=4)]: Done  42 tasks      | elapsed:    0.0s\n",
      "[Parallel(n_jobs=4)]: Done 192 tasks      | elapsed:    0.1s\n",
      "[Parallel(n_jobs=4)]: Done 200 out of 200 | elapsed:    0.1s finished\n"
     ]
    },
    {
     "name": "stdout",
     "output_type": "stream",
     "text": [
      "[CV]  bootstrap=False, criterion=mse, max_depth=None, max_features=sqrt, min_samples_leaf=1, min_samples_split=5, min_weight_fraction_leaf=0.0, n_estimators=200, n_jobs=-1, verbose=1, warm_start=False, explained_variance=0.431, neg_mean_absolute_error=-60.391, neg_mean_squared_error=-5959.418, neg_mean_squared_log_error=-0.067, neg_median_absolute_error=-50.753, r2=0.431, total=   0.8s\n",
      "[CV] bootstrap=False, criterion=mse, max_depth=None, max_features=sqrt, min_samples_leaf=1, min_samples_split=5, min_weight_fraction_leaf=0.0, n_estimators=2000, n_jobs=-1, verbose=1, warm_start=False \n"
     ]
    },
    {
     "name": "stderr",
     "output_type": "stream",
     "text": [
      "[Parallel(n_jobs=-1)]: Using backend LokyBackend with 4 concurrent workers.\n",
      "[Parallel(n_jobs=-1)]: Done 280 tasks      | elapsed:    0.8s\n",
      "[Parallel(n_jobs=-1)]: Done 2000 out of 2000 | elapsed:    5.1s finished\n",
      "[Parallel(n_jobs=4)]: Using backend ThreadingBackend with 4 concurrent workers.\n",
      "[Parallel(n_jobs=4)]: Done  42 tasks      | elapsed:    0.0s\n",
      "[Parallel(n_jobs=4)]: Done 192 tasks      | elapsed:    0.1s\n",
      "[Parallel(n_jobs=4)]: Done 442 tasks      | elapsed:    0.1s\n",
      "[Parallel(n_jobs=4)]: Done 792 tasks      | elapsed:    0.2s\n",
      "[Parallel(n_jobs=4)]: Done 1242 tasks      | elapsed:    0.4s\n",
      "[Parallel(n_jobs=4)]: Done 1792 tasks      | elapsed:    0.5s\n",
      "[Parallel(n_jobs=4)]: Done 2000 out of 2000 | elapsed:    0.6s finished\n"
     ]
    },
    {
     "name": "stdout",
     "output_type": "stream",
     "text": [
      "[CV]  bootstrap=False, criterion=mse, max_depth=None, max_features=sqrt, min_samples_leaf=1, min_samples_split=5, min_weight_fraction_leaf=0.0, n_estimators=2000, n_jobs=-1, verbose=1, warm_start=False, explained_variance=0.367, neg_mean_absolute_error=-61.739, neg_mean_squared_error=-5980.873, neg_mean_squared_log_error=-0.025, neg_median_absolute_error=-52.508, r2=0.366, total=   6.8s\n",
      "[CV] bootstrap=False, criterion=mse, max_depth=None, max_features=sqrt, min_samples_leaf=1, min_samples_split=5, min_weight_fraction_leaf=0.0, n_estimators=2000, n_jobs=-1, verbose=1, warm_start=False \n"
     ]
    },
    {
     "name": "stderr",
     "output_type": "stream",
     "text": [
      "[Parallel(n_jobs=-1)]: Using backend LokyBackend with 4 concurrent workers.\n",
      "[Parallel(n_jobs=-1)]: Done 280 tasks      | elapsed:    0.8s\n",
      "[Parallel(n_jobs=-1)]: Done 2000 out of 2000 | elapsed:    4.9s finished\n",
      "[Parallel(n_jobs=4)]: Using backend ThreadingBackend with 4 concurrent workers.\n",
      "[Parallel(n_jobs=4)]: Done  42 tasks      | elapsed:    0.0s\n",
      "[Parallel(n_jobs=4)]: Done 192 tasks      | elapsed:    0.1s\n",
      "[Parallel(n_jobs=4)]: Done 442 tasks      | elapsed:    0.1s\n",
      "[Parallel(n_jobs=4)]: Done 792 tasks      | elapsed:    0.2s\n",
      "[Parallel(n_jobs=4)]: Done 1242 tasks      | elapsed:    0.4s\n",
      "[Parallel(n_jobs=4)]: Done 1792 tasks      | elapsed:    0.5s\n",
      "[Parallel(n_jobs=4)]: Done 2000 out of 2000 | elapsed:    0.6s finished\n"
     ]
    },
    {
     "name": "stdout",
     "output_type": "stream",
     "text": [
      "[CV]  bootstrap=False, criterion=mse, max_depth=None, max_features=sqrt, min_samples_leaf=1, min_samples_split=5, min_weight_fraction_leaf=0.0, n_estimators=2000, n_jobs=-1, verbose=1, warm_start=False, explained_variance=0.433, neg_mean_absolute_error=-60.136, neg_mean_squared_error=-5930.637, neg_mean_squared_log_error=-0.067, neg_median_absolute_error=-50.580, r2=0.433, total=   6.7s\n",
      "[CV] bootstrap=False, criterion=mse, max_depth=None, max_features=sqrt, min_samples_leaf=1, min_samples_split=10, min_weight_fraction_leaf=0.0, n_estimators=200, n_jobs=-1, verbose=1, warm_start=False \n"
     ]
    },
    {
     "name": "stderr",
     "output_type": "stream",
     "text": [
      "[Parallel(n_jobs=-1)]: Using backend LokyBackend with 4 concurrent workers.\n",
      "[Parallel(n_jobs=-1)]: Done 190 tasks      | elapsed:    0.5s\n",
      "[Parallel(n_jobs=-1)]: Done 200 out of 200 | elapsed:    0.5s finished\n",
      "[Parallel(n_jobs=4)]: Using backend ThreadingBackend with 4 concurrent workers.\n",
      "[Parallel(n_jobs=4)]: Done  42 tasks      | elapsed:    0.0s\n",
      "[Parallel(n_jobs=4)]: Done 192 tasks      | elapsed:    0.1s\n",
      "[Parallel(n_jobs=4)]: Done 200 out of 200 | elapsed:    0.1s finished\n"
     ]
    },
    {
     "name": "stdout",
     "output_type": "stream",
     "text": [
      "[CV]  bootstrap=False, criterion=mse, max_depth=None, max_features=sqrt, min_samples_leaf=1, min_samples_split=10, min_weight_fraction_leaf=0.0, n_estimators=200, n_jobs=-1, verbose=1, warm_start=False, explained_variance=0.374, neg_mean_absolute_error=-61.445, neg_mean_squared_error=-5915.340, neg_mean_squared_log_error=-0.025, neg_median_absolute_error=-52.869, r2=0.373, total=   0.8s\n",
      "[CV] bootstrap=False, criterion=mse, max_depth=None, max_features=sqrt, min_samples_leaf=1, min_samples_split=10, min_weight_fraction_leaf=0.0, n_estimators=200, n_jobs=-1, verbose=1, warm_start=False \n"
     ]
    },
    {
     "name": "stderr",
     "output_type": "stream",
     "text": [
      "[Parallel(n_jobs=-1)]: Using backend LokyBackend with 4 concurrent workers.\n",
      "[Parallel(n_jobs=-1)]: Done 175 tasks      | elapsed:    0.5s\n",
      "[Parallel(n_jobs=-1)]: Done 200 out of 200 | elapsed:    0.5s finished\n",
      "[Parallel(n_jobs=4)]: Using backend ThreadingBackend with 4 concurrent workers.\n",
      "[Parallel(n_jobs=4)]: Done  42 tasks      | elapsed:    0.0s\n",
      "[Parallel(n_jobs=4)]: Done 192 tasks      | elapsed:    0.1s\n",
      "[Parallel(n_jobs=4)]: Done 200 out of 200 | elapsed:    0.1s finished\n"
     ]
    },
    {
     "name": "stdout",
     "output_type": "stream",
     "text": [
      "[CV]  bootstrap=False, criterion=mse, max_depth=None, max_features=sqrt, min_samples_leaf=1, min_samples_split=10, min_weight_fraction_leaf=0.0, n_estimators=200, n_jobs=-1, verbose=1, warm_start=False, explained_variance=0.439, neg_mean_absolute_error=-59.801, neg_mean_squared_error=-5874.438, neg_mean_squared_log_error=-0.067, neg_median_absolute_error=-50.456, r2=0.439, total=   0.7s\n",
      "[CV] bootstrap=False, criterion=mse, max_depth=None, max_features=sqrt, min_samples_leaf=1, min_samples_split=10, min_weight_fraction_leaf=0.0, n_estimators=2000, n_jobs=-1, verbose=1, warm_start=False \n"
     ]
    },
    {
     "name": "stderr",
     "output_type": "stream",
     "text": [
      "[Parallel(n_jobs=-1)]: Using backend LokyBackend with 4 concurrent workers.\n",
      "[Parallel(n_jobs=-1)]: Done 312 tasks      | elapsed:    0.9s\n",
      "[Parallel(n_jobs=-1)]: Done 2000 out of 2000 | elapsed:    4.5s finished\n",
      "[Parallel(n_jobs=4)]: Using backend ThreadingBackend with 4 concurrent workers.\n",
      "[Parallel(n_jobs=4)]: Done  42 tasks      | elapsed:    0.0s\n",
      "[Parallel(n_jobs=4)]: Done 192 tasks      | elapsed:    0.1s\n",
      "[Parallel(n_jobs=4)]: Done 442 tasks      | elapsed:    0.1s\n",
      "[Parallel(n_jobs=4)]: Done 792 tasks      | elapsed:    0.2s\n",
      "[Parallel(n_jobs=4)]: Done 1242 tasks      | elapsed:    0.4s\n",
      "[Parallel(n_jobs=4)]: Done 1792 tasks      | elapsed:    0.5s\n",
      "[Parallel(n_jobs=4)]: Done 2000 out of 2000 | elapsed:    0.6s finished\n"
     ]
    },
    {
     "name": "stdout",
     "output_type": "stream",
     "text": [
      "[CV]  bootstrap=False, criterion=mse, max_depth=None, max_features=sqrt, min_samples_leaf=1, min_samples_split=10, min_weight_fraction_leaf=0.0, n_estimators=2000, n_jobs=-1, verbose=1, warm_start=False, explained_variance=0.375, neg_mean_absolute_error=-61.393, neg_mean_squared_error=-5902.883, neg_mean_squared_log_error=-0.025, neg_median_absolute_error=-52.780, r2=0.375, total=   6.2s\n",
      "[CV] bootstrap=False, criterion=mse, max_depth=None, max_features=sqrt, min_samples_leaf=1, min_samples_split=10, min_weight_fraction_leaf=0.0, n_estimators=2000, n_jobs=-1, verbose=1, warm_start=False \n"
     ]
    },
    {
     "name": "stderr",
     "output_type": "stream",
     "text": [
      "[Parallel(n_jobs=-1)]: Using backend LokyBackend with 4 concurrent workers.\n",
      "[Parallel(n_jobs=-1)]: Done 312 tasks      | elapsed:    0.8s\n",
      "[Parallel(n_jobs=-1)]: Done 2000 out of 2000 | elapsed:    4.2s finished\n",
      "[Parallel(n_jobs=4)]: Using backend ThreadingBackend with 4 concurrent workers.\n",
      "[Parallel(n_jobs=4)]: Done  42 tasks      | elapsed:    0.0s\n",
      "[Parallel(n_jobs=4)]: Done 192 tasks      | elapsed:    0.1s\n",
      "[Parallel(n_jobs=4)]: Done 442 tasks      | elapsed:    0.1s\n",
      "[Parallel(n_jobs=4)]: Done 792 tasks      | elapsed:    0.2s\n",
      "[Parallel(n_jobs=4)]: Done 1242 tasks      | elapsed:    0.4s\n",
      "[Parallel(n_jobs=4)]: Done 1792 tasks      | elapsed:    0.5s\n",
      "[Parallel(n_jobs=4)]: Done 2000 out of 2000 | elapsed:    0.6s finished\n",
      "[Parallel(n_jobs=-1)]: Using backend LokyBackend with 4 concurrent workers.\n"
     ]
    },
    {
     "name": "stdout",
     "output_type": "stream",
     "text": [
      "[CV]  bootstrap=False, criterion=mse, max_depth=None, max_features=sqrt, min_samples_leaf=1, min_samples_split=10, min_weight_fraction_leaf=0.0, n_estimators=2000, n_jobs=-1, verbose=1, warm_start=False, explained_variance=0.441, neg_mean_absolute_error=-59.739, neg_mean_squared_error=-5849.101, neg_mean_squared_log_error=-0.067, neg_median_absolute_error=-50.440, r2=0.441, total=   6.0s\n",
      "[CV] bootstrap=False, criterion=mse, max_depth=None, max_features=sqrt, min_samples_leaf=2, min_samples_split=2, min_weight_fraction_leaf=0.0, n_estimators=200, n_jobs=-1, verbose=1, warm_start=False \n"
     ]
    },
    {
     "name": "stderr",
     "output_type": "stream",
     "text": [
      "[Parallel(n_jobs=-1)]: Done 190 tasks      | elapsed:    0.5s\n",
      "[Parallel(n_jobs=-1)]: Done 200 out of 200 | elapsed:    0.6s finished\n",
      "[Parallel(n_jobs=4)]: Using backend ThreadingBackend with 4 concurrent workers.\n",
      "[Parallel(n_jobs=4)]: Done  42 tasks      | elapsed:    0.0s\n",
      "[Parallel(n_jobs=4)]: Done 192 tasks      | elapsed:    0.1s\n",
      "[Parallel(n_jobs=4)]: Done 200 out of 200 | elapsed:    0.1s finished\n"
     ]
    },
    {
     "name": "stdout",
     "output_type": "stream",
     "text": [
      "[CV]  bootstrap=False, criterion=mse, max_depth=None, max_features=sqrt, min_samples_leaf=2, min_samples_split=2, min_weight_fraction_leaf=0.0, n_estimators=200, n_jobs=-1, verbose=1, warm_start=False, explained_variance=0.371, neg_mean_absolute_error=-61.523, neg_mean_squared_error=-5947.362, neg_mean_squared_log_error=-0.025, neg_median_absolute_error=-51.934, r2=0.370, total=   0.8s\n",
      "[CV] bootstrap=False, criterion=mse, max_depth=None, max_features=sqrt, min_samples_leaf=2, min_samples_split=2, min_weight_fraction_leaf=0.0, n_estimators=200, n_jobs=-1, verbose=1, warm_start=False \n"
     ]
    },
    {
     "name": "stderr",
     "output_type": "stream",
     "text": [
      "[Parallel(n_jobs=-1)]: Using backend LokyBackend with 4 concurrent workers.\n",
      "[Parallel(n_jobs=-1)]: Done 190 tasks      | elapsed:    0.5s\n",
      "[Parallel(n_jobs=-1)]: Done 200 out of 200 | elapsed:    0.6s finished\n",
      "[Parallel(n_jobs=4)]: Using backend ThreadingBackend with 4 concurrent workers.\n",
      "[Parallel(n_jobs=4)]: Done  42 tasks      | elapsed:    0.0s\n",
      "[Parallel(n_jobs=4)]: Done 192 tasks      | elapsed:    0.1s\n",
      "[Parallel(n_jobs=4)]: Done 200 out of 200 | elapsed:    0.1s finished\n"
     ]
    },
    {
     "name": "stdout",
     "output_type": "stream",
     "text": [
      "[CV]  bootstrap=False, criterion=mse, max_depth=None, max_features=sqrt, min_samples_leaf=2, min_samples_split=2, min_weight_fraction_leaf=0.0, n_estimators=200, n_jobs=-1, verbose=1, warm_start=False, explained_variance=0.435, neg_mean_absolute_error=-59.921, neg_mean_squared_error=-5914.618, neg_mean_squared_log_error=-0.067, neg_median_absolute_error=-50.126, r2=0.435, total=   0.8s\n",
      "[CV] bootstrap=False, criterion=mse, max_depth=None, max_features=sqrt, min_samples_leaf=2, min_samples_split=2, min_weight_fraction_leaf=0.0, n_estimators=2000, n_jobs=-1, verbose=1, warm_start=False \n"
     ]
    },
    {
     "name": "stderr",
     "output_type": "stream",
     "text": [
      "[Parallel(n_jobs=-1)]: Using backend LokyBackend with 4 concurrent workers.\n",
      "[Parallel(n_jobs=-1)]: Done 280 tasks      | elapsed:    0.8s\n",
      "[Parallel(n_jobs=-1)]: Done 2000 out of 2000 | elapsed:    4.8s finished\n",
      "[Parallel(n_jobs=4)]: Using backend ThreadingBackend with 4 concurrent workers.\n",
      "[Parallel(n_jobs=4)]: Done  42 tasks      | elapsed:    0.0s\n",
      "[Parallel(n_jobs=4)]: Done 192 tasks      | elapsed:    0.1s\n",
      "[Parallel(n_jobs=4)]: Done 442 tasks      | elapsed:    0.1s\n",
      "[Parallel(n_jobs=4)]: Done 792 tasks      | elapsed:    0.2s\n",
      "[Parallel(n_jobs=4)]: Done 1242 tasks      | elapsed:    0.4s\n",
      "[Parallel(n_jobs=4)]: Done 1792 tasks      | elapsed:    0.5s\n",
      "[Parallel(n_jobs=4)]: Done 2000 out of 2000 | elapsed:    0.6s finished\n"
     ]
    },
    {
     "name": "stdout",
     "output_type": "stream",
     "text": [
      "[CV]  bootstrap=False, criterion=mse, max_depth=None, max_features=sqrt, min_samples_leaf=2, min_samples_split=2, min_weight_fraction_leaf=0.0, n_estimators=2000, n_jobs=-1, verbose=1, warm_start=False, explained_variance=0.372, neg_mean_absolute_error=-61.520, neg_mean_squared_error=-5937.071, neg_mean_squared_log_error=-0.025, neg_median_absolute_error=-52.977, r2=0.371, total=   6.6s\n",
      "[CV] bootstrap=False, criterion=mse, max_depth=None, max_features=sqrt, min_samples_leaf=2, min_samples_split=2, min_weight_fraction_leaf=0.0, n_estimators=2000, n_jobs=-1, verbose=1, warm_start=False \n"
     ]
    },
    {
     "name": "stderr",
     "output_type": "stream",
     "text": [
      "[Parallel(n_jobs=-1)]: Using backend LokyBackend with 4 concurrent workers.\n",
      "[Parallel(n_jobs=-1)]: Done 280 tasks      | elapsed:    0.8s\n",
      "[Parallel(n_jobs=-1)]: Done 2000 out of 2000 | elapsed:    4.7s finished\n",
      "[Parallel(n_jobs=4)]: Using backend ThreadingBackend with 4 concurrent workers.\n",
      "[Parallel(n_jobs=4)]: Done  42 tasks      | elapsed:    0.0s\n",
      "[Parallel(n_jobs=4)]: Done 192 tasks      | elapsed:    0.1s\n",
      "[Parallel(n_jobs=4)]: Done 442 tasks      | elapsed:    0.1s\n",
      "[Parallel(n_jobs=4)]: Done 792 tasks      | elapsed:    0.2s\n",
      "[Parallel(n_jobs=4)]: Done 1242 tasks      | elapsed:    0.4s\n",
      "[Parallel(n_jobs=4)]: Done 1792 tasks      | elapsed:    0.5s\n",
      "[Parallel(n_jobs=4)]: Done 2000 out of 2000 | elapsed:    0.6s finished\n"
     ]
    },
    {
     "name": "stdout",
     "output_type": "stream",
     "text": [
      "[CV]  bootstrap=False, criterion=mse, max_depth=None, max_features=sqrt, min_samples_leaf=2, min_samples_split=2, min_weight_fraction_leaf=0.0, n_estimators=2000, n_jobs=-1, verbose=1, warm_start=False, explained_variance=0.438, neg_mean_absolute_error=-59.816, neg_mean_squared_error=-5884.502, neg_mean_squared_log_error=-0.067, neg_median_absolute_error=-50.230, r2=0.438, total=   6.5s\n",
      "[CV] bootstrap=False, criterion=mse, max_depth=None, max_features=sqrt, min_samples_leaf=2, min_samples_split=5, min_weight_fraction_leaf=0.0, n_estimators=200, n_jobs=-1, verbose=1, warm_start=False \n"
     ]
    },
    {
     "name": "stderr",
     "output_type": "stream",
     "text": [
      "[Parallel(n_jobs=-1)]: Using backend LokyBackend with 4 concurrent workers.\n",
      "[Parallel(n_jobs=-1)]: Done 190 tasks      | elapsed:    0.5s\n",
      "[Parallel(n_jobs=-1)]: Done 200 out of 200 | elapsed:    0.6s finished\n",
      "[Parallel(n_jobs=4)]: Using backend ThreadingBackend with 4 concurrent workers.\n",
      "[Parallel(n_jobs=4)]: Done  42 tasks      | elapsed:    0.0s\n",
      "[Parallel(n_jobs=4)]: Done 192 tasks      | elapsed:    0.1s\n",
      "[Parallel(n_jobs=4)]: Done 200 out of 200 | elapsed:    0.1s finished\n"
     ]
    },
    {
     "name": "stdout",
     "output_type": "stream",
     "text": [
      "[CV]  bootstrap=False, criterion=mse, max_depth=None, max_features=sqrt, min_samples_leaf=2, min_samples_split=5, min_weight_fraction_leaf=0.0, n_estimators=200, n_jobs=-1, verbose=1, warm_start=False, explained_variance=0.369, neg_mean_absolute_error=-61.687, neg_mean_squared_error=-5958.656, neg_mean_squared_log_error=-0.025, neg_median_absolute_error=-53.068, r2=0.369, total=   0.8s\n",
      "[CV] bootstrap=False, criterion=mse, max_depth=None, max_features=sqrt, min_samples_leaf=2, min_samples_split=5, min_weight_fraction_leaf=0.0, n_estimators=200, n_jobs=-1, verbose=1, warm_start=False \n"
     ]
    },
    {
     "name": "stderr",
     "output_type": "stream",
     "text": [
      "[Parallel(n_jobs=-1)]: Using backend LokyBackend with 4 concurrent workers.\n",
      "[Parallel(n_jobs=-1)]: Done 190 tasks      | elapsed:    0.5s\n",
      "[Parallel(n_jobs=-1)]: Done 200 out of 200 | elapsed:    0.5s finished\n",
      "[Parallel(n_jobs=4)]: Using backend ThreadingBackend with 4 concurrent workers.\n",
      "[Parallel(n_jobs=4)]: Done  42 tasks      | elapsed:    0.0s\n",
      "[Parallel(n_jobs=4)]: Done 192 tasks      | elapsed:    0.1s\n",
      "[Parallel(n_jobs=4)]: Done 200 out of 200 | elapsed:    0.1s finished\n"
     ]
    },
    {
     "name": "stdout",
     "output_type": "stream",
     "text": [
      "[CV]  bootstrap=False, criterion=mse, max_depth=None, max_features=sqrt, min_samples_leaf=2, min_samples_split=5, min_weight_fraction_leaf=0.0, n_estimators=200, n_jobs=-1, verbose=1, warm_start=False, explained_variance=0.437, neg_mean_absolute_error=-59.830, neg_mean_squared_error=-5892.762, neg_mean_squared_log_error=-0.067, neg_median_absolute_error=-50.192, r2=0.437, total=   0.8s\n",
      "[CV] bootstrap=False, criterion=mse, max_depth=None, max_features=sqrt, min_samples_leaf=2, min_samples_split=5, min_weight_fraction_leaf=0.0, n_estimators=2000, n_jobs=-1, verbose=1, warm_start=False \n"
     ]
    },
    {
     "name": "stderr",
     "output_type": "stream",
     "text": [
      "[Parallel(n_jobs=-1)]: Using backend LokyBackend with 4 concurrent workers.\n",
      "[Parallel(n_jobs=-1)]: Done 280 tasks      | elapsed:    0.8s\n",
      "[Parallel(n_jobs=-1)]: Done 2000 out of 2000 | elapsed:    4.6s finished\n",
      "[Parallel(n_jobs=4)]: Using backend ThreadingBackend with 4 concurrent workers.\n",
      "[Parallel(n_jobs=4)]: Done  42 tasks      | elapsed:    0.0s\n",
      "[Parallel(n_jobs=4)]: Done 192 tasks      | elapsed:    0.1s\n",
      "[Parallel(n_jobs=4)]: Done 442 tasks      | elapsed:    0.1s\n",
      "[Parallel(n_jobs=4)]: Done 792 tasks      | elapsed:    0.2s\n",
      "[Parallel(n_jobs=4)]: Done 1242 tasks      | elapsed:    0.4s\n",
      "[Parallel(n_jobs=4)]: Done 1792 tasks      | elapsed:    0.5s\n",
      "[Parallel(n_jobs=4)]: Done 2000 out of 2000 | elapsed:    0.6s finished\n"
     ]
    },
    {
     "name": "stdout",
     "output_type": "stream",
     "text": [
      "[CV]  bootstrap=False, criterion=mse, max_depth=None, max_features=sqrt, min_samples_leaf=2, min_samples_split=5, min_weight_fraction_leaf=0.0, n_estimators=2000, n_jobs=-1, verbose=1, warm_start=False, explained_variance=0.374, neg_mean_absolute_error=-61.440, neg_mean_squared_error=-5918.131, neg_mean_squared_log_error=-0.025, neg_median_absolute_error=-52.773, r2=0.373, total=   6.4s\n",
      "[CV] bootstrap=False, criterion=mse, max_depth=None, max_features=sqrt, min_samples_leaf=2, min_samples_split=5, min_weight_fraction_leaf=0.0, n_estimators=2000, n_jobs=-1, verbose=1, warm_start=False \n"
     ]
    },
    {
     "name": "stderr",
     "output_type": "stream",
     "text": [
      "[Parallel(n_jobs=-1)]: Using backend LokyBackend with 4 concurrent workers.\n",
      "[Parallel(n_jobs=-1)]: Done 312 tasks      | elapsed:    0.9s\n",
      "[Parallel(n_jobs=-1)]: Done 2000 out of 2000 | elapsed:    4.5s finished\n",
      "[Parallel(n_jobs=4)]: Using backend ThreadingBackend with 4 concurrent workers.\n",
      "[Parallel(n_jobs=4)]: Done  42 tasks      | elapsed:    0.0s\n",
      "[Parallel(n_jobs=4)]: Done 192 tasks      | elapsed:    0.1s\n",
      "[Parallel(n_jobs=4)]: Done 442 tasks      | elapsed:    0.1s\n",
      "[Parallel(n_jobs=4)]: Done 792 tasks      | elapsed:    0.2s\n",
      "[Parallel(n_jobs=4)]: Done 1242 tasks      | elapsed:    0.4s\n",
      "[Parallel(n_jobs=4)]: Done 1792 tasks      | elapsed:    0.5s\n",
      "[Parallel(n_jobs=4)]: Done 2000 out of 2000 | elapsed:    0.6s finished\n"
     ]
    },
    {
     "name": "stdout",
     "output_type": "stream",
     "text": [
      "[CV]  bootstrap=False, criterion=mse, max_depth=None, max_features=sqrt, min_samples_leaf=2, min_samples_split=5, min_weight_fraction_leaf=0.0, n_estimators=2000, n_jobs=-1, verbose=1, warm_start=False, explained_variance=0.440, neg_mean_absolute_error=-59.740, neg_mean_squared_error=-5866.808, neg_mean_squared_log_error=-0.067, neg_median_absolute_error=-50.237, r2=0.439, total=   6.2s\n",
      "[CV] bootstrap=False, criterion=mse, max_depth=None, max_features=sqrt, min_samples_leaf=2, min_samples_split=10, min_weight_fraction_leaf=0.0, n_estimators=200, n_jobs=-1, verbose=1, warm_start=False \n"
     ]
    },
    {
     "name": "stderr",
     "output_type": "stream",
     "text": [
      "[Parallel(n_jobs=-1)]: Using backend LokyBackend with 4 concurrent workers.\n",
      "[Parallel(n_jobs=-1)]: Done 190 tasks      | elapsed:    0.5s\n",
      "[Parallel(n_jobs=-1)]: Done 200 out of 200 | elapsed:    0.5s finished\n",
      "[Parallel(n_jobs=4)]: Using backend ThreadingBackend with 4 concurrent workers.\n",
      "[Parallel(n_jobs=4)]: Done  42 tasks      | elapsed:    0.0s\n",
      "[Parallel(n_jobs=4)]: Done 192 tasks      | elapsed:    0.1s\n",
      "[Parallel(n_jobs=4)]: Done 200 out of 200 | elapsed:    0.1s finished\n"
     ]
    },
    {
     "name": "stdout",
     "output_type": "stream",
     "text": [
      "[CV]  bootstrap=False, criterion=mse, max_depth=None, max_features=sqrt, min_samples_leaf=2, min_samples_split=10, min_weight_fraction_leaf=0.0, n_estimators=200, n_jobs=-1, verbose=1, warm_start=False, explained_variance=0.380, neg_mean_absolute_error=-61.192, neg_mean_squared_error=-5856.668, neg_mean_squared_log_error=-0.025, neg_median_absolute_error=-52.462, r2=0.380, total=   0.7s\n",
      "[CV] bootstrap=False, criterion=mse, max_depth=None, max_features=sqrt, min_samples_leaf=2, min_samples_split=10, min_weight_fraction_leaf=0.0, n_estimators=200, n_jobs=-1, verbose=1, warm_start=False \n"
     ]
    },
    {
     "name": "stderr",
     "output_type": "stream",
     "text": [
      "[Parallel(n_jobs=-1)]: Using backend LokyBackend with 4 concurrent workers.\n",
      "[Parallel(n_jobs=-1)]: Done 190 tasks      | elapsed:    0.4s\n",
      "[Parallel(n_jobs=-1)]: Done 200 out of 200 | elapsed:    0.5s finished\n",
      "[Parallel(n_jobs=4)]: Using backend ThreadingBackend with 4 concurrent workers.\n",
      "[Parallel(n_jobs=4)]: Done  42 tasks      | elapsed:    0.0s\n",
      "[Parallel(n_jobs=4)]: Done 192 tasks      | elapsed:    0.1s\n",
      "[Parallel(n_jobs=4)]: Done 200 out of 200 | elapsed:    0.1s finished\n"
     ]
    },
    {
     "name": "stdout",
     "output_type": "stream",
     "text": [
      "[CV]  bootstrap=False, criterion=mse, max_depth=None, max_features=sqrt, min_samples_leaf=2, min_samples_split=10, min_weight_fraction_leaf=0.0, n_estimators=200, n_jobs=-1, verbose=1, warm_start=False, explained_variance=0.445, neg_mean_absolute_error=-59.475, neg_mean_squared_error=-5814.058, neg_mean_squared_log_error=-0.067, neg_median_absolute_error=-50.144, r2=0.444, total=   0.7s\n",
      "[CV] bootstrap=False, criterion=mse, max_depth=None, max_features=sqrt, min_samples_leaf=2, min_samples_split=10, min_weight_fraction_leaf=0.0, n_estimators=2000, n_jobs=-1, verbose=1, warm_start=False \n"
     ]
    },
    {
     "name": "stderr",
     "output_type": "stream",
     "text": [
      "[Parallel(n_jobs=-1)]: Using backend LokyBackend with 4 concurrent workers.\n",
      "[Parallel(n_jobs=-1)]: Done 312 tasks      | elapsed:    0.8s\n",
      "[Parallel(n_jobs=-1)]: Done 2000 out of 2000 | elapsed:    4.1s finished\n",
      "[Parallel(n_jobs=4)]: Using backend ThreadingBackend with 4 concurrent workers.\n",
      "[Parallel(n_jobs=4)]: Done  42 tasks      | elapsed:    0.0s\n",
      "[Parallel(n_jobs=4)]: Done 192 tasks      | elapsed:    0.1s\n",
      "[Parallel(n_jobs=4)]: Done 442 tasks      | elapsed:    0.1s\n",
      "[Parallel(n_jobs=4)]: Done 792 tasks      | elapsed:    0.2s\n",
      "[Parallel(n_jobs=4)]: Done 1242 tasks      | elapsed:    0.4s\n",
      "[Parallel(n_jobs=4)]: Done 1792 tasks      | elapsed:    0.5s\n",
      "[Parallel(n_jobs=4)]: Done 2000 out of 2000 | elapsed:    0.6s finished\n"
     ]
    },
    {
     "name": "stdout",
     "output_type": "stream",
     "text": [
      "[CV]  bootstrap=False, criterion=mse, max_depth=None, max_features=sqrt, min_samples_leaf=2, min_samples_split=10, min_weight_fraction_leaf=0.0, n_estimators=2000, n_jobs=-1, verbose=1, warm_start=False, explained_variance=0.379, neg_mean_absolute_error=-61.212, neg_mean_squared_error=-5864.196, neg_mean_squared_log_error=-0.025, neg_median_absolute_error=-52.187, r2=0.379, total=   5.9s\n",
      "[CV] bootstrap=False, criterion=mse, max_depth=None, max_features=sqrt, min_samples_leaf=2, min_samples_split=10, min_weight_fraction_leaf=0.0, n_estimators=2000, n_jobs=-1, verbose=1, warm_start=False \n"
     ]
    },
    {
     "name": "stderr",
     "output_type": "stream",
     "text": [
      "[Parallel(n_jobs=-1)]: Using backend LokyBackend with 4 concurrent workers.\n",
      "[Parallel(n_jobs=-1)]: Done 312 tasks      | elapsed:    0.8s\n",
      "[Parallel(n_jobs=-1)]: Done 2000 out of 2000 | elapsed:    4.2s finished\n",
      "[Parallel(n_jobs=4)]: Using backend ThreadingBackend with 4 concurrent workers.\n",
      "[Parallel(n_jobs=4)]: Done  42 tasks      | elapsed:    0.0s\n",
      "[Parallel(n_jobs=4)]: Done 192 tasks      | elapsed:    0.1s\n",
      "[Parallel(n_jobs=4)]: Done 442 tasks      | elapsed:    0.1s\n",
      "[Parallel(n_jobs=4)]: Done 792 tasks      | elapsed:    0.3s\n",
      "[Parallel(n_jobs=4)]: Done 1242 tasks      | elapsed:    0.4s\n",
      "[Parallel(n_jobs=4)]: Done 1792 tasks      | elapsed:    0.6s\n",
      "[Parallel(n_jobs=4)]: Done 2000 out of 2000 | elapsed:    0.6s finished\n"
     ]
    },
    {
     "name": "stdout",
     "output_type": "stream",
     "text": [
      "[CV]  bootstrap=False, criterion=mse, max_depth=None, max_features=sqrt, min_samples_leaf=2, min_samples_split=10, min_weight_fraction_leaf=0.0, n_estimators=2000, n_jobs=-1, verbose=1, warm_start=False, explained_variance=0.444, neg_mean_absolute_error=-59.462, neg_mean_squared_error=-5816.689, neg_mean_squared_log_error=-0.067, neg_median_absolute_error=-50.336, r2=0.444, total=   6.1s\n",
      "[CV] bootstrap=False, criterion=mse, max_depth=None, max_features=sqrt, min_samples_leaf=4, min_samples_split=2, min_weight_fraction_leaf=0.0, n_estimators=200, n_jobs=-1, verbose=1, warm_start=False \n"
     ]
    },
    {
     "name": "stderr",
     "output_type": "stream",
     "text": [
      "[Parallel(n_jobs=-1)]: Using backend LokyBackend with 4 concurrent workers.\n",
      "[Parallel(n_jobs=-1)]: Done 190 tasks      | elapsed:    0.4s\n",
      "[Parallel(n_jobs=-1)]: Done 200 out of 200 | elapsed:    0.5s finished\n",
      "[Parallel(n_jobs=4)]: Using backend ThreadingBackend with 4 concurrent workers.\n",
      "[Parallel(n_jobs=4)]: Done  42 tasks      | elapsed:    0.0s\n",
      "[Parallel(n_jobs=4)]: Done 192 tasks      | elapsed:    0.1s\n",
      "[Parallel(n_jobs=4)]: Done 200 out of 200 | elapsed:    0.1s finished\n"
     ]
    },
    {
     "name": "stdout",
     "output_type": "stream",
     "text": [
      "[CV]  bootstrap=False, criterion=mse, max_depth=None, max_features=sqrt, min_samples_leaf=4, min_samples_split=2, min_weight_fraction_leaf=0.0, n_estimators=200, n_jobs=-1, verbose=1, warm_start=False, explained_variance=0.382, neg_mean_absolute_error=-61.094, neg_mean_squared_error=-5838.191, neg_mean_squared_log_error=-0.025, neg_median_absolute_error=-53.039, r2=0.382, total=   0.7s\n",
      "[CV] bootstrap=False, criterion=mse, max_depth=None, max_features=sqrt, min_samples_leaf=4, min_samples_split=2, min_weight_fraction_leaf=0.0, n_estimators=200, n_jobs=-1, verbose=1, warm_start=False \n"
     ]
    },
    {
     "name": "stderr",
     "output_type": "stream",
     "text": [
      "[Parallel(n_jobs=-1)]: Using backend LokyBackend with 4 concurrent workers.\n",
      "[Parallel(n_jobs=-1)]: Done 190 tasks      | elapsed:    0.5s\n",
      "[Parallel(n_jobs=-1)]: Done 200 out of 200 | elapsed:    0.5s finished\n",
      "[Parallel(n_jobs=4)]: Using backend ThreadingBackend with 4 concurrent workers.\n",
      "[Parallel(n_jobs=4)]: Done  42 tasks      | elapsed:    0.0s\n",
      "[Parallel(n_jobs=4)]: Done 192 tasks      | elapsed:    0.1s\n",
      "[Parallel(n_jobs=4)]: Done 200 out of 200 | elapsed:    0.1s finished\n"
     ]
    },
    {
     "name": "stdout",
     "output_type": "stream",
     "text": [
      "[CV]  bootstrap=False, criterion=mse, max_depth=None, max_features=sqrt, min_samples_leaf=4, min_samples_split=2, min_weight_fraction_leaf=0.0, n_estimators=200, n_jobs=-1, verbose=1, warm_start=False, explained_variance=0.449, neg_mean_absolute_error=-59.259, neg_mean_squared_error=-5771.439, neg_mean_squared_log_error=-0.067, neg_median_absolute_error=-49.521, r2=0.449, total=   0.7s\n",
      "[CV] bootstrap=False, criterion=mse, max_depth=None, max_features=sqrt, min_samples_leaf=4, min_samples_split=2, min_weight_fraction_leaf=0.0, n_estimators=2000, n_jobs=-1, verbose=1, warm_start=False \n"
     ]
    },
    {
     "name": "stderr",
     "output_type": "stream",
     "text": [
      "[Parallel(n_jobs=-1)]: Using backend LokyBackend with 4 concurrent workers.\n",
      "[Parallel(n_jobs=-1)]: Done 312 tasks      | elapsed:    0.8s\n",
      "[Parallel(n_jobs=-1)]: Done 2000 out of 2000 | elapsed:    3.9s finished\n",
      "[Parallel(n_jobs=4)]: Using backend ThreadingBackend with 4 concurrent workers.\n",
      "[Parallel(n_jobs=4)]: Done  42 tasks      | elapsed:    0.0s\n",
      "[Parallel(n_jobs=4)]: Done 192 tasks      | elapsed:    0.1s\n",
      "[Parallel(n_jobs=4)]: Done 442 tasks      | elapsed:    0.1s\n",
      "[Parallel(n_jobs=4)]: Done 792 tasks      | elapsed:    0.2s\n",
      "[Parallel(n_jobs=4)]: Done 1242 tasks      | elapsed:    0.4s\n",
      "[Parallel(n_jobs=4)]: Done 1792 tasks      | elapsed:    0.5s\n",
      "[Parallel(n_jobs=4)]: Done 2000 out of 2000 | elapsed:    0.6s finished\n"
     ]
    },
    {
     "name": "stdout",
     "output_type": "stream",
     "text": [
      "[CV]  bootstrap=False, criterion=mse, max_depth=None, max_features=sqrt, min_samples_leaf=4, min_samples_split=2, min_weight_fraction_leaf=0.0, n_estimators=2000, n_jobs=-1, verbose=1, warm_start=False, explained_variance=0.383, neg_mean_absolute_error=-61.057, neg_mean_squared_error=-5824.691, neg_mean_squared_log_error=-0.024, neg_median_absolute_error=-52.331, r2=0.383, total=   5.7s\n",
      "[CV] bootstrap=False, criterion=mse, max_depth=None, max_features=sqrt, min_samples_leaf=4, min_samples_split=2, min_weight_fraction_leaf=0.0, n_estimators=2000, n_jobs=-1, verbose=1, warm_start=False \n"
     ]
    },
    {
     "name": "stderr",
     "output_type": "stream",
     "text": [
      "[Parallel(n_jobs=-1)]: Using backend LokyBackend with 4 concurrent workers.\n",
      "[Parallel(n_jobs=-1)]: Done 312 tasks      | elapsed:    0.7s\n",
      "[Parallel(n_jobs=-1)]: Done 2000 out of 2000 | elapsed:    3.8s finished\n",
      "[Parallel(n_jobs=4)]: Using backend ThreadingBackend with 4 concurrent workers.\n",
      "[Parallel(n_jobs=4)]: Done  42 tasks      | elapsed:    0.0s\n",
      "[Parallel(n_jobs=4)]: Done 192 tasks      | elapsed:    0.1s\n",
      "[Parallel(n_jobs=4)]: Done 442 tasks      | elapsed:    0.1s\n",
      "[Parallel(n_jobs=4)]: Done 792 tasks      | elapsed:    0.3s\n",
      "[Parallel(n_jobs=4)]: Done 1242 tasks      | elapsed:    0.4s\n",
      "[Parallel(n_jobs=4)]: Done 1792 tasks      | elapsed:    0.6s\n",
      "[Parallel(n_jobs=4)]: Done 2000 out of 2000 | elapsed:    0.6s finished\n"
     ]
    },
    {
     "name": "stdout",
     "output_type": "stream",
     "text": [
      "[CV]  bootstrap=False, criterion=mse, max_depth=None, max_features=sqrt, min_samples_leaf=4, min_samples_split=2, min_weight_fraction_leaf=0.0, n_estimators=2000, n_jobs=-1, verbose=1, warm_start=False, explained_variance=0.448, neg_mean_absolute_error=-59.306, neg_mean_squared_error=-5778.012, neg_mean_squared_log_error=-0.067, neg_median_absolute_error=-49.697, r2=0.448, total=   5.7s\n",
      "[CV] bootstrap=False, criterion=mse, max_depth=None, max_features=sqrt, min_samples_leaf=4, min_samples_split=5, min_weight_fraction_leaf=0.0, n_estimators=200, n_jobs=-1, verbose=1, warm_start=False \n"
     ]
    },
    {
     "name": "stderr",
     "output_type": "stream",
     "text": [
      "[Parallel(n_jobs=-1)]: Using backend LokyBackend with 4 concurrent workers.\n",
      "[Parallel(n_jobs=-1)]: Done 190 tasks      | elapsed:    0.5s\n",
      "[Parallel(n_jobs=-1)]: Done 200 out of 200 | elapsed:    0.5s finished\n",
      "[Parallel(n_jobs=4)]: Using backend ThreadingBackend with 4 concurrent workers.\n",
      "[Parallel(n_jobs=4)]: Done  42 tasks      | elapsed:    0.0s\n",
      "[Parallel(n_jobs=4)]: Done 192 tasks      | elapsed:    0.1s\n",
      "[Parallel(n_jobs=4)]: Done 200 out of 200 | elapsed:    0.1s finished\n"
     ]
    },
    {
     "name": "stdout",
     "output_type": "stream",
     "text": [
      "[CV]  bootstrap=False, criterion=mse, max_depth=None, max_features=sqrt, min_samples_leaf=4, min_samples_split=5, min_weight_fraction_leaf=0.0, n_estimators=200, n_jobs=-1, verbose=1, warm_start=False, explained_variance=0.384, neg_mean_absolute_error=-61.007, neg_mean_squared_error=-5819.302, neg_mean_squared_log_error=-0.024, neg_median_absolute_error=-52.311, r2=0.384, total=   0.7s\n",
      "[CV] bootstrap=False, criterion=mse, max_depth=None, max_features=sqrt, min_samples_leaf=4, min_samples_split=5, min_weight_fraction_leaf=0.0, n_estimators=200, n_jobs=-1, verbose=1, warm_start=False \n"
     ]
    },
    {
     "name": "stderr",
     "output_type": "stream",
     "text": [
      "[Parallel(n_jobs=-1)]: Using backend LokyBackend with 4 concurrent workers.\n",
      "[Parallel(n_jobs=-1)]: Done 190 tasks      | elapsed:    0.4s\n",
      "[Parallel(n_jobs=-1)]: Done 200 out of 200 | elapsed:    0.5s finished\n",
      "[Parallel(n_jobs=4)]: Using backend ThreadingBackend with 4 concurrent workers.\n",
      "[Parallel(n_jobs=4)]: Done  42 tasks      | elapsed:    0.0s\n",
      "[Parallel(n_jobs=4)]: Done 192 tasks      | elapsed:    0.1s\n",
      "[Parallel(n_jobs=4)]: Done 200 out of 200 | elapsed:    0.1s finished\n"
     ]
    },
    {
     "name": "stdout",
     "output_type": "stream",
     "text": [
      "[CV]  bootstrap=False, criterion=mse, max_depth=None, max_features=sqrt, min_samples_leaf=4, min_samples_split=5, min_weight_fraction_leaf=0.0, n_estimators=200, n_jobs=-1, verbose=1, warm_start=False, explained_variance=0.444, neg_mean_absolute_error=-59.490, neg_mean_squared_error=-5815.409, neg_mean_squared_log_error=-0.067, neg_median_absolute_error=-49.923, r2=0.444, total=   0.7s\n",
      "[CV] bootstrap=False, criterion=mse, max_depth=None, max_features=sqrt, min_samples_leaf=4, min_samples_split=5, min_weight_fraction_leaf=0.0, n_estimators=2000, n_jobs=-1, verbose=1, warm_start=False \n"
     ]
    },
    {
     "name": "stderr",
     "output_type": "stream",
     "text": [
      "[Parallel(n_jobs=-1)]: Using backend LokyBackend with 4 concurrent workers.\n",
      "[Parallel(n_jobs=-1)]: Done 312 tasks      | elapsed:    0.8s\n",
      "[Parallel(n_jobs=-1)]: Done 2000 out of 2000 | elapsed:    3.9s finished\n",
      "[Parallel(n_jobs=4)]: Using backend ThreadingBackend with 4 concurrent workers.\n",
      "[Parallel(n_jobs=4)]: Done  42 tasks      | elapsed:    0.0s\n",
      "[Parallel(n_jobs=4)]: Done 192 tasks      | elapsed:    0.1s\n",
      "[Parallel(n_jobs=4)]: Done 442 tasks      | elapsed:    0.1s\n",
      "[Parallel(n_jobs=4)]: Done 792 tasks      | elapsed:    0.2s\n",
      "[Parallel(n_jobs=4)]: Done 1242 tasks      | elapsed:    0.4s\n",
      "[Parallel(n_jobs=4)]: Done 1792 tasks      | elapsed:    0.5s\n",
      "[Parallel(n_jobs=4)]: Done 2000 out of 2000 | elapsed:    0.6s finished\n"
     ]
    },
    {
     "name": "stdout",
     "output_type": "stream",
     "text": [
      "[CV]  bootstrap=False, criterion=mse, max_depth=None, max_features=sqrt, min_samples_leaf=4, min_samples_split=5, min_weight_fraction_leaf=0.0, n_estimators=2000, n_jobs=-1, verbose=1, warm_start=False, explained_variance=0.383, neg_mean_absolute_error=-61.074, neg_mean_squared_error=-5825.563, neg_mean_squared_log_error=-0.024, neg_median_absolute_error=-52.240, r2=0.383, total=   5.7s\n",
      "[CV] bootstrap=False, criterion=mse, max_depth=None, max_features=sqrt, min_samples_leaf=4, min_samples_split=5, min_weight_fraction_leaf=0.0, n_estimators=2000, n_jobs=-1, verbose=1, warm_start=False \n"
     ]
    },
    {
     "name": "stderr",
     "output_type": "stream",
     "text": [
      "[Parallel(n_jobs=-1)]: Using backend LokyBackend with 4 concurrent workers.\n",
      "[Parallel(n_jobs=-1)]: Done 312 tasks      | elapsed:    0.7s\n",
      "[Parallel(n_jobs=-1)]: Done 2000 out of 2000 | elapsed:    3.8s finished\n",
      "[Parallel(n_jobs=4)]: Using backend ThreadingBackend with 4 concurrent workers.\n",
      "[Parallel(n_jobs=4)]: Done  42 tasks      | elapsed:    0.0s\n",
      "[Parallel(n_jobs=4)]: Done 192 tasks      | elapsed:    0.1s\n",
      "[Parallel(n_jobs=4)]: Done 442 tasks      | elapsed:    0.1s\n",
      "[Parallel(n_jobs=4)]: Done 792 tasks      | elapsed:    0.2s\n",
      "[Parallel(n_jobs=4)]: Done 1242 tasks      | elapsed:    0.4s\n",
      "[Parallel(n_jobs=4)]: Done 1792 tasks      | elapsed:    0.5s\n",
      "[Parallel(n_jobs=4)]: Done 2000 out of 2000 | elapsed:    0.6s finished\n",
      "[Parallel(n_jobs=-1)]: Using backend LokyBackend with 4 concurrent workers.\n"
     ]
    },
    {
     "name": "stdout",
     "output_type": "stream",
     "text": [
      "[CV]  bootstrap=False, criterion=mse, max_depth=None, max_features=sqrt, min_samples_leaf=4, min_samples_split=5, min_weight_fraction_leaf=0.0, n_estimators=2000, n_jobs=-1, verbose=1, warm_start=False, explained_variance=0.448, neg_mean_absolute_error=-59.278, neg_mean_squared_error=-5782.002, neg_mean_squared_log_error=-0.067, neg_median_absolute_error=-49.821, r2=0.448, total=   5.5s\n",
      "[CV] bootstrap=False, criterion=mse, max_depth=None, max_features=sqrt, min_samples_leaf=4, min_samples_split=10, min_weight_fraction_leaf=0.0, n_estimators=200, n_jobs=-1, verbose=1, warm_start=False \n"
     ]
    },
    {
     "name": "stderr",
     "output_type": "stream",
     "text": [
      "[Parallel(n_jobs=-1)]: Done 190 tasks      | elapsed:    0.5s\n",
      "[Parallel(n_jobs=-1)]: Done 200 out of 200 | elapsed:    0.5s finished\n",
      "[Parallel(n_jobs=4)]: Using backend ThreadingBackend with 4 concurrent workers.\n",
      "[Parallel(n_jobs=4)]: Done  42 tasks      | elapsed:    0.0s\n",
      "[Parallel(n_jobs=4)]: Done 192 tasks      | elapsed:    0.1s\n",
      "[Parallel(n_jobs=4)]: Done 200 out of 200 | elapsed:    0.1s finished\n"
     ]
    },
    {
     "name": "stdout",
     "output_type": "stream",
     "text": [
      "[CV]  bootstrap=False, criterion=mse, max_depth=None, max_features=sqrt, min_samples_leaf=4, min_samples_split=10, min_weight_fraction_leaf=0.0, n_estimators=200, n_jobs=-1, verbose=1, warm_start=False, explained_variance=0.383, neg_mean_absolute_error=-61.115, neg_mean_squared_error=-5825.417, neg_mean_squared_log_error=-0.024, neg_median_absolute_error=-52.866, r2=0.383, total=   0.7s\n",
      "[CV] bootstrap=False, criterion=mse, max_depth=None, max_features=sqrt, min_samples_leaf=4, min_samples_split=10, min_weight_fraction_leaf=0.0, n_estimators=200, n_jobs=-1, verbose=1, warm_start=False \n"
     ]
    },
    {
     "name": "stderr",
     "output_type": "stream",
     "text": [
      "[Parallel(n_jobs=-1)]: Using backend LokyBackend with 4 concurrent workers.\n",
      "[Parallel(n_jobs=-1)]: Done 190 tasks      | elapsed:    0.4s\n",
      "[Parallel(n_jobs=-1)]: Done 200 out of 200 | elapsed:    0.5s finished\n",
      "[Parallel(n_jobs=4)]: Using backend ThreadingBackend with 4 concurrent workers.\n",
      "[Parallel(n_jobs=4)]: Done  42 tasks      | elapsed:    0.0s\n",
      "[Parallel(n_jobs=4)]: Done 192 tasks      | elapsed:    0.1s\n",
      "[Parallel(n_jobs=4)]: Done 200 out of 200 | elapsed:    0.1s finished\n"
     ]
    },
    {
     "name": "stdout",
     "output_type": "stream",
     "text": [
      "[CV]  bootstrap=False, criterion=mse, max_depth=None, max_features=sqrt, min_samples_leaf=4, min_samples_split=10, min_weight_fraction_leaf=0.0, n_estimators=200, n_jobs=-1, verbose=1, warm_start=False, explained_variance=0.450, neg_mean_absolute_error=-59.211, neg_mean_squared_error=-5755.747, neg_mean_squared_log_error=-0.067, neg_median_absolute_error=-49.312, r2=0.450, total=   0.7s\n",
      "[CV] bootstrap=False, criterion=mse, max_depth=None, max_features=sqrt, min_samples_leaf=4, min_samples_split=10, min_weight_fraction_leaf=0.0, n_estimators=2000, n_jobs=-1, verbose=1, warm_start=False \n"
     ]
    },
    {
     "name": "stderr",
     "output_type": "stream",
     "text": [
      "[Parallel(n_jobs=-1)]: Using backend LokyBackend with 4 concurrent workers.\n",
      "[Parallel(n_jobs=-1)]: Done 312 tasks      | elapsed:    0.7s\n",
      "[Parallel(n_jobs=-1)]: Done 2000 out of 2000 | elapsed:    3.8s finished\n",
      "[Parallel(n_jobs=4)]: Using backend ThreadingBackend with 4 concurrent workers.\n",
      "[Parallel(n_jobs=4)]: Done  42 tasks      | elapsed:    0.0s\n",
      "[Parallel(n_jobs=4)]: Done 192 tasks      | elapsed:    0.1s\n",
      "[Parallel(n_jobs=4)]: Done 442 tasks      | elapsed:    0.1s\n",
      "[Parallel(n_jobs=4)]: Done 792 tasks      | elapsed:    0.2s\n",
      "[Parallel(n_jobs=4)]: Done 1242 tasks      | elapsed:    0.4s\n",
      "[Parallel(n_jobs=4)]: Done 1792 tasks      | elapsed:    0.5s\n",
      "[Parallel(n_jobs=4)]: Done 2000 out of 2000 | elapsed:    0.6s finished\n"
     ]
    },
    {
     "name": "stdout",
     "output_type": "stream",
     "text": [
      "[CV]  bootstrap=False, criterion=mse, max_depth=None, max_features=sqrt, min_samples_leaf=4, min_samples_split=10, min_weight_fraction_leaf=0.0, n_estimators=2000, n_jobs=-1, verbose=1, warm_start=False, explained_variance=0.384, neg_mean_absolute_error=-61.075, neg_mean_squared_error=-5821.714, neg_mean_squared_log_error=-0.024, neg_median_absolute_error=-52.251, r2=0.383, total=   5.6s\n",
      "[CV] bootstrap=False, criterion=mse, max_depth=None, max_features=sqrt, min_samples_leaf=4, min_samples_split=10, min_weight_fraction_leaf=0.0, n_estimators=2000, n_jobs=-1, verbose=1, warm_start=False \n"
     ]
    },
    {
     "name": "stderr",
     "output_type": "stream",
     "text": [
      "[Parallel(n_jobs=-1)]: Using backend LokyBackend with 4 concurrent workers.\n",
      "[Parallel(n_jobs=-1)]: Done 312 tasks      | elapsed:    0.7s\n",
      "[Parallel(n_jobs=-1)]: Done 2000 out of 2000 | elapsed:    3.7s finished\n",
      "[Parallel(n_jobs=4)]: Using backend ThreadingBackend with 4 concurrent workers.\n",
      "[Parallel(n_jobs=4)]: Done  42 tasks      | elapsed:    0.0s\n",
      "[Parallel(n_jobs=4)]: Done 192 tasks      | elapsed:    0.1s\n",
      "[Parallel(n_jobs=4)]: Done 442 tasks      | elapsed:    0.1s\n",
      "[Parallel(n_jobs=4)]: Done 792 tasks      | elapsed:    0.2s\n",
      "[Parallel(n_jobs=4)]: Done 1242 tasks      | elapsed:    0.4s\n",
      "[Parallel(n_jobs=4)]: Done 1792 tasks      | elapsed:    0.5s\n",
      "[Parallel(n_jobs=4)]: Done 2000 out of 2000 | elapsed:    0.6s finished\n"
     ]
    },
    {
     "name": "stdout",
     "output_type": "stream",
     "text": [
      "[CV]  bootstrap=False, criterion=mse, max_depth=None, max_features=sqrt, min_samples_leaf=4, min_samples_split=10, min_weight_fraction_leaf=0.0, n_estimators=2000, n_jobs=-1, verbose=1, warm_start=False, explained_variance=0.450, neg_mean_absolute_error=-59.209, neg_mean_squared_error=-5762.537, neg_mean_squared_log_error=-0.067, neg_median_absolute_error=-49.910, r2=0.449, total=   5.6s\n",
      "[Parallel(n_jobs=1)]: Done 432 out of 432 | elapsed: 34.2min finished\n"
     ]
    },
    {
     "name": "stderr",
     "output_type": "stream",
     "text": [
      "[Parallel(n_jobs=-1)]: Using backend ThreadingBackend with 4 concurrent workers.\n",
      "[Parallel(n_jobs=-1)]: Done  42 tasks      | elapsed:    0.1s\n",
      "[Parallel(n_jobs=-1)]: Done 192 tasks      | elapsed:    0.3s\n",
      "[Parallel(n_jobs=-1)]: Done 442 tasks      | elapsed:    0.8s\n",
      "[Parallel(n_jobs=-1)]: Done 792 tasks      | elapsed:    1.4s\n",
      "[Parallel(n_jobs=-1)]: Done 1242 tasks      | elapsed:    2.2s\n",
      "[Parallel(n_jobs=-1)]: Done 1792 tasks      | elapsed:    3.2s\n",
      "[Parallel(n_jobs=-1)]: Done 2000 out of 2000 | elapsed:    3.5s finished\n"
     ]
    },
    {
     "data": {
      "text/plain": [
       "GridSearchCV(cv=2, estimator=RandomForestRegressor(),\n",
       "             param_grid={'bootstrap': [True, False], 'criterion': ['mse'],\n",
       "                         'max_depth': [10, 110, None],\n",
       "                         'max_features': ['auto', 'sqrt'],\n",
       "                         'min_samples_leaf': [1, 2, 4],\n",
       "                         'min_samples_split': [2, 5, 10],\n",
       "                         'min_weight_fraction_leaf': [0.0],\n",
       "                         'n_estimators': [200, 2000], 'n_jobs': [-1],\n",
       "                         'verbose': [1], 'warm_start': [False]},\n",
       "             refit='neg_mean_squared_error',\n",
       "             scoring=['explained_variance', 'neg_mean_absolute_error',\n",
       "                      'neg_mean_squared_error', 'neg_mean_squared_log_error',\n",
       "                      'neg_median_absolute_error', 'r2'],\n",
       "             verbose=100)"
      ]
     },
     "execution_count": 88,
     "metadata": {},
     "output_type": "execute_result"
    }
   ],
   "source": [
    "# Number of trees in random forest\n",
    "n_estimators = [int(x) for x in np.linspace(start = 200, stop = 2000, num = 2)]\n",
    "# Number of features to consider at every split\n",
    "max_features = ['auto', 'sqrt']\n",
    "# Maximum number of levels in tree\n",
    "max_depth = [int(x) for x in np.linspace(10, 110, num = 2)]\n",
    "max_depth.append(None)\n",
    "# Minimum number of samples required to split a node\n",
    "min_samples_split = [2, 5, 10]\n",
    "# Minimum number of samples required at each leaf node\n",
    "min_samples_leaf = [1, 2, 4]\n",
    "# Method of selecting samples for training each tree\n",
    "bootstrap = [True, False]\n",
    "\n",
    "\n",
    "AlgoML.hp_CVrandomForestRegressor[\"n_estimators\"] = n_estimators\n",
    "AlgoML.hp_CVrandomForestRegressor[\"max_features\"] = max_features\n",
    "AlgoML.hp_CVrandomForestRegressor[\"max_depth\"] = max_depth\n",
    "AlgoML.hp_CVrandomForestRegressor[\"min_samples_split\"] = min_samples_split\n",
    "AlgoML.hp_CVrandomForestRegressor[\"min_samples_leaf\"] = min_samples_leaf\n",
    "AlgoML.hp_CVrandomForestRegressor[\"bootstrap\"] = bootstrap\n",
    "\n",
    "cv = AlgoML.gridSearchCV(model=\"randomForestRegressor\")\n",
    "\n",
    "cv.fit(p6[\"x_train\"], p6[\"y_train\"])"
   ]
  },
  {
   "cell_type": "code",
   "execution_count": 95,
   "metadata": {},
   "outputs": [
    {
     "data": {
      "text/plain": [
       "RandomForestRegressor(max_depth=10, max_features='sqrt', min_samples_leaf=2,\n",
       "                      min_samples_split=10, n_estimators=2000, n_jobs=-1,\n",
       "                      verbose=1)"
      ]
     },
     "execution_count": 95,
     "metadata": {},
     "output_type": "execute_result"
    }
   ],
   "source": [
    "cv.best_estimator_"
   ]
  },
  {
   "cell_type": "code",
   "execution_count": 96,
   "metadata": {},
   "outputs": [
    {
     "data": {
      "text/plain": [
       "{'bootstrap': True,\n",
       " 'criterion': 'mse',\n",
       " 'max_depth': 10,\n",
       " 'max_features': 'sqrt',\n",
       " 'min_samples_leaf': 2,\n",
       " 'min_samples_split': 10,\n",
       " 'min_weight_fraction_leaf': 0.0,\n",
       " 'n_estimators': 2000,\n",
       " 'n_jobs': -1,\n",
       " 'verbose': 1,\n",
       " 'warm_start': False}"
      ]
     },
     "execution_count": 96,
     "metadata": {},
     "output_type": "execute_result"
    }
   ],
   "source": [
    "cv.best_params_"
   ]
  },
  {
   "cell_type": "code",
   "execution_count": 98,
   "metadata": {},
   "outputs": [
    {
     "name": "stderr",
     "output_type": "stream",
     "text": [
      "[Parallel(n_jobs=4)]: Using backend ThreadingBackend with 4 concurrent workers.\n",
      "[Parallel(n_jobs=4)]: Done  42 tasks      | elapsed:    0.0s\n",
      "[Parallel(n_jobs=4)]: Done 192 tasks      | elapsed:    0.1s\n",
      "[Parallel(n_jobs=4)]: Done 442 tasks      | elapsed:    0.1s\n",
      "[Parallel(n_jobs=4)]: Done 792 tasks      | elapsed:    0.3s\n",
      "[Parallel(n_jobs=4)]: Done 1242 tasks      | elapsed:    0.4s\n",
      "[Parallel(n_jobs=4)]: Done 1792 tasks      | elapsed:    0.6s\n",
      "[Parallel(n_jobs=4)]: Done 2000 out of 2000 | elapsed:    0.7s finished\n",
      "[Parallel(n_jobs=4)]: Using backend ThreadingBackend with 4 concurrent workers.\n",
      "[Parallel(n_jobs=4)]: Done  42 tasks      | elapsed:    0.0s\n",
      "[Parallel(n_jobs=4)]: Done 192 tasks      | elapsed:    0.1s\n",
      "[Parallel(n_jobs=4)]: Done 442 tasks      | elapsed:    0.2s\n",
      "[Parallel(n_jobs=4)]: Done 792 tasks      | elapsed:    0.3s\n",
      "[Parallel(n_jobs=4)]: Done 1242 tasks      | elapsed:    0.5s\n",
      "[Parallel(n_jobs=4)]: Done 1792 tasks      | elapsed:    0.6s\n",
      "[Parallel(n_jobs=4)]: Done 2000 out of 2000 | elapsed:    0.7s finished\n"
     ]
    },
    {
     "data": {
      "text/plain": [
       "{'mean_abs_err': 59.01747018785758,\n",
       " 'mean_sqr_err': 5638.481885750648,\n",
       " 'r_mean_sqr_err': 75.0898254475974}"
      ]
     },
     "execution_count": 98,
     "metadata": {},
     "output_type": "execute_result"
    }
   ],
   "source": [
    "y_pred_cv = cv.predict(real_data_test)\n",
    "\n",
    "Metrics.calculate_regression(p6[\"y_test\"], cv.predict(p6[\"x_test\"]))"
   ]
  },
  {
   "cell_type": "code",
   "execution_count": 99,
   "metadata": {},
   "outputs": [
    {
     "data": {
      "text/plain": [
       "RandomForestRegressor(max_depth=10, max_features='sqrt', min_samples_leaf=2,\n",
       "                      min_samples_split=10, n_estimators=2000, n_jobs=-1,\n",
       "                      verbose=1)"
      ]
     },
     "execution_count": 99,
     "metadata": {},
     "output_type": "execute_result"
    }
   ],
   "source": [
    "best_grid = cv.best_estimator_"
   ]
  },
  {
   "cell_type": "code",
   "execution_count": 108,
   "metadata": {
    "scrolled": true
   },
   "outputs": [
    {
     "name": "stderr",
     "output_type": "stream",
     "text": [
      "[Parallel(n_jobs=-1)]: Using backend ThreadingBackend with 4 concurrent workers.\n",
      "[Parallel(n_jobs=-1)]: Done  42 tasks      | elapsed:    0.1s\n",
      "[Parallel(n_jobs=-1)]: Done 192 tasks      | elapsed:    0.4s\n",
      "[Parallel(n_jobs=-1)]: Done 442 tasks      | elapsed:    0.8s\n",
      "[Parallel(n_jobs=-1)]: Done 792 tasks      | elapsed:    1.4s\n",
      "[Parallel(n_jobs=-1)]: Done 1242 tasks      | elapsed:    2.2s\n",
      "[Parallel(n_jobs=-1)]: Done 1792 tasks      | elapsed:    3.2s\n",
      "[Parallel(n_jobs=-1)]: Done 2000 out of 2000 | elapsed:    3.6s finished\n",
      "[Parallel(n_jobs=4)]: Using backend ThreadingBackend with 4 concurrent workers.\n",
      "[Parallel(n_jobs=4)]: Done  42 tasks      | elapsed:    0.0s\n",
      "[Parallel(n_jobs=4)]: Done 192 tasks      | elapsed:    0.1s\n",
      "[Parallel(n_jobs=4)]: Done 442 tasks      | elapsed:    0.1s\n",
      "[Parallel(n_jobs=4)]: Done 792 tasks      | elapsed:    0.3s\n",
      "[Parallel(n_jobs=4)]: Done 1242 tasks      | elapsed:    0.4s\n",
      "[Parallel(n_jobs=4)]: Done 1792 tasks      | elapsed:    0.6s\n",
      "[Parallel(n_jobs=4)]: Done 2000 out of 2000 | elapsed:    0.6s finished\n"
     ]
    },
    {
     "data": {
      "text/plain": [
       "{'mean_abs_err': 58.99567440657636,\n",
       " 'mean_sqr_err': 5636.361767934949,\n",
       " 'r_mean_sqr_err': 75.07570690932553}"
      ]
     },
     "execution_count": 108,
     "metadata": {},
     "output_type": "execute_result"
    }
   ],
   "source": [
    "from sklearn.ensemble import RandomForestRegressor\n",
    "\n",
    "# reg = RandomForestRegressor(best_grid)\n",
    "\n",
    "#now, everything is right for predict\n",
    "ml_2 = best_grid.fit(p6[\"x_train\"], p6[\"y_train\"])\n",
    "y_pred_2 = ml.predict(real_data_test)\n",
    "# print(f\"\"\"\n",
    "#     x-test = {p6[\"x_test\"].shape}\n",
    "#     x-train = {p6[\"x_train\"].shape}\n",
    "#     y-test = {p6[\"y_test\"].shape}\n",
    "#     y-train = {p6[\"y_train\"].shape}\n",
    "# \"\"\")\n",
    "# y_pred_2\n",
    "\n",
    "\n",
    "Metrics.calculate_regression(p6[\"y_test\"], ml_2.predict(p6[\"x_test\"]))"
   ]
  },
  {
   "cell_type": "code",
   "execution_count": null,
   "metadata": {},
   "outputs": [],
   "source": [
    "#Best configs found by cvgirdsearch\n",
    "[CV]  bootstrap=True, criterion=mse, max_depth=110, max_features=sqrt, min_samples_leaf=4, min_samples_split=2, min_weight_fraction_leaf=0.0, n_estimators=200, n_jobs=-1, verbose=1, warm_start=False, explained_variance=0.458, neg_mean_absolute_error=-58.697, neg_mean_squared_error=-5674.702, neg_mean_squared_log_error=-0.067, neg_median_absolute_error=-49.492, r2=0.458, total=   0.6s\n",
    "[CV] bootstrap=True, criterion=mse, max_depth=110, max_features=sqrt, min_samples_leaf=4, min_samples_split=2, min_weight_fraction_leaf=0.0, n_estimators=2000, n_jobs=-1, verbose=1, warm_start=False "
   ]
  },
  {
   "cell_type": "code",
   "execution_count": null,
   "metadata": {},
   "outputs": [],
   "source": [
    "#MERGE EXEMPLE\n",
    "inscribeds_column_all = _data_test[\"NU_INSCRICAO\"]\n",
    "\n",
    "inscribes_column_withoutn_null = _data_test.dropna(subset=features)\n",
    "pd.merge(inscribes_column_withoutn_null, pd.DataFrame(incribeds_column_all), how=\"outer\").shape"
   ]
  }
 ],
 "metadata": {
  "kernelspec": {
   "display_name": "Python 3",
   "language": "python",
   "name": "python3"
  },
  "language_info": {
   "codemirror_mode": {
    "name": "ipython",
    "version": 3
   },
   "file_extension": ".py",
   "mimetype": "text/x-python",
   "name": "python",
   "nbconvert_exporter": "python",
   "pygments_lexer": "ipython3",
   "version": "3.7.5"
  }
 },
 "nbformat": 4,
 "nbformat_minor": 2
}
